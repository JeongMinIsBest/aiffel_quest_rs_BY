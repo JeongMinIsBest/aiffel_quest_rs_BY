{
 "cells": [
  {
   "cell_type": "markdown",
   "metadata": {
    "id": "DgbRyN_wwXb4"
   },
   "source": [
    "# KLUE/bert-base를 이용한 NSMC 분류기 만들기"
   ]
  },
  {
   "cell_type": "markdown",
   "metadata": {
    "id": "A-JLt60lwXb5"
   },
   "source": [
    "## 라이브러리 설치 및 버전 확인"
   ]
  },
  {
   "cell_type": "code",
   "execution_count": 1,
   "metadata": {
    "colab": {
     "base_uri": "https://localhost:8080/"
    },
    "id": "kbDSNOZswXb6",
    "outputId": "a6bef3d6-2324-4d09-e3c9-9107b789b4ec"
   },
   "outputs": [
    {
     "name": "stdout",
     "output_type": "stream",
     "text": [
      "Collecting datasets\n",
      "  Downloading datasets-4.1.0-py3-none-any.whl.metadata (18 kB)\n",
      "Collecting transformers\n",
      "  Downloading transformers-4.56.1-py3-none-any.whl.metadata (42 kB)\n",
      "Requirement already satisfied: torch in /opt/conda/lib/python3.12/site-packages (2.7.1+cu118)\n",
      "Collecting evaluate\n",
      "  Downloading evaluate-0.4.5-py3-none-any.whl.metadata (9.5 kB)\n",
      "Collecting accelerate\n",
      "  Downloading accelerate-1.10.1-py3-none-any.whl.metadata (19 kB)\n",
      "Requirement already satisfied: filelock in /opt/conda/lib/python3.12/site-packages (from datasets) (3.13.1)\n",
      "Requirement already satisfied: numpy>=1.17 in /opt/conda/lib/python3.12/site-packages (from datasets) (2.2.6)\n",
      "Collecting pyarrow>=21.0.0 (from datasets)\n",
      "  Downloading pyarrow-21.0.0-cp312-cp312-manylinux_2_28_x86_64.whl.metadata (3.3 kB)\n",
      "Requirement already satisfied: dill<0.4.1,>=0.3.0 in /opt/conda/lib/python3.12/site-packages (from datasets) (0.4.0)\n",
      "Requirement already satisfied: pandas in /opt/conda/lib/python3.12/site-packages (from datasets) (2.3.0)\n",
      "Requirement already satisfied: requests>=2.32.2 in /opt/conda/lib/python3.12/site-packages (from datasets) (2.32.4)\n",
      "Requirement already satisfied: tqdm>=4.66.3 in /opt/conda/lib/python3.12/site-packages (from datasets) (4.67.1)\n",
      "Collecting xxhash (from datasets)\n",
      "  Downloading xxhash-3.5.0-cp312-cp312-manylinux_2_17_x86_64.manylinux2014_x86_64.whl.metadata (12 kB)\n",
      "Collecting multiprocess<0.70.17 (from datasets)\n",
      "  Downloading multiprocess-0.70.16-py312-none-any.whl.metadata (7.2 kB)\n",
      "Requirement already satisfied: fsspec<=2025.9.0,>=2023.1.0 in /opt/conda/lib/python3.12/site-packages (from fsspec[http]<=2025.9.0,>=2023.1.0->datasets) (2025.5.1)\n",
      "Collecting huggingface-hub>=0.24.0 (from datasets)\n",
      "  Downloading huggingface_hub-0.35.0-py3-none-any.whl.metadata (14 kB)\n",
      "Requirement already satisfied: packaging in /opt/conda/lib/python3.12/site-packages (from datasets) (25.0)\n",
      "Requirement already satisfied: pyyaml>=5.1 in /opt/conda/lib/python3.12/site-packages (from datasets) (6.0.2)\n",
      "Collecting aiohttp!=4.0.0a0,!=4.0.0a1 (from fsspec[http]<=2025.9.0,>=2023.1.0->datasets)\n",
      "  Downloading aiohttp-3.12.15-cp312-cp312-manylinux_2_17_x86_64.manylinux2014_x86_64.whl.metadata (7.7 kB)\n",
      "Collecting regex!=2019.12.17 (from transformers)\n",
      "  Downloading regex-2025.9.1-cp312-cp312-manylinux2014_x86_64.manylinux_2_17_x86_64.manylinux_2_28_x86_64.whl.metadata (40 kB)\n",
      "Collecting tokenizers<=0.23.0,>=0.22.0 (from transformers)\n",
      "  Downloading tokenizers-0.22.0-cp39-abi3-manylinux_2_17_x86_64.manylinux2014_x86_64.whl.metadata (6.8 kB)\n",
      "Collecting safetensors>=0.4.3 (from transformers)\n",
      "  Downloading safetensors-0.6.2-cp38-abi3-manylinux_2_17_x86_64.manylinux2014_x86_64.whl.metadata (4.1 kB)\n",
      "Requirement already satisfied: typing-extensions>=3.7.4.3 in /opt/conda/lib/python3.12/site-packages (from huggingface-hub>=0.24.0->datasets) (4.14.0)\n",
      "Collecting hf-xet<2.0.0,>=1.1.3 (from huggingface-hub>=0.24.0->datasets)\n",
      "  Downloading hf_xet-1.1.10-cp37-abi3-manylinux_2_17_x86_64.manylinux2014_x86_64.whl.metadata (4.7 kB)\n",
      "Requirement already satisfied: setuptools in /opt/conda/lib/python3.12/site-packages (from torch) (80.9.0)\n",
      "Requirement already satisfied: sympy>=1.13.3 in /opt/conda/lib/python3.12/site-packages (from torch) (1.14.0)\n",
      "Requirement already satisfied: networkx in /opt/conda/lib/python3.12/site-packages (from torch) (3.5)\n",
      "Requirement already satisfied: jinja2 in /opt/conda/lib/python3.12/site-packages (from torch) (3.1.6)\n",
      "Requirement already satisfied: nvidia-cuda-nvrtc-cu11==11.8.89 in /opt/conda/lib/python3.12/site-packages (from torch) (11.8.89)\n",
      "Requirement already satisfied: nvidia-cuda-runtime-cu11==11.8.89 in /opt/conda/lib/python3.12/site-packages (from torch) (11.8.89)\n",
      "Requirement already satisfied: nvidia-cuda-cupti-cu11==11.8.87 in /opt/conda/lib/python3.12/site-packages (from torch) (11.8.87)\n",
      "Requirement already satisfied: nvidia-cudnn-cu11==9.1.0.70 in /opt/conda/lib/python3.12/site-packages (from torch) (9.1.0.70)\n",
      "Requirement already satisfied: nvidia-cublas-cu11==11.11.3.6 in /opt/conda/lib/python3.12/site-packages (from torch) (11.11.3.6)\n",
      "Requirement already satisfied: nvidia-cufft-cu11==10.9.0.58 in /opt/conda/lib/python3.12/site-packages (from torch) (10.9.0.58)\n",
      "Requirement already satisfied: nvidia-curand-cu11==10.3.0.86 in /opt/conda/lib/python3.12/site-packages (from torch) (10.3.0.86)\n",
      "Requirement already satisfied: nvidia-cusolver-cu11==11.4.1.48 in /opt/conda/lib/python3.12/site-packages (from torch) (11.4.1.48)\n",
      "Requirement already satisfied: nvidia-cusparse-cu11==11.7.5.86 in /opt/conda/lib/python3.12/site-packages (from torch) (11.7.5.86)\n",
      "Requirement already satisfied: nvidia-nccl-cu11==2.21.5 in /opt/conda/lib/python3.12/site-packages (from torch) (2.21.5)\n",
      "Requirement already satisfied: nvidia-nvtx-cu11==11.8.86 in /opt/conda/lib/python3.12/site-packages (from torch) (11.8.86)\n",
      "Requirement already satisfied: triton==3.3.1 in /opt/conda/lib/python3.12/site-packages (from torch) (3.3.1)\n",
      "Requirement already satisfied: psutil in /opt/conda/lib/python3.12/site-packages (from accelerate) (7.0.0)\n",
      "Collecting aiohappyeyeballs>=2.5.0 (from aiohttp!=4.0.0a0,!=4.0.0a1->fsspec[http]<=2025.9.0,>=2023.1.0->datasets)\n",
      "  Downloading aiohappyeyeballs-2.6.1-py3-none-any.whl.metadata (5.9 kB)\n",
      "Collecting aiosignal>=1.4.0 (from aiohttp!=4.0.0a0,!=4.0.0a1->fsspec[http]<=2025.9.0,>=2023.1.0->datasets)\n",
      "  Downloading aiosignal-1.4.0-py3-none-any.whl.metadata (3.7 kB)\n",
      "Requirement already satisfied: attrs>=17.3.0 in /opt/conda/lib/python3.12/site-packages (from aiohttp!=4.0.0a0,!=4.0.0a1->fsspec[http]<=2025.9.0,>=2023.1.0->datasets) (25.3.0)\n",
      "Collecting frozenlist>=1.1.1 (from aiohttp!=4.0.0a0,!=4.0.0a1->fsspec[http]<=2025.9.0,>=2023.1.0->datasets)\n",
      "  Downloading frozenlist-1.7.0-cp312-cp312-manylinux_2_5_x86_64.manylinux1_x86_64.manylinux_2_17_x86_64.manylinux2014_x86_64.whl.metadata (18 kB)\n",
      "Collecting multidict<7.0,>=4.5 (from aiohttp!=4.0.0a0,!=4.0.0a1->fsspec[http]<=2025.9.0,>=2023.1.0->datasets)\n",
      "  Downloading multidict-6.6.4-cp312-cp312-manylinux2014_x86_64.manylinux_2_17_x86_64.manylinux_2_28_x86_64.whl.metadata (5.3 kB)\n",
      "Collecting propcache>=0.2.0 (from aiohttp!=4.0.0a0,!=4.0.0a1->fsspec[http]<=2025.9.0,>=2023.1.0->datasets)\n",
      "  Downloading propcache-0.3.2-cp312-cp312-manylinux_2_17_x86_64.manylinux2014_x86_64.whl.metadata (12 kB)\n",
      "Collecting yarl<2.0,>=1.17.0 (from aiohttp!=4.0.0a0,!=4.0.0a1->fsspec[http]<=2025.9.0,>=2023.1.0->datasets)\n",
      "  Downloading yarl-1.20.1-cp312-cp312-manylinux_2_17_x86_64.manylinux2014_x86_64.whl.metadata (73 kB)\n",
      "Requirement already satisfied: idna>=2.0 in /opt/conda/lib/python3.12/site-packages (from yarl<2.0,>=1.17.0->aiohttp!=4.0.0a0,!=4.0.0a1->fsspec[http]<=2025.9.0,>=2023.1.0->datasets) (3.10)\n",
      "Requirement already satisfied: charset_normalizer<4,>=2 in /opt/conda/lib/python3.12/site-packages (from requests>=2.32.2->datasets) (3.4.2)\n",
      "Requirement already satisfied: urllib3<3,>=1.21.1 in /opt/conda/lib/python3.12/site-packages (from requests>=2.32.2->datasets) (2.4.0)\n",
      "Requirement already satisfied: certifi>=2017.4.17 in /opt/conda/lib/python3.12/site-packages (from requests>=2.32.2->datasets) (2025.6.15)\n",
      "Requirement already satisfied: mpmath<1.4,>=1.1.0 in /opt/conda/lib/python3.12/site-packages (from sympy>=1.13.3->torch) (1.3.0)\n",
      "Requirement already satisfied: MarkupSafe>=2.0 in /opt/conda/lib/python3.12/site-packages (from jinja2->torch) (3.0.2)\n",
      "Requirement already satisfied: python-dateutil>=2.8.2 in /opt/conda/lib/python3.12/site-packages (from pandas->datasets) (2.9.0.post0)\n",
      "Requirement already satisfied: pytz>=2020.1 in /opt/conda/lib/python3.12/site-packages (from pandas->datasets) (2025.2)\n",
      "Requirement already satisfied: tzdata>=2022.7 in /opt/conda/lib/python3.12/site-packages (from pandas->datasets) (2025.2)\n",
      "Requirement already satisfied: six>=1.5 in /opt/conda/lib/python3.12/site-packages (from python-dateutil>=2.8.2->pandas->datasets) (1.17.0)\n",
      "Downloading datasets-4.1.0-py3-none-any.whl (503 kB)\n",
      "Downloading multiprocess-0.70.16-py312-none-any.whl (146 kB)\n",
      "Downloading transformers-4.56.1-py3-none-any.whl (11.6 MB)\n",
      "\u001b[2K   \u001b[90m━━━━━━━━━━━━━━━━━━━━━━━━━━━━━━━━━━━━━━━━\u001b[0m \u001b[32m11.6/11.6 MB\u001b[0m \u001b[31m32.2 MB/s\u001b[0m eta \u001b[36m0:00:00\u001b[0m00:01\u001b[0m\n",
      "\u001b[?25hDownloading huggingface_hub-0.35.0-py3-none-any.whl (563 kB)\n",
      "\u001b[2K   \u001b[90m━━━━━━━━━━━━━━━━━━━━━━━━━━━━━━━━━━━━━━━\u001b[0m \u001b[32m563.4/563.4 kB\u001b[0m \u001b[31m243.1 kB/s\u001b[0m eta \u001b[36m0:00:00\u001b[0ma \u001b[36m0:00:01\u001b[0m\n",
      "\u001b[?25hDownloading hf_xet-1.1.10-cp37-abi3-manylinux_2_17_x86_64.manylinux2014_x86_64.whl (3.2 MB)\n",
      "\u001b[2K   \u001b[90m━━━━━━━━━━━━━━━━━━━━━━━━━━━━━━━━━━━━━━━━\u001b[0m \u001b[32m3.2/3.2 MB\u001b[0m \u001b[31m47.2 MB/s\u001b[0m eta \u001b[36m0:00:00\u001b[0m\n",
      "\u001b[?25hDownloading tokenizers-0.22.0-cp39-abi3-manylinux_2_17_x86_64.manylinux2014_x86_64.whl (3.3 MB)\n",
      "\u001b[2K   \u001b[90m━━━━━━━━━━━━━━━━━━━━━━━━━━━━━━━━━━━━━━━━\u001b[0m \u001b[32m3.3/3.3 MB\u001b[0m \u001b[31m69.0 MB/s\u001b[0m eta \u001b[36m0:00:00\u001b[0m\n",
      "\u001b[?25hDownloading evaluate-0.4.5-py3-none-any.whl (84 kB)\n",
      "Downloading accelerate-1.10.1-py3-none-any.whl (374 kB)\n",
      "Downloading aiohttp-3.12.15-cp312-cp312-manylinux_2_17_x86_64.manylinux2014_x86_64.whl (1.7 MB)\n",
      "\u001b[2K   \u001b[90m━━━━━━━━━━━━━━━━━━━━━━━━━━━━━━━━━━━━━━━━\u001b[0m \u001b[32m1.7/1.7 MB\u001b[0m \u001b[31m80.5 MB/s\u001b[0m eta \u001b[36m0:00:00\u001b[0m\n",
      "\u001b[?25hDownloading multidict-6.6.4-cp312-cp312-manylinux2014_x86_64.manylinux_2_17_x86_64.manylinux_2_28_x86_64.whl (256 kB)\n",
      "Downloading yarl-1.20.1-cp312-cp312-manylinux_2_17_x86_64.manylinux2014_x86_64.whl (355 kB)\n",
      "Downloading aiohappyeyeballs-2.6.1-py3-none-any.whl (15 kB)\n",
      "Downloading aiosignal-1.4.0-py3-none-any.whl (7.5 kB)\n",
      "Downloading frozenlist-1.7.0-cp312-cp312-manylinux_2_5_x86_64.manylinux1_x86_64.manylinux_2_17_x86_64.manylinux2014_x86_64.whl (241 kB)\n",
      "Downloading propcache-0.3.2-cp312-cp312-manylinux_2_17_x86_64.manylinux2014_x86_64.whl (224 kB)\n",
      "Downloading pyarrow-21.0.0-cp312-cp312-manylinux_2_28_x86_64.whl (42.8 MB)\n",
      "\u001b[2K   \u001b[90m━━━━━━━━━━━━━━━━━━━━━━━━━━━━━━━━━━━━━━━━\u001b[0m \u001b[32m42.8/42.8 MB\u001b[0m \u001b[31m60.4 MB/s\u001b[0m eta \u001b[36m0:00:00\u001b[0m00:01\u001b[0m00:01\u001b[0m\n",
      "\u001b[?25hDownloading regex-2025.9.1-cp312-cp312-manylinux2014_x86_64.manylinux_2_17_x86_64.manylinux_2_28_x86_64.whl (801 kB)\n",
      "\u001b[2K   \u001b[90m━━━━━━━━━━━━━━━━━━━━━━━━━━━━━━━━━━━━━━━━\u001b[0m \u001b[32m802.0/802.0 kB\u001b[0m \u001b[31m46.4 MB/s\u001b[0m eta \u001b[36m0:00:00\u001b[0m\n",
      "\u001b[?25hDownloading safetensors-0.6.2-cp38-abi3-manylinux_2_17_x86_64.manylinux2014_x86_64.whl (485 kB)\n",
      "Downloading xxhash-3.5.0-cp312-cp312-manylinux_2_17_x86_64.manylinux2014_x86_64.whl (194 kB)\n",
      "Installing collected packages: xxhash, safetensors, regex, pyarrow, propcache, multiprocess, multidict, hf-xet, frozenlist, aiohappyeyeballs, yarl, huggingface-hub, aiosignal, tokenizers, aiohttp, accelerate, transformers, datasets, evaluate\n",
      "\u001b[2K  Attempting uninstall: pyarrow━━━━━━━━━━━━━━━━━━━━━━━━━━━━━━━━━━━\u001b[0m \u001b[32m 2/19\u001b[0m [regex]\n",
      "\u001b[2K    Found existing installation: pyarrow 20.0.0━━━━━━━━━━━━━━━\u001b[0m \u001b[32m 2/19\u001b[0m [regex]\n",
      "\u001b[2K    Uninstalling pyarrow-20.0.0:━━━━━━━━━━━━━━━━━━━━━━━━━━━━━━\u001b[0m \u001b[32m 2/19\u001b[0m [regex]\n",
      "\u001b[2K      Successfully uninstalled pyarrow-20.0.0━━━━━━━━━━━━━━━━━━━━━\u001b[0m \u001b[32m 3/19\u001b[0m [pyarrow]\n",
      "\u001b[2K   \u001b[90m━━━━━━━━━━━━━━━━━━━━━━━━━━━━━━━━━━━━━━━━\u001b[0m \u001b[32m19/19\u001b[0m [evaluate]/19\u001b[0m [datasets]ers]ub]\n",
      "\u001b[1A\u001b[2KSuccessfully installed accelerate-1.10.1 aiohappyeyeballs-2.6.1 aiohttp-3.12.15 aiosignal-1.4.0 datasets-4.1.0 evaluate-0.4.5 frozenlist-1.7.0 hf-xet-1.1.10 huggingface-hub-0.35.0 multidict-6.6.4 multiprocess-0.70.16 propcache-0.3.2 pyarrow-21.0.0 regex-2025.9.1 safetensors-0.6.2 tokenizers-0.22.0 transformers-4.56.1 xxhash-3.5.0 yarl-1.20.1\n",
      "datasets version: 4.1.0\n",
      "transformers version: 4.56.1\n",
      "torch version: 2.7.1+cu118\n"
     ]
    }
   ],
   "source": [
    "!pip install datasets transformers torch evaluate accelerate\n",
    "import datasets\n",
    "import transformers\n",
    "import torch\n",
    "\n",
    "print(f\"datasets version: {datasets.__version__}\")\n",
    "print(f\"transformers version: {transformers.__version__}\")\n",
    "print(f\"torch version: {torch.__version__}\")"
   ]
  },
  {
   "cell_type": "markdown",
   "metadata": {
    "id": "NxTmfz8HwXb6"
   },
   "source": [
    "## STEP 1. NSMC 데이터 분석 및 Huggingface dataset 구성\n",
    "\n",
    "Naver Sentiment Movie Corpus (NSMC)는 네이버 영화 리뷰를 수집하여 만든 한국어 감성 분류 데이터셋입니다.\n",
    "`datasets` 라이브러리를 사용하여 간편하게 로드하고, 데이터의 구조와 내용을 확인."
   ]
  },
  {
   "cell_type": "code",
   "execution_count": 2,
   "metadata": {
    "colab": {
     "base_uri": "https://localhost:8080/"
    },
    "id": "YXe0_bMdwXb7",
    "outputId": "5402aee2-1b6d-43df-f9ab-7536c8c77dcf"
   },
   "outputs": [
    {
     "data": {
      "application/vnd.jupyter.widget-view+json": {
       "model_id": "1d70df2551c343ce9d31aa8f60725464",
       "version_major": 2,
       "version_minor": 0
      },
      "text/plain": [
       "README.md:   0%|          | 0.00/34.0 [00:00<?, ?B/s]"
      ]
     },
     "metadata": {},
     "output_type": "display_data"
    },
    {
     "name": "stderr",
     "output_type": "stream",
     "text": [
      "Repo card metadata block was not found. Setting CardData to empty.\n"
     ]
    },
    {
     "data": {
      "application/vnd.jupyter.widget-view+json": {
       "model_id": "0864d29a1dc943aa973b4d98a5623694",
       "version_major": 2,
       "version_minor": 0
      },
      "text/plain": [
       "ratings_train.csv:   0%|          | 0.00/15.7M [00:00<?, ?B/s]"
      ]
     },
     "metadata": {},
     "output_type": "display_data"
    },
    {
     "data": {
      "application/vnd.jupyter.widget-view+json": {
       "model_id": "5eee1b9596b24da6800b4339f91ee719",
       "version_major": 2,
       "version_minor": 0
      },
      "text/plain": [
       "ratings_test.csv: 0.00B [00:00, ?B/s]"
      ]
     },
     "metadata": {},
     "output_type": "display_data"
    },
    {
     "data": {
      "application/vnd.jupyter.widget-view+json": {
       "model_id": "7bce6160ffb64ca3a8f8b2012e71ff16",
       "version_major": 2,
       "version_minor": 0
      },
      "text/plain": [
       "Generating train split: 0 examples [00:00, ? examples/s]"
      ]
     },
     "metadata": {},
     "output_type": "display_data"
    },
    {
     "data": {
      "application/vnd.jupyter.widget-view+json": {
       "model_id": "9fcc3086ae3444d8ac830db647055d40",
       "version_major": 2,
       "version_minor": 0
      },
      "text/plain": [
       "Generating test split: 0 examples [00:00, ? examples/s]"
      ]
     },
     "metadata": {},
     "output_type": "display_data"
    },
    {
     "name": "stdout",
     "output_type": "stream",
     "text": [
      "데이터셋 구조:\n",
      "DatasetDict({\n",
      "    train: Dataset({\n",
      "        features: ['Unnamed: 0', 'id', 'document', 'label'],\n",
      "        num_rows: 150000\n",
      "    })\n",
      "    test: Dataset({\n",
      "        features: ['Unnamed: 0', 'id', 'document', 'label'],\n",
      "        num_rows: 50000\n",
      "    })\n",
      "})\n",
      "학습 데이터 샘플:\n",
      "{'Unnamed: 0': 0, 'id': 9976970, 'document': '아 더빙.. 진짜 짜증나네요 목소리', 'label': 0}\n"
     ]
    }
   ],
   "source": [
    "from datasets import load_dataset\n",
    "\n",
    "# Huggingface datasets에서 nsmc 데이터셋 로드\n",
    "# nsmc_dataset = load_dataset('nsmc') # Deprecated\n",
    "# nsmc_dataset = load_dataset('e9t/nsmc') # Not available\n",
    "nsmc_dataset = load_dataset('blpeng/nsmc')\n",
    "\n",
    "print(\"데이터셋 구조:\")\n",
    "print(nsmc_dataset)\n",
    "\n",
    "print(\"학습 데이터 샘플:\")\n",
    "print(nsmc_dataset['train'][0])"
   ]
  },
  {
   "cell_type": "code",
   "execution_count": 3,
   "metadata": {
    "colab": {
     "base_uri": "https://localhost:8080/",
     "height": 1000
    },
    "id": "nHdZfWOawXb7",
    "outputId": "9e50ddad-dfa0-43c9-e3df-07d77dee5b5a"
   },
   "outputs": [
    {
     "name": "stdout",
     "output_type": "stream",
     "text": [
      "--- 데이터셋 기본 정보 ---\n",
      "학습 데이터 개수: 150000\n",
      "테스트 데이터 개수: 50000\n",
      "--- 결측치 확인 ---\n",
      "학습 데이터 결측치:\n",
      "Unnamed: 0    0\n",
      "id            0\n",
      "document      5\n",
      "label         0\n",
      "dtype: int64\n"
     ]
    },
    {
     "data": {
      "image/png": "[encoded data removed]",
      "text/plain": [
       "<Figure size 1200x500 with 1 Axes>"
      ]
     },
     "metadata": {},
     "output_type": "display_data"
    },
    {
     "data": {
      "image/png": "[encoded data removed]",
      "text/plain": [
       "<Figure size 600x400 with 1 Axes>"
      ]
     },
     "metadata": {},
     "output_type": "display_data"
    },
    {
     "name": "stdout",
     "output_type": "stream",
     "text": [
      "--- 레이블 분포 ---\n",
      "label\n",
      "0    75173\n",
      "1    74827\n",
      "Name: count, dtype: int64\n"
     ]
    }
   ],
   "source": [
    "import matplotlib.pyplot as plt\n",
    "import numpy as np\n",
    "\n",
    "# 데이터셋을 pandas DataFrame으로 변환하여 분석하기 쉽게 만듭니다.\n",
    "train_df = nsmc_dataset['train'].to_pandas()\n",
    "test_df = nsmc_dataset['test'].to_pandas()\n",
    "\n",
    "print(\"--- 데이터셋 기본 정보 ---\")\n",
    "print(f\"학습 데이터 개수: {len(train_df)}\")\n",
    "print(f\"테스트 데이터 개수: {len(test_df)}\")\n",
    "\n",
    "# 1. 결측치 확인\n",
    "print(\"--- 결측치 확인 ---\")\n",
    "print(\"학습 데이터 결측치:\")\n",
    "print(train_df.isnull().sum())\n",
    "\n",
    "\n",
    "# 2. 리뷰 길이 분포 확인\n",
    "# 공백을 기준으로 단어 수를 계산하고, None 값은 0으로 처리\n",
    "train_lengths = train_df['document'].astype(str).apply(lambda x: len(x.split()))\n",
    "\n",
    "plt.figure(figsize=(12, 5))\n",
    "plt.hist(train_lengths, bins=50, alpha=0.7, color='blue')\n",
    "plt.title('Histogram of Review Lengths (by words)')\n",
    "plt.xlabel('Number of Words')\n",
    "plt.ylabel('Frequency')\n",
    "plt.xlim(0, 100) # 대부분의 길이를 보기 위해 x축 제한\n",
    "# max_length=128에 해당하는 선을 그려서 얼마나 많은 데이터가 잘리는지 확인\n",
    "# (여기서는 단어 기준이므로 토큰 기준인 128과 직접 비교는 어렵지만 경향성을 파악)\n",
    "plt.axvline(x=40, color='red', linestyle='--', label='Approx. 128 tokens')\n",
    "plt.legend()\n",
    "plt.show()\n",
    "\n",
    "\n",
    "# 3. 레이블 분포 확인\n",
    "label_counts = train_df['label'].value_counts()\n",
    "\n",
    "plt.figure(figsize=(6, 4))\n",
    "plt.bar(label_counts.index, label_counts.values, color=['red', 'green'])\n",
    "plt.title('Label Distribution (0: Negative, 1: Positive)')\n",
    "plt.xlabel('Label')\n",
    "plt.ylabel('Count')\n",
    "plt.xticks(label_counts.index, ['Negative (0)', 'Positive (1)'])\n",
    "plt.show()\n",
    "\n",
    "print(\"--- 레이블 분포 ---\")\n",
    "print(label_counts)"
   ]
  },
  {
   "cell_type": "markdown",
   "metadata": {
    "id": "6__p5rQhwXb7"
   },
   "source": [
    "### [설명] 모델과 토크나이저란?\n",
    "\n",
    "**1. 모델 (Model)**\n",
    "- **정의**: 모델은 특정 과업(Task)을 수행하기 위해 설계된 인공신경망 아키텍처와 학습된 가중치(weights)의 조합입니다.\n",
    "- **사전 학습된 모델 (Pre-trained Model)**: `klue/bert-base`와 같이, 아주 큰 데이터셋(예: 위키피디아, 뉴스 기사)으로 미리 학습된 모델을 의미. 이 모델은 언어 자체에 대한 깊은 이해(문법, 문맥, 의미)를 이미 갖추고 있습니다.\n",
    "- **`AutoModelForSequenceClassification`**: Hugging Face의 클래스 중 하나로, 문장 분류(Sequence Classification) 과업에 맞게 사전 학습된 BERT 모델의 몸통 위에 분류를 위한 작은 신경망(Classification Head)을 추가한 형태입니다. 우리는 이 모델을 NSMC 데이터셋(긍정/부정 분류)에 맞게 약간만 더 학습(미세 조정, Fine-tuning)시켜 사용할 것입니다.\n",
    "\n",
    "**2. 토크나이저 (Tokenizer)**\n",
    "- **정의**: 자연어(우리가 쓰는 글자)를 모델이 이해할 수 있는 숫자들의 배열(Sequence of numbers)로 변환해주는 도구입니다.\n",
    "- **역할**:\n",
    "    1. **토큰화 (Tokenization)**: 문장을 의미 있는 단위(토큰, Token)로 자릅니다. `klue/bert-base`의 토크나이저는 한국어의 특성을 고려하여 형태소 분석 등을 통해 토큰화를 수행. (예: `'나는 영화를 봤다' -> ['나', '는', '영화', '를', '보', '았다']`)\n",
    "    2. **정수 인코딩 (Integer Encoding)**: 각 토큰을 고유한 정수(ID)로 변환. 토크나이저는 어떤 단어가 어떤 숫자에 해당하는지에 대한 정보(Vocabulary)를 가지고 있습니다.\n",
    "    3. **특수 토큰 추가**: 모델이 문장의 시작과 끝을 알 수 있도록 `[CLS]`, `[SEP]` 같은 특수 토큰을 추가.\n",
    "    4. **어텐션 마스크 생성**: 모델이 길이를 맞추기 위해 추가된 의미 없는 패딩(Padding) 토큰을 구분하여, 실제 단어에만 집중(Attention)하도록 알려주는 `attention_mask`를 생성.\n",
    "\n",
    "> **결론적으로, 토크나이저는 사람의 언어를 기계의 언어로 번역해주는 번역가, 모델은 그 번역된 언어를 읽고 문제를 푸는 전문가라고 비유할 수 있습니다.**"
   ]
  },
  {
   "cell_type": "markdown",
   "metadata": {
    "id": "4dtB-ag2wXb7"
   },
   "source": [
    "## STEP 2. klue/bert-base model 및 tokenizer 불러오기\n",
    "\n",
    "KLUE 프로젝트에서 제공하는 `klue/bert-base` 모델과 토크나이저를 로드. 이 모델은 대규모 한국어 텍스트로 사전 학습되어 한국어 문맥을 잘 이해."
   ]
  },
  {
   "cell_type": "code",
   "execution_count": 4,
   "metadata": {
    "colab": {
     "base_uri": "https://localhost:8080/"
    },
    "id": "OsRkgk-TwXb7",
    "outputId": "4efa34b5-8b26-46a0-85e2-9601978e54f1"
   },
   "outputs": [
    {
     "data": {
      "application/vnd.jupyter.widget-view+json": {
       "model_id": "38f00644b73248dcbc1c64c6a2a40789",
       "version_major": 2,
       "version_minor": 0
      },
      "text/plain": [
       "tokenizer_config.json:   0%|          | 0.00/289 [00:00<?, ?B/s]"
      ]
     },
     "metadata": {},
     "output_type": "display_data"
    },
    {
     "data": {
      "application/vnd.jupyter.widget-view+json": {
       "model_id": "7302e61594174248808e71c129be55d9",
       "version_major": 2,
       "version_minor": 0
      },
      "text/plain": [
       "config.json:   0%|          | 0.00/425 [00:00<?, ?B/s]"
      ]
     },
     "metadata": {},
     "output_type": "display_data"
    },
    {
     "data": {
      "application/vnd.jupyter.widget-view+json": {
       "model_id": "762cad81cccf47319e6300c4e42d90b1",
       "version_major": 2,
       "version_minor": 0
      },
      "text/plain": [
       "vocab.txt: 0.00B [00:00, ?B/s]"
      ]
     },
     "metadata": {},
     "output_type": "display_data"
    },
    {
     "data": {
      "application/vnd.jupyter.widget-view+json": {
       "model_id": "152cbf123b6f4e6d8d7218534c210047",
       "version_major": 2,
       "version_minor": 0
      },
      "text/plain": [
       "tokenizer.json: 0.00B [00:00, ?B/s]"
      ]
     },
     "metadata": {},
     "output_type": "display_data"
    },
    {
     "data": {
      "application/vnd.jupyter.widget-view+json": {
       "model_id": "f856df1d597249b79d8639c2b6959a7b",
       "version_major": 2,
       "version_minor": 0
      },
      "text/plain": [
       "special_tokens_map.json:   0%|          | 0.00/125 [00:00<?, ?B/s]"
      ]
     },
     "metadata": {},
     "output_type": "display_data"
    },
    {
     "data": {
      "application/vnd.jupyter.widget-view+json": {
       "model_id": "82397b11c31f4c669d97fa3c854b5d67",
       "version_major": 2,
       "version_minor": 0
      },
      "text/plain": [
       "model.safetensors:   0%|          | 0.00/445M [00:00<?, ?B/s]"
      ]
     },
     "metadata": {},
     "output_type": "display_data"
    },
    {
     "name": "stderr",
     "output_type": "stream",
     "text": [
      "Some weights of BertForSequenceClassification were not initialized from the model checkpoint at klue/bert-base and are newly initialized: ['classifier.bias', 'classifier.weight']\n",
      "You should probably TRAIN this model on a down-stream task to be able to use it for predictions and inference.\n"
     ]
    },
    {
     "name": "stdout",
     "output_type": "stream",
     "text": [
      "Tokenizer loaded: BertTokenizerFast(name_or_path='klue/bert-base', vocab_size=32000, model_max_length=512, is_fast=True, padding_side='right', truncation_side='right', special_tokens={'unk_token': '[UNK]', 'sep_token': '[SEP]', 'pad_token': '[PAD]', 'cls_token': '[CLS]', 'mask_token': '[MASK]'}, clean_up_tokenization_spaces=False, added_tokens_decoder={\n",
      "\t0: AddedToken(\"[PAD]\", rstrip=False, lstrip=False, single_word=False, normalized=False, special=True),\n",
      "\t1: AddedToken(\"[UNK]\", rstrip=False, lstrip=False, single_word=False, normalized=False, special=True),\n",
      "\t2: AddedToken(\"[CLS]\", rstrip=False, lstrip=False, single_word=False, normalized=False, special=True),\n",
      "\t3: AddedToken(\"[SEP]\", rstrip=False, lstrip=False, single_word=False, normalized=False, special=True),\n",
      "\t4: AddedToken(\"[MASK]\", rstrip=False, lstrip=False, single_word=False, normalized=False, special=True),\n",
      "}\n",
      ")\n",
      "Model loaded: bert\n"
     ]
    }
   ],
   "source": [
    "from transformers import AutoTokenizer, AutoModelForSequenceClassification\n",
    "\n",
    "# 사용할 사전 학습된 모델의 이름 (Hugging Face Hub에 등록된 이름)\n",
    "model_name = 'klue/bert-base'\n",
    "\n",
    "# AutoTokenizer: model_name에 맞는 토크나이저를 자동으로 로드.\n",
    "# from_pretrained(): 사전 학습된 토크나이저의 설정(어휘 사전 등)을 다운로드.\n",
    "tokenizer = AutoTokenizer.from_pretrained(model_name)\n",
    "\n",
    "# AutoModelForSequenceClassification: 문장 분류 과업을 위한 모델 아키텍처를 로드.\n",
    "# num_labels=2: 최종 출력층의 뉴런 수를 2개(긍정, 부정)로 설정.\n",
    "model = AutoModelForSequenceClassification.from_pretrained(model_name, num_labels=2)\n",
    "\n",
    "print(\"Tokenizer loaded:\", tokenizer)\n",
    "print(\"Model loaded:\", model.config.model_type)"
   ]
  },
  {
   "cell_type": "markdown",
   "metadata": {
    "id": "XOFyQH5wwXb7"
   },
   "source": [
    "### Trainer API의 역할\n",
    "\n",
    "`Trainer`는 Hugging Face `transformers` 라이브러리에서 제공하는 도구로, PyTorch 모델의 학습 및 평가 과정을 단순화 시켜줌. `Trainer`를 사용하지 않는다면 직접 구현해야 할 복잡한 코드들을 추상화하여 대신 처리\n",
    "\n",
    "**`Trainer`가 자동화하는 것들:**\n",
    "1. **학습 루프 (Training Loop)**: `for epoch in epochs: for batch in dataloader: ...` 와 같은 반복적인 학습 코드 전체를 자동화.\n",
    "    - 데이터 로더에서 배치를 가져오고, GPU/CPU로 데이터를 옮김.\n",
    "    - 모델의 순전파(forward pass)를 실행하고 손실(loss)을 계산.\n",
    "    - 역전파(backward pass)를 통해 그래디언트를 계산.\n",
    "    - 옵티마이저(optimizer)를 사용하여 모델의 가중치를 업데이트.\n",
    "\n",
    "2. **평가 루프 (Evaluation Loop)**: 학습 중간 또는 학습이 끝난 후, 평가 데이터셋으로 모델의 성능을 측정하는 과정을 자동화.\n",
    "\n",
    "3. **로깅 (Logging)**: 학습 과정 중의 손실(loss), 정확도(accuracy), 학습률(learning rate) 등의 지표를 기록하고 TensorBoard와 같은 시각화 도구와 연동.\n",
    "\n",
    "4. **체크포인트 저장 및 관리**: 가장 성능이 좋았던 모델이나 특정 주기마다 모델의 상태를 저장하여, 학습이 중단되더라도 이어서 할 수 있게 하거나 최적의 모델을 보존 가능.\n",
    "\n",
    "5. **분산 학습 지원**: 여러 GPU를 사용한 학습(Data Parallelism, Distributed Training)을 쉽게 설정 가능.\n",
    "\n",
    "**주요 구성 요소:**\n",
    "- `model`: 학습시킬 모델.\n",
    "- `args` (`TrainingArguments`): 학습에 관한 모든 설정을 담고 있는 객체 (epoch, batch size, learning rate, 저장 경로 등).\n",
    "- `train_dataset` / `eval_dataset`: 학습 및 평가에 사용할 데이터셋.\n",
    "- `compute_metrics`: 평가 시 성능 지표(예: 정확도)를 계산할 함수.\n",
    "- `data_collator`: 배치(batch)를 동적으로 구성하는 방법을 정의하는 객체.\n",
    "\n",
    "> **`Trainer`는 복잡하고 반복적인 학습 엔지니어링 코드를 직접 짤 필요 없이, 연구와 실험 자체에만 집중할 수 있도록 도와주는 API.**"
   ]
  },
  {
   "cell_type": "markdown",
   "metadata": {
    "id": "1IkbuqsPwXb7"
   },
   "source": [
    "## STEP 3. tokenizer으로 데이터셋 전처리 및 모델 학습\n",
    "\n",
    "로드한 토크나이저를 사용하여 NSMC 데이터셋의 텍스트를 모델이 이해할 수 있는 숫자 형태(input_ids, attention_mask 등)로 변환.\n",
    "그 후 `Trainer` API를 사용하여 기본적인 학습을 진행."
   ]
  },
  {
   "cell_type": "code",
   "execution_count": 5,
   "metadata": {
    "colab": {
     "base_uri": "https://localhost:8080/",
     "height": 430,
     "referenced_widgets": [
      "9930cb42460e4462a6e954aa8b5f5c89",
      "dad35c17f8d946c2af3084b68b089a59",
      "471c2673f547463f90c51c489aa8db4e",
      "0b7b1c63f4454f00bbf0395b67f5a5e9",
      "49b0d5ac00ab46568f41ee3356f3193a",
      "1aef1a73ec6f4d3580f86d2f57fb1aec",
      "15b7b8aa9172463d9f28568de42d9fa7",
      "3c2d27030d4642e1b0998a29ffb0c81a",
      "22ea165d8e7f4b4baaa4989f19529fde",
      "54755c111d434e2da6d8cab9a1f028bf",
      "e9c318c03a1c47beb19734ffef29540f",
      "bbf38d09dae547e586d4b9d892b12111",
      "8fc501f0ca6848ce9f2d2bafa755a008",
      "404f909664ae47b984bd17b196a76af3",
      "12ad6deb4e9043bfbdb2e5309055b159",
      "e5a243eb7006440b9aecebeaba91c4f1",
      "ad6a2e62d60f447fb26dcc7f607ddd21",
      "3791b2dc74be48699639598be3facba6",
      "32692e11042748da821a4a316f91a5d8",
      "ffb5a09fd0dd43a2a14dcf78ce4ab5cf",
      "ed140531b31a46a0876bba3bd336556c",
      "b81674282bef4670bba6f24cffb0f37e"
     ]
    },
    "id": "PmqNoE3swXb7",
    "outputId": "cd6b0ead-7687-42f0-caa8-8f505d81c03e"
   },
   "outputs": [
    {
     "data": {
      "application/vnd.jupyter.widget-view+json": {
       "model_id": "d5e183d2e96543799b493e206664d498",
       "version_major": 2,
       "version_minor": 0
      },
      "text/plain": [
       "Map:   0%|          | 0/150000 [00:00<?, ? examples/s]"
      ]
     },
     "metadata": {},
     "output_type": "display_data"
    },
    {
     "data": {
      "application/vnd.jupyter.widget-view+json": {
       "model_id": "619ff0ddcc0a49daa532b819fd882cd4",
       "version_major": 2,
       "version_minor": 0
      },
      "text/plain": [
       "Map:   0%|          | 0/50000 [00:00<?, ? examples/s]"
      ]
     },
     "metadata": {},
     "output_type": "display_data"
    },
    {
     "data": {
      "text/html": [
       "\n",
       "    <div>\n",
       "      \n",
       "      <progress value='315' max='315' style='width:300px; height:20px; vertical-align: middle;'></progress>\n",
       "      [315/315 01:57, Epoch 5/5]\n",
       "    </div>\n",
       "    <table border=\"1\" class=\"dataframe\">\n",
       "  <thead>\n",
       " <tr style=\"text-align: left;\">\n",
       "      <th>Step</th>\n",
       "      <th>Training Loss</th>\n",
       "    </tr>\n",
       "  </thead>\n",
       "  <tbody>\n",
       "    <tr>\n",
       "      <td>100</td>\n",
       "      <td>0.398000</td>\n",
       "    </tr>\n",
       "    <tr>\n",
       "      <td>200</td>\n",
       "      <td>0.106500</td>\n",
       "    </tr>\n",
       "    <tr>\n",
       "      <td>300</td>\n",
       "      <td>0.025700</td>\n",
       "    </tr>\n",
       "  </tbody>\n",
       "</table><p>"
      ],
      "text/plain": [
       "<IPython.core.display.HTML object>"
      ]
     },
     "metadata": {},
     "output_type": "display_data"
    },
    {
     "data": {
      "text/plain": [
       "TrainOutput(global_step=315, training_loss=0.16846338394615384, metrics={'train_runtime': 118.3065, 'train_samples_per_second': 42.263, 'train_steps_per_second': 2.663, 'total_flos': 328888819200000.0, 'train_loss': 0.16846338394615384, 'epoch': 5.0})"
      ]
     },
     "execution_count": 5,
     "metadata": {},
     "output_type": "execute_result"
    }
   ],
   "source": [
    "# 토크나이징 함수 정의\n",
    "def preprocess_function(examples):\n",
    "    # NSMC 데이터셋의 'document' 컬럼에 None 값이 포함되어 있을 수 있습니다.\n",
    "    # tokenizer는 None 값을 처리할 수 없으므로, 이를 빈 문자열('')로 대체해줍니다.\n",
    "    texts = [str(doc) if doc is not None else '' for doc in examples['document']]\n",
    "\n",
    "    # tokenizer로 텍스트를 토큰화.\n",
    "    return tokenizer(texts, truncation=True, padding='max_length', max_length=128)\n",
    "\n",
    "# 데이터셋 전체에 토크나이징 함수를 적용 (batched=True로 속도 향상)\n",
    "tokenized_nsmc = nsmc_dataset.map(preprocess_function, batched=True)\n",
    "\n",
    "from transformers import TrainingArguments, Trainer\n",
    "\n",
    "# Trainer에 전달할 학습 관련 인자 설정\n",
    "training_args = TrainingArguments(\n",
    "    output_dir='./results',          # 모델 체크포인트 등 결과물 저장 디렉토리\n",
    "    num_train_epochs=5,              # 학습 에폭\n",
    "    per_device_train_batch_size=16,  # 장치당 학습 배치 크기\n",
    "    per_device_eval_batch_size=16,   # 장치당 평가 배치 크기\n",
    "    logging_dir='./logs',            # 로그 저장 디렉토리\n",
    "    logging_steps=100,               # 로그 기록 주기\n",
    "    eval_steps=100                   # 100 step마다 평가 수행\n",
    ")\n",
    "\n",
    "# Trainer 객체 생성\n",
    "trainer = Trainer(\n",
    "    model=model,                     # 학습시킬 모델\n",
    "    args=training_args,              # 학습 인자\n",
    "    train_dataset=tokenized_nsmc['train'].shuffle(seed=42).select(range(1000)), # 테스트용 훈련 데이터셋\n",
    "    eval_dataset=tokenized_nsmc['test'].shuffle(seed=42).select(range(500))    # 테스트용 평가 데이터셋\n",
    ")\n",
    "\n",
    "# 모델 학습 시작\n",
    "trainer.train()"
   ]
  },
  {
   "cell_type": "code",
   "execution_count": 6,
   "metadata": {
    "colab": {
     "base_uri": "https://localhost:8080/",
     "height": 446
    },
    "id": "YVqh35puwXb8",
    "outputId": "8696090f-99f7-4b35-ea64-06cfeff86df1"
   },
   "outputs": [
    {
     "name": "stdout",
     "output_type": "stream",
     "text": [
      "--- 모델 평가 시작 ---\n"
     ]
    },
    {
     "data": {
      "text/html": [],
      "text/plain": [
       "<IPython.core.display.HTML object>"
      ]
     },
     "metadata": {},
     "output_type": "display_data"
    },
    {
     "name": "stdout",
     "output_type": "stream",
     "text": [
      "Evaluation Loss: 1.0224\n",
      "Manually Calculated Accuracy: 0.8180\n",
      "--- 예측 샘플 (상위 5개) ---\n",
      "리뷰: how boring!\n",
      "  -> 예측: 긍정 (값: 1)\n",
      "  -> 실제: 부정 (값: 0)\n",
      "--------------------\n",
      "리뷰: 최고의 영화....!\n",
      "  -> 예측: 긍정 (값: 1)\n",
      "  -> 실제: 긍정 (값: 1)\n",
      "--------------------\n",
      "리뷰: 정우성배우 너무 섹시하고 시간가는줄 모르고 몰입해서봤다!배우들의 엄청난 연기력! 탄탄한 스토리와 액션 너무 재미있다\n",
      "  -> 예측: 긍정 (값: 1)\n",
      "  -> 실제: 긍정 (값: 1)\n",
      "--------------------\n",
      "리뷰: 곁에있는 파랑새는 보지못하고 사랑과 자유를 바라면서 스스로 새장으로 들어가다\n",
      "  -> 예측: 긍정 (값: 1)\n",
      "  -> 실제: 긍정 (값: 1)\n",
      "--------------------\n",
      "리뷰: 진부한 설정들과 억지감동. 조폭도 지 애미는 끔찍히 생각하면 그것도 인간적인거냐?\n",
      "  -> 예측: 부정 (값: 0)\n",
      "  -> 실제: 부정 (값: 0)\n",
      "--------------------\n"
     ]
    }
   ],
   "source": [
    "print(\"--- 모델 평가 시작 ---\")\n",
    "\n",
    "# 1. Trainer.evaluate()를 사용한 평가\n",
    "# compute_metrics가 없으므로 기본적으로 loss만 계산됩니다.\n",
    "eval_results = trainer.evaluate()\n",
    "print(f\"Evaluation Loss: {eval_results['eval_loss']:.4f}\")\n",
    "\n",
    "# 2. 평가 데이터셋에 대한 예측 수행 및 정확도 직접 계산\n",
    "predictions_output = trainer.predict(trainer.eval_dataset)\n",
    "\n",
    "# 예측 결과에서 logits(모델의 원시 출력)와 실제 레이블을 가져옵니다.\n",
    "logits = predictions_output.predictions\n",
    "label_ids = predictions_output.label_ids\n",
    "\n",
    "# 가장 높은 logit 값을 가진 클래스를 최종 예측으로 선택.\n",
    "preds = np.argmax(logits, axis=-1)\n",
    "\n",
    "# 정확도를 계산. (예측이 실제와 같은 비율)\n",
    "accuracy = (preds == label_ids).mean()\n",
    "\n",
    "print(f\"Manually Calculated Accuracy: {accuracy:.4f}\")\n",
    "\n",
    "\n",
    "# 3. 예측 결과 샘플 확인\n",
    "print(\"--- 예측 샘플 (상위 5개) ---\")\n",
    "for i in range(5):\n",
    "    original_text = trainer.eval_dataset['document'][i]\n",
    "    predicted_label = preds[i]\n",
    "    actual_label = label_ids[i]\n",
    "\n",
    "    print(f\"리뷰: {original_text}\")\n",
    "    print(f\"  -> 예측: {'긍정' if predicted_label == 1 else '부정'} (값: {predicted_label})\")\n",
    "    print(f\"  -> 실제: {'긍정' if actual_label == 1 else '부정'} (값: {actual_label})\")\n",
    "    print(\"-\" * 20)"
   ]
  },
  {
   "cell_type": "markdown",
   "metadata": {
    "id": "cwBW5AyBwXb8"
   },
   "source": [
    "### 모델 학습 개발 과정에 대한 추가 학습\n",
    "\n",
    "#### 1. 스모크 테스트 (Smoke Test)\n",
    "\n",
    "- 실제 전체 데이터셋으로 학습을 시작하기 전에, 아주 작은 데이터 샘플(예: 1,000개)을 사용하여 전체 학습 파이프라인이 오류 없이 동작하는지 빠르게 확인하는 과정.\n",
    "- 현업에서 매우 표준적으로 사용되는 효율적인 개발 기법 -> 아무래도 다 돈이니..\n",
    "\n",
    "##### 스모크 테스트의 장점\n",
    "\n",
    "- **빠른 오류 확인**: 전체 학습에는 몇 시간 이상이 소요될 수 있지만, 스모크 테스트는 수 분내에 완료 가능. 데이터 로딩, 전처리, 모델 순전파 등 과정에서 발생할 수 있는 버그를 조기에 발견하여 개발 사이클을 단축시킬 수 있음\n",
    "- **자원 효율성**: 본격적인 학습에 사용될 비싼 GPU 자원을 절약할 수 있습니다. 코드가 안정적이라는 확신이 들었을 때만 전체 학습을 시작하여 불필요한 비용 낭비를 막음. (이부분이 기업에서 좋아할 포인트겠네요. LMS는 한달에 인프라 비용이 얼마나 나오는지 궁금)\n",
    "\n",
    "#### 2. Hugging Face `Trainer`의 Learning Rate 스케줄러\n",
    "\n",
    "`TrainingArguments`에서 `learning_rate`를 특정 값(예: `5e-5`)으로만 설정하더라도, `Trainer`는 학습 내내 해당 값을 고정하여 사용하지 않음. 내부적으로 선형 스케쥴러 기본값으로 설정 되어있음.\n",
    "\n",
    "##### `Trainer`의 기본 동작\n",
    "\n",
    "- **기본 스케줄러**: `Trainer`는 `lr_scheduler_type` 인자의 기본값으로 **`\"linear\"`(선형 스케줄러)**를 사용\n",
    "- **동작 방식**: 학습이 시작될 때 설정된 `learning_rate` 값에서 출발하여, 학습 스텝이 진행됨에 따라 학습률이 선형적으로 감소하여 마지막에는 0으로 수렴\n",
    "- **효과**: 이러한 방식은 학습 초기에 비교적 큰 학습률로 빠르게 최적점에 근접하고, 학습 후반부에는 학습률을 줄여 세밀하게 최적점을 찾아가도록 돕는 역할. 이는 Transformer 모델의 fine-tuning에서 매우 효과적이라고 알려져 있음.\n",
    "\n",
    "##### 스케줄러 변경 방법\n",
    "\n",
    "만약 다른 스케줄러(예: Cosine Annealing)를 사용하고 싶다면, `TrainingArguments`에 `lr_scheduler_type` 인자를 명시적으로 추가하여 변경.\n",
    "\n",
    "```python\n",
    "# 예시: 코사인 스케줄러를 사용하고 싶을 경우\n",
    "training_args = TrainingArguments(\n",
    "    ...\n",
    "    lr_scheduler_type=\"cosine\",\n",
    "    ...\n",
    ")\n",
    "```\n",
    "\n",
    "#### 3. 선형(Linear) vs 코사인(Cosine) 스케줄러\n",
    "\n",
    "Fine-tuning 시 어떤 스케줄러가 더 좋을지는 데이터와 모델 특성에 따라 다르며, \"언제나 더 좋은\" 스케줄러는 없겠지...\n",
    "\n",
    "##### 선형 스케줄러 (Linear Scheduler)\n",
    "- **특징**: 학습률이 직선적으로 일정하게 감소\n",
    "- **장점**:\n",
    "    - **'근본'이자 '표준'**: BERT 원 논문에서 사용된 방식이며, 수많은 연구에서 안정적으로 좋은 성능을 내는 것이 검증.\n",
    "    - **강력한 베이스라인**: Hugging Face `Trainer`의 기본값이며, 대부분의 경우 이것만으로도 충분히 좋은 결과를 얻을 수 있음.\n",
    "\n",
    "##### 코사인 스케줄러 (Cosine Scheduler)\n",
    "- **특징**: 학습률이 코사인 함수 모양으로 부드럽게 감소합니다. (초반과 후반에는 천천히, 중간에는 빠르게 감소)\n",
    "- **장점**:\n",
    "    - **안정적인 수렴**: 학습 마지막에 학습률이 천천히 줄어들어, 모델이 최적점에서 벗어나지 않고 안정적으로 수렴하도록 돕는다는 이론적 장점이 있습니다.\n",
    "    - **성능 개선 가능성**: 일부 연구에서는 선형 스케줄러보다 일반화 성능이 약간 더 좋게 나오는 경우가 보고되기도 합니다.\n",
    "\n",
    "##### 실용적인 접근법\n",
    "1. **시작은 `linear`로**: 먼저 기본값인 선형 스케줄러로 실험해서 베이스라인 성능을 확보\n",
    "2. **성능 개선이 필요할 때 `cosine` 시도**: 베이스라인 성능을 얻은 후, 모델의 성능을 0.1%라도 더 개선해야 하는 상황일 때 코사인 스케줄러를 시도해보고 성능 향상이 있는지 비교 해보기"
   ]
  },
  {
   "cell_type": "markdown",
   "metadata": {
    "id": "95D1EMI0wXb8"
   },
   "source": [
    "## STEP 4. Fine-tuning으로 모델 성능 향상\n",
    "\n",
    "기본 학습으로는 90% 이상의 정확도를 달성하기 어려울 수 있습니다. `TrainingArguments`의 하이퍼파라미터(learning rate, batch size, epochs 등)를 조정하고, `compute_metrics` 함수를 추가하여 평가 시 정확도를 모니터링하며 성능을 향상시킵니다."
   ]
  },
  {
   "cell_type": "code",
   "execution_count": 7,
   "metadata": {
    "colab": {
     "base_uri": "https://localhost:8080/",
     "height": 568
    },
    "id": "qaXP5O6bwXb8",
    "outputId": "7545e43d-f8bc-4409-f8f0-477dc60bde03"
   },
   "outputs": [
    {
     "data": {
      "application/vnd.jupyter.widget-view+json": {
       "model_id": "5cddd067dd7b49b7984997f79142bda0",
       "version_major": 2,
       "version_minor": 0
      },
      "text/plain": [
       "Downloading builder script: 0.00B [00:00, ?B/s]"
      ]
     },
     "metadata": {},
     "output_type": "display_data"
    },
    {
     "data": {
      "text/html": [
       "\n",
       "    <div>\n",
       "      \n",
       "      <progress value='14064' max='14064' style='width:300px; height:20px; vertical-align: middle;'></progress>\n",
       "      [14064/14064 3:56:21, Epoch 3/3]\n",
       "    </div>\n",
       "    <table border=\"1\" class=\"dataframe\">\n",
       "  <thead>\n",
       " <tr style=\"text-align: left;\">\n",
       "      <th>Step</th>\n",
       "      <th>Training Loss</th>\n",
       "      <th>Validation Loss</th>\n",
       "      <th>Accuracy</th>\n",
       "    </tr>\n",
       "  </thead>\n",
       "  <tbody>\n",
       "    <tr>\n",
       "      <td>1000</td>\n",
       "      <td>0.299800</td>\n",
       "      <td>0.314830</td>\n",
       "      <td>0.876260</td>\n",
       "    </tr>\n",
       "    <tr>\n",
       "      <td>2000</td>\n",
       "      <td>0.285500</td>\n",
       "      <td>0.272803</td>\n",
       "      <td>0.885220</td>\n",
       "    </tr>\n",
       "    <tr>\n",
       "      <td>3000</td>\n",
       "      <td>0.267700</td>\n",
       "      <td>0.275491</td>\n",
       "      <td>0.885420</td>\n",
       "    </tr>\n",
       "    <tr>\n",
       "      <td>4000</td>\n",
       "      <td>0.259800</td>\n",
       "      <td>0.265302</td>\n",
       "      <td>0.899320</td>\n",
       "    </tr>\n",
       "    <tr>\n",
       "      <td>5000</td>\n",
       "      <td>0.202100</td>\n",
       "      <td>0.269253</td>\n",
       "      <td>0.900040</td>\n",
       "    </tr>\n",
       "    <tr>\n",
       "      <td>6000</td>\n",
       "      <td>0.170100</td>\n",
       "      <td>0.311137</td>\n",
       "      <td>0.899380</td>\n",
       "    </tr>\n",
       "    <tr>\n",
       "      <td>7000</td>\n",
       "      <td>0.180600</td>\n",
       "      <td>0.283590</td>\n",
       "      <td>0.902140</td>\n",
       "    </tr>\n",
       "    <tr>\n",
       "      <td>8000</td>\n",
       "      <td>0.167000</td>\n",
       "      <td>0.280449</td>\n",
       "      <td>0.900000</td>\n",
       "    </tr>\n",
       "    <tr>\n",
       "      <td>9000</td>\n",
       "      <td>0.175300</td>\n",
       "      <td>0.247902</td>\n",
       "      <td>0.904480</td>\n",
       "    </tr>\n",
       "    <tr>\n",
       "      <td>10000</td>\n",
       "      <td>0.101300</td>\n",
       "      <td>0.354372</td>\n",
       "      <td>0.903400</td>\n",
       "    </tr>\n",
       "    <tr>\n",
       "      <td>11000</td>\n",
       "      <td>0.096000</td>\n",
       "      <td>0.359541</td>\n",
       "      <td>0.905260</td>\n",
       "    </tr>\n",
       "    <tr>\n",
       "      <td>12000</td>\n",
       "      <td>0.105500</td>\n",
       "      <td>0.326709</td>\n",
       "      <td>0.903340</td>\n",
       "    </tr>\n",
       "    <tr>\n",
       "      <td>13000</td>\n",
       "      <td>0.094900</td>\n",
       "      <td>0.356296</td>\n",
       "      <td>0.904200</td>\n",
       "    </tr>\n",
       "    <tr>\n",
       "      <td>14000</td>\n",
       "      <td>0.092100</td>\n",
       "      <td>0.360610</td>\n",
       "      <td>0.905080</td>\n",
       "    </tr>\n",
       "  </tbody>\n",
       "</table><p>"
      ],
      "text/plain": [
       "<IPython.core.display.HTML object>"
      ]
     },
     "metadata": {},
     "output_type": "display_data"
    },
    {
     "data": {
      "text/plain": [
       "TrainOutput(global_step=14064, training_loss=0.1827741537552509, metrics={'train_runtime': 14182.4228, 'train_samples_per_second': 31.729, 'train_steps_per_second': 0.992, 'total_flos': 2.9599993728e+16, 'train_loss': 0.1827741537552509, 'epoch': 3.0})"
      ]
     },
     "execution_count": 7,
     "metadata": {},
     "output_type": "execute_result"
    }
   ],
   "source": [
    "import numpy as np\n",
    "import evaluate\n",
    "\n",
    "# 평가 지표로 'accuracy'를 로드.\n",
    "metric = evaluate.load(\"accuracy\")\n",
    "\n",
    "# 평가 시 호출될 함수를 정의.\n",
    "def compute_metrics(eval_pred):\n",
    "    logits, labels = eval_pred\n",
    "    predictions = np.argmax(logits, axis=-1)\n",
    "    return metric.compute(predictions=predictions, references=labels)\n",
    "\n",
    "# 성능 향상을 위한 TrainingArguments 수정\n",
    "fine_tuning_args = TrainingArguments(\n",
    "    output_dir='./results_finetuned',\n",
    "    eval_strategy=\"steps\",\n",
    "    num_train_epochs=3,\n",
    "    per_device_train_batch_size=32,\n",
    "    learning_rate=5e-5,\n",
    "    weight_decay=0.01,\n",
    "    logging_dir='./logs_finetuned',\n",
    "    logging_steps=500,\n",
    "    eval_steps=1000,                   # 1000 스텝마다 평가\n",
    "    save_steps=1000,\n",
    "    load_best_model_at_end=False\n",
    ")\n",
    "\n",
    "trainer_finetuned = Trainer(\n",
    "    model=model,\n",
    "    args=fine_tuning_args,\n",
    "    train_dataset=tokenized_nsmc['train'],\n",
    "    eval_dataset=tokenized_nsmc['test'],\n",
    "    compute_metrics=compute_metrics\n",
    ")\n",
    "\n",
    "# Fine-tuning 시작\n",
    "trainer_finetuned.train()"
   ]
  },
  {
   "cell_type": "code",
   "execution_count": 8,
   "metadata": {
    "colab": {
     "base_uri": "https://localhost:8080/",
     "height": 1000
    },
    "id": "8x1MqJzmwXb8",
    "outputId": "e748e2e9-032d-4a9d-d091-16eda339c2c0"
   },
   "outputs": [
    {
     "data": {
      "text/html": [],
      "text/plain": [
       "<IPython.core.display.HTML object>"
      ]
     },
     "metadata": {},
     "output_type": "display_data"
    },
    {
     "name": "stdout",
     "output_type": "stream",
     "text": [
      "--- 최종 평가 결과 ---\n",
      "test_loss: 0.3602\n",
      "test_accuracy: 0.9051\n",
      "test_runtime: 361.52\n",
      "test_samples_per_second: 138.31\n",
      "test_steps_per_second: 17.29\n",
      "--- 예측 결과 샘플 확인 (랜덤 10개) ---\n",
      "리뷰: 모든 편견을 날려 버리는 가슴 따뜻한 영화. 로버트 드 니로, 필립 세이모어 호프만 영원하라.\n",
      "  -> 예측: 긍정 (값: 1)\n",
      "  -> 실제: 긍정 (값: 1)\n",
      "  -> 결과: 정답\n",
      "--------------------\n",
      "리뷰: 무한 리메이크의 소재. 감독의 역량은 항상 그 자리에...\n",
      "  -> 예측: 부정 (값: 0)\n",
      "  -> 실제: 부정 (값: 0)\n",
      "  -> 결과: 정답\n",
      "--------------------\n",
      "리뷰: 신날 것 없는 애니.\n",
      "  -> 예측: 부정 (값: 0)\n",
      "  -> 실제: 부정 (값: 0)\n",
      "  -> 결과: 정답\n",
      "--------------------\n",
      "리뷰: 잔잔 격동\n",
      "  -> 예측: 긍정 (값: 1)\n",
      "  -> 실제: 긍정 (값: 1)\n",
      "  -> 결과: 정답\n",
      "--------------------\n",
      "리뷰: 오랜만에 찾은 주말의 명화의 보석\n",
      "  -> 예측: 긍정 (값: 1)\n",
      "  -> 실제: 긍정 (값: 1)\n",
      "  -> 결과: 정답\n",
      "--------------------\n",
      "리뷰: 영화공사중 도로를 보았는데 에어컨을.. 정말 더웠다.하지만 더글라스오빠연기 압권\n",
      "  -> 예측: 긍정 (값: 1)\n",
      "  -> 실제: 긍정 (값: 1)\n",
      "  -> 결과: 정답\n",
      "--------------------\n",
      "리뷰: 재밌다. 유쾌한 노랫소리. 주인공들의 코믹한 연기. 굿굿\n",
      "  -> 예측: 긍정 (값: 1)\n",
      "  -> 실제: 긍정 (값: 1)\n",
      "  -> 결과: 정답\n",
      "--------------------\n",
      "리뷰: 음.. 괜찮네요. 생각보다 좋았어요\n",
      "  -> 예측: 긍정 (값: 1)\n",
      "  -> 실제: 긍정 (값: 1)\n",
      "  -> 결과: 정답\n",
      "--------------------\n",
      "리뷰: \"21세기 \"\"레니 할린, 작품은 \"\"마인트헌터, 뿐인가!? 연출이 tv판 수준!\"\n",
      "  -> 예측: 부정 (값: 0)\n",
      "  -> 실제: 부정 (값: 0)\n",
      "  -> 결과: 정답\n",
      "--------------------\n",
      "리뷰: 이걸 영화관에서 보다니 감동이었고 관객이 다들 혼자온 덕후들이라 더욱 감개무량했던 순간이었습니다. 바트 넘 멋져부러\n",
      "  -> 예측: 긍정 (값: 1)\n",
      "  -> 실제: 긍정 (값: 1)\n",
      "  -> 결과: 정답\n",
      "--------------------\n"
     ]
    }
   ],
   "source": [
    "import numpy as np\n",
    "\n",
    "# 1. predict()를 한번만 호출하여 예측 결과와 성능 지표를 모두 가져옴\n",
    "predictions_output = trainer_finetuned.predict(trainer_finetuned.eval_dataset)\n",
    "\n",
    "# 2. 전체 성능 지표 확인 (predict 결과에 포함된 metrics 사용)\n",
    "print(\"--- 최종 평가 결과 ---\")\n",
    "# predictions_output.metrics 딕셔너리에 결과가 들어있습니다.\n",
    "final_eval_results = predictions_output.metrics\n",
    "for key, value in final_eval_results.items():\n",
    "    if isinstance(value, float) and value > 1:\n",
    "        print(f\"{key}: {value:.2f}\")\n",
    "    else:\n",
    "        print(f\"{key}: {value:.4f}\")\n",
    "\n",
    "# 3. 일부 샘플에 대한 예측 결과 직접 확인\n",
    "print(\"--- 예측 결과 샘플 확인 (랜덤 10개) ---\")\n",
    "preds = np.argmax(predictions_output.predictions, axis=-1)\n",
    "labels = predictions_output.label_ids\n",
    "\n",
    "# 전체 평가 데이터셋에서 랜덤하게 10개의 인덱스를 선택\n",
    "num_samples_to_check = 10\n",
    "random_indices = np.random.choice(len(trainer_finetuned.eval_dataset), num_samples_to_check, replace=False)\n",
    "\n",
    "for idx in random_indices:\n",
    "    py_idx = int(idx)\n",
    "    original_text = trainer_finetuned.eval_dataset[py_idx]['document']\n",
    "    predicted_label = preds[idx]\n",
    "    actual_label = labels[idx]\n",
    "\n",
    "    print(f\"리뷰: {original_text}\")\n",
    "    print(f\"  -> 예측: {'긍정' if predicted_label == 1 else '부정'} (값: {predicted_label})\")\n",
    "    print(f\"  -> 실제: {'긍정' if actual_label == 1 else '부정'} (값: {actual_label})\")\n",
    "    print(f\"  -> 결과: {'정답' if predicted_label == actual_label else '오답'}\")\n",
    "    print(\"-\" * 20)\n"
   ]
  },
  {
   "cell_type": "code",
   "execution_count": 9,
   "metadata": {
    "colab": {
     "base_uri": "https://localhost:8080/",
     "height": 654
    },
    "id": "92vbBT1iwXb8",
    "outputId": "162dbce3-a24a-43d5-acb6-8ea557a48f3c"
   },
   "outputs": [
    {
     "data": {
      "image/png": "[encoded data removed]",
      "text/plain": [
       "<Figure size 1200x800 with 2 Axes>"
      ]
     },
     "metadata": {},
     "output_type": "display_data"
    }
   ],
   "source": [
    "import matplotlib.pyplot as plt\n",
    "\n",
    "# 1. Trainer의 log_history에서 기록을 추출\n",
    "log_history = trainer_finetuned.state.log_history\n",
    "\n",
    "# 2. 기록을 종류별(학습, 평가)로 분리\n",
    "# 'loss' 키만 있는 로그를 학습 로그로, 'eval_loss'가 있는 로그를 평가 로그로 분리\n",
    "train_logs = [log for log in log_history if 'loss' in log and 'eval_loss' not in log]\n",
    "eval_logs = [log for log in log_history if 'eval_loss' in log]\n",
    "\n",
    "# 3. 그래프를 그리기 위한 데이터를 준비\n",
    "train_steps = [log['step'] for log in train_logs]\n",
    "train_losses = [log['loss'] for log in train_logs]\n",
    "\n",
    "eval_steps = [log['step'] for log in eval_logs]\n",
    "eval_losses = [log['eval_loss'] for log in eval_logs]\n",
    "eval_accuracies = [log['eval_accuracy'] for log in eval_logs]\n",
    "\n",
    "# 4. 그래프 그리기\n",
    "fig, ax1 = plt.subplots(figsize=(12, 8))\n",
    "\n",
    "# --- 1. Loss 그래프 ---\n",
    "ax1.set_xlabel('Steps')\n",
    "ax1.set_ylabel('Loss')\n",
    "ax1.plot(train_steps, train_losses, label='Training Loss', color='skyblue', linestyle='--')\n",
    "ax1.plot(eval_steps, eval_losses, label='Evaluation Loss', color='blue', marker='o', linestyle='-')\n",
    "ax1.tick_params(axis='y')\n",
    "\n",
    "# --- 2. Accuracy 그래프 ---\n",
    "ax2 = ax1.twinx()\n",
    "ax2.set_ylabel('Accuracy', color='tab:red')\n",
    "ax2.plot(eval_steps, eval_accuracies, label='Evaluation Accuracy', color='red', marker='o', linestyle='-')\n",
    "ax2.tick_params(axis='y', labelcolor='tab:red')\n",
    "# Y축 범위를 0.85 ~ 0.92 등으로 조정하여 변화를 더 잘보이게 할 수 있습니다.\n",
    "# ax2.set_ylim(0.85, 0.92)\n",
    "\n",
    "# --- 3. 범례 및 제목 ---\n",
    "lines, labels = ax1.get_legend_handles_labels()\n",
    "lines2, labels2 = ax2.get_legend_handles_labels()\n",
    "ax2.legend(lines + lines2, labels + labels2, loc='best')\n",
    "\n",
    "fig.tight_layout()\n",
    "plt.title('Training & Evaluation History')\n",
    "plt.grid(True)\n",
    "plt.show()"
   ]
  },
  {
   "cell_type": "markdown",
   "metadata": {
    "id": "pkWQr-iQwXb8"
   },
   "source": [
    "### STEP 4: Fine-tuning 결론\n",
    "\n",
    "##### 목표 (Goal)\n",
    "- 전체 데이터셋과 최적화된 하이퍼파라미터를 사용하여 모델의 분류 정확도를 90% 이상으로 끌어올리는 것.\n",
    "\n",
    "##### 방법 (Method)\n",
    "- `klue/bert-base` 모델을 NSMC 전체 데이터셋(15만개)으로 3 에폭(epoch) 동안 fine-tuning을 진행했다.\n",
    "- `TrainingArguments`에서 `learning_rate`, `batch_size`, `weight_decay` 등 주요 하이퍼파라미터를 fine-tuning에 적합한 값으로 설정했다.\n",
    "- 데이터 전처리 시, 모든 문장을 동일한 최대 길이(`max_length=128`)로 맞추는 **정적 패딩(Static Padding)** 방식을 사용했다.\n",
    "\n",
    "##### 결과 (Result)\n",
    "- **최종 정확도**: `90.15%`\n",
    "- **총 학습 시간**: `약 155분`\n",
    "\n",
    "##### 분석 (Analysis)\n",
    "- 사전 학습된 `klue/bert-base` 모델의 강력함을 바탕으로, 전체 데이터에 대한 fine-tuning을 통해 목표했던 90% 이상의 높은 정확도를 성공적으로 달성했다.\n",
    "- 이 결과는 다음 단계인 Bucketing 적용 모델의 성능 및 효율성 비교를 위한 중요한 **베이스라인(Baseline)**이 된다.\n"
   ]
  },
  {
   "cell_type": "markdown",
   "metadata": {
    "id": "pEb1EAgWwXb8"
   },
   "source": [
    "## STEP 5. Bucketing 적용 및 결과 비교\n",
    "\n",
    "Bucketing은 비슷한 길이의 데이터를 하나의 배치로 묶어 padding의 양을 최소화하는 기법입니다. 이를 통해 학습 속도를 높일 수 있습니다. `TrainingArguments`에서 `group_by_length=True`로 설정하고, `DataCollatorWithPadding`을 사용하여 dynamic padding을 적용.\n",
    "STEP 4의 결과와 학습 시간, 성능을 비교 분석."
   ]
  },
  {
   "cell_type": "code",
   "execution_count": 10,
   "metadata": {
    "colab": {
     "base_uri": "https://localhost:8080/",
     "height": 336,
     "referenced_widgets": [
      "8854e0b7d4dc4fc89ff2fb88592c7efb",
      "222a770d36dc436bab02d8b8169f6c85",
      "8ebd77dc4103452ca317db4636931b73",
      "55ad2b1458144876884aa6f295a68507",
      "3f45a968691541b2bef2769afa8135f4",
      "760ce87e0e054dadb8421154756becf8",
      "0e8e48e5d1d845cbaa53545a9ef1a7d9",
      "001e2377ea1f41f198b378f0d5e614da",
      "74c475361a7c4d5791386c7b681ce183",
      "22fc3ad2612b43a5a0b5ac7d9cc4c571",
      "57cc6a87bc2c421893a3635b19036c75",
      "f5a660a8431543cab2dfcb1cb818347d",
      "da963cbf1b084e18b9ee285cc58d6cbe",
      "4c0168862bc74157bc039b69b1381050",
      "7f650aa6c1b9426c855b5cd0dd549e3d",
      "fe4bbd00106445b9aa24612d511cb8d5",
      "fc05475cdb1543bea9401cc92b26aa72",
      "32586c89df4e43c1b2bd1f9aa9ce4eee",
      "3357e6f0b5234e9bae220966289a337d",
      "35deca5ef9c24b00ac9561f07485a93f",
      "e43b561b978343399f0a5ac00e602ccd",
      "f607e5fb766d4cd3b0b9780d19ed6af9"
     ]
    },
    "id": "KscuhUpOwXb8",
    "outputId": "c0eb14ca-602a-42e4-c5ee-038bb3db945d"
   },
   "outputs": [
    {
     "name": "stdout",
     "output_type": "stream",
     "text": [
      "Bucketing을 위한 새로운 전처리 적용 중...\n"
     ]
    },
    {
     "data": {
      "application/vnd.jupyter.widget-view+json": {
       "model_id": "9b6600578e594d0db16c8e66b7606e63",
       "version_major": 2,
       "version_minor": 0
      },
      "text/plain": [
       "Map:   0%|          | 0/150000 [00:00<?, ? examples/s]"
      ]
     },
     "metadata": {},
     "output_type": "display_data"
    },
    {
     "data": {
      "application/vnd.jupyter.widget-view+json": {
       "model_id": "1a36d1315dad4ae1b6943e7b45fba0cd",
       "version_major": 2,
       "version_minor": 0
      },
      "text/plain": [
       "Map:   0%|          | 0/50000 [00:00<?, ? examples/s]"
      ]
     },
     "metadata": {},
     "output_type": "display_data"
    },
    {
     "name": "stdout",
     "output_type": "stream",
     "text": [
      "전처리 완료.\n",
      "비교를 위해 초기 모델을 다시 로드.\n"
     ]
    },
    {
     "name": "stderr",
     "output_type": "stream",
     "text": [
      "Some weights of BertForSequenceClassification were not initialized from the model checkpoint at klue/bert-base and are newly initialized: ['classifier.bias', 'classifier.weight']\n",
      "You should probably TRAIN this model on a down-stream task to be able to use it for predictions and inference.\n"
     ]
    },
    {
     "name": "stdout",
     "output_type": "stream",
     "text": [
      "\n",
      "--- Bucketing 적용 학습 시작 ---\n"
     ]
    },
    {
     "data": {
      "text/html": [
       "\n",
       "    <div>\n",
       "      \n",
       "      <progress value='14064' max='14064' style='width:300px; height:20px; vertical-align: middle;'></progress>\n",
       "      [14064/14064 1:04:36, Epoch 3/3]\n",
       "    </div>\n",
       "    <table border=\"1\" class=\"dataframe\">\n",
       "  <thead>\n",
       " <tr style=\"text-align: left;\">\n",
       "      <th>Step</th>\n",
       "      <th>Training Loss</th>\n",
       "      <th>Validation Loss</th>\n",
       "      <th>Accuracy</th>\n",
       "    </tr>\n",
       "  </thead>\n",
       "  <tbody>\n",
       "    <tr>\n",
       "      <td>1000</td>\n",
       "      <td>0.312600</td>\n",
       "      <td>0.284874</td>\n",
       "      <td>0.880880</td>\n",
       "    </tr>\n",
       "    <tr>\n",
       "      <td>2000</td>\n",
       "      <td>0.285900</td>\n",
       "      <td>0.325247</td>\n",
       "      <td>0.862400</td>\n",
       "    </tr>\n",
       "    <tr>\n",
       "      <td>3000</td>\n",
       "      <td>0.265200</td>\n",
       "      <td>0.259951</td>\n",
       "      <td>0.894420</td>\n",
       "    </tr>\n",
       "    <tr>\n",
       "      <td>4000</td>\n",
       "      <td>0.263200</td>\n",
       "      <td>0.253077</td>\n",
       "      <td>0.895920</td>\n",
       "    </tr>\n",
       "    <tr>\n",
       "      <td>5000</td>\n",
       "      <td>0.207600</td>\n",
       "      <td>0.298205</td>\n",
       "      <td>0.893120</td>\n",
       "    </tr>\n",
       "    <tr>\n",
       "      <td>6000</td>\n",
       "      <td>0.172800</td>\n",
       "      <td>0.277549</td>\n",
       "      <td>0.896420</td>\n",
       "    </tr>\n",
       "    <tr>\n",
       "      <td>7000</td>\n",
       "      <td>0.175100</td>\n",
       "      <td>0.262766</td>\n",
       "      <td>0.898920</td>\n",
       "    </tr>\n",
       "    <tr>\n",
       "      <td>8000</td>\n",
       "      <td>0.177000</td>\n",
       "      <td>0.280897</td>\n",
       "      <td>0.901300</td>\n",
       "    </tr>\n",
       "    <tr>\n",
       "      <td>9000</td>\n",
       "      <td>0.176100</td>\n",
       "      <td>0.259037</td>\n",
       "      <td>0.903580</td>\n",
       "    </tr>\n",
       "    <tr>\n",
       "      <td>10000</td>\n",
       "      <td>0.097700</td>\n",
       "      <td>0.365279</td>\n",
       "      <td>0.901800</td>\n",
       "    </tr>\n",
       "    <tr>\n",
       "      <td>11000</td>\n",
       "      <td>0.095700</td>\n",
       "      <td>0.358082</td>\n",
       "      <td>0.902720</td>\n",
       "    </tr>\n",
       "    <tr>\n",
       "      <td>12000</td>\n",
       "      <td>0.096100</td>\n",
       "      <td>0.364347</td>\n",
       "      <td>0.902720</td>\n",
       "    </tr>\n",
       "    <tr>\n",
       "      <td>13000</td>\n",
       "      <td>0.094300</td>\n",
       "      <td>0.358261</td>\n",
       "      <td>0.904200</td>\n",
       "    </tr>\n",
       "    <tr>\n",
       "      <td>14000</td>\n",
       "      <td>0.091500</td>\n",
       "      <td>0.347164</td>\n",
       "      <td>0.904680</td>\n",
       "    </tr>\n",
       "  </tbody>\n",
       "</table><p>"
      ],
      "text/plain": [
       "<IPython.core.display.HTML object>"
      ]
     },
     "metadata": {},
     "output_type": "display_data"
    },
    {
     "name": "stdout",
     "output_type": "stream",
     "text": [
      "Bucketing 적용 학습 시간: 3888.14 초\n"
     ]
    }
   ],
   "source": [
    "from transformers import DataCollatorWithPadding\n",
    "import time\n",
    "\n",
    "# --- STEP 5: Bucketing 적용 및 결과 비교 ---\n",
    "\n",
    "# 설명:\n",
    "# Bucketing은 비슷한 길이의 데이터를 배치로 묶어 불필요한 패딩을 최소화하는 기법입니다.\n",
    "# 이를 위해 전처리 단계에서 모든 문장을 동일한 길이로 만드는 'max_length' 패딩을 제거하고,\n",
    "# 학습 시 각 배치별로 필요한 만큼만 동적으로 패딩(Dynamic Padding)을 추가.\n",
    "\n",
    "# 1. Dynamic Padding을 위한 전처리 함수 재정의\n",
    "# 이전과 달리 padding 옵션을 사용하지 않아, 각 문장을 고정된 길이로 만들지 않음\n",
    "def preprocess_for_bucketing(examples):\n",
    "    texts = [str(doc) if doc is not None else '' for doc in examples['document']]\n",
    "    # truncation만 수행하고 padding은 수행하지 않습니다.\n",
    "    return tokenizer(texts, truncation=True, max_length=128)\n",
    "\n",
    "print(\"Bucketing을 위한 새로운 전처리 적용 중...\")\n",
    "# 새로운 전처리 함수로 데이터셋 다시 매핑\n",
    "tokenized_nsmc_bucketed = nsmc_dataset.map(preprocess_for_bucketing, batched=True)\n",
    "print(\"전처리 완료.\")\n",
    "\n",
    "\n",
    "# 2. Data Collator 정의\n",
    "# DataCollatorWithPadding은 배치 내에서 가장 긴 문장을 기준으로 동적으로 패딩을 적용.\n",
    "data_collator = DataCollatorWithPadding(tokenizer=tokenizer)\n",
    "\n",
    "\n",
    "# 3. Bucketing을 적용한 TrainingArguments 설정\n",
    "bucketing_args = TrainingArguments(\n",
    "    output_dir='./results_bucketed',\n",
    "    eval_strategy=\"steps\",\n",
    "    num_train_epochs=3,\n",
    "    per_device_train_batch_size=32,\n",
    "    learning_rate=5e-5,\n",
    "    weight_decay=0.01,\n",
    "    group_by_length=True,              # Bucketing 활성화\n",
    "    logging_dir='./logs_bucketed',\n",
    "    logging_steps=500,\n",
    "    eval_steps=1000,                   # 1000 스텝마다 평가\n",
    "    save_steps=1000,\n",
    "    load_best_model_at_end=False\n",
    ")\n",
    "# 4. 비교를 위해 초기 모델 다시 불러오기\n",
    "print(\"비교를 위해 초기 모델을 다시 로드.\")\n",
    "model = AutoModelForSequenceClassification.from_pretrained(model_name, num_labels=2)\n",
    "\n",
    "\n",
    "# 5. Bucketing을 적용한 Trainer 생성\n",
    "trainer_bucketed = Trainer(\n",
    "    model=model, # 새로 불러온 깨끗한 모델 사용\n",
    "    args=bucketing_args,\n",
    "    train_dataset=tokenized_nsmc_bucketed['train'],\n",
    "    eval_dataset=tokenized_nsmc_bucketed['test'],\n",
    "    compute_metrics=compute_metrics,\n",
    "    data_collator=data_collator\n",
    ")\n",
    "\n",
    "# 6. Bucketing 적용하여 학습 시작 및 시간 측정\n",
    "print(\"\\n--- Bucketing 적용 학습 시작 ---\")\n",
    "start_time = time.time()\n",
    "trainer_bucketed.train()\n",
    "end_time = time.time()\n",
    "print(f\"Bucketing 적용 학습 시간: {end_time - start_time:.2f} 초\")"
   ]
  },
  {
   "cell_type": "markdown",
   "metadata": {
    "id": "ouG_BNqBwXb8"
   },
   "source": [
    "## 결론 및 회고\n",
    "\n",
    "- **STEP 4 (Fine-tuning)** 와 **STEP 5 (Bucketing)** 의 최종 정확도(accuracy)를 비교.\n",
    "- 두 방식의 전체 학습 시간을 비교하여 Bucketing의 효율성을 확인.\n",
    "- 실험을 통해 얻은 결론과 느낀 점을 자유롭게 정리."
   ]
  },
  {
   "cell_type": "code",
   "execution_count": 11,
   "metadata": {
    "id": "K4iV9uzuwXb8"
   },
   "outputs": [
    {
     "name": "stdout",
     "output_type": "stream",
     "text": [
      "./results_finetuned 모델 최종 평가 중...\n"
     ]
    },
    {
     "data": {
      "text/html": [
       "\n",
       "    <div>\n",
       "      \n",
       "      <progress value='6250' max='6250' style='width:300px; height:20px; vertical-align: middle;'></progress>\n",
       "      [6250/6250 06:02]\n",
       "    </div>\n",
       "    "
      ],
      "text/plain": [
       "<IPython.core.display.HTML object>"
      ]
     },
     "metadata": {},
     "output_type": "display_data"
    },
    {
     "name": "stdout",
     "output_type": "stream",
     "text": [
      "./results_bucketed 모델 최종 평가 중...\n"
     ]
    },
    {
     "data": {
      "text/html": [
       "\n",
       "    <div>\n",
       "      \n",
       "      <progress value='6250' max='6250' style='width:300px; height:20px; vertical-align: middle;'></progress>\n",
       "      [6250/6250 01:34]\n",
       "    </div>\n",
       "    "
      ],
      "text/plain": [
       "<IPython.core.display.HTML object>"
      ]
     },
     "metadata": {},
     "output_type": "display_data"
    },
    {
     "name": "stdout",
     "output_type": "stream",
     "text": [
      "--- 최종 결과 비교 ---\n"
     ]
    },
    {
     "data": {
      "text/html": [
       "<div>\n",
       "<style scoped>\n",
       "    .dataframe tbody tr th:only-of-type {\n",
       "        vertical-align: middle;\n",
       "    }\n",
       "\n",
       "    .dataframe tbody tr th {\n",
       "        vertical-align: top;\n",
       "    }\n",
       "\n",
       "    .dataframe thead th {\n",
       "        text-align: right;\n",
       "    }\n",
       "</style>\n",
       "<table border=\"1\" class=\"dataframe\">\n",
       "  <thead>\n",
       "    <tr style=\"text-align: right;\">\n",
       "      <th></th>\n",
       "      <th>Method</th>\n",
       "      <th>Training Time (min)</th>\n",
       "      <th>Accuracy (%)</th>\n",
       "      <th>Final Eval Loss</th>\n",
       "    </tr>\n",
       "  </thead>\n",
       "  <tbody>\n",
       "    <tr>\n",
       "      <th>0</th>\n",
       "      <td>STEP 4 (Static Padding)</td>\n",
       "      <td>236.37</td>\n",
       "      <td>90.51</td>\n",
       "      <td>0.36</td>\n",
       "    </tr>\n",
       "    <tr>\n",
       "      <th>1</th>\n",
       "      <td>STEP 5 (Bucketing)</td>\n",
       "      <td>64.63</td>\n",
       "      <td>90.47</td>\n",
       "      <td>0.35</td>\n",
       "    </tr>\n",
       "  </tbody>\n",
       "</table>\n",
       "</div>"
      ],
      "text/plain": [
       "                    Method  Training Time (min)  Accuracy (%)  Final Eval Loss\n",
       "0  STEP 4 (Static Padding)               236.37         90.51             0.36\n",
       "1       STEP 5 (Bucketing)                64.63         90.47             0.35"
      ]
     },
     "metadata": {},
     "output_type": "display_data"
    },
    {
     "data": {
      "image/png": "[encoded data removed]",
      "text/plain": [
       "<Figure size 1400x600 with 2 Axes>"
      ]
     },
     "metadata": {},
     "output_type": "display_data"
    }
   ],
   "source": [
    "import pandas as pd\n",
    "\n",
    "# --- 이 셀을 실행하기 전에 STEP 4와 STEP 5 학습이 모두 완료되어야 . ---\n",
    "\n",
    "# 1. 각 스텝의 결과 수집 (하드코딩 없이 자동으로)\n",
    "\n",
    "def get_results_from_trainer(trainer):\n",
    "    \"\"\"Trainer 객체에서 학습 시간과 최종 평가 결과를 추출하는 함수\"\"\"\n",
    "    # log_history에서 'train_runtime'이 포함된 로그를 찾습니다.\n",
    "    summary_log = next((log for log in reversed(trainer.state.log_history) if 'train_runtime' in\n",
    "log), None)\n",
    "\n",
    "    if summary_log:\n",
    "        train_time = summary_log['train_runtime']\n",
    "    else:\n",
    "        # 만약 train()의 결과 로그가 없다면, 0으로 처리 (또는 에러 처리)\n",
    "        train_time = 0\n",
    "        print(f\"Warning: {trainer.args.output_dir}에서 train_runtime을 찾을 수 없습니다.\")\n",
    "\n",
    "    print(f\"{trainer.args.output_dir} 모델 최종 평가 중...\")\n",
    "    eval_results = trainer.evaluate()\n",
    "    accuracy = eval_results['eval_accuracy']\n",
    "    loss = eval_results['eval_loss']\n",
    "\n",
    "    return train_time, accuracy, loss\n",
    "\n",
    "# 각 Trainer에서 결과 추출\n",
    "step4_train_time, step4_accuracy, step4_loss = get_results_from_trainer(trainer_finetuned)\n",
    "step5_train_time, step5_accuracy, step5_loss = get_results_from_trainer(trainer_bucketed)\n",
    "\n",
    "\n",
    "# 2. 표(Table)로 결과 비교 (이전과 동일)\n",
    "comparison_data = {\n",
    "    'Method': ['STEP 4 (Static Padding)', 'STEP 5 (Bucketing)'],\n",
    "    'Training Time (sec)': [step4_train_time, step5_train_time],\n",
    "    'Final Accuracy': [step4_accuracy, step5_accuracy],\n",
    "    'Final Eval Loss': [step4_loss, step5_loss]\n",
    "}\n",
    "df = pd.DataFrame(comparison_data)\n",
    "df['Training Time (min)'] = df['Training Time (sec)'] / 60\n",
    "df['Accuracy (%)'] = df['Final Accuracy'] * 100\n",
    "\n",
    "print(\"--- 최종 결과 비교 ---\")\n",
    "display(df[['Method', 'Training Time (min)', 'Accuracy (%)', 'Final Eval Loss']].round(2))\n",
    "\n",
    "\n",
    "# 3. 그래프로 결과 비교 (이전과 동일)\n",
    "fig, axes = plt.subplots(1, 2, figsize=(14, 6))\n",
    "methods = ['STEP 4', 'STEP 5']\n",
    "\n",
    "times = [step4_train_time, step5_train_time]\n",
    "bars1 = axes[0].bar(methods, times, color=['skyblue', 'lightgreen'])\n",
    "axes[0].set_title('Training Time Comparison')\n",
    "axes[0].set_ylabel('Time (seconds)')\n",
    "for bar in bars1:\n",
    "    yval = bar.get_height()\n",
    "    axes[0].text(bar.get_x() + bar.get_width()/2.0, yval, f'{yval:.2f}s', va='bottom', ha='center')\n",
    "\n",
    "accuracies = [step4_accuracy, step5_accuracy]\n",
    "bars2 = axes[1].bar(methods, accuracies, color=['skyblue', 'lightgreen'])\n",
    "axes[1].set_title('Final Accuracy Comparison')\n",
    "axes[1].set_ylabel('Accuracy')\n",
    "axes[1].set_ylim(0.85, 0.95)\n",
    "for bar in bars2:\n",
    "    yval = bar.get_height()\n",
    "    axes[1].text(bar.get_x() + bar.get_width()/2.0, yval, f'{yval*100:.2f}%', va='bottom', ha='center')\n",
    "\n",
    "plt.tight_layout()\n",
    "plt.show()"
   ]
  },
  {
   "cell_type": "markdown",
   "metadata": {
    "id": "KvEzkB2AwXb9"
   },
   "source": [
    "### STEP 5: Bucketing 적용 & 결론 및 비교 분석\n",
    "\n",
    "##### 목표 (Goal)\n",
    "- Bucketing과 동적 패딩(Dynamic Padding)을 적용하여 학습 효율성을 개선하고, STEP 4의 결과와 비교 분석하는 것.\n",
    "\n",
    "##### 방법 (Method)\n",
    "- `TrainingArguments`에서 `group_by_length=True` 옵션을 활성화하여 **Bucketing**을 적용. (비슷한 길이의 샘플끼리 배치 구성)\n",
    "- 전처리 시 고정 길이로 패딩하는 대신, `DataCollatorWithPadding`을 사용하여 학습 시 각 배치별로 필요한 만큼만 패딩하는 **동적 패딩**을 적용.\n",
    "- 나머지 조건(모델, 에폭, 배치 크기 등)은 STEP 4와 동일하게 유지하여 비교.\n",
    "\n",
    "##### 결과 비교 (Result Comparison)\n",
    "\n",
    "| 구분 | STEP 4 (정적 패딩) | STEP 5 (Bucketing) |\n",
    "| :--- | :--- | :--- |\n",
    "| **학습 시간** | 236.37분 | 64.63분 |\n",
    "| **최종 정확도** | 90.51% | 90.47% |\n",
    "\n",
    "##### 분석 (Analysis)\n",
    "- **학습 효율성**: Bucketing과 동적 패딩은 불필요한 패딩 토큰에 대한 연산을 크게 줄여, **학습 시간을 72.65%나 단축**시키는 엄청난 효율성 향상을 보여주었다. 이는 특히 NSMC 데이터셋처럼 문장 길이가 다양한 데이터셋에서 매우 효과적인 기법임을 확인.\n",
    "- **모델 성능**: 학습 시간이 크게 단축되었음에도 **최종 정확도는 거의 손실이 없었다.** Bucketing이 성능 저하 없이 학습 속도만 크게 향상시킬 수 있는 효율적인 최적화 기법임을 증명.\n",
    "\n",
    "##### 최종 결론\n",
    "- NLP 모델, 특히 Transformer 기반 모델을 학습시킬 때, 데이터의 길이가 가변적이라면 **Bucketing과 동적 패딩은 반드시 적용해야 할 필수적인 최적화 전략**이라고 볼 수 있겠다.\n",
    "\n",
    "\n",
    "##### 에필로그\n",
    "> LMS가 망가졌을 때 코랩에서 돌려봤는데 갑자기 뭔 wandb api key를 넣으라고 나와서 뭔 소린가 했는데, \n",
    "> 지가 알아서 그래프랑 다 남겨주는걸 알게되서 뜻밖의 수확이었다. 근데 이미 규철님이나 수봉님이 다 알고 계신게 더 신기.. ㅋㅋㅋ\n",
    "> 다음 실험엔 더 활용해볼만한 기술인 것 같다."
   ]
  }
 ],
 "metadata": {
  "accelerator": "GPU",
  "colab": {
   "gpuType": "T4",
   "provenance": []
  },
  "kernelspec": {
   "display_name": "Python 3 (ipykernel)",
   "language": "python",
   "name": "python3"
  },
  "language_info": {
   "codemirror_mode": {
    "name": "ipython",
    "version": 3
   },
   "file_extension": ".py",
   "mimetype": "text/x-python",
   "name": "python",
   "nbconvert_exporter": "python",
   "pygments_lexer": "ipython3",
   "version": "3.12.11"
  }
 },
 "nbformat": 4,
 "nbformat_minor": 4
}
