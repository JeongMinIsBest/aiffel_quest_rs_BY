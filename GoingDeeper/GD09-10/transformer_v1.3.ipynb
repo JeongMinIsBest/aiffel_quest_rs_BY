{
 "cells": [
  {
   "cell_type": "markdown",
   "metadata": {},
   "source": [
    "# Transformer (Ko-En) 번역기 v1.3\n",
    "---\n",
    "### 프로젝트 목표\n",
    "한국어-영어 번역을 위한 트랜스포머 모델에 체크포인팅과 조기 종료 기능을 추가하여 학습 안정성 및 효율성을 개선\n",
    "\n",
    "**주요 변경 사항 (v1.2 대비):**\n",
    "1. **하이퍼파라미터 튜닝**:\n",
    "    - N_LAYERS (레이어 수): 6 -> 4 (모델의 깊이를 줄임) \n",
    "    - D_FF (피드포워드 네트워크 차원): 2048 -> 4096 (모델의 폭을 넓힘)\n",
    "    - DROPOUT (드롭아웃 비율): 0.1 -> 0.15 (모델이 넓어진 만큼 규제를 약간 강화하여 과적합 방지)\n",
    "2. **데이터 증강 제거**: 빠른 실험을 위해 데이터 증강은 잠시 제거 (1.2 결과 효과도 미비해서 일단 제거)"
   ]
  },
  {
   "cell_type": "markdown",
   "metadata": {},
   "source": [
    "## 1. 라이브러리 설치 및 임포트"
   ]
  },
  {
   "cell_type": "code",
   "execution_count": 1,
   "metadata": {},
   "outputs": [
    {
     "name": "stdout",
     "output_type": "stream",
     "text": [
      "Requirement already satisfied: sentencepiece in /opt/conda/lib/python3.12/site-packages (0.2.1)\n",
      "Requirement already satisfied: gensim in /opt/conda/lib/python3.12/site-packages (4.3.3)\n",
      "Requirement already satisfied: numpy<2.0,>=1.18.5 in /opt/conda/lib/python3.12/site-packages (from gensim) (1.26.4)\n",
      "Requirement already satisfied: scipy<1.14.0,>=1.7.0 in /opt/conda/lib/python3.12/site-packages (from gensim) (1.13.1)\n",
      "Requirement already satisfied: smart-open>=1.8.1 in /opt/conda/lib/python3.12/site-packages (from gensim) (7.3.1)\n",
      "Requirement already satisfied: wrapt in /opt/conda/lib/python3.12/site-packages (from smart-open>=1.8.1->gensim) (1.17.3)\n",
      "Requirement already satisfied: nltk in /opt/conda/lib/python3.12/site-packages (3.9.1)\n",
      "Requirement already satisfied: click in /opt/conda/lib/python3.12/site-packages (from nltk) (8.2.1)\n",
      "Requirement already satisfied: joblib in /opt/conda/lib/python3.12/site-packages (from nltk) (1.5.1)\n",
      "Requirement already satisfied: regex>=2021.8.3 in /opt/conda/lib/python3.12/site-packages (from nltk) (2025.9.1)\n",
      "Requirement already satisfied: tqdm in /opt/conda/lib/python3.12/site-packages (from nltk) (4.67.1)\n"
     ]
    }
   ],
   "source": [
    "!pip install sentencepiece\n",
    "!pip install gensim\n",
    "!pip install nltk"
   ]
  },
  {
   "cell_type": "code",
   "execution_count": 2,
   "metadata": {},
   "outputs": [],
   "source": [
    "import os\n",
    "import re\n",
    "import math\n",
    "import time\n",
    "import random\n",
    "import locale\n",
    "\n",
    "# 데이터 처리 및 연산\n",
    "import numpy as np\n",
    "import torch\n",
    "import torch.nn as nn\n",
    "import torch.optim as optim\n",
    "from torch.utils.data import Dataset, DataLoader\n",
    "\n",
    "# 자연어 처리(NLP) 및 머신러닝\n",
    "import sentencepiece as spm\n",
    "from gensim.models import KeyedVectors\n",
    "from nltk.translate.bleu_score import sentence_bleu, SmoothingFunction\n",
    "\n",
    "# 시각화 및 진행률 표시\n",
    "import matplotlib.pyplot as plt\n",
    "import matplotlib.font_manager as fm\n",
    "from tqdm.notebook import tqdm"
   ]
  },
  {
   "cell_type": "code",
   "execution_count": 3,
   "metadata": {},
   "outputs": [
    {
     "name": "stdout",
     "output_type": "stream",
     "text": [
      "Random seed set to 14\n"
     ]
    }
   ],
   "source": [
    "def set_seed(seed):\n",
    "    \"\"\"모든 랜덤 시드를 고정하여 재현성을 보장합니다.\"\"\"\n",
    "    random.seed(seed)\n",
    "    np.random.seed(seed)\n",
    "    torch.manual_seed(seed)\n",
    "    if torch.cuda.is_available():\n",
    "        torch.cuda.manual_seed(seed)\n",
    "        torch.cuda.manual_seed_all(seed) # for multi-GPU\n",
    "\n",
    "# 사용할 시드 값 설정\n",
    "SEED = 14\n",
    "set_seed(SEED)\n",
    "\n",
    "print(f\"Random seed set to {SEED}\")"
   ]
  },
  {
   "cell_type": "markdown",
   "metadata": {},
   "source": [
    "## 2. 하이퍼파라미터 및 설정"
   ]
  },
  {
   "cell_type": "code",
   "execution_count": 4,
   "metadata": {},
   "outputs": [
    {
     "name": "stdout",
     "output_type": "stream",
     "text": [
      "Using device: cuda\n"
     ]
    }
   ],
   "source": [
    "# Model Hyperparameters\n",
    "SRC_VOCAB_SIZE = 20000\n",
    "TGT_VOCAB_SIZE = 20000\n",
    "D_MODEL = 512\n",
    "N_LAYERS = 4    # 6 -> 4\n",
    "N_HEADS = 8\n",
    "D_FF = 4096     # 2048 -> 4096\n",
    "DROPOUT = 0.15  # 0.1 -> 0.15\n",
    "MAX_LEN = 50\n",
    "\n",
    "# Training Hyperparameters\n",
    "BATCH_SIZE = 64\n",
    "EPOCHS = 30\n",
    "EARLY_STOPPING_PATIENCE = 3\n",
    "CHECKPOINT_PATH = \"transformer-1.3-checkpoint.pth\"\n",
    "\n",
    "device = torch.device('cuda' if torch.cuda.is_available() else 'cpu')\n",
    "print(f'Using device: {device}')"
   ]
  },
  {
   "cell_type": "markdown",
   "metadata": {},
   "source": [
    "## 3. 데이터 준비 및 전처리"
   ]
  },
  {
   "cell_type": "code",
   "execution_count": 5,
   "metadata": {},
   "outputs": [
    {
     "name": "stdout",
     "output_type": "stream",
     "text": [
      "Train: 94123, Dev: 1000, Test: 2000\n"
     ]
    }
   ],
   "source": [
    "# 1. 데이터 경로 설정\n",
    "data_dir = 'data'\n",
    "train_kor_path = os.path.join(data_dir, 'korean-english-park.train.ko')\n",
    "train_eng_path = os.path.join(data_dir, 'korean-english-park.train.en')\n",
    "dev_kor_path = os.path.join(data_dir, 'korean-english-park.dev.ko')\n",
    "dev_eng_path = os.path.join(data_dir, 'korean-english-park.dev.en')\n",
    "test_kor_path = os.path.join(data_dir, 'korean-english-park.test.ko')\n",
    "test_eng_path = os.path.join(data_dir, 'korean-english-park.test.en')\n",
    "\n",
    "# 2. 원본 데이터 로딩\n",
    "with open(train_kor_path, \"r\", encoding='utf-8') as f: train_kor_raw = f.read().splitlines()\n",
    "with open(train_eng_path, \"r\", encoding='utf-8') as f: train_eng_raw = f.read().splitlines()\n",
    "with open(dev_kor_path, \"r\", encoding='utf-8') as f: dev_kor_raw = f.read().splitlines()\n",
    "with open(dev_eng_path, \"r\", encoding='utf-8') as f: dev_eng_raw = f.read().splitlines()\n",
    "with open(test_kor_path, \"r\", encoding='utf-8') as f: test_kor_raw = f.read().splitlines()\n",
    "with open(test_eng_path, \"r\", encoding='utf-8') as f: test_eng_raw = f.read().splitlines()\n",
    "\n",
    "print(f\"Train: {len(train_kor_raw)}, Dev: {len(dev_kor_raw)}, Test: {len(test_kor_raw)}\")"
   ]
  },
  {
   "cell_type": "code",
   "execution_count": 6,
   "metadata": {},
   "outputs": [
    {
     "name": "stdout",
     "output_type": "stream",
     "text": [
      "Train: 78968, Dev: 1000, Test: 1996\n"
     ]
    }
   ],
   "source": [
    "# 3. 데이터 정제 및 전처리\n",
    "def preprocess_sentence(sentence):\n",
    "    \"\"\"구두점, 특수문자 등 불필요한 부분을 제거하고 소문자로 변환합니다.\"\"\"\n",
    "    sentence = sentence.lower().strip()\n",
    "    sentence = re.sub(r\"([?.!,])\", r\" \\1 \", sentence)\n",
    "    sentence = re.sub(r'[\" \"]+', \" \", sentence)\n",
    "    sentence = re.sub(r\"[^a-zA-Z가-힣?.!,]+\", \" \", sentence)\n",
    "    sentence = sentence.strip()\n",
    "    return sentence\n",
    "\n",
    "def clean_and_preprocess_corpus(kor_raw, eng_raw):\n",
    "    \"\"\"문장 쌍의 중복을 제거하고 각 문장을 전처리합니다.\"\"\"\n",
    "    # 1. zip으로 문장 쌍 생성 후 set으로 중복 제거\n",
    "    cleaned_pairs = list(set(zip(kor_raw, eng_raw)))\n",
    "\n",
    "    # 2. 각 문장 전처리\n",
    "    kor_corpus, eng_corpus = [], []\n",
    "    for kor, eng in cleaned_pairs:\n",
    "        kor_corpus.append(preprocess_sentence(kor))\n",
    "        eng_corpus.append(preprocess_sentence(eng))\n",
    "\n",
    "    return kor_corpus, eng_corpus\n",
    "\n",
    "# 각 데이터셋에 대해 정제 및 전처리 수행\n",
    "train_kor_corpus, train_eng_corpus = clean_and_preprocess_corpus(train_kor_raw, train_eng_raw)\n",
    "dev_kor_corpus, dev_eng_corpus = clean_and_preprocess_corpus(dev_kor_raw, dev_eng_raw)\n",
    "test_kor_corpus, test_eng_corpus = clean_and_preprocess_corpus(test_kor_raw, test_eng_raw)\n",
    "\n",
    "print(f\"Train: {len(train_kor_corpus)}, Dev: {len(dev_kor_corpus)}, Test: {len(test_kor_corpus)}\")"
   ]
  },
  {
   "cell_type": "code",
   "execution_count": 7,
   "metadata": {},
   "outputs": [
    {
     "name": "stderr",
     "output_type": "stream",
     "text": [
      "sentencepiece_trainer.cc(178) LOG(INFO) Running command: --input=./ko_corpus.txt --model_prefix=ko_spm --vocab_size=20000 --pad_id=0 --bos_id=1 --eos_id=2 --unk_id=3\n",
      "sentencepiece_trainer.cc(78) LOG(INFO) Starts training with : \n",
      "trainer_spec {\n",
      "  input: ./ko_corpus.txt\n",
      "  input_format: \n",
      "  model_prefix: ko_spm\n",
      "  model_type: UNIGRAM\n",
      "  vocab_size: 20000\n",
      "  self_test_sample_size: 0\n",
      "  character_coverage: 0.9995\n",
      "  input_sentence_size: 0\n",
      "  shuffle_input_sentence: 1\n",
      "  seed_sentencepiece_size: 1000000\n",
      "  shrinking_factor: 0.75\n",
      "  max_sentence_length: 4192\n",
      "  num_threads: 16\n",
      "  num_sub_iterations: 2\n",
      "  max_sentencepiece_length: 16\n",
      "  split_by_unicode_script: 1\n",
      "  split_by_number: 1\n",
      "  split_by_whitespace: 1\n",
      "  split_digits: 0\n",
      "  pretokenization_delimiter: \n",
      "  treat_whitespace_as_suffix: 0\n",
      "  allow_whitespace_only_pieces: 0\n",
      "  required_chars: \n",
      "  byte_fallback: 0\n",
      "  vocabulary_output_piece_score: 1\n",
      "  train_extremely_large_corpus: 0\n",
      "  seed_sentencepieces_file: \n",
      "  hard_vocab_limit: 1\n",
      "  use_all_vocab: 0\n",
      "  unk_id: 3\n",
      "  bos_id: 1\n",
      "  eos_id: 2\n",
      "  pad_id: 0\n",
      "  unk_piece: <unk>\n",
      "  bos_piece: <s>\n",
      "  eos_piece: </s>\n",
      "  pad_piece: <pad>\n",
      "  unk_surface:  ⁇ \n",
      "  enable_differential_privacy: 0\n",
      "  differential_privacy_noise_level: 0\n",
      "  differential_privacy_clipping_threshold: 0\n",
      "}\n",
      "normalizer_spec {\n",
      "  name: nmt_nfkc\n",
      "  add_dummy_prefix: 1\n",
      "  remove_extra_whitespaces: 1\n",
      "  escape_whitespaces: 1\n",
      "  normalization_rule_tsv: \n",
      "}\n",
      "denormalizer_spec {}\n",
      "trainer_interface.cc(355) LOG(INFO) SentenceIterator is not specified. Using MultiFileSentenceIterator.\n",
      "trainer_interface.cc(186) LOG(INFO) Loading corpus: ./ko_corpus.txt\n",
      "trainer_interface.cc(411) LOG(INFO) Loaded all 94123 sentences\n",
      "trainer_interface.cc(427) LOG(INFO) Adding meta_piece: <pad>\n",
      "trainer_interface.cc(427) LOG(INFO) Adding meta_piece: <s>\n",
      "trainer_interface.cc(427) LOG(INFO) Adding meta_piece: </s>\n",
      "trainer_interface.cc(427) LOG(INFO) Adding meta_piece: <unk>\n",
      "trainer_interface.cc(432) LOG(INFO) Normalizing sentences...\n",
      "trainer_interface.cc(541) LOG(INFO) all chars count=5811421\n",
      "trainer_interface.cc(552) LOG(INFO) Done: 99.95% characters are covered.\n",
      "trainer_interface.cc(562) LOG(INFO) Alphabet size=1324\n",
      "trainer_interface.cc(563) LOG(INFO) Final character coverage=0.9995\n",
      "trainer_interface.cc(594) LOG(INFO) Done! preprocessed 94123 sentences.\n",
      "unigram_model_trainer.cc(265) LOG(INFO) Making suffix array...\n",
      "unigram_model_trainer.cc(269) LOG(INFO) Extracting frequent sub strings... node_num=2558685\n",
      "unigram_model_trainer.cc(312) LOG(INFO) Initialized 176917 seed sentencepieces\n",
      "trainer_interface.cc(600) LOG(INFO) Tokenizing input sentences with whitespace: 94123\n",
      "trainer_interface.cc(611) LOG(INFO) Done! 241207\n",
      "unigram_model_trainer.cc(602) LOG(INFO) Using 241207 sentences for EM training\n",
      "unigram_model_trainer.cc(618) LOG(INFO) EM sub_iter=0 size=95194 obj=14.8536 num_tokens=531054 num_tokens/piece=5.57865\n",
      "unigram_model_trainer.cc(618) LOG(INFO) EM sub_iter=1 size=83620 obj=13.5153 num_tokens=533454 num_tokens/piece=6.3795\n",
      "unigram_model_trainer.cc(618) LOG(INFO) EM sub_iter=0 size=62708 obj=13.5651 num_tokens=555794 num_tokens/piece=8.86321\n",
      "unigram_model_trainer.cc(618) LOG(INFO) EM sub_iter=1 size=62675 obj=13.5242 num_tokens=556110 num_tokens/piece=8.87292\n",
      "unigram_model_trainer.cc(618) LOG(INFO) EM sub_iter=0 size=47005 obj=13.7065 num_tokens=585127 num_tokens/piece=12.4482\n",
      "unigram_model_trainer.cc(618) LOG(INFO) EM sub_iter=1 size=47005 obj=13.6666 num_tokens=585283 num_tokens/piece=12.4515\n",
      "unigram_model_trainer.cc(618) LOG(INFO) EM sub_iter=0 size=35253 obj=13.8983 num_tokens=616933 num_tokens/piece=17.5002\n",
      "unigram_model_trainer.cc(618) LOG(INFO) EM sub_iter=1 size=35253 obj=13.8487 num_tokens=616918 num_tokens/piece=17.4997\n",
      "unigram_model_trainer.cc(618) LOG(INFO) EM sub_iter=0 size=26439 obj=14.13 num_tokens=649516 num_tokens/piece=24.5666\n",
      "unigram_model_trainer.cc(618) LOG(INFO) EM sub_iter=1 size=26439 obj=14.0747 num_tokens=649501 num_tokens/piece=24.566\n",
      "unigram_model_trainer.cc(618) LOG(INFO) EM sub_iter=0 size=22000 obj=14.2776 num_tokens=670847 num_tokens/piece=30.493\n",
      "unigram_model_trainer.cc(618) LOG(INFO) EM sub_iter=1 size=22000 obj=14.2403 num_tokens=670845 num_tokens/piece=30.493\n",
      "trainer_interface.cc(689) LOG(INFO) Saving model: ko_spm.model\n",
      "trainer_interface.cc(701) LOG(INFO) Saving vocabs: ko_spm.vocab\n",
      "sentencepiece_trainer.cc(178) LOG(INFO) Running command: --input=./en_corpus.txt --model_prefix=en_spm --vocab_size=20000 --pad_id=0 --bos_id=1 --eos_id=2 --unk_id=3\n",
      "sentencepiece_trainer.cc(78) LOG(INFO) Starts training with : \n",
      "trainer_spec {\n",
      "  input: ./en_corpus.txt\n",
      "  input_format: \n",
      "  model_prefix: en_spm\n",
      "  model_type: UNIGRAM\n",
      "  vocab_size: 20000\n",
      "  self_test_sample_size: 0\n",
      "  character_coverage: 0.9995\n",
      "  input_sentence_size: 0\n",
      "  shuffle_input_sentence: 1\n",
      "  seed_sentencepiece_size: 1000000\n",
      "  shrinking_factor: 0.75\n",
      "  max_sentence_length: 4192\n",
      "  num_threads: 16\n",
      "  num_sub_iterations: 2\n",
      "  max_sentencepiece_length: 16\n",
      "  split_by_unicode_script: 1\n",
      "  split_by_number: 1\n",
      "  split_by_whitespace: 1\n",
      "  split_digits: 0\n",
      "  pretokenization_delimiter: \n",
      "  treat_whitespace_as_suffix: 0\n",
      "  allow_whitespace_only_pieces: 0\n",
      "  required_chars: \n",
      "  byte_fallback: 0\n",
      "  vocabulary_output_piece_score: 1\n",
      "  train_extremely_large_corpus: 0\n",
      "  seed_sentencepieces_file: \n",
      "  hard_vocab_limit: 1\n",
      "  use_all_vocab: 0\n",
      "  unk_id: 3\n",
      "  bos_id: 1\n",
      "  eos_id: 2\n",
      "  pad_id: 0\n",
      "  unk_piece: <unk>\n",
      "  bos_piece: <s>\n",
      "  eos_piece: </s>\n",
      "  pad_piece: <pad>\n",
      "  unk_surface:  ⁇ \n",
      "  enable_differential_privacy: 0\n",
      "  differential_privacy_noise_level: 0\n",
      "  differential_privacy_clipping_threshold: 0\n",
      "}\n",
      "normalizer_spec {\n",
      "  name: nmt_nfkc\n",
      "  add_dummy_prefix: 1\n",
      "  remove_extra_whitespaces: 1\n",
      "  escape_whitespaces: 1\n",
      "  normalization_rule_tsv: \n",
      "}\n",
      "denormalizer_spec {}\n",
      "trainer_interface.cc(355) LOG(INFO) SentenceIterator is not specified. Using MultiFileSentenceIterator.\n",
      "trainer_interface.cc(186) LOG(INFO) Loading corpus: ./en_corpus.txt\n",
      "trainer_interface.cc(411) LOG(INFO) Loaded all 94123 sentences\n",
      "trainer_interface.cc(427) LOG(INFO) Adding meta_piece: <pad>\n",
      "trainer_interface.cc(427) LOG(INFO) Adding meta_piece: <s>\n",
      "trainer_interface.cc(427) LOG(INFO) Adding meta_piece: </s>\n",
      "trainer_interface.cc(427) LOG(INFO) Adding meta_piece: <unk>\n",
      "trainer_interface.cc(432) LOG(INFO) Normalizing sentences...\n",
      "trainer_interface.cc(541) LOG(INFO) all chars count=11967043\n",
      "trainer_interface.cc(552) LOG(INFO) Done: 99.955% characters are covered.\n",
      "trainer_interface.cc(562) LOG(INFO) Alphabet size=82\n",
      "trainer_interface.cc(563) LOG(INFO) Final character coverage=0.99955\n",
      "trainer_interface.cc(594) LOG(INFO) Done! preprocessed 94123 sentences.\n",
      "unigram_model_trainer.cc(265) LOG(INFO) Making suffix array...\n",
      "unigram_model_trainer.cc(269) LOG(INFO) Extracting frequent sub strings... node_num=6785919\n",
      "unigram_model_trainer.cc(312) LOG(INFO) Initialized 142424 seed sentencepieces\n",
      "trainer_interface.cc(600) LOG(INFO) Tokenizing input sentences with whitespace: 94123\n",
      "trainer_interface.cc(611) LOG(INFO) Done! 109507\n",
      "unigram_model_trainer.cc(602) LOG(INFO) Using 109507 sentences for EM training\n",
      "unigram_model_trainer.cc(618) LOG(INFO) EM sub_iter=0 size=55814 obj=11.4619 num_tokens=233542 num_tokens/piece=4.18429\n",
      "unigram_model_trainer.cc(618) LOG(INFO) EM sub_iter=1 size=47034 obj=9.15535 num_tokens=234338 num_tokens/piece=4.98231\n",
      "unigram_model_trainer.cc(618) LOG(INFO) EM sub_iter=0 size=35271 obj=9.13866 num_tokens=247538 num_tokens/piece=7.01817\n",
      "unigram_model_trainer.cc(618) LOG(INFO) EM sub_iter=1 size=35261 obj=9.12083 num_tokens=247655 num_tokens/piece=7.02348\n",
      "unigram_model_trainer.cc(618) LOG(INFO) EM sub_iter=0 size=26445 obj=9.21377 num_tokens=268037 num_tokens/piece=10.1356\n",
      "unigram_model_trainer.cc(618) LOG(INFO) EM sub_iter=1 size=26445 obj=9.19031 num_tokens=268024 num_tokens/piece=10.1351\n",
      "unigram_model_trainer.cc(618) LOG(INFO) EM sub_iter=0 size=22000 obj=9.26777 num_tokens=282496 num_tokens/piece=12.8407\n",
      "unigram_model_trainer.cc(618) LOG(INFO) EM sub_iter=1 size=22000 obj=9.25198 num_tokens=282491 num_tokens/piece=12.8405\n",
      "trainer_interface.cc(689) LOG(INFO) Saving model: en_spm.model\n",
      "trainer_interface.cc(701) LOG(INFO) Saving vocabs: en_spm.vocab\n"
     ]
    }
   ],
   "source": [
    "def generate_tokenizer(corpus, vocab_size, lang, pad_id=0, bos_id=1, eos_id=2, unk_id=3):\n",
    "    file = f'./{lang}_corpus.txt'\n",
    "    model_prefix = f'{lang}_spm'\n",
    "    with open(file, 'w', encoding='utf-8') as f:\n",
    "        for row in corpus:\n",
    "            f.write(str(row) + '\\n')\n",
    "    spm.SentencePieceTrainer.Train(\n",
    "        f'--input={file} --model_prefix={model_prefix} --vocab_size={vocab_size}' + \n",
    "        f' --pad_id={pad_id} --bos_id={bos_id} --eos_id={eos_id} --unk_id={unk_id}'\n",
    "    )\n",
    "    tokenizer = spm.SentencePieceProcessor()\n",
    "    tokenizer.Load(f'{model_prefix}.model')\n",
    "    return tokenizer\n",
    "\n",
    "ko_tokenizer = generate_tokenizer(train_kor_raw, SRC_VOCAB_SIZE, \"ko\")\n",
    "en_tokenizer = generate_tokenizer(train_eng_raw, TGT_VOCAB_SIZE, \"en\")"
   ]
  },
  {
   "cell_type": "markdown",
   "metadata": {},
   "source": [
    "## 4. 데이터셋 및 DataLoader 구축"
   ]
  },
  {
   "cell_type": "code",
   "execution_count": 8,
   "metadata": {},
   "outputs": [
    {
     "name": "stdout",
     "output_type": "stream",
     "text": [
      "Number of batches in train_loader: 1234\n",
      "Number of batches in valid_loader: 16\n",
      "Number of batches in test_loader: 32\n"
     ]
    }
   ],
   "source": [
    "class TranslationDataset(Dataset):\n",
    "    def __init__(self, src_corpus, tgt_corpus, src_tokenizer, tgt_tokenizer):\n",
    "        self.src_corpus = src_corpus\n",
    "        self.tgt_corpus = tgt_corpus\n",
    "        self.src_tokenizer = src_tokenizer\n",
    "        self.tgt_tokenizer = tgt_tokenizer\n",
    "\n",
    "    def __len__(self):\n",
    "        return len(self.src_corpus)\n",
    "\n",
    "    def __getitem__(self, idx):\n",
    "        src = self.src_tokenizer.encode_as_ids(self.src_corpus[idx])\n",
    "        tgt = self.tgt_tokenizer.encode_as_ids(self.tgt_corpus[idx])\n",
    "\n",
    "        # 텐서의 데이터 타입을 torch.long으로 명시적으로 지정합니다.\n",
    "        return torch.tensor(src, dtype=torch.long), torch.tensor(tgt, dtype=torch.long)\n",
    "\n",
    "def collate_fn(batch):\n",
    "    \"\"\"배치 내의 시퀀스들을 패딩하여 동일한 길이로 만듭니다.\"\"\"\n",
    "    src_batch, tgt_batch = [], []\n",
    "    for src_sample, tgt_sample in batch:\n",
    "        src_batch.append(src_sample)\n",
    "        tgt_batch.append(tgt_sample)\n",
    "\n",
    "    src_padded = torch.nn.utils.rnn.pad_sequence(src_batch, batch_first=True, padding_value=ko_tokenizer.pad_id())\n",
    "    tgt_padded = torch.nn.utils.rnn.pad_sequence(tgt_batch, batch_first=True, padding_value=en_tokenizer.pad_id())\n",
    "    return src_padded, tgt_padded\n",
    "\n",
    "# Dataset 및 DataLoader 인스턴스 생성\n",
    "train_dataset = TranslationDataset(train_kor_corpus, train_eng_corpus, ko_tokenizer, en_tokenizer)\n",
    "valid_dataset = TranslationDataset(dev_kor_corpus, dev_eng_corpus, ko_tokenizer, en_tokenizer)\n",
    "test_dataset = TranslationDataset(test_kor_corpus, test_eng_corpus, ko_tokenizer, en_tokenizer)\n",
    "\n",
    "train_loader = DataLoader(train_dataset, batch_size=BATCH_SIZE, shuffle=True, collate_fn=collate_fn, num_workers=4)\n",
    "valid_loader = DataLoader(valid_dataset, batch_size=BATCH_SIZE, collate_fn=collate_fn, num_workers=4)\n",
    "test_loader = DataLoader(test_dataset, batch_size=BATCH_SIZE, collate_fn=collate_fn, num_workers=4)\n",
    "\n",
    "print(f\"Number of batches in train_loader: {len(train_loader)}\")\n",
    "print(f\"Number of batches in valid_loader: {len(valid_loader)}\")\n",
    "print(f\"Number of batches in test_loader: {len(test_loader)}\")"
   ]
  },
  {
   "cell_type": "markdown",
   "metadata": {},
   "source": [
    "## 5. 데이터 증강 (Lexical Substitution)"
   ]
  },
  {
   "cell_type": "code",
   "execution_count": 9,
   "metadata": {},
   "outputs": [],
   "source": [
    "# 1.3에선 데이터 증강 임시 주석\n",
    "# # 1. 사전 학습된 한국어 Word2Vec 모델 로드 (.vec 텍스트 파일)\n",
    "# model_path = 'data/ko.vec' # .vec 파일 경로로 수정\n",
    "# print(f\"Loading pre-trained Korean Word2Vec model from: {model_path}\")\n",
    "# try:\n",
    "#     # .vec 파일은 텍스트 파일이므로 binary=False로 설정합니다.\n",
    "#     wv = KeyedVectors.load_word2vec_format(model_path, binary=False, unicode_errors='ignore')\n",
    "#     print(\"Model loaded successfully.\")\n",
    "# except FileNotFoundError:\n",
    "#     print(f\"ERROR: Model file not found at '{model_path}'. Please check the path.\")\n",
    "#     wv = KeyedVectors(200)\n",
    "# except Exception as e:\n",
    "#     print(f\"ERROR: Model file could not be loaded. Error: {e}\")\n",
    "#     wv = KeyedVectors(200)\n",
    "\n",
    "\n",
    "# def augment_with_pretrained_wv(kor_corpus, eng_corpus, wv, num_augmented_sentences=40000):\n",
    "#     \"\"\"\n",
    "#     사전 학습된 임베딩 모델(gensim KeyedVectors)을 사용한 Lexical Substitution으로 데이터를 증강합니다.\n",
    "#     \"\"\"\n",
    "#     print(\"Starting data augmentation with pre-trained ko.vec model...\")\n",
    "\n",
    "#     augmented_kor, augmented_eng = [], []\n",
    "#     original_indices = list(range(len(kor_corpus)))\n",
    "#     indices_to_augment = random.choices(original_indices, k=num_augmented_sentences)\n",
    "#     successful_augment_indices = []\n",
    "\n",
    "#     for sent_idx in tqdm(indices_to_augment, desc=\"Augmenting sentences\"):\n",
    "#         original_sentence = kor_corpus[sent_idx]\n",
    "#         tokens = original_sentence.split()\n",
    "\n",
    "#         # gensim KeyedVectors 객체에 단어 포함 여부 확인\n",
    "#         valid_tokens = [tok for tok in tokens if tok in wv.key_to_index]\n",
    "\n",
    "#         if not valid_tokens:\n",
    "#             continue\n",
    "\n",
    "#         target_word = random.choice(valid_tokens)\n",
    "\n",
    "#         try:\n",
    "#             similar_words = wv.most_similar(target_word, topn=5)\n",
    "#             synonym = random.choice(similar_words)[0]\n",
    "#             new_kor_sentence = \" \".join([synonym if tok == target_word else tok for tok in tokens])\n",
    "\n",
    "#             augmented_kor.append(new_kor_sentence)\n",
    "#             augmented_eng.append(eng_corpus[sent_idx])\n",
    "#             successful_augment_indices.append(sent_idx)\n",
    "\n",
    "#         except (KeyError, IndexError):\n",
    "#             continue\n",
    "\n",
    "#     print(f\"Augmentation complete. {len(augmented_kor)} sentences generated.\")\n",
    "#     return augmented_kor, augmented_eng, successful_augment_indices\n",
    "\n",
    "# # 데이터 증강 실행 (40,000개)\n",
    "# augmented_kor_corpus, augmented_eng_corpus, augmented_indices = augment_with_pretrained_wv(\n",
    "#     train_kor_corpus, train_eng_corpus, wv, num_augmented_sentences=40000\n",
    "#     )\n",
    "\n",
    "# # --- 증강 샘플 출력 ---\n",
    "# print(\"\\n--- Augmentation Samples (with ko.vec Model) ---\")\n",
    "# num_samples_to_print = 5\n",
    "# if not augmented_kor_corpus:\n",
    "#     print(\"No sentences were successfully augmented.\")\n",
    "# else:\n",
    "#     for i in range(min(num_samples_to_print, len(augmented_kor_corpus))):\n",
    "#         original_idx = augmented_indices[i]\n",
    "#         print(f\"Sample {i+1}:\")\n",
    "#         print(f'  - Original KO:    {train_kor_corpus[original_idx]}')\n",
    "#         print(f'  - Augmented KO:   {augmented_kor_corpus[i]}')\n",
    "#         print(f'  - Corresponding EN: {train_eng_corpus[original_idx]}')\n",
    "# # --- 샘플 출력 끝 ---\n",
    "\n",
    "# # 기존 훈련 데이터에 증강된 데이터 추가\n",
    "# train_kor_corpus.extend(augmented_kor_corpus)\n",
    "# train_eng_corpus.extend(augmented_eng_corpus)\n",
    "\n",
    "# print(f'\\nTotal training sentences after augmentation: {len(train_kor_corpus)}')\n",
    "\n",
    "# # 증강된 데이터로 데이터로더를 다시 만듭니다.\n",
    "# train_dataset = TranslationDataset(train_kor_corpus, train_eng_corpus, ko_tokenizer, en_tokenizer)\n",
    "# train_loader = DataLoader(train_dataset, batch_size=BATCH_SIZE, shuffle=True, collate_fn=collate_fn, num_workers=4)\n",
    "\n",
    "# print(\"DataLoaders recreated with augmented data.\")\n",
    "# print(f\"Number of batches in new train_loader: {len(train_loader)}\")"
   ]
  },
  {
   "cell_type": "markdown",
   "metadata": {},
   "source": [
    "## 6. 트랜스포머 모델 정의"
   ]
  },
  {
   "cell_type": "code",
   "execution_count": 10,
   "metadata": {},
   "outputs": [],
   "source": [
    "class PositionalEncoding(nn.Module):\n",
    "    \"\"\"\n",
    "    입력 임베딩에 위치 정보를 추가하는 클래스입니다.\n",
    "    Transformer 모델은 순서 정보가 없으므로, 토큰의 위치를 알려주기 위해 sin/cos 함수를 사용합니다.\n",
    "    이 방식은 고정 위치 인코딩으로, 학습되지 않는 파라미터(buffer)로 등록됩니다.\n",
    "    \"\"\"\n",
    "    def __init__(self, emb_size: int, dropout: float, maxlen: int = 5000):\n",
    "        super(PositionalEncoding, self).__init__()\n",
    "        # sin/cos 함수에 사용할 div_term 계산: 주파수 조절을 위한 값\n",
    "        div_term = torch.exp(torch.arange(0, emb_size, 2) * (-math.log(10000.0) / emb_size))\n",
    "        # 각 위치(0~maxlen)에 대한 인덱스 생성\n",
    "        position = torch.arange(maxlen).unsqueeze(1)\n",
    "        # 위치 임베딩 행렬 초기화 (maxlen, emb_size)\n",
    "        pos_embedding = torch.zeros(maxlen, emb_size)\n",
    "        # 짝수 인덱스: sin 함수 적용\n",
    "        pos_embedding[:, 0::2] = torch.sin(position * div_term)\n",
    "        # 홀수 인덱스: cos 함수 적용\n",
    "        pos_embedding[:, 1::2] = torch.cos(position * div_term)\n",
    "        # 배치 차원 추가 (1, maxlen, emb_size)\n",
    "        pos_embedding = pos_embedding.unsqueeze(0)\n",
    "        self.dropout = nn.Dropout(dropout)\n",
    "        # 학습되지 않는 파라미터로 등록\n",
    "        self.register_buffer('pos_embedding', pos_embedding)\n",
    "\n",
    "    def forward(self, token_embedding):\n",
    "        \"\"\"\n",
    "        Args:\n",
    "            token_embedding: (batch_size, seq_len, emb_size)\n",
    "        Returns:\n",
    "            token_embedding + pos_embedding: 위치 정보가 더해진 임베딩\n",
    "        \"\"\"\n",
    "        return self.dropout(token_embedding + self.pos_embedding[:, :token_embedding.size(1), :])\n",
    "\n",
    "class MultiHeadAttention(nn.Module):\n",
    "    \"\"\"\n",
    "    다중 헤드 어텐션 메커니즘을 구현한 클래스.\n",
    "    쿼리, 키, 값 행렬을 여러 헤드로 분할하여 병렬로 어텐션을 계산하고, 결과를 결합합니다.\n",
    "    \"\"\"\n",
    "    def __init__(self, d_model, num_heads):\n",
    "        super(MultiHeadAttention, self).__init__()\n",
    "        self.num_heads = num_heads\n",
    "        self.d_model = d_model\n",
    "        self.depth = d_model // num_heads  # 각 헤드의 차원\n",
    "        # 쿼리, 키, 값 행렬을 위한 선형 변환 레이어\n",
    "        self.W_q = nn.Linear(d_model, d_model)\n",
    "        self.W_k = nn.Linear(d_model, d_model)\n",
    "        self.W_v = nn.Linear(d_model, d_model)\n",
    "        # 최종 출력 선형 변환 레이어\n",
    "        self.linear = nn.Linear(d_model, d_model)\n",
    "\n",
    "    def scaled_dot_product_attention(self, Q, K, V, mask=None):\n",
    "        \"\"\"\n",
    "        스케일드 닷-프로덕트 어텐션 계산.\n",
    "        Args:\n",
    "            Q: 쿼리 행렬\n",
    "            K: 키 행렬\n",
    "            V: 값 행렬\n",
    "            mask: 어텐션 마스크 (선택적)\n",
    "        Returns:\n",
    "            out: 어텐션 가중치 적용된 값 행렬\n",
    "            attentions: 어텐션 가중치 행렬\n",
    "        \"\"\"\n",
    "        d_k = Q.size(-1)\n",
    "        QK = torch.matmul(Q, K.transpose(-1, -2))  # QK^T 계산\n",
    "        scaled_qk = QK / math.sqrt(d_k)  # 스케일링\n",
    "        if mask is not None:\n",
    "            scaled_qk += (mask * -1e9)  # 마스크 적용 (매우 작은 값 더하기)\n",
    "        attentions = nn.Softmax(dim=-1)(scaled_qk)  # 소프트맥스 적용\n",
    "        out = torch.matmul(attentions, V)  # 가중치 적용\n",
    "        return out, attentions\n",
    "\n",
    "    def split_heads(self, x):\n",
    "        \"\"\"\n",
    "        입력 텐서를 여러 헤드로 분할.\n",
    "        Args:\n",
    "            x: (batch_size, seq_len, d_model)\n",
    "        Returns:\n",
    "            x: (batch_size, num_heads, seq_len, depth)\n",
    "        \"\"\"\n",
    "        bsz, seq_len, _ = x.size()\n",
    "        x = x.view(bsz, seq_len, self.num_heads, self.depth)\n",
    "        return x.permute(0, 2, 1, 3)  # 차원 재배치\n",
    "\n",
    "    def combine_heads(self, x):\n",
    "        \"\"\"\n",
    "        분할된 헤드를 다시 결합.\n",
    "        Args:\n",
    "            x: (batch_size, num_heads, seq_len, depth)\n",
    "        Returns:\n",
    "            x: (batch_size, seq_len, d_model)\n",
    "        \"\"\"\n",
    "        bsz, _, seq_len, _ = x.size()\n",
    "        x = x.permute(0, 2, 1, 3).contiguous()\n",
    "        return x.view(bsz, seq_len, self.d_model)\n",
    "\n",
    "    def forward(self, Q, K, V, mask=None):\n",
    "        \"\"\"\n",
    "        Args:\n",
    "            Q: 쿼리 입력 (batch_size, seq_len, d_model)\n",
    "            K: 키 입력\n",
    "            V: 값 입력\n",
    "            mask: 어텐션 마스크\n",
    "        Returns:\n",
    "            out: 어텐션 적용된 출력\n",
    "            attention_weights: 어텐션 가중치\n",
    "        \"\"\"\n",
    "        # 헤드 분할 후 어텐션 계산\n",
    "        WQ = self.split_heads(self.W_q(Q))\n",
    "        WK = self.split_heads(self.W_k(K))\n",
    "        WV = self.split_heads(self.W_v(V))\n",
    "        out, attention_weights = self.scaled_dot_product_attention(WQ, WK, WV, mask)\n",
    "        # 헤드 결합 후 선형 변환\n",
    "        out = self.combine_heads(out)\n",
    "        out = self.linear(out)\n",
    "        return out, attention_weights\n",
    "\n",
    "class PoswiseFeedForwardNet(nn.Module):\n",
    "    \"\"\"\n",
    "    포지션 와이즈 피드포워드 네트워크.\n",
    "    각 위치별로 독립적으로 적용되는 2층 완전 연결 네트워크 (ReLU 활성화 함수 사용).\n",
    "    \"\"\"\n",
    "    def __init__(self, d_model, d_ff):\n",
    "        super(PoswiseFeedForwardNet, self).__init__()\n",
    "        self.fc1 = nn.Linear(d_model, d_ff)  # 첫 번째 레이어 (차원 확장)\n",
    "        self.fc2 = nn.Linear(d_ff, d_model)  # 두 번째 레이어 (원래 차원으로 복원)\n",
    "        self.relu = nn.ReLU()\n",
    "\n",
    "    def forward(self, x):\n",
    "        \"\"\"\n",
    "        Args:\n",
    "            x: (batch_size, seq_len, d_model)\n",
    "        Returns:\n",
    "            x: (batch_size, seq_len, d_model)\n",
    "        \"\"\"\n",
    "        return self.fc2(self.relu(self.fc1(x)))\n",
    "\n",
    "class EncoderLayer(nn.Module):\n",
    "    \"\"\"\n",
    "    인코더의 단일 레이어.\n",
    "    셀프 어텐션과 피드포워드 네트워크를 포함하며, 레이어 정규화와 드롭아웃을 적용합니다.\n",
    "    \"\"\"\n",
    "    def __init__(self, d_model, n_heads, d_ff, dropout):\n",
    "        super(EncoderLayer, self).__init__()\n",
    "        self.enc_self_attn = MultiHeadAttention(d_model, n_heads)\n",
    "        self.ffn = PoswiseFeedForwardNet(d_model, d_ff)\n",
    "        self.norm_1 = nn.LayerNorm(d_model, eps=1e-6)  # 첫 번째 정규화\n",
    "        self.norm_2 = nn.LayerNorm(d_model, eps=1e-6)  # 두 번째 정규화\n",
    "        self.do = nn.Dropout(dropout)\n",
    "\n",
    "    def forward(self, x, mask):\n",
    "        \"\"\"\n",
    "        Args:\n",
    "            x: 입력 텐서\n",
    "            mask: 패딩 마스크\n",
    "        Returns:\n",
    "            out: 출력 텐서\n",
    "            enc_attn: 셀프 어텐션 가중치\n",
    "        \"\"\"\n",
    "        residual = x\n",
    "        # 셀프 어텐션 + 드롭아웃 + 잔차 연결\n",
    "        out, enc_attn = self.enc_self_attn(self.norm_1(x), self.norm_1(x), self.norm_1(x), mask)\n",
    "        out = self.do(out) + residual\n",
    "        residual = out\n",
    "        # 피드포워드 네트워크 + 드롭아웃 + 잔차 연결\n",
    "        out = self.ffn(self.norm_2(out))\n",
    "        out = self.do(out) + residual\n",
    "        return out, enc_attn\n",
    "\n",
    "class DecoderLayer(nn.Module):\n",
    "    \"\"\"\n",
    "    디코더의 단일 레이어.\n",
    "    셀프 어텐션, 인코더-디코더 어텐션, 피드포워드 네트워크를 포함합니다.\n",
    "    \"\"\"\n",
    "    def __init__(self, d_model, num_heads, d_ff, dropout):\n",
    "        super(DecoderLayer, self).__init__()\n",
    "        self.dec_self_attn = MultiHeadAttention(d_model, num_heads)  # 셀프 어텐션\n",
    "        self.enc_dec_attn = MultiHeadAttention(d_model, num_heads)  # 인코더-디코더 어텐션\n",
    "        self.ffn = PoswiseFeedForwardNet(d_model, d_ff)\n",
    "        self.norm_1 = nn.LayerNorm(d_model, eps=1e-6)\n",
    "        self.norm_2 = nn.LayerNorm(d_model, eps=1e-6)\n",
    "        self.norm_3 = nn.LayerNorm(d_model, eps=1e-6)\n",
    "        self.do = nn.Dropout(dropout)\n",
    "\n",
    "    def forward(self, x, enc_out, dec_enc_mask, padding_mask):\n",
    "        \"\"\"\n",
    "        Args:\n",
    "            x: 디코더 입력\n",
    "            enc_out: 인코더 출력\n",
    "            dec_enc_mask: 디코더-인코더 어텐션 마스크\n",
    "            padding_mask: 패딩 마스크\n",
    "        Returns:\n",
    "            out: 출력 텐서\n",
    "            dec_attn: 셀프 어텐션 가중치\n",
    "            dec_enc_attn: 인코더-디코더 어텐션 가중치\n",
    "        \"\"\"\n",
    "        residual = x\n",
    "        # 셀프 어텐션 (look-ahead 마스크 적용)\n",
    "        out, dec_attn = self.dec_self_attn(self.norm_1(x), self.norm_1(x), self.norm_1(x), mask=padding_mask)\n",
    "        out = self.do(out) + residual\n",
    "        residual = out\n",
    "        # 인코더-디코더 어텐션\n",
    "        out, dec_enc_attn = self.enc_dec_attn(self.norm_2(out), enc_out, enc_out, mask=dec_enc_mask)\n",
    "        out = self.do(out) + residual\n",
    "        residual = out\n",
    "        # 피드포워드 네트워크\n",
    "        out = self.ffn(self.norm_3(out))\n",
    "        out = self.do(out) + residual\n",
    "        return out, dec_attn, dec_enc_attn\n",
    "\n",
    "class Encoder(nn.Module):\n",
    "    \"\"\"\n",
    "    인코더 전체 구조.\n",
    "    임베딩 레이어, 위치 인코딩, 여러 개의 인코더 레이어로 구성됩니다.\n",
    "    \"\"\"\n",
    "    def __init__(self, n_layers, d_model, n_heads, d_ff, dropout, vocab_size):\n",
    "        super(Encoder, self).__init__()\n",
    "        self.d_model = d_model\n",
    "        self.embedding = nn.Embedding(vocab_size, d_model)  # 토큰 임베딩\n",
    "        self.pos_encoding = PositionalEncoding(d_model, dropout)  # 위치 인코딩\n",
    "        self.enc_layers = nn.ModuleList([EncoderLayer(d_model, n_heads, d_ff, dropout) for _ in range(n_layers)])\n",
    "\n",
    "    def forward(self, x, mask):\n",
    "        \"\"\"\n",
    "        Args:\n",
    "            x: 입력 시퀀스 (batch_size, seq_len)\n",
    "            mask: 패딩 마스크\n",
    "        Returns:\n",
    "            out: 인코더 출력\n",
    "            enc_attns: 각 레이어의 어텐션 가중치 리스트\n",
    "        \"\"\"\n",
    "        out = self.embedding(x) * math.sqrt(self.d_model)  # 임베딩 스케일링\n",
    "        out = self.pos_encoding(out)  # 위치 인코딩 추가\n",
    "        enc_attns = []\n",
    "        for layer in self.enc_layers:\n",
    "            out, enc_attn = layer(out, mask)\n",
    "            enc_attns.append(enc_attn)\n",
    "        return out, enc_attns\n",
    "\n",
    "class Decoder(nn.Module):\n",
    "    \"\"\"\n",
    "    디코더 전체 구조.\n",
    "    임베딩 레이어, 위치 인코딩, 여러 개의 디코더 레이어로 구성됩니다.\n",
    "    \"\"\"\n",
    "    def __init__(self, n_layers, d_model, n_heads, d_ff, dropout, vocab_size):\n",
    "        super(Decoder, self).__init__()\n",
    "        self.d_model = d_model\n",
    "        self.embedding = nn.Embedding(vocab_size, d_model)\n",
    "        self.pos_encoding = PositionalEncoding(d_model, dropout)\n",
    "        self.dec_layers = nn.ModuleList([DecoderLayer(d_model, n_heads, d_ff, dropout) for _ in range(n_layers)])\n",
    "\n",
    "    def forward(self, x, enc_out, dec_enc_mask, padding_mask):\n",
    "        \"\"\"\n",
    "        Args:\n",
    "            x: 디코더 입력 시퀀스\n",
    "            enc_out: 인코더 출력\n",
    "            dec_enc_mask: 디코더-인코더 어텐션 마스크\n",
    "            padding_mask: 패딩 마스크\n",
    "        Returns:\n",
    "            out: 디코더 출력\n",
    "            dec_attns: 셀프 어텐션 가중치 리스트\n",
    "            dec_enc_attns: 인코더-디코더 어텐션 가중치 리스트\n",
    "        \"\"\"\n",
    "        out = self.embedding(x) * math.sqrt(self.d_model)\n",
    "        out = self.pos_encoding(out)\n",
    "        dec_attns, dec_enc_attns = [], []\n",
    "        for layer in self.dec_layers:\n",
    "            out, dec_attn, dec_enc_attn = layer(out, enc_out, dec_enc_mask, padding_mask)\n",
    "            dec_attns.append(dec_attn)\n",
    "            dec_enc_attns.append(dec_enc_attn)\n",
    "        return out, dec_attns, dec_enc_attns\n",
    "\n",
    "class Transformer(nn.Module):\n",
    "    \"\"\"\n",
    "    전체 Transformer 모델.\n",
    "    인코더와 디코더를 연결하고, 최종 출력 레이어를 포함합니다.\n",
    "    \"\"\"\n",
    "    def __init__(self, n_layers, d_model, n_heads, d_ff, src_vocab_size, tgt_vocab_size, dropout):\n",
    "        super(Transformer, self).__init__()\n",
    "        self.encoder = Encoder(n_layers, d_model, n_heads, d_ff, dropout, src_vocab_size)\n",
    "        self.decoder = Decoder(n_layers, d_model, n_heads, d_ff, dropout, tgt_vocab_size)\n",
    "        self.fc = nn.Linear(d_model, tgt_vocab_size)  # 최종 출력 레이어\n",
    "\n",
    "    def forward(self, src, tgt):\n",
    "        \"\"\"\n",
    "        Args:\n",
    "            src: 소스 시퀀스 (batch_size, src_seq_len)\n",
    "            tgt: 타겟 시퀀스 (batch_size, tgt_seq_len)\n",
    "        Returns:\n",
    "            logits: 최종 예측 로짓 (batch_size, tgt_seq_len, tgt_vocab_size)\n",
    "            enc_attns: 인코더 어텐션 가중치 리스트\n",
    "            dec_attns: 디코더 셀프 어텐션 가중치 리스트\n",
    "            dec_enc_attns: 디코더-인코더 어텐션 가중치 리스트\n",
    "        \"\"\"\n",
    "        # 마스크 생성\n",
    "        src_mask = (src == ko_tokenizer.pad_id()).unsqueeze(1).unsqueeze(2)\n",
    "        tgt_mask = (tgt == en_tokenizer.pad_id()).unsqueeze(1).unsqueeze(2)\n",
    "        lookahead_mask = torch.triu(torch.ones(tgt.shape[1], tgt.shape[1]), diagonal=1).bool().to(device)\n",
    "        tgt_mask = tgt_mask | lookahead_mask\n",
    "        # 인코더/디코더 순전파\n",
    "        enc_out, enc_attns = self.encoder(src, src_mask)\n",
    "        dec_out, dec_attns, dec_enc_attns = self.decoder(tgt, enc_out, src_mask, tgt_mask)\n",
    "        logits = self.fc(dec_out)\n",
    "        return logits, enc_attns, dec_attns, dec_enc_attns"
   ]
  },
  {
   "cell_type": "markdown",
   "metadata": {},
   "source": [
    "## 7. 학습 설정"
   ]
  },
  {
   "cell_type": "code",
   "execution_count": 11,
   "metadata": {},
   "outputs": [],
   "source": [
    "class CustomLearningRateScheduler:\n",
    "    \"\"\"\n",
    "    \"Attention Is All You Need\" 논문에서 제안된 custom learning rate scheduler.\n",
    "    Warm-up 기간 동안 학습률을 선형적으로 증가시킨 후, step 수의 역제곱근에 비례하여 감소시킵니다.\n",
    "    \"\"\"\n",
    "    def __init__(self, optimizer, d_model, warmup_steps=4000):\n",
    "        self.optimizer = optimizer\n",
    "        self.d_model = d_model\n",
    "        self.warmup_steps = warmup_steps\n",
    "        self.num_steps = 0\n",
    "\n",
    "    def step(self):\n",
    "        \"\"\"학습률을 업데이트합니다.\"\"\"\n",
    "        self.num_steps += 1\n",
    "        lr = self._get_lr()\n",
    "        for param_group in self.optimizer.param_groups:\n",
    "            param_group['lr'] = lr\n",
    "\n",
    "    def _get_lr(self):\n",
    "        \"\"\"학습률을 계산합니다.\"\"\"\n",
    "        step = self.num_steps\n",
    "        # 수식: lrate = d_model**(-0.5) * min(step**(-0.5), step * warmup_steps**(-1.5))\n",
    "        arg1 = step ** -0.5\n",
    "        arg2 = step * (self.warmup_steps ** -1.5)\n",
    "        return (self.d_model ** -0.5) * min(arg1, arg2)\n",
    "\n",
    "    def state_dict(self):\n",
    "        \"\"\"스케줄러의 상태를 반환합니다.\"\"\"\n",
    "        return {'num_steps': self.num_steps}\n",
    "\n",
    "    def load_state_dict(self, state_dict):\n",
    "        \"\"\"스케줄러의 상태를 불러옵니다.\"\"\"\n",
    "        self.num_steps = state_dict['num_steps']"
   ]
  },
  {
   "cell_type": "code",
   "execution_count": 12,
   "metadata": {},
   "outputs": [
    {
     "name": "stdout",
     "output_type": "stream",
     "text": [
      "체크포인트를 불러옵니다: transformer-1.3-checkpoint.pth\n",
      "체크포인트 로드 완료. Epoch 2부터 훈련을 재개합니다.\n"
     ]
    }
   ],
   "source": [
    "# 모델, 손실 함수, 옵티마이저, 스케줄러 초기화\n",
    "model = Transformer(N_LAYERS, D_MODEL, N_HEADS, D_FF, SRC_VOCAB_SIZE, TGT_VOCAB_SIZE, DROPOUT).to(device)\n",
    "criterion = nn.CrossEntropyLoss(ignore_index=ko_tokenizer.pad_id())\n",
    "optimizer = optim.Adam(model.parameters(), lr=0, betas=(0.9, 0.98), eps=1e-9)\n",
    "scheduler = CustomLearningRateScheduler(optimizer, D_MODEL, warmup_steps=4000)\n",
    "\n",
    "# 체크포인트 불러오기\n",
    "start_epoch = 0\n",
    "best_valid_loss = float('inf')\n",
    "\n",
    "if os.path.exists(CHECKPOINT_PATH):\n",
    "    print(f\"체크포인트를 불러옵니다: {CHECKPOINT_PATH}\")\n",
    "    checkpoint = torch.load(CHECKPOINT_PATH)\n",
    "    model.load_state_dict(checkpoint['model_state_dict'])\n",
    "    optimizer.load_state_dict(checkpoint['optimizer_state_dict'])\n",
    "    scheduler.load_state_dict(checkpoint['scheduler_state_dict'])\n",
    "    start_epoch = checkpoint['epoch']\n",
    "    best_valid_loss = checkpoint['best_valid_loss']\n",
    "    print(f\"체크포인트 로드 완료. Epoch {start_epoch + 1}부터 훈련을 재개합니다.\")\n",
    "    model.to(device) # 모델을 device로 이동\n",
    "else:\n",
    "    print(\"체크포인트가 없습니다. 처음부터 훈련을 시작합니다.\")"
   ]
  },
  {
   "cell_type": "markdown",
   "metadata": {},
   "source": [
    "## 8. 학습 및 검증"
   ]
  },
  {
   "cell_type": "code",
   "execution_count": 13,
   "metadata": {},
   "outputs": [
    {
     "name": "stdout",
     "output_type": "stream",
     "text": [
      "Epoch 02 / 30\n"
     ]
    },
    {
     "data": {
      "application/vnd.jupyter.widget-view+json": {
       "model_id": "e33a450a246d478a9b5deb91e70c811e",
       "version_major": 2,
       "version_minor": 0
      },
      "text/plain": [
       "Training:   0%|          | 0/1234 [00:00<?, ?it/s]"
      ]
     },
     "metadata": {},
     "output_type": "display_data"
    },
    {
     "data": {
      "application/vnd.jupyter.widget-view+json": {
       "model_id": "d8a24c3e7d4c4c5db09608df5081a786",
       "version_major": 2,
       "version_minor": 0
      },
      "text/plain": [
       "Evaluating:   0%|          | 0/16 [00:00<?, ?it/s]"
      ]
     },
     "metadata": {},
     "output_type": "display_data"
    },
    {
     "name": "stdout",
     "output_type": "stream",
     "text": [
      "Validation loss improved. Checkpoint saved to transformer-1.3-checkpoint.pth\n",
      "Time: 10m 29s\n",
      "\tTrain Loss: 7.134 | Train PPL: 1253.335\n",
      "\t Val. Loss: 5.164 |  Val. PPL: 174.935\n",
      "------------------------------\n",
      "Epoch 03 / 30\n"
     ]
    },
    {
     "data": {
      "application/vnd.jupyter.widget-view+json": {
       "model_id": "86280aaf98e940339a4cf7dc097c00df",
       "version_major": 2,
       "version_minor": 0
      },
      "text/plain": [
       "Training:   0%|          | 0/1234 [00:00<?, ?it/s]"
      ]
     },
     "metadata": {},
     "output_type": "display_data"
    },
    {
     "data": {
      "application/vnd.jupyter.widget-view+json": {
       "model_id": "4fbf73d96a9a481ba26b8da2c6a2226f",
       "version_major": 2,
       "version_minor": 0
      },
      "text/plain": [
       "Evaluating:   0%|          | 0/16 [00:00<?, ?it/s]"
      ]
     },
     "metadata": {},
     "output_type": "display_data"
    },
    {
     "name": "stdout",
     "output_type": "stream",
     "text": [
      "Validation loss improved. Checkpoint saved to transformer-1.3-checkpoint.pth\n",
      "Time: 10m 33s\n",
      "\tTrain Loss: 4.918 | Train PPL: 136.769\n",
      "\t Val. Loss: 4.753 |  Val. PPL: 115.952\n",
      "------------------------------\n",
      "Epoch 04 / 30\n"
     ]
    },
    {
     "data": {
      "application/vnd.jupyter.widget-view+json": {
       "model_id": "3c3363e8664f4d5591e7e08e4187517a",
       "version_major": 2,
       "version_minor": 0
      },
      "text/plain": [
       "Training:   0%|          | 0/1234 [00:00<?, ?it/s]"
      ]
     },
     "metadata": {},
     "output_type": "display_data"
    },
    {
     "data": {
      "application/vnd.jupyter.widget-view+json": {
       "model_id": "edf0c757d8354e2488ebb9ccac7e24a0",
       "version_major": 2,
       "version_minor": 0
      },
      "text/plain": [
       "Evaluating:   0%|          | 0/16 [00:00<?, ?it/s]"
      ]
     },
     "metadata": {},
     "output_type": "display_data"
    },
    {
     "name": "stdout",
     "output_type": "stream",
     "text": [
      "Validation loss improved. Checkpoint saved to transformer-1.3-checkpoint.pth\n",
      "Time: 10m 29s\n",
      "\tTrain Loss: 4.652 | Train PPL: 104.793\n",
      "\t Val. Loss: 4.593 |  Val. PPL:  98.761\n",
      "------------------------------\n",
      "Epoch 05 / 30\n"
     ]
    },
    {
     "data": {
      "application/vnd.jupyter.widget-view+json": {
       "model_id": "5aeb5d7d3b8e4c2c8827a9f707c588e2",
       "version_major": 2,
       "version_minor": 0
      },
      "text/plain": [
       "Training:   0%|          | 0/1234 [00:00<?, ?it/s]"
      ]
     },
     "metadata": {},
     "output_type": "display_data"
    },
    {
     "data": {
      "application/vnd.jupyter.widget-view+json": {
       "model_id": "402ef687a2b34640ad549bc41b9fc1a0",
       "version_major": 2,
       "version_minor": 0
      },
      "text/plain": [
       "Evaluating:   0%|          | 0/16 [00:00<?, ?it/s]"
      ]
     },
     "metadata": {},
     "output_type": "display_data"
    },
    {
     "name": "stdout",
     "output_type": "stream",
     "text": [
      "Validation loss improved. Checkpoint saved to transformer-1.3-checkpoint.pth\n",
      "Time: 10m 25s\n",
      "\tTrain Loss: 4.402 | Train PPL:  81.651\n",
      "\t Val. Loss: 4.361 |  Val. PPL:  78.323\n",
      "------------------------------\n",
      "Epoch 06 / 30\n"
     ]
    },
    {
     "data": {
      "application/vnd.jupyter.widget-view+json": {
       "model_id": "fa5ccfa6fc224140acd360188c1f6b3e",
       "version_major": 2,
       "version_minor": 0
      },
      "text/plain": [
       "Training:   0%|          | 0/1234 [00:00<?, ?it/s]"
      ]
     },
     "metadata": {},
     "output_type": "display_data"
    },
    {
     "data": {
      "application/vnd.jupyter.widget-view+json": {
       "model_id": "12be98a45ba94e2698e04341668842d1",
       "version_major": 2,
       "version_minor": 0
      },
      "text/plain": [
       "Evaluating:   0%|          | 0/16 [00:00<?, ?it/s]"
      ]
     },
     "metadata": {},
     "output_type": "display_data"
    },
    {
     "name": "stdout",
     "output_type": "stream",
     "text": [
      "Validation loss improved. Checkpoint saved to transformer-1.3-checkpoint.pth\n",
      "Time: 10m 24s\n",
      "\tTrain Loss: 4.225 | Train PPL:  68.341\n",
      "\t Val. Loss: 4.256 |  Val. PPL:  70.522\n",
      "------------------------------\n",
      "Epoch 07 / 30\n"
     ]
    },
    {
     "data": {
      "application/vnd.jupyter.widget-view+json": {
       "model_id": "7c9e39990cdf4e1e8a59b783a430841f",
       "version_major": 2,
       "version_minor": 0
      },
      "text/plain": [
       "Training:   0%|          | 0/1234 [00:00<?, ?it/s]"
      ]
     },
     "metadata": {},
     "output_type": "display_data"
    },
    {
     "data": {
      "application/vnd.jupyter.widget-view+json": {
       "model_id": "a7fd2ef0d8924d148314ad1761314c0a",
       "version_major": 2,
       "version_minor": 0
      },
      "text/plain": [
       "Evaluating:   0%|          | 0/16 [00:00<?, ?it/s]"
      ]
     },
     "metadata": {},
     "output_type": "display_data"
    },
    {
     "name": "stdout",
     "output_type": "stream",
     "text": [
      "Validation loss improved. Checkpoint saved to transformer-1.3-checkpoint.pth\n",
      "Time: 10m 22s\n",
      "\tTrain Loss: 4.056 | Train PPL:  57.757\n",
      "\t Val. Loss: 4.162 |  Val. PPL:  64.182\n",
      "------------------------------\n",
      "Epoch 08 / 30\n"
     ]
    },
    {
     "data": {
      "application/vnd.jupyter.widget-view+json": {
       "model_id": "1b31d5f7a90c406e9bee28137755430d",
       "version_major": 2,
       "version_minor": 0
      },
      "text/plain": [
       "Training:   0%|          | 0/1234 [00:00<?, ?it/s]"
      ]
     },
     "metadata": {},
     "output_type": "display_data"
    },
    {
     "data": {
      "application/vnd.jupyter.widget-view+json": {
       "model_id": "f8d11f039391440d977198f4ac7a49aa",
       "version_major": 2,
       "version_minor": 0
      },
      "text/plain": [
       "Evaluating:   0%|          | 0/16 [00:00<?, ?it/s]"
      ]
     },
     "metadata": {},
     "output_type": "display_data"
    },
    {
     "name": "stdout",
     "output_type": "stream",
     "text": [
      "Validation loss improved. Checkpoint saved to transformer-1.3-checkpoint.pth\n",
      "Time: 10m 21s\n",
      "\tTrain Loss: 3.918 | Train PPL:  50.318\n",
      "\t Val. Loss: 4.063 |  Val. PPL:  58.158\n",
      "------------------------------\n",
      "Epoch 09 / 30\n"
     ]
    },
    {
     "data": {
      "application/vnd.jupyter.widget-view+json": {
       "model_id": "b711ba4db8c44c0c99e4f0b45fa5a2fc",
       "version_major": 2,
       "version_minor": 0
      },
      "text/plain": [
       "Training:   0%|          | 0/1234 [00:00<?, ?it/s]"
      ]
     },
     "metadata": {},
     "output_type": "display_data"
    },
    {
     "data": {
      "application/vnd.jupyter.widget-view+json": {
       "model_id": "91cb3886bc724c2aa4459a744e06307a",
       "version_major": 2,
       "version_minor": 0
      },
      "text/plain": [
       "Evaluating:   0%|          | 0/16 [00:00<?, ?it/s]"
      ]
     },
     "metadata": {},
     "output_type": "display_data"
    },
    {
     "name": "stdout",
     "output_type": "stream",
     "text": [
      "Validation loss improved. Checkpoint saved to transformer-1.3-checkpoint.pth\n",
      "Time: 10m 20s\n",
      "\tTrain Loss: 3.791 | Train PPL:  44.311\n",
      "\t Val. Loss: 3.987 |  Val. PPL:  53.867\n",
      "------------------------------\n",
      "Epoch 10 / 30\n"
     ]
    },
    {
     "data": {
      "application/vnd.jupyter.widget-view+json": {
       "model_id": "c286611b0a884b63a5d88c2817c80d25",
       "version_major": 2,
       "version_minor": 0
      },
      "text/plain": [
       "Training:   0%|          | 0/1234 [00:00<?, ?it/s]"
      ]
     },
     "metadata": {},
     "output_type": "display_data"
    },
    {
     "data": {
      "application/vnd.jupyter.widget-view+json": {
       "model_id": "94f7858dc47c4da69f40d523cf3148de",
       "version_major": 2,
       "version_minor": 0
      },
      "text/plain": [
       "Evaluating:   0%|          | 0/16 [00:00<?, ?it/s]"
      ]
     },
     "metadata": {},
     "output_type": "display_data"
    },
    {
     "name": "stdout",
     "output_type": "stream",
     "text": [
      "Validation loss improved. Checkpoint saved to transformer-1.3-checkpoint.pth\n",
      "Time: 10m 20s\n",
      "\tTrain Loss: 3.680 | Train PPL:  39.639\n",
      "\t Val. Loss: 3.915 |  Val. PPL:  50.147\n",
      "------------------------------\n",
      "Epoch 11 / 30\n"
     ]
    },
    {
     "data": {
      "application/vnd.jupyter.widget-view+json": {
       "model_id": "c323dc90dada4a38a83741ef755c3abd",
       "version_major": 2,
       "version_minor": 0
      },
      "text/plain": [
       "Training:   0%|          | 0/1234 [00:00<?, ?it/s]"
      ]
     },
     "metadata": {},
     "output_type": "display_data"
    },
    {
     "data": {
      "application/vnd.jupyter.widget-view+json": {
       "model_id": "0b9858e86a214e7e8e37a008f2b2e835",
       "version_major": 2,
       "version_minor": 0
      },
      "text/plain": [
       "Evaluating:   0%|          | 0/16 [00:00<?, ?it/s]"
      ]
     },
     "metadata": {},
     "output_type": "display_data"
    },
    {
     "name": "stdout",
     "output_type": "stream",
     "text": [
      "Validation loss improved. Checkpoint saved to transformer-1.3-checkpoint.pth\n",
      "Time: 10m 19s\n",
      "\tTrain Loss: 3.581 | Train PPL:  35.892\n",
      "\t Val. Loss: 3.889 |  Val. PPL:  48.860\n",
      "------------------------------\n",
      "Epoch 12 / 30\n"
     ]
    },
    {
     "data": {
      "application/vnd.jupyter.widget-view+json": {
       "model_id": "66ed66d5a93f4a85900f953560b61a28",
       "version_major": 2,
       "version_minor": 0
      },
      "text/plain": [
       "Training:   0%|          | 0/1234 [00:00<?, ?it/s]"
      ]
     },
     "metadata": {},
     "output_type": "display_data"
    },
    {
     "data": {
      "application/vnd.jupyter.widget-view+json": {
       "model_id": "945f9725766e4b73bd07364a50b807be",
       "version_major": 2,
       "version_minor": 0
      },
      "text/plain": [
       "Evaluating:   0%|          | 0/16 [00:00<?, ?it/s]"
      ]
     },
     "metadata": {},
     "output_type": "display_data"
    },
    {
     "name": "stdout",
     "output_type": "stream",
     "text": [
      "Validation loss improved. Checkpoint saved to transformer-1.3-checkpoint.pth\n",
      "Time: 10m 18s\n",
      "\tTrain Loss: 3.491 | Train PPL:  32.812\n",
      "\t Val. Loss: 3.863 |  Val. PPL:  47.611\n",
      "------------------------------\n",
      "Epoch 13 / 30\n"
     ]
    },
    {
     "data": {
      "application/vnd.jupyter.widget-view+json": {
       "model_id": "5adbc94980e34d53a05f0d4952393f1e",
       "version_major": 2,
       "version_minor": 0
      },
      "text/plain": [
       "Training:   0%|          | 0/1234 [00:00<?, ?it/s]"
      ]
     },
     "metadata": {},
     "output_type": "display_data"
    },
    {
     "data": {
      "application/vnd.jupyter.widget-view+json": {
       "model_id": "3dbcd9b9e33b4a76a402b574e94a2eba",
       "version_major": 2,
       "version_minor": 0
      },
      "text/plain": [
       "Evaluating:   0%|          | 0/16 [00:00<?, ?it/s]"
      ]
     },
     "metadata": {},
     "output_type": "display_data"
    },
    {
     "name": "stdout",
     "output_type": "stream",
     "text": [
      "Validation loss improved. Checkpoint saved to transformer-1.3-checkpoint.pth\n",
      "Time: 10m 18s\n",
      "\tTrain Loss: 3.403 | Train PPL:  30.064\n",
      "\t Val. Loss: 3.817 |  Val. PPL:  45.449\n",
      "------------------------------\n",
      "Epoch 14 / 30\n"
     ]
    },
    {
     "data": {
      "application/vnd.jupyter.widget-view+json": {
       "model_id": "f1a7d14be53a4ef6a39776756e498b3a",
       "version_major": 2,
       "version_minor": 0
      },
      "text/plain": [
       "Training:   0%|          | 0/1234 [00:00<?, ?it/s]"
      ]
     },
     "metadata": {},
     "output_type": "display_data"
    },
    {
     "data": {
      "application/vnd.jupyter.widget-view+json": {
       "model_id": "6f2e505edd0947398068786a229603bd",
       "version_major": 2,
       "version_minor": 0
      },
      "text/plain": [
       "Evaluating:   0%|          | 0/16 [00:00<?, ?it/s]"
      ]
     },
     "metadata": {},
     "output_type": "display_data"
    },
    {
     "name": "stdout",
     "output_type": "stream",
     "text": [
      "Validation loss improved. Checkpoint saved to transformer-1.3-checkpoint.pth\n",
      "Time: 10m 20s\n",
      "\tTrain Loss: 3.328 | Train PPL:  27.877\n",
      "\t Val. Loss: 3.813 |  Val. PPL:  45.300\n",
      "------------------------------\n",
      "Epoch 15 / 30\n"
     ]
    },
    {
     "data": {
      "application/vnd.jupyter.widget-view+json": {
       "model_id": "c239c3a3aba14eada469b07e0c7bf97d",
       "version_major": 2,
       "version_minor": 0
      },
      "text/plain": [
       "Training:   0%|          | 0/1234 [00:00<?, ?it/s]"
      ]
     },
     "metadata": {},
     "output_type": "display_data"
    },
    {
     "data": {
      "application/vnd.jupyter.widget-view+json": {
       "model_id": "cab528966c7343ca87d534ee3bbeed38",
       "version_major": 2,
       "version_minor": 0
      },
      "text/plain": [
       "Evaluating:   0%|          | 0/16 [00:00<?, ?it/s]"
      ]
     },
     "metadata": {},
     "output_type": "display_data"
    },
    {
     "name": "stdout",
     "output_type": "stream",
     "text": [
      "Validation loss improved. Checkpoint saved to transformer-1.3-checkpoint.pth\n",
      "Time: 10m 19s\n",
      "\tTrain Loss: 3.252 | Train PPL:  25.848\n",
      "\t Val. Loss: 3.783 |  Val. PPL:  43.961\n",
      "------------------------------\n",
      "Epoch 16 / 30\n"
     ]
    },
    {
     "data": {
      "application/vnd.jupyter.widget-view+json": {
       "model_id": "15bed4e56ed946f29e9e1a36dbb4dca3",
       "version_major": 2,
       "version_minor": 0
      },
      "text/plain": [
       "Training:   0%|          | 0/1234 [00:00<?, ?it/s]"
      ]
     },
     "metadata": {},
     "output_type": "display_data"
    },
    {
     "data": {
      "application/vnd.jupyter.widget-view+json": {
       "model_id": "dfdb1797f59749449a6f3a167c98ca6c",
       "version_major": 2,
       "version_minor": 0
      },
      "text/plain": [
       "Evaluating:   0%|          | 0/16 [00:00<?, ?it/s]"
      ]
     },
     "metadata": {},
     "output_type": "display_data"
    },
    {
     "name": "stdout",
     "output_type": "stream",
     "text": [
      "Validation loss improved. Checkpoint saved to transformer-1.3-checkpoint.pth\n",
      "Time: 10m 19s\n",
      "\tTrain Loss: 3.180 | Train PPL:  24.053\n",
      "\t Val. Loss: 3.769 |  Val. PPL:  43.357\n",
      "------------------------------\n",
      "Epoch 17 / 30\n"
     ]
    },
    {
     "data": {
      "application/vnd.jupyter.widget-view+json": {
       "model_id": "eda6b646b7824855a1b445817246d1ae",
       "version_major": 2,
       "version_minor": 0
      },
      "text/plain": [
       "Training:   0%|          | 0/1234 [00:00<?, ?it/s]"
      ]
     },
     "metadata": {},
     "output_type": "display_data"
    },
    {
     "data": {
      "application/vnd.jupyter.widget-view+json": {
       "model_id": "2fd7bbd52cf140f298ea6589ad05f10e",
       "version_major": 2,
       "version_minor": 0
      },
      "text/plain": [
       "Evaluating:   0%|          | 0/16 [00:00<?, ?it/s]"
      ]
     },
     "metadata": {},
     "output_type": "display_data"
    },
    {
     "name": "stdout",
     "output_type": "stream",
     "text": [
      "Validation loss did not improve. Counter: 1/3\n",
      "Time: 10m 18s\n",
      "\tTrain Loss: 3.114 | Train PPL:  22.500\n",
      "\t Val. Loss: 3.780 |  Val. PPL:  43.821\n",
      "------------------------------\n",
      "Epoch 18 / 30\n"
     ]
    },
    {
     "data": {
      "application/vnd.jupyter.widget-view+json": {
       "model_id": "6467bd1c3c6745cdb6a5e8c7b40b39da",
       "version_major": 2,
       "version_minor": 0
      },
      "text/plain": [
       "Training:   0%|          | 0/1234 [00:00<?, ?it/s]"
      ]
     },
     "metadata": {},
     "output_type": "display_data"
    },
    {
     "data": {
      "application/vnd.jupyter.widget-view+json": {
       "model_id": "9811baeec4c744d7bab57677da464dc6",
       "version_major": 2,
       "version_minor": 0
      },
      "text/plain": [
       "Evaluating:   0%|          | 0/16 [00:00<?, ?it/s]"
      ]
     },
     "metadata": {},
     "output_type": "display_data"
    },
    {
     "name": "stdout",
     "output_type": "stream",
     "text": [
      "Validation loss did not improve. Counter: 2/3\n",
      "Time: 10m 19s\n",
      "\tTrain Loss: 3.051 | Train PPL:  21.146\n",
      "\t Val. Loss: 3.772 |  Val. PPL:  43.464\n",
      "------------------------------\n",
      "Epoch 19 / 30\n"
     ]
    },
    {
     "data": {
      "application/vnd.jupyter.widget-view+json": {
       "model_id": "9d61f1d9b39247ea93b2dca2702d3f2f",
       "version_major": 2,
       "version_minor": 0
      },
      "text/plain": [
       "Training:   0%|          | 0/1234 [00:00<?, ?it/s]"
      ]
     },
     "metadata": {},
     "output_type": "display_data"
    },
    {
     "data": {
      "application/vnd.jupyter.widget-view+json": {
       "model_id": "94937237f82740f4a50229f0ec10e483",
       "version_major": 2,
       "version_minor": 0
      },
      "text/plain": [
       "Evaluating:   0%|          | 0/16 [00:00<?, ?it/s]"
      ]
     },
     "metadata": {},
     "output_type": "display_data"
    },
    {
     "name": "stdout",
     "output_type": "stream",
     "text": [
      "Validation loss improved. Checkpoint saved to transformer-1.3-checkpoint.pth\n",
      "Time: 10m 18s\n",
      "\tTrain Loss: 2.988 | Train PPL:  19.847\n",
      "\t Val. Loss: 3.769 |  Val. PPL:  43.355\n",
      "------------------------------\n",
      "Epoch 20 / 30\n"
     ]
    },
    {
     "data": {
      "application/vnd.jupyter.widget-view+json": {
       "model_id": "d9bbf774973a4917b821b9a185a4d850",
       "version_major": 2,
       "version_minor": 0
      },
      "text/plain": [
       "Training:   0%|          | 0/1234 [00:00<?, ?it/s]"
      ]
     },
     "metadata": {},
     "output_type": "display_data"
    },
    {
     "data": {
      "application/vnd.jupyter.widget-view+json": {
       "model_id": "b6a6dd1e67544511978a39d15adf9f51",
       "version_major": 2,
       "version_minor": 0
      },
      "text/plain": [
       "Evaluating:   0%|          | 0/16 [00:00<?, ?it/s]"
      ]
     },
     "metadata": {},
     "output_type": "display_data"
    },
    {
     "name": "stdout",
     "output_type": "stream",
     "text": [
      "Validation loss improved. Checkpoint saved to transformer-1.3-checkpoint.pth\n",
      "Time: 10m 18s\n",
      "\tTrain Loss: 2.931 | Train PPL:  18.746\n",
      "\t Val. Loss: 3.763 |  Val. PPL:  43.075\n",
      "------------------------------\n",
      "Epoch 21 / 30\n"
     ]
    },
    {
     "data": {
      "application/vnd.jupyter.widget-view+json": {
       "model_id": "8332d57ddf6b4c7aa0ebe9584960f298",
       "version_major": 2,
       "version_minor": 0
      },
      "text/plain": [
       "Training:   0%|          | 0/1234 [00:00<?, ?it/s]"
      ]
     },
     "metadata": {},
     "output_type": "display_data"
    },
    {
     "data": {
      "application/vnd.jupyter.widget-view+json": {
       "model_id": "327946c828a1425cba03774484aaa2d2",
       "version_major": 2,
       "version_minor": 0
      },
      "text/plain": [
       "Evaluating:   0%|          | 0/16 [00:00<?, ?it/s]"
      ]
     },
     "metadata": {},
     "output_type": "display_data"
    },
    {
     "name": "stdout",
     "output_type": "stream",
     "text": [
      "Validation loss did not improve. Counter: 1/3\n",
      "Time: 10m 19s\n",
      "\tTrain Loss: 2.877 | Train PPL:  17.754\n",
      "\t Val. Loss: 3.777 |  Val. PPL:  43.684\n",
      "------------------------------\n",
      "Epoch 22 / 30\n"
     ]
    },
    {
     "data": {
      "application/vnd.jupyter.widget-view+json": {
       "model_id": "80c9bba6c0054b52bd1123b389a780fd",
       "version_major": 2,
       "version_minor": 0
      },
      "text/plain": [
       "Training:   0%|          | 0/1234 [00:00<?, ?it/s]"
      ]
     },
     "metadata": {},
     "output_type": "display_data"
    },
    {
     "data": {
      "application/vnd.jupyter.widget-view+json": {
       "model_id": "c73b4322c5424dbe83d1dced131502d4",
       "version_major": 2,
       "version_minor": 0
      },
      "text/plain": [
       "Evaluating:   0%|          | 0/16 [00:00<?, ?it/s]"
      ]
     },
     "metadata": {},
     "output_type": "display_data"
    },
    {
     "name": "stdout",
     "output_type": "stream",
     "text": [
      "Validation loss did not improve. Counter: 2/3\n",
      "Time: 10m 21s\n",
      "\tTrain Loss: 2.824 | Train PPL:  16.840\n",
      "\t Val. Loss: 3.780 |  Val. PPL:  43.821\n",
      "------------------------------\n",
      "Epoch 23 / 30\n"
     ]
    },
    {
     "data": {
      "application/vnd.jupyter.widget-view+json": {
       "model_id": "f783d8fe88c8410aad60dc52d426c27b",
       "version_major": 2,
       "version_minor": 0
      },
      "text/plain": [
       "Training:   0%|          | 0/1234 [00:00<?, ?it/s]"
      ]
     },
     "metadata": {},
     "output_type": "display_data"
    },
    {
     "ename": "KeyboardInterrupt",
     "evalue": "",
     "output_type": "error",
     "traceback": [
      "\u001b[31m---------------------------------------------------------------------------\u001b[39m",
      "\u001b[31mKeyboardInterrupt\u001b[39m                         Traceback (most recent call last)",
      "\u001b[36mCell\u001b[39m\u001b[36m \u001b[39m\u001b[32mIn[13]\u001b[39m\u001b[32m, line 59\u001b[39m\n\u001b[32m     55\u001b[39m start_time = time.time()\n\u001b[32m     57\u001b[39m \u001b[38;5;28mprint\u001b[39m(\u001b[33mf\u001b[39m\u001b[33m\"\u001b[39m\u001b[33mEpoch \u001b[39m\u001b[38;5;132;01m{\u001b[39;00mepoch+\u001b[32m1\u001b[39m\u001b[38;5;132;01m:\u001b[39;00m\u001b[33m02\u001b[39m\u001b[38;5;132;01m}\u001b[39;00m\u001b[33m / \u001b[39m\u001b[38;5;132;01m{\u001b[39;00mEPOCHS\u001b[38;5;132;01m:\u001b[39;00m\u001b[33m02\u001b[39m\u001b[38;5;132;01m}\u001b[39;00m\u001b[33m\"\u001b[39m)\n\u001b[32m---> \u001b[39m\u001b[32m59\u001b[39m train_loss = \u001b[43mtrain\u001b[49m\u001b[43m(\u001b[49m\u001b[43mmodel\u001b[49m\u001b[43m,\u001b[49m\u001b[43m \u001b[49m\u001b[43mtrain_loader\u001b[49m\u001b[43m,\u001b[49m\u001b[43m \u001b[49m\u001b[43moptimizer\u001b[49m\u001b[43m,\u001b[49m\u001b[43m \u001b[49m\u001b[43mscheduler\u001b[49m\u001b[43m,\u001b[49m\u001b[43m \u001b[49m\u001b[43mcriterion\u001b[49m\u001b[43m,\u001b[49m\u001b[43m \u001b[49m\u001b[32;43m1\u001b[39;49m\u001b[43m)\u001b[49m\n\u001b[32m     60\u001b[39m valid_loss = evaluate(model, valid_loader, criterion)\n\u001b[32m     62\u001b[39m end_time = time.time()\n",
      "\u001b[36mCell\u001b[39m\u001b[36m \u001b[39m\u001b[32mIn[13]\u001b[39m\u001b[32m, line 18\u001b[39m, in \u001b[36mtrain\u001b[39m\u001b[34m(model, iterator, optimizer, scheduler, criterion, clip)\u001b[39m\n\u001b[32m     15\u001b[39m tgt = tgt[:,\u001b[32m1\u001b[39m:].contiguous().view(-\u001b[32m1\u001b[39m)\n\u001b[32m     17\u001b[39m loss = criterion(output, tgt)\n\u001b[32m---> \u001b[39m\u001b[32m18\u001b[39m \u001b[43mloss\u001b[49m\u001b[43m.\u001b[49m\u001b[43mbackward\u001b[49m\u001b[43m(\u001b[49m\u001b[43m)\u001b[49m\n\u001b[32m     20\u001b[39m torch.nn.utils.clip_grad_norm_(model.parameters(), clip)\n\u001b[32m     22\u001b[39m scheduler.step()\n",
      "\u001b[36mFile \u001b[39m\u001b[32m/opt/conda/lib/python3.12/site-packages/torch/_tensor.py:648\u001b[39m, in \u001b[36mTensor.backward\u001b[39m\u001b[34m(self, gradient, retain_graph, create_graph, inputs)\u001b[39m\n\u001b[32m    638\u001b[39m \u001b[38;5;28;01mif\u001b[39;00m has_torch_function_unary(\u001b[38;5;28mself\u001b[39m):\n\u001b[32m    639\u001b[39m     \u001b[38;5;28;01mreturn\u001b[39;00m handle_torch_function(\n\u001b[32m    640\u001b[39m         Tensor.backward,\n\u001b[32m    641\u001b[39m         (\u001b[38;5;28mself\u001b[39m,),\n\u001b[32m   (...)\u001b[39m\u001b[32m    646\u001b[39m         inputs=inputs,\n\u001b[32m    647\u001b[39m     )\n\u001b[32m--> \u001b[39m\u001b[32m648\u001b[39m \u001b[43mtorch\u001b[49m\u001b[43m.\u001b[49m\u001b[43mautograd\u001b[49m\u001b[43m.\u001b[49m\u001b[43mbackward\u001b[49m\u001b[43m(\u001b[49m\n\u001b[32m    649\u001b[39m \u001b[43m    \u001b[49m\u001b[38;5;28;43mself\u001b[39;49m\u001b[43m,\u001b[49m\u001b[43m \u001b[49m\u001b[43mgradient\u001b[49m\u001b[43m,\u001b[49m\u001b[43m \u001b[49m\u001b[43mretain_graph\u001b[49m\u001b[43m,\u001b[49m\u001b[43m \u001b[49m\u001b[43mcreate_graph\u001b[49m\u001b[43m,\u001b[49m\u001b[43m \u001b[49m\u001b[43minputs\u001b[49m\u001b[43m=\u001b[49m\u001b[43minputs\u001b[49m\n\u001b[32m    650\u001b[39m \u001b[43m\u001b[49m\u001b[43m)\u001b[49m\n",
      "\u001b[36mFile \u001b[39m\u001b[32m/opt/conda/lib/python3.12/site-packages/torch/autograd/__init__.py:353\u001b[39m, in \u001b[36mbackward\u001b[39m\u001b[34m(tensors, grad_tensors, retain_graph, create_graph, grad_variables, inputs)\u001b[39m\n\u001b[32m    348\u001b[39m     retain_graph = create_graph\n\u001b[32m    350\u001b[39m \u001b[38;5;66;03m# The reason we repeat the same comment below is that\u001b[39;00m\n\u001b[32m    351\u001b[39m \u001b[38;5;66;03m# some Python versions print out the first line of a multi-line function\u001b[39;00m\n\u001b[32m    352\u001b[39m \u001b[38;5;66;03m# calls in the traceback and some print out the last line\u001b[39;00m\n\u001b[32m--> \u001b[39m\u001b[32m353\u001b[39m \u001b[43m_engine_run_backward\u001b[49m\u001b[43m(\u001b[49m\n\u001b[32m    354\u001b[39m \u001b[43m    \u001b[49m\u001b[43mtensors\u001b[49m\u001b[43m,\u001b[49m\n\u001b[32m    355\u001b[39m \u001b[43m    \u001b[49m\u001b[43mgrad_tensors_\u001b[49m\u001b[43m,\u001b[49m\n\u001b[32m    356\u001b[39m \u001b[43m    \u001b[49m\u001b[43mretain_graph\u001b[49m\u001b[43m,\u001b[49m\n\u001b[32m    357\u001b[39m \u001b[43m    \u001b[49m\u001b[43mcreate_graph\u001b[49m\u001b[43m,\u001b[49m\n\u001b[32m    358\u001b[39m \u001b[43m    \u001b[49m\u001b[43minputs\u001b[49m\u001b[43m,\u001b[49m\n\u001b[32m    359\u001b[39m \u001b[43m    \u001b[49m\u001b[43mallow_unreachable\u001b[49m\u001b[43m=\u001b[49m\u001b[38;5;28;43;01mTrue\u001b[39;49;00m\u001b[43m,\u001b[49m\n\u001b[32m    360\u001b[39m \u001b[43m    \u001b[49m\u001b[43maccumulate_grad\u001b[49m\u001b[43m=\u001b[49m\u001b[38;5;28;43;01mTrue\u001b[39;49;00m\u001b[43m,\u001b[49m\n\u001b[32m    361\u001b[39m \u001b[43m\u001b[49m\u001b[43m)\u001b[49m\n",
      "\u001b[36mFile \u001b[39m\u001b[32m/opt/conda/lib/python3.12/site-packages/torch/autograd/graph.py:824\u001b[39m, in \u001b[36m_engine_run_backward\u001b[39m\u001b[34m(t_outputs, *args, **kwargs)\u001b[39m\n\u001b[32m    822\u001b[39m     unregister_hooks = _register_logging_hooks_on_whole_graph(t_outputs)\n\u001b[32m    823\u001b[39m \u001b[38;5;28;01mtry\u001b[39;00m:\n\u001b[32m--> \u001b[39m\u001b[32m824\u001b[39m     \u001b[38;5;28;01mreturn\u001b[39;00m \u001b[43mVariable\u001b[49m\u001b[43m.\u001b[49m\u001b[43m_execution_engine\u001b[49m\u001b[43m.\u001b[49m\u001b[43mrun_backward\u001b[49m\u001b[43m(\u001b[49m\u001b[43m  \u001b[49m\u001b[38;5;66;43;03m# Calls into the C++ engine to run the backward pass\u001b[39;49;00m\n\u001b[32m    825\u001b[39m \u001b[43m        \u001b[49m\u001b[43mt_outputs\u001b[49m\u001b[43m,\u001b[49m\u001b[43m \u001b[49m\u001b[43m*\u001b[49m\u001b[43margs\u001b[49m\u001b[43m,\u001b[49m\u001b[43m \u001b[49m\u001b[43m*\u001b[49m\u001b[43m*\u001b[49m\u001b[43mkwargs\u001b[49m\n\u001b[32m    826\u001b[39m \u001b[43m    \u001b[49m\u001b[43m)\u001b[49m  \u001b[38;5;66;03m# Calls into the C++ engine to run the backward pass\u001b[39;00m\n\u001b[32m    827\u001b[39m \u001b[38;5;28;01mfinally\u001b[39;00m:\n\u001b[32m    828\u001b[39m     \u001b[38;5;28;01mif\u001b[39;00m attach_logging_hooks:\n",
      "\u001b[31mKeyboardInterrupt\u001b[39m: "
     ]
    }
   ],
   "source": [
    "def train(model, iterator, optimizer, scheduler, criterion, clip):\n",
    "    model.train()\n",
    "    epoch_loss = 0\n",
    "    progress_bar = tqdm(iterator, desc=\"Training\", mininterval=0.5, leave=False)\n",
    "\n",
    "    for i, batch in enumerate(progress_bar):\n",
    "        src = batch[0].to(device)\n",
    "        tgt = batch[1].to(device)\n",
    "\n",
    "        optimizer.zero_grad()\n",
    "\n",
    "        output, _, _, _ = model(src, tgt[:,:-1])\n",
    "        output_dim = output.shape[-1]\n",
    "        output = output.contiguous().view(-1, output_dim)\n",
    "        tgt = tgt[:,1:].contiguous().view(-1)\n",
    "\n",
    "        loss = criterion(output, tgt)\n",
    "        loss.backward()\n",
    "\n",
    "        torch.nn.utils.clip_grad_norm_(model.parameters(), clip)\n",
    "\n",
    "        scheduler.step()\n",
    "        optimizer.step()\n",
    "\n",
    "        epoch_loss += loss.item()\n",
    "        progress_bar.set_postfix(loss=loss.item(), lr=scheduler.optimizer.param_groups[0]['lr'])\n",
    "\n",
    "    return epoch_loss / len(iterator)\n",
    "\n",
    "def evaluate(model, iterator, criterion):\n",
    "    model.eval()\n",
    "    epoch_loss = 0\n",
    "    progress_bar = tqdm(iterator, desc=\"Evaluating\", mininterval=0.5, leave=False)\n",
    "\n",
    "    with torch.no_grad():\n",
    "        for i, batch in enumerate(progress_bar):\n",
    "            src = batch[0].to(device)\n",
    "            tgt = batch[1].to(device)\n",
    "\n",
    "            output, _, _, _ = model(src, tgt[:,:-1])\n",
    "            output_dim = output.shape[-1]\n",
    "            output = output.contiguous().view(-1, output_dim)\n",
    "            tgt = tgt[:,1:].contiguous().view(-1)\n",
    "\n",
    "            loss = criterion(output, tgt)\n",
    "            epoch_loss += loss.item()\n",
    "            progress_bar.set_postfix(loss=loss.item())\n",
    "\n",
    "    return epoch_loss / len(iterator)\n",
    "\n",
    "# --- 학습 루프 ---\n",
    "early_stopping_counter = 0\n",
    "\n",
    "for epoch in range(start_epoch, EPOCHS):\n",
    "    start_time = time.time()\n",
    "\n",
    "    print(f\"Epoch {epoch+1:02} / {EPOCHS:02}\")\n",
    "\n",
    "    train_loss = train(model, train_loader, optimizer, scheduler, criterion, 1)\n",
    "    valid_loss = evaluate(model, valid_loader, criterion)\n",
    "\n",
    "    end_time = time.time()\n",
    "    epoch_mins, epoch_secs = divmod(end_time - start_time, 60)\n",
    "\n",
    "    if valid_loss < best_valid_loss:\n",
    "        best_valid_loss = valid_loss\n",
    "        early_stopping_counter = 0\n",
    "        torch.save({\n",
    "            'epoch': epoch + 1,\n",
    "            'model_state_dict': model.state_dict(),\n",
    "            'optimizer_state_dict': optimizer.state_dict(),\n",
    "            'scheduler_state_dict': scheduler.state_dict(),\n",
    "            'best_valid_loss': best_valid_loss,\n",
    "        }, CHECKPOINT_PATH)\n",
    "        print(f\"Validation loss improved. Checkpoint saved to {CHECKPOINT_PATH}\")\n",
    "    else:\n",
    "        early_stopping_counter += 1\n",
    "        print(f\"Validation loss did not improve. Counter: {early_stopping_counter}/{EARLY_STOPPING_PATIENCE}\")\n",
    "\n",
    "    print(f'Time: {epoch_mins:.0f}m {epoch_secs:.0f}s')\n",
    "    print(f'\tTrain Loss: {train_loss:.3f} | Train PPL: {math.exp(train_loss):7.3f}')\n",
    "    print(f'\t Val. Loss: {valid_loss:.3f} |  Val. PPL: {math.exp(valid_loss):7.3f}')\n",
    "    print(\"-\" * 30)\n",
    "\n",
    "    if early_stopping_counter >= EARLY_STOPPING_PATIENCE:\n",
    "        print(f\"조기 종료: {EARLY_STOPPING_PATIENCE} 에폭 동안 검증 손실이 개선되지 않았습니다.\")\n",
    "        break"
   ]
  },
  {
   "cell_type": "markdown",
   "metadata": {},
   "source": [
    "## 9. 번역 및 성능 평가 (BLEU)"
   ]
  },
  {
   "cell_type": "code",
   "execution_count": 14,
   "metadata": {},
   "outputs": [
    {
     "data": {
      "text/plain": [
       "Transformer(\n",
       "  (encoder): Encoder(\n",
       "    (embedding): Embedding(20000, 512)\n",
       "    (pos_encoding): PositionalEncoding(\n",
       "      (dropout): Dropout(p=0.15, inplace=False)\n",
       "    )\n",
       "    (enc_layers): ModuleList(\n",
       "      (0-3): 4 x EncoderLayer(\n",
       "        (enc_self_attn): MultiHeadAttention(\n",
       "          (W_q): Linear(in_features=512, out_features=512, bias=True)\n",
       "          (W_k): Linear(in_features=512, out_features=512, bias=True)\n",
       "          (W_v): Linear(in_features=512, out_features=512, bias=True)\n",
       "          (linear): Linear(in_features=512, out_features=512, bias=True)\n",
       "        )\n",
       "        (ffn): PoswiseFeedForwardNet(\n",
       "          (fc1): Linear(in_features=512, out_features=4096, bias=True)\n",
       "          (fc2): Linear(in_features=4096, out_features=512, bias=True)\n",
       "          (relu): ReLU()\n",
       "        )\n",
       "        (norm_1): LayerNorm((512,), eps=1e-06, elementwise_affine=True)\n",
       "        (norm_2): LayerNorm((512,), eps=1e-06, elementwise_affine=True)\n",
       "        (do): Dropout(p=0.15, inplace=False)\n",
       "      )\n",
       "    )\n",
       "  )\n",
       "  (decoder): Decoder(\n",
       "    (embedding): Embedding(20000, 512)\n",
       "    (pos_encoding): PositionalEncoding(\n",
       "      (dropout): Dropout(p=0.15, inplace=False)\n",
       "    )\n",
       "    (dec_layers): ModuleList(\n",
       "      (0-3): 4 x DecoderLayer(\n",
       "        (dec_self_attn): MultiHeadAttention(\n",
       "          (W_q): Linear(in_features=512, out_features=512, bias=True)\n",
       "          (W_k): Linear(in_features=512, out_features=512, bias=True)\n",
       "          (W_v): Linear(in_features=512, out_features=512, bias=True)\n",
       "          (linear): Linear(in_features=512, out_features=512, bias=True)\n",
       "        )\n",
       "        (enc_dec_attn): MultiHeadAttention(\n",
       "          (W_q): Linear(in_features=512, out_features=512, bias=True)\n",
       "          (W_k): Linear(in_features=512, out_features=512, bias=True)\n",
       "          (W_v): Linear(in_features=512, out_features=512, bias=True)\n",
       "          (linear): Linear(in_features=512, out_features=512, bias=True)\n",
       "        )\n",
       "        (ffn): PoswiseFeedForwardNet(\n",
       "          (fc1): Linear(in_features=512, out_features=4096, bias=True)\n",
       "          (fc2): Linear(in_features=4096, out_features=512, bias=True)\n",
       "          (relu): ReLU()\n",
       "        )\n",
       "        (norm_1): LayerNorm((512,), eps=1e-06, elementwise_affine=True)\n",
       "        (norm_2): LayerNorm((512,), eps=1e-06, elementwise_affine=True)\n",
       "        (norm_3): LayerNorm((512,), eps=1e-06, elementwise_affine=True)\n",
       "        (do): Dropout(p=0.15, inplace=False)\n",
       "      )\n",
       "    )\n",
       "  )\n",
       "  (fc): Linear(in_features=512, out_features=20000, bias=True)\n",
       ")"
      ]
     },
     "execution_count": 14,
     "metadata": {},
     "output_type": "execute_result"
    }
   ],
   "source": [
    "# 1. 새로운 모델 객체를 만들고 저장된 가중치를 불러옴\n",
    "inference_model = Transformer(N_LAYERS, D_MODEL, N_HEADS, D_FF, SRC_VOCAB_SIZE, TGT_VOCAB_SIZE, DROPOUT).to(device)\n",
    "\n",
    "# 체크포인트는 딕셔너리 형태이므로, model_state_dict를 직접 로드해야 합니다.\n",
    "checkpoint = torch.load(CHECKPOINT_PATH)\n",
    "inference_model.load_state_dict(checkpoint['model_state_dict'])\n",
    "\n",
    "# 2. 모델을 평가 모드로 설정\n",
    "inference_model.eval()"
   ]
  },
  {
   "cell_type": "code",
   "execution_count": 15,
   "metadata": {},
   "outputs": [],
   "source": [
    "def translate_sentence(sentence, src_tokenizer, tgt_tokenizer, model, device, max_len=50):\n",
    "\n",
    "    src_tokens = src_tokenizer.encode_as_ids(sentence)\n",
    "    src_tensor = torch.LongTensor(src_tokens).unsqueeze(0).to(device)\n",
    "\n",
    "    tgt_tokens = [tgt_tokenizer.bos_id()]\n",
    "\n",
    "    for i in range(max_len):\n",
    "        tgt_tensor = torch.LongTensor(tgt_tokens).unsqueeze(0).to(device)\n",
    "\n",
    "        with torch.no_grad():\n",
    "            output, _, _, dec_enc_attns = model(src_tensor, tgt_tensor)\n",
    "\n",
    "        pred_token = output.argmax(2)[:,-1].item()\n",
    "        tgt_tokens.append(pred_token)\n",
    "\n",
    "        if pred_token == tgt_tokenizer.eos_id():\n",
    "            break\n",
    "\n",
    "    tgt_sentence = tgt_tokenizer.decode_ids(tgt_tokens)\n",
    "    return tgt_sentence, dec_enc_attns\n"
   ]
  },
  {
   "cell_type": "code",
   "execution_count": 20,
   "metadata": {},
   "outputs": [],
   "source": [
    "def translate_sentence_beam_search(sentence, src_tokenizer, tgt_tokenizer, model, device, max_len=50, beam_size=5):\n",
    "    \"\"\"\n",
    "    빔 서치(Beam Search)를 사용하여 문장을 번역하고, 최종 번역문에 대한 어텐션 맵을 반환하는 함수입니다.\n",
    "    \"\"\"\n",
    "    model.eval()\n",
    "\n",
    "    src_tokens = src_tokenizer.encode_as_ids(sentence)\n",
    "    src_tensor = torch.LongTensor(src_tokens).unsqueeze(0).to(device)\n",
    "\n",
    "    beams = [(torch.LongTensor([tgt_tokenizer.bos_id()]).to(device), 0)]\n",
    "    completed_hypotheses = []\n",
    "\n",
    "    for _ in range(max_len):\n",
    "        new_beams = []\n",
    "        for seq, score in beams:\n",
    "            if seq[-1].item() == tgt_tokenizer.eos_id():\n",
    "                completed_hypotheses.append((seq, score))\n",
    "                continue\n",
    "\n",
    "            with torch.no_grad():\n",
    "                output, _, _, _ = model(src_tensor, seq.unsqueeze(0))\n",
    "\n",
    "            next_token_logits = output[:, -1, :]\n",
    "            next_token_log_probs = torch.log_softmax(next_token_logits, dim=-1)\n",
    "            top_next_tokens = torch.topk(next_token_log_probs, beam_size, dim=-1)\n",
    "\n",
    "            for i in range(beam_size):\n",
    "                token_id = top_next_tokens.indices[0][i].item()\n",
    "                log_prob = top_next_tokens.values[0][i].item()\n",
    "\n",
    "                new_seq = torch.cat([seq, torch.LongTensor([token_id]).to(device)])\n",
    "                new_score = score + log_prob\n",
    "                new_beams.append((new_seq, new_score))\n",
    "\n",
    "        if not new_beams:\n",
    "            break\n",
    "\n",
    "        beams = sorted(new_beams, key=lambda x: x[1], reverse=True)[:beam_size]\n",
    "\n",
    "        if all(b[0][-1].item() == tgt_tokenizer.eos_id() for b in beams):\n",
    "            completed_hypotheses.extend(beams)\n",
    "            break\n",
    "\n",
    "    if not completed_hypotheses:\n",
    "        completed_hypotheses.extend(beams)\n",
    "\n",
    "    best_hypothesis = sorted(completed_hypotheses, key=lambda x: x[1] / len(x[0]), reverse=True)[0]\n",
    "    best_sequence = best_hypothesis[0]\n",
    "\n",
    "    translated_sentence = tgt_tokenizer.decode_ids(best_sequence.tolist())\n",
    "\n",
    "    # 최종 선택된 시퀀스에 대한 어텐션 맵을 얻기 위해 모델을 한 번 더 실행\n",
    "    with torch.no_grad():\n",
    "        # </s> 토큰은 어텐션 계산에 필요 없으므로, 있다면 제외\n",
    "        input_seq = best_sequence.unsqueeze(0)\n",
    "        if input_seq[0, -1].item() == tgt_tokenizer.eos_id():\n",
    "            input_seq = input_seq[:, :-1]\n",
    "\n",
    "        _, _, _, final_attentions = model(src_tensor, input_seq)\n",
    "\n",
    "    return translated_sentence, final_attentions\n"
   ]
  },
  {
   "cell_type": "code",
   "execution_count": 22,
   "metadata": {},
   "outputs": [
    {
     "name": "stdout",
     "output_type": "stream",
     "text": [
      "src = 그러나 어소시에이션 오브 아메리칸 메디칼 콜리지 association of american medical colleges 는 기사를 통해 최근 늘어나고 있는 장기기증은 개방된 사회적 관습과 도덕관에서부터 나오는 것이라고 주장했다 .\n",
      "trg = but academics in the field of gross anatomy attribute recent increases in body donations to relaxed social mores , according to an article published by the association of american medical colleges .\n",
      "predicted trg (beam search) = , americans think that the most influential americans think of americans think about . . . . . . . . . . . \n",
      "predicted trg (greedy)      = and consumer protection agency , which is not a major problem , says the u . s . economics and cultural institutions , have been feeling . . . . . . . .\n"
     ]
    }
   ],
   "source": [
    "# 번역할 문장 선택\n",
    "example_idx = 0\n",
    "src = test_kor_corpus[example_idx]\n",
    "trg = test_eng_corpus[example_idx]\n",
    "\n",
    "# 빔 서치로 번역 실행 (beam_size=5)\n",
    "beam_translation, attention = translate_sentence_beam_search(src, ko_tokenizer, en_tokenizer, inference_model, device, beam_size=5)\n",
    "\n",
    "print(f'src = {src}')\n",
    "print(f'trg = {trg}')\n",
    "print(f'predicted trg (beam search) = {beam_translation}')\n",
    "\n",
    "# 기존 Greedy 방식과 비교\n",
    "greedy_translation, _ = translate_sentence(src, ko_tokenizer, en_tokenizer, inference_model, device)\n",
    "print(f'predicted trg (greedy)      = {greedy_translation}')\n"
   ]
  },
  {
   "cell_type": "markdown",
   "metadata": {},
   "source": [
    "## 10. 어텐션 시각화"
   ]
  },
  {
   "cell_type": "code",
   "execution_count": 23,
   "metadata": {},
   "outputs": [
    {
     "data": {
      "image/png": "[encoded data removed]",
      "text/plain": [
       "<Figure size 1200x2800 with 8 Axes>"
      ]
     },
     "metadata": {},
     "output_type": "display_data"
    }
   ],
   "source": [
    "def display_attention(sentence, translation, attention, n_heads=8, n_rows=4, n_cols=2):\n",
    "    \"\"\"어텐션 맵을 시각화합니다.\"\"\"\n",
    "    assert n_rows * n_cols == n_heads\n",
    "\n",
    "    font_path = './NanumBarunGothic.ttf'\n",
    "    font_prop = fm.FontProperties(fname=font_path, size=8)\n",
    "\n",
    "    fig = plt.figure(figsize=(12, 28))  # x축을 조금 넓혀서 압축 줄임 (10->12)\n",
    "\n",
    "    # 번역된 문장과 원본 문장을 토큰 단위로 분리\n",
    "    sentence_tokens = sentence.split()\n",
    "    translation_tokens = translation.split()\n",
    "\n",
    "    for i in range(n_heads):\n",
    "        ax = fig.add_subplot(n_rows, n_cols, i + 1)\n",
    "\n",
    "        # attention shape: (head_idx, tgt_len, src_len)\n",
    "        _attention = attention.squeeze(0)[i].cpu().detach().numpy()\n",
    "\n",
    "        # extent 명시: (-0.5, src_len-0.5, tgt_len-0.5, -0.5)로 ticks와 맞춤\n",
    "        src_len = len(sentence_tokens)\n",
    "        tgt_len = len(translation_tokens)\n",
    "        cax = ax.matshow(_attention, cmap='viridis', extent=[-0.5, src_len - 0.5, tgt_len - 0.5, -0.5])\n",
    "\n",
    "        # 눈금 위치 설정\n",
    "        ax.set_xticks(range(src_len))\n",
    "        ax.set_yticks(range(tgt_len))\n",
    "\n",
    "        # 라벨 설정: ha/va로 중앙 정렬\n",
    "        # 다른분꺼 보니까 45도가 좋아보이더만\n",
    "        ax.set_xticklabels(sentence_tokens, rotation=45, fontproperties=font_prop, ha='center', va='center')\n",
    "        ax.set_yticklabels(translation_tokens, fontproperties=font_prop, ha='right', va='center')\n",
    "\n",
    "        ax.tick_params(labelsize=8, pad=15)  # pad로 텍스트와 tick 간격 미세 조정\n",
    "\n",
    "    plt.tight_layout()  # subplot 간 여백 자동 조정 (밀림 방지)\n",
    "    plt.show()\n",
    "\n",
    "display_attention(src, beam_translation, attention[-1])"
   ]
  },
  {
   "cell_type": "code",
   "execution_count": null,
   "metadata": {},
   "outputs": [],
   "source": []
  }
 ],
 "metadata": {
  "kernelspec": {
   "display_name": "Python 3 (ipykernel)",
   "language": "python",
   "name": "python3"
  },
  "language_info": {
   "codemirror_mode": {
    "name": "ipython",
    "version": 3
   },
   "file_extension": ".py",
   "mimetype": "text/x-python",
   "name": "python",
   "nbconvert_exporter": "python",
   "pygments_lexer": "ipython3",
   "version": "3.12.11"
  }
 },
 "nbformat": 4,
 "nbformat_minor": 4
}
