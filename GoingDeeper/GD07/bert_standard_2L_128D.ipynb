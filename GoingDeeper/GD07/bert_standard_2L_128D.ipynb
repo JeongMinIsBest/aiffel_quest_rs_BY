{
 "cells": [
  {
   "cell_type": "markdown",
   "metadata": {},
   "source": [
    "## Mini BERT Pre-training\n",
    "\n",
    "**프로젝트 목표:**\n",
    "1. `vocab_size`를 8000으로, 전체 파라미터 크기를 약 1M 내외로 줄인 Mini BERT 모델을 구현\n",
    "2. 위키피디아와 같은 대규모 텍스트 데이터셋을 사용하여 모델을 10 Epoch까지 학습"
   ]
  },
  {
   "cell_type": "markdown",
   "metadata": {},
   "source": [
    "### 1. 라이브러리 임포트"
   ]
  },
  {
   "cell_type": "code",
   "execution_count": 1,
   "metadata": {},
   "outputs": [
    {
     "data": {
      "text/plain": [
       "<torch._C.Generator at 0x7cf0aa38abf0>"
      ]
     },
     "execution_count": 1,
     "metadata": {},
     "output_type": "execute_result"
    }
   ],
   "source": [
    "from __future__ import absolute_import, division, print_function, unicode_literals\n",
    "\n",
    "import torch\n",
    "import torch.nn as nn\n",
    "import torch.nn.functional as F\n",
    "import torch.optim as optim\n",
    "from torch.utils.data import DataLoader, TensorDataset\n",
    "\n",
    "import os\n",
    "import re\n",
    "import math\n",
    "import numpy as np\n",
    "import pandas as pd\n",
    "import random\n",
    "import collections\n",
    "import json\n",
    "import shutil\n",
    "import zipfile\n",
    "import copy\n",
    "from datetime import datetime\n",
    "\n",
    "import matplotlib.pyplot as plt\n",
    "import sentencepiece as spm\n",
    "from tqdm.notebook import tqdm\n",
    "\n",
    "random_seed = 1234\n",
    "random.seed(random_seed)\n",
    "np.random.seed(random_seed)\n",
    "torch.manual_seed(random_seed)"
   ]
  },
  {
   "cell_type": "markdown",
   "metadata": {},
   "source": [
    "### 2. 데이터 준비 (Data Preparation)"
   ]
  },
  {
   "cell_type": "code",
   "execution_count": 2,
   "metadata": {},
   "outputs": [],
   "source": [
    "data_dir = 'data'\n",
    "model_dir = 'models'\n",
    "corpus_file = f'{data_dir}/kowiki.txt'\n",
    "\n",
    "# vocab loading\n",
    "vocab = spm.SentencePieceProcessor()\n",
    "vocab.load(f\"{model_dir}/ko_8000.model\")\n",
    "\n",
    "# 특수 토큰을 제외한 단어 목록 생성 (MLM에서 랜덤 단어 선택 시 사용)\n",
    "vocab_list = []\n",
    "for id in range(7, len(vocab)):\n",
    "    if not vocab.is_unknown(id):\n",
    "        vocab_list.append(vocab.id_to_piece(id))"
   ]
  },
  {
   "cell_type": "markdown",
   "metadata": {},
   "source": [
    "#### Pre-training 데이터 생성 함수\n",
    "\n",
    "1.  **Masked Language Model (MLM):** 문장에서 일부 토큰을 `[MASK]`로 바꾸고, 모델이 원래 토큰을 맞추도록 학습합니다. 이를 통해 문맥을 이해하는 능력 키움\n",
    "2.  **Next Sentence Prediction (NSP):** 두 문장이 주어졌을 때, 두 번째 문장이 첫 번째 문장의 바로 다음 문장인지 맞추도록 학습합니다. 이를 통해 문장 간의 관계를 이해하는 능력 키움"
   ]
  },
  {
   "cell_type": "code",
   "execution_count": 3,
   "metadata": {},
   "outputs": [],
   "source": [
    "def create_pretrain_mask(tokens, mask_cnt, vocab_list):\n",
    "    '''\n",
    "    Masked Language Model(MLM)을 위한 마스크를 생성합니다.\n",
    "    - 80%는 `[MASK]` 토큰으로 교체\n",
    "    - 10%는 원래 토큰을 그대로 유지\n",
    "    - 10%는 어휘 목록에서 랜덤으로 추출한 토큰으로 교체\n",
    "    '''\n",
    "    # 띄어쓰기 단위로 mask하기 위해 index 분할\n",
    "    cand_idx = []\n",
    "    for (i, token) in enumerate(tokens):\n",
    "        if token == \"[CLS]\" or token == \"[SEP]\":\n",
    "            continue\n",
    "        if 0 < len(cand_idx) and not token.startswith(u'▁'):\n",
    "            cand_idx[-1].append(i)\n",
    "        else:\n",
    "            cand_idx.append([i])\n",
    "\n",
    "    random.shuffle(cand_idx)\n",
    "\n",
    "    mask_lms = []\n",
    "    for index_set in cand_idx:\n",
    "        if len(mask_lms) >= mask_cnt:\n",
    "            break\n",
    "        if len(mask_lms) + len(index_set) > mask_cnt:\n",
    "            continue\n",
    "        \n",
    "        dice = random.random()  # 0과 1 사이의 확률 값\n",
    "        for index in index_set:\n",
    "            masked_token = None\n",
    "            if dice < 0.8:  # 80% replace with [MASK]\n",
    "                masked_token = \"[MASK]\"\n",
    "            elif dice < 0.9:  # 10% keep original\n",
    "                masked_token = tokens[index]\n",
    "            else:  # 10% random word\n",
    "                masked_token = random.choice(vocab_list)\n",
    "            mask_lms.append({\"index\": index, \"label\": tokens[index]})\n",
    "            tokens[index] = masked_token\n",
    "\n",
    "    mask_lms = sorted(mask_lms, key=lambda x: x[\"index\"])\n",
    "    mask_idx = [p[\"index\"] for p in mask_lms]\n",
    "    mask_label = [p[\"label\"] for p in mask_lms]\n",
    "\n",
    "    return tokens, mask_idx, mask_label\n",
    "\n",
    "def trim_tokens(tokens_a, tokens_b, max_seq):\n",
    "    '''두 토큰 리스트의 총 길이가 max_seq를 넘지 않도록 자릅니다.'''\n",
    "    while True:\n",
    "        total_length = len(tokens_a) + len(tokens_b)\n",
    "        if total_length <= max_seq:\n",
    "            break\n",
    "        if len(tokens_a) > len(tokens_b):\n",
    "            del tokens_a[0]\n",
    "        else:\n",
    "            tokens_b.pop()\n",
    "\n",
    "def create_pretrain_instances(vocab, doc, n_seq, mask_prob, vocab_list):\n",
    "    '''하나의 문서(doc)에서 pre-training을 위한 여러 instance를 생성합니다.'''\n",
    "    # for [CLS], [SEP], [SEP]\n",
    "    max_seq = n_seq - 3\n",
    "\n",
    "    instances = []\n",
    "    current_chunk = []\n",
    "    current_length = 0\n",
    "    for i in range(len(doc)):\n",
    "        current_chunk.append(doc[i])\n",
    "        current_length += len(doc[i])\n",
    "        if i == len(doc) - 1 or current_length >= max_seq:\n",
    "            if current_chunk:\n",
    "                a_end = 1\n",
    "                if len(current_chunk) > 1:\n",
    "                    a_end = random.randrange(1, len(current_chunk))\n",
    "\n",
    "                tokens_a = []\n",
    "                for j in range(a_end):\n",
    "                    tokens_a.extend(current_chunk[j])\n",
    "\n",
    "                tokens_b = []\n",
    "                for j in range(a_end, len(current_chunk)):\n",
    "                    tokens_b.extend(current_chunk[j])\n",
    "\n",
    "                # 50% 확률로 A와 B 순서를 바꿔 NSP 레이블을 0으로 설정 (IsNext=False)\n",
    "                if random.random() < 0.5:\n",
    "                    is_next = 0\n",
    "                    tokens_a, tokens_b = tokens_b, tokens_a\n",
    "                else:\n",
    "                    is_next = 1\n",
    "\n",
    "                trim_tokens(tokens_a, tokens_b, max_seq)\n",
    "                if not tokens_a or not tokens_b:\n",
    "                    continue\n",
    "\n",
    "                tokens = [\"[CLS]\"] + tokens_a + [\"[SEP]\"] + tokens_b + [\"[SEP]\"]\n",
    "                segment = [0] * (len(tokens_a) + 2) + [1] * (len(tokens_b) + 1)\n",
    "\n",
    "                mask_cnt = int((len(tokens) - 3) * mask_prob)\n",
    "                tokens, mask_idx, mask_label = create_pretrain_mask(tokens, mask_cnt, vocab_list)\n",
    "\n",
    "                instance = {\n",
    "                    \"tokens\": tokens,\n",
    "                    \"segment\": segment,\n",
    "                    \"is_next\": is_next,\n",
    "                    \"mask_idx\": mask_idx,\n",
    "                    \"mask_label\": mask_label\n",
    "                }\n",
    "                instances.append(instance)\n",
    "\n",
    "            current_chunk = []\n",
    "            current_length = 0\n",
    "    return instances"
   ]
  },
  {
   "cell_type": "code",
   "execution_count": 4,
   "metadata": {},
   "outputs": [],
   "source": [
    "def make_pretrain_data(vocab, in_file, out_file, n_seq, mask_prob=0.15):\n",
    "    ''' pretrain 데이터 생성 '''\n",
    "    def save_pretrain_instances(out_f, doc):\n",
    "        instances = create_pretrain_instances(vocab, doc, n_seq, mask_prob, vocab_list)\n",
    "        for instance in instances:\n",
    "            out_f.write(json.dumps(instance, ensure_ascii=False))\n",
    "            out_f.write(\"\\n\")\n",
    "\n",
    "    line_cnt = 0\n",
    "    with open(in_file, \"r\") as in_f:\n",
    "        for line in in_f:\n",
    "            line_cnt += 1\n",
    "\n",
    "    with open(in_file, \"r\") as in_f:\n",
    "        with open(out_file, \"w\") as out_f:\n",
    "            doc = []\n",
    "            for line in tqdm(in_f, total=line_cnt):\n",
    "                line = line.strip()\n",
    "                if line == \"\":\n",
    "                    if doc:\n",
    "                        save_pretrain_instances(out_f, doc)\n",
    "                        doc = []\n",
    "                else:\n",
    "                    pieces = vocab.encode_as_pieces(line)\n",
    "                    if pieces:\n",
    "                        doc.append(pieces)\n",
    "            if doc:\n",
    "                save_pretrain_instances(out_f, doc)\n",
    "\n",
    "def load_pre_train_data(vocab, filename, n_vocab, n_seq, count=None):\n",
    "    \"\"\" 학습에 필요한 데이터를 로드 \"\"\"\n",
    "    total = 0\n",
    "    with open(filename, \"r\") as f:\n",
    "        for line in f:\n",
    "            total += 1\n",
    "            if count is not None and count <= total:\n",
    "                break\n",
    "\n",
    "    unk_id = vocab.piece_to_id('[UNK]')\n",
    "\n",
    "    # np.memmap을 사용하면 메모리를 적은 메모리에서도 대용량 데이터 처리가 가능\n",
    "    enc_tokens = np.memmap(filename='enc_tokens.memmap', mode='w+', dtype=np.int32, shape=(total, n_seq))\n",
    "    segments = np.memmap(filename='segments.memmap', mode='w+', dtype=np.int32, shape=(total, n_seq))\n",
    "    labels_nsp = np.memmap(filename='labels_nsp.memmap', mode='w+', dtype=np.int32, shape=(total,))\n",
    "    labels_mlm = np.memmap(filename='labels_mlm.memmap', mode='w+', dtype=np.int32, shape=(total, n_seq))\n",
    "\n",
    "    with open(filename, \"r\") as f:\n",
    "        for i, line in enumerate(tqdm(f, total=total)):\n",
    "            if total <= i:\n",
    "                break\n",
    "            data = json.loads(line)\n",
    "\n",
    "            # encoder token: vocab_size를 초과하는 ID는 [UNK] 토큰으로 변경\n",
    "            enc_token_ids = [vocab.piece_to_id(p) for p in data[\"tokens\"]]\n",
    "            enc_token = [id if id < n_vocab else unk_id for id in enc_token_ids]\n",
    "            enc_token += [0] * (n_seq - len(enc_token))\n",
    "\n",
    "            segment = data[\"segment\"]\n",
    "            segment += [0] * (n_seq - len(segment))\n",
    "\n",
    "            label_nsp = data[\"is_next\"]\n",
    "\n",
    "            # mlm label\n",
    "            label_mlm = np.full(n_seq, dtype=np.int32, fill_value=0)\n",
    "            if data[\"mask_idx\"]: # mask_idx가 비어있지 않은 경우에만 처리\n",
    "                mask_idx = np.array(data[\"mask_idx\"], dtype=np.int32)\n",
    "                mask_label_ids = [vocab.piece_to_id(p) for p in data[\"mask_label\"]]\n",
    "                mask_label = np.array([id if id < n_vocab else unk_id for id in mask_label_ids], dtype=np.int32)\n",
    "                label_mlm[mask_idx] = mask_label\n",
    "\n",
    "            enc_tokens[i] = enc_token\n",
    "            segments[i] = segment\n",
    "            labels_nsp[i] = label_nsp\n",
    "            labels_mlm[i] = label_mlm\n",
    "\n",
    "    return (enc_tokens, segments), (labels_nsp, labels_mlm)"
   ]
  },
  {
   "cell_type": "markdown",
   "metadata": {},
   "source": [
    "### 3. BERT 모델 구현"
   ]
  },
  {
   "cell_type": "markdown",
   "metadata": {},
   "source": [
    "#### 유틸 메소드 및 클래스"
   ]
  },
  {
   "cell_type": "code",
   "execution_count": 5,
   "metadata": {},
   "outputs": [],
   "source": [
    "def get_pad_mask(tokens, i_pad=0):\n",
    "    '''패딩 마스크(pad: 1, other: 0)'''\n",
    "    mask = (tokens == i_pad)\n",
    "    mask = mask.unsqueeze(1).unsqueeze(2) # (bs, 1, 1, n_seq)\n",
    "    return mask\n",
    "\n",
    "def get_ahead_mask(tokens, i_pad=0):\n",
    "    '''어텐션 마스크(ahead or pad: 1, other: 0)'''\n",
    "    n_seq = tokens.size(1)\n",
    "    ahead_mask = 1 - torch.tril(torch.ones(n_seq, n_seq)).type_as(tokens)\n",
    "    ahead_mask = ahead_mask.unsqueeze(0).unsqueeze(1) # (1, 1, n_seq, n_seq)\n",
    "    pad_mask = get_pad_mask(tokens, i_pad)\n",
    "    mask = torch.maximum(ahead_mask, pad_mask)\n",
    "    return mask\n",
    "\n",
    "def gelu(x):\n",
    "    '''GELU 활성화 함수'''\n",
    "    return 0.5 * x * (1 + torch.tanh(math.sqrt(2 / math.pi) * (x + 0.044715 * torch.pow(x, 3))))\n",
    "\n",
    "class Config(dict):\n",
    "    '''json을 config 형태로 사용하기 위한 클래스'''\n",
    "    __getattr__ = dict.__getitem__\n",
    "    __setattr__ = dict.__setitem__\n",
    "\n",
    "    @classmethod\n",
    "    def load(cls, file):\n",
    "        with open(file, 'r') as f:\n",
    "            config = json.loads(f.read())\n",
    "            return Config(config)"
   ]
  },
  {
   "cell_type": "markdown",
   "metadata": {},
   "source": [
    "#### 임베딩 (Embeddings)\n",
    "\n",
    "1.  **Token Embedding:** 각 토큰의 의미를 나타내는 임베딩입니다. MLM 예측을 위해 출력층과 가중치를 공유하는 `SharedEmbedding`\n",
    "2.  **Position Embedding:** 토큰의 위치 정보를 나타내는 임베딩\n",
    "3.  **Segment Embedding:** 두 문장을 구분하기 위한 임베딩 (문장 A는 0, 문장 B는 1)"
   ]
  },
  {
   "cell_type": "code",
   "execution_count": 6,
   "metadata": {},
   "outputs": [],
   "source": [
    "class SharedEmbedding(nn.Module):\n",
    "    '''출력층과 가중치를 공유하는 임베딩'''\n",
    "    def __init__(self, config):\n",
    "        super().__init__()\n",
    "        self.n_vocab = config.n_vocab\n",
    "        self.d_model = config.d_model\n",
    "        self.shared_weights = nn.Parameter(torch.empty(self.n_vocab, self.d_model))\n",
    "        nn.init.trunc_normal_(self.shared_weights, std=0.02)\n",
    "\n",
    "    def forward(self, inputs, mode=\"embedding\"):\n",
    "        if mode == \"embedding\":\n",
    "            return self._embedding(inputs)\n",
    "        elif mode == \"linear\":\n",
    "            return self._linear(inputs)\n",
    "        else:\n",
    "            raise ValueError(f\"mode {mode} is not valid.\")\n",
    "\n",
    "    def _embedding(self, inputs):\n",
    "        return F.embedding(inputs, self.shared_weights)\n",
    "\n",
    "    def _linear(self, inputs):\n",
    "        return F.linear(inputs, self.shared_weights)\n",
    "\n",
    "class PositionEmbedding(nn.Module):\n",
    "    '''Position Embedding'''\n",
    "    def __init__(self, config):\n",
    "        super().__init__()\n",
    "        self.embedding = nn.Embedding(config.n_seq, config.d_model)\n",
    "        nn.init.trunc_normal_(self.embedding.weight, std=0.02)\n",
    "\n",
    "    def forward(self, inputs):\n",
    "        position = torch.arange(inputs.size(1), device=inputs.device, dtype=inputs.dtype).expand(inputs.size(0), -1)\n",
    "        return self.embedding(position)\n",
    "\n",
    "class SegmentEmbedding(nn.Module):\n",
    "    '''Segment Embedding'''\n",
    "    def __init__(self, config):\n",
    "        super().__init__()\n",
    "        self.embedding = nn.Embedding(2, config.d_model)\n",
    "        nn.init.trunc_normal_(self.embedding.weight, std=0.02)\n",
    "\n",
    "    def forward(self, inputs):\n",
    "        return self.embedding(inputs)"
   ]
  },
  {
   "cell_type": "code",
   "execution_count": 7,
   "metadata": {},
   "outputs": [],
   "source": [
    "class ScaleDotProductAttention(nn.Module):\n",
    "    '''Scale Dot Product Attention'''\n",
    "    def __init__(self, config):\n",
    "        super().__init__()\n",
    "        self.config = config\n",
    "\n",
    "    def forward(self, Q, K, V, attn_mask):\n",
    "        scores = torch.matmul(Q, K.transpose(-1, -2)) / np.sqrt(self.config.d_head)\n",
    "        scores.masked_fill_(attn_mask, -1e9)\n",
    "        attn = nn.Softmax(dim=-1)(scores)\n",
    "        context = torch.matmul(attn, V)\n",
    "        return context, attn\n",
    "\n",
    "class MultiHeadAttention(nn.Module):\n",
    "    '''Multi-Head Attention'''\n",
    "    def __init__(self, config):\n",
    "        super().__init__()\n",
    "        self.config = config\n",
    "        self.W_Q = nn.Linear(config.d_model, config.n_head * config.d_head)\n",
    "        self.W_K = nn.Linear(config.d_model, config.n_head * config.d_head)\n",
    "        self.W_V = nn.Linear(config.d_model, config.n_head * config.d_head)\n",
    "        self.attention = ScaleDotProductAttention(config)\n",
    "        self.linear = nn.Linear(config.n_head * config.d_head, config.d_model)\n",
    "        self.dropout = nn.Dropout(config.dropout)\n",
    "\n",
    "    def forward(self, Q, K, V, attn_mask):\n",
    "        batch_size = Q.size(0)\n",
    "        q_s = self.W_Q(Q).view(batch_size, -1, self.config.n_head, self.config.d_head).transpose(1, 2)\n",
    "        k_s = self.W_K(K).view(batch_size, -1, self.config.n_head, self.config.d_head).transpose(1, 2)\n",
    "        v_s = self.W_V(V).view(batch_size, -1, self.config.n_head, self.config.d_head).transpose(1, 2)\n",
    "\n",
    "        attn_mask = attn_mask.repeat(1, self.config.n_head, 1, 1)\n",
    "\n",
    "        context, attn = self.attention(q_s, k_s, v_s, attn_mask)\n",
    "        context = context.transpose(1, 2).contiguous().view(batch_size, -1, self.config.n_head * self.config.d_head)\n",
    "        output = self.linear(context)\n",
    "        output = self.dropout(output)\n",
    "        return output, attn"
   ]
  },
  {
   "cell_type": "code",
   "execution_count": 8,
   "metadata": {},
   "outputs": [],
   "source": [
    "class PositionWiseFeedForward(nn.Module):\n",
    "    '''Position-wise Feed-Forward Network'''\n",
    "    def __init__(self, config):\n",
    "        super().__init__()\n",
    "        self.W_1 = nn.Linear(config.d_model, config.d_ff)\n",
    "        self.W_2 = nn.Linear(config.d_ff, config.d_model)\n",
    "        self.dropout = nn.Dropout(config.dropout)\n",
    "\n",
    "    def forward(self, inputs):\n",
    "        output = gelu(self.W_1(inputs))\n",
    "        output = self.W_2(output)\n",
    "        output = self.dropout(output)\n",
    "        return output\n",
    "\n",
    "class EncoderLayer(nn.Module):\n",
    "    '''Encoder Layer'''\n",
    "    def __init__(self, config):\n",
    "        super().__init__()\n",
    "        self.self_attn = MultiHeadAttention(config)\n",
    "        self.layer_norm1 = nn.LayerNorm(config.d_model, eps=1e-12)\n",
    "        self.pos_ffn = PositionWiseFeedForward(config)\n",
    "        self.layer_norm2 = nn.LayerNorm(config.d_model, eps=1e-12)\n",
    "\n",
    "    def forward(self, inputs, attn_mask):\n",
    "        # Multi-Head Attention\n",
    "        attn_outputs, attn_prob = self.self_attn(inputs, inputs, inputs, attn_mask)\n",
    "        # Residual Connection & Layer Normalization\n",
    "        attn_outputs = self.layer_norm1(inputs + attn_outputs)\n",
    "        \n",
    "        # Position-wise Feed-Forward\n",
    "        ffn_outputs = self.pos_ffn(attn_outputs)\n",
    "        # Residual Connection & Layer Normalization\n",
    "        ffn_outputs = self.layer_norm2(attn_outputs + ffn_outputs)\n",
    "        \n",
    "        return ffn_outputs, attn_prob"
   ]
  },
  {
   "cell_type": "code",
   "execution_count": 9,
   "metadata": {},
   "outputs": [],
   "source": [
    "class BERT(nn.Module):\n",
    "    '''BERT Model'''\n",
    "    def __init__(self, config):\n",
    "        super().__init__()\n",
    "        self.config = config\n",
    "\n",
    "        self.embedding = SharedEmbedding(config)\n",
    "        self.position_embedding = PositionEmbedding(config)\n",
    "        self.segment_embedding = SegmentEmbedding(config)\n",
    "        self.layers = nn.ModuleList([EncoderLayer(config) for _ in range(config.n_layer)])\n",
    "        self.dropout = nn.Dropout(config.dropout)\n",
    "\n",
    "    def forward(self, enc_tokens, segments):\n",
    "        # Embedding\n",
    "        token_embed = self.embedding(enc_tokens)\n",
    "        pos_embed = self.position_embedding(enc_tokens)\n",
    "        seg_embed = self.segment_embedding(segments)\n",
    "        seq_embed = token_embed + pos_embed + seg_embed\n",
    "        seq_embed = self.dropout(seq_embed)\n",
    "\n",
    "        # Attention Mask\n",
    "        attn_pad_mask = get_pad_mask(enc_tokens)\n",
    "\n",
    "        attn_probs = []\n",
    "        outputs = seq_embed\n",
    "        for layer in self.layers:\n",
    "            outputs, attn_prob = layer(outputs, attn_pad_mask)\n",
    "            attn_probs.append(attn_prob)\n",
    "\n",
    "        return outputs, attn_probs\n",
    "\n",
    "class BERTPretrain(nn.Module):\n",
    "    '''BERT Pre-training Model'''\n",
    "    def __init__(self, config):\n",
    "        super().__init__()\n",
    "        self.bert = BERT(config)\n",
    "        \n",
    "        # NSP Head\n",
    "        self.projection_nsp = nn.Linear(config.d_model, 2)\n",
    "        \n",
    "        # MLM Head\n",
    "        self.projection_mlm = nn.Linear(config.d_model, config.d_model)\n",
    "        self.gelu = gelu\n",
    "        self.layer_norm = nn.LayerNorm(config.d_model, eps=1e-12)\n",
    "        # 최종 출력은 SharedEmbedding의 가중치를 공유하여 vocab_size로 projection\n",
    "\n",
    "    def forward(self, enc_tokens, segments):\n",
    "        outputs, attn_probs = self.bert(enc_tokens, segments)\n",
    "        \n",
    "        # NSP logits\n",
    "        # [CLS] 토큰의 출력만 사용\n",
    "        cls_output = outputs[:, 0, :].contiguous()\n",
    "        logits_nsp = self.projection_nsp(cls_output)\n",
    "        \n",
    "        # MLM logits\n",
    "        mlm_output = self.projection_mlm(outputs)\n",
    "        mlm_output = self.gelu(mlm_output)\n",
    "        mlm_output = self.layer_norm(mlm_output)\n",
    "        logits_mlm = self.bert.embedding(mlm_output, mode=\"linear\")\n",
    "        \n",
    "        return logits_nsp, logits_mlm, attn_probs"
   ]
  },
  {
   "cell_type": "markdown",
   "metadata": {},
   "source": [
    "### 4. Pre-training 실행\n",
    "\n",
    "이제 모델 학습을 위한 설정을 정의하고, 학습 루프를 실행"
   ]
  },
  {
   "cell_type": "markdown",
   "metadata": {},
   "source": [
    "#### 모델 설정 (Configuration)\n",
    "\n",
    "- Mini BERT를 위한 하이퍼파라미터를 설정\n",
    "- `vocab_size`, `d_model`, `n_layer` 등을 조절하여 모델의 크기를 결정\n",
    "- 아래 설정은 약 1.4M개의 파라미터"
   ]
  },
  {
   "cell_type": "code",
   "execution_count": 10,
   "metadata": {},
   "outputs": [
    {
     "name": "stdout",
     "output_type": "stream",
     "text": [
      "Total parameters: 1,454,210\n"
     ]
    }
   ],
   "source": [
    "bert_config = Config({\n",
    "    \"n_vocab\": 8000,      # vocab size (줄임)\n",
    "    \"n_seq\": 128,         # sequence length\n",
    "    \"d_model\": 128,       # model dimension (줄임)\n",
    "    \"n_layer\": 2,         # number of layers (줄임)\n",
    "    \"n_head\": 4,          # number of heads (줄임)\n",
    "    \"d_head\": 32,         # head dimension\n",
    "    \"d_ff\": 512,          # feed_forward dimension (d_model * 4)\n",
    "    \"dropout\": 0.1,\n",
    "    \"learning_rate\": 1e-3\n",
    "})\n",
    "\n",
    "# 모델 파라미터 수 계산\n",
    "def count_parameters(model):\n",
    "    return sum(p.numel() for p in model.parameters() if p.requires_grad)\n",
    "\n",
    "model = BERTPretrain(bert_config)\n",
    "print(f'Total parameters: {count_parameters(model):,}')"
   ]
  },
  {
   "cell_type": "code",
   "execution_count": 11,
   "metadata": {},
   "outputs": [
    {
     "name": "stdout",
     "output_type": "stream",
     "text": [
      "Loading pre-training data...\n"
     ]
    },
    {
     "data": {
      "application/vnd.jupyter.widget-view+json": {
       "model_id": "3882c2bb6c834565a7245bfaecb83051",
       "version_major": 2,
       "version_minor": 0
      },
      "text/plain": [
       "  0%|          | 0/128000 [00:00<?, ?it/s]"
      ]
     },
     "metadata": {},
     "output_type": "display_data"
    },
    {
     "name": "stdout",
     "output_type": "stream",
     "text": [
      "Done.\n"
     ]
    }
   ],
   "source": [
    "pretrain_json_path = 'bert_pre_train.json'\n",
    "\n",
    "# 필요 시에만 주석을 해제하고 실행\n",
    "# print('Making pre-training data...')\n",
    "# make_pretrain_data(vocab, corpus_file, pretrain_json_path, bert_config.n_seq)\n",
    "# print('Done.')\n",
    "\n",
    "# 학습 데이터 로드 (128000건만 테스트용으로 로드)\n",
    "print('Loading pre-training data...')\n",
    "pre_train_inputs, pre_train_labels = load_pre_train_data(vocab, pretrain_json_path, bert_config.n_vocab, bert_config.n_seq, count=128000)\n",
    "print('Done.')"
   ]
  },
  {
   "cell_type": "code",
   "execution_count": 12,
   "metadata": {},
   "outputs": [],
   "source": [
    "class CosineSchedule:\n",
    "    \"\"\"\n",
    "    CosineSchedule Class for learning rate scheduling\n",
    "    \"\"\"\n",
    "    def __init__(self, optimizer=None, train_steps=4000, warmup_steps=500, max_lr=2.5e-4):\n",
    "        \"\"\"\n",
    "        생성자\n",
    "        :param optimizer: Optimizer (PyTorch optimizer)\n",
    "        :param train_steps: 총 학습 step 수\n",
    "        :param warmup_steps: warmup steps\n",
    "        :param max_lr: 최대 learning rate\n",
    "        \"\"\"\n",
    "        self.optimizer = optimizer\n",
    "        self.train_steps = train_steps\n",
    "        self.warmup_steps = warmup_steps\n",
    "        self.max_lr = max_lr\n",
    "        self.step_num = 0\n",
    "\n",
    "    def get_lr(self):\n",
    "        \"\"\"\n",
    "        learning rate 계산\n",
    "        :return: 계산된 learning rate\n",
    "        \"\"\"\n",
    "        if self.step_num <= self.warmup_steps:\n",
    "            lr = (self.step_num / self.warmup_steps) * self.max_lr\n",
    "        else:\n",
    "            progress = (self.step_num - self.warmup_steps) / max(1, self.train_steps - self.warmup_steps)\n",
    "            lr = 0.5 * self.max_lr * (1 + math.cos(math.pi * progress))\n",
    "        return lr\n",
    "\n",
    "    def step(self):\n",
    "        \"\"\"\n",
    "        Step 함수: 매 학습 step마다 호출하여 learning rate를 업데이트\n",
    "        \"\"\"\n",
    "        self.step_num += 1\n",
    "        return self.get_lr()"
   ]
  },
  {
   "cell_type": "code",
   "execution_count": 13,
   "metadata": {},
   "outputs": [
    {
     "data": {
      "application/vnd.jupyter.widget-view+json": {
       "model_id": "84e45a5eed4e4eb7a92866247a2f3841",
       "version_major": 2,
       "version_minor": 0
      },
      "text/plain": [
       "Epoch 1/10:   0%|          | 0/8000 [00:00<?, ?it/s]"
      ]
     },
     "metadata": {},
     "output_type": "display_data"
    },
    {
     "name": "stdout",
     "output_type": "stream",
     "text": [
      "Epoch 1 average loss: 7.6979\n"
     ]
    },
    {
     "data": {
      "application/vnd.jupyter.widget-view+json": {
       "model_id": "86c5e15092364f0889e1389f1baa6664",
       "version_major": 2,
       "version_minor": 0
      },
      "text/plain": [
       "Epoch 2/10:   0%|          | 0/8000 [00:00<?, ?it/s]"
      ]
     },
     "metadata": {},
     "output_type": "display_data"
    },
    {
     "name": "stdout",
     "output_type": "stream",
     "text": [
      "Epoch 2 average loss: 6.5868\n"
     ]
    },
    {
     "data": {
      "application/vnd.jupyter.widget-view+json": {
       "model_id": "331755047d9641049c55fd25be949ede",
       "version_major": 2,
       "version_minor": 0
      },
      "text/plain": [
       "Epoch 3/10:   0%|          | 0/8000 [00:00<?, ?it/s]"
      ]
     },
     "metadata": {},
     "output_type": "display_data"
    },
    {
     "name": "stdout",
     "output_type": "stream",
     "text": [
      "Epoch 3 average loss: 5.7544\n"
     ]
    },
    {
     "data": {
      "application/vnd.jupyter.widget-view+json": {
       "model_id": "2a1215ad0124455ba919a67e8bd8608a",
       "version_major": 2,
       "version_minor": 0
      },
      "text/plain": [
       "Epoch 4/10:   0%|          | 0/8000 [00:00<?, ?it/s]"
      ]
     },
     "metadata": {},
     "output_type": "display_data"
    },
    {
     "name": "stdout",
     "output_type": "stream",
     "text": [
      "Epoch 4 average loss: 5.5332\n"
     ]
    },
    {
     "data": {
      "application/vnd.jupyter.widget-view+json": {
       "model_id": "6132fc17a3f449cd9792c56ce5660de6",
       "version_major": 2,
       "version_minor": 0
      },
      "text/plain": [
       "Epoch 5/10:   0%|          | 0/8000 [00:00<?, ?it/s]"
      ]
     },
     "metadata": {},
     "output_type": "display_data"
    },
    {
     "name": "stdout",
     "output_type": "stream",
     "text": [
      "Epoch 5 average loss: 5.3980\n"
     ]
    },
    {
     "data": {
      "application/vnd.jupyter.widget-view+json": {
       "model_id": "e6ac5d8fced742b39d682d197dd68561",
       "version_major": 2,
       "version_minor": 0
      },
      "text/plain": [
       "Epoch 6/10:   0%|          | 0/8000 [00:00<?, ?it/s]"
      ]
     },
     "metadata": {},
     "output_type": "display_data"
    },
    {
     "name": "stdout",
     "output_type": "stream",
     "text": [
      "Epoch 6 average loss: 5.2872\n"
     ]
    },
    {
     "data": {
      "application/vnd.jupyter.widget-view+json": {
       "model_id": "4a75c67004b040f2a9f7a1160f7b1cb7",
       "version_major": 2,
       "version_minor": 0
      },
      "text/plain": [
       "Epoch 7/10:   0%|          | 0/8000 [00:00<?, ?it/s]"
      ]
     },
     "metadata": {},
     "output_type": "display_data"
    },
    {
     "name": "stdout",
     "output_type": "stream",
     "text": [
      "Epoch 7 average loss: 5.1917\n"
     ]
    },
    {
     "data": {
      "application/vnd.jupyter.widget-view+json": {
       "model_id": "21fca29d245f4d82a4ee6000a87abd5a",
       "version_major": 2,
       "version_minor": 0
      },
      "text/plain": [
       "Epoch 8/10:   0%|          | 0/8000 [00:00<?, ?it/s]"
      ]
     },
     "metadata": {},
     "output_type": "display_data"
    },
    {
     "name": "stdout",
     "output_type": "stream",
     "text": [
      "Epoch 8 average loss: 5.1112\n"
     ]
    },
    {
     "data": {
      "application/vnd.jupyter.widget-view+json": {
       "model_id": "288d6eda13b74a3099a0cc44f55a1a0f",
       "version_major": 2,
       "version_minor": 0
      },
      "text/plain": [
       "Epoch 9/10:   0%|          | 0/8000 [00:00<?, ?it/s]"
      ]
     },
     "metadata": {},
     "output_type": "display_data"
    },
    {
     "name": "stdout",
     "output_type": "stream",
     "text": [
      "Epoch 9 average loss: 5.0533\n"
     ]
    },
    {
     "data": {
      "application/vnd.jupyter.widget-view+json": {
       "model_id": "8faafae4ed434b8899caaf8addfce131",
       "version_major": 2,
       "version_minor": 0
      },
      "text/plain": [
       "Epoch 10/10:   0%|          | 0/8000 [00:00<?, ?it/s]"
      ]
     },
     "metadata": {},
     "output_type": "display_data"
    },
    {
     "name": "stdout",
     "output_type": "stream",
     "text": [
      "Epoch 10 average loss: 5.0192\n",
      "Model saved!\n"
     ]
    }
   ],
   "source": [
    "# train_bert 함수 위에 CosineSchedule 클래스가 정의되어 있어야 합니다.\n",
    "\n",
    "def train_bert(config, model, train_inputs, train_labels):\n",
    "    device = torch.device(\"cuda\" if torch.cuda.is_available() else \"cpu\")\n",
    "    model.to(device)\n",
    "\n",
    "    optimizer = optim.Adam(model.parameters(), lr=config.learning_rate)\n",
    "\n",
    "    # Dataset 및 DataLoader 생성\n",
    "    dataset = TensorDataset(torch.tensor(train_inputs[0], dtype=torch.long),\n",
    "                            torch.tensor(train_inputs[1], dtype=torch.long),\n",
    "                            torch.tensor(train_labels[0], dtype=torch.long),\n",
    "                            torch.tensor(train_labels[1], dtype=torch.long))\n",
    "\n",
    "    batch_size = 16\n",
    "    dataloader = DataLoader(dataset, batch_size=batch_size, shuffle=True)\n",
    "\n",
    "    # Loss 함수\n",
    "    loss_nsp = nn.CrossEntropyLoss()\n",
    "    loss_mlm = nn.CrossEntropyLoss(ignore_index=0)\n",
    "\n",
    "    # CosineSchedule 설정\n",
    "    epochs = 10\n",
    "    total_steps = len(dataloader) * epochs\n",
    "    warmup_steps = len(dataloader) # 1 에포크 동안 warm-up\n",
    "    # config의 learning_rate를 max_lr로 사용\n",
    "    scheduler = CosineSchedule(optimizer, train_steps=total_steps, warmup_steps=warmup_steps, max_lr=config.learning_rate)\n",
    "\n",
    "    # Loss history 저장용\n",
    "    history = {'total_loss': [], 'nsp_loss': [], 'mlm_loss': [], 'lr': []}\n",
    "\n",
    "    model.train()\n",
    "    for epoch in range(epochs):\n",
    "        epoch_total_loss = 0\n",
    "        for step, batch in enumerate(tqdm(dataloader, desc=f\"Epoch {epoch+1}/{epochs}\")):\n",
    "            # 매 스텝마다 learning rate 업데이트\n",
    "            lr = scheduler.step()\n",
    "            for param_group in optimizer.param_groups:\n",
    "                param_group['lr'] = lr\n",
    "\n",
    "            batch = tuple(t.to(device) for t in batch)\n",
    "            enc_tokens, segments, labels_nsp, labels_mlm = batch\n",
    "\n",
    "            optimizer.zero_grad()\n",
    "\n",
    "            logits_nsp, logits_mlm, _ = model(enc_tokens, segments)\n",
    "\n",
    "            cost_nsp = loss_nsp(logits_nsp, labels_nsp)\n",
    "            cost_mlm = loss_mlm(logits_mlm.view(-1, config.n_vocab), labels_mlm.view(-1))\n",
    "            cost = cost_nsp + cost_mlm\n",
    "\n",
    "            cost.backward()\n",
    "            optimizer.step()\n",
    "\n",
    "            # Store losses and learning rate for each step\n",
    "            history['total_loss'].append(cost.item())\n",
    "            history['nsp_loss'].append(cost_nsp.item())\n",
    "            history['mlm_loss'].append(cost_mlm.item())\n",
    "            history['lr'].append(lr)\n",
    "\n",
    "            epoch_total_loss += cost.item()\n",
    "\n",
    "        print(f\"Epoch {epoch+1} average loss: {epoch_total_loss / len(dataloader):.4f}\")\n",
    "\n",
    "    torch.save(model.state_dict(), \"mini_bert_pretrained.pth\")\n",
    "    print(\"Model saved!\")\n",
    "\n",
    "    return history\n",
    "\n",
    "# 학습 시작 및 history 저장\n",
    "history = train_bert(bert_config, model, pre_train_inputs, pre_train_labels)"
   ]
  },
  {
   "cell_type": "code",
   "execution_count": 14,
   "metadata": {},
   "outputs": [
    {
     "data": {
      "image/png": "[encoded data removed]",
      "text/plain": [
       "<Figure size 1500x1000 with 4 Axes>"
      ]
     },
     "metadata": {},
     "output_type": "display_data"
    }
   ],
   "source": [
    "# Loss 및 Learning Rate 시각화\n",
    "plt.figure(figsize=(15, 10))\n",
    "\n",
    "# Total Loss\n",
    "plt.subplot(2, 2, 1)\n",
    "plt.plot(history['total_loss'], label='Total Loss')\n",
    "plt.title('Total Loss over Steps')\n",
    "plt.xlabel('Steps')\n",
    "plt.ylabel('Loss')\n",
    "plt.grid(True)\n",
    "plt.legend()\n",
    "\n",
    "# Learning Rate\n",
    "plt.subplot(2, 2, 2)\n",
    "plt.plot(history['lr'], label='Learning Rate', color='red')\n",
    "plt.title('Learning Rate over Steps')\n",
    "plt.xlabel('Steps')\n",
    "plt.ylabel('Learning Rate')\n",
    "plt.grid(True)\n",
    "plt.legend()\n",
    "\n",
    "# NSP Loss\n",
    "plt.subplot(2, 2, 3)\n",
    "plt.plot(history['nsp_loss'], label='NSP Loss', color='orange')\n",
    "plt.title('NSP Loss over Steps')\n",
    "plt.xlabel('Steps')\n",
    "plt.ylabel('Loss')\n",
    "plt.grid(True)\n",
    "plt.legend()\n",
    "\n",
    "# MLM Loss\n",
    "plt.subplot(2, 2, 4)\n",
    "plt.plot(history['mlm_loss'], label='MLM Loss', color='green')\n",
    "plt.title('MLM Loss over Steps')\n",
    "plt.xlabel('Steps')\n",
    "plt.ylabel('Loss')\n",
    "plt.grid(True)\n",
    "plt.legend()\n",
    "\n",
    "plt.tight_layout()\n",
    "plt.show()"
   ]
  },
  {
   "cell_type": "code",
   "execution_count": 15,
   "metadata": {},
   "outputs": [
    {
     "name": "stdout",
     "output_type": "stream",
     "text": [
      "Loading the trained model...\n",
      "Model loaded!\n",
      "\n",
      "==================================================\n",
      "========== MLM (Fill-in-the-blank) Test ==========\n",
      "==================================================\n",
      "\n",
      "Input: 대한민국의 수도는 [MASK]이다.\n",
      "------------------------------\n",
      "Top 1: ▁번째 (prob: 0.4869)\n",
      "Top 2: ▁중 (prob: 0.0510)\n",
      "Top 3: ▁해 (prob: 0.0341)\n",
      "Top 4: ▁섬 (prob: 0.0319)\n",
      "Top 5: ▁날 (prob: 0.0278)\n",
      "------------------------------\n",
      "Prediction: 대한민국의 수도는 ▁번째이다.\n",
      "\n",
      "Input: 오늘 점심으로 [MASK]을 먹고 싶다.\n",
      "------------------------------\n",
      "Top 1: ▁동계 (prob: 0.1230)\n",
      "Top 2: ▁오늘 (prob: 0.0586)\n",
      "Top 3: ▁봄 (prob: 0.0528)\n",
      "Top 4: ▁가는 (prob: 0.0344)\n",
      "Top 5: ▁사람이 (prob: 0.0342)\n",
      "------------------------------\n",
      "Prediction: 오늘 점심으로 ▁동계을 먹고 싶다.\n",
      "\n",
      "Input: 내일 [MASK]에 놀러 갈 예정이다.\n",
      "------------------------------\n",
      "Top 1: ▁고양 (prob: 0.0469)\n",
      "Top 2: ▁경기 (prob: 0.0458)\n",
      "Top 3: ▁밤 (prob: 0.0356)\n",
      "Top 4: ▁놀 (prob: 0.0336)\n",
      "Top 5: ▁같은 (prob: 0.0328)\n",
      "------------------------------\n",
      "Prediction: 내일 ▁고양에 놀러 갈 예정이다.\n",
      "\n",
      "==================================================\n",
      "====== NSP (Next Sentence Prediction) Test =======\n",
      "==================================================\n",
      "\n",
      "--- Case 1: Plausible next sentence ---\n",
      "\n",
      "Sentence A: 오늘 날씨가 정말 좋네요.\n",
      "Sentence B: 공원에 산책하러 가야겠어요.\n",
      "------------------------------\n",
      "Probability that B is the next sentence of A: 53.06%\n",
      "Prediction: YES, it is the next sentence.\n",
      "\n",
      "--- Case 2: Unrelated sentence ---\n",
      "\n",
      "Sentence A: 오늘 날씨가 정말 좋네요.\n",
      "Sentence B: BERT는 구글에서 개발한 언어 모델입니다.\n",
      "------------------------------\n",
      "Probability that B is the next sentence of A: 42.16%\n",
      "Prediction: NO, it is not the next sentence.\n"
     ]
    }
   ],
   "source": [
    "device = torch.device(\"cuda\" if torch.cuda.is_available() else \"cpu\")\n",
    "\n",
    "# 1. 학습된 모델 로드\n",
    "print(\"Loading the trained model...\")\n",
    "model = BERTPretrain(bert_config)\n",
    "# 저장된 모델 가중치를 불러옵니다. CPU에서 실행할 경우 map_location 인자가 필요합니다.\n",
    "model.load_state_dict(torch.load(\"mini_bert_pretrained.pth\", map_location=device))\n",
    "model.to(device)\n",
    "model.eval()  # 모델을 평가 모드로 설정\n",
    "print(\"Model loaded!\")\n",
    "\n",
    "# 2. 빈칸 채우기 (MLM) 테스트 함수\n",
    "def test_mlm(model, vocab, sentence):\n",
    "    \"\"\"\n",
    "    Masked Language Model 테스트 함수\n",
    "    :param model: 학습된 BERT 모델\n",
    "    :param vocab: SentencePiece vocab\n",
    "    :param sentence: [MASK] 토큰이 포함된 테스트 문장\n",
    "    \"\"\"\n",
    "    # 토큰화 및 텐서 생성\n",
    "    tokens = vocab.encode_as_pieces(sentence)\n",
    "    tokens = [\"[CLS]\"] + tokens + [\"[SEP]\"]\n",
    "\n",
    "    # [MASK] 토큰 위치 찾기\n",
    "    try:\n",
    "        mask_index = tokens.index(\"[MASK]\")\n",
    "    except ValueError:\n",
    "        print(\"Error: '[MASK]' token not found in the sentence.\")\n",
    "        return\n",
    "\n",
    "    enc_tokens = [vocab.piece_to_id(p) for p in tokens]\n",
    "    segments = [0] * len(enc_tokens)\n",
    "\n",
    "    # 모델 입력용 텐서 준비 (batch_size=1)\n",
    "    input_tokens = torch.tensor([enc_tokens], dtype=torch.long).to(device)\n",
    "    input_segments = torch.tensor([segments], dtype=torch.long).to(device)\n",
    "\n",
    "    # 모델 추론\n",
    "    with torch.no_grad():\n",
    "        _, logits_mlm, _ = model(input_tokens, input_segments)\n",
    "\n",
    "    # [MASK] 위치의 로짓만 추출\n",
    "    mask_logits = logits_mlm[0, mask_index, :]\n",
    "\n",
    "    # Top 5 예측\n",
    "    probs = F.softmax(mask_logits, dim=-1)\n",
    "    top_5_probs, top_5_indices = torch.topk(probs, 5)\n",
    "\n",
    "    top_5_tokens = [vocab.id_to_piece(idx.item()) for idx in top_5_indices]\n",
    "\n",
    "    # 결과 출력\n",
    "    print(f\"\\nInput: {sentence}\")\n",
    "    print(\"-\" * 30)\n",
    "    for i in range(5):\n",
    "        # \" \" 기호는 띄어쓰기로 바꿔서 보기 좋게 출력\n",
    "        token = top_5_tokens[i].replace(' ', ' ')\n",
    "        print(f\"Top {i+1}: {token} (prob: {top_5_probs[i]:.4f})\")\n",
    "    print(\"-\" * 30)\n",
    "    predicted_word = top_5_tokens[0].replace(' ', '')\n",
    "    print(f\"Prediction: {sentence.replace('[MASK]', predicted_word)}\")\n",
    "\n",
    "\n",
    "# 3. 이어지는 문장 맞추기 (NSP) 테스트 함수\n",
    "def test_nsp(model, vocab, sent_a, sent_b):\n",
    "    \"\"\"\n",
    "    Next Sentence Prediction 테스트 함수\n",
    "    :param model: 학습된 BERT 모델\n",
    "    :param vocab: SentencePiece vocab\n",
    "    :param sent_a: 첫 번째 문장\n",
    "    :param sent_b: 두 번째 문장\n",
    "    \"\"\"\n",
    "    # 토큰화 및 텐서 생성\n",
    "    tokens_a = vocab.encode_as_pieces(sent_a)\n",
    "    tokens_b = vocab.encode_as_pieces(sent_b)\n",
    "\n",
    "    tokens = [\"[CLS]\"] + tokens_a + [\"[SEP]\"] + tokens_b + [\"[SEP]\"]\n",
    "    enc_tokens = [vocab.piece_to_id(p) for p in tokens]\n",
    "    segments = [0] * (len(tokens_a) + 2) + [1] * (len(tokens_b) + 1)\n",
    "\n",
    "    # 패딩\n",
    "    padding_needed = bert_config.n_seq - len(enc_tokens)\n",
    "    if padding_needed > 0:\n",
    "        enc_tokens.extend([0] * padding_needed)\n",
    "        segments.extend([0] * padding_needed)\n",
    "\n",
    "    # 모델 입력용 텐서 준비 (batch_size=1)\n",
    "    input_tokens = torch.tensor([enc_tokens], dtype=torch.long).to(device)\n",
    "    input_segments = torch.tensor([segments], dtype=torch.long).to(device)\n",
    "\n",
    "    # 모델 추론\n",
    "    with torch.no_grad():\n",
    "        logits_nsp, _, _ = model(input_tokens, input_segments)\n",
    "\n",
    "    # 결과 분석 (0: NotNext, 1: IsNext)\n",
    "    probs = F.softmax(logits_nsp, dim=-1)\n",
    "    is_next_prob = probs[0, 1].item()\n",
    "\n",
    "    # 결과 출력\n",
    "    print(f\"\\nSentence A: {sent_a}\")\n",
    "    print(f\"Sentence B: {sent_b}\")\n",
    "    print(\"-\" * 30)\n",
    "    print(f\"Probability that B is the next sentence of A: {is_next_prob:.2%}\")\n",
    "    if is_next_prob > 0.5:\n",
    "        print(\"Prediction: YES, it is the next sentence.\")\n",
    "    else:\n",
    "        print(\"Prediction: NO, it is not the next sentence.\")\n",
    "\n",
    "\n",
    "# --- 테스트 실행 ---\n",
    "print(\"\\n\" + \"=\"*50)\n",
    "print(\" MLM (Fill-in-the-blank) Test \".center(50, \"=\"))\n",
    "print(\"=\"*50)\n",
    "test_mlm(model, vocab, \"대한민국의 수도는 [MASK]이다.\")\n",
    "test_mlm(model, vocab, \"오늘 점심으로 [MASK]을 먹고 싶다.\")\n",
    "test_mlm(model, vocab, \"내일 [MASK]에 놀러 갈 예정이다.\")\n",
    "\n",
    "\n",
    "print(\"\\n\" + \"=\"*50)\n",
    "print(\" NSP (Next Sentence Prediction) Test \".center(50, \"=\"))\n",
    "print(\"=\"*50)\n",
    "# Case 1: 이어지는 문장\n",
    "print(\"\\n--- Case 1: Plausible next sentence ---\")\n",
    "test_nsp(model, vocab, \"오늘 날씨가 정말 좋네요.\", \"공원에 산책하러 가야겠어요.\")\n",
    "\n",
    "# Case 2: 이어지지 않는 문장\n",
    "print(\"\\n--- Case 2: Unrelated sentence ---\")\n",
    "test_nsp(model, vocab, \"오늘 날씨가 정말 좋네요.\", \"BERT는 구글에서 개발한 언어 모델입니다.\")"
   ]
  },
  {
   "cell_type": "code",
   "execution_count": 16,
   "metadata": {},
   "outputs": [
    {
     "name": "stderr",
     "output_type": "stream",
     "text": [
      "/opt/conda/lib/python3.12/site-packages/IPython/core/pylabtools.py:170: UserWarning: Glyph 9601 (\\N{LOWER ONE EIGHTH BLOCK}) missing from font(s) NanumGothic.\n",
      "  fig.canvas.print_figure(bytes_io, **kw)\n"
     ]
    },
    {
     "data": {
      "image/png": "[encoded data removed]",
      "text/plain": [
       "<Figure size 1000x1000 with 2 Axes>"
      ]
     },
     "metadata": {},
     "output_type": "display_data"
    }
   ],
   "source": [
    "import matplotlib.font_manager as fm\n",
    "\n",
    "def visualize_attention(model, vocab, sentence):\n",
    "    # 토큰화 및 텐서 생성\n",
    "    tokens = vocab.encode_as_pieces(sentence)\n",
    "    tokens = [\"[CLS]\"] + tokens + [\"[SEP]\"]\n",
    "\n",
    "    enc_tokens = [vocab.piece_to_id(p) for p in tokens]\n",
    "    segments = [0] * len(enc_tokens)\n",
    "\n",
    "    input_tokens = torch.tensor([enc_tokens], dtype=torch.long).to(device)\n",
    "    input_segments = torch.tensor([segments], dtype=torch.long).to(device)\n",
    "\n",
    "    # 모델 추론 및 어텐션 스코어 얻기\n",
    "    with torch.no_grad():\n",
    "        _, _, attn_probs = model(input_tokens, input_segments)\n",
    "\n",
    "    # 마지막 레이어의 어텐션 스코어를 사용\n",
    "    # attn_probs 리스트의 마지막 요소, 첫 번째 배치의 스코어\n",
    "    last_layer_attention = attn_probs[-1][0]\n",
    "\n",
    "    # 헤드들의 어텐션을 평균내어 (n_seq, n_seq) 크기로 만듬\n",
    "    # (n_head, n_seq, n_seq) -> (n_seq, n_seq)\n",
    "    attention_matrix = last_layer_attention.mean(dim=0)\n",
    "\n",
    "    # 시각화\n",
    "    fig, ax = plt.subplots(figsize=(10, 10))\n",
    "    im = ax.imshow(attention_matrix.cpu(), cmap='viridis')\n",
    "\n",
    "    # 보기 좋게 꾸미기\n",
    "    font_path = '/usr/share/fonts/truetype/nanum/NanumGothic.ttf'\n",
    "    fontprop = fm.FontProperties(fname=font_path, size=12)\n",
    "\n",
    "    ax.set_xticks(range(len(tokens)))\n",
    "    ax.set_yticks(range(len(tokens)))\n",
    "    ax.set_xticklabels(tokens, fontproperties=fontprop, rotation=90)\n",
    "    ax.set_yticklabels(tokens, fontproperties=fontprop)\n",
    "\n",
    "    fig.colorbar(im, ax=ax)\n",
    "    plt.title(\"Attention Heatmap (Last Layer)\", fontproperties=fontprop)\n",
    "    plt.show()\n",
    "\n",
    "visualize_attention(model, vocab, \"대한민국의 수도는 서울이다.\")"
   ]
  },
  {
   "cell_type": "code",
   "execution_count": null,
   "metadata": {},
   "outputs": [],
   "source": []
  }
 ],
 "metadata": {
  "kernelspec": {
   "display_name": "Python 3 (ipykernel)",
   "language": "python",
   "name": "python3"
  },
  "language_info": {
   "codemirror_mode": {
    "name": "ipython",
    "version": 3
   },
   "file_extension": ".py",
   "mimetype": "text/x-python",
   "name": "python",
   "nbconvert_exporter": "python",
   "pygments_lexer": "ipython3",
   "version": "3.12.11"
  }
 },
 "nbformat": 4,
 "nbformat_minor": 4
}
