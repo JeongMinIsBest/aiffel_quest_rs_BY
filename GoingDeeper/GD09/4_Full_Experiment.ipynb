{
 "cells": [
  {
   "cell_type": "markdown",
   "id": "d7217a83",
   "metadata": {},
   "source": [
    "# 프로젝트: KoChatGPT 업그레이드"
   ]
  },
  {
   "cell_type": "markdown",
   "id": "393c92af",
   "metadata": {},
   "source": [
    "## 1. 프로젝트 개요"
   ]
  },
  {
   "cell_type": "markdown",
   "id": "8e6b5cac",
   "metadata": {},
   "source": [
    "### 1.1. 목표\n",
    "이 프로젝트의 목표는 기존 KoChatGPT 모델을 기반으로 다양한 개선 전략을 적용하여 자신만의 Custom ChatGPT를 개발하는 것입니다.\n",
    "제시된 전략(데이터셋 정제, 신규 데이터셋 추가, 파운데이션 모델 교체 등) 중 하나 이상을 선택하여 모델을 업그레이드하고 성능을 평가합니다."
   ]
  },
  {
   "cell_type": "markdown",
   "id": "a394dcd3",
   "metadata": {},
   "source": [
    "## 2. 환경 설정"
   ]
  },
  {
   "cell_type": "markdown",
   "id": "3ecd0fe1",
   "metadata": {},
   "source": [
    "### 2.1 라이브러리 설치"
   ]
  },
  {
   "cell_type": "code",
   "execution_count": 1,
   "id": "e59e8142",
   "metadata": {},
   "outputs": [],
   "source": [
    "# 1. 필요한 라이브러리 설치 (최초 1회만 실행)\n",
    "# !pip install torch\n",
    "# !pip install transformers\n",
    "# !pip install sentencepiece\n",
    "# !pip install pandas\n",
    "# !pip install dataclasses\n",
    "# !pip install accelerate\n",
    "# !pip install loralib\n",
    "# !pip install nltk\n",
    "# !pip install rouge\n",
    "# !pip install wandb\n",
    "# !pip install peft"
   ]
  },
  {
   "cell_type": "markdown",
   "id": "437e48df",
   "metadata": {},
   "source": [
    "### 2.2 라이브러리 임포트 및 기본 설정"
   ]
  },
  {
   "cell_type": "code",
   "execution_count": 2,
   "id": "caa9c47d",
   "metadata": {},
   "outputs": [],
   "source": [
    "\n",
    "# 2. 라이브러리 임포트\n",
    "import torch\n",
    "import transformers\n",
    "from transformers import AutoTokenizer, AutoModelForCausalLM\n",
    "import pandas as pd\n",
    "import numpy\n",
    "import json\n",
    "import wandb\n",
    "from typing import Optional, Dict, Sequence\n",
    "from torch.utils.data import Dataset\n",
    "from dataclasses import dataclass\n",
    "import logging\n",
    "import copy"
   ]
  },
  {
   "cell_type": "code",
   "execution_count": 3,
   "id": "1c82aa84",
   "metadata": {},
   "outputs": [
    {
     "name": "stderr",
     "output_type": "stream",
     "text": [
      "\u001b[34m\u001b[1mwandb\u001b[0m: \u001b[32m\u001b[41mERROR\u001b[0m Failed to detect the name of this notebook. You can set it manually with the WANDB_NOTEBOOK_NAME environment variable to enable code saving.\n",
      "\u001b[34m\u001b[1mwandb\u001b[0m: Currently logged in as: \u001b[33mbeomyongchoi\u001b[0m (\u001b[33mbeomyongchoi-university-of-colorado-boulder\u001b[0m) to \u001b[32mhttps://api.wandb.ai\u001b[0m. Use \u001b[1m`wandb login --relogin`\u001b[0m to force relogin\n"
     ]
    },
    {
     "data": {
      "text/plain": [
       "True"
      ]
     },
     "execution_count": 3,
     "metadata": {},
     "output_type": "execute_result"
    }
   ],
   "source": [
    "# 3. Weights & Biases 로그인\n",
    "wandb.login()"
   ]
  },
  {
   "cell_type": "markdown",
   "id": "12093e8c",
   "metadata": {},
   "source": [
    "## 3. 파라미터 설정"
   ]
  },
  {
   "cell_type": "code",
   "execution_count": 4,
   "id": "bae0a0ac",
   "metadata": {},
   "outputs": [],
   "source": [
    "# SFT 파라미터\n",
    "SFT_NUM_TRAIN_EPOCHS = 5\n",
    "\n",
    "# PPO 파라미터\n",
    "PPO_NUM_EPISODES = 100\n",
    "PPO_MAX_EPOCHS = 3 # PPO 내부 학습 에포크\n",
    "\n",
    "# 버전 이름 (파일명 및 모델명에 사용)\n",
    "VERSION_NAME='v2.5'\n",
    "\n",
    "# WandB 실행 이름\n",
    "SFT_RUN_NAME = f'sft_kogpt2_{SFT_NUM_TRAIN_EPOCHS}_epochs_{VERSION_NAME}'\n",
    "PPO_RUN_NAME = f'ppo_{PPO_NUM_EPISODES}_episodes_{PPO_MAX_EPOCHS}_epochs_{VERSION_NAME}'\n",
    "\n",
    "# 데이터 파일 경로\n",
    "DATA_PATH_1_SFT=f'data/kochatgpt_1_SFT_{VERSION_NAME}.jsonl'\n",
    "DATA_PATH_2_RM='data/kochatgpt_2_RM.jsonl'\n",
    "DATA_PATH_3_PPO='data/kochatgpt_3_PPO.jsonl'\n",
    "\n",
    "# 모델 파일 경로\n",
    "BASE_MODEL_NAME = 'skt/kogpt2-base-v2'\n",
    "SFT_MODEL_NAME = f'models/sft_output_model_{VERSION_NAME}'  # SFT 모델 경로\n",
    "RM_MODEL_NAME = f'models/rm_output_model_{VERSION_NAME}'    # RM 모델 경로\n",
    "PPO_MODEL_NAME = f'models/output_3_PPO_{VERSION_NAME}'  # PPO 모델 경로"
   ]
  },
  {
   "cell_type": "markdown",
   "id": "e2b2daf9",
   "metadata": {},
   "source": [
    "#### **데이터셋 로드 및 기본 분석**\n",
    "   SFT 학습에 사용된 `kochatgpt_1_SFT.jsonl` 파일을 pandas DataFrame으로 불러와 기본적인 구조와 내용을 확인합니다."
   ]
  },
  {
   "cell_type": "code",
   "execution_count": 5,
   "id": "6e624b14",
   "metadata": {},
   "outputs": [
    {
     "name": "stdout",
     "output_type": "stream",
     "text": [
      "SFT 데이터셋 크기: 12000개\n",
      "\n",
      "SFT 데이터셋 샘플:\n"
     ]
    },
    {
     "data": {
      "text/html": [
       "<div>\n",
       "<style scoped>\n",
       "    .dataframe tbody tr th:only-of-type {\n",
       "        vertical-align: middle;\n",
       "    }\n",
       "\n",
       "    .dataframe tbody tr th {\n",
       "        vertical-align: top;\n",
       "    }\n",
       "\n",
       "    .dataframe thead th {\n",
       "        text-align: right;\n",
       "    }\n",
       "</style>\n",
       "<table border=\"1\" class=\"dataframe\">\n",
       "  <thead>\n",
       "    <tr style=\"text-align: right;\">\n",
       "      <th></th>\n",
       "      <th>prompt</th>\n",
       "      <th>completion</th>\n",
       "      <th>tokens</th>\n",
       "    </tr>\n",
       "  </thead>\n",
       "  <tbody>\n",
       "    <tr>\n",
       "      <th>5016</th>\n",
       "      <td>이흐산 옥타이 아나르가 선정된 인물은</td>\n",
       "      <td>'제가 할 수 있는 것은 이 이름이 일반적으로 문화, 예술 영역에서 활동하는 인물이...</td>\n",
       "      <td>147</td>\n",
       "    </tr>\n",
       "    <tr>\n",
       "      <th>4984</th>\n",
       "      <td>그사람 이상형 궁금해</td>\n",
       "      <td>'제가 AI 챗봇으로 프로그래밍 되어있는 관계로 그 사람의 이상형에 대해서는 알 수...</td>\n",
       "      <td>122</td>\n",
       "    </tr>\n",
       "    <tr>\n",
       "      <th>859</th>\n",
       "      <td>에몬노스케노쓰보네의 원래 이름은</td>\n",
       "      <td>'에몬노스케노쓰보네의 원래 이름은 알려진 바 없습니다.</td>\n",
       "      <td>63</td>\n",
       "    </tr>\n",
       "    <tr>\n",
       "      <th>8431</th>\n",
       "      <td>한국 관보 1호의 발행일이 언제야</td>\n",
       "      <td>'한국 관보 1호의 발행일은 1883년 9월 1일입니다.</td>\n",
       "      <td>54</td>\n",
       "    </tr>\n",
       "    <tr>\n",
       "      <th>5279</th>\n",
       "      <td>강정호를 장차 최고 유격수가 될 선수를 뭐하러 포수로 전향시키느냐고 반대하며 유격수...</td>\n",
       "      <td>'이 질문에 대한 정확한 답은 없지만, 이러한 배경 이야기는 대부분 한국 야구계에서...</td>\n",
       "      <td>149</td>\n",
       "    </tr>\n",
       "  </tbody>\n",
       "</table>\n",
       "</div>"
      ],
      "text/plain": [
       "                                                 prompt  \\\n",
       "5016                               이흐산 옥타이 아나르가 선정된 인물은   \n",
       "4984                                        그사람 이상형 궁금해   \n",
       "859                                   에몬노스케노쓰보네의 원래 이름은   \n",
       "8431                                 한국 관보 1호의 발행일이 언제야   \n",
       "5279  강정호를 장차 최고 유격수가 될 선수를 뭐하러 포수로 전향시키느냐고 반대하며 유격수...   \n",
       "\n",
       "                                             completion  tokens  \n",
       "5016  '제가 할 수 있는 것은 이 이름이 일반적으로 문화, 예술 영역에서 활동하는 인물이...     147  \n",
       "4984  '제가 AI 챗봇으로 프로그래밍 되어있는 관계로 그 사람의 이상형에 대해서는 알 수...     122  \n",
       "859                      '에몬노스케노쓰보네의 원래 이름은 알려진 바 없습니다.      63  \n",
       "8431                    '한국 관보 1호의 발행일은 1883년 9월 1일입니다.      54  \n",
       "5279  '이 질문에 대한 정확한 답은 없지만, 이러한 배경 이야기는 대부분 한국 야구계에서...     149  "
      ]
     },
     "metadata": {},
     "output_type": "display_data"
    }
   ],
   "source": [
    "import pandas as pd\n",
    "import matplotlib.pyplot as plt\n",
    "import seaborn as sns\n",
    "\n",
    "# SFT 데이터셋 로드\n",
    "sft_df = pd.read_json('data/kochatgpt_1_SFT.jsonl')\n",
    "\n",
    "# 데이터 구조 및 샘플 확인\n",
    "print(f\"SFT 데이터셋 크기: {len(sft_df)}개\")\n",
    "print(\"\\nSFT 데이터셋 샘플:\")\n",
    "display(sft_df.sample(5))"
   ]
  },
  {
   "cell_type": "markdown",
   "id": "23e58955",
   "metadata": {},
   "source": [
    "#### **데이터 길이 분포 분석**\n",
    "질문(prompt)과 답변(completion)의 글자 수 길이를 계산하고, 분포를 시각화하여 데이터의 전반적인 길이 특성을 파악합니다.\n",
    "이를 통해 너무 길거나 짧은 데이터가 있는지, 토크나이저의 `max_length` 설정이 적절한지 등을 가늠할 수 있습니다."
   ]
  },
  {
   "cell_type": "code",
   "execution_count": 6,
   "id": "96449634",
   "metadata": {},
   "outputs": [
    {
     "data": {
      "image/png": "[encoded data removed]",
      "text/plain": [
       "<Figure size 1200x500 with 2 Axes>"
      ]
     },
     "metadata": {},
     "output_type": "display_data"
    },
    {
     "data": {
      "text/html": [
       "<div>\n",
       "<style scoped>\n",
       "    .dataframe tbody tr th:only-of-type {\n",
       "        vertical-align: middle;\n",
       "    }\n",
       "\n",
       "    .dataframe tbody tr th {\n",
       "        vertical-align: top;\n",
       "    }\n",
       "\n",
       "    .dataframe thead th {\n",
       "        text-align: right;\n",
       "    }\n",
       "</style>\n",
       "<table border=\"1\" class=\"dataframe\">\n",
       "  <thead>\n",
       "    <tr style=\"text-align: right;\">\n",
       "      <th></th>\n",
       "      <th>prompt_len</th>\n",
       "      <th>completion_len</th>\n",
       "    </tr>\n",
       "  </thead>\n",
       "  <tbody>\n",
       "    <tr>\n",
       "      <th>count</th>\n",
       "      <td>12000.000000</td>\n",
       "      <td>12000.000000</td>\n",
       "    </tr>\n",
       "    <tr>\n",
       "      <th>mean</th>\n",
       "      <td>22.180583</td>\n",
       "      <td>144.107250</td>\n",
       "    </tr>\n",
       "    <tr>\n",
       "      <th>std</th>\n",
       "      <td>14.110028</td>\n",
       "      <td>122.843692</td>\n",
       "    </tr>\n",
       "    <tr>\n",
       "      <th>min</th>\n",
       "      <td>0.000000</td>\n",
       "      <td>4.000000</td>\n",
       "    </tr>\n",
       "    <tr>\n",
       "      <th>25%</th>\n",
       "      <td>13.000000</td>\n",
       "      <td>62.000000</td>\n",
       "    </tr>\n",
       "    <tr>\n",
       "      <th>50%</th>\n",
       "      <td>19.000000</td>\n",
       "      <td>118.000000</td>\n",
       "    </tr>\n",
       "    <tr>\n",
       "      <th>75%</th>\n",
       "      <td>28.000000</td>\n",
       "      <td>185.000000</td>\n",
       "    </tr>\n",
       "    <tr>\n",
       "      <th>max</th>\n",
       "      <td>295.000000</td>\n",
       "      <td>1553.000000</td>\n",
       "    </tr>\n",
       "  </tbody>\n",
       "</table>\n",
       "</div>"
      ],
      "text/plain": [
       "         prompt_len  completion_len\n",
       "count  12000.000000    12000.000000\n",
       "mean      22.180583      144.107250\n",
       "std       14.110028      122.843692\n",
       "min        0.000000        4.000000\n",
       "25%       13.000000       62.000000\n",
       "50%       19.000000      118.000000\n",
       "75%       28.000000      185.000000\n",
       "max      295.000000     1553.000000"
      ]
     },
     "metadata": {},
     "output_type": "display_data"
    }
   ],
   "source": [
    "# 프롬프트와 답변의 길이 계산\n",
    "sft_df['prompt_len'] = sft_df['prompt'].apply(len)\n",
    "sft_df['completion_len'] = sft_df['completion'].apply(len)\n",
    "\n",
    "# 길이 분포 시각화\n",
    "plt.figure(figsize=(12, 5))\n",
    "\n",
    "plt.subplot(1, 2, 1)\n",
    "sns.histplot(sft_df['prompt_len'], bins=50)\n",
    "plt.title('Prompt Length Distribution')\n",
    "\n",
    "plt.subplot(1, 2, 2)\n",
    "sns.histplot(sft_df['completion_len'], bins=50)\n",
    "plt.title('Completion Length Distribution')\n",
    "\n",
    "plt.tight_layout()\n",
    "plt.show()\n",
    "\n",
    "# 길이 관련 통계치 확인\n",
    "display(sft_df[['prompt_len', 'completion_len']].describe())"
   ]
  },
  {
   "cell_type": "markdown",
   "id": "b9d11008",
   "metadata": {},
   "source": [
    "#### 데이터 정제 및 증강\n",
    "분석 결과를 바탕으로 데이터를 정제하고, Augmentation을 통해 데이터 크기를 유지하거나 늘립니다."
   ]
  },
  {
   "cell_type": "code",
   "execution_count": 7,
   "id": "026caaa8",
   "metadata": {},
   "outputs": [
    {
     "name": "stdout",
     "output_type": "stream",
     "text": [
      "--- 1. SFT 데이터셋 정제 시작 ---\n",
      "SFT 정제 전 데이터 개수: 12000\n",
      "SFT 정제 후 데이터 개수: 11515\n",
      "SFT 제거된 데이터 개수: 485\n",
      "\n",
      "'data/kochatgpt_1_SFT_v2.5.jsonl' 파일이 생성되었습니다.\n",
      "----------------------------------------\n",
      "\n",
      "--- 2. RM 및 PPO 데이터셋 정제 시작 ---\n",
      "정제된 SFT의 고유 프롬프트 개수: 11515\n",
      "\n",
      "RM 정제 전 데이터 개수: 10220\n",
      "RM 정제 후 데이터 개수: 9816\n",
      "RM 제거된 데이터 개수: 404\n",
      "\n",
      "'data/kochatgpt_2_RM_v2.5.jsonl' 파일이 생성되었습니다.\n",
      "----------------------------------------\n",
      "\n",
      "PPO 정제 전 데이터 개수: 12000\n",
      "PPO 정제 후 데이터 개수: 11515\n",
      "PPO 제거된 데이터 개수: 485\n",
      "\n",
      "'data/kochatgpt_3_PPO_v2.5.jsonl' 파일이 생성되었습니다.\n",
      "\n",
      "--- 작업 완료 ---\n",
      "이제 노트북의 '3. 파라미터 설정' 셀에서 파일 경로를 정제된 새 파일 경로로 업데이트한 후 다음 단계를 진행하세요.\n",
      "예시:\n",
      "DATA_PATH_1_SFT = 'data/kochatgpt_1_SFT_v2.5.jsonl'\n",
      "DATA_PATH_2_RM = 'data/kochatgpt_2_RM_v2.5.jsonl'\n",
      "DATA_PATH_3_PPO = 'data/kochatgpt_3_PPO_v2.5.jsonl'\n"
     ]
    }
   ],
   "source": [
    "# sft_df는 이전 셀에서 로드 및 길이 계산이 완료되었다고 가정합니다.\n",
    "\n",
    "# --- 1. SFT 데이터셋 정제 및 저장 ---\n",
    "print(\"--- 1. SFT 데이터셋 정제 시작 ---\")\n",
    "min_len = 10\n",
    "max_len = 500\n",
    "\n",
    "before_len = len(sft_df)\n",
    "sft_df_refined = sft_df[(sft_df['completion_len'] >= min_len) & (sft_df['completion_len'] <= max_len)]\n",
    "sft_df_dedup = sft_df_refined.drop_duplicates(subset=['prompt'], keep='first')\n",
    "after_len = len(sft_df_dedup)\n",
    "\n",
    "print(f\"SFT 정제 전 데이터 개수: {before_len}\")\n",
    "print(f\"SFT 정제 후 데이터 개수: {after_len}\")\n",
    "print(f\"SFT 제거된 데이터 개수: {before_len - after_len}\")\n",
    "\n",
    "# 정제된 SFT 데이터를 새 파일로 저장 (필요한 컬럼만 선택)\n",
    "# VERSION_NAME 변수는 '3. 파라미터 설정' 셀에서 정의되었다고 가정합니다.\n",
    "refined_sft_path = f'data/kochatgpt_1_SFT_{VERSION_NAME}.jsonl'\n",
    "sft_df_dedup[['prompt', 'completion', 'tokens']].to_json(\n",
    "    refined_sft_path, orient='records', force_ascii=False, indent=4\n",
    ")\n",
    "print(f\"\\n'{refined_sft_path}' 파일이 생성되었습니다.\")\n",
    "print(\"-\" * 40)\n",
    "\n",
    "\n",
    "# --- 2. RM 및 PPO 데이터셋과 프롬프트 일관성 맞추기 ---\n",
    "print(\"\\n--- 2. RM 및 PPO 데이터셋 정제 시작 ---\")\n",
    "\n",
    "# 정제된 SFT 데이터셋의 유효한 프롬프트 목록 생성\n",
    "valid_prompts = set(sft_df_dedup['prompt'])\n",
    "print(f\"정제된 SFT의 고유 프롬프트 개수: {len(valid_prompts)}\")\n",
    "\n",
    "# --- 2.1. RM 데이터셋 정제 ---\n",
    "try:\n",
    "    rm_df = pd.read_json('data/kochatgpt_2_RM.jsonl')\n",
    "    before_len_rm = len(rm_df)\n",
    "\n",
    "    # SFT에 존재하는 프롬프트만 남기고 중복 제거\n",
    "    rm_df_refined = rm_df[rm_df['prompt'].isin(valid_prompts)].drop_duplicates(subset=['prompt'], keep='first').copy()\n",
    "    after_len_rm = len(rm_df_refined)\n",
    "\n",
    "    print(f\"\\nRM 정제 전 데이터 개수: {before_len_rm}\")\n",
    "    print(f\"RM 정제 후 데이터 개수: {after_len_rm}\")\n",
    "    print(f\"RM 제거된 데이터 개수: {before_len_rm - after_len_rm}\")\n",
    "\n",
    "    # 정제된 RM 데이터를 새 파일로 저장\n",
    "    refined_rm_path = f'data/kochatgpt_2_RM_{VERSION_NAME}.jsonl'\n",
    "    rm_df_refined.to_json(refined_rm_path, orient='records', force_ascii=False, indent=4)\n",
    "    print(f\"\\n'{refined_rm_path}' 파일이 생성되었습니다.\")\n",
    "except FileNotFoundError:\n",
    "    print(\"\\n'data/kochatgpt_2_RM.jsonl' 파일을 찾을 수 없습니다. RM 데이터셋 정제를 건너뜁니다.\")\n",
    "print(\"-\" * 40)\n",
    "\n",
    "# --- 2.2. PPO 데이터셋 정제 ---\n",
    "try:\n",
    "    ppo_df = pd.read_json('data/kochatgpt_3_PPO.jsonl')\n",
    "    before_len_ppo = len(ppo_df)\n",
    "\n",
    "    # SFT에 존재하는 프롬프트만 남기고 중복 제거\n",
    "    ppo_df_refined = ppo_df[ppo_df['prompt'].isin(valid_prompts)].drop_duplicates(subset=['prompt'], keep='first').copy()\n",
    "    after_len_ppo = len(ppo_df_refined)\n",
    "\n",
    "    print(f\"\\nPPO 정제 전 데이터 개수: {before_len_ppo}\")\n",
    "    print(f\"PPO 정제 후 데이터 개수: {after_len_ppo}\")\n",
    "    print(f\"PPO 제거된 데이터 개수: {before_len_ppo - after_len_ppo}\")\n",
    "\n",
    "    # 정제된 PPO 데이터를 새 파일로 저장\n",
    "    refined_ppo_path = f'data/kochatgpt_3_PPO_{VERSION_NAME}.jsonl'\n",
    "    ppo_df_refined.to_json(refined_ppo_path, orient='records', force_ascii=False, indent=4)\n",
    "    print(f\"\\n'{refined_ppo_path}' 파일이 생성되었습니다.\")\n",
    "except FileNotFoundError:\n",
    "    print(\"\\n'data/kochatgpt_3_PPO.jsonl' 파일을 찾을 수 없습니다. PPO 데이터셋 정제를 건너뜁니다.\")\n",
    "\n",
    "print(\"\\n--- 작업 완료 ---\")\n",
    "print(\"이제 노트북의 '3. 파라미터 설정' 셀에서 파일 경로를 정제된 새 파일 경로로 업데이트한 후 다음 단계를 진행하세요.\")\n",
    "print(\"예시:\")\n",
    "print(f\"DATA_PATH_1_SFT = 'data/kochatgpt_1_SFT_{VERSION_NAME}.jsonl'\")\n",
    "print(f\"DATA_PATH_2_RM = 'data/kochatgpt_2_RM_{VERSION_NAME}.jsonl'\")\n",
    "print(f\"DATA_PATH_3_PPO = 'data/kochatgpt_3_PPO_{VERSION_NAME}.jsonl'\")"
   ]
  },
  {
   "cell_type": "markdown",
   "id": "523d5599",
   "metadata": {},
   "source": [
    "## 4. RLHF (Reinforcement Learning from Human Feedback) 튜닝"
   ]
  },
  {
   "cell_type": "markdown",
   "id": "75837b7b",
   "metadata": {},
   "source": [
    "### 4.1. 1단계: SFT (Supervised Fine-Tuning)\n",
    "\n",
    "먼저, 튜닝하지 않은 원본 `skt/kogpt2-base-v2` 모델의 답변을 생성하여 베이스라인으로 삼습니다.\n",
    "이후 SFT(Supervised Fine-Tuning)를 진행하고, 같은 프롬프트에 대해 SFT 모델이 어떻게 답변하는지 비교하여 성능 향상을 확인합니다."
   ]
  },
  {
   "cell_type": "markdown",
   "id": "d442086f",
   "metadata": {},
   "source": [
    "#### 4.1.1. 베이스라인 모델(KoGPT2) 성능 확인"
   ]
  },
  {
   "cell_type": "code",
   "execution_count": 8,
   "id": "e2cdccf0",
   "metadata": {},
   "outputs": [
    {
     "name": "stdout",
     "output_type": "stream",
     "text": [
      "Using device: cuda\n",
      "Loading model: skt/kogpt2-base-v2\n",
      "Baseline Model and Tokenizer loaded successfully.\n",
      "Successfully loaded 11515 prompts from dataset.\n",
      "[Prompt]\n",
      "불고기용 고기 한우에요?\n",
      "\n",
      "[Baseline 1: Beam Search]\n",
      "불고기용 고기 한우에요? ᄒᄒ\n",
      "이거 진짜 맛있더라구요 ᄏᄏ\n",
      "고기랑 같이 먹으니까 더 맛있어요!!!\n",
      "이렇게 고기랑 함께 먹을 수 있어서 너무 좋았어요~~\n",
      "고기가 정말 맛있게 잘 익었습니다!\n",
      "고기를 구워먹을 수 있는 고기집이라고 하네요!\n",
      "고기집답게 고기 굽는 과정이 굉장히 간단하답니다  \n",
      "고기 굽기 전에 고기를 굽고 나서 고기를 구워야하는데\n",
      "그런데 고기를 구울 때 고기를 다 굽지 않고 그냥 굽기만 하면 되더\n",
      "\n",
      "[Baseline 2: Moderated Sampling]\n",
      "불고기용 고기 한우에요???\n",
      "그건 안 먹어도 되는거죠?\n",
      "제가 그걸  먹을까봐요?\n",
      "이건 가 먹어봤어요.\n",
      "한우육수가랑 잘 어울리죠?\n",
      "그냥 가 먹기에는 괜찮은거 같아요\n",
      "제가 안먹어본 한우육수는 한우가 먹기에는 괜찮은거 같애요.\n",
      "한우육수가 한우에요??\n",
      "한우육수가 한우에요??\n",
      "한우는 한우가 먹기에는 괜찮은거 같아요\n",
      "한우육수는 한우가 먹기에는 괜찮은거 같아요\n",
      "한우육수가 한우에\n"
     ]
    }
   ],
   "source": [
    "# --- 1. 기본 설정 ---\n",
    "device = \"cuda\" if torch.cuda.is_available() else \"cpu\"\n",
    "\n",
    "print(f\"Using device: {device}\")\n",
    "print(f\"Loading model: {BASE_MODEL_NAME}\")\n",
    "\n",
    "# --- 2. 베이스라인 모델 및 토크나이저 로드 ---\n",
    "try:\n",
    "    base_tokenizer = AutoTokenizer.from_pretrained(BASE_MODEL_NAME)\n",
    "    if base_tokenizer.pad_token is None:\n",
    "        base_tokenizer.pad_token = base_tokenizer.eos_token\n",
    "\n",
    "    base_model = AutoModelForCausalLM.from_pretrained(BASE_MODEL_NAME).to(device)\n",
    "    base_model.eval()\n",
    "    print(\"Baseline Model and Tokenizer loaded successfully.\")\n",
    "except Exception as e:\n",
    "    print(f\"Error loading model or tokenizer: {e}\")\n",
    "\n",
    "# --- 3. 데이터셋에서 프롬프트 로드 ---\n",
    "prompts = []\n",
    "try:\n",
    "    with open(DATA_PATH_1_SFT, 'r', encoding='utf-8') as f:\n",
    "        dataset = json.load(f)\n",
    "        prompts = [item['prompt'] for item in dataset]\n",
    "    print(f\"Successfully loaded {len(prompts)} prompts from dataset.\")\n",
    "except Exception as e:\n",
    "    print(f\"Error loading or parsing DATA_PATH_1_SFT: {e}\")\n",
    "    prompts.append(\"불고기용 고기 한우에요?\")\n",
    "\n",
    "# --- 4. 텍스트 생성 함수 ---\n",
    "def generate_text(model, tokenizer, prompt_text, generation_params):\n",
    "    try:\n",
    "        input_ids = tokenizer.encode(prompt_text, return_tensors='pt').to(device)\n",
    "        with torch.no_grad():\n",
    "            output_sequences = model.generate(input_ids=input_ids, **generation_params)\n",
    "        return tokenizer.decode(output_sequences[0], skip_special_tokens=True)\n",
    "    except Exception as e:\n",
    "        return f\"An error occurred during text generation: {e}\"\n",
    "\n",
    "# --- 5. 베이스라인 성능 테스트 ---\n",
    "prompt_index = 0\n",
    "prompt = prompts[prompt_index]\n",
    "print(f\"[Prompt]\\n{prompt}\\n\")\n",
    "\n",
    "# 전략 1: Beam Search\n",
    "print(\"[Baseline 1: Beam Search]\")\n",
    "params_beam = {\"max_length\": 128, \"num_beams\": 5, \"no_repeat_ngram_size\": 2, \"do_sample\": False, \"early_stopping\": True}\n",
    "output = generate_text(base_model, base_tokenizer, prompt, params_beam)\n",
    "print(f\"{output}\\n\")\n",
    "\n",
    "# 전략 2: Moderated Sampling\n",
    "print(\"[Baseline 2: Moderated Sampling]\")\n",
    "params_sampling = {\"max_length\": 128, \"do_sample\": True, \"temperature\": 0.7, \"top_k\": 50, \"top_p\": 0.95}\n",
    "output = generate_text(base_model, base_tokenizer, prompt, params_sampling)\n",
    "print(output)"
   ]
  },
  {
   "cell_type": "markdown",
   "id": "87a155b4",
   "metadata": {},
   "source": [
    "---"
   ]
  },
  {
   "cell_type": "markdown",
   "id": "33b2de07",
   "metadata": {},
   "source": [
    "#### 4.1.2. SFT 모델 학습\n",
    "이제 본격적으로 SFT를 진행합니다. SFT는 미리 준비된 (질문, 답변) 쌍 데이터셋을 이용해 모델을 지도 학습시키는 과정입니다.\n",
    "이를 통해 모델이 사용자의 질문(Instruction) 의도에 맞는 답변(Response)을 생성하도록 길들일 수 있습니다."
   ]
  },
  {
   "cell_type": "markdown",
   "id": "65ebdf9f",
   "metadata": {},
   "source": [
    "##### **모델 및 토크나이저 재설정**\n",
    "SFT를 위해 원본 `skt/kogpt2-base-v2` 모델을 다시 로드합니다.\n",
    "토크나이저에는 문장의 시작(`bos`), 끝(`eos`), 패딩(`pad`) 등을 명확히 알려주기 위해 special token들을 설정합니다. 이는 모델이 문장의 구조를 더 잘 학습하게 도와줍니다."
   ]
  },
  {
   "cell_type": "code",
   "execution_count": 9,
   "id": "1cd72f24",
   "metadata": {},
   "outputs": [
    {
     "name": "stdout",
     "output_type": "stream",
     "text": [
      "Original SFT model loaded.\n",
      "\n",
      "LoRA Config created:\n",
      "LoraConfig(task_type=<TaskType.CAUSAL_LM: 'CAUSAL_LM'>, peft_type=<PeftType.LORA: 'LORA'>, auto_mapping=None, base_model_name_or_path=None, revision=None, inference_mode=False, r=16, target_modules={'c_fc', 'c_attn', 'c_proj'}, exclude_modules=None, lora_alpha=32, lora_dropout=0.05, fan_in_fan_out=False, bias='none', use_rslora=False, modules_to_save=None, init_lora_weights=True, layers_to_transform=None, layers_pattern=None, rank_pattern={}, alpha_pattern={}, megatron_config=None, megatron_core='megatron.core', trainable_token_indices=None, loftq_config={}, eva_config=None, corda_config=None, use_dora=False, use_qalora=False, qalora_group_size=16, layer_replication=None, runtime_config=LoraRuntimeConfig(ephemeral_gpu_offload=False), lora_bias=False, target_parameters=None)\n",
      "trainable params: 2,359,296 || all params: 127,523,328 || trainable%: 1.8501\n"
     ]
    },
    {
     "name": "stderr",
     "output_type": "stream",
     "text": [
      "/opt/conda/lib/python3.12/site-packages/peft/tuners/lora/layer.py:2174: UserWarning: fan_in_fan_out is set to False but the target module is `Conv1D`. Setting fan_in_fan_out to True.\n",
      "  warnings.warn(\n"
     ]
    }
   ],
   "source": [
    "from peft import LoraConfig, get_peft_model, TaskType\n",
    "\n",
    "# SFT를 위한 모델과 토크나이저를 새로 로드합니다.\n",
    "sft_model = AutoModelForCausalLM.from_pretrained(BASE_MODEL_NAME)\n",
    "sft_tokenizer = AutoTokenizer.from_pretrained(\n",
    "    BASE_MODEL_NAME, bos_token='</s>', eos_token='</s>', unk_token='</s>', pad_token='</s>',\n",
    "    padding_side=\"right\",\n",
    "    model_max_length=512,\n",
    ")\n",
    "print(\"Original SFT model loaded.\")\n",
    "\n",
    "# --- LoRA 설정 ---\n",
    "# 1. LoRA Config 정의\n",
    "lora_config = LoraConfig(\n",
    "    task_type=TaskType.CAUSAL_LM, # 태스크 유형: 인과관계 언어 모델링\n",
    "    r=16,                         # LoRA rank (핵심 파라미터, 8, 16, 32 등을 시도)\n",
    "    lora_alpha=32,                # LoRA alpha (보통 rank의 2~4배 값 사용)\n",
    "    target_modules=[\"c_attn\", \"c_proj\", \"c_fc\"],    # kogpt2의 attention layer 명시\n",
    "    lora_dropout=0.05,            # LoRA 레이어에 적용할 드롭아웃 비율\n",
    "    bias=\"none\"                   # bias는 학습하지 않음\n",
    ")\n",
    "print(\"\\nLoRA Config created:\")\n",
    "print(lora_config)\n",
    "\n",
    "# 2. 기본 모델에 LoRA 적용\n",
    "sft_model = get_peft_model(sft_model, lora_config)\n",
    "\n",
    "# 3. 학습 가능한 파라미터 수 확인 (전체 파라미터 대비 매우 적은 수만 학습됨)\n",
    "sft_model.print_trainable_parameters()"
   ]
  },
  {
   "cell_type": "markdown",
   "id": "3329b9a9",
   "metadata": {},
   "source": [
    "##### **데이터셋 클래스 정의**\n",
    "`kochatgpt_1_SFT.jsonl` 데이터를 불러와 SFT 학습에 적합한 형태로 가공하는 `Dataset` 클래스를 정의합니다.\n",
    "\n",
    "- **Instruction 형식 변환**: \"질문:{prompt} 답변:{completion}\" 과 같은 형태로 데이터를 변환하여 모델이 질문과 답변의 관계를 학습하도록 합니다.\n",
    "- **Label 마스킹**: 모델이 답변 부분만 학습하도록, 질문(prompt) 부분의 레이블을 `-100`으로 마스킹 처리합니다. 이는 SFT의 핵심적인 부분입니다.\n"
   ]
  },
  {
   "cell_type": "code",
   "execution_count": 10,
   "id": "d127ba68",
   "metadata": {},
   "outputs": [],
   "source": [
    "class SFT_dataset(Dataset):\n",
    "    \"\"\"SFT 학습을 위한 데이터셋 클래스\"\"\"\n",
    "    def __init__(self, data_path: str, tokenizer: transformers.PreTrainedTokenizer, verbose=False):\n",
    "        super(SFT_dataset, self).__init__()\n",
    "        logging.warning(\"Loading data...\")\n",
    "\n",
    "        # 데이터 파일 로드\n",
    "        with open(data_path, \"r\", encoding='utf-8-sig') as json_file:\n",
    "            list_data_dict = json.load(json_file)\n",
    "\n",
    "        # 프롬프트 형식 정의\n",
    "        PROMPT_DICT = {\n",
    "            \"prompt_input\": (\n",
    "                \"### Instruction(명령어):\\n{prompt}\\n\\n### Response(응답):\"\n",
    "            )\n",
    "        }\n",
    "        prompt_input = PROMPT_DICT[\"prompt_input\"]\n",
    "\n",
    "        # 소스(질문)와 타겟(답변) 분리 및 형식 적용\n",
    "        sources = [prompt_input.format_map(example) for example in list_data_dict]\n",
    "        targets = [f\"{example['completion']}{tokenizer.eos_token}\" for example in list_data_dict]\n",
    "\n",
    "        # 소스와 타겟을 합쳐 전체 학습 샘플 생성\n",
    "        examples = [s + t for s, t in zip(sources, targets)]\n",
    "\n",
    "        # 소스와 전체 샘플 토크나이징\n",
    "        sources_tokenized = self._tokenize_fn(sources, tokenizer)\n",
    "        examples_tokenized = self._tokenize_fn(examples, tokenizer)\n",
    "\n",
    "        # 레이블 생성 및 마스킹\n",
    "        input_ids = examples_tokenized[\"input_ids\"]\n",
    "        labels = copy.deepcopy(input_ids)\n",
    "        for label, source_len in zip(labels, sources_tokenized[\"input_ids_lens\"]):\n",
    "            label[:source_len] = -100  # 질문 부분은 loss 계산에서 제외\n",
    "\n",
    "        self.input_ids = input_ids\n",
    "        self.labels = labels\n",
    "        logging.warning(\"Loading data done!!: %d\" % (len(self.labels)))\n",
    "\n",
    "    def _tokenize_fn(self, strings: Sequence[str], tokenizer: transformers.PreTrainedTokenizer) -> Dict:\n",
    "        \"\"\"문자열 시퀀스를 토크나이징하는 내부 함수\"\"\"\n",
    "        tokenized_list = [\n",
    "            tokenizer(text, return_tensors=\"pt\", padding=\"longest\", max_length=tokenizer.model_max_length, truncation=True)\n",
    "            for text in strings\n",
    "        ]\n",
    "        input_ids = [tokenized.input_ids[0] for tokenized in tokenized_list]\n",
    "        input_ids_lens = [tokenized.input_ids.ne(tokenizer.pad_token_id).sum().item() for tokenized in tokenized_list]\n",
    "        return dict(input_ids=input_ids, input_ids_lens=input_ids_lens)\n",
    "\n",
    "    def __len__(self):\n",
    "        return len(self.input_ids)\n",
    "\n",
    "    def __getitem__(self, i) -> Dict[str, torch.Tensor]:\n",
    "        return dict(input_ids=self.input_ids[i], labels=self.labels[i])"
   ]
  },
  {
   "cell_type": "markdown",
   "id": "fa93fe53",
   "metadata": {},
   "source": [
    "##### **데이터 콜레이터 정의**\n",
    "`Dataset`에서 가져온 개별 샘플들을 하나의 배치(batch)로 묶는 역할을 하는 `DataCollator` 클래스를 정의합니다. 이 과정에서 배치 내 샘플들의 길이를 맞추기 위해 패딩(padding)을 적용합니다.\n"
   ]
  },
  {
   "cell_type": "code",
   "execution_count": 11,
   "id": "9d06a7ac",
   "metadata": {},
   "outputs": [],
   "source": [
    "@dataclass\n",
    "class DataCollatorForSupervisedDataset(object):\n",
    "    \"\"\"데이터 샘플들을 배치로 만들기 위한 데이터 콜레이터\"\"\"\n",
    "    tokenizer: transformers.PreTrainedTokenizer\n",
    "\n",
    "    def __call__(self, instances: Sequence[Dict]) -> Dict[str, torch.Tensor]:\n",
    "        input_ids, labels = tuple([instance[key] for instance in instances] for key in (\"input_ids\", \"labels\"))\n",
    "\n",
    "        # 입력과 레이블을 패딩 토큰으로 패딩\n",
    "        input_ids = torch.nn.utils.rnn.pad_sequence(\n",
    "            input_ids, batch_first=True, padding_value=self.tokenizer.pad_token_id\n",
    "        )\n",
    "        labels = torch.nn.utils.rnn.pad_sequence(labels, batch_first=True, padding_value=-100)\n",
    "\n",
    "        return dict(\n",
    "            input_ids=input_ids,\n",
    "            labels=labels,\n",
    "            attention_mask=input_ids.ne(self.tokenizer.pad_token_id),\n",
    "        )"
   ]
  },
  {
   "cell_type": "markdown",
   "id": "ab193ccc",
   "metadata": {},
   "source": [
    "##### **SFT 데이터셋 및 트레이너 준비**\n",
    "앞서 정의한 클래스들을 이용해 실제 데이터셋과 데이터 콜레이터 객체를 만듭니다. 그리고 `TrainingArguments`로 학습 설정을 정의한 후, `Trainer` 객체를 생성하여 모든 것을 하나로 묶습니다.\n"
   ]
  },
  {
   "cell_type": "code",
   "execution_count": 12,
   "id": "40a45d3f",
   "metadata": {},
   "outputs": [
    {
     "name": "stderr",
     "output_type": "stream",
     "text": [
      "WARNING:root:Loading data...\n",
      "WARNING:root:Loading data done!!: 11515\n"
     ]
    },
    {
     "name": "stdout",
     "output_type": "stream",
     "text": [
      "input : tensor([  739,   378,   378,   378, 14659, 13394, 37091, 10651,   383, 25841,\n",
      "         8006, 14914,   375,  7673, 20479,  8091, 22311,  9036, 30902, 13675,\n",
      "          375,   378,   378,   378, 41951,   454,  9549, 20549,   383,  8142,\n",
      "         7192, 14914,   382, 37767, 13753,  8263,  7166,   739,  8352,  7659,\n",
      "         9594, 25585, 13600,  8022,  9378, 11532,  9887, 11218,  9111, 16691,\n",
      "        10351, 10561,  9128, 20479,  8091,  9065,  9446,  9036, 28420, 26521,\n",
      "        10163, 26367,  6958,  9030,  9882, 12317, 25882,  9209, 37194, 10351,\n",
      "         9036, 12168, 10529, 15989,  9719, 15434, 10552, 11188, 13362,  9036,\n",
      "        15805, 11300, 11846,  9146, 16691,  9181,  7397, 15806, 13480, 11342,\n",
      "        17596,  9161, 19996,  9025, 25006, 18595,  9966, 12592, 10751, 11814,\n",
      "         8711,  9046, 12450,  9117,  7377, 12521,     1])\n",
      "output: tensor([ -100,  -100,  -100,  -100,  -100,  -100,  -100,  -100,  -100,  -100,\n",
      "         -100,  -100,  -100,  -100,  -100,  -100,  -100,  -100,  -100,  -100,\n",
      "         -100,  -100,  -100,  -100,  -100,  -100,  -100,  -100,  -100,  -100,\n",
      "         -100,  -100,   382, 37767, 13753,  8263,  7166,   739,  8352,  7659,\n",
      "         9594, 25585, 13600,  8022,  9378, 11532,  9887, 11218,  9111, 16691,\n",
      "        10351, 10561,  9128, 20479,  8091,  9065,  9446,  9036, 28420, 26521,\n",
      "        10163, 26367,  6958,  9030,  9882, 12317, 25882,  9209, 37194, 10351,\n",
      "         9036, 12168, 10529, 15989,  9719, 15434, 10552, 11188, 13362,  9036,\n",
      "        15805, 11300, 11846,  9146, 16691,  9181,  7397, 15806, 13480, 11342,\n",
      "        17596,  9161, 19996,  9025, 25006, 18595,  9966, 12592, 10751, 11814,\n",
      "         8711,  9046, 12450,  9117,  7377, 12521,     1])\n"
     ]
    }
   ],
   "source": [
    "# 데이터셋 및 데이터 콜레이터 인스턴스 생성\n",
    "train_dataset = SFT_dataset(data_path=DATA_PATH_1_SFT, tokenizer=sft_tokenizer)\n",
    "data_collator = DataCollatorForSupervisedDataset(tokenizer=sft_tokenizer)\n",
    "\n",
    "# 데이터셋 샘플 확인 (input_ids와 masking 처리된 labels)\n",
    "print('input : %s'%train_dataset.input_ids[0])\n",
    "print('output: %s'%train_dataset.labels[0])\n",
    "\n",
    "# 트레이닝 파라미터 설정\n",
    "training_args = transformers.TrainingArguments(\n",
    "    output_dir=\"sft_model_test\",                   # 모델과 체크포인트가 저장될 디렉토리\n",
    "    overwrite_output_dir=True,\n",
    "    num_train_epochs=SFT_NUM_TRAIN_EPOCHS,         # 전체 데이터셋에 대한 학습 횟수\n",
    "    per_device_train_batch_size=8,                 # 장치(GPU)당 배치 크기\n",
    "    learning_rate=3e-4,                            # 학습률 (Lora는 적은 수의 파라미터만 학습하여 더 높은 학습률 필요)\n",
    "    warmup_steps=300,                              # 학습률 스케줄러를 위한 웜업 스텝 수\n",
    "    lr_scheduler_type='cosine',                    # 학습률 스케줄러 타입\n",
    "    prediction_loss_only=True,\n",
    "    fp16=True,                                     # 혼합 정밀도 학습(Mixed Precision Training) 활성화\n",
    "    report_to=\"wandb\",                             # 리포팅 대상을 wandb로 지정\n",
    "    run_name=SFT_RUN_NAME,                         # wandb 대시보드에 표시될 실행 이름\n",
    "    group_by_length=True,                          # 길이별로 그룹화하여 패딩 효율성 향상\n",
    "    )\n",
    "\n",
    "# 트레이너 객체 생성\n",
    "trainer = transformers.Trainer(\n",
    "    model=sft_model,\n",
    "    args=training_args,\n",
    "    data_collator=data_collator,\n",
    "    train_dataset=train_dataset\n",
    ")"
   ]
  },
  {
   "cell_type": "markdown",
   "id": "e1227a88",
   "metadata": {},
   "source": [
    "##### **SFT 모델 학습 및 저장**\n",
    "`trainer.train()`을 호출하여 SFT를 시작합니다. 학습이 완료되면, `save_pretrained`를 사용해 튜닝된 모델의 가중치를 저장합니다."
   ]
  },
  {
   "cell_type": "code",
   "execution_count": 13,
   "id": "08180668",
   "metadata": {},
   "outputs": [
    {
     "data": {
      "text/html": [],
      "text/plain": [
       "<IPython.core.display.HTML object>"
      ]
     },
     "metadata": {},
     "output_type": "display_data"
    },
    {
     "data": {
      "text/html": [
       "Tracking run with wandb version 0.21.4"
      ],
      "text/plain": [
       "<IPython.core.display.HTML object>"
      ]
     },
     "metadata": {},
     "output_type": "display_data"
    },
    {
     "data": {
      "text/html": [
       "Run data is saved locally in <code>/home/jovyan/work/zxcv/wandb/run-20250919_004304-ih8a60lb</code>"
      ],
      "text/plain": [
       "<IPython.core.display.HTML object>"
      ]
     },
     "metadata": {},
     "output_type": "display_data"
    },
    {
     "data": {
      "text/html": [
       "Syncing run <strong><a href='https://wandb.ai/beomyongchoi-university-of-colorado-boulder/kochatgpt_tuning/runs/ih8a60lb' target=\"_blank\">sft_kogpt2_5_epochs_v2.5</a></strong> to <a href='https://wandb.ai/beomyongchoi-university-of-colorado-boulder/kochatgpt_tuning' target=\"_blank\">Weights & Biases</a> (<a href='https://wandb.me/developer-guide' target=\"_blank\">docs</a>)<br>"
      ],
      "text/plain": [
       "<IPython.core.display.HTML object>"
      ]
     },
     "metadata": {},
     "output_type": "display_data"
    },
    {
     "data": {
      "text/html": [
       " View project at <a href='https://wandb.ai/beomyongchoi-university-of-colorado-boulder/kochatgpt_tuning' target=\"_blank\">https://wandb.ai/beomyongchoi-university-of-colorado-boulder/kochatgpt_tuning</a>"
      ],
      "text/plain": [
       "<IPython.core.display.HTML object>"
      ]
     },
     "metadata": {},
     "output_type": "display_data"
    },
    {
     "data": {
      "text/html": [
       " View run at <a href='https://wandb.ai/beomyongchoi-university-of-colorado-boulder/kochatgpt_tuning/runs/ih8a60lb' target=\"_blank\">https://wandb.ai/beomyongchoi-university-of-colorado-boulder/kochatgpt_tuning/runs/ih8a60lb</a>"
      ],
      "text/plain": [
       "<IPython.core.display.HTML object>"
      ]
     },
     "metadata": {},
     "output_type": "display_data"
    },
    {
     "name": "stderr",
     "output_type": "stream",
     "text": [
      "`loss_type=None` was set in the config but it is unrecognized. Using the default loss: `ForCausalLMLoss`.\n"
     ]
    },
    {
     "data": {
      "text/html": [
       "\n",
       "    <div>\n",
       "      \n",
       "      <progress value='7200' max='7200' style='width:300px; height:20px; vertical-align: middle;'></progress>\n",
       "      [7200/7200 11:37, Epoch 5/5]\n",
       "    </div>\n",
       "    <table border=\"1\" class=\"dataframe\">\n",
       "  <thead>\n",
       " <tr style=\"text-align: left;\">\n",
       "      <th>Step</th>\n",
       "      <th>Training Loss</th>\n",
       "    </tr>\n",
       "  </thead>\n",
       "  <tbody>\n",
       "    <tr>\n",
       "      <td>500</td>\n",
       "      <td>2.990300</td>\n",
       "    </tr>\n",
       "    <tr>\n",
       "      <td>1000</td>\n",
       "      <td>2.677800</td>\n",
       "    </tr>\n",
       "    <tr>\n",
       "      <td>1500</td>\n",
       "      <td>2.614800</td>\n",
       "    </tr>\n",
       "    <tr>\n",
       "      <td>2000</td>\n",
       "      <td>2.487800</td>\n",
       "    </tr>\n",
       "    <tr>\n",
       "      <td>2500</td>\n",
       "      <td>2.454700</td>\n",
       "    </tr>\n",
       "    <tr>\n",
       "      <td>3000</td>\n",
       "      <td>2.448300</td>\n",
       "    </tr>\n",
       "    <tr>\n",
       "      <td>3500</td>\n",
       "      <td>2.297200</td>\n",
       "    </tr>\n",
       "    <tr>\n",
       "      <td>4000</td>\n",
       "      <td>2.310600</td>\n",
       "    </tr>\n",
       "    <tr>\n",
       "      <td>4500</td>\n",
       "      <td>2.276500</td>\n",
       "    </tr>\n",
       "    <tr>\n",
       "      <td>5000</td>\n",
       "      <td>2.174600</td>\n",
       "    </tr>\n",
       "    <tr>\n",
       "      <td>5500</td>\n",
       "      <td>2.173600</td>\n",
       "    </tr>\n",
       "    <tr>\n",
       "      <td>6000</td>\n",
       "      <td>2.142900</td>\n",
       "    </tr>\n",
       "    <tr>\n",
       "      <td>6500</td>\n",
       "      <td>2.099800</td>\n",
       "    </tr>\n",
       "    <tr>\n",
       "      <td>7000</td>\n",
       "      <td>2.097600</td>\n",
       "    </tr>\n",
       "  </tbody>\n",
       "</table><p>"
      ],
      "text/plain": [
       "<IPython.core.display.HTML object>"
      ]
     },
     "metadata": {},
     "output_type": "display_data"
    },
    {
     "data": {
      "text/html": [],
      "text/plain": [
       "<IPython.core.display.HTML object>"
      ]
     },
     "metadata": {},
     "output_type": "display_data"
    },
    {
     "data": {
      "text/html": [
       "<br>    <style><br>        .wandb-row {<br>            display: flex;<br>            flex-direction: row;<br>            flex-wrap: wrap;<br>            justify-content: flex-start;<br>            width: 100%;<br>        }<br>        .wandb-col {<br>            display: flex;<br>            flex-direction: column;<br>            flex-basis: 100%;<br>            flex: 1;<br>            padding: 10px;<br>        }<br>    </style><br><div class=\"wandb-row\"><div class=\"wandb-col\"><h3>Run history:</h3><br/><table class=\"wandb\"><tr><td>train/epoch</td><td>▁▂▂▃▃▄▄▅▅▆▆▇▇██</td></tr><tr><td>train/global_step</td><td>▁▂▂▃▃▄▄▅▅▆▆▇▇██</td></tr><tr><td>train/grad_norm</td><td>▆█▁▂▁▂▂▂▂▃▃▄▄▄</td></tr><tr><td>train/learning_rate</td><td>███▇▆▆▅▄▃▃▂▁▁▁</td></tr><tr><td>train/loss</td><td>█▆▅▄▄▄▃▃▂▂▂▁▁▁</td></tr></table><br/></div><div class=\"wandb-col\"><h3>Run summary:</h3><br/><table class=\"wandb\"><tr><td>total_flos</td><td>2725582879521792.0</td></tr><tr><td>train/epoch</td><td>5</td></tr><tr><td>train/global_step</td><td>7200</td></tr><tr><td>train/grad_norm</td><td>2.99665</td></tr><tr><td>train/learning_rate</td><td>0.0</td></tr><tr><td>train/loss</td><td>2.0976</td></tr><tr><td>train_loss</td><td>2.36703</td></tr><tr><td>train_runtime</td><td>698.3139</td></tr><tr><td>train_samples_per_second</td><td>82.449</td></tr><tr><td>train_steps_per_second</td><td>10.311</td></tr></table><br/></div></div>"
      ],
      "text/plain": [
       "<IPython.core.display.HTML object>"
      ]
     },
     "metadata": {},
     "output_type": "display_data"
    },
    {
     "data": {
      "text/html": [
       " View run <strong style=\"color:#cdcd00\">sft_kogpt2_5_epochs_v2.5</strong> at: <a href='https://wandb.ai/beomyongchoi-university-of-colorado-boulder/kochatgpt_tuning/runs/ih8a60lb' target=\"_blank\">https://wandb.ai/beomyongchoi-university-of-colorado-boulder/kochatgpt_tuning/runs/ih8a60lb</a><br> View project at: <a href='https://wandb.ai/beomyongchoi-university-of-colorado-boulder/kochatgpt_tuning' target=\"_blank\">https://wandb.ai/beomyongchoi-university-of-colorado-boulder/kochatgpt_tuning</a><br>Synced 5 W&B file(s), 0 media file(s), 0 artifact file(s) and 0 other file(s)"
      ],
      "text/plain": [
       "<IPython.core.display.HTML object>"
      ]
     },
     "metadata": {},
     "output_type": "display_data"
    },
    {
     "data": {
      "text/html": [
       "Find logs at: <code>./wandb/run-20250919_004304-ih8a60lb/logs</code>"
      ],
      "text/plain": [
       "<IPython.core.display.HTML object>"
      ]
     },
     "metadata": {},
     "output_type": "display_data"
    }
   ],
   "source": [
    "# wandb 프로젝트와 실행 이름을 명시적으로 지정\n",
    "wandb.init(project=\"kochatgpt_tuning\", name=SFT_RUN_NAME)\n",
    "\n",
    "# SFT 학습 시작\n",
    "# (이 부분은 TrainingArguments에서 report_to=\"wandb\"를 지정했기 때문에\n",
    "#  자동으로 위에서 init한 run에 연결됩니다.)\n",
    "trainer.train()\n",
    "\n",
    "# wandb 실행 종료\n",
    "wandb.finish()\n",
    "\n",
    "# 정제된 데이터로 학습한 모델을 새 이름으로 저장\n",
    "sft_model.save_pretrained(SFT_MODEL_NAME)"
   ]
  },
  {
   "cell_type": "code",
   "execution_count": 14,
   "id": "176b74e2",
   "metadata": {},
   "outputs": [
    {
     "data": {
      "image/png": "[encoded data removed]",
      "text/plain": [
       "<Figure size 1000x600 with 1 Axes>"
      ]
     },
     "metadata": {},
     "output_type": "display_data"
    }
   ],
   "source": [
    "import matplotlib.pyplot as plt\n",
    "\n",
    "# SFT Trainer의 학습 기록에서 loss 값들을 추출합니다.\n",
    "sft_logs = trainer.state.log_history\n",
    "sft_train_losses = [log['loss'] for log in sft_logs if 'loss' in log]\n",
    "sft_steps = [log['step'] for log in sft_logs if 'loss' in log]\n",
    "\n",
    "# loss 그래프를 그립니다.\n",
    "plt.figure(figsize=(10, 6))\n",
    "plt.plot(sft_steps, sft_train_losses, label='SFT Training Loss')\n",
    "plt.title('SFT Model Training Loss')\n",
    "plt.xlabel('Steps')\n",
    "plt.ylabel('Loss')\n",
    "plt.legend()\n",
    "plt.show()"
   ]
  },
  {
   "cell_type": "markdown",
   "id": "63ae5c40",
   "metadata": {},
   "source": [
    "#### 4.1.3. SFT 모델 평가"
   ]
  },
  {
   "cell_type": "markdown",
   "id": "708a076b",
   "metadata": {},
   "source": [
    "##### **SFT 모델 성능 평가**\n",
    "학습이 완료된 SFT 모델을 로드하여 베이스라인과 동일한 프롬프트로 답변을 생성해봅니다. 베이스라인 모델의 결과와 비교하여 모델이 얼마나 개선되었는지 정성적으로 평가합니다."
   ]
  },
  {
   "cell_type": "code",
   "execution_count": 15,
   "id": "1b0aa082",
   "metadata": {},
   "outputs": [
    {
     "name": "stderr",
     "output_type": "stream",
     "text": [
      "Device set to use cuda:0\n",
      "The following generation flags are not valid and may be ignored: ['temperature']. Set `TRANSFORMERS_VERBOSITY=info` for more details.\n"
     ]
    },
    {
     "name": "stdout",
     "output_type": "stream",
     "text": [
      "--- Generating SFT Model Responses ---\n",
      "\n",
      "--- SFT Model Generation Results ---\n",
      "Prompt: 불고기용 고기 한우에요?\n",
      "Output: '죄송합니다, 저는 인공지능 어시스턴트이므로 불고기용 고기를 판매하지 않습니다. 하지만 인터넷 쇼핑몰이나 음식점에서 불고기용 고기를 구매하실 수 있으니 참고하시기 바랍니다. 감사합니다.\\n\\n저는 AI 어시스턴트로써 자연어\n",
      "\n",
      "Prompt: 리처드 닉슨이 43대 부통령직을 수행한 년도는?\n",
      "Output: '리처드 닉슨은 47대 부통령직을 수행했습니다.辛基夏, 辛基夏 등이 부통령직을 맡았습니다.新基夏가 부통령직을 맡은 것은 1952년입니다.辛基河가 부통령직을 맡았던 시기는 미국 대통령 선거일이었습니다.申基河는 부통령직을 수행하지 않았습니다.\n",
      "\n",
      "Prompt: 시카고 오헤어 국제공항은 어디에 있어?\n",
      "Output: '저는 인공지능 어시스턴트이기 때문에 시카고에 대한 정보를 가지고 있지 않습니다. 하지만 시카고 오헤어 공항은 미국 텍사스 주 휴스턴에 위치해 있습니다.:\\n\\n시카고는 미국 텍사스 주에서 가장 큰 도시 중 하나로, 뉴욕과 워싱턴을 연결하는 교통의 중심지입니다.\n",
      "\n",
      "Prompt: 오늘 미세먼지 어때?\n",
      "Output: '죄송합니다, 저는 인공지능 언어모델로써 미세먼지 정보를 알 수 없습니다. 해당 정보를 제공하시면 더 정확한 답변을 드릴 수 있습니다.:\\n\\n미세먼지 농도는 보통 기준치를 초과할 수 있으므로 주의하시기 바랍니다.\n",
      "\n"
     ]
    }
   ],
   "source": [
    "# 학습된 SFT 모델과 토크나이저로 텍스트 생성 파이프라인 생성\n",
    "sft_generator = transformers.pipeline('text-generation', model=SFT_MODEL_NAME, tokenizer=sft_tokenizer, device=0)\n",
    "\n",
    "# SFT 모델 테스트를 위한 생성 파라미터\n",
    "generation_args = dict(\n",
    "    num_beams=5,\n",
    "    repetition_penalty=2.0,\n",
    "    no_repeat_ngram_size=4,\n",
    "    eos_token_id=375, # \\n\n",
    "    max_new_tokens=64,\n",
    "    do_sample=False,\n",
    "    early_stopping=True\n",
    ")\n",
    "\n",
    "# 베이스라인 테스트와 동일한 프롬프트 리스트\n",
    "list_prompt = ['불고기용 고기 한우에요?',\n",
    "            '리처드 닉슨이 43대 부통령직을 수행한 년도는?',\n",
    "            '시카고 오헤어 국제공항은 어디에 있어?',\n",
    "            '오늘 미세먼지 어때?']\n",
    "\n",
    "# SFT 모델에 맞는 프롬프트 형식으로 변환\n",
    "PROMPT_DICT = {\n",
    "    \"prompt_input\": (\n",
    "        \"### Instruction(명령어):\\n{prompt}\\n\\n### Response(응답):\"\n",
    "    )\n",
    "}\n",
    "list_formatted_prompt = [PROMPT_DICT['prompt_input'].format_map({'prompt' : tmp}) for tmp in list_prompt]\n",
    "\n",
    "# 1. 먼저 답변을 생성\n",
    "print(\"--- Generating SFT Model Responses ---\")\n",
    "list_result = sft_generator(list_formatted_prompt, **generation_args)\n",
    "\n",
    "# 2. 생성된 결과를 깔끔하게 출력\n",
    "print(\"\\n--- SFT Model Generation Results ---\")\n",
    "for prompt, result in zip(list_prompt, list_result):\n",
    "    # 프롬프트 부분을 제거하고 순수 답변만 추출\n",
    "    full_text = result[0]['generated_text']\n",
    "    formatted_prompt = PROMPT_DICT['prompt_input'].format_map({'prompt': prompt})\n",
    "    output_text = full_text.replace(formatted_prompt, \"\").strip()\n",
    "\n",
    "    print(f\"Prompt: {prompt}\")\n",
    "    print(f\"Output: {output_text}\\n\")\n",
    "\n",
    "# GPU 메모리 정리\n",
    "torch.cuda.empty_cache()"
   ]
  },
  {
   "cell_type": "markdown",
   "id": "42b00b31",
   "metadata": {},
   "source": [
    "### 4.2. 2단계: RM (Reward Model) 학습\n",
    "> **[평가 기준 2.2]** SFT를 적용한 모델의 결과물과 RM을 적용한 모델의 결과물을 정량/정성적으로 비교/분석했는가?\n",
    "\n",
    "여기서는 좋은 답변에 높은 점수(보상, Reward)를, 나쁜 답변에 낮은 점수를 주도록 학습된 보상 모델(Reward Model, RM)을 만듭니다. 이 보상 모델은 이후 3단계 PPO 학습에서 생성 모델(Actor)을 올바른 방향으로 강화하는 \"평가자\" 역할을 하게 됩니다."
   ]
  },
  {
   "cell_type": "markdown",
   "id": "9d374ccc",
   "metadata": {},
   "source": [
    "#### 4.2.1. RM 모델 및 데이터 준비"
   ]
  },
  {
   "cell_type": "markdown",
   "id": "3adf2133",
   "metadata": {},
   "source": [
    "RM 학습을 위해 필요한 클래스들을 `chatgpt` 폴더에서 임포트합니다.\n",
    "SFT 단계와 마찬가지로, `skt/kogpt2-base-v2`를 기반으로 보상 모델을 만들고, special token이 추가된 토크나이저를 준비합니다."
   ]
  },
  {
   "cell_type": "code",
   "execution_count": 16,
   "id": "4eb13e8f",
   "metadata": {},
   "outputs": [],
   "source": [
    "# RM 학습에 필요한 클래스 임포트\n",
    "from chatgpt.dataset import RewardDataset\n",
    "from chatgpt.models.base import RewardModel\n",
    "from chatgpt.trainer.strategies import NaiveStrategy\n",
    "from chatgpt.trainer.rm import RewardModelTrainer\n",
    "\n",
    "from transformers.models.gpt2.configuration_gpt2 import GPT2Config\n",
    "from transformers.models.gpt2.modeling_gpt2 import GPT2Model\n",
    "\n",
    "import torch.nn as nn\n",
    "import random\n",
    "\n",
    "# SFT와 동일한 토크나이저 설정 사용\n",
    "rm_tokenizer = AutoTokenizer.from_pretrained(\n",
    "    BASE_MODEL_NAME, bos_token='</s>', eos_token='</s>', unk_token='</s>', pad_token='</s>',\n",
    "    padding_side=\"right\",\n",
    "    model_max_length=512,\n",
    ")"
   ]
  },
  {
   "cell_type": "markdown",
   "id": "4a90d25f",
   "metadata": {},
   "source": [
    "##### **Custom Reward Model 클래스 정의**\n",
    "Hugging Face의 `GPT2Model`을 기반으로, 문장의 좋고 나쁨을 판단하여 점수(reward)를 출력하는 Custom Reward Model 클래스(`GPTRM_custom`)를 정의합니다.\n",
    "\n",
    "- `GPT2Model` 위에 `value_head`라는 이름의 Linear 레이어를 추가하여, 모델의 최종 출력이 단일 값(점수)이 되도록 설계합니다.\n",
    "- SFT에서 확장된 토크나이저의 어휘 크기에 맞게 모델의 임베딩 크기를 조정(`resize_token_embeddings`)합니다."
   ]
  },
  {
   "cell_type": "code",
   "execution_count": 17,
   "id": "c2e00313",
   "metadata": {},
   "outputs": [
    {
     "name": "stderr",
     "output_type": "stream",
     "text": [
      "Loading adapter weights from models/sft_output_model_v2.5 led to unexpected keys not found in the model: transformer.h.0.attn.c_attn.lora_A.default.weight, transformer.h.0.attn.c_attn.lora_B.default.weight, transformer.h.0.attn.c_proj.lora_A.default.weight, transformer.h.0.attn.c_proj.lora_B.default.weight, transformer.h.0.mlp.c_fc.lora_A.default.weight, transformer.h.0.mlp.c_fc.lora_B.default.weight, transformer.h.0.mlp.c_proj.lora_A.default.weight, transformer.h.0.mlp.c_proj.lora_B.default.weight, transformer.h.1.attn.c_attn.lora_A.default.weight, transformer.h.1.attn.c_attn.lora_B.default.weight, transformer.h.1.attn.c_proj.lora_A.default.weight, transformer.h.1.attn.c_proj.lora_B.default.weight, transformer.h.1.mlp.c_fc.lora_A.default.weight, transformer.h.1.mlp.c_fc.lora_B.default.weight, transformer.h.1.mlp.c_proj.lora_A.default.weight, transformer.h.1.mlp.c_proj.lora_B.default.weight, transformer.h.10.attn.c_attn.lora_A.default.weight, transformer.h.10.attn.c_attn.lora_B.default.weight, transformer.h.10.attn.c_proj.lora_A.default.weight, transformer.h.10.attn.c_proj.lora_B.default.weight, transformer.h.10.mlp.c_fc.lora_A.default.weight, transformer.h.10.mlp.c_fc.lora_B.default.weight, transformer.h.10.mlp.c_proj.lora_A.default.weight, transformer.h.10.mlp.c_proj.lora_B.default.weight, transformer.h.11.attn.c_attn.lora_A.default.weight, transformer.h.11.attn.c_attn.lora_B.default.weight, transformer.h.11.attn.c_proj.lora_A.default.weight, transformer.h.11.attn.c_proj.lora_B.default.weight, transformer.h.11.mlp.c_fc.lora_A.default.weight, transformer.h.11.mlp.c_fc.lora_B.default.weight, transformer.h.11.mlp.c_proj.lora_A.default.weight, transformer.h.11.mlp.c_proj.lora_B.default.weight, transformer.h.2.attn.c_attn.lora_A.default.weight, transformer.h.2.attn.c_attn.lora_B.default.weight, transformer.h.2.attn.c_proj.lora_A.default.weight, transformer.h.2.attn.c_proj.lora_B.default.weight, transformer.h.2.mlp.c_fc.lora_A.default.weight, transformer.h.2.mlp.c_fc.lora_B.default.weight, transformer.h.2.mlp.c_proj.lora_A.default.weight, transformer.h.2.mlp.c_proj.lora_B.default.weight, transformer.h.3.attn.c_attn.lora_A.default.weight, transformer.h.3.attn.c_attn.lora_B.default.weight, transformer.h.3.attn.c_proj.lora_A.default.weight, transformer.h.3.attn.c_proj.lora_B.default.weight, transformer.h.3.mlp.c_fc.lora_A.default.weight, transformer.h.3.mlp.c_fc.lora_B.default.weight, transformer.h.3.mlp.c_proj.lora_A.default.weight, transformer.h.3.mlp.c_proj.lora_B.default.weight, transformer.h.4.attn.c_attn.lora_A.default.weight, transformer.h.4.attn.c_attn.lora_B.default.weight, transformer.h.4.attn.c_proj.lora_A.default.weight, transformer.h.4.attn.c_proj.lora_B.default.weight, transformer.h.4.mlp.c_fc.lora_A.default.weight, transformer.h.4.mlp.c_fc.lora_B.default.weight, transformer.h.4.mlp.c_proj.lora_A.default.weight, transformer.h.4.mlp.c_proj.lora_B.default.weight, transformer.h.5.attn.c_attn.lora_A.default.weight, transformer.h.5.attn.c_attn.lora_B.default.weight, transformer.h.5.attn.c_proj.lora_A.default.weight, transformer.h.5.attn.c_proj.lora_B.default.weight, transformer.h.5.mlp.c_fc.lora_A.default.weight, transformer.h.5.mlp.c_fc.lora_B.default.weight, transformer.h.5.mlp.c_proj.lora_A.default.weight, transformer.h.5.mlp.c_proj.lora_B.default.weight, transformer.h.6.attn.c_attn.lora_A.default.weight, transformer.h.6.attn.c_attn.lora_B.default.weight, transformer.h.6.attn.c_proj.lora_A.default.weight, transformer.h.6.attn.c_proj.lora_B.default.weight, transformer.h.6.mlp.c_fc.lora_A.default.weight, transformer.h.6.mlp.c_fc.lora_B.default.weight, transformer.h.6.mlp.c_proj.lora_A.default.weight, transformer.h.6.mlp.c_proj.lora_B.default.weight, transformer.h.7.attn.c_attn.lora_A.default.weight, transformer.h.7.attn.c_attn.lora_B.default.weight, transformer.h.7.attn.c_proj.lora_A.default.weight, transformer.h.7.attn.c_proj.lora_B.default.weight, transformer.h.7.mlp.c_fc.lora_A.default.weight, transformer.h.7.mlp.c_fc.lora_B.default.weight, transformer.h.7.mlp.c_proj.lora_A.default.weight, transformer.h.7.mlp.c_proj.lora_B.default.weight, transformer.h.8.attn.c_attn.lora_A.default.weight, transformer.h.8.attn.c_attn.lora_B.default.weight, transformer.h.8.attn.c_proj.lora_A.default.weight, transformer.h.8.attn.c_proj.lora_B.default.weight, transformer.h.8.mlp.c_fc.lora_A.default.weight, transformer.h.8.mlp.c_fc.lora_B.default.weight, transformer.h.8.mlp.c_proj.lora_A.default.weight, transformer.h.8.mlp.c_proj.lora_B.default.weight, transformer.h.9.attn.c_attn.lora_A.default.weight, transformer.h.9.attn.c_attn.lora_B.default.weight, transformer.h.9.attn.c_proj.lora_A.default.weight, transformer.h.9.attn.c_proj.lora_B.default.weight, transformer.h.9.mlp.c_fc.lora_A.default.weight, transformer.h.9.mlp.c_fc.lora_B.default.weight, transformer.h.9.mlp.c_proj.lora_A.default.weight, transformer.h.9.mlp.c_proj.lora_B.default.weight. Loading adapter weights from models/sft_output_model_v2.5 led to missing keys in the model: h.0.attn.c_attn.lora_A.default.weight, h.0.attn.c_attn.lora_B.default.weight, h.0.attn.c_proj.lora_A.default.weight, h.0.attn.c_proj.lora_B.default.weight, h.0.mlp.c_fc.lora_A.default.weight, h.0.mlp.c_fc.lora_B.default.weight, h.0.mlp.c_proj.lora_A.default.weight, h.0.mlp.c_proj.lora_B.default.weight, h.1.attn.c_attn.lora_A.default.weight, h.1.attn.c_attn.lora_B.default.weight, h.1.attn.c_proj.lora_A.default.weight, h.1.attn.c_proj.lora_B.default.weight, h.1.mlp.c_fc.lora_A.default.weight, h.1.mlp.c_fc.lora_B.default.weight, h.1.mlp.c_proj.lora_A.default.weight, h.1.mlp.c_proj.lora_B.default.weight, h.2.attn.c_attn.lora_A.default.weight, h.2.attn.c_attn.lora_B.default.weight, h.2.attn.c_proj.lora_A.default.weight, h.2.attn.c_proj.lora_B.default.weight, h.2.mlp.c_fc.lora_A.default.weight, h.2.mlp.c_fc.lora_B.default.weight, h.2.mlp.c_proj.lora_A.default.weight, h.2.mlp.c_proj.lora_B.default.weight, h.3.attn.c_attn.lora_A.default.weight, h.3.attn.c_attn.lora_B.default.weight, h.3.attn.c_proj.lora_A.default.weight, h.3.attn.c_proj.lora_B.default.weight, h.3.mlp.c_fc.lora_A.default.weight, h.3.mlp.c_fc.lora_B.default.weight, h.3.mlp.c_proj.lora_A.default.weight, h.3.mlp.c_proj.lora_B.default.weight, h.4.attn.c_attn.lora_A.default.weight, h.4.attn.c_attn.lora_B.default.weight, h.4.attn.c_proj.lora_A.default.weight, h.4.attn.c_proj.lora_B.default.weight, h.4.mlp.c_fc.lora_A.default.weight, h.4.mlp.c_fc.lora_B.default.weight, h.4.mlp.c_proj.lora_A.default.weight, h.4.mlp.c_proj.lora_B.default.weight, h.5.attn.c_attn.lora_A.default.weight, h.5.attn.c_attn.lora_B.default.weight, h.5.attn.c_proj.lora_A.default.weight, h.5.attn.c_proj.lora_B.default.weight, h.5.mlp.c_fc.lora_A.default.weight, h.5.mlp.c_fc.lora_B.default.weight, h.5.mlp.c_proj.lora_A.default.weight, h.5.mlp.c_proj.lora_B.default.weight, h.6.attn.c_attn.lora_A.default.weight, h.6.attn.c_attn.lora_B.default.weight, h.6.attn.c_proj.lora_A.default.weight, h.6.attn.c_proj.lora_B.default.weight, h.6.mlp.c_fc.lora_A.default.weight, h.6.mlp.c_fc.lora_B.default.weight, h.6.mlp.c_proj.lora_A.default.weight, h.6.mlp.c_proj.lora_B.default.weight, h.7.attn.c_attn.lora_A.default.weight, h.7.attn.c_attn.lora_B.default.weight, h.7.attn.c_proj.lora_A.default.weight, h.7.attn.c_proj.lora_B.default.weight, h.7.mlp.c_fc.lora_A.default.weight, h.7.mlp.c_fc.lora_B.default.weight, h.7.mlp.c_proj.lora_A.default.weight, h.7.mlp.c_proj.lora_B.default.weight, h.8.attn.c_attn.lora_A.default.weight, h.8.attn.c_attn.lora_B.default.weight, h.8.attn.c_proj.lora_A.default.weight, h.8.attn.c_proj.lora_B.default.weight, h.8.mlp.c_fc.lora_A.default.weight, h.8.mlp.c_fc.lora_B.default.weight, h.8.mlp.c_proj.lora_A.default.weight, h.8.mlp.c_proj.lora_B.default.weight, h.9.attn.c_attn.lora_A.default.weight, h.9.attn.c_attn.lora_B.default.weight, h.9.attn.c_proj.lora_A.default.weight, h.9.attn.c_proj.lora_B.default.weight, h.9.mlp.c_fc.lora_A.default.weight, h.9.mlp.c_fc.lora_B.default.weight, h.9.mlp.c_proj.lora_A.default.weight, h.9.mlp.c_proj.lora_B.default.weight, h.10.attn.c_attn.lora_A.default.weight, h.10.attn.c_attn.lora_B.default.weight, h.10.attn.c_proj.lora_A.default.weight, h.10.attn.c_proj.lora_B.default.weight, h.10.mlp.c_fc.lora_A.default.weight, h.10.mlp.c_fc.lora_B.default.weight, h.10.mlp.c_proj.lora_A.default.weight, h.10.mlp.c_proj.lora_B.default.weight, h.11.attn.c_attn.lora_A.default.weight, h.11.attn.c_attn.lora_B.default.weight, h.11.attn.c_proj.lora_A.default.weight, h.11.attn.c_proj.lora_B.default.weight, h.11.mlp.c_fc.lora_A.default.weight, h.11.mlp.c_fc.lora_B.default.weight, h.11.mlp.c_proj.lora_A.default.weight, h.11.mlp.c_proj.lora_B.default.weight\n"
     ]
    }
   ],
   "source": [
    "class GPTRM_custom(RewardModel):\n",
    "    \"\"\"\n",
    "    GPT-2를 기반으로 하는 Custom Reward Model.\n",
    "    입력된 텍스트의 좋고 나쁨을 판단하여 단일 점수(reward)를 출력합니다.\n",
    "    \"\"\"\n",
    "    def __init__(self,\n",
    "                 pretrained: Optional[str] = None,\n",
    "                 config: Optional[GPT2Config] = None,\n",
    "                 checkpoint: bool = False,\n",
    "                 lora_rank: int = 0,\n",
    "                 lora_train_bias: str = 'none',\n",
    "                 tokenizer=None) -> None:\n",
    "\n",
    "        if pretrained is not None:\n",
    "            # 사전 학습된 GPT2 모델을 불러옵니다.\n",
    "            model = GPT2Model.from_pretrained(pretrained)\n",
    "            # Special token이 추가된 토크나이저에 맞게 임베딩 크기를 조정합니다.\n",
    "            model.resize_token_embeddings(len(tokenizer))\n",
    "        elif config is not None:\n",
    "            model = GPT2Model(config)\n",
    "        else:\n",
    "            model = GPT2Model(GPT2Config())\n",
    "\n",
    "        if checkpoint:\n",
    "            model.gradient_checkpointing_enable()\n",
    "\n",
    "        # 모델의 마지막 hidden state를 입력으로 받아 단일 점수를 출력하는 value_head를 정의합니다.\n",
    "        value_head = nn.Linear(model.config.n_embd, 1)\n",
    "\n",
    "        # 부모 클래스인 RewardModel을 초기화합니다.\n",
    "        super().__init__(model, value_head, lora_rank, lora_train_bias)\n",
    "\n",
    "        if pretrained is not None:\n",
    "            self.model = model\n",
    "            self.pretrained = pretrained\n",
    "\n",
    "    def save_pretrained(self, dir):\n",
    "        if self.pretrained is not None:\n",
    "            self.model.save_pretrained(dir)\n",
    "\n",
    "# NaiveStrategy 컨텍스트 내에서 RM 모델을 초기화합니다.\n",
    "with NaiveStrategy().model_init_context():\n",
    "    # rm의 기반 모델을 SFT 모델로 변경\n",
    "    # rm에도 LoRA 적용 \n",
    "    rm_model = GPTRM_custom(pretrained=SFT_MODEL_NAME, lora_rank=8, tokenizer=rm_tokenizer).cuda()"
   ]
  },
  {
   "cell_type": "markdown",
   "id": "54904010",
   "metadata": {},
   "source": [
    "##### **Pairwise 데이터 전처리**\n",
    "RM 학습을 위해서는 \"더 좋은 답변(chosen)\"과 \"더 나쁜 답변(rejected)\"을 한 쌍으로 묶은 데이터가 필요합니다. `kochatgpt_2_RM.jsonl` 파일에는 1개의 프롬프트와 3개의 순위가 매겨진 답변이 들어있습니다.\n",
    "\n",
    "이것을 `(prompt, chosen, rejected)` 형태의 여러 쌍으로 분해하여 데이터셋을 재구성합니다. 예를 들어, (답변0, 답변1, 답변2)가 있고 순위가 (1, 2, 0)이라면, (답변2 > 답변1), (답변2 > 답변0), (답변1 > 답변0) 이므로 3개의 쌍을 만들 수 있습니다."
   ]
  },
  {
   "cell_type": "code",
   "execution_count": 18,
   "id": "24c5dca4",
   "metadata": {},
   "outputs": [
    {
     "name": "stdout",
     "output_type": "stream",
     "text": [
      "before data num: 10220\n",
      "after  data num: 30660\n",
      "data example: \n",
      "{'prompt': '애플은 리사를 어떻게 처리했어', 'chosen': '애플이 누구인지 명확히 알 수 없어서, 리사가 누구인지와 어떤 상황에서 처리되었는지에 대한 추가적인 정보가 필요합니다. 따라서, 보다 정확한 답변을 제공할 수 없습니다.', 'rejected': '애플은 리사를 위해 고객 서비스 부서에서 고객 다양한 컴퓨터 관련 문제에 대해 응답하는 데 필요한 모든 지원을 제공했습니다. 사용자가 하드웨어 문제를 경험할 때, 전문가들은 필요한 수리(수리, 추가 부품 제공, 소프트웨어 업그레이드 등)을 제공해 드릴 수 있습니다. 또한, 사용자가 사용 방법 문제나 기타 문제를 경험할 때, 대화 상대로 사용자를 지원할 수 있는 전문 고객 서비스 직원들이 사용자에게 상담하고 도움을 주는 데 도움이 될 수 있는 정보를 제공합니다. 또한, 인터넷에서 제공되는 정보를 통해 문제를 해결하거나 고객 서비스 웹 사이트를 통해 자신의 문제를 진단할 수 있도록 하는 등 다양한 방법으로 리사를 처리해 왔습니다.'}\n"
     ]
    }
   ],
   "source": [
    "# RM 데이터셋 로드\n",
    "with open(DATA_PATH_2_RM, \"r\", encoding='utf-8-sig') as json_file:\n",
    "    list_data_dict = json.load(json_file)\n",
    "\n",
    "# 랭킹 정보를 바탕으로 (chosen, rejected) 쌍 만들기\n",
    "total_data_ranking2chosen = []\n",
    "for tmp in list_data_dict:\n",
    "    one_data_ranking2chosen = []\n",
    "\n",
    "    # 3개의 답변 중 2개를 뽑는 모든 조합(3가지)에 대해 쌍을 생성\n",
    "    # completion_0 vs completion_1\n",
    "    data = {}\n",
    "    data['prompt'] = tmp['prompt']\n",
    "    if tmp['ranking'][0] < tmp['ranking'][1]:\n",
    "        data['chosen'] = tmp['completion_0']\n",
    "        data['rejected'] = tmp['completion_1']\n",
    "    else:\n",
    "        data['chosen'] = tmp['completion_1']\n",
    "        data['rejected'] = tmp['completion_0']\n",
    "    one_data_ranking2chosen.append(data)\n",
    "\n",
    "    # completion_0 vs completion_2\n",
    "    data = {}\n",
    "    data['prompt'] = tmp['prompt']\n",
    "    if tmp['ranking'][0] < tmp['ranking'][2]:\n",
    "        data['chosen'] = tmp['completion_0']\n",
    "        data['rejected'] = tmp['completion_2']\n",
    "    else:\n",
    "        data['chosen'] = tmp['completion_2']\n",
    "        data['rejected'] = tmp['completion_0']\n",
    "    one_data_ranking2chosen.append(data)\n",
    "\n",
    "    # completion_1 vs completion_2\n",
    "    data = {}\n",
    "    data['prompt'] = tmp['prompt']\n",
    "    if tmp['ranking'][1] < tmp['ranking'][2]:\n",
    "        data['chosen'] = tmp['completion_1']\n",
    "        data['rejected'] = tmp['completion_2']\n",
    "    else:\n",
    "        data['chosen'] = tmp['completion_2']\n",
    "        data['rejected'] = tmp['completion_1']\n",
    "    one_data_ranking2chosen.append(data)\n",
    "\n",
    "    total_data_ranking2chosen.extend(one_data_ranking2chosen)\n",
    "\n",
    "print('before data num: %d'%(len(list_data_dict)))\n",
    "print('after  data num: %d'%(len(total_data_ranking2chosen)))\n",
    "print('data example: \\n%s'%total_data_ranking2chosen[45])"
   ]
  },
  {
   "cell_type": "markdown",
   "id": "8a8b1072",
   "metadata": {},
   "source": [
    "##### **데이터셋 분리 및 생성**\n",
    "전처리된 Pairwise 데이터를 학습용(train)과 검증용(eval)으로 나눈 뒤, `RewardDataset` 클래스를 이용해 토크나이징 및 최종 데이터셋 객체를 생성합니다."
   ]
  },
  {
   "cell_type": "code",
   "execution_count": 19,
   "id": "7573b3e5",
   "metadata": {},
   "outputs": [
    {
     "name": "stdout",
     "output_type": "stream",
     "text": [
      "Train data size: 1000\n",
      "Eval data size: 200\n"
     ]
    },
    {
     "data": {
      "application/vnd.jupyter.widget-view+json": {
       "model_id": "1df97d25bebd4d689eb80cd165a86336",
       "version_major": 2,
       "version_minor": 0
      },
      "text/plain": [
       "  0%|          | 0/1000 [00:00<?, ?it/s]"
      ]
     },
     "metadata": {},
     "output_type": "display_data"
    },
    {
     "data": {
      "application/vnd.jupyter.widget-view+json": {
       "model_id": "204b19c535da4a0791f8541939065e6d",
       "version_major": 2,
       "version_minor": 0
      },
      "text/plain": [
       "  0%|          | 0/200 [00:00<?, ?it/s]"
      ]
     },
     "metadata": {},
     "output_type": "display_data"
    },
    {
     "name": "stdout",
     "output_type": "stream",
     "text": [
      "[RM 데이터 샘플 1]\n",
      "Prompt: 흑고래의 무게는 어느 정도야\n",
      "Chosen: 흑고래의 평균 몸무게는 약 25~40톤 정도이지만, 최대 몸무게는 50톤 이상에 이를 수 있습니다.\n",
      "Rejected: 흑고래의 무게는 매우 다양하게 달라집니다. 약 200kg에서 10톤까지 달라질 수 있습니다.\n"
     ]
    }
   ],
   "source": [
    "# 데이터 셔플 및 분할\n",
    "random.seed(230319)\n",
    "random.shuffle(total_data_ranking2chosen)\n",
    "\n",
    "train_data = total_data_ranking2chosen[:1000]\n",
    "eval_data = total_data_ranking2chosen[1000:1200]\n",
    "\n",
    "print(f\"Train data size: {len(train_data)}\")\n",
    "print(f\"Eval data size: {len(eval_data)}\")\n",
    "\n",
    "# RewardDataset 객체 생성\n",
    "train_dataset = RewardDataset(train_data, rm_tokenizer, 512)\n",
    "eval_dataset = RewardDataset(eval_data, rm_tokenizer, 512)\n",
    "\n",
    "# 데이터 샘플 확인\n",
    "idx = 1\n",
    "print(f\"[RM 데이터 샘플 {idx}]\")\n",
    "print(f\"Prompt: {train_data[idx]['prompt']}\")\n",
    "print(f\"Chosen: {train_data[idx]['chosen']}\")\n",
    "print(f\"Rejected: {train_data[idx]['rejected']}\")"
   ]
  },
  {
   "cell_type": "markdown",
   "id": "6274e25a",
   "metadata": {},
   "source": [
    "#### 4.2.2. RM 모델 학습"
   ]
  },
  {
   "cell_type": "markdown",
   "id": "a2978254",
   "metadata": {},
   "source": [
    "`RewardModelTrainer`를 사용하여 보상 모델 학습을 시작합니다. 이 트레이너는 `chosen` 답변의 점수는 높이고 `rejected` 답변의 점수는 낮추는 방향으로 모델을 업데이트합니다."
   ]
  },
  {
   "cell_type": "code",
   "execution_count": 20,
   "id": "83ee20eb",
   "metadata": {},
   "outputs": [
    {
     "data": {
      "application/vnd.jupyter.widget-view+json": {
       "model_id": "2e033447718e46dca8aee29e22f71fff",
       "version_major": 2,
       "version_minor": 0
      },
      "text/plain": [
       "Train epoch:   0%|          | 0/3 [00:00<?, ?it/s]"
      ]
     },
     "metadata": {},
     "output_type": "display_data"
    },
    {
     "data": {
      "application/vnd.jupyter.widget-view+json": {
       "model_id": "c167fe207b984a5bb26d14916dabd212",
       "version_major": 2,
       "version_minor": 0
      },
      "text/plain": [
       "Train step of epoch 0:   0%|          | 0/250 [00:00<?, ?it/s]"
      ]
     },
     "metadata": {},
     "output_type": "display_data"
    },
    {
     "data": {
      "application/vnd.jupyter.widget-view+json": {
       "model_id": "3fba0b5ab60a4b9383c1f5c2ceeddad4",
       "version_major": 2,
       "version_minor": 0
      },
      "text/plain": [
       "Train step of epoch 1:   0%|          | 0/250 [00:00<?, ?it/s]"
      ]
     },
     "metadata": {},
     "output_type": "display_data"
    },
    {
     "data": {
      "application/vnd.jupyter.widget-view+json": {
       "model_id": "51e7368b16e24a3fbaf6380c7557c303",
       "version_major": 2,
       "version_minor": 0
      },
      "text/plain": [
       "Train step of epoch 2:   0%|          | 0/250 [00:00<?, ?it/s]"
      ]
     },
     "metadata": {},
     "output_type": "display_data"
    }
   ],
   "source": [
    "# RM 트레이너 설정\n",
    "rm_trainer = RewardModelTrainer(model=rm_model,\n",
    "                             strategy=NaiveStrategy(),\n",
    "                             optim=torch.optim.Adam(rm_model.parameters(), lr=5e-5),\n",
    "                             train_dataset=train_dataset,\n",
    "                             eval_dataset=eval_dataset,\n",
    "                             batch_size=4,\n",
    "                             max_epochs=3)\n",
    "\n",
    "# RM 학습 시작\n",
    "rm_trainer.fit(use_lora=0)\n",
    "\n",
    "# 학습된 RM 모델 저장\n",
    "rm_model.save_pretrained(RM_MODEL_NAME)"
   ]
  },
  {
   "cell_type": "code",
   "execution_count": 21,
   "id": "bf3e8196",
   "metadata": {},
   "outputs": [
    {
     "data": {
      "image/png": "[encoded data removed]",
      "text/plain": [
       "<Figure size 1000x600 with 1 Axes>"
      ]
     },
     "metadata": {},
     "output_type": "display_data"
    }
   ],
   "source": [
    "# --- RM Loss 그래프 시각화 ---\n",
    "plt.figure(figsize=(10, 6))\n",
    "plt.plot(rm_trainer.loss_history, label='RM Training Loss')\n",
    "plt.title('Reward Model Training Loss')\n",
    "plt.xlabel('Training Steps')\n",
    "plt.ylabel('Loss')\n",
    "plt.legend()\n",
    "plt.show()"
   ]
  },
  {
   "cell_type": "markdown",
   "id": "09355c43",
   "metadata": {},
   "source": [
    "#### 4.2.3. RM 모델 성능 평가"
   ]
  },
  {
   "cell_type": "markdown",
   "id": "efb39955",
   "metadata": {},
   "source": [
    "학습된 보상 모델이 실제로 문장의 퀄리티에 따라 점수를 잘 매기는지 몇 가지 예시 문장으로 테스트합니다. 긍정적이고 잘 구성된 문장일수록 높은 점수가 나와야 합니다."
   ]
  },
  {
   "cell_type": "code",
   "execution_count": 22,
   "id": "7fe4199b",
   "metadata": {},
   "outputs": [
    {
     "name": "stdout",
     "output_type": "stream",
     "text": [
      "input: 인공지능은 똥멍청이 입니다\n",
      "reward score: -0.2\n",
      "input: 인공지능(AI)은 매우 유용합니다.\n",
      "reward score: -0.3\n",
      "input: 인공지능은 일반적으로 인간의 지능이 필요하거나 인간이 분석할 수 있는 것보다 규모가 큰 데이터를 포함하는 방식으로 추론, 학습 및 행동할 수 있는 컴퓨터 및 기계를 구축하는 것과 관련된 과학 분야입니다.\n",
      "reward score: 0.7\n"
     ]
    }
   ],
   "source": [
    "# RM 추론 함수 정의\n",
    "def inference_RM(input_text):\n",
    "    input_ids = rm_tokenizer.encode(input_text, return_tensors='pt').to(\n",
    "        torch.cuda.current_device()\n",
    "    )\n",
    "    output = rm_model(input_ids)\n",
    "    output_reward = output.cpu().detach().numpy()[0]\n",
    "\n",
    "    print('input: %s\\nreward score: %.1f' % (input_text, output_reward))\n",
    "    return output_reward\n",
    "\n",
    "# 테스트 1: 부정적인 문장\n",
    "input_text = '인공지능은 똥멍청이 입니다'\n",
    "output_reward = inference_RM(input_text=input_text)\n",
    "\n",
    "# 테스트 2: 긍정적이고 짧은 문장\n",
    "input_text = '인공지능(AI)은 매우 유용합니다.'\n",
    "output_reward = inference_RM(input_text=input_text)\n",
    "\n",
    "# 테스트 3: 긍정적이고 상세한 문장\n",
    "input_text = \"인공지능은 일반적으로 인간의 지능이 필요하거나 인간이 분석할 수 있는 것보다 규모가 큰 데이터를 포함하는 방식으로 추론, 학습 및 행동할 수 있는 컴퓨터 및 기계를 구축하는 것과 관련된 과학 분야입니다.\"\n",
    "output_reward = inference_RM(input_text=input_text)\n",
    "\n",
    "# GPU 메모리 정리\n",
    "torch.cuda.empty_cache()"
   ]
  },
  {
   "cell_type": "markdown",
   "id": "6983fb16",
   "metadata": {},
   "source": [
    "### 4.3. 3단계: PPO (Proximal Policy Optimization) 학습\n",
    "\n",
    "이제 마지막 단계인 PPO(Proximal Policy Optimization)를 진행합니다."
   ]
  },
  {
   "cell_type": "markdown",
   "id": "ea4b53bf",
   "metadata": {},
   "source": [
    "#### 4.3.1. PPO 모델 및 데이터 준비"
   ]
  },
  {
   "cell_type": "markdown",
   "id": "0a6d1637",
   "metadata": {},
   "source": [
    "PPO 학습에 필요한 `GPTActor`, `GPTCritic`, `PPOTrainer` 등의 클래스를 임포트합니다."
   ]
  },
  {
   "cell_type": "code",
   "execution_count": 23,
   "id": "a2574a9c",
   "metadata": {},
   "outputs": [],
   "source": [
    "from chatgpt.models.gpt import GPTActor, GPTCritic\n",
    "from chatgpt.trainer import PPOTrainer\n",
    "from chatgpt.trainer.callbacks import Callback\n",
    "\n",
    "from copy import deepcopy\n",
    "\n",
    "# wandb 로깅과 loss 기록을 위한 Custom Callback 정의\n",
    "class WandbPlottingCallback(Callback):\n",
    "    def __init__(self):\n",
    "        super().__init__()\n",
    "        self.actor_losses = []\n",
    "        self.critic_losses = []\n",
    "\n",
    "    def on_learn_batch_end(self, metrics: dict, experience: \"Experience\") -> None:\n",
    "        # 학습 스텝이 끝날 때마다 actor와 critic의 loss를 wandb에 기록하고 리스트에 저장\n",
    "        wandb.log(metrics)\n",
    "        if 'actor_loss' in metrics:\n",
    "            self.actor_losses.append(metrics['actor_loss'])\n",
    "        if 'critic_loss' in metrics:\n",
    "            self.critic_losses.append(metrics['critic_loss'])"
   ]
  },
  {
   "cell_type": "markdown",
   "id": "e421ca9c",
   "metadata": {},
   "source": [
    "##### **Actor, Critic, Reward Model 준비**\n",
    "PPO 학습을 위해서는 여러 모델이 필요합니다.\n",
    "\n",
    "- **Actor**: 실제로 답변을 생성하는 모델입니다. 이전에 학습한 **SFT 모델(`output_1_SFT`)**을 불러와 초기 Actor로 사용합니다.\n",
    "- **Critic**: Actor가 생성한 답변의 품질을 평가하여 점수(value)를 매기는 모델입니다. 이전에 학습한 **RM 모델(`output_2_RM`)**을 불러와 Critic으로 사용합니다.\n",
    "- **Initial Model**: PPO 학습 과정에서 Actor가 기존 SFT 모델의 생성 방식에서 너무 멀어지지 않도록 제어(KL-divergence 페널티)하기 위한 레퍼런스 모델입니다. Actor 모델을 그대로 복사하여 만듭니다.\n",
    "- **Reward Model**: Critic 모델을 기반으로 생성된 답변에 대한 최종 보상(reward)을 계산하는 데 사용됩니다.\n"
   ]
  },
  {
   "cell_type": "code",
   "execution_count": 24,
   "id": "54ea02d7",
   "metadata": {},
   "outputs": [
    {
     "name": "stderr",
     "output_type": "stream",
     "text": [
      "Loading adapter weights from models/rm_output_model_v2.5 led to unexpected keys not found in the model: default.hdefault..default.0default..default.adefault.tdefault.tdefault.ndefault..default.cdefault._default.adefault.tdefault.tdefault.ndefault..default.ldefault.odefault.rdefault.adefault._default.Adefault..default.ldefault.odefault.rdefault.adefault._default.Adefault., default.hdefault..default.0default..default.adefault.tdefault.tdefault.ndefault..default.cdefault._default.adefault.tdefault.tdefault.ndefault..default.ldefault.odefault.rdefault.adefault._default.Adefault..default.ldefault.odefault.rdefault.adefault._default.Bdefault., default.hdefault..default.0default..default.adefault.tdefault.tdefault.ndefault..default.cdefault._default.adefault.tdefault.tdefault.ndefault..default.ldefault.odefault.rdefault.adefault._default.Bdefault..default.ldefault.odefault.rdefault.adefault._default.Adefault., default.hdefault..default.0default..default.adefault.tdefault.tdefault.ndefault..default.cdefault._default.adefault.tdefault.tdefault.ndefault..default.ldefault.odefault.rdefault.adefault._default.Bdefault..default.ldefault.odefault.rdefault.adefault._default.Bdefault., default.hdefault..default.0default..default.adefault.tdefault.tdefault.ndefault..default.cdefault._default.pdefault.rdefault.odefault.jdefault..default.ldefault.odefault.rdefault.adefault._default.Adefault..default.ldefault.odefault.rdefault.adefault._default.Adefault., default.hdefault..default.0default..default.adefault.tdefault.tdefault.ndefault..default.cdefault._default.pdefault.rdefault.odefault.jdefault..default.ldefault.odefault.rdefault.adefault._default.Adefault..default.ldefault.odefault.rdefault.adefault._default.Bdefault., default.hdefault..default.0default..default.adefault.tdefault.tdefault.ndefault..default.cdefault._default.pdefault.rdefault.odefault.jdefault..default.ldefault.odefault.rdefault.adefault._default.Bdefault..default.ldefault.odefault.rdefault.adefault._default.Adefault., default.hdefault..default.0default..default.adefault.tdefault.tdefault.ndefault..default.cdefault._default.pdefault.rdefault.odefault.jdefault..default.ldefault.odefault.rdefault.adefault._default.Bdefault..default.ldefault.odefault.rdefault.adefault._default.Bdefault., default.hdefault..default.0default..default.mdefault.ldefault.pdefault..default.cdefault._default.fdefault.cdefault..default.ldefault.odefault.rdefault.adefault._default.Adefault..default.ldefault.odefault.rdefault.adefault._default.Adefault., default.hdefault..default.0default..default.mdefault.ldefault.pdefault..default.cdefault._default.fdefault.cdefault..default.ldefault.odefault.rdefault.adefault._default.Adefault..default.ldefault.odefault.rdefault.adefault._default.Bdefault., default.hdefault..default.0default..default.mdefault.ldefault.pdefault..default.cdefault._default.fdefault.cdefault..default.ldefault.odefault.rdefault.adefault._default.Bdefault..default.ldefault.odefault.rdefault.adefault._default.Adefault., default.hdefault..default.0default..default.mdefault.ldefault.pdefault..default.cdefault._default.fdefault.cdefault..default.ldefault.odefault.rdefault.adefault._default.Bdefault..default.ldefault.odefault.rdefault.adefault._default.Bdefault., default.hdefault..default.0default..default.mdefault.ldefault.pdefault..default.cdefault._default.pdefault.rdefault.odefault.jdefault..default.ldefault.odefault.rdefault.adefault._default.Adefault..default.ldefault.odefault.rdefault.adefault._default.Adefault., default.hdefault..default.0default..default.mdefault.ldefault.pdefault..default.cdefault._default.pdefault.rdefault.odefault.jdefault..default.ldefault.odefault.rdefault.adefault._default.Adefault..default.ldefault.odefault.rdefault.adefault._default.Bdefault., default.hdefault..default.0default..default.mdefault.ldefault.pdefault..default.cdefault._default.pdefault.rdefault.odefault.jdefault..default.ldefault.odefault.rdefault.adefault._default.Bdefault..default.ldefault.odefault.rdefault.adefault._default.Adefault., default.hdefault..default.0default..default.mdefault.ldefault.pdefault..default.cdefault._default.pdefault.rdefault.odefault.jdefault..default.ldefault.odefault.rdefault.adefault._default.Bdefault..default.ldefault.odefault.rdefault.adefault._default.Bdefault., default.hdefault..default.1default..default.adefault.tdefault.tdefault.ndefault..default.cdefault._default.adefault.tdefault.tdefault.ndefault..default.ldefault.odefault.rdefault.adefault._default.Adefault..default.ldefault.odefault.rdefault.adefault._default.Adefault., default.hdefault..default.1default..default.adefault.tdefault.tdefault.ndefault..default.cdefault._default.adefault.tdefault.tdefault.ndefault..default.ldefault.odefault.rdefault.adefault._default.Adefault..default.ldefault.odefault.rdefault.adefault._default.Bdefault., default.hdefault..default.1default..default.adefault.tdefault.tdefault.ndefault..default.cdefault._default.adefault.tdefault.tdefault.ndefault..default.ldefault.odefault.rdefault.adefault._default.Bdefault..default.ldefault.odefault.rdefault.adefault._default.Adefault., default.hdefault..default.1default..default.adefault.tdefault.tdefault.ndefault..default.cdefault._default.adefault.tdefault.tdefault.ndefault..default.ldefault.odefault.rdefault.adefault._default.Bdefault..default.ldefault.odefault.rdefault.adefault._default.Bdefault., default.hdefault..default.1default..default.adefault.tdefault.tdefault.ndefault..default.cdefault._default.pdefault.rdefault.odefault.jdefault..default.ldefault.odefault.rdefault.adefault._default.Adefault..default.ldefault.odefault.rdefault.adefault._default.Adefault., default.hdefault..default.1default..default.adefault.tdefault.tdefault.ndefault..default.cdefault._default.pdefault.rdefault.odefault.jdefault..default.ldefault.odefault.rdefault.adefault._default.Adefault..default.ldefault.odefault.rdefault.adefault._default.Bdefault., default.hdefault..default.1default..default.adefault.tdefault.tdefault.ndefault..default.cdefault._default.pdefault.rdefault.odefault.jdefault..default.ldefault.odefault.rdefault.adefault._default.Bdefault..default.ldefault.odefault.rdefault.adefault._default.Adefault., default.hdefault..default.1default..default.adefault.tdefault.tdefault.ndefault..default.cdefault._default.pdefault.rdefault.odefault.jdefault..default.ldefault.odefault.rdefault.adefault._default.Bdefault..default.ldefault.odefault.rdefault.adefault._default.Bdefault., default.hdefault..default.1default..default.mdefault.ldefault.pdefault..default.cdefault._default.fdefault.cdefault..default.ldefault.odefault.rdefault.adefault._default.Adefault..default.ldefault.odefault.rdefault.adefault._default.Adefault., default.hdefault..default.1default..default.mdefault.ldefault.pdefault..default.cdefault._default.fdefault.cdefault..default.ldefault.odefault.rdefault.adefault._default.Adefault..default.ldefault.odefault.rdefault.adefault._default.Bdefault., default.hdefault..default.1default..default.mdefault.ldefault.pdefault..default.cdefault._default.fdefault.cdefault..default.ldefault.odefault.rdefault.adefault._default.Bdefault..default.ldefault.odefault.rdefault.adefault._default.Adefault., default.hdefault..default.1default..default.mdefault.ldefault.pdefault..default.cdefault._default.fdefault.cdefault..default.ldefault.odefault.rdefault.adefault._default.Bdefault..default.ldefault.odefault.rdefault.adefault._default.Bdefault., default.hdefault..default.1default..default.mdefault.ldefault.pdefault..default.cdefault._default.pdefault.rdefault.odefault.jdefault..default.ldefault.odefault.rdefault.adefault._default.Adefault..default.ldefault.odefault.rdefault.adefault._default.Adefault., default.hdefault..default.1default..default.mdefault.ldefault.pdefault..default.cdefault._default.pdefault.rdefault.odefault.jdefault..default.ldefault.odefault.rdefault.adefault._default.Adefault..default.ldefault.odefault.rdefault.adefault._default.Bdefault., default.hdefault..default.1default..default.mdefault.ldefault.pdefault..default.cdefault._default.pdefault.rdefault.odefault.jdefault..default.ldefault.odefault.rdefault.adefault._default.Bdefault..default.ldefault.odefault.rdefault.adefault._default.Adefault., default.hdefault..default.1default..default.mdefault.ldefault.pdefault..default.cdefault._default.pdefault.rdefault.odefault.jdefault..default.ldefault.odefault.rdefault.adefault._default.Bdefault..default.ldefault.odefault.rdefault.adefault._default.Bdefault., default.hdefault..default.1default.0default..default.adefault.tdefault.tdefault.ndefault..default.cdefault._default.adefault.tdefault.tdefault.ndefault..default.ldefault.odefault.rdefault.adefault._default.Adefault..default.ldefault.odefault.rdefault.adefault._default.Adefault., default.hdefault..default.1default.0default..default.adefault.tdefault.tdefault.ndefault..default.cdefault._default.adefault.tdefault.tdefault.ndefault..default.ldefault.odefault.rdefault.adefault._default.Adefault..default.ldefault.odefault.rdefault.adefault._default.Bdefault., default.hdefault..default.1default.0default..default.adefault.tdefault.tdefault.ndefault..default.cdefault._default.adefault.tdefault.tdefault.ndefault..default.ldefault.odefault.rdefault.adefault._default.Bdefault..default.ldefault.odefault.rdefault.adefault._default.Adefault., default.hdefault..default.1default.0default..default.adefault.tdefault.tdefault.ndefault..default.cdefault._default.adefault.tdefault.tdefault.ndefault..default.ldefault.odefault.rdefault.adefault._default.Bdefault..default.ldefault.odefault.rdefault.adefault._default.Bdefault., default.hdefault..default.1default.0default..default.adefault.tdefault.tdefault.ndefault..default.cdefault._default.pdefault.rdefault.odefault.jdefault..default.ldefault.odefault.rdefault.adefault._default.Adefault..default.ldefault.odefault.rdefault.adefault._default.Adefault., default.hdefault..default.1default.0default..default.adefault.tdefault.tdefault.ndefault..default.cdefault._default.pdefault.rdefault.odefault.jdefault..default.ldefault.odefault.rdefault.adefault._default.Adefault..default.ldefault.odefault.rdefault.adefault._default.Bdefault., default.hdefault..default.1default.0default..default.adefault.tdefault.tdefault.ndefault..default.cdefault._default.pdefault.rdefault.odefault.jdefault..default.ldefault.odefault.rdefault.adefault._default.Bdefault..default.ldefault.odefault.rdefault.adefault._default.Adefault., default.hdefault..default.1default.0default..default.adefault.tdefault.tdefault.ndefault..default.cdefault._default.pdefault.rdefault.odefault.jdefault..default.ldefault.odefault.rdefault.adefault._default.Bdefault..default.ldefault.odefault.rdefault.adefault._default.Bdefault., default.hdefault..default.1default.0default..default.mdefault.ldefault.pdefault..default.cdefault._default.fdefault.cdefault..default.ldefault.odefault.rdefault.adefault._default.Adefault..default.ldefault.odefault.rdefault.adefault._default.Adefault., default.hdefault..default.1default.0default..default.mdefault.ldefault.pdefault..default.cdefault._default.fdefault.cdefault..default.ldefault.odefault.rdefault.adefault._default.Adefault..default.ldefault.odefault.rdefault.adefault._default.Bdefault., default.hdefault..default.1default.0default..default.mdefault.ldefault.pdefault..default.cdefault._default.fdefault.cdefault..default.ldefault.odefault.rdefault.adefault._default.Bdefault..default.ldefault.odefault.rdefault.adefault._default.Adefault., default.hdefault..default.1default.0default..default.mdefault.ldefault.pdefault..default.cdefault._default.fdefault.cdefault..default.ldefault.odefault.rdefault.adefault._default.Bdefault..default.ldefault.odefault.rdefault.adefault._default.Bdefault., default.hdefault..default.1default.0default..default.mdefault.ldefault.pdefault..default.cdefault._default.pdefault.rdefault.odefault.jdefault..default.ldefault.odefault.rdefault.adefault._default.Adefault..default.ldefault.odefault.rdefault.adefault._default.Adefault., default.hdefault..default.1default.0default..default.mdefault.ldefault.pdefault..default.cdefault._default.pdefault.rdefault.odefault.jdefault..default.ldefault.odefault.rdefault.adefault._default.Adefault..default.ldefault.odefault.rdefault.adefault._default.Bdefault., default.hdefault..default.1default.0default..default.mdefault.ldefault.pdefault..default.cdefault._default.pdefault.rdefault.odefault.jdefault..default.ldefault.odefault.rdefault.adefault._default.Bdefault..default.ldefault.odefault.rdefault.adefault._default.Adefault., default.hdefault..default.1default.0default..default.mdefault.ldefault.pdefault..default.cdefault._default.pdefault.rdefault.odefault.jdefault..default.ldefault.odefault.rdefault.adefault._default.Bdefault..default.ldefault.odefault.rdefault.adefault._default.Bdefault., default.hdefault..default.1default.1default..default.adefault.tdefault.tdefault.ndefault..default.cdefault._default.adefault.tdefault.tdefault.ndefault..default.ldefault.odefault.rdefault.adefault._default.Adefault..default.ldefault.odefault.rdefault.adefault._default.Adefault., default.hdefault..default.1default.1default..default.adefault.tdefault.tdefault.ndefault..default.cdefault._default.adefault.tdefault.tdefault.ndefault..default.ldefault.odefault.rdefault.adefault._default.Adefault..default.ldefault.odefault.rdefault.adefault._default.Bdefault., default.hdefault..default.1default.1default..default.adefault.tdefault.tdefault.ndefault..default.cdefault._default.adefault.tdefault.tdefault.ndefault..default.ldefault.odefault.rdefault.adefault._default.Bdefault..default.ldefault.odefault.rdefault.adefault._default.Adefault., default.hdefault..default.1default.1default..default.adefault.tdefault.tdefault.ndefault..default.cdefault._default.adefault.tdefault.tdefault.ndefault..default.ldefault.odefault.rdefault.adefault._default.Bdefault..default.ldefault.odefault.rdefault.adefault._default.Bdefault., default.hdefault..default.1default.1default..default.adefault.tdefault.tdefault.ndefault..default.cdefault._default.pdefault.rdefault.odefault.jdefault..default.ldefault.odefault.rdefault.adefault._default.Adefault..default.ldefault.odefault.rdefault.adefault._default.Adefault., default.hdefault..default.1default.1default..default.adefault.tdefault.tdefault.ndefault..default.cdefault._default.pdefault.rdefault.odefault.jdefault..default.ldefault.odefault.rdefault.adefault._default.Adefault..default.ldefault.odefault.rdefault.adefault._default.Bdefault., default.hdefault..default.1default.1default..default.adefault.tdefault.tdefault.ndefault..default.cdefault._default.pdefault.rdefault.odefault.jdefault..default.ldefault.odefault.rdefault.adefault._default.Bdefault..default.ldefault.odefault.rdefault.adefault._default.Adefault., default.hdefault..default.1default.1default..default.adefault.tdefault.tdefault.ndefault..default.cdefault._default.pdefault.rdefault.odefault.jdefault..default.ldefault.odefault.rdefault.adefault._default.Bdefault..default.ldefault.odefault.rdefault.adefault._default.Bdefault., default.hdefault..default.1default.1default..default.mdefault.ldefault.pdefault..default.cdefault._default.fdefault.cdefault..default.ldefault.odefault.rdefault.adefault._default.Adefault..default.ldefault.odefault.rdefault.adefault._default.Adefault., default.hdefault..default.1default.1default..default.mdefault.ldefault.pdefault..default.cdefault._default.fdefault.cdefault..default.ldefault.odefault.rdefault.adefault._default.Adefault..default.ldefault.odefault.rdefault.adefault._default.Bdefault., default.hdefault..default.1default.1default..default.mdefault.ldefault.pdefault..default.cdefault._default.fdefault.cdefault..default.ldefault.odefault.rdefault.adefault._default.Bdefault..default.ldefault.odefault.rdefault.adefault._default.Adefault., default.hdefault..default.1default.1default..default.mdefault.ldefault.pdefault..default.cdefault._default.fdefault.cdefault..default.ldefault.odefault.rdefault.adefault._default.Bdefault..default.ldefault.odefault.rdefault.adefault._default.Bdefault., default.hdefault..default.1default.1default..default.mdefault.ldefault.pdefault..default.cdefault._default.pdefault.rdefault.odefault.jdefault..default.ldefault.odefault.rdefault.adefault._default.Adefault..default.ldefault.odefault.rdefault.adefault._default.Adefault., default.hdefault..default.1default.1default..default.mdefault.ldefault.pdefault..default.cdefault._default.pdefault.rdefault.odefault.jdefault..default.ldefault.odefault.rdefault.adefault._default.Adefault..default.ldefault.odefault.rdefault.adefault._default.Bdefault., default.hdefault..default.1default.1default..default.mdefault.ldefault.pdefault..default.cdefault._default.pdefault.rdefault.odefault.jdefault..default.ldefault.odefault.rdefault.adefault._default.Bdefault..default.ldefault.odefault.rdefault.adefault._default.Adefault., default.hdefault..default.1default.1default..default.mdefault.ldefault.pdefault..default.cdefault._default.pdefault.rdefault.odefault.jdefault..default.ldefault.odefault.rdefault.adefault._default.Bdefault..default.ldefault.odefault.rdefault.adefault._default.Bdefault., default.hdefault..default.2default..default.adefault.tdefault.tdefault.ndefault..default.cdefault._default.adefault.tdefault.tdefault.ndefault..default.ldefault.odefault.rdefault.adefault._default.Adefault..default.ldefault.odefault.rdefault.adefault._default.Adefault., default.hdefault..default.2default..default.adefault.tdefault.tdefault.ndefault..default.cdefault._default.adefault.tdefault.tdefault.ndefault..default.ldefault.odefault.rdefault.adefault._default.Adefault..default.ldefault.odefault.rdefault.adefault._default.Bdefault., default.hdefault..default.2default..default.adefault.tdefault.tdefault.ndefault..default.cdefault._default.adefault.tdefault.tdefault.ndefault..default.ldefault.odefault.rdefault.adefault._default.Bdefault..default.ldefault.odefault.rdefault.adefault._default.Adefault., default.hdefault..default.2default..default.adefault.tdefault.tdefault.ndefault..default.cdefault._default.adefault.tdefault.tdefault.ndefault..default.ldefault.odefault.rdefault.adefault._default.Bdefault..default.ldefault.odefault.rdefault.adefault._default.Bdefault., default.hdefault..default.2default..default.adefault.tdefault.tdefault.ndefault..default.cdefault._default.pdefault.rdefault.odefault.jdefault..default.ldefault.odefault.rdefault.adefault._default.Adefault..default.ldefault.odefault.rdefault.adefault._default.Adefault., default.hdefault..default.2default..default.adefault.tdefault.tdefault.ndefault..default.cdefault._default.pdefault.rdefault.odefault.jdefault..default.ldefault.odefault.rdefault.adefault._default.Adefault..default.ldefault.odefault.rdefault.adefault._default.Bdefault., default.hdefault..default.2default..default.adefault.tdefault.tdefault.ndefault..default.cdefault._default.pdefault.rdefault.odefault.jdefault..default.ldefault.odefault.rdefault.adefault._default.Bdefault..default.ldefault.odefault.rdefault.adefault._default.Adefault., default.hdefault..default.2default..default.adefault.tdefault.tdefault.ndefault..default.cdefault._default.pdefault.rdefault.odefault.jdefault..default.ldefault.odefault.rdefault.adefault._default.Bdefault..default.ldefault.odefault.rdefault.adefault._default.Bdefault., default.hdefault..default.2default..default.mdefault.ldefault.pdefault..default.cdefault._default.fdefault.cdefault..default.ldefault.odefault.rdefault.adefault._default.Adefault..default.ldefault.odefault.rdefault.adefault._default.Adefault., default.hdefault..default.2default..default.mdefault.ldefault.pdefault..default.cdefault._default.fdefault.cdefault..default.ldefault.odefault.rdefault.adefault._default.Adefault..default.ldefault.odefault.rdefault.adefault._default.Bdefault., default.hdefault..default.2default..default.mdefault.ldefault.pdefault..default.cdefault._default.fdefault.cdefault..default.ldefault.odefault.rdefault.adefault._default.Bdefault..default.ldefault.odefault.rdefault.adefault._default.Adefault., default.hdefault..default.2default..default.mdefault.ldefault.pdefault..default.cdefault._default.fdefault.cdefault..default.ldefault.odefault.rdefault.adefault._default.Bdefault..default.ldefault.odefault.rdefault.adefault._default.Bdefault., default.hdefault..default.2default..default.mdefault.ldefault.pdefault..default.cdefault._default.pdefault.rdefault.odefault.jdefault..default.ldefault.odefault.rdefault.adefault._default.Adefault..default.ldefault.odefault.rdefault.adefault._default.Adefault., default.hdefault..default.2default..default.mdefault.ldefault.pdefault..default.cdefault._default.pdefault.rdefault.odefault.jdefault..default.ldefault.odefault.rdefault.adefault._default.Adefault..default.ldefault.odefault.rdefault.adefault._default.Bdefault., default.hdefault..default.2default..default.mdefault.ldefault.pdefault..default.cdefault._default.pdefault.rdefault.odefault.jdefault..default.ldefault.odefault.rdefault.adefault._default.Bdefault..default.ldefault.odefault.rdefault.adefault._default.Adefault., default.hdefault..default.2default..default.mdefault.ldefault.pdefault..default.cdefault._default.pdefault.rdefault.odefault.jdefault..default.ldefault.odefault.rdefault.adefault._default.Bdefault..default.ldefault.odefault.rdefault.adefault._default.Bdefault., default.hdefault..default.3default..default.adefault.tdefault.tdefault.ndefault..default.cdefault._default.adefault.tdefault.tdefault.ndefault..default.ldefault.odefault.rdefault.adefault._default.Adefault..default.ldefault.odefault.rdefault.adefault._default.Adefault., default.hdefault..default.3default..default.adefault.tdefault.tdefault.ndefault..default.cdefault._default.adefault.tdefault.tdefault.ndefault..default.ldefault.odefault.rdefault.adefault._default.Adefault..default.ldefault.odefault.rdefault.adefault._default.Bdefault., default.hdefault..default.3default..default.adefault.tdefault.tdefault.ndefault..default.cdefault._default.adefault.tdefault.tdefault.ndefault..default.ldefault.odefault.rdefault.adefault._default.Bdefault..default.ldefault.odefault.rdefault.adefault._default.Adefault., default.hdefault..default.3default..default.adefault.tdefault.tdefault.ndefault..default.cdefault._default.adefault.tdefault.tdefault.ndefault..default.ldefault.odefault.rdefault.adefault._default.Bdefault..default.ldefault.odefault.rdefault.adefault._default.Bdefault., default.hdefault..default.3default..default.adefault.tdefault.tdefault.ndefault..default.cdefault._default.pdefault.rdefault.odefault.jdefault..default.ldefault.odefault.rdefault.adefault._default.Adefault..default.ldefault.odefault.rdefault.adefault._default.Adefault., default.hdefault..default.3default..default.adefault.tdefault.tdefault.ndefault..default.cdefault._default.pdefault.rdefault.odefault.jdefault..default.ldefault.odefault.rdefault.adefault._default.Adefault..default.ldefault.odefault.rdefault.adefault._default.Bdefault., default.hdefault..default.3default..default.adefault.tdefault.tdefault.ndefault..default.cdefault._default.pdefault.rdefault.odefault.jdefault..default.ldefault.odefault.rdefault.adefault._default.Bdefault..default.ldefault.odefault.rdefault.adefault._default.Adefault., default.hdefault..default.3default..default.adefault.tdefault.tdefault.ndefault..default.cdefault._default.pdefault.rdefault.odefault.jdefault..default.ldefault.odefault.rdefault.adefault._default.Bdefault..default.ldefault.odefault.rdefault.adefault._default.Bdefault., default.hdefault..default.3default..default.mdefault.ldefault.pdefault..default.cdefault._default.fdefault.cdefault..default.ldefault.odefault.rdefault.adefault._default.Adefault..default.ldefault.odefault.rdefault.adefault._default.Adefault., default.hdefault..default.3default..default.mdefault.ldefault.pdefault..default.cdefault._default.fdefault.cdefault..default.ldefault.odefault.rdefault.adefault._default.Adefault..default.ldefault.odefault.rdefault.adefault._default.Bdefault., default.hdefault..default.3default..default.mdefault.ldefault.pdefault..default.cdefault._default.fdefault.cdefault..default.ldefault.odefault.rdefault.adefault._default.Bdefault..default.ldefault.odefault.rdefault.adefault._default.Adefault., default.hdefault..default.3default..default.mdefault.ldefault.pdefault..default.cdefault._default.fdefault.cdefault..default.ldefault.odefault.rdefault.adefault._default.Bdefault..default.ldefault.odefault.rdefault.adefault._default.Bdefault., default.hdefault..default.3default..default.mdefault.ldefault.pdefault..default.cdefault._default.pdefault.rdefault.odefault.jdefault..default.ldefault.odefault.rdefault.adefault._default.Adefault..default.ldefault.odefault.rdefault.adefault._default.Adefault., default.hdefault..default.3default..default.mdefault.ldefault.pdefault..default.cdefault._default.pdefault.rdefault.odefault.jdefault..default.ldefault.odefault.rdefault.adefault._default.Adefault..default.ldefault.odefault.rdefault.adefault._default.Bdefault., default.hdefault..default.3default..default.mdefault.ldefault.pdefault..default.cdefault._default.pdefault.rdefault.odefault.jdefault..default.ldefault.odefault.rdefault.adefault._default.Bdefault..default.ldefault.odefault.rdefault.adefault._default.Adefault., default.hdefault..default.3default..default.mdefault.ldefault.pdefault..default.cdefault._default.pdefault.rdefault.odefault.jdefault..default.ldefault.odefault.rdefault.adefault._default.Bdefault..default.ldefault.odefault.rdefault.adefault._default.Bdefault., default.hdefault..default.4default..default.adefault.tdefault.tdefault.ndefault..default.cdefault._default.adefault.tdefault.tdefault.ndefault..default.ldefault.odefault.rdefault.adefault._default.Adefault..default.ldefault.odefault.rdefault.adefault._default.Adefault., default.hdefault..default.4default..default.adefault.tdefault.tdefault.ndefault..default.cdefault._default.adefault.tdefault.tdefault.ndefault..default.ldefault.odefault.rdefault.adefault._default.Adefault..default.ldefault.odefault.rdefault.adefault._default.Bdefault., default.hdefault..default.4default..default.adefault.tdefault.tdefault.ndefault..default.cdefault._default.adefault.tdefault.tdefault.ndefault..default.ldefault.odefault.rdefault.adefault._default.Bdefault..default.ldefault.odefault.rdefault.adefault._default.Adefault., default.hdefault..default.4default..default.adefault.tdefault.tdefault.ndefault..default.cdefault._default.adefault.tdefault.tdefault.ndefault..default.ldefault.odefault.rdefault.adefault._default.Bdefault..default.ldefault.odefault.rdefault.adefault._default.Bdefault., default.hdefault..default.4default..default.adefault.tdefault.tdefault.ndefault..default.cdefault._default.pdefault.rdefault.odefault.jdefault..default.ldefault.odefault.rdefault.adefault._default.Adefault..default.ldefault.odefault.rdefault.adefault._default.Adefault., default.hdefault..default.4default..default.adefault.tdefault.tdefault.ndefault..default.cdefault._default.pdefault.rdefault.odefault.jdefault..default.ldefault.odefault.rdefault.adefault._default.Adefault..default.ldefault.odefault.rdefault.adefault._default.Bdefault., default.hdefault..default.4default..default.adefault.tdefault.tdefault.ndefault..default.cdefault._default.pdefault.rdefault.odefault.jdefault..default.ldefault.odefault.rdefault.adefault._default.Bdefault..default.ldefault.odefault.rdefault.adefault._default.Adefault., default.hdefault..default.4default..default.adefault.tdefault.tdefault.ndefault..default.cdefault._default.pdefault.rdefault.odefault.jdefault..default.ldefault.odefault.rdefault.adefault._default.Bdefault..default.ldefault.odefault.rdefault.adefault._default.Bdefault., default.hdefault..default.4default..default.mdefault.ldefault.pdefault..default.cdefault._default.fdefault.cdefault..default.ldefault.odefault.rdefault.adefault._default.Adefault..default.ldefault.odefault.rdefault.adefault._default.Adefault., default.hdefault..default.4default..default.mdefault.ldefault.pdefault..default.cdefault._default.fdefault.cdefault..default.ldefault.odefault.rdefault.adefault._default.Adefault..default.ldefault.odefault.rdefault.adefault._default.Bdefault., default.hdefault..default.4default..default.mdefault.ldefault.pdefault..default.cdefault._default.fdefault.cdefault..default.ldefault.odefault.rdefault.adefault._default.Bdefault..default.ldefault.odefault.rdefault.adefault._default.Adefault., default.hdefault..default.4default..default.mdefault.ldefault.pdefault..default.cdefault._default.fdefault.cdefault..default.ldefault.odefault.rdefault.adefault._default.Bdefault..default.ldefault.odefault.rdefault.adefault._default.Bdefault., default.hdefault..default.4default..default.mdefault.ldefault.pdefault..default.cdefault._default.pdefault.rdefault.odefault.jdefault..default.ldefault.odefault.rdefault.adefault._default.Adefault..default.ldefault.odefault.rdefault.adefault._default.Adefault., default.hdefault..default.4default..default.mdefault.ldefault.pdefault..default.cdefault._default.pdefault.rdefault.odefault.jdefault..default.ldefault.odefault.rdefault.adefault._default.Adefault..default.ldefault.odefault.rdefault.adefault._default.Bdefault., default.hdefault..default.4default..default.mdefault.ldefault.pdefault..default.cdefault._default.pdefault.rdefault.odefault.jdefault..default.ldefault.odefault.rdefault.adefault._default.Bdefault..default.ldefault.odefault.rdefault.adefault._default.Adefault., default.hdefault..default.4default..default.mdefault.ldefault.pdefault..default.cdefault._default.pdefault.rdefault.odefault.jdefault..default.ldefault.odefault.rdefault.adefault._default.Bdefault..default.ldefault.odefault.rdefault.adefault._default.Bdefault., default.hdefault..default.5default..default.adefault.tdefault.tdefault.ndefault..default.cdefault._default.adefault.tdefault.tdefault.ndefault..default.ldefault.odefault.rdefault.adefault._default.Adefault..default.ldefault.odefault.rdefault.adefault._default.Adefault., default.hdefault..default.5default..default.adefault.tdefault.tdefault.ndefault..default.cdefault._default.adefault.tdefault.tdefault.ndefault..default.ldefault.odefault.rdefault.adefault._default.Adefault..default.ldefault.odefault.rdefault.adefault._default.Bdefault., default.hdefault..default.5default..default.adefault.tdefault.tdefault.ndefault..default.cdefault._default.adefault.tdefault.tdefault.ndefault..default.ldefault.odefault.rdefault.adefault._default.Bdefault..default.ldefault.odefault.rdefault.adefault._default.Adefault., default.hdefault..default.5default..default.adefault.tdefault.tdefault.ndefault..default.cdefault._default.adefault.tdefault.tdefault.ndefault..default.ldefault.odefault.rdefault.adefault._default.Bdefault..default.ldefault.odefault.rdefault.adefault._default.Bdefault., default.hdefault..default.5default..default.adefault.tdefault.tdefault.ndefault..default.cdefault._default.pdefault.rdefault.odefault.jdefault..default.ldefault.odefault.rdefault.adefault._default.Adefault..default.ldefault.odefault.rdefault.adefault._default.Adefault., default.hdefault..default.5default..default.adefault.tdefault.tdefault.ndefault..default.cdefault._default.pdefault.rdefault.odefault.jdefault..default.ldefault.odefault.rdefault.adefault._default.Adefault..default.ldefault.odefault.rdefault.adefault._default.Bdefault., default.hdefault..default.5default..default.adefault.tdefault.tdefault.ndefault..default.cdefault._default.pdefault.rdefault.odefault.jdefault..default.ldefault.odefault.rdefault.adefault._default.Bdefault..default.ldefault.odefault.rdefault.adefault._default.Adefault., default.hdefault..default.5default..default.adefault.tdefault.tdefault.ndefault..default.cdefault._default.pdefault.rdefault.odefault.jdefault..default.ldefault.odefault.rdefault.adefault._default.Bdefault..default.ldefault.odefault.rdefault.adefault._default.Bdefault., default.hdefault..default.5default..default.mdefault.ldefault.pdefault..default.cdefault._default.fdefault.cdefault..default.ldefault.odefault.rdefault.adefault._default.Adefault..default.ldefault.odefault.rdefault.adefault._default.Adefault., default.hdefault..default.5default..default.mdefault.ldefault.pdefault..default.cdefault._default.fdefault.cdefault..default.ldefault.odefault.rdefault.adefault._default.Adefault..default.ldefault.odefault.rdefault.adefault._default.Bdefault., default.hdefault..default.5default..default.mdefault.ldefault.pdefault..default.cdefault._default.fdefault.cdefault..default.ldefault.odefault.rdefault.adefault._default.Bdefault..default.ldefault.odefault.rdefault.adefault._default.Adefault., default.hdefault..default.5default..default.mdefault.ldefault.pdefault..default.cdefault._default.fdefault.cdefault..default.ldefault.odefault.rdefault.adefault._default.Bdefault..default.ldefault.odefault.rdefault.adefault._default.Bdefault., default.hdefault..default.5default..default.mdefault.ldefault.pdefault..default.cdefault._default.pdefault.rdefault.odefault.jdefault..default.ldefault.odefault.rdefault.adefault._default.Adefault..default.ldefault.odefault.rdefault.adefault._default.Adefault., default.hdefault..default.5default..default.mdefault.ldefault.pdefault..default.cdefault._default.pdefault.rdefault.odefault.jdefault..default.ldefault.odefault.rdefault.adefault._default.Adefault..default.ldefault.odefault.rdefault.adefault._default.Bdefault., default.hdefault..default.5default..default.mdefault.ldefault.pdefault..default.cdefault._default.pdefault.rdefault.odefault.jdefault..default.ldefault.odefault.rdefault.adefault._default.Bdefault..default.ldefault.odefault.rdefault.adefault._default.Adefault., default.hdefault..default.5default..default.mdefault.ldefault.pdefault..default.cdefault._default.pdefault.rdefault.odefault.jdefault..default.ldefault.odefault.rdefault.adefault._default.Bdefault..default.ldefault.odefault.rdefault.adefault._default.Bdefault., default.hdefault..default.6default..default.adefault.tdefault.tdefault.ndefault..default.cdefault._default.adefault.tdefault.tdefault.ndefault..default.ldefault.odefault.rdefault.adefault._default.Adefault..default.ldefault.odefault.rdefault.adefault._default.Adefault., default.hdefault..default.6default..default.adefault.tdefault.tdefault.ndefault..default.cdefault._default.adefault.tdefault.tdefault.ndefault..default.ldefault.odefault.rdefault.adefault._default.Adefault..default.ldefault.odefault.rdefault.adefault._default.Bdefault., default.hdefault..default.6default..default.adefault.tdefault.tdefault.ndefault..default.cdefault._default.adefault.tdefault.tdefault.ndefault..default.ldefault.odefault.rdefault.adefault._default.Bdefault..default.ldefault.odefault.rdefault.adefault._default.Adefault., default.hdefault..default.6default..default.adefault.tdefault.tdefault.ndefault..default.cdefault._default.adefault.tdefault.tdefault.ndefault..default.ldefault.odefault.rdefault.adefault._default.Bdefault..default.ldefault.odefault.rdefault.adefault._default.Bdefault., default.hdefault..default.6default..default.adefault.tdefault.tdefault.ndefault..default.cdefault._default.pdefault.rdefault.odefault.jdefault..default.ldefault.odefault.rdefault.adefault._default.Adefault..default.ldefault.odefault.rdefault.adefault._default.Adefault., default.hdefault..default.6default..default.adefault.tdefault.tdefault.ndefault..default.cdefault._default.pdefault.rdefault.odefault.jdefault..default.ldefault.odefault.rdefault.adefault._default.Adefault..default.ldefault.odefault.rdefault.adefault._default.Bdefault., default.hdefault..default.6default..default.adefault.tdefault.tdefault.ndefault..default.cdefault._default.pdefault.rdefault.odefault.jdefault..default.ldefault.odefault.rdefault.adefault._default.Bdefault..default.ldefault.odefault.rdefault.adefault._default.Adefault., default.hdefault..default.6default..default.adefault.tdefault.tdefault.ndefault..default.cdefault._default.pdefault.rdefault.odefault.jdefault..default.ldefault.odefault.rdefault.adefault._default.Bdefault..default.ldefault.odefault.rdefault.adefault._default.Bdefault., default.hdefault..default.6default..default.mdefault.ldefault.pdefault..default.cdefault._default.fdefault.cdefault..default.ldefault.odefault.rdefault.adefault._default.Adefault..default.ldefault.odefault.rdefault.adefault._default.Adefault., default.hdefault..default.6default..default.mdefault.ldefault.pdefault..default.cdefault._default.fdefault.cdefault..default.ldefault.odefault.rdefault.adefault._default.Adefault..default.ldefault.odefault.rdefault.adefault._default.Bdefault., default.hdefault..default.6default..default.mdefault.ldefault.pdefault..default.cdefault._default.fdefault.cdefault..default.ldefault.odefault.rdefault.adefault._default.Bdefault..default.ldefault.odefault.rdefault.adefault._default.Adefault., default.hdefault..default.6default..default.mdefault.ldefault.pdefault..default.cdefault._default.fdefault.cdefault..default.ldefault.odefault.rdefault.adefault._default.Bdefault..default.ldefault.odefault.rdefault.adefault._default.Bdefault., default.hdefault..default.6default..default.mdefault.ldefault.pdefault..default.cdefault._default.pdefault.rdefault.odefault.jdefault..default.ldefault.odefault.rdefault.adefault._default.Adefault..default.ldefault.odefault.rdefault.adefault._default.Adefault., default.hdefault..default.6default..default.mdefault.ldefault.pdefault..default.cdefault._default.pdefault.rdefault.odefault.jdefault..default.ldefault.odefault.rdefault.adefault._default.Adefault..default.ldefault.odefault.rdefault.adefault._default.Bdefault., default.hdefault..default.6default..default.mdefault.ldefault.pdefault..default.cdefault._default.pdefault.rdefault.odefault.jdefault..default.ldefault.odefault.rdefault.adefault._default.Bdefault..default.ldefault.odefault.rdefault.adefault._default.Adefault., default.hdefault..default.6default..default.mdefault.ldefault.pdefault..default.cdefault._default.pdefault.rdefault.odefault.jdefault..default.ldefault.odefault.rdefault.adefault._default.Bdefault..default.ldefault.odefault.rdefault.adefault._default.Bdefault., default.hdefault..default.7default..default.adefault.tdefault.tdefault.ndefault..default.cdefault._default.adefault.tdefault.tdefault.ndefault..default.ldefault.odefault.rdefault.adefault._default.Adefault..default.ldefault.odefault.rdefault.adefault._default.Adefault., default.hdefault..default.7default..default.adefault.tdefault.tdefault.ndefault..default.cdefault._default.adefault.tdefault.tdefault.ndefault..default.ldefault.odefault.rdefault.adefault._default.Adefault..default.ldefault.odefault.rdefault.adefault._default.Bdefault., default.hdefault..default.7default..default.adefault.tdefault.tdefault.ndefault..default.cdefault._default.adefault.tdefault.tdefault.ndefault..default.ldefault.odefault.rdefault.adefault._default.Bdefault..default.ldefault.odefault.rdefault.adefault._default.Adefault., default.hdefault..default.7default..default.adefault.tdefault.tdefault.ndefault..default.cdefault._default.adefault.tdefault.tdefault.ndefault..default.ldefault.odefault.rdefault.adefault._default.Bdefault..default.ldefault.odefault.rdefault.adefault._default.Bdefault., default.hdefault..default.7default..default.adefault.tdefault.tdefault.ndefault..default.cdefault._default.pdefault.rdefault.odefault.jdefault..default.ldefault.odefault.rdefault.adefault._default.Adefault..default.ldefault.odefault.rdefault.adefault._default.Adefault., default.hdefault..default.7default..default.adefault.tdefault.tdefault.ndefault..default.cdefault._default.pdefault.rdefault.odefault.jdefault..default.ldefault.odefault.rdefault.adefault._default.Adefault..default.ldefault.odefault.rdefault.adefault._default.Bdefault., default.hdefault..default.7default..default.adefault.tdefault.tdefault.ndefault..default.cdefault._default.pdefault.rdefault.odefault.jdefault..default.ldefault.odefault.rdefault.adefault._default.Bdefault..default.ldefault.odefault.rdefault.adefault._default.Adefault., default.hdefault..default.7default..default.adefault.tdefault.tdefault.ndefault..default.cdefault._default.pdefault.rdefault.odefault.jdefault..default.ldefault.odefault.rdefault.adefault._default.Bdefault..default.ldefault.odefault.rdefault.adefault._default.Bdefault., default.hdefault..default.7default..default.mdefault.ldefault.pdefault..default.cdefault._default.fdefault.cdefault..default.ldefault.odefault.rdefault.adefault._default.Adefault..default.ldefault.odefault.rdefault.adefault._default.Adefault., default.hdefault..default.7default..default.mdefault.ldefault.pdefault..default.cdefault._default.fdefault.cdefault..default.ldefault.odefault.rdefault.adefault._default.Adefault..default.ldefault.odefault.rdefault.adefault._default.Bdefault., default.hdefault..default.7default..default.mdefault.ldefault.pdefault..default.cdefault._default.fdefault.cdefault..default.ldefault.odefault.rdefault.adefault._default.Bdefault..default.ldefault.odefault.rdefault.adefault._default.Adefault., default.hdefault..default.7default..default.mdefault.ldefault.pdefault..default.cdefault._default.fdefault.cdefault..default.ldefault.odefault.rdefault.adefault._default.Bdefault..default.ldefault.odefault.rdefault.adefault._default.Bdefault., default.hdefault..default.7default..default.mdefault.ldefault.pdefault..default.cdefault._default.pdefault.rdefault.odefault.jdefault..default.ldefault.odefault.rdefault.adefault._default.Adefault..default.ldefault.odefault.rdefault.adefault._default.Adefault., default.hdefault..default.7default..default.mdefault.ldefault.pdefault..default.cdefault._default.pdefault.rdefault.odefault.jdefault..default.ldefault.odefault.rdefault.adefault._default.Adefault..default.ldefault.odefault.rdefault.adefault._default.Bdefault., default.hdefault..default.7default..default.mdefault.ldefault.pdefault..default.cdefault._default.pdefault.rdefault.odefault.jdefault..default.ldefault.odefault.rdefault.adefault._default.Bdefault..default.ldefault.odefault.rdefault.adefault._default.Adefault., default.hdefault..default.7default..default.mdefault.ldefault.pdefault..default.cdefault._default.pdefault.rdefault.odefault.jdefault..default.ldefault.odefault.rdefault.adefault._default.Bdefault..default.ldefault.odefault.rdefault.adefault._default.Bdefault., default.hdefault..default.8default..default.adefault.tdefault.tdefault.ndefault..default.cdefault._default.adefault.tdefault.tdefault.ndefault..default.ldefault.odefault.rdefault.adefault._default.Adefault..default.ldefault.odefault.rdefault.adefault._default.Adefault., default.hdefault..default.8default..default.adefault.tdefault.tdefault.ndefault..default.cdefault._default.adefault.tdefault.tdefault.ndefault..default.ldefault.odefault.rdefault.adefault._default.Adefault..default.ldefault.odefault.rdefault.adefault._default.Bdefault., default.hdefault..default.8default..default.adefault.tdefault.tdefault.ndefault..default.cdefault._default.adefault.tdefault.tdefault.ndefault..default.ldefault.odefault.rdefault.adefault._default.Bdefault..default.ldefault.odefault.rdefault.adefault._default.Adefault., default.hdefault..default.8default..default.adefault.tdefault.tdefault.ndefault..default.cdefault._default.adefault.tdefault.tdefault.ndefault..default.ldefault.odefault.rdefault.adefault._default.Bdefault..default.ldefault.odefault.rdefault.adefault._default.Bdefault., default.hdefault..default.8default..default.adefault.tdefault.tdefault.ndefault..default.cdefault._default.pdefault.rdefault.odefault.jdefault..default.ldefault.odefault.rdefault.adefault._default.Adefault..default.ldefault.odefault.rdefault.adefault._default.Adefault., default.hdefault..default.8default..default.adefault.tdefault.tdefault.ndefault..default.cdefault._default.pdefault.rdefault.odefault.jdefault..default.ldefault.odefault.rdefault.adefault._default.Adefault..default.ldefault.odefault.rdefault.adefault._default.Bdefault., default.hdefault..default.8default..default.adefault.tdefault.tdefault.ndefault..default.cdefault._default.pdefault.rdefault.odefault.jdefault..default.ldefault.odefault.rdefault.adefault._default.Bdefault..default.ldefault.odefault.rdefault.adefault._default.Adefault., default.hdefault..default.8default..default.adefault.tdefault.tdefault.ndefault..default.cdefault._default.pdefault.rdefault.odefault.jdefault..default.ldefault.odefault.rdefault.adefault._default.Bdefault..default.ldefault.odefault.rdefault.adefault._default.Bdefault., default.hdefault..default.8default..default.mdefault.ldefault.pdefault..default.cdefault._default.fdefault.cdefault..default.ldefault.odefault.rdefault.adefault._default.Adefault..default.ldefault.odefault.rdefault.adefault._default.Adefault., default.hdefault..default.8default..default.mdefault.ldefault.pdefault..default.cdefault._default.fdefault.cdefault..default.ldefault.odefault.rdefault.adefault._default.Adefault..default.ldefault.odefault.rdefault.adefault._default.Bdefault., default.hdefault..default.8default..default.mdefault.ldefault.pdefault..default.cdefault._default.fdefault.cdefault..default.ldefault.odefault.rdefault.adefault._default.Bdefault..default.ldefault.odefault.rdefault.adefault._default.Adefault., default.hdefault..default.8default..default.mdefault.ldefault.pdefault..default.cdefault._default.fdefault.cdefault..default.ldefault.odefault.rdefault.adefault._default.Bdefault..default.ldefault.odefault.rdefault.adefault._default.Bdefault., default.hdefault..default.8default..default.mdefault.ldefault.pdefault..default.cdefault._default.pdefault.rdefault.odefault.jdefault..default.ldefault.odefault.rdefault.adefault._default.Adefault..default.ldefault.odefault.rdefault.adefault._default.Adefault., default.hdefault..default.8default..default.mdefault.ldefault.pdefault..default.cdefault._default.pdefault.rdefault.odefault.jdefault..default.ldefault.odefault.rdefault.adefault._default.Adefault..default.ldefault.odefault.rdefault.adefault._default.Bdefault., default.hdefault..default.8default..default.mdefault.ldefault.pdefault..default.cdefault._default.pdefault.rdefault.odefault.jdefault..default.ldefault.odefault.rdefault.adefault._default.Bdefault..default.ldefault.odefault.rdefault.adefault._default.Adefault., default.hdefault..default.8default..default.mdefault.ldefault.pdefault..default.cdefault._default.pdefault.rdefault.odefault.jdefault..default.ldefault.odefault.rdefault.adefault._default.Bdefault..default.ldefault.odefault.rdefault.adefault._default.Bdefault., default.hdefault..default.9default..default.adefault.tdefault.tdefault.ndefault..default.cdefault._default.adefault.tdefault.tdefault.ndefault..default.ldefault.odefault.rdefault.adefault._default.Adefault..default.ldefault.odefault.rdefault.adefault._default.Adefault., default.hdefault..default.9default..default.adefault.tdefault.tdefault.ndefault..default.cdefault._default.adefault.tdefault.tdefault.ndefault..default.ldefault.odefault.rdefault.adefault._default.Adefault..default.ldefault.odefault.rdefault.adefault._default.Bdefault., default.hdefault..default.9default..default.adefault.tdefault.tdefault.ndefault..default.cdefault._default.adefault.tdefault.tdefault.ndefault..default.ldefault.odefault.rdefault.adefault._default.Bdefault..default.ldefault.odefault.rdefault.adefault._default.Adefault., default.hdefault..default.9default..default.adefault.tdefault.tdefault.ndefault..default.cdefault._default.adefault.tdefault.tdefault.ndefault..default.ldefault.odefault.rdefault.adefault._default.Bdefault..default.ldefault.odefault.rdefault.adefault._default.Bdefault., default.hdefault..default.9default..default.adefault.tdefault.tdefault.ndefault..default.cdefault._default.pdefault.rdefault.odefault.jdefault..default.ldefault.odefault.rdefault.adefault._default.Adefault..default.ldefault.odefault.rdefault.adefault._default.Adefault., default.hdefault..default.9default..default.adefault.tdefault.tdefault.ndefault..default.cdefault._default.pdefault.rdefault.odefault.jdefault..default.ldefault.odefault.rdefault.adefault._default.Adefault..default.ldefault.odefault.rdefault.adefault._default.Bdefault., default.hdefault..default.9default..default.adefault.tdefault.tdefault.ndefault..default.cdefault._default.pdefault.rdefault.odefault.jdefault..default.ldefault.odefault.rdefault.adefault._default.Bdefault..default.ldefault.odefault.rdefault.adefault._default.Adefault., default.hdefault..default.9default..default.adefault.tdefault.tdefault.ndefault..default.cdefault._default.pdefault.rdefault.odefault.jdefault..default.ldefault.odefault.rdefault.adefault._default.Bdefault..default.ldefault.odefault.rdefault.adefault._default.Bdefault., default.hdefault..default.9default..default.mdefault.ldefault.pdefault..default.cdefault._default.fdefault.cdefault..default.ldefault.odefault.rdefault.adefault._default.Adefault..default.ldefault.odefault.rdefault.adefault._default.Adefault., default.hdefault..default.9default..default.mdefault.ldefault.pdefault..default.cdefault._default.fdefault.cdefault..default.ldefault.odefault.rdefault.adefault._default.Adefault..default.ldefault.odefault.rdefault.adefault._default.Bdefault., default.hdefault..default.9default..default.mdefault.ldefault.pdefault..default.cdefault._default.fdefault.cdefault..default.ldefault.odefault.rdefault.adefault._default.Bdefault..default.ldefault.odefault.rdefault.adefault._default.Adefault., default.hdefault..default.9default..default.mdefault.ldefault.pdefault..default.cdefault._default.fdefault.cdefault..default.ldefault.odefault.rdefault.adefault._default.Bdefault..default.ldefault.odefault.rdefault.adefault._default.Bdefault., default.hdefault..default.9default..default.mdefault.ldefault.pdefault..default.cdefault._default.pdefault.rdefault.odefault.jdefault..default.ldefault.odefault.rdefault.adefault._default.Adefault..default.ldefault.odefault.rdefault.adefault._default.Adefault., default.hdefault..default.9default..default.mdefault.ldefault.pdefault..default.cdefault._default.pdefault.rdefault.odefault.jdefault..default.ldefault.odefault.rdefault.adefault._default.Adefault..default.ldefault.odefault.rdefault.adefault._default.Bdefault., default.hdefault..default.9default..default.mdefault.ldefault.pdefault..default.cdefault._default.pdefault.rdefault.odefault.jdefault..default.ldefault.odefault.rdefault.adefault._default.Bdefault..default.ldefault.odefault.rdefault.adefault._default.Adefault., default.hdefault..default.9default..default.mdefault.ldefault.pdefault..default.cdefault._default.pdefault.rdefault.odefault.jdefault..default.ldefault.odefault.rdefault.adefault._default.Bdefault..default.ldefault.odefault.rdefault.adefault._default.Bdefault.. \n"
     ]
    }
   ],
   "source": [
    "# NaiveStrategy 컨텍스트 내에서 PPO 학습에 필요한 모든 모델을 준비합니다.\n",
    "with NaiveStrategy().model_init_context():\n",
    "    # Actor: SFT 모델을 불러옵니다.\n",
    "    actor = GPTActor(pretrained=SFT_MODEL_NAME, lora_rank=16).to(torch.cuda.current_device())\n",
    "\n",
    "    # Critic: RM 모델을 불러옵니다.\n",
    "    critic = GPTCritic(pretrained=RM_MODEL_NAME, lora_rank=16).to(torch.cuda.current_device())\n",
    "\n",
    "    # Tokenizer: 이전과 동일한 설정을 사용합니다.\n",
    "    tokenizer = AutoTokenizer.from_pretrained(\n",
    "        BASE_MODEL_NAME, bos_token='</s>', eos_token='</s>', unk_token='</s>', pad_token='</s>',\n",
    "        padding_side=\"right\",\n",
    "        model_max_length=512\n",
    "    )\n",
    "\n",
    "    # Initial Model: SFT 모델을 복사하여 KL 페널티 계산에 사용합니다.\n",
    "    initial_model = deepcopy(actor)\n",
    "\n",
    "    # Reward Model: Critic 모델을 기반으로 보상 계산에 사용합니다.\n",
    "    reward_model = RewardModel(deepcopy(critic.model), deepcopy(critic.value_head)).to(torch.cuda.current_device())\n",
    "\n",
    "# Actor와 Critic을 위한 옵티마이저를 설정합니다.\n",
    "actor_optim = torch.optim.Adam(actor.parameters(), lr=5e-6)\n",
    "critic_optim = torch.optim.Adam(critic.parameters(), lr=5e-6)\n",
    "\n",
    "# Strategy를 통해 모델과 옵티마이저를 래핑합니다.\n",
    "(\n",
    "    actor, actor_optim), (critic, critic_optim), reward_model, initial_model = NaiveStrategy().prepare(\n",
    "    (actor, actor_optim), (critic, critic_optim), reward_model, initial_model)"
   ]
  },
  {
   "cell_type": "markdown",
   "id": "857a281c",
   "metadata": {},
   "source": [
    "##### **PPO 학습 데이터 준비**\n",
    "PPO 학습 단계에서는 답변이 없는 프롬프트만 필요합니다. 모델(Actor)이 프롬프트에 대한 답변을 직접 생성하고, 그 생성된 답변을 Critic이 평가하여 학습을 진행하기 때문입니다. `kochatgpt_3_PPO.jsonl` 파일을 로드합니다."
   ]
  },
  {
   "cell_type": "code",
   "execution_count": 25,
   "id": "d4a504c3",
   "metadata": {},
   "outputs": [
    {
     "name": "stdout",
     "output_type": "stream",
     "text": [
      "PPO 학습에 사용될 프롬프트 개수: 12000\n"
     ]
    }
   ],
   "source": [
    "# PPO 학습을 위한 프롬프트 데이터 로드\n",
    "with open(DATA_PATH_3_PPO, \"r\", encoding='utf-8-sig') as json_file:\n",
    "    list_data_dict = json.load(json_file)\n",
    "    list_prompt = [tmp['prompt'] for tmp in list_data_dict]\n",
    "\n",
    "# PPO Trainer 내부에서 사용할 토크나이저 함수 정의\n",
    "def tokenize_fn(texts):\n",
    "    batch = tokenizer(texts, return_tensors='pt', max_length=96, padding=True, truncation=True)\n",
    "    return {k: v.cuda() for k, v in batch.items()}\n",
    "\n",
    "print(f\"PPO 학습에 사용될 프롬프트 개수: {len(list_prompt)}\")"
   ]
  },
  {
   "cell_type": "markdown",
   "id": "da464684",
   "metadata": {},
   "source": [
    "#### 4.3.2. PPO 모델 학습"
   ]
  },
  {
   "cell_type": "markdown",
   "id": "e4119f62",
   "metadata": {},
   "source": [
    "준비된 모든 컴포넌트(Actor, Critic, 모델, 옵티마이저 등)를 `PPOTrainer`에 전달하여 학습을 준비하고, `fit` 메소드를 호출하여 PPO 학습을 시작합니다."
   ]
  },
  {
   "cell_type": "code",
   "execution_count": 26,
   "id": "0113c364",
   "metadata": {},
   "outputs": [
    {
     "data": {
      "text/html": [],
      "text/plain": [
       "<IPython.core.display.HTML object>"
      ]
     },
     "metadata": {},
     "output_type": "display_data"
    },
    {
     "data": {
      "text/html": [
       "Tracking run with wandb version 0.21.4"
      ],
      "text/plain": [
       "<IPython.core.display.HTML object>"
      ]
     },
     "metadata": {},
     "output_type": "display_data"
    },
    {
     "data": {
      "text/html": [
       "Run data is saved locally in <code>/home/jovyan/work/zxcv/wandb/run-20250919_010711-q6mmnu7d</code>"
      ],
      "text/plain": [
       "<IPython.core.display.HTML object>"
      ]
     },
     "metadata": {},
     "output_type": "display_data"
    },
    {
     "data": {
      "text/html": [
       "Syncing run <strong><a href='https://wandb.ai/beomyongchoi-university-of-colorado-boulder/kochatgpt_tuning/runs/q6mmnu7d' target=\"_blank\">ppo_100_episodes_3_epochs_v2.5</a></strong> to <a href='https://wandb.ai/beomyongchoi-university-of-colorado-boulder/kochatgpt_tuning' target=\"_blank\">Weights & Biases</a> (<a href='https://wandb.me/developer-guide' target=\"_blank\">docs</a>)<br>"
      ],
      "text/plain": [
       "<IPython.core.display.HTML object>"
      ]
     },
     "metadata": {},
     "output_type": "display_data"
    },
    {
     "data": {
      "text/html": [
       " View project at <a href='https://wandb.ai/beomyongchoi-university-of-colorado-boulder/kochatgpt_tuning' target=\"_blank\">https://wandb.ai/beomyongchoi-university-of-colorado-boulder/kochatgpt_tuning</a>"
      ],
      "text/plain": [
       "<IPython.core.display.HTML object>"
      ]
     },
     "metadata": {},
     "output_type": "display_data"
    },
    {
     "data": {
      "text/html": [
       " View run at <a href='https://wandb.ai/beomyongchoi-university-of-colorado-boulder/kochatgpt_tuning/runs/q6mmnu7d' target=\"_blank\">https://wandb.ai/beomyongchoi-university-of-colorado-boulder/kochatgpt_tuning/runs/q6mmnu7d</a>"
      ],
      "text/plain": [
       "<IPython.core.display.HTML object>"
      ]
     },
     "metadata": {},
     "output_type": "display_data"
    },
    {
     "data": {
      "application/vnd.jupyter.widget-view+json": {
       "model_id": "42a1eeb119b44bc1b2e72e95f1fdbb1e",
       "version_major": 2,
       "version_minor": 0
      },
      "text/plain": [
       "Episode [1/100]:   0%|          | 0/3 [00:00<?, ?it/s]"
      ]
     },
     "metadata": {},
     "output_type": "display_data"
    },
    {
     "data": {
      "application/vnd.jupyter.widget-view+json": {
       "model_id": "e78091269d2b4fdf903ef33e8dab497b",
       "version_major": 2,
       "version_minor": 0
      },
      "text/plain": [
       "Train epoch [1/3]:   0%|          | 0/3 [00:00<?, ?it/s]"
      ]
     },
     "metadata": {},
     "output_type": "display_data"
    },
    {
     "data": {
      "application/vnd.jupyter.widget-view+json": {
       "model_id": "511e46ec3ff547b395326c0f159cca4e",
       "version_major": 2,
       "version_minor": 0
      },
      "text/plain": [
       "Train epoch [2/3]:   0%|          | 0/3 [00:00<?, ?it/s]"
      ]
     },
     "metadata": {},
     "output_type": "display_data"
    },
    {
     "data": {
      "application/vnd.jupyter.widget-view+json": {
       "model_id": "fa155f88c005402abbf0024c605336f4",
       "version_major": 2,
       "version_minor": 0
      },
      "text/plain": [
       "Train epoch [3/3]:   0%|          | 0/3 [00:00<?, ?it/s]"
      ]
     },
     "metadata": {},
     "output_type": "display_data"
    },
    {
     "data": {
      "application/vnd.jupyter.widget-view+json": {
       "model_id": "cb7b664d179a4335888dbbea96e28c4c",
       "version_major": 2,
       "version_minor": 0
      },
      "text/plain": [
       "Episode [2/100]:   0%|          | 0/3 [00:00<?, ?it/s]"
      ]
     },
     "metadata": {},
     "output_type": "display_data"
    },
    {
     "data": {
      "application/vnd.jupyter.widget-view+json": {
       "model_id": "8302b0f264bd47b1a6613a5abefe6ce3",
       "version_major": 2,
       "version_minor": 0
      },
      "text/plain": [
       "Train epoch [1/3]:   0%|          | 0/3 [00:00<?, ?it/s]"
      ]
     },
     "metadata": {},
     "output_type": "display_data"
    },
    {
     "data": {
      "application/vnd.jupyter.widget-view+json": {
       "model_id": "4a0a53193acc42db89c343a666214d5b",
       "version_major": 2,
       "version_minor": 0
      },
      "text/plain": [
       "Train epoch [2/3]:   0%|          | 0/3 [00:00<?, ?it/s]"
      ]
     },
     "metadata": {},
     "output_type": "display_data"
    },
    {
     "data": {
      "application/vnd.jupyter.widget-view+json": {
       "model_id": "4d0e8f486c1b4205a41e194e47423214",
       "version_major": 2,
       "version_minor": 0
      },
      "text/plain": [
       "Train epoch [3/3]:   0%|          | 0/3 [00:00<?, ?it/s]"
      ]
     },
     "metadata": {},
     "output_type": "display_data"
    },
    {
     "data": {
      "application/vnd.jupyter.widget-view+json": {
       "model_id": "b8721e16eb2a426a930d9d06ffebd7e1",
       "version_major": 2,
       "version_minor": 0
      },
      "text/plain": [
       "Episode [3/100]:   0%|          | 0/3 [00:00<?, ?it/s]"
      ]
     },
     "metadata": {},
     "output_type": "display_data"
    },
    {
     "data": {
      "application/vnd.jupyter.widget-view+json": {
       "model_id": "ae255343029e4968bd328209ea6f9839",
       "version_major": 2,
       "version_minor": 0
      },
      "text/plain": [
       "Train epoch [1/3]:   0%|          | 0/3 [00:00<?, ?it/s]"
      ]
     },
     "metadata": {},
     "output_type": "display_data"
    },
    {
     "data": {
      "application/vnd.jupyter.widget-view+json": {
       "model_id": "f747a3cab01d47f89b91544e7c531120",
       "version_major": 2,
       "version_minor": 0
      },
      "text/plain": [
       "Train epoch [2/3]:   0%|          | 0/3 [00:00<?, ?it/s]"
      ]
     },
     "metadata": {},
     "output_type": "display_data"
    },
    {
     "data": {
      "application/vnd.jupyter.widget-view+json": {
       "model_id": "13976427b52b4446927a71627d1a44a3",
       "version_major": 2,
       "version_minor": 0
      },
      "text/plain": [
       "Train epoch [3/3]:   0%|          | 0/3 [00:00<?, ?it/s]"
      ]
     },
     "metadata": {},
     "output_type": "display_data"
    },
    {
     "data": {
      "application/vnd.jupyter.widget-view+json": {
       "model_id": "0f972ea3369843658923339a6a3fafc9",
       "version_major": 2,
       "version_minor": 0
      },
      "text/plain": [
       "Episode [4/100]:   0%|          | 0/3 [00:00<?, ?it/s]"
      ]
     },
     "metadata": {},
     "output_type": "display_data"
    },
    {
     "data": {
      "application/vnd.jupyter.widget-view+json": {
       "model_id": "8fccdb0fb54647d2b162439ee803d783",
       "version_major": 2,
       "version_minor": 0
      },
      "text/plain": [
       "Train epoch [1/3]:   0%|          | 0/3 [00:00<?, ?it/s]"
      ]
     },
     "metadata": {},
     "output_type": "display_data"
    },
    {
     "data": {
      "application/vnd.jupyter.widget-view+json": {
       "model_id": "ae859e1337cf450c956c27b9445e2c44",
       "version_major": 2,
       "version_minor": 0
      },
      "text/plain": [
       "Train epoch [2/3]:   0%|          | 0/3 [00:00<?, ?it/s]"
      ]
     },
     "metadata": {},
     "output_type": "display_data"
    },
    {
     "data": {
      "application/vnd.jupyter.widget-view+json": {
       "model_id": "0ff4abdcb2bb43469060f33faf7fb566",
       "version_major": 2,
       "version_minor": 0
      },
      "text/plain": [
       "Train epoch [3/3]:   0%|          | 0/3 [00:00<?, ?it/s]"
      ]
     },
     "metadata": {},
     "output_type": "display_data"
    },
    {
     "data": {
      "application/vnd.jupyter.widget-view+json": {
       "model_id": "a85e688e4dc54948bbe0b408778ee250",
       "version_major": 2,
       "version_minor": 0
      },
      "text/plain": [
       "Episode [5/100]:   0%|          | 0/3 [00:00<?, ?it/s]"
      ]
     },
     "metadata": {},
     "output_type": "display_data"
    },
    {
     "data": {
      "application/vnd.jupyter.widget-view+json": {
       "model_id": "703279fb3f654af4b318507c8a1c7984",
       "version_major": 2,
       "version_minor": 0
      },
      "text/plain": [
       "Train epoch [1/3]:   0%|          | 0/3 [00:00<?, ?it/s]"
      ]
     },
     "metadata": {},
     "output_type": "display_data"
    },
    {
     "data": {
      "application/vnd.jupyter.widget-view+json": {
       "model_id": "915e166d1db24f709c683940e0179aa6",
       "version_major": 2,
       "version_minor": 0
      },
      "text/plain": [
       "Train epoch [2/3]:   0%|          | 0/3 [00:00<?, ?it/s]"
      ]
     },
     "metadata": {},
     "output_type": "display_data"
    },
    {
     "data": {
      "application/vnd.jupyter.widget-view+json": {
       "model_id": "8629a8562b784e00a98ded056e90745e",
       "version_major": 2,
       "version_minor": 0
      },
      "text/plain": [
       "Train epoch [3/3]:   0%|          | 0/3 [00:00<?, ?it/s]"
      ]
     },
     "metadata": {},
     "output_type": "display_data"
    },
    {
     "data": {
      "application/vnd.jupyter.widget-view+json": {
       "model_id": "35e1efaa11e044ab97c9182931b7c891",
       "version_major": 2,
       "version_minor": 0
      },
      "text/plain": [
       "Episode [6/100]:   0%|          | 0/3 [00:00<?, ?it/s]"
      ]
     },
     "metadata": {},
     "output_type": "display_data"
    },
    {
     "data": {
      "application/vnd.jupyter.widget-view+json": {
       "model_id": "faf547916def41edb55e97f584715fb8",
       "version_major": 2,
       "version_minor": 0
      },
      "text/plain": [
       "Train epoch [1/3]:   0%|          | 0/3 [00:00<?, ?it/s]"
      ]
     },
     "metadata": {},
     "output_type": "display_data"
    },
    {
     "data": {
      "application/vnd.jupyter.widget-view+json": {
       "model_id": "5f08db4f2dbf40d49d169f34415efb6c",
       "version_major": 2,
       "version_minor": 0
      },
      "text/plain": [
       "Train epoch [2/3]:   0%|          | 0/3 [00:00<?, ?it/s]"
      ]
     },
     "metadata": {},
     "output_type": "display_data"
    },
    {
     "data": {
      "application/vnd.jupyter.widget-view+json": {
       "model_id": "0fa47da1c1a345d6a71dce2545562f1c",
       "version_major": 2,
       "version_minor": 0
      },
      "text/plain": [
       "Train epoch [3/3]:   0%|          | 0/3 [00:00<?, ?it/s]"
      ]
     },
     "metadata": {},
     "output_type": "display_data"
    },
    {
     "data": {
      "application/vnd.jupyter.widget-view+json": {
       "model_id": "2459e5acdf424117b2385ac1648b9475",
       "version_major": 2,
       "version_minor": 0
      },
      "text/plain": [
       "Episode [7/100]:   0%|          | 0/3 [00:00<?, ?it/s]"
      ]
     },
     "metadata": {},
     "output_type": "display_data"
    },
    {
     "data": {
      "application/vnd.jupyter.widget-view+json": {
       "model_id": "353920108a514c37be18e47bcffb6abd",
       "version_major": 2,
       "version_minor": 0
      },
      "text/plain": [
       "Train epoch [1/3]:   0%|          | 0/3 [00:00<?, ?it/s]"
      ]
     },
     "metadata": {},
     "output_type": "display_data"
    },
    {
     "data": {
      "application/vnd.jupyter.widget-view+json": {
       "model_id": "7e8bd51fcc66476c92d98095c08e780a",
       "version_major": 2,
       "version_minor": 0
      },
      "text/plain": [
       "Train epoch [2/3]:   0%|          | 0/3 [00:00<?, ?it/s]"
      ]
     },
     "metadata": {},
     "output_type": "display_data"
    },
    {
     "data": {
      "application/vnd.jupyter.widget-view+json": {
       "model_id": "dc34568d8f3d4a0bb2c65157db503cd1",
       "version_major": 2,
       "version_minor": 0
      },
      "text/plain": [
       "Train epoch [3/3]:   0%|          | 0/3 [00:00<?, ?it/s]"
      ]
     },
     "metadata": {},
     "output_type": "display_data"
    },
    {
     "data": {
      "application/vnd.jupyter.widget-view+json": {
       "model_id": "9832bf9d4a944e72a981494f88246897",
       "version_major": 2,
       "version_minor": 0
      },
      "text/plain": [
       "Episode [8/100]:   0%|          | 0/3 [00:00<?, ?it/s]"
      ]
     },
     "metadata": {},
     "output_type": "display_data"
    },
    {
     "data": {
      "application/vnd.jupyter.widget-view+json": {
       "model_id": "ff95317d949d4cd7932c6410ac70436b",
       "version_major": 2,
       "version_minor": 0
      },
      "text/plain": [
       "Train epoch [1/3]:   0%|          | 0/3 [00:00<?, ?it/s]"
      ]
     },
     "metadata": {},
     "output_type": "display_data"
    },
    {
     "data": {
      "application/vnd.jupyter.widget-view+json": {
       "model_id": "e7de0483380a47c5ad4d7e42f3d61454",
       "version_major": 2,
       "version_minor": 0
      },
      "text/plain": [
       "Train epoch [2/3]:   0%|          | 0/3 [00:00<?, ?it/s]"
      ]
     },
     "metadata": {},
     "output_type": "display_data"
    },
    {
     "data": {
      "application/vnd.jupyter.widget-view+json": {
       "model_id": "6b2e593fb1a2408aa4d8a6d4f4f2c1cf",
       "version_major": 2,
       "version_minor": 0
      },
      "text/plain": [
       "Train epoch [3/3]:   0%|          | 0/3 [00:00<?, ?it/s]"
      ]
     },
     "metadata": {},
     "output_type": "display_data"
    },
    {
     "data": {
      "application/vnd.jupyter.widget-view+json": {
       "model_id": "11894e4d788a4303a3e360b3d242aae4",
       "version_major": 2,
       "version_minor": 0
      },
      "text/plain": [
       "Episode [9/100]:   0%|          | 0/3 [00:00<?, ?it/s]"
      ]
     },
     "metadata": {},
     "output_type": "display_data"
    },
    {
     "data": {
      "application/vnd.jupyter.widget-view+json": {
       "model_id": "56cbfb869c164376a6e0c7b35ca7d10d",
       "version_major": 2,
       "version_minor": 0
      },
      "text/plain": [
       "Train epoch [1/3]:   0%|          | 0/3 [00:00<?, ?it/s]"
      ]
     },
     "metadata": {},
     "output_type": "display_data"
    },
    {
     "data": {
      "application/vnd.jupyter.widget-view+json": {
       "model_id": "4b4e8a1d9b3e41e59e0caf80380e7edd",
       "version_major": 2,
       "version_minor": 0
      },
      "text/plain": [
       "Train epoch [2/3]:   0%|          | 0/3 [00:00<?, ?it/s]"
      ]
     },
     "metadata": {},
     "output_type": "display_data"
    },
    {
     "data": {
      "application/vnd.jupyter.widget-view+json": {
       "model_id": "345ed60409f84cfc9a7ecac0b96e2467",
       "version_major": 2,
       "version_minor": 0
      },
      "text/plain": [
       "Train epoch [3/3]:   0%|          | 0/3 [00:00<?, ?it/s]"
      ]
     },
     "metadata": {},
     "output_type": "display_data"
    },
    {
     "data": {
      "application/vnd.jupyter.widget-view+json": {
       "model_id": "16ce80aca94e44fcaab91db900bd6c02",
       "version_major": 2,
       "version_minor": 0
      },
      "text/plain": [
       "Episode [10/100]:   0%|          | 0/3 [00:00<?, ?it/s]"
      ]
     },
     "metadata": {},
     "output_type": "display_data"
    },
    {
     "data": {
      "application/vnd.jupyter.widget-view+json": {
       "model_id": "cbcb89db6f834a0ca596bc71b3fdd19f",
       "version_major": 2,
       "version_minor": 0
      },
      "text/plain": [
       "Train epoch [1/3]:   0%|          | 0/3 [00:00<?, ?it/s]"
      ]
     },
     "metadata": {},
     "output_type": "display_data"
    },
    {
     "data": {
      "application/vnd.jupyter.widget-view+json": {
       "model_id": "cab94179a14b4456b17ed99bc06cc9f2",
       "version_major": 2,
       "version_minor": 0
      },
      "text/plain": [
       "Train epoch [2/3]:   0%|          | 0/3 [00:00<?, ?it/s]"
      ]
     },
     "metadata": {},
     "output_type": "display_data"
    },
    {
     "data": {
      "application/vnd.jupyter.widget-view+json": {
       "model_id": "0c09ee5208f744ff99f18e58f3be6999",
       "version_major": 2,
       "version_minor": 0
      },
      "text/plain": [
       "Train epoch [3/3]:   0%|          | 0/3 [00:00<?, ?it/s]"
      ]
     },
     "metadata": {},
     "output_type": "display_data"
    },
    {
     "data": {
      "application/vnd.jupyter.widget-view+json": {
       "model_id": "39585e587d8b48378ebe1874baa9aed0",
       "version_major": 2,
       "version_minor": 0
      },
      "text/plain": [
       "Episode [11/100]:   0%|          | 0/3 [00:00<?, ?it/s]"
      ]
     },
     "metadata": {},
     "output_type": "display_data"
    },
    {
     "data": {
      "application/vnd.jupyter.widget-view+json": {
       "model_id": "041cbe4eff6a43b1b0721826f0229ce0",
       "version_major": 2,
       "version_minor": 0
      },
      "text/plain": [
       "Train epoch [1/3]:   0%|          | 0/3 [00:00<?, ?it/s]"
      ]
     },
     "metadata": {},
     "output_type": "display_data"
    },
    {
     "data": {
      "application/vnd.jupyter.widget-view+json": {
       "model_id": "8c7006b4cb3c4e5986b9f8630978867c",
       "version_major": 2,
       "version_minor": 0
      },
      "text/plain": [
       "Train epoch [2/3]:   0%|          | 0/3 [00:00<?, ?it/s]"
      ]
     },
     "metadata": {},
     "output_type": "display_data"
    },
    {
     "data": {
      "application/vnd.jupyter.widget-view+json": {
       "model_id": "981821875f844b33b17560ff9b25b148",
       "version_major": 2,
       "version_minor": 0
      },
      "text/plain": [
       "Train epoch [3/3]:   0%|          | 0/3 [00:00<?, ?it/s]"
      ]
     },
     "metadata": {},
     "output_type": "display_data"
    },
    {
     "data": {
      "application/vnd.jupyter.widget-view+json": {
       "model_id": "78c6ebaa33594f99a5949ec5a3dd7cfd",
       "version_major": 2,
       "version_minor": 0
      },
      "text/plain": [
       "Episode [12/100]:   0%|          | 0/3 [00:00<?, ?it/s]"
      ]
     },
     "metadata": {},
     "output_type": "display_data"
    },
    {
     "data": {
      "application/vnd.jupyter.widget-view+json": {
       "model_id": "55b8417254e64608a71e733b7aae23db",
       "version_major": 2,
       "version_minor": 0
      },
      "text/plain": [
       "Train epoch [1/3]:   0%|          | 0/3 [00:00<?, ?it/s]"
      ]
     },
     "metadata": {},
     "output_type": "display_data"
    },
    {
     "data": {
      "application/vnd.jupyter.widget-view+json": {
       "model_id": "457709aa84e2435bb8de6eb09e7bf693",
       "version_major": 2,
       "version_minor": 0
      },
      "text/plain": [
       "Train epoch [2/3]:   0%|          | 0/3 [00:00<?, ?it/s]"
      ]
     },
     "metadata": {},
     "output_type": "display_data"
    },
    {
     "data": {
      "application/vnd.jupyter.widget-view+json": {
       "model_id": "0fd81b9d73114c6f961f557d392d0f35",
       "version_major": 2,
       "version_minor": 0
      },
      "text/plain": [
       "Train epoch [3/3]:   0%|          | 0/3 [00:00<?, ?it/s]"
      ]
     },
     "metadata": {},
     "output_type": "display_data"
    },
    {
     "data": {
      "application/vnd.jupyter.widget-view+json": {
       "model_id": "24a374996b0d490abc4c1c4cec3cf2ba",
       "version_major": 2,
       "version_minor": 0
      },
      "text/plain": [
       "Episode [13/100]:   0%|          | 0/3 [00:00<?, ?it/s]"
      ]
     },
     "metadata": {},
     "output_type": "display_data"
    },
    {
     "data": {
      "application/vnd.jupyter.widget-view+json": {
       "model_id": "1226566580254a979d493f75d813f2d5",
       "version_major": 2,
       "version_minor": 0
      },
      "text/plain": [
       "Train epoch [1/3]:   0%|          | 0/3 [00:00<?, ?it/s]"
      ]
     },
     "metadata": {},
     "output_type": "display_data"
    },
    {
     "data": {
      "application/vnd.jupyter.widget-view+json": {
       "model_id": "4ae098d5943a41619ddfe43faabe03c6",
       "version_major": 2,
       "version_minor": 0
      },
      "text/plain": [
       "Train epoch [2/3]:   0%|          | 0/3 [00:00<?, ?it/s]"
      ]
     },
     "metadata": {},
     "output_type": "display_data"
    },
    {
     "data": {
      "application/vnd.jupyter.widget-view+json": {
       "model_id": "23abb235a1e545cda096aeec9b182e7b",
       "version_major": 2,
       "version_minor": 0
      },
      "text/plain": [
       "Train epoch [3/3]:   0%|          | 0/3 [00:00<?, ?it/s]"
      ]
     },
     "metadata": {},
     "output_type": "display_data"
    },
    {
     "data": {
      "application/vnd.jupyter.widget-view+json": {
       "model_id": "8da9cb3d689242f59948cb8210443c05",
       "version_major": 2,
       "version_minor": 0
      },
      "text/plain": [
       "Episode [14/100]:   0%|          | 0/3 [00:00<?, ?it/s]"
      ]
     },
     "metadata": {},
     "output_type": "display_data"
    },
    {
     "data": {
      "application/vnd.jupyter.widget-view+json": {
       "model_id": "1ab50c921b0b48a8a94391b6db6802e0",
       "version_major": 2,
       "version_minor": 0
      },
      "text/plain": [
       "Train epoch [1/3]:   0%|          | 0/3 [00:00<?, ?it/s]"
      ]
     },
     "metadata": {},
     "output_type": "display_data"
    },
    {
     "data": {
      "application/vnd.jupyter.widget-view+json": {
       "model_id": "456b3ef8eb894e5790dd6669af333846",
       "version_major": 2,
       "version_minor": 0
      },
      "text/plain": [
       "Train epoch [2/3]:   0%|          | 0/3 [00:00<?, ?it/s]"
      ]
     },
     "metadata": {},
     "output_type": "display_data"
    },
    {
     "data": {
      "application/vnd.jupyter.widget-view+json": {
       "model_id": "0c7c84ee24914a1688dbbddff507d43d",
       "version_major": 2,
       "version_minor": 0
      },
      "text/plain": [
       "Train epoch [3/3]:   0%|          | 0/3 [00:00<?, ?it/s]"
      ]
     },
     "metadata": {},
     "output_type": "display_data"
    },
    {
     "data": {
      "application/vnd.jupyter.widget-view+json": {
       "model_id": "724d8ca77a6a4f68aef2198bd2c67ef5",
       "version_major": 2,
       "version_minor": 0
      },
      "text/plain": [
       "Episode [15/100]:   0%|          | 0/3 [00:00<?, ?it/s]"
      ]
     },
     "metadata": {},
     "output_type": "display_data"
    },
    {
     "data": {
      "application/vnd.jupyter.widget-view+json": {
       "model_id": "79acb04d856741c9b0eca1e1613dedf9",
       "version_major": 2,
       "version_minor": 0
      },
      "text/plain": [
       "Train epoch [1/3]:   0%|          | 0/3 [00:00<?, ?it/s]"
      ]
     },
     "metadata": {},
     "output_type": "display_data"
    },
    {
     "data": {
      "application/vnd.jupyter.widget-view+json": {
       "model_id": "4aa29cc65d4542ff8c068638574013d0",
       "version_major": 2,
       "version_minor": 0
      },
      "text/plain": [
       "Train epoch [2/3]:   0%|          | 0/3 [00:00<?, ?it/s]"
      ]
     },
     "metadata": {},
     "output_type": "display_data"
    },
    {
     "data": {
      "application/vnd.jupyter.widget-view+json": {
       "model_id": "1564da14e8d74af5a1681f8537277bc7",
       "version_major": 2,
       "version_minor": 0
      },
      "text/plain": [
       "Train epoch [3/3]:   0%|          | 0/3 [00:00<?, ?it/s]"
      ]
     },
     "metadata": {},
     "output_type": "display_data"
    },
    {
     "data": {
      "application/vnd.jupyter.widget-view+json": {
       "model_id": "c489f195a8514f258b2da4fa78296082",
       "version_major": 2,
       "version_minor": 0
      },
      "text/plain": [
       "Episode [16/100]:   0%|          | 0/3 [00:00<?, ?it/s]"
      ]
     },
     "metadata": {},
     "output_type": "display_data"
    },
    {
     "data": {
      "application/vnd.jupyter.widget-view+json": {
       "model_id": "69236e0b580d476982722ac9aca308fa",
       "version_major": 2,
       "version_minor": 0
      },
      "text/plain": [
       "Train epoch [1/3]:   0%|          | 0/3 [00:00<?, ?it/s]"
      ]
     },
     "metadata": {},
     "output_type": "display_data"
    },
    {
     "data": {
      "application/vnd.jupyter.widget-view+json": {
       "model_id": "2574b372ab304b948a8c8b0d29c2b5d7",
       "version_major": 2,
       "version_minor": 0
      },
      "text/plain": [
       "Train epoch [2/3]:   0%|          | 0/3 [00:00<?, ?it/s]"
      ]
     },
     "metadata": {},
     "output_type": "display_data"
    },
    {
     "data": {
      "application/vnd.jupyter.widget-view+json": {
       "model_id": "11d738e39fef432ab6a54bd3814ceaa7",
       "version_major": 2,
       "version_minor": 0
      },
      "text/plain": [
       "Train epoch [3/3]:   0%|          | 0/3 [00:00<?, ?it/s]"
      ]
     },
     "metadata": {},
     "output_type": "display_data"
    },
    {
     "data": {
      "application/vnd.jupyter.widget-view+json": {
       "model_id": "47db4a44c267472e87e6b7aa5a439e94",
       "version_major": 2,
       "version_minor": 0
      },
      "text/plain": [
       "Episode [17/100]:   0%|          | 0/3 [00:00<?, ?it/s]"
      ]
     },
     "metadata": {},
     "output_type": "display_data"
    },
    {
     "data": {
      "application/vnd.jupyter.widget-view+json": {
       "model_id": "370b2ebfe22948e1ba43284c90c385b8",
       "version_major": 2,
       "version_minor": 0
      },
      "text/plain": [
       "Train epoch [1/3]:   0%|          | 0/3 [00:00<?, ?it/s]"
      ]
     },
     "metadata": {},
     "output_type": "display_data"
    },
    {
     "data": {
      "application/vnd.jupyter.widget-view+json": {
       "model_id": "463f7860df95437c814c54bcc02be504",
       "version_major": 2,
       "version_minor": 0
      },
      "text/plain": [
       "Train epoch [2/3]:   0%|          | 0/3 [00:00<?, ?it/s]"
      ]
     },
     "metadata": {},
     "output_type": "display_data"
    },
    {
     "data": {
      "application/vnd.jupyter.widget-view+json": {
       "model_id": "25823a13e5c34ae799ff69fda394bd39",
       "version_major": 2,
       "version_minor": 0
      },
      "text/plain": [
       "Train epoch [3/3]:   0%|          | 0/3 [00:00<?, ?it/s]"
      ]
     },
     "metadata": {},
     "output_type": "display_data"
    },
    {
     "data": {
      "application/vnd.jupyter.widget-view+json": {
       "model_id": "7d8832b1feb3401382c3139ed1238878",
       "version_major": 2,
       "version_minor": 0
      },
      "text/plain": [
       "Episode [18/100]:   0%|          | 0/3 [00:00<?, ?it/s]"
      ]
     },
     "metadata": {},
     "output_type": "display_data"
    },
    {
     "data": {
      "application/vnd.jupyter.widget-view+json": {
       "model_id": "17717336ef1c42dea6bad44be9fa2c77",
       "version_major": 2,
       "version_minor": 0
      },
      "text/plain": [
       "Train epoch [1/3]:   0%|          | 0/3 [00:00<?, ?it/s]"
      ]
     },
     "metadata": {},
     "output_type": "display_data"
    },
    {
     "data": {
      "application/vnd.jupyter.widget-view+json": {
       "model_id": "9957165d7e944aeb8b420ecfc9332352",
       "version_major": 2,
       "version_minor": 0
      },
      "text/plain": [
       "Train epoch [2/3]:   0%|          | 0/3 [00:00<?, ?it/s]"
      ]
     },
     "metadata": {},
     "output_type": "display_data"
    },
    {
     "data": {
      "application/vnd.jupyter.widget-view+json": {
       "model_id": "1a5137432e304b4a9476dc884ded9e35",
       "version_major": 2,
       "version_minor": 0
      },
      "text/plain": [
       "Train epoch [3/3]:   0%|          | 0/3 [00:00<?, ?it/s]"
      ]
     },
     "metadata": {},
     "output_type": "display_data"
    },
    {
     "data": {
      "application/vnd.jupyter.widget-view+json": {
       "model_id": "dfd79224b2014448ac3aa64050f00910",
       "version_major": 2,
       "version_minor": 0
      },
      "text/plain": [
       "Episode [19/100]:   0%|          | 0/3 [00:00<?, ?it/s]"
      ]
     },
     "metadata": {},
     "output_type": "display_data"
    },
    {
     "data": {
      "application/vnd.jupyter.widget-view+json": {
       "model_id": "ac01f9ebc44942d8a03cc2e9a319e9fb",
       "version_major": 2,
       "version_minor": 0
      },
      "text/plain": [
       "Train epoch [1/3]:   0%|          | 0/3 [00:00<?, ?it/s]"
      ]
     },
     "metadata": {},
     "output_type": "display_data"
    },
    {
     "data": {
      "application/vnd.jupyter.widget-view+json": {
       "model_id": "f0b0b29d81bf460e966585dbcf0b935b",
       "version_major": 2,
       "version_minor": 0
      },
      "text/plain": [
       "Train epoch [2/3]:   0%|          | 0/3 [00:00<?, ?it/s]"
      ]
     },
     "metadata": {},
     "output_type": "display_data"
    },
    {
     "data": {
      "application/vnd.jupyter.widget-view+json": {
       "model_id": "08a449a05dd1429e8a2d68ea5da31097",
       "version_major": 2,
       "version_minor": 0
      },
      "text/plain": [
       "Train epoch [3/3]:   0%|          | 0/3 [00:00<?, ?it/s]"
      ]
     },
     "metadata": {},
     "output_type": "display_data"
    },
    {
     "data": {
      "application/vnd.jupyter.widget-view+json": {
       "model_id": "b57520863bfa45da8112dc2bfaa9c94c",
       "version_major": 2,
       "version_minor": 0
      },
      "text/plain": [
       "Episode [20/100]:   0%|          | 0/3 [00:00<?, ?it/s]"
      ]
     },
     "metadata": {},
     "output_type": "display_data"
    },
    {
     "data": {
      "application/vnd.jupyter.widget-view+json": {
       "model_id": "b128538c06044d72b2ba1636d45d47b7",
       "version_major": 2,
       "version_minor": 0
      },
      "text/plain": [
       "Train epoch [1/3]:   0%|          | 0/3 [00:00<?, ?it/s]"
      ]
     },
     "metadata": {},
     "output_type": "display_data"
    },
    {
     "data": {
      "application/vnd.jupyter.widget-view+json": {
       "model_id": "93f6e7632faf44b8a1c33a357be2ccad",
       "version_major": 2,
       "version_minor": 0
      },
      "text/plain": [
       "Train epoch [2/3]:   0%|          | 0/3 [00:00<?, ?it/s]"
      ]
     },
     "metadata": {},
     "output_type": "display_data"
    },
    {
     "data": {
      "application/vnd.jupyter.widget-view+json": {
       "model_id": "08bed1d8b2424c1abda3a3880dd8da62",
       "version_major": 2,
       "version_minor": 0
      },
      "text/plain": [
       "Train epoch [3/3]:   0%|          | 0/3 [00:00<?, ?it/s]"
      ]
     },
     "metadata": {},
     "output_type": "display_data"
    },
    {
     "data": {
      "application/vnd.jupyter.widget-view+json": {
       "model_id": "4759478e86744cc6a8ad40a9ef413206",
       "version_major": 2,
       "version_minor": 0
      },
      "text/plain": [
       "Episode [21/100]:   0%|          | 0/3 [00:00<?, ?it/s]"
      ]
     },
     "metadata": {},
     "output_type": "display_data"
    },
    {
     "data": {
      "application/vnd.jupyter.widget-view+json": {
       "model_id": "c436186c67d44b2285f0ba2421364906",
       "version_major": 2,
       "version_minor": 0
      },
      "text/plain": [
       "Train epoch [1/3]:   0%|          | 0/3 [00:00<?, ?it/s]"
      ]
     },
     "metadata": {},
     "output_type": "display_data"
    },
    {
     "data": {
      "application/vnd.jupyter.widget-view+json": {
       "model_id": "cbd5d74b31a640ff8fae7f4c07bdd6fe",
       "version_major": 2,
       "version_minor": 0
      },
      "text/plain": [
       "Train epoch [2/3]:   0%|          | 0/3 [00:00<?, ?it/s]"
      ]
     },
     "metadata": {},
     "output_type": "display_data"
    },
    {
     "data": {
      "application/vnd.jupyter.widget-view+json": {
       "model_id": "50e796cf653a49ee9886d531a0f28c49",
       "version_major": 2,
       "version_minor": 0
      },
      "text/plain": [
       "Train epoch [3/3]:   0%|          | 0/3 [00:00<?, ?it/s]"
      ]
     },
     "metadata": {},
     "output_type": "display_data"
    },
    {
     "data": {
      "application/vnd.jupyter.widget-view+json": {
       "model_id": "3f3ff7b1e6a84ae9a25cc7d30b8c5712",
       "version_major": 2,
       "version_minor": 0
      },
      "text/plain": [
       "Episode [22/100]:   0%|          | 0/3 [00:00<?, ?it/s]"
      ]
     },
     "metadata": {},
     "output_type": "display_data"
    },
    {
     "data": {
      "application/vnd.jupyter.widget-view+json": {
       "model_id": "2a6912eac3c94ca3b09efacecf0ccc47",
       "version_major": 2,
       "version_minor": 0
      },
      "text/plain": [
       "Train epoch [1/3]:   0%|          | 0/3 [00:00<?, ?it/s]"
      ]
     },
     "metadata": {},
     "output_type": "display_data"
    },
    {
     "data": {
      "application/vnd.jupyter.widget-view+json": {
       "model_id": "f3dd7f00a810404385a1994ea04ad591",
       "version_major": 2,
       "version_minor": 0
      },
      "text/plain": [
       "Train epoch [2/3]:   0%|          | 0/3 [00:00<?, ?it/s]"
      ]
     },
     "metadata": {},
     "output_type": "display_data"
    },
    {
     "data": {
      "application/vnd.jupyter.widget-view+json": {
       "model_id": "393954a56fb140759d62dcc1fc20b209",
       "version_major": 2,
       "version_minor": 0
      },
      "text/plain": [
       "Train epoch [3/3]:   0%|          | 0/3 [00:00<?, ?it/s]"
      ]
     },
     "metadata": {},
     "output_type": "display_data"
    },
    {
     "data": {
      "application/vnd.jupyter.widget-view+json": {
       "model_id": "04d71e56714c41cbb0cfa3c7719ae0fd",
       "version_major": 2,
       "version_minor": 0
      },
      "text/plain": [
       "Episode [23/100]:   0%|          | 0/3 [00:00<?, ?it/s]"
      ]
     },
     "metadata": {},
     "output_type": "display_data"
    },
    {
     "data": {
      "application/vnd.jupyter.widget-view+json": {
       "model_id": "f28bcac90a134429ae32b238f7ec66e6",
       "version_major": 2,
       "version_minor": 0
      },
      "text/plain": [
       "Train epoch [1/3]:   0%|          | 0/3 [00:00<?, ?it/s]"
      ]
     },
     "metadata": {},
     "output_type": "display_data"
    },
    {
     "data": {
      "application/vnd.jupyter.widget-view+json": {
       "model_id": "c1ee0b8eba444ffa8bd6282cd02b6668",
       "version_major": 2,
       "version_minor": 0
      },
      "text/plain": [
       "Train epoch [2/3]:   0%|          | 0/3 [00:00<?, ?it/s]"
      ]
     },
     "metadata": {},
     "output_type": "display_data"
    },
    {
     "data": {
      "application/vnd.jupyter.widget-view+json": {
       "model_id": "848dc155202c49ee9086b3308d12e91b",
       "version_major": 2,
       "version_minor": 0
      },
      "text/plain": [
       "Train epoch [3/3]:   0%|          | 0/3 [00:00<?, ?it/s]"
      ]
     },
     "metadata": {},
     "output_type": "display_data"
    },
    {
     "data": {
      "application/vnd.jupyter.widget-view+json": {
       "model_id": "bf078723f0314bba814a1d0a0d99e9a9",
       "version_major": 2,
       "version_minor": 0
      },
      "text/plain": [
       "Episode [24/100]:   0%|          | 0/3 [00:00<?, ?it/s]"
      ]
     },
     "metadata": {},
     "output_type": "display_data"
    },
    {
     "data": {
      "application/vnd.jupyter.widget-view+json": {
       "model_id": "64fbc7a7c6334079a539ce7813805582",
       "version_major": 2,
       "version_minor": 0
      },
      "text/plain": [
       "Train epoch [1/3]:   0%|          | 0/3 [00:00<?, ?it/s]"
      ]
     },
     "metadata": {},
     "output_type": "display_data"
    },
    {
     "data": {
      "application/vnd.jupyter.widget-view+json": {
       "model_id": "08ec6a1215374758ba7af1a32ca4d973",
       "version_major": 2,
       "version_minor": 0
      },
      "text/plain": [
       "Train epoch [2/3]:   0%|          | 0/3 [00:00<?, ?it/s]"
      ]
     },
     "metadata": {},
     "output_type": "display_data"
    },
    {
     "data": {
      "application/vnd.jupyter.widget-view+json": {
       "model_id": "60a1e13b63fd4d3a999b9cff2b070abc",
       "version_major": 2,
       "version_minor": 0
      },
      "text/plain": [
       "Train epoch [3/3]:   0%|          | 0/3 [00:00<?, ?it/s]"
      ]
     },
     "metadata": {},
     "output_type": "display_data"
    },
    {
     "data": {
      "application/vnd.jupyter.widget-view+json": {
       "model_id": "7bfc6bae69584f78b4d2040ae884ae7c",
       "version_major": 2,
       "version_minor": 0
      },
      "text/plain": [
       "Episode [25/100]:   0%|          | 0/3 [00:00<?, ?it/s]"
      ]
     },
     "metadata": {},
     "output_type": "display_data"
    },
    {
     "data": {
      "application/vnd.jupyter.widget-view+json": {
       "model_id": "9ec8b4a7d6a94af88e96a25aefea5efc",
       "version_major": 2,
       "version_minor": 0
      },
      "text/plain": [
       "Train epoch [1/3]:   0%|          | 0/3 [00:00<?, ?it/s]"
      ]
     },
     "metadata": {},
     "output_type": "display_data"
    },
    {
     "data": {
      "application/vnd.jupyter.widget-view+json": {
       "model_id": "d43acfc637ff425fa6178a45cacbb04a",
       "version_major": 2,
       "version_minor": 0
      },
      "text/plain": [
       "Train epoch [2/3]:   0%|          | 0/3 [00:00<?, ?it/s]"
      ]
     },
     "metadata": {},
     "output_type": "display_data"
    },
    {
     "data": {
      "application/vnd.jupyter.widget-view+json": {
       "model_id": "4c3ef28ea9f348e599184c3bdd77c555",
       "version_major": 2,
       "version_minor": 0
      },
      "text/plain": [
       "Train epoch [3/3]:   0%|          | 0/3 [00:00<?, ?it/s]"
      ]
     },
     "metadata": {},
     "output_type": "display_data"
    },
    {
     "data": {
      "application/vnd.jupyter.widget-view+json": {
       "model_id": "73d2c2a80da0446280e0c7866f1498ea",
       "version_major": 2,
       "version_minor": 0
      },
      "text/plain": [
       "Episode [26/100]:   0%|          | 0/3 [00:00<?, ?it/s]"
      ]
     },
     "metadata": {},
     "output_type": "display_data"
    },
    {
     "data": {
      "application/vnd.jupyter.widget-view+json": {
       "model_id": "32a3fec60ec249c29a44fdc36d72c3a7",
       "version_major": 2,
       "version_minor": 0
      },
      "text/plain": [
       "Train epoch [1/3]:   0%|          | 0/3 [00:00<?, ?it/s]"
      ]
     },
     "metadata": {},
     "output_type": "display_data"
    },
    {
     "data": {
      "application/vnd.jupyter.widget-view+json": {
       "model_id": "91c1853bdd5741b8aa220416204fd216",
       "version_major": 2,
       "version_minor": 0
      },
      "text/plain": [
       "Train epoch [2/3]:   0%|          | 0/3 [00:00<?, ?it/s]"
      ]
     },
     "metadata": {},
     "output_type": "display_data"
    },
    {
     "data": {
      "application/vnd.jupyter.widget-view+json": {
       "model_id": "bb2793cf96bb45a9ab1dda7f264aa842",
       "version_major": 2,
       "version_minor": 0
      },
      "text/plain": [
       "Train epoch [3/3]:   0%|          | 0/3 [00:00<?, ?it/s]"
      ]
     },
     "metadata": {},
     "output_type": "display_data"
    },
    {
     "data": {
      "application/vnd.jupyter.widget-view+json": {
       "model_id": "40deb0d1ac084b2eb862680bb3814161",
       "version_major": 2,
       "version_minor": 0
      },
      "text/plain": [
       "Episode [27/100]:   0%|          | 0/3 [00:00<?, ?it/s]"
      ]
     },
     "metadata": {},
     "output_type": "display_data"
    },
    {
     "data": {
      "application/vnd.jupyter.widget-view+json": {
       "model_id": "7404e7cd438742e1a90e1f9dc34b914b",
       "version_major": 2,
       "version_minor": 0
      },
      "text/plain": [
       "Train epoch [1/3]:   0%|          | 0/3 [00:00<?, ?it/s]"
      ]
     },
     "metadata": {},
     "output_type": "display_data"
    },
    {
     "data": {
      "application/vnd.jupyter.widget-view+json": {
       "model_id": "dd98b9a78a864b0c8e454c045151540e",
       "version_major": 2,
       "version_minor": 0
      },
      "text/plain": [
       "Train epoch [2/3]:   0%|          | 0/3 [00:00<?, ?it/s]"
      ]
     },
     "metadata": {},
     "output_type": "display_data"
    },
    {
     "data": {
      "application/vnd.jupyter.widget-view+json": {
       "model_id": "b11b778da58f42eaafdbe9c955238211",
       "version_major": 2,
       "version_minor": 0
      },
      "text/plain": [
       "Train epoch [3/3]:   0%|          | 0/3 [00:00<?, ?it/s]"
      ]
     },
     "metadata": {},
     "output_type": "display_data"
    },
    {
     "data": {
      "application/vnd.jupyter.widget-view+json": {
       "model_id": "f97f7dfcc0d9430ab1ebd4130331997b",
       "version_major": 2,
       "version_minor": 0
      },
      "text/plain": [
       "Episode [28/100]:   0%|          | 0/3 [00:00<?, ?it/s]"
      ]
     },
     "metadata": {},
     "output_type": "display_data"
    },
    {
     "data": {
      "application/vnd.jupyter.widget-view+json": {
       "model_id": "b0c9a337192f4c479dcfe6e297b87b79",
       "version_major": 2,
       "version_minor": 0
      },
      "text/plain": [
       "Train epoch [1/3]:   0%|          | 0/3 [00:00<?, ?it/s]"
      ]
     },
     "metadata": {},
     "output_type": "display_data"
    },
    {
     "data": {
      "application/vnd.jupyter.widget-view+json": {
       "model_id": "342b2ef365824d55b18d6e53fb620cf9",
       "version_major": 2,
       "version_minor": 0
      },
      "text/plain": [
       "Train epoch [2/3]:   0%|          | 0/3 [00:00<?, ?it/s]"
      ]
     },
     "metadata": {},
     "output_type": "display_data"
    },
    {
     "data": {
      "application/vnd.jupyter.widget-view+json": {
       "model_id": "657f90b8fd3145c99cd3b1db50f2ee58",
       "version_major": 2,
       "version_minor": 0
      },
      "text/plain": [
       "Train epoch [3/3]:   0%|          | 0/3 [00:00<?, ?it/s]"
      ]
     },
     "metadata": {},
     "output_type": "display_data"
    },
    {
     "data": {
      "application/vnd.jupyter.widget-view+json": {
       "model_id": "a1da0684e24846219f1e7c54b526686e",
       "version_major": 2,
       "version_minor": 0
      },
      "text/plain": [
       "Episode [29/100]:   0%|          | 0/3 [00:00<?, ?it/s]"
      ]
     },
     "metadata": {},
     "output_type": "display_data"
    },
    {
     "data": {
      "application/vnd.jupyter.widget-view+json": {
       "model_id": "c410afc5d6904833bc8ee59cbfaf34ee",
       "version_major": 2,
       "version_minor": 0
      },
      "text/plain": [
       "Train epoch [1/3]:   0%|          | 0/3 [00:00<?, ?it/s]"
      ]
     },
     "metadata": {},
     "output_type": "display_data"
    },
    {
     "data": {
      "application/vnd.jupyter.widget-view+json": {
       "model_id": "8c8b45fa3d664108be892b12aa097377",
       "version_major": 2,
       "version_minor": 0
      },
      "text/plain": [
       "Train epoch [2/3]:   0%|          | 0/3 [00:00<?, ?it/s]"
      ]
     },
     "metadata": {},
     "output_type": "display_data"
    },
    {
     "data": {
      "application/vnd.jupyter.widget-view+json": {
       "model_id": "991aaa811cc242f8bb2b20fbcd3c2c8b",
       "version_major": 2,
       "version_minor": 0
      },
      "text/plain": [
       "Train epoch [3/3]:   0%|          | 0/3 [00:00<?, ?it/s]"
      ]
     },
     "metadata": {},
     "output_type": "display_data"
    },
    {
     "data": {
      "application/vnd.jupyter.widget-view+json": {
       "model_id": "c51360e493784a7b8a7d8a97ecc4ff81",
       "version_major": 2,
       "version_minor": 0
      },
      "text/plain": [
       "Episode [30/100]:   0%|          | 0/3 [00:00<?, ?it/s]"
      ]
     },
     "metadata": {},
     "output_type": "display_data"
    },
    {
     "data": {
      "application/vnd.jupyter.widget-view+json": {
       "model_id": "947ce5121d8b405abb2137d4d317acc5",
       "version_major": 2,
       "version_minor": 0
      },
      "text/plain": [
       "Train epoch [1/3]:   0%|          | 0/3 [00:00<?, ?it/s]"
      ]
     },
     "metadata": {},
     "output_type": "display_data"
    },
    {
     "data": {
      "application/vnd.jupyter.widget-view+json": {
       "model_id": "ce8f1292b94340faa049304bc8308468",
       "version_major": 2,
       "version_minor": 0
      },
      "text/plain": [
       "Train epoch [2/3]:   0%|          | 0/3 [00:00<?, ?it/s]"
      ]
     },
     "metadata": {},
     "output_type": "display_data"
    },
    {
     "data": {
      "application/vnd.jupyter.widget-view+json": {
       "model_id": "fec54b8216d64065af022b141fa9de8f",
       "version_major": 2,
       "version_minor": 0
      },
      "text/plain": [
       "Train epoch [3/3]:   0%|          | 0/3 [00:00<?, ?it/s]"
      ]
     },
     "metadata": {},
     "output_type": "display_data"
    },
    {
     "data": {
      "application/vnd.jupyter.widget-view+json": {
       "model_id": "eac83b5eb6e349fcb45592eb3497cfbc",
       "version_major": 2,
       "version_minor": 0
      },
      "text/plain": [
       "Episode [31/100]:   0%|          | 0/3 [00:00<?, ?it/s]"
      ]
     },
     "metadata": {},
     "output_type": "display_data"
    },
    {
     "data": {
      "application/vnd.jupyter.widget-view+json": {
       "model_id": "8bc6e73d298b4b9c97fe00802b246730",
       "version_major": 2,
       "version_minor": 0
      },
      "text/plain": [
       "Train epoch [1/3]:   0%|          | 0/3 [00:00<?, ?it/s]"
      ]
     },
     "metadata": {},
     "output_type": "display_data"
    },
    {
     "data": {
      "application/vnd.jupyter.widget-view+json": {
       "model_id": "cb4eba38d15f46caaee413d85e15d04d",
       "version_major": 2,
       "version_minor": 0
      },
      "text/plain": [
       "Train epoch [2/3]:   0%|          | 0/3 [00:00<?, ?it/s]"
      ]
     },
     "metadata": {},
     "output_type": "display_data"
    },
    {
     "data": {
      "application/vnd.jupyter.widget-view+json": {
       "model_id": "39aa5d4df6474e06a8b25fe164cd3f72",
       "version_major": 2,
       "version_minor": 0
      },
      "text/plain": [
       "Train epoch [3/3]:   0%|          | 0/3 [00:00<?, ?it/s]"
      ]
     },
     "metadata": {},
     "output_type": "display_data"
    },
    {
     "data": {
      "application/vnd.jupyter.widget-view+json": {
       "model_id": "28c37d1a585c4487b91281d26692e6d5",
       "version_major": 2,
       "version_minor": 0
      },
      "text/plain": [
       "Episode [32/100]:   0%|          | 0/3 [00:00<?, ?it/s]"
      ]
     },
     "metadata": {},
     "output_type": "display_data"
    },
    {
     "data": {
      "application/vnd.jupyter.widget-view+json": {
       "model_id": "15ff2a3f5e3747aebdaa39aab70f8f76",
       "version_major": 2,
       "version_minor": 0
      },
      "text/plain": [
       "Train epoch [1/3]:   0%|          | 0/3 [00:00<?, ?it/s]"
      ]
     },
     "metadata": {},
     "output_type": "display_data"
    },
    {
     "data": {
      "application/vnd.jupyter.widget-view+json": {
       "model_id": "b9952371c6264e2196e7d971b57f7346",
       "version_major": 2,
       "version_minor": 0
      },
      "text/plain": [
       "Train epoch [2/3]:   0%|          | 0/3 [00:00<?, ?it/s]"
      ]
     },
     "metadata": {},
     "output_type": "display_data"
    },
    {
     "data": {
      "application/vnd.jupyter.widget-view+json": {
       "model_id": "264ab98daafe4329bacceecbe9e480b0",
       "version_major": 2,
       "version_minor": 0
      },
      "text/plain": [
       "Train epoch [3/3]:   0%|          | 0/3 [00:00<?, ?it/s]"
      ]
     },
     "metadata": {},
     "output_type": "display_data"
    },
    {
     "data": {
      "application/vnd.jupyter.widget-view+json": {
       "model_id": "f83576b26db34805a7ed27a16e9cede8",
       "version_major": 2,
       "version_minor": 0
      },
      "text/plain": [
       "Episode [33/100]:   0%|          | 0/3 [00:00<?, ?it/s]"
      ]
     },
     "metadata": {},
     "output_type": "display_data"
    },
    {
     "data": {
      "application/vnd.jupyter.widget-view+json": {
       "model_id": "f37053fb751741a283880c70277aae08",
       "version_major": 2,
       "version_minor": 0
      },
      "text/plain": [
       "Train epoch [1/3]:   0%|          | 0/3 [00:00<?, ?it/s]"
      ]
     },
     "metadata": {},
     "output_type": "display_data"
    },
    {
     "data": {
      "application/vnd.jupyter.widget-view+json": {
       "model_id": "134759adf7d14bb485fdd7b63f4ddab5",
       "version_major": 2,
       "version_minor": 0
      },
      "text/plain": [
       "Train epoch [2/3]:   0%|          | 0/3 [00:00<?, ?it/s]"
      ]
     },
     "metadata": {},
     "output_type": "display_data"
    },
    {
     "data": {
      "application/vnd.jupyter.widget-view+json": {
       "model_id": "90f6c67352d14f4fa224bf8e38dc6bba",
       "version_major": 2,
       "version_minor": 0
      },
      "text/plain": [
       "Train epoch [3/3]:   0%|          | 0/3 [00:00<?, ?it/s]"
      ]
     },
     "metadata": {},
     "output_type": "display_data"
    },
    {
     "data": {
      "application/vnd.jupyter.widget-view+json": {
       "model_id": "e6446e7809bf4253b4e2ef99d7749fdd",
       "version_major": 2,
       "version_minor": 0
      },
      "text/plain": [
       "Episode [34/100]:   0%|          | 0/3 [00:00<?, ?it/s]"
      ]
     },
     "metadata": {},
     "output_type": "display_data"
    },
    {
     "data": {
      "application/vnd.jupyter.widget-view+json": {
       "model_id": "09f4f8227637445faf67d648c132ef22",
       "version_major": 2,
       "version_minor": 0
      },
      "text/plain": [
       "Train epoch [1/3]:   0%|          | 0/3 [00:00<?, ?it/s]"
      ]
     },
     "metadata": {},
     "output_type": "display_data"
    },
    {
     "data": {
      "application/vnd.jupyter.widget-view+json": {
       "model_id": "6935e6ecbacd45f4990e7ac08edf31d6",
       "version_major": 2,
       "version_minor": 0
      },
      "text/plain": [
       "Train epoch [2/3]:   0%|          | 0/3 [00:00<?, ?it/s]"
      ]
     },
     "metadata": {},
     "output_type": "display_data"
    },
    {
     "data": {
      "application/vnd.jupyter.widget-view+json": {
       "model_id": "56347e7b9229456a8d9d5f4872412739",
       "version_major": 2,
       "version_minor": 0
      },
      "text/plain": [
       "Train epoch [3/3]:   0%|          | 0/3 [00:00<?, ?it/s]"
      ]
     },
     "metadata": {},
     "output_type": "display_data"
    },
    {
     "data": {
      "application/vnd.jupyter.widget-view+json": {
       "model_id": "249aa9051bdc4c2cb6d87602ab7f16b4",
       "version_major": 2,
       "version_minor": 0
      },
      "text/plain": [
       "Episode [35/100]:   0%|          | 0/3 [00:00<?, ?it/s]"
      ]
     },
     "metadata": {},
     "output_type": "display_data"
    },
    {
     "data": {
      "application/vnd.jupyter.widget-view+json": {
       "model_id": "68b5af5c8863428f82ed2987817bb37f",
       "version_major": 2,
       "version_minor": 0
      },
      "text/plain": [
       "Train epoch [1/3]:   0%|          | 0/3 [00:00<?, ?it/s]"
      ]
     },
     "metadata": {},
     "output_type": "display_data"
    },
    {
     "data": {
      "application/vnd.jupyter.widget-view+json": {
       "model_id": "9285d54dfd234156b67226e9f20fce9d",
       "version_major": 2,
       "version_minor": 0
      },
      "text/plain": [
       "Train epoch [2/3]:   0%|          | 0/3 [00:00<?, ?it/s]"
      ]
     },
     "metadata": {},
     "output_type": "display_data"
    },
    {
     "data": {
      "application/vnd.jupyter.widget-view+json": {
       "model_id": "47e9a54edf544ab69163572f15b8a618",
       "version_major": 2,
       "version_minor": 0
      },
      "text/plain": [
       "Train epoch [3/3]:   0%|          | 0/3 [00:00<?, ?it/s]"
      ]
     },
     "metadata": {},
     "output_type": "display_data"
    },
    {
     "data": {
      "application/vnd.jupyter.widget-view+json": {
       "model_id": "415183619a7b44db8b65ecb57fe1c151",
       "version_major": 2,
       "version_minor": 0
      },
      "text/plain": [
       "Episode [36/100]:   0%|          | 0/3 [00:00<?, ?it/s]"
      ]
     },
     "metadata": {},
     "output_type": "display_data"
    },
    {
     "data": {
      "application/vnd.jupyter.widget-view+json": {
       "model_id": "61d83cb3bfed43ea83ca72e3f7c5c9f4",
       "version_major": 2,
       "version_minor": 0
      },
      "text/plain": [
       "Train epoch [1/3]:   0%|          | 0/3 [00:00<?, ?it/s]"
      ]
     },
     "metadata": {},
     "output_type": "display_data"
    },
    {
     "data": {
      "application/vnd.jupyter.widget-view+json": {
       "model_id": "91c08c200e95462cbc4210b8c1ad8952",
       "version_major": 2,
       "version_minor": 0
      },
      "text/plain": [
       "Train epoch [2/3]:   0%|          | 0/3 [00:00<?, ?it/s]"
      ]
     },
     "metadata": {},
     "output_type": "display_data"
    },
    {
     "data": {
      "application/vnd.jupyter.widget-view+json": {
       "model_id": "9cafa2041b2644f59ce313bb69f9d995",
       "version_major": 2,
       "version_minor": 0
      },
      "text/plain": [
       "Train epoch [3/3]:   0%|          | 0/3 [00:00<?, ?it/s]"
      ]
     },
     "metadata": {},
     "output_type": "display_data"
    },
    {
     "data": {
      "application/vnd.jupyter.widget-view+json": {
       "model_id": "a37926d141254fbaa09efee15a091bab",
       "version_major": 2,
       "version_minor": 0
      },
      "text/plain": [
       "Episode [37/100]:   0%|          | 0/3 [00:00<?, ?it/s]"
      ]
     },
     "metadata": {},
     "output_type": "display_data"
    },
    {
     "data": {
      "application/vnd.jupyter.widget-view+json": {
       "model_id": "d32ef3731f1c47f3bba1269af22442be",
       "version_major": 2,
       "version_minor": 0
      },
      "text/plain": [
       "Train epoch [1/3]:   0%|          | 0/3 [00:00<?, ?it/s]"
      ]
     },
     "metadata": {},
     "output_type": "display_data"
    },
    {
     "data": {
      "application/vnd.jupyter.widget-view+json": {
       "model_id": "a62af6c03f8f4a95afbf1ff0f2de4763",
       "version_major": 2,
       "version_minor": 0
      },
      "text/plain": [
       "Train epoch [2/3]:   0%|          | 0/3 [00:00<?, ?it/s]"
      ]
     },
     "metadata": {},
     "output_type": "display_data"
    },
    {
     "data": {
      "application/vnd.jupyter.widget-view+json": {
       "model_id": "0150cc1476e94931a3ebafe81673ec7f",
       "version_major": 2,
       "version_minor": 0
      },
      "text/plain": [
       "Train epoch [3/3]:   0%|          | 0/3 [00:00<?, ?it/s]"
      ]
     },
     "metadata": {},
     "output_type": "display_data"
    },
    {
     "data": {
      "application/vnd.jupyter.widget-view+json": {
       "model_id": "ab02acc9010e4bc0b908afcaf8941403",
       "version_major": 2,
       "version_minor": 0
      },
      "text/plain": [
       "Episode [38/100]:   0%|          | 0/3 [00:00<?, ?it/s]"
      ]
     },
     "metadata": {},
     "output_type": "display_data"
    },
    {
     "data": {
      "application/vnd.jupyter.widget-view+json": {
       "model_id": "4f4a2f759a034f899ae73007dd93b7ed",
       "version_major": 2,
       "version_minor": 0
      },
      "text/plain": [
       "Train epoch [1/3]:   0%|          | 0/3 [00:00<?, ?it/s]"
      ]
     },
     "metadata": {},
     "output_type": "display_data"
    },
    {
     "data": {
      "application/vnd.jupyter.widget-view+json": {
       "model_id": "fc807154ec96489e89431090a18c68d6",
       "version_major": 2,
       "version_minor": 0
      },
      "text/plain": [
       "Train epoch [2/3]:   0%|          | 0/3 [00:00<?, ?it/s]"
      ]
     },
     "metadata": {},
     "output_type": "display_data"
    },
    {
     "data": {
      "application/vnd.jupyter.widget-view+json": {
       "model_id": "0a1b97ee8da34469bad5b4d4f2bd4e10",
       "version_major": 2,
       "version_minor": 0
      },
      "text/plain": [
       "Train epoch [3/3]:   0%|          | 0/3 [00:00<?, ?it/s]"
      ]
     },
     "metadata": {},
     "output_type": "display_data"
    },
    {
     "data": {
      "application/vnd.jupyter.widget-view+json": {
       "model_id": "8b6f76e449d64b6cb32a3acf875631d6",
       "version_major": 2,
       "version_minor": 0
      },
      "text/plain": [
       "Episode [39/100]:   0%|          | 0/3 [00:00<?, ?it/s]"
      ]
     },
     "metadata": {},
     "output_type": "display_data"
    },
    {
     "data": {
      "application/vnd.jupyter.widget-view+json": {
       "model_id": "7719e2c154fc4c5a99c4224e1f76f3bd",
       "version_major": 2,
       "version_minor": 0
      },
      "text/plain": [
       "Train epoch [1/3]:   0%|          | 0/3 [00:00<?, ?it/s]"
      ]
     },
     "metadata": {},
     "output_type": "display_data"
    },
    {
     "data": {
      "application/vnd.jupyter.widget-view+json": {
       "model_id": "9fedd6254f064fc8a32bddcf5702f97a",
       "version_major": 2,
       "version_minor": 0
      },
      "text/plain": [
       "Train epoch [2/3]:   0%|          | 0/3 [00:00<?, ?it/s]"
      ]
     },
     "metadata": {},
     "output_type": "display_data"
    },
    {
     "data": {
      "application/vnd.jupyter.widget-view+json": {
       "model_id": "4a7324cea88d4732b9bea6b70eb0aaa1",
       "version_major": 2,
       "version_minor": 0
      },
      "text/plain": [
       "Train epoch [3/3]:   0%|          | 0/3 [00:00<?, ?it/s]"
      ]
     },
     "metadata": {},
     "output_type": "display_data"
    },
    {
     "data": {
      "application/vnd.jupyter.widget-view+json": {
       "model_id": "2bedfb284cf641e2968e9573a8a477db",
       "version_major": 2,
       "version_minor": 0
      },
      "text/plain": [
       "Episode [40/100]:   0%|          | 0/3 [00:00<?, ?it/s]"
      ]
     },
     "metadata": {},
     "output_type": "display_data"
    },
    {
     "data": {
      "application/vnd.jupyter.widget-view+json": {
       "model_id": "3fc7ee0ae0f248ee85e3bf5bfb9e151c",
       "version_major": 2,
       "version_minor": 0
      },
      "text/plain": [
       "Train epoch [1/3]:   0%|          | 0/3 [00:00<?, ?it/s]"
      ]
     },
     "metadata": {},
     "output_type": "display_data"
    },
    {
     "data": {
      "application/vnd.jupyter.widget-view+json": {
       "model_id": "f6b897e74da24a14a23b1a82032ed6d3",
       "version_major": 2,
       "version_minor": 0
      },
      "text/plain": [
       "Train epoch [2/3]:   0%|          | 0/3 [00:00<?, ?it/s]"
      ]
     },
     "metadata": {},
     "output_type": "display_data"
    },
    {
     "data": {
      "application/vnd.jupyter.widget-view+json": {
       "model_id": "e04317263fab4d19a90d95e6c847062b",
       "version_major": 2,
       "version_minor": 0
      },
      "text/plain": [
       "Train epoch [3/3]:   0%|          | 0/3 [00:00<?, ?it/s]"
      ]
     },
     "metadata": {},
     "output_type": "display_data"
    },
    {
     "data": {
      "application/vnd.jupyter.widget-view+json": {
       "model_id": "c2cf63334c2245899c2b49d5116cbb23",
       "version_major": 2,
       "version_minor": 0
      },
      "text/plain": [
       "Episode [41/100]:   0%|          | 0/3 [00:00<?, ?it/s]"
      ]
     },
     "metadata": {},
     "output_type": "display_data"
    },
    {
     "data": {
      "application/vnd.jupyter.widget-view+json": {
       "model_id": "9ce15360798845588f89ad2493e46320",
       "version_major": 2,
       "version_minor": 0
      },
      "text/plain": [
       "Train epoch [1/3]:   0%|          | 0/3 [00:00<?, ?it/s]"
      ]
     },
     "metadata": {},
     "output_type": "display_data"
    },
    {
     "data": {
      "application/vnd.jupyter.widget-view+json": {
       "model_id": "b46b20862c8946beae11339a3c8a2967",
       "version_major": 2,
       "version_minor": 0
      },
      "text/plain": [
       "Train epoch [2/3]:   0%|          | 0/3 [00:00<?, ?it/s]"
      ]
     },
     "metadata": {},
     "output_type": "display_data"
    },
    {
     "data": {
      "application/vnd.jupyter.widget-view+json": {
       "model_id": "1d435f0a24c44b4fbbe5bfa71057827d",
       "version_major": 2,
       "version_minor": 0
      },
      "text/plain": [
       "Train epoch [3/3]:   0%|          | 0/3 [00:00<?, ?it/s]"
      ]
     },
     "metadata": {},
     "output_type": "display_data"
    },
    {
     "data": {
      "application/vnd.jupyter.widget-view+json": {
       "model_id": "7ddd1bb1fb6b4353947cf50fc63beac8",
       "version_major": 2,
       "version_minor": 0
      },
      "text/plain": [
       "Episode [42/100]:   0%|          | 0/3 [00:00<?, ?it/s]"
      ]
     },
     "metadata": {},
     "output_type": "display_data"
    },
    {
     "data": {
      "application/vnd.jupyter.widget-view+json": {
       "model_id": "7793a971cd684bd1a6051fae41fd060f",
       "version_major": 2,
       "version_minor": 0
      },
      "text/plain": [
       "Train epoch [1/3]:   0%|          | 0/3 [00:00<?, ?it/s]"
      ]
     },
     "metadata": {},
     "output_type": "display_data"
    },
    {
     "data": {
      "application/vnd.jupyter.widget-view+json": {
       "model_id": "b07eef92703f425b9a66946dd387cbbb",
       "version_major": 2,
       "version_minor": 0
      },
      "text/plain": [
       "Train epoch [2/3]:   0%|          | 0/3 [00:00<?, ?it/s]"
      ]
     },
     "metadata": {},
     "output_type": "display_data"
    },
    {
     "data": {
      "application/vnd.jupyter.widget-view+json": {
       "model_id": "0aedd8ca35c04d81af70250b98883443",
       "version_major": 2,
       "version_minor": 0
      },
      "text/plain": [
       "Train epoch [3/3]:   0%|          | 0/3 [00:00<?, ?it/s]"
      ]
     },
     "metadata": {},
     "output_type": "display_data"
    },
    {
     "data": {
      "application/vnd.jupyter.widget-view+json": {
       "model_id": "8281c7b96fa944f999294b79f0acf2f1",
       "version_major": 2,
       "version_minor": 0
      },
      "text/plain": [
       "Episode [43/100]:   0%|          | 0/3 [00:00<?, ?it/s]"
      ]
     },
     "metadata": {},
     "output_type": "display_data"
    },
    {
     "data": {
      "application/vnd.jupyter.widget-view+json": {
       "model_id": "feb1de95c1d3452588d5e36f9d53bf2d",
       "version_major": 2,
       "version_minor": 0
      },
      "text/plain": [
       "Train epoch [1/3]:   0%|          | 0/3 [00:00<?, ?it/s]"
      ]
     },
     "metadata": {},
     "output_type": "display_data"
    },
    {
     "data": {
      "application/vnd.jupyter.widget-view+json": {
       "model_id": "40a65c98115b4e2ab5a05736a23b4762",
       "version_major": 2,
       "version_minor": 0
      },
      "text/plain": [
       "Train epoch [2/3]:   0%|          | 0/3 [00:00<?, ?it/s]"
      ]
     },
     "metadata": {},
     "output_type": "display_data"
    },
    {
     "data": {
      "application/vnd.jupyter.widget-view+json": {
       "model_id": "eee2b0d3a035453180e47733cffcc393",
       "version_major": 2,
       "version_minor": 0
      },
      "text/plain": [
       "Train epoch [3/3]:   0%|          | 0/3 [00:00<?, ?it/s]"
      ]
     },
     "metadata": {},
     "output_type": "display_data"
    },
    {
     "data": {
      "application/vnd.jupyter.widget-view+json": {
       "model_id": "6fbacd4aadae47cabf53352a7121daec",
       "version_major": 2,
       "version_minor": 0
      },
      "text/plain": [
       "Episode [44/100]:   0%|          | 0/3 [00:00<?, ?it/s]"
      ]
     },
     "metadata": {},
     "output_type": "display_data"
    },
    {
     "data": {
      "application/vnd.jupyter.widget-view+json": {
       "model_id": "791009d89cfe48778d48b1c2752b70ac",
       "version_major": 2,
       "version_minor": 0
      },
      "text/plain": [
       "Train epoch [1/3]:   0%|          | 0/3 [00:00<?, ?it/s]"
      ]
     },
     "metadata": {},
     "output_type": "display_data"
    },
    {
     "data": {
      "application/vnd.jupyter.widget-view+json": {
       "model_id": "5616ddc030ea476787f51c4d757e89ed",
       "version_major": 2,
       "version_minor": 0
      },
      "text/plain": [
       "Train epoch [2/3]:   0%|          | 0/3 [00:00<?, ?it/s]"
      ]
     },
     "metadata": {},
     "output_type": "display_data"
    },
    {
     "data": {
      "application/vnd.jupyter.widget-view+json": {
       "model_id": "b51b46ca40cb4f769a076ecdaea499e0",
       "version_major": 2,
       "version_minor": 0
      },
      "text/plain": [
       "Train epoch [3/3]:   0%|          | 0/3 [00:00<?, ?it/s]"
      ]
     },
     "metadata": {},
     "output_type": "display_data"
    },
    {
     "data": {
      "application/vnd.jupyter.widget-view+json": {
       "model_id": "12f82ed0672848efb098219cc3762f45",
       "version_major": 2,
       "version_minor": 0
      },
      "text/plain": [
       "Episode [45/100]:   0%|          | 0/3 [00:00<?, ?it/s]"
      ]
     },
     "metadata": {},
     "output_type": "display_data"
    },
    {
     "data": {
      "application/vnd.jupyter.widget-view+json": {
       "model_id": "5e9a2f997dab4eef8cdf07193b1ec3c7",
       "version_major": 2,
       "version_minor": 0
      },
      "text/plain": [
       "Train epoch [1/3]:   0%|          | 0/3 [00:00<?, ?it/s]"
      ]
     },
     "metadata": {},
     "output_type": "display_data"
    },
    {
     "data": {
      "application/vnd.jupyter.widget-view+json": {
       "model_id": "11024cb9541d43abbf99ef540b52417d",
       "version_major": 2,
       "version_minor": 0
      },
      "text/plain": [
       "Train epoch [2/3]:   0%|          | 0/3 [00:00<?, ?it/s]"
      ]
     },
     "metadata": {},
     "output_type": "display_data"
    },
    {
     "data": {
      "application/vnd.jupyter.widget-view+json": {
       "model_id": "54b5fe8a557e4ddc906b21f811c8b171",
       "version_major": 2,
       "version_minor": 0
      },
      "text/plain": [
       "Train epoch [3/3]:   0%|          | 0/3 [00:00<?, ?it/s]"
      ]
     },
     "metadata": {},
     "output_type": "display_data"
    },
    {
     "data": {
      "application/vnd.jupyter.widget-view+json": {
       "model_id": "2a336be9f3914a68bed735c151442dce",
       "version_major": 2,
       "version_minor": 0
      },
      "text/plain": [
       "Episode [46/100]:   0%|          | 0/3 [00:00<?, ?it/s]"
      ]
     },
     "metadata": {},
     "output_type": "display_data"
    },
    {
     "data": {
      "application/vnd.jupyter.widget-view+json": {
       "model_id": "c83f8d7ea8f2481995d66ae39aaf6b5d",
       "version_major": 2,
       "version_minor": 0
      },
      "text/plain": [
       "Train epoch [1/3]:   0%|          | 0/3 [00:00<?, ?it/s]"
      ]
     },
     "metadata": {},
     "output_type": "display_data"
    },
    {
     "data": {
      "application/vnd.jupyter.widget-view+json": {
       "model_id": "24ef355c761441e6815d5acf44f360a4",
       "version_major": 2,
       "version_minor": 0
      },
      "text/plain": [
       "Train epoch [2/3]:   0%|          | 0/3 [00:00<?, ?it/s]"
      ]
     },
     "metadata": {},
     "output_type": "display_data"
    },
    {
     "data": {
      "application/vnd.jupyter.widget-view+json": {
       "model_id": "c29672065e5c44d5910a6e6d0b0c1e88",
       "version_major": 2,
       "version_minor": 0
      },
      "text/plain": [
       "Train epoch [3/3]:   0%|          | 0/3 [00:00<?, ?it/s]"
      ]
     },
     "metadata": {},
     "output_type": "display_data"
    },
    {
     "data": {
      "application/vnd.jupyter.widget-view+json": {
       "model_id": "44588d176944469dae370693dd6c82bb",
       "version_major": 2,
       "version_minor": 0
      },
      "text/plain": [
       "Episode [47/100]:   0%|          | 0/3 [00:00<?, ?it/s]"
      ]
     },
     "metadata": {},
     "output_type": "display_data"
    },
    {
     "data": {
      "application/vnd.jupyter.widget-view+json": {
       "model_id": "937d6c9c47db4dbb9277ab3e0e12b6ed",
       "version_major": 2,
       "version_minor": 0
      },
      "text/plain": [
       "Train epoch [1/3]:   0%|          | 0/3 [00:00<?, ?it/s]"
      ]
     },
     "metadata": {},
     "output_type": "display_data"
    },
    {
     "data": {
      "application/vnd.jupyter.widget-view+json": {
       "model_id": "fac9dd70b77742988e7681f46519b989",
       "version_major": 2,
       "version_minor": 0
      },
      "text/plain": [
       "Train epoch [2/3]:   0%|          | 0/3 [00:00<?, ?it/s]"
      ]
     },
     "metadata": {},
     "output_type": "display_data"
    },
    {
     "data": {
      "application/vnd.jupyter.widget-view+json": {
       "model_id": "d8644288b5f247789a17a82d4505ffdf",
       "version_major": 2,
       "version_minor": 0
      },
      "text/plain": [
       "Train epoch [3/3]:   0%|          | 0/3 [00:00<?, ?it/s]"
      ]
     },
     "metadata": {},
     "output_type": "display_data"
    },
    {
     "data": {
      "application/vnd.jupyter.widget-view+json": {
       "model_id": "661d355df1f244228732f87dd78d6e07",
       "version_major": 2,
       "version_minor": 0
      },
      "text/plain": [
       "Episode [48/100]:   0%|          | 0/3 [00:00<?, ?it/s]"
      ]
     },
     "metadata": {},
     "output_type": "display_data"
    },
    {
     "data": {
      "application/vnd.jupyter.widget-view+json": {
       "model_id": "c886ce8a6e5a4fe5a7a8ec97cd5a8629",
       "version_major": 2,
       "version_minor": 0
      },
      "text/plain": [
       "Train epoch [1/3]:   0%|          | 0/3 [00:00<?, ?it/s]"
      ]
     },
     "metadata": {},
     "output_type": "display_data"
    },
    {
     "data": {
      "application/vnd.jupyter.widget-view+json": {
       "model_id": "fce1ea5cbb50499998232d8814abc037",
       "version_major": 2,
       "version_minor": 0
      },
      "text/plain": [
       "Train epoch [2/3]:   0%|          | 0/3 [00:00<?, ?it/s]"
      ]
     },
     "metadata": {},
     "output_type": "display_data"
    },
    {
     "data": {
      "application/vnd.jupyter.widget-view+json": {
       "model_id": "eb86347da5d4470d8bd5034f31293fc1",
       "version_major": 2,
       "version_minor": 0
      },
      "text/plain": [
       "Train epoch [3/3]:   0%|          | 0/3 [00:00<?, ?it/s]"
      ]
     },
     "metadata": {},
     "output_type": "display_data"
    },
    {
     "data": {
      "application/vnd.jupyter.widget-view+json": {
       "model_id": "ccb64c71483d4df5b2814f5e40174f9f",
       "version_major": 2,
       "version_minor": 0
      },
      "text/plain": [
       "Episode [49/100]:   0%|          | 0/3 [00:00<?, ?it/s]"
      ]
     },
     "metadata": {},
     "output_type": "display_data"
    },
    {
     "data": {
      "application/vnd.jupyter.widget-view+json": {
       "model_id": "dfd169ef4d604ba9a5830281358dc88c",
       "version_major": 2,
       "version_minor": 0
      },
      "text/plain": [
       "Train epoch [1/3]:   0%|          | 0/3 [00:00<?, ?it/s]"
      ]
     },
     "metadata": {},
     "output_type": "display_data"
    },
    {
     "data": {
      "application/vnd.jupyter.widget-view+json": {
       "model_id": "b5f85a92baed4b87a976e80c2028efc4",
       "version_major": 2,
       "version_minor": 0
      },
      "text/plain": [
       "Train epoch [2/3]:   0%|          | 0/3 [00:00<?, ?it/s]"
      ]
     },
     "metadata": {},
     "output_type": "display_data"
    },
    {
     "data": {
      "application/vnd.jupyter.widget-view+json": {
       "model_id": "9bb558e4349f41e387fe9a1715ea2599",
       "version_major": 2,
       "version_minor": 0
      },
      "text/plain": [
       "Train epoch [3/3]:   0%|          | 0/3 [00:00<?, ?it/s]"
      ]
     },
     "metadata": {},
     "output_type": "display_data"
    },
    {
     "data": {
      "application/vnd.jupyter.widget-view+json": {
       "model_id": "4c4c8e7db3de4176ac8782f8d8737812",
       "version_major": 2,
       "version_minor": 0
      },
      "text/plain": [
       "Episode [50/100]:   0%|          | 0/3 [00:00<?, ?it/s]"
      ]
     },
     "metadata": {},
     "output_type": "display_data"
    },
    {
     "data": {
      "application/vnd.jupyter.widget-view+json": {
       "model_id": "0fc7e1cc1747412fabf47dfb68f6ba60",
       "version_major": 2,
       "version_minor": 0
      },
      "text/plain": [
       "Train epoch [1/3]:   0%|          | 0/3 [00:00<?, ?it/s]"
      ]
     },
     "metadata": {},
     "output_type": "display_data"
    },
    {
     "data": {
      "application/vnd.jupyter.widget-view+json": {
       "model_id": "c42fdc277e614c419dab96d7b01f45cb",
       "version_major": 2,
       "version_minor": 0
      },
      "text/plain": [
       "Train epoch [2/3]:   0%|          | 0/3 [00:00<?, ?it/s]"
      ]
     },
     "metadata": {},
     "output_type": "display_data"
    },
    {
     "data": {
      "application/vnd.jupyter.widget-view+json": {
       "model_id": "37f0324e2dca42608533bd4db834aab3",
       "version_major": 2,
       "version_minor": 0
      },
      "text/plain": [
       "Train epoch [3/3]:   0%|          | 0/3 [00:00<?, ?it/s]"
      ]
     },
     "metadata": {},
     "output_type": "display_data"
    },
    {
     "data": {
      "application/vnd.jupyter.widget-view+json": {
       "model_id": "212f451d28b4438aaf3f839cb35f1f02",
       "version_major": 2,
       "version_minor": 0
      },
      "text/plain": [
       "Episode [51/100]:   0%|          | 0/3 [00:00<?, ?it/s]"
      ]
     },
     "metadata": {},
     "output_type": "display_data"
    },
    {
     "data": {
      "application/vnd.jupyter.widget-view+json": {
       "model_id": "d09296f559144230911d2b1f73549d7b",
       "version_major": 2,
       "version_minor": 0
      },
      "text/plain": [
       "Train epoch [1/3]:   0%|          | 0/3 [00:00<?, ?it/s]"
      ]
     },
     "metadata": {},
     "output_type": "display_data"
    },
    {
     "data": {
      "application/vnd.jupyter.widget-view+json": {
       "model_id": "7641032eb9284d1abb392803284d57aa",
       "version_major": 2,
       "version_minor": 0
      },
      "text/plain": [
       "Train epoch [2/3]:   0%|          | 0/3 [00:00<?, ?it/s]"
      ]
     },
     "metadata": {},
     "output_type": "display_data"
    },
    {
     "data": {
      "application/vnd.jupyter.widget-view+json": {
       "model_id": "ad777809fdf0404e8ebe1e1803ccf44e",
       "version_major": 2,
       "version_minor": 0
      },
      "text/plain": [
       "Train epoch [3/3]:   0%|          | 0/3 [00:00<?, ?it/s]"
      ]
     },
     "metadata": {},
     "output_type": "display_data"
    },
    {
     "data": {
      "application/vnd.jupyter.widget-view+json": {
       "model_id": "c45f4fc456da4e389430f869a591de78",
       "version_major": 2,
       "version_minor": 0
      },
      "text/plain": [
       "Episode [52/100]:   0%|          | 0/3 [00:00<?, ?it/s]"
      ]
     },
     "metadata": {},
     "output_type": "display_data"
    },
    {
     "data": {
      "application/vnd.jupyter.widget-view+json": {
       "model_id": "0d8beb178fdd4c86869de95af16ef0b9",
       "version_major": 2,
       "version_minor": 0
      },
      "text/plain": [
       "Train epoch [1/3]:   0%|          | 0/3 [00:00<?, ?it/s]"
      ]
     },
     "metadata": {},
     "output_type": "display_data"
    },
    {
     "data": {
      "application/vnd.jupyter.widget-view+json": {
       "model_id": "8f2727bbaeb34cdd9502ac660ec41a22",
       "version_major": 2,
       "version_minor": 0
      },
      "text/plain": [
       "Train epoch [2/3]:   0%|          | 0/3 [00:00<?, ?it/s]"
      ]
     },
     "metadata": {},
     "output_type": "display_data"
    },
    {
     "data": {
      "application/vnd.jupyter.widget-view+json": {
       "model_id": "5f9e630ce3334060893e64855f498786",
       "version_major": 2,
       "version_minor": 0
      },
      "text/plain": [
       "Train epoch [3/3]:   0%|          | 0/3 [00:00<?, ?it/s]"
      ]
     },
     "metadata": {},
     "output_type": "display_data"
    },
    {
     "data": {
      "application/vnd.jupyter.widget-view+json": {
       "model_id": "9582769387b54d038e1f5459dc935dfe",
       "version_major": 2,
       "version_minor": 0
      },
      "text/plain": [
       "Episode [53/100]:   0%|          | 0/3 [00:00<?, ?it/s]"
      ]
     },
     "metadata": {},
     "output_type": "display_data"
    },
    {
     "data": {
      "application/vnd.jupyter.widget-view+json": {
       "model_id": "08dcabc1af9045a1a9abcc77e09501dd",
       "version_major": 2,
       "version_minor": 0
      },
      "text/plain": [
       "Train epoch [1/3]:   0%|          | 0/3 [00:00<?, ?it/s]"
      ]
     },
     "metadata": {},
     "output_type": "display_data"
    },
    {
     "data": {
      "application/vnd.jupyter.widget-view+json": {
       "model_id": "45f5824bfc854e0bb57bc341d415076a",
       "version_major": 2,
       "version_minor": 0
      },
      "text/plain": [
       "Train epoch [2/3]:   0%|          | 0/3 [00:00<?, ?it/s]"
      ]
     },
     "metadata": {},
     "output_type": "display_data"
    },
    {
     "data": {
      "application/vnd.jupyter.widget-view+json": {
       "model_id": "3cefe087f7d8477781bf4a41845e8b7c",
       "version_major": 2,
       "version_minor": 0
      },
      "text/plain": [
       "Train epoch [3/3]:   0%|          | 0/3 [00:00<?, ?it/s]"
      ]
     },
     "metadata": {},
     "output_type": "display_data"
    },
    {
     "data": {
      "application/vnd.jupyter.widget-view+json": {
       "model_id": "4e66c925e7834707bc03cf96c9a5cc3c",
       "version_major": 2,
       "version_minor": 0
      },
      "text/plain": [
       "Episode [54/100]:   0%|          | 0/3 [00:00<?, ?it/s]"
      ]
     },
     "metadata": {},
     "output_type": "display_data"
    },
    {
     "data": {
      "application/vnd.jupyter.widget-view+json": {
       "model_id": "439c0ba1a77d43628d4cf08eed92f442",
       "version_major": 2,
       "version_minor": 0
      },
      "text/plain": [
       "Train epoch [1/3]:   0%|          | 0/3 [00:00<?, ?it/s]"
      ]
     },
     "metadata": {},
     "output_type": "display_data"
    },
    {
     "data": {
      "application/vnd.jupyter.widget-view+json": {
       "model_id": "96294fe08b92473bb549afe6822d4af6",
       "version_major": 2,
       "version_minor": 0
      },
      "text/plain": [
       "Train epoch [2/3]:   0%|          | 0/3 [00:00<?, ?it/s]"
      ]
     },
     "metadata": {},
     "output_type": "display_data"
    },
    {
     "data": {
      "application/vnd.jupyter.widget-view+json": {
       "model_id": "048ddcb9d9654c2791ae8371b8d35481",
       "version_major": 2,
       "version_minor": 0
      },
      "text/plain": [
       "Train epoch [3/3]:   0%|          | 0/3 [00:00<?, ?it/s]"
      ]
     },
     "metadata": {},
     "output_type": "display_data"
    },
    {
     "data": {
      "application/vnd.jupyter.widget-view+json": {
       "model_id": "ea84e3b7486f42ac94fc8019945f253b",
       "version_major": 2,
       "version_minor": 0
      },
      "text/plain": [
       "Episode [55/100]:   0%|          | 0/3 [00:00<?, ?it/s]"
      ]
     },
     "metadata": {},
     "output_type": "display_data"
    },
    {
     "data": {
      "application/vnd.jupyter.widget-view+json": {
       "model_id": "ca9496a069204b24bc569f4385416673",
       "version_major": 2,
       "version_minor": 0
      },
      "text/plain": [
       "Train epoch [1/3]:   0%|          | 0/3 [00:00<?, ?it/s]"
      ]
     },
     "metadata": {},
     "output_type": "display_data"
    },
    {
     "data": {
      "application/vnd.jupyter.widget-view+json": {
       "model_id": "d246339a6ac247eb92fb34dba523e1ab",
       "version_major": 2,
       "version_minor": 0
      },
      "text/plain": [
       "Train epoch [2/3]:   0%|          | 0/3 [00:00<?, ?it/s]"
      ]
     },
     "metadata": {},
     "output_type": "display_data"
    },
    {
     "data": {
      "application/vnd.jupyter.widget-view+json": {
       "model_id": "9b850fed2b1b476ba179e0d4920c2e8f",
       "version_major": 2,
       "version_minor": 0
      },
      "text/plain": [
       "Train epoch [3/3]:   0%|          | 0/3 [00:00<?, ?it/s]"
      ]
     },
     "metadata": {},
     "output_type": "display_data"
    },
    {
     "data": {
      "application/vnd.jupyter.widget-view+json": {
       "model_id": "e8f9bbf17fff4284acda6155ec63c717",
       "version_major": 2,
       "version_minor": 0
      },
      "text/plain": [
       "Episode [56/100]:   0%|          | 0/3 [00:00<?, ?it/s]"
      ]
     },
     "metadata": {},
     "output_type": "display_data"
    },
    {
     "data": {
      "application/vnd.jupyter.widget-view+json": {
       "model_id": "5238ecf58cd047dcba939380c79a7752",
       "version_major": 2,
       "version_minor": 0
      },
      "text/plain": [
       "Train epoch [1/3]:   0%|          | 0/3 [00:00<?, ?it/s]"
      ]
     },
     "metadata": {},
     "output_type": "display_data"
    },
    {
     "data": {
      "application/vnd.jupyter.widget-view+json": {
       "model_id": "e47a47350add41df878f79be5d3460cc",
       "version_major": 2,
       "version_minor": 0
      },
      "text/plain": [
       "Train epoch [2/3]:   0%|          | 0/3 [00:00<?, ?it/s]"
      ]
     },
     "metadata": {},
     "output_type": "display_data"
    },
    {
     "data": {
      "application/vnd.jupyter.widget-view+json": {
       "model_id": "d2f6de94260844d698a46f9f7d68cbac",
       "version_major": 2,
       "version_minor": 0
      },
      "text/plain": [
       "Train epoch [3/3]:   0%|          | 0/3 [00:00<?, ?it/s]"
      ]
     },
     "metadata": {},
     "output_type": "display_data"
    },
    {
     "data": {
      "application/vnd.jupyter.widget-view+json": {
       "model_id": "37a024d45f9b4ab18ee61dd9a6a9116d",
       "version_major": 2,
       "version_minor": 0
      },
      "text/plain": [
       "Episode [57/100]:   0%|          | 0/3 [00:00<?, ?it/s]"
      ]
     },
     "metadata": {},
     "output_type": "display_data"
    },
    {
     "data": {
      "application/vnd.jupyter.widget-view+json": {
       "model_id": "7d501db33e9942c6b7128a70a85072db",
       "version_major": 2,
       "version_minor": 0
      },
      "text/plain": [
       "Train epoch [1/3]:   0%|          | 0/3 [00:00<?, ?it/s]"
      ]
     },
     "metadata": {},
     "output_type": "display_data"
    },
    {
     "data": {
      "application/vnd.jupyter.widget-view+json": {
       "model_id": "e5d58e480f074f0ea0e3434486c7548a",
       "version_major": 2,
       "version_minor": 0
      },
      "text/plain": [
       "Train epoch [2/3]:   0%|          | 0/3 [00:00<?, ?it/s]"
      ]
     },
     "metadata": {},
     "output_type": "display_data"
    },
    {
     "data": {
      "application/vnd.jupyter.widget-view+json": {
       "model_id": "c4d6d33f7a684972b26451c0fdc20d37",
       "version_major": 2,
       "version_minor": 0
      },
      "text/plain": [
       "Train epoch [3/3]:   0%|          | 0/3 [00:00<?, ?it/s]"
      ]
     },
     "metadata": {},
     "output_type": "display_data"
    },
    {
     "data": {
      "application/vnd.jupyter.widget-view+json": {
       "model_id": "88f7b70758014fe08d1d453ef293d23f",
       "version_major": 2,
       "version_minor": 0
      },
      "text/plain": [
       "Episode [58/100]:   0%|          | 0/3 [00:00<?, ?it/s]"
      ]
     },
     "metadata": {},
     "output_type": "display_data"
    },
    {
     "data": {
      "application/vnd.jupyter.widget-view+json": {
       "model_id": "8ec85cc4a04f40f0b23b73efb2e46b54",
       "version_major": 2,
       "version_minor": 0
      },
      "text/plain": [
       "Train epoch [1/3]:   0%|          | 0/3 [00:00<?, ?it/s]"
      ]
     },
     "metadata": {},
     "output_type": "display_data"
    },
    {
     "data": {
      "application/vnd.jupyter.widget-view+json": {
       "model_id": "ae399a45e5b34c7d87202522777fa862",
       "version_major": 2,
       "version_minor": 0
      },
      "text/plain": [
       "Train epoch [2/3]:   0%|          | 0/3 [00:00<?, ?it/s]"
      ]
     },
     "metadata": {},
     "output_type": "display_data"
    },
    {
     "data": {
      "application/vnd.jupyter.widget-view+json": {
       "model_id": "8b629f220b4445e282064437b2e04863",
       "version_major": 2,
       "version_minor": 0
      },
      "text/plain": [
       "Train epoch [3/3]:   0%|          | 0/3 [00:00<?, ?it/s]"
      ]
     },
     "metadata": {},
     "output_type": "display_data"
    },
    {
     "data": {
      "application/vnd.jupyter.widget-view+json": {
       "model_id": "f1cc09b1fdca4476a9afbdc8083910a4",
       "version_major": 2,
       "version_minor": 0
      },
      "text/plain": [
       "Episode [59/100]:   0%|          | 0/3 [00:00<?, ?it/s]"
      ]
     },
     "metadata": {},
     "output_type": "display_data"
    },
    {
     "data": {
      "application/vnd.jupyter.widget-view+json": {
       "model_id": "4b8b5dab31074694a12398a50c1aae7e",
       "version_major": 2,
       "version_minor": 0
      },
      "text/plain": [
       "Train epoch [1/3]:   0%|          | 0/3 [00:00<?, ?it/s]"
      ]
     },
     "metadata": {},
     "output_type": "display_data"
    },
    {
     "data": {
      "application/vnd.jupyter.widget-view+json": {
       "model_id": "f401f7236c3844acb3a8163206919586",
       "version_major": 2,
       "version_minor": 0
      },
      "text/plain": [
       "Train epoch [2/3]:   0%|          | 0/3 [00:00<?, ?it/s]"
      ]
     },
     "metadata": {},
     "output_type": "display_data"
    },
    {
     "data": {
      "application/vnd.jupyter.widget-view+json": {
       "model_id": "768e9339402545dba7431f5fc3aea173",
       "version_major": 2,
       "version_minor": 0
      },
      "text/plain": [
       "Train epoch [3/3]:   0%|          | 0/3 [00:00<?, ?it/s]"
      ]
     },
     "metadata": {},
     "output_type": "display_data"
    },
    {
     "data": {
      "application/vnd.jupyter.widget-view+json": {
       "model_id": "ddbb15cbbf864bfc9fc24a08c984aff8",
       "version_major": 2,
       "version_minor": 0
      },
      "text/plain": [
       "Episode [60/100]:   0%|          | 0/3 [00:00<?, ?it/s]"
      ]
     },
     "metadata": {},
     "output_type": "display_data"
    },
    {
     "data": {
      "application/vnd.jupyter.widget-view+json": {
       "model_id": "72d4281abfa34449a62b6e747fc8d141",
       "version_major": 2,
       "version_minor": 0
      },
      "text/plain": [
       "Train epoch [1/3]:   0%|          | 0/3 [00:00<?, ?it/s]"
      ]
     },
     "metadata": {},
     "output_type": "display_data"
    },
    {
     "data": {
      "application/vnd.jupyter.widget-view+json": {
       "model_id": "dfce014223fa4c71b0b28521564f3599",
       "version_major": 2,
       "version_minor": 0
      },
      "text/plain": [
       "Train epoch [2/3]:   0%|          | 0/3 [00:00<?, ?it/s]"
      ]
     },
     "metadata": {},
     "output_type": "display_data"
    },
    {
     "data": {
      "application/vnd.jupyter.widget-view+json": {
       "model_id": "3537ca46d4a04822ab9bbc202cf20a06",
       "version_major": 2,
       "version_minor": 0
      },
      "text/plain": [
       "Train epoch [3/3]:   0%|          | 0/3 [00:00<?, ?it/s]"
      ]
     },
     "metadata": {},
     "output_type": "display_data"
    },
    {
     "data": {
      "application/vnd.jupyter.widget-view+json": {
       "model_id": "1136bb6da94a49589d9f486f58271bd8",
       "version_major": 2,
       "version_minor": 0
      },
      "text/plain": [
       "Episode [61/100]:   0%|          | 0/3 [00:00<?, ?it/s]"
      ]
     },
     "metadata": {},
     "output_type": "display_data"
    },
    {
     "data": {
      "application/vnd.jupyter.widget-view+json": {
       "model_id": "9d0dbb69319840be93d4d02628d55099",
       "version_major": 2,
       "version_minor": 0
      },
      "text/plain": [
       "Train epoch [1/3]:   0%|          | 0/3 [00:00<?, ?it/s]"
      ]
     },
     "metadata": {},
     "output_type": "display_data"
    },
    {
     "data": {
      "application/vnd.jupyter.widget-view+json": {
       "model_id": "247b50cc75674549aef96756573d98d4",
       "version_major": 2,
       "version_minor": 0
      },
      "text/plain": [
       "Train epoch [2/3]:   0%|          | 0/3 [00:00<?, ?it/s]"
      ]
     },
     "metadata": {},
     "output_type": "display_data"
    },
    {
     "data": {
      "application/vnd.jupyter.widget-view+json": {
       "model_id": "2b45732a1fdd4211b8248aa060fbf8e7",
       "version_major": 2,
       "version_minor": 0
      },
      "text/plain": [
       "Train epoch [3/3]:   0%|          | 0/3 [00:00<?, ?it/s]"
      ]
     },
     "metadata": {},
     "output_type": "display_data"
    },
    {
     "data": {
      "application/vnd.jupyter.widget-view+json": {
       "model_id": "b469f24ff2504867be22810d655232ca",
       "version_major": 2,
       "version_minor": 0
      },
      "text/plain": [
       "Episode [62/100]:   0%|          | 0/3 [00:00<?, ?it/s]"
      ]
     },
     "metadata": {},
     "output_type": "display_data"
    },
    {
     "data": {
      "application/vnd.jupyter.widget-view+json": {
       "model_id": "37d7bf9f15fe4bd0b021bd2f8cb1fb9b",
       "version_major": 2,
       "version_minor": 0
      },
      "text/plain": [
       "Train epoch [1/3]:   0%|          | 0/3 [00:00<?, ?it/s]"
      ]
     },
     "metadata": {},
     "output_type": "display_data"
    },
    {
     "data": {
      "application/vnd.jupyter.widget-view+json": {
       "model_id": "7aa8e2a2ed5c41a09db752c7a6a7bfed",
       "version_major": 2,
       "version_minor": 0
      },
      "text/plain": [
       "Train epoch [2/3]:   0%|          | 0/3 [00:00<?, ?it/s]"
      ]
     },
     "metadata": {},
     "output_type": "display_data"
    },
    {
     "data": {
      "application/vnd.jupyter.widget-view+json": {
       "model_id": "46a91f063a974b3eadbd2e78d4625d07",
       "version_major": 2,
       "version_minor": 0
      },
      "text/plain": [
       "Train epoch [3/3]:   0%|          | 0/3 [00:00<?, ?it/s]"
      ]
     },
     "metadata": {},
     "output_type": "display_data"
    },
    {
     "data": {
      "application/vnd.jupyter.widget-view+json": {
       "model_id": "4226c52ad22e4187aef870b760bf6c82",
       "version_major": 2,
       "version_minor": 0
      },
      "text/plain": [
       "Episode [63/100]:   0%|          | 0/3 [00:00<?, ?it/s]"
      ]
     },
     "metadata": {},
     "output_type": "display_data"
    },
    {
     "data": {
      "application/vnd.jupyter.widget-view+json": {
       "model_id": "bdb1f5806d91489eaa8d36fa8cbe6b1e",
       "version_major": 2,
       "version_minor": 0
      },
      "text/plain": [
       "Train epoch [1/3]:   0%|          | 0/3 [00:00<?, ?it/s]"
      ]
     },
     "metadata": {},
     "output_type": "display_data"
    },
    {
     "data": {
      "application/vnd.jupyter.widget-view+json": {
       "model_id": "01a7db586f8a412a9f4ba985923bc753",
       "version_major": 2,
       "version_minor": 0
      },
      "text/plain": [
       "Train epoch [2/3]:   0%|          | 0/3 [00:00<?, ?it/s]"
      ]
     },
     "metadata": {},
     "output_type": "display_data"
    },
    {
     "data": {
      "application/vnd.jupyter.widget-view+json": {
       "model_id": "7ccd2417aba54de19ca68adc6ae4ef7c",
       "version_major": 2,
       "version_minor": 0
      },
      "text/plain": [
       "Train epoch [3/3]:   0%|          | 0/3 [00:00<?, ?it/s]"
      ]
     },
     "metadata": {},
     "output_type": "display_data"
    },
    {
     "data": {
      "application/vnd.jupyter.widget-view+json": {
       "model_id": "a29008920dfe4bfe82b7a19b86acde80",
       "version_major": 2,
       "version_minor": 0
      },
      "text/plain": [
       "Episode [64/100]:   0%|          | 0/3 [00:00<?, ?it/s]"
      ]
     },
     "metadata": {},
     "output_type": "display_data"
    },
    {
     "data": {
      "application/vnd.jupyter.widget-view+json": {
       "model_id": "bbe4d2292db147cf8e10c18ed1b80749",
       "version_major": 2,
       "version_minor": 0
      },
      "text/plain": [
       "Train epoch [1/3]:   0%|          | 0/3 [00:00<?, ?it/s]"
      ]
     },
     "metadata": {},
     "output_type": "display_data"
    },
    {
     "data": {
      "application/vnd.jupyter.widget-view+json": {
       "model_id": "1890f5cd26764b33a43df59da95aa56d",
       "version_major": 2,
       "version_minor": 0
      },
      "text/plain": [
       "Train epoch [2/3]:   0%|          | 0/3 [00:00<?, ?it/s]"
      ]
     },
     "metadata": {},
     "output_type": "display_data"
    },
    {
     "data": {
      "application/vnd.jupyter.widget-view+json": {
       "model_id": "a5678e3b25514a078738f6a5256e0354",
       "version_major": 2,
       "version_minor": 0
      },
      "text/plain": [
       "Train epoch [3/3]:   0%|          | 0/3 [00:00<?, ?it/s]"
      ]
     },
     "metadata": {},
     "output_type": "display_data"
    },
    {
     "data": {
      "application/vnd.jupyter.widget-view+json": {
       "model_id": "4e91f4b5ad964b5ba164998b558415be",
       "version_major": 2,
       "version_minor": 0
      },
      "text/plain": [
       "Episode [65/100]:   0%|          | 0/3 [00:00<?, ?it/s]"
      ]
     },
     "metadata": {},
     "output_type": "display_data"
    },
    {
     "data": {
      "application/vnd.jupyter.widget-view+json": {
       "model_id": "96734dedc4e74926b5900ad2230fcc8b",
       "version_major": 2,
       "version_minor": 0
      },
      "text/plain": [
       "Train epoch [1/3]:   0%|          | 0/3 [00:00<?, ?it/s]"
      ]
     },
     "metadata": {},
     "output_type": "display_data"
    },
    {
     "data": {
      "application/vnd.jupyter.widget-view+json": {
       "model_id": "824418ba82164a619ec33b655162ac40",
       "version_major": 2,
       "version_minor": 0
      },
      "text/plain": [
       "Train epoch [2/3]:   0%|          | 0/3 [00:00<?, ?it/s]"
      ]
     },
     "metadata": {},
     "output_type": "display_data"
    },
    {
     "data": {
      "application/vnd.jupyter.widget-view+json": {
       "model_id": "045812bafb104bb2b505c031a43b3c98",
       "version_major": 2,
       "version_minor": 0
      },
      "text/plain": [
       "Train epoch [3/3]:   0%|          | 0/3 [00:00<?, ?it/s]"
      ]
     },
     "metadata": {},
     "output_type": "display_data"
    },
    {
     "data": {
      "application/vnd.jupyter.widget-view+json": {
       "model_id": "c02467e1723a49549e8da4194bd8342d",
       "version_major": 2,
       "version_minor": 0
      },
      "text/plain": [
       "Episode [66/100]:   0%|          | 0/3 [00:00<?, ?it/s]"
      ]
     },
     "metadata": {},
     "output_type": "display_data"
    },
    {
     "data": {
      "application/vnd.jupyter.widget-view+json": {
       "model_id": "ad63f9b9bcdc467790924133f5e57382",
       "version_major": 2,
       "version_minor": 0
      },
      "text/plain": [
       "Train epoch [1/3]:   0%|          | 0/3 [00:00<?, ?it/s]"
      ]
     },
     "metadata": {},
     "output_type": "display_data"
    },
    {
     "data": {
      "application/vnd.jupyter.widget-view+json": {
       "model_id": "2fb8b1cd86c641b98c4a788336a9cac2",
       "version_major": 2,
       "version_minor": 0
      },
      "text/plain": [
       "Train epoch [2/3]:   0%|          | 0/3 [00:00<?, ?it/s]"
      ]
     },
     "metadata": {},
     "output_type": "display_data"
    },
    {
     "data": {
      "application/vnd.jupyter.widget-view+json": {
       "model_id": "0bc931b13a3942179607f9572bc5bada",
       "version_major": 2,
       "version_minor": 0
      },
      "text/plain": [
       "Train epoch [3/3]:   0%|          | 0/3 [00:00<?, ?it/s]"
      ]
     },
     "metadata": {},
     "output_type": "display_data"
    },
    {
     "data": {
      "application/vnd.jupyter.widget-view+json": {
       "model_id": "0ef85a26ee3243c0bf6927e5b76b4123",
       "version_major": 2,
       "version_minor": 0
      },
      "text/plain": [
       "Episode [67/100]:   0%|          | 0/3 [00:00<?, ?it/s]"
      ]
     },
     "metadata": {},
     "output_type": "display_data"
    },
    {
     "data": {
      "application/vnd.jupyter.widget-view+json": {
       "model_id": "1d31fcdf65624b18a45cf7879f27df0f",
       "version_major": 2,
       "version_minor": 0
      },
      "text/plain": [
       "Train epoch [1/3]:   0%|          | 0/3 [00:00<?, ?it/s]"
      ]
     },
     "metadata": {},
     "output_type": "display_data"
    },
    {
     "data": {
      "application/vnd.jupyter.widget-view+json": {
       "model_id": "d10611d5a35347c4aa50465f28f95e0a",
       "version_major": 2,
       "version_minor": 0
      },
      "text/plain": [
       "Train epoch [2/3]:   0%|          | 0/3 [00:00<?, ?it/s]"
      ]
     },
     "metadata": {},
     "output_type": "display_data"
    },
    {
     "data": {
      "application/vnd.jupyter.widget-view+json": {
       "model_id": "6758a7bb72204a489cc78bc2be1b8502",
       "version_major": 2,
       "version_minor": 0
      },
      "text/plain": [
       "Train epoch [3/3]:   0%|          | 0/3 [00:00<?, ?it/s]"
      ]
     },
     "metadata": {},
     "output_type": "display_data"
    },
    {
     "data": {
      "application/vnd.jupyter.widget-view+json": {
       "model_id": "0ed62d8511294849bf05f5d260f5fafa",
       "version_major": 2,
       "version_minor": 0
      },
      "text/plain": [
       "Episode [68/100]:   0%|          | 0/3 [00:00<?, ?it/s]"
      ]
     },
     "metadata": {},
     "output_type": "display_data"
    },
    {
     "data": {
      "application/vnd.jupyter.widget-view+json": {
       "model_id": "4d848108e16a458ca4db3d6414b4dd79",
       "version_major": 2,
       "version_minor": 0
      },
      "text/plain": [
       "Train epoch [1/3]:   0%|          | 0/3 [00:00<?, ?it/s]"
      ]
     },
     "metadata": {},
     "output_type": "display_data"
    },
    {
     "data": {
      "application/vnd.jupyter.widget-view+json": {
       "model_id": "1c8f2da0ddfa44c585f187abc2f23c3f",
       "version_major": 2,
       "version_minor": 0
      },
      "text/plain": [
       "Train epoch [2/3]:   0%|          | 0/3 [00:00<?, ?it/s]"
      ]
     },
     "metadata": {},
     "output_type": "display_data"
    },
    {
     "data": {
      "application/vnd.jupyter.widget-view+json": {
       "model_id": "fc4e3c140e5c45e4b9257ba5438c7ff8",
       "version_major": 2,
       "version_minor": 0
      },
      "text/plain": [
       "Train epoch [3/3]:   0%|          | 0/3 [00:00<?, ?it/s]"
      ]
     },
     "metadata": {},
     "output_type": "display_data"
    },
    {
     "data": {
      "application/vnd.jupyter.widget-view+json": {
       "model_id": "346aff6b99b644409a72bc4d680febfa",
       "version_major": 2,
       "version_minor": 0
      },
      "text/plain": [
       "Episode [69/100]:   0%|          | 0/3 [00:00<?, ?it/s]"
      ]
     },
     "metadata": {},
     "output_type": "display_data"
    },
    {
     "data": {
      "application/vnd.jupyter.widget-view+json": {
       "model_id": "2b4ab9eb1a014bc8b92fc50c026755ed",
       "version_major": 2,
       "version_minor": 0
      },
      "text/plain": [
       "Train epoch [1/3]:   0%|          | 0/3 [00:00<?, ?it/s]"
      ]
     },
     "metadata": {},
     "output_type": "display_data"
    },
    {
     "data": {
      "application/vnd.jupyter.widget-view+json": {
       "model_id": "e5ff1d3aac5645f2b075969a1efd0c03",
       "version_major": 2,
       "version_minor": 0
      },
      "text/plain": [
       "Train epoch [2/3]:   0%|          | 0/3 [00:00<?, ?it/s]"
      ]
     },
     "metadata": {},
     "output_type": "display_data"
    },
    {
     "data": {
      "application/vnd.jupyter.widget-view+json": {
       "model_id": "9d02d37707b24256a563398554a11c9c",
       "version_major": 2,
       "version_minor": 0
      },
      "text/plain": [
       "Train epoch [3/3]:   0%|          | 0/3 [00:00<?, ?it/s]"
      ]
     },
     "metadata": {},
     "output_type": "display_data"
    },
    {
     "data": {
      "application/vnd.jupyter.widget-view+json": {
       "model_id": "f7f7f07984e8403e986fc4d934c777af",
       "version_major": 2,
       "version_minor": 0
      },
      "text/plain": [
       "Episode [70/100]:   0%|          | 0/3 [00:00<?, ?it/s]"
      ]
     },
     "metadata": {},
     "output_type": "display_data"
    },
    {
     "data": {
      "application/vnd.jupyter.widget-view+json": {
       "model_id": "57926af10a5543f28496c77eafc9879a",
       "version_major": 2,
       "version_minor": 0
      },
      "text/plain": [
       "Train epoch [1/3]:   0%|          | 0/3 [00:00<?, ?it/s]"
      ]
     },
     "metadata": {},
     "output_type": "display_data"
    },
    {
     "data": {
      "application/vnd.jupyter.widget-view+json": {
       "model_id": "649d908d8d354af292e252dfb8448f79",
       "version_major": 2,
       "version_minor": 0
      },
      "text/plain": [
       "Train epoch [2/3]:   0%|          | 0/3 [00:00<?, ?it/s]"
      ]
     },
     "metadata": {},
     "output_type": "display_data"
    },
    {
     "data": {
      "application/vnd.jupyter.widget-view+json": {
       "model_id": "c44900cdc4d54762af7e7d4c0cfe0906",
       "version_major": 2,
       "version_minor": 0
      },
      "text/plain": [
       "Train epoch [3/3]:   0%|          | 0/3 [00:00<?, ?it/s]"
      ]
     },
     "metadata": {},
     "output_type": "display_data"
    },
    {
     "data": {
      "application/vnd.jupyter.widget-view+json": {
       "model_id": "3636f79934d445fd902c14bf117d47cc",
       "version_major": 2,
       "version_minor": 0
      },
      "text/plain": [
       "Episode [71/100]:   0%|          | 0/3 [00:00<?, ?it/s]"
      ]
     },
     "metadata": {},
     "output_type": "display_data"
    },
    {
     "data": {
      "application/vnd.jupyter.widget-view+json": {
       "model_id": "125638e7b8e043d69c51b292186c777e",
       "version_major": 2,
       "version_minor": 0
      },
      "text/plain": [
       "Train epoch [1/3]:   0%|          | 0/3 [00:00<?, ?it/s]"
      ]
     },
     "metadata": {},
     "output_type": "display_data"
    },
    {
     "data": {
      "application/vnd.jupyter.widget-view+json": {
       "model_id": "739eb059de0e44ad865a3a24c2bf21a8",
       "version_major": 2,
       "version_minor": 0
      },
      "text/plain": [
       "Train epoch [2/3]:   0%|          | 0/3 [00:00<?, ?it/s]"
      ]
     },
     "metadata": {},
     "output_type": "display_data"
    },
    {
     "data": {
      "application/vnd.jupyter.widget-view+json": {
       "model_id": "b0eea18d963245bd813cef3ed2c06d73",
       "version_major": 2,
       "version_minor": 0
      },
      "text/plain": [
       "Train epoch [3/3]:   0%|          | 0/3 [00:00<?, ?it/s]"
      ]
     },
     "metadata": {},
     "output_type": "display_data"
    },
    {
     "data": {
      "application/vnd.jupyter.widget-view+json": {
       "model_id": "38af4218159b4fb9b58d635c93512d5e",
       "version_major": 2,
       "version_minor": 0
      },
      "text/plain": [
       "Episode [72/100]:   0%|          | 0/3 [00:00<?, ?it/s]"
      ]
     },
     "metadata": {},
     "output_type": "display_data"
    },
    {
     "data": {
      "application/vnd.jupyter.widget-view+json": {
       "model_id": "a684041f62724797be2e5b805fdc2cfa",
       "version_major": 2,
       "version_minor": 0
      },
      "text/plain": [
       "Train epoch [1/3]:   0%|          | 0/3 [00:00<?, ?it/s]"
      ]
     },
     "metadata": {},
     "output_type": "display_data"
    },
    {
     "data": {
      "application/vnd.jupyter.widget-view+json": {
       "model_id": "f13326b9fe604e3699f536dc47a5f108",
       "version_major": 2,
       "version_minor": 0
      },
      "text/plain": [
       "Train epoch [2/3]:   0%|          | 0/3 [00:00<?, ?it/s]"
      ]
     },
     "metadata": {},
     "output_type": "display_data"
    },
    {
     "data": {
      "application/vnd.jupyter.widget-view+json": {
       "model_id": "8c8408a221854280afea6bb3b2ac766f",
       "version_major": 2,
       "version_minor": 0
      },
      "text/plain": [
       "Train epoch [3/3]:   0%|          | 0/3 [00:00<?, ?it/s]"
      ]
     },
     "metadata": {},
     "output_type": "display_data"
    },
    {
     "data": {
      "application/vnd.jupyter.widget-view+json": {
       "model_id": "4a76fd6c74fb4a07af9e4e5298c55001",
       "version_major": 2,
       "version_minor": 0
      },
      "text/plain": [
       "Episode [73/100]:   0%|          | 0/3 [00:00<?, ?it/s]"
      ]
     },
     "metadata": {},
     "output_type": "display_data"
    },
    {
     "data": {
      "application/vnd.jupyter.widget-view+json": {
       "model_id": "e55ebf3a95de4812bd66a11e767ae65c",
       "version_major": 2,
       "version_minor": 0
      },
      "text/plain": [
       "Train epoch [1/3]:   0%|          | 0/3 [00:00<?, ?it/s]"
      ]
     },
     "metadata": {},
     "output_type": "display_data"
    },
    {
     "data": {
      "application/vnd.jupyter.widget-view+json": {
       "model_id": "f5cf365e588347a5a5a4bdc90d1d637e",
       "version_major": 2,
       "version_minor": 0
      },
      "text/plain": [
       "Train epoch [2/3]:   0%|          | 0/3 [00:00<?, ?it/s]"
      ]
     },
     "metadata": {},
     "output_type": "display_data"
    },
    {
     "data": {
      "application/vnd.jupyter.widget-view+json": {
       "model_id": "29f57844a80848348d79ca834adb8555",
       "version_major": 2,
       "version_minor": 0
      },
      "text/plain": [
       "Train epoch [3/3]:   0%|          | 0/3 [00:00<?, ?it/s]"
      ]
     },
     "metadata": {},
     "output_type": "display_data"
    },
    {
     "data": {
      "application/vnd.jupyter.widget-view+json": {
       "model_id": "bd681c25f0d647e5928b21a415f28055",
       "version_major": 2,
       "version_minor": 0
      },
      "text/plain": [
       "Episode [74/100]:   0%|          | 0/3 [00:00<?, ?it/s]"
      ]
     },
     "metadata": {},
     "output_type": "display_data"
    },
    {
     "data": {
      "application/vnd.jupyter.widget-view+json": {
       "model_id": "77df7d94823a490ab6ff97c15666e52e",
       "version_major": 2,
       "version_minor": 0
      },
      "text/plain": [
       "Train epoch [1/3]:   0%|          | 0/3 [00:00<?, ?it/s]"
      ]
     },
     "metadata": {},
     "output_type": "display_data"
    },
    {
     "data": {
      "application/vnd.jupyter.widget-view+json": {
       "model_id": "8c0e642b798041be8c15eca9ada76427",
       "version_major": 2,
       "version_minor": 0
      },
      "text/plain": [
       "Train epoch [2/3]:   0%|          | 0/3 [00:00<?, ?it/s]"
      ]
     },
     "metadata": {},
     "output_type": "display_data"
    },
    {
     "data": {
      "application/vnd.jupyter.widget-view+json": {
       "model_id": "be73dc75f20b4eefb4ab249031cb3300",
       "version_major": 2,
       "version_minor": 0
      },
      "text/plain": [
       "Train epoch [3/3]:   0%|          | 0/3 [00:00<?, ?it/s]"
      ]
     },
     "metadata": {},
     "output_type": "display_data"
    },
    {
     "data": {
      "application/vnd.jupyter.widget-view+json": {
       "model_id": "021b0f28941d419a94695e7189c94912",
       "version_major": 2,
       "version_minor": 0
      },
      "text/plain": [
       "Episode [75/100]:   0%|          | 0/3 [00:00<?, ?it/s]"
      ]
     },
     "metadata": {},
     "output_type": "display_data"
    },
    {
     "data": {
      "application/vnd.jupyter.widget-view+json": {
       "model_id": "d7758a534f824ff29b63f9ef28fd9e64",
       "version_major": 2,
       "version_minor": 0
      },
      "text/plain": [
       "Train epoch [1/3]:   0%|          | 0/3 [00:00<?, ?it/s]"
      ]
     },
     "metadata": {},
     "output_type": "display_data"
    },
    {
     "data": {
      "application/vnd.jupyter.widget-view+json": {
       "model_id": "6047f049a0ca415b8c36c4c92a67ef5e",
       "version_major": 2,
       "version_minor": 0
      },
      "text/plain": [
       "Train epoch [2/3]:   0%|          | 0/3 [00:00<?, ?it/s]"
      ]
     },
     "metadata": {},
     "output_type": "display_data"
    },
    {
     "data": {
      "application/vnd.jupyter.widget-view+json": {
       "model_id": "3e96577a702d438a94e1f5bbd69ddd10",
       "version_major": 2,
       "version_minor": 0
      },
      "text/plain": [
       "Train epoch [3/3]:   0%|          | 0/3 [00:00<?, ?it/s]"
      ]
     },
     "metadata": {},
     "output_type": "display_data"
    },
    {
     "data": {
      "application/vnd.jupyter.widget-view+json": {
       "model_id": "9ab675ce2e0340a982ff518d2d90b92e",
       "version_major": 2,
       "version_minor": 0
      },
      "text/plain": [
       "Episode [76/100]:   0%|          | 0/3 [00:00<?, ?it/s]"
      ]
     },
     "metadata": {},
     "output_type": "display_data"
    },
    {
     "data": {
      "application/vnd.jupyter.widget-view+json": {
       "model_id": "d219963bc0f14d90a00135c27c9f7d82",
       "version_major": 2,
       "version_minor": 0
      },
      "text/plain": [
       "Train epoch [1/3]:   0%|          | 0/3 [00:00<?, ?it/s]"
      ]
     },
     "metadata": {},
     "output_type": "display_data"
    },
    {
     "data": {
      "application/vnd.jupyter.widget-view+json": {
       "model_id": "3d8199a59bc54641b5e41af123f03d22",
       "version_major": 2,
       "version_minor": 0
      },
      "text/plain": [
       "Train epoch [2/3]:   0%|          | 0/3 [00:00<?, ?it/s]"
      ]
     },
     "metadata": {},
     "output_type": "display_data"
    },
    {
     "data": {
      "application/vnd.jupyter.widget-view+json": {
       "model_id": "2bdb87c259aa4d40bbdbd0843f7c7665",
       "version_major": 2,
       "version_minor": 0
      },
      "text/plain": [
       "Train epoch [3/3]:   0%|          | 0/3 [00:00<?, ?it/s]"
      ]
     },
     "metadata": {},
     "output_type": "display_data"
    },
    {
     "data": {
      "application/vnd.jupyter.widget-view+json": {
       "model_id": "298d97e2d79a4c28b64205a4446737cd",
       "version_major": 2,
       "version_minor": 0
      },
      "text/plain": [
       "Episode [77/100]:   0%|          | 0/3 [00:00<?, ?it/s]"
      ]
     },
     "metadata": {},
     "output_type": "display_data"
    },
    {
     "data": {
      "application/vnd.jupyter.widget-view+json": {
       "model_id": "6ca99cb78baf4f6e94d6c8c8a48e604a",
       "version_major": 2,
       "version_minor": 0
      },
      "text/plain": [
       "Train epoch [1/3]:   0%|          | 0/3 [00:00<?, ?it/s]"
      ]
     },
     "metadata": {},
     "output_type": "display_data"
    },
    {
     "data": {
      "application/vnd.jupyter.widget-view+json": {
       "model_id": "5244692002d145bdaabe10881876ac11",
       "version_major": 2,
       "version_minor": 0
      },
      "text/plain": [
       "Train epoch [2/3]:   0%|          | 0/3 [00:00<?, ?it/s]"
      ]
     },
     "metadata": {},
     "output_type": "display_data"
    },
    {
     "data": {
      "application/vnd.jupyter.widget-view+json": {
       "model_id": "5c54882a38c34acf8f8c7a1c77393597",
       "version_major": 2,
       "version_minor": 0
      },
      "text/plain": [
       "Train epoch [3/3]:   0%|          | 0/3 [00:00<?, ?it/s]"
      ]
     },
     "metadata": {},
     "output_type": "display_data"
    },
    {
     "data": {
      "application/vnd.jupyter.widget-view+json": {
       "model_id": "3ced6b0efc474cefaf7fe8ff459b730a",
       "version_major": 2,
       "version_minor": 0
      },
      "text/plain": [
       "Episode [78/100]:   0%|          | 0/3 [00:00<?, ?it/s]"
      ]
     },
     "metadata": {},
     "output_type": "display_data"
    },
    {
     "data": {
      "application/vnd.jupyter.widget-view+json": {
       "model_id": "52a593ae0e1341a29a89e3cfbb442b57",
       "version_major": 2,
       "version_minor": 0
      },
      "text/plain": [
       "Train epoch [1/3]:   0%|          | 0/3 [00:00<?, ?it/s]"
      ]
     },
     "metadata": {},
     "output_type": "display_data"
    },
    {
     "data": {
      "application/vnd.jupyter.widget-view+json": {
       "model_id": "15de17275594447b8e02b54068001576",
       "version_major": 2,
       "version_minor": 0
      },
      "text/plain": [
       "Train epoch [2/3]:   0%|          | 0/3 [00:00<?, ?it/s]"
      ]
     },
     "metadata": {},
     "output_type": "display_data"
    },
    {
     "data": {
      "application/vnd.jupyter.widget-view+json": {
       "model_id": "c5ea96d76c62407294bb105e8cbca158",
       "version_major": 2,
       "version_minor": 0
      },
      "text/plain": [
       "Train epoch [3/3]:   0%|          | 0/3 [00:00<?, ?it/s]"
      ]
     },
     "metadata": {},
     "output_type": "display_data"
    },
    {
     "data": {
      "application/vnd.jupyter.widget-view+json": {
       "model_id": "a91380996a514806940725671f3da736",
       "version_major": 2,
       "version_minor": 0
      },
      "text/plain": [
       "Episode [79/100]:   0%|          | 0/3 [00:00<?, ?it/s]"
      ]
     },
     "metadata": {},
     "output_type": "display_data"
    },
    {
     "data": {
      "application/vnd.jupyter.widget-view+json": {
       "model_id": "d7d735a588d9462aac6ecee9896c57e0",
       "version_major": 2,
       "version_minor": 0
      },
      "text/plain": [
       "Train epoch [1/3]:   0%|          | 0/3 [00:00<?, ?it/s]"
      ]
     },
     "metadata": {},
     "output_type": "display_data"
    },
    {
     "data": {
      "application/vnd.jupyter.widget-view+json": {
       "model_id": "9b9ea03cae0f4653912cd06dcfc7d4f2",
       "version_major": 2,
       "version_minor": 0
      },
      "text/plain": [
       "Train epoch [2/3]:   0%|          | 0/3 [00:00<?, ?it/s]"
      ]
     },
     "metadata": {},
     "output_type": "display_data"
    },
    {
     "data": {
      "application/vnd.jupyter.widget-view+json": {
       "model_id": "cf1f13620df74d118ba83738aa708c0d",
       "version_major": 2,
       "version_minor": 0
      },
      "text/plain": [
       "Train epoch [3/3]:   0%|          | 0/3 [00:00<?, ?it/s]"
      ]
     },
     "metadata": {},
     "output_type": "display_data"
    },
    {
     "data": {
      "application/vnd.jupyter.widget-view+json": {
       "model_id": "9933d96e89854627b1faeb2e96ea14b7",
       "version_major": 2,
       "version_minor": 0
      },
      "text/plain": [
       "Episode [80/100]:   0%|          | 0/3 [00:00<?, ?it/s]"
      ]
     },
     "metadata": {},
     "output_type": "display_data"
    },
    {
     "data": {
      "application/vnd.jupyter.widget-view+json": {
       "model_id": "49db1c5873f0492cbf3bf3842164b8e4",
       "version_major": 2,
       "version_minor": 0
      },
      "text/plain": [
       "Train epoch [1/3]:   0%|          | 0/3 [00:00<?, ?it/s]"
      ]
     },
     "metadata": {},
     "output_type": "display_data"
    },
    {
     "data": {
      "application/vnd.jupyter.widget-view+json": {
       "model_id": "f7aadd5381b344c09e093292b00c0ad6",
       "version_major": 2,
       "version_minor": 0
      },
      "text/plain": [
       "Train epoch [2/3]:   0%|          | 0/3 [00:00<?, ?it/s]"
      ]
     },
     "metadata": {},
     "output_type": "display_data"
    },
    {
     "data": {
      "application/vnd.jupyter.widget-view+json": {
       "model_id": "574c060ec6794ffba9c97cad78a3cd57",
       "version_major": 2,
       "version_minor": 0
      },
      "text/plain": [
       "Train epoch [3/3]:   0%|          | 0/3 [00:00<?, ?it/s]"
      ]
     },
     "metadata": {},
     "output_type": "display_data"
    },
    {
     "data": {
      "application/vnd.jupyter.widget-view+json": {
       "model_id": "005167d02eb84b59829ac9869b1f5614",
       "version_major": 2,
       "version_minor": 0
      },
      "text/plain": [
       "Episode [81/100]:   0%|          | 0/3 [00:00<?, ?it/s]"
      ]
     },
     "metadata": {},
     "output_type": "display_data"
    },
    {
     "data": {
      "application/vnd.jupyter.widget-view+json": {
       "model_id": "cf7e2620c79743c2806e72273f74e5f5",
       "version_major": 2,
       "version_minor": 0
      },
      "text/plain": [
       "Train epoch [1/3]:   0%|          | 0/3 [00:00<?, ?it/s]"
      ]
     },
     "metadata": {},
     "output_type": "display_data"
    },
    {
     "data": {
      "application/vnd.jupyter.widget-view+json": {
       "model_id": "4f8eaf95e92f48c4ba6426c8434bf1a5",
       "version_major": 2,
       "version_minor": 0
      },
      "text/plain": [
       "Train epoch [2/3]:   0%|          | 0/3 [00:00<?, ?it/s]"
      ]
     },
     "metadata": {},
     "output_type": "display_data"
    },
    {
     "data": {
      "application/vnd.jupyter.widget-view+json": {
       "model_id": "6d262e6174b14921b8f80b50c5c50f51",
       "version_major": 2,
       "version_minor": 0
      },
      "text/plain": [
       "Train epoch [3/3]:   0%|          | 0/3 [00:00<?, ?it/s]"
      ]
     },
     "metadata": {},
     "output_type": "display_data"
    },
    {
     "data": {
      "application/vnd.jupyter.widget-view+json": {
       "model_id": "1fdc2cd67ec84538b1b17968ecd40897",
       "version_major": 2,
       "version_minor": 0
      },
      "text/plain": [
       "Episode [82/100]:   0%|          | 0/3 [00:00<?, ?it/s]"
      ]
     },
     "metadata": {},
     "output_type": "display_data"
    },
    {
     "data": {
      "application/vnd.jupyter.widget-view+json": {
       "model_id": "e6ecf8ff11f14ac2846029c5c87f548d",
       "version_major": 2,
       "version_minor": 0
      },
      "text/plain": [
       "Train epoch [1/3]:   0%|          | 0/3 [00:00<?, ?it/s]"
      ]
     },
     "metadata": {},
     "output_type": "display_data"
    },
    {
     "data": {
      "application/vnd.jupyter.widget-view+json": {
       "model_id": "2a8894e337d84024bc4641248496a999",
       "version_major": 2,
       "version_minor": 0
      },
      "text/plain": [
       "Train epoch [2/3]:   0%|          | 0/3 [00:00<?, ?it/s]"
      ]
     },
     "metadata": {},
     "output_type": "display_data"
    },
    {
     "data": {
      "application/vnd.jupyter.widget-view+json": {
       "model_id": "d5048782900f4a3a9e47ebf07439e097",
       "version_major": 2,
       "version_minor": 0
      },
      "text/plain": [
       "Train epoch [3/3]:   0%|          | 0/3 [00:00<?, ?it/s]"
      ]
     },
     "metadata": {},
     "output_type": "display_data"
    },
    {
     "data": {
      "application/vnd.jupyter.widget-view+json": {
       "model_id": "feacf10cd9994af7b35107ad0baf21a3",
       "version_major": 2,
       "version_minor": 0
      },
      "text/plain": [
       "Episode [83/100]:   0%|          | 0/3 [00:00<?, ?it/s]"
      ]
     },
     "metadata": {},
     "output_type": "display_data"
    },
    {
     "data": {
      "application/vnd.jupyter.widget-view+json": {
       "model_id": "309d822fdd1f497e998a80252099ec99",
       "version_major": 2,
       "version_minor": 0
      },
      "text/plain": [
       "Train epoch [1/3]:   0%|          | 0/3 [00:00<?, ?it/s]"
      ]
     },
     "metadata": {},
     "output_type": "display_data"
    },
    {
     "data": {
      "application/vnd.jupyter.widget-view+json": {
       "model_id": "8df2a70a99d64f999cb44ccaa45a5964",
       "version_major": 2,
       "version_minor": 0
      },
      "text/plain": [
       "Train epoch [2/3]:   0%|          | 0/3 [00:00<?, ?it/s]"
      ]
     },
     "metadata": {},
     "output_type": "display_data"
    },
    {
     "data": {
      "application/vnd.jupyter.widget-view+json": {
       "model_id": "1f529e6c64ef4a2eb192badfff8df746",
       "version_major": 2,
       "version_minor": 0
      },
      "text/plain": [
       "Train epoch [3/3]:   0%|          | 0/3 [00:00<?, ?it/s]"
      ]
     },
     "metadata": {},
     "output_type": "display_data"
    },
    {
     "data": {
      "application/vnd.jupyter.widget-view+json": {
       "model_id": "2610fefa818149808224f71a154e02f3",
       "version_major": 2,
       "version_minor": 0
      },
      "text/plain": [
       "Episode [84/100]:   0%|          | 0/3 [00:00<?, ?it/s]"
      ]
     },
     "metadata": {},
     "output_type": "display_data"
    },
    {
     "data": {
      "application/vnd.jupyter.widget-view+json": {
       "model_id": "5d84a4043cd14a03a9032c71bbdbea53",
       "version_major": 2,
       "version_minor": 0
      },
      "text/plain": [
       "Train epoch [1/3]:   0%|          | 0/3 [00:00<?, ?it/s]"
      ]
     },
     "metadata": {},
     "output_type": "display_data"
    },
    {
     "data": {
      "application/vnd.jupyter.widget-view+json": {
       "model_id": "13ad6b07f8654fe09e3134adfe873842",
       "version_major": 2,
       "version_minor": 0
      },
      "text/plain": [
       "Train epoch [2/3]:   0%|          | 0/3 [00:00<?, ?it/s]"
      ]
     },
     "metadata": {},
     "output_type": "display_data"
    },
    {
     "data": {
      "application/vnd.jupyter.widget-view+json": {
       "model_id": "e032a282e4a8403ca19156bfd89000ce",
       "version_major": 2,
       "version_minor": 0
      },
      "text/plain": [
       "Train epoch [3/3]:   0%|          | 0/3 [00:00<?, ?it/s]"
      ]
     },
     "metadata": {},
     "output_type": "display_data"
    },
    {
     "data": {
      "application/vnd.jupyter.widget-view+json": {
       "model_id": "d9b0f6fe9ca442d7aae41336720406fa",
       "version_major": 2,
       "version_minor": 0
      },
      "text/plain": [
       "Episode [85/100]:   0%|          | 0/3 [00:00<?, ?it/s]"
      ]
     },
     "metadata": {},
     "output_type": "display_data"
    },
    {
     "data": {
      "application/vnd.jupyter.widget-view+json": {
       "model_id": "b9c3b4f38ef74ac79eeb4e8738221d2a",
       "version_major": 2,
       "version_minor": 0
      },
      "text/plain": [
       "Train epoch [1/3]:   0%|          | 0/3 [00:00<?, ?it/s]"
      ]
     },
     "metadata": {},
     "output_type": "display_data"
    },
    {
     "data": {
      "application/vnd.jupyter.widget-view+json": {
       "model_id": "f5480ece7e1340a697a528975e6a40ad",
       "version_major": 2,
       "version_minor": 0
      },
      "text/plain": [
       "Train epoch [2/3]:   0%|          | 0/3 [00:00<?, ?it/s]"
      ]
     },
     "metadata": {},
     "output_type": "display_data"
    },
    {
     "data": {
      "application/vnd.jupyter.widget-view+json": {
       "model_id": "c26a21a0ac164a99908f449498bf6a06",
       "version_major": 2,
       "version_minor": 0
      },
      "text/plain": [
       "Train epoch [3/3]:   0%|          | 0/3 [00:00<?, ?it/s]"
      ]
     },
     "metadata": {},
     "output_type": "display_data"
    },
    {
     "data": {
      "application/vnd.jupyter.widget-view+json": {
       "model_id": "f609a238381e4166aab390e7b974b5d9",
       "version_major": 2,
       "version_minor": 0
      },
      "text/plain": [
       "Episode [86/100]:   0%|          | 0/3 [00:00<?, ?it/s]"
      ]
     },
     "metadata": {},
     "output_type": "display_data"
    },
    {
     "data": {
      "application/vnd.jupyter.widget-view+json": {
       "model_id": "f34bfec896dc425da773876ac55f2b88",
       "version_major": 2,
       "version_minor": 0
      },
      "text/plain": [
       "Train epoch [1/3]:   0%|          | 0/3 [00:00<?, ?it/s]"
      ]
     },
     "metadata": {},
     "output_type": "display_data"
    },
    {
     "data": {
      "application/vnd.jupyter.widget-view+json": {
       "model_id": "e1373cd4b2b84da798ae5ac41864f3ce",
       "version_major": 2,
       "version_minor": 0
      },
      "text/plain": [
       "Train epoch [2/3]:   0%|          | 0/3 [00:00<?, ?it/s]"
      ]
     },
     "metadata": {},
     "output_type": "display_data"
    },
    {
     "data": {
      "application/vnd.jupyter.widget-view+json": {
       "model_id": "805ce95cd6134767bf4ab9e6bdd2dda5",
       "version_major": 2,
       "version_minor": 0
      },
      "text/plain": [
       "Train epoch [3/3]:   0%|          | 0/3 [00:00<?, ?it/s]"
      ]
     },
     "metadata": {},
     "output_type": "display_data"
    },
    {
     "data": {
      "application/vnd.jupyter.widget-view+json": {
       "model_id": "9eb04ff395fa43d9bf600e8ac8ab3532",
       "version_major": 2,
       "version_minor": 0
      },
      "text/plain": [
       "Episode [87/100]:   0%|          | 0/3 [00:00<?, ?it/s]"
      ]
     },
     "metadata": {},
     "output_type": "display_data"
    },
    {
     "data": {
      "application/vnd.jupyter.widget-view+json": {
       "model_id": "e132db949ad449c18517b309b5f00738",
       "version_major": 2,
       "version_minor": 0
      },
      "text/plain": [
       "Train epoch [1/3]:   0%|          | 0/3 [00:00<?, ?it/s]"
      ]
     },
     "metadata": {},
     "output_type": "display_data"
    },
    {
     "data": {
      "application/vnd.jupyter.widget-view+json": {
       "model_id": "a2e14cf0c6534027b29f78182ff5f37d",
       "version_major": 2,
       "version_minor": 0
      },
      "text/plain": [
       "Train epoch [2/3]:   0%|          | 0/3 [00:00<?, ?it/s]"
      ]
     },
     "metadata": {},
     "output_type": "display_data"
    },
    {
     "data": {
      "application/vnd.jupyter.widget-view+json": {
       "model_id": "aacf694644474775a6fad54b9f8b8b6f",
       "version_major": 2,
       "version_minor": 0
      },
      "text/plain": [
       "Train epoch [3/3]:   0%|          | 0/3 [00:00<?, ?it/s]"
      ]
     },
     "metadata": {},
     "output_type": "display_data"
    },
    {
     "data": {
      "application/vnd.jupyter.widget-view+json": {
       "model_id": "5f6586e7a2474b7ba5abc374cee9079c",
       "version_major": 2,
       "version_minor": 0
      },
      "text/plain": [
       "Episode [88/100]:   0%|          | 0/3 [00:00<?, ?it/s]"
      ]
     },
     "metadata": {},
     "output_type": "display_data"
    },
    {
     "data": {
      "application/vnd.jupyter.widget-view+json": {
       "model_id": "0f588c37a45b4c0a9d044a4dc2796b4e",
       "version_major": 2,
       "version_minor": 0
      },
      "text/plain": [
       "Train epoch [1/3]:   0%|          | 0/3 [00:00<?, ?it/s]"
      ]
     },
     "metadata": {},
     "output_type": "display_data"
    },
    {
     "data": {
      "application/vnd.jupyter.widget-view+json": {
       "model_id": "b533c36624c14428a2127f4c71ee1f46",
       "version_major": 2,
       "version_minor": 0
      },
      "text/plain": [
       "Train epoch [2/3]:   0%|          | 0/3 [00:00<?, ?it/s]"
      ]
     },
     "metadata": {},
     "output_type": "display_data"
    },
    {
     "data": {
      "application/vnd.jupyter.widget-view+json": {
       "model_id": "5e93b557d4334dbbb961347d677afab8",
       "version_major": 2,
       "version_minor": 0
      },
      "text/plain": [
       "Train epoch [3/3]:   0%|          | 0/3 [00:00<?, ?it/s]"
      ]
     },
     "metadata": {},
     "output_type": "display_data"
    },
    {
     "data": {
      "application/vnd.jupyter.widget-view+json": {
       "model_id": "51278bf2f0104aa6880a73baffbba04d",
       "version_major": 2,
       "version_minor": 0
      },
      "text/plain": [
       "Episode [89/100]:   0%|          | 0/3 [00:00<?, ?it/s]"
      ]
     },
     "metadata": {},
     "output_type": "display_data"
    },
    {
     "data": {
      "application/vnd.jupyter.widget-view+json": {
       "model_id": "3e0e52121c304701a947e108251d6f97",
       "version_major": 2,
       "version_minor": 0
      },
      "text/plain": [
       "Train epoch [1/3]:   0%|          | 0/3 [00:00<?, ?it/s]"
      ]
     },
     "metadata": {},
     "output_type": "display_data"
    },
    {
     "data": {
      "application/vnd.jupyter.widget-view+json": {
       "model_id": "9f73e883067749eda9f3cd119ef5f6f6",
       "version_major": 2,
       "version_minor": 0
      },
      "text/plain": [
       "Train epoch [2/3]:   0%|          | 0/3 [00:00<?, ?it/s]"
      ]
     },
     "metadata": {},
     "output_type": "display_data"
    },
    {
     "data": {
      "application/vnd.jupyter.widget-view+json": {
       "model_id": "df24c068866a45e89cd0b19fdbb2a9ac",
       "version_major": 2,
       "version_minor": 0
      },
      "text/plain": [
       "Train epoch [3/3]:   0%|          | 0/3 [00:00<?, ?it/s]"
      ]
     },
     "metadata": {},
     "output_type": "display_data"
    },
    {
     "data": {
      "application/vnd.jupyter.widget-view+json": {
       "model_id": "627a101d71fe4a69bf106d1c08cde736",
       "version_major": 2,
       "version_minor": 0
      },
      "text/plain": [
       "Episode [90/100]:   0%|          | 0/3 [00:00<?, ?it/s]"
      ]
     },
     "metadata": {},
     "output_type": "display_data"
    },
    {
     "data": {
      "application/vnd.jupyter.widget-view+json": {
       "model_id": "1b28a6175aa14d9f883d057a5621f263",
       "version_major": 2,
       "version_minor": 0
      },
      "text/plain": [
       "Train epoch [1/3]:   0%|          | 0/3 [00:00<?, ?it/s]"
      ]
     },
     "metadata": {},
     "output_type": "display_data"
    },
    {
     "data": {
      "application/vnd.jupyter.widget-view+json": {
       "model_id": "c87f685923b24a45871ae039439386cc",
       "version_major": 2,
       "version_minor": 0
      },
      "text/plain": [
       "Train epoch [2/3]:   0%|          | 0/3 [00:00<?, ?it/s]"
      ]
     },
     "metadata": {},
     "output_type": "display_data"
    },
    {
     "data": {
      "application/vnd.jupyter.widget-view+json": {
       "model_id": "e570f014934541408ea8208b28b29dba",
       "version_major": 2,
       "version_minor": 0
      },
      "text/plain": [
       "Train epoch [3/3]:   0%|          | 0/3 [00:00<?, ?it/s]"
      ]
     },
     "metadata": {},
     "output_type": "display_data"
    },
    {
     "data": {
      "application/vnd.jupyter.widget-view+json": {
       "model_id": "6ba72af4c7db41b3a27f66b3fe786b7a",
       "version_major": 2,
       "version_minor": 0
      },
      "text/plain": [
       "Episode [91/100]:   0%|          | 0/3 [00:00<?, ?it/s]"
      ]
     },
     "metadata": {},
     "output_type": "display_data"
    },
    {
     "data": {
      "application/vnd.jupyter.widget-view+json": {
       "model_id": "b646dbaaa8b44efa9021cd7a1235dee3",
       "version_major": 2,
       "version_minor": 0
      },
      "text/plain": [
       "Train epoch [1/3]:   0%|          | 0/3 [00:00<?, ?it/s]"
      ]
     },
     "metadata": {},
     "output_type": "display_data"
    },
    {
     "data": {
      "application/vnd.jupyter.widget-view+json": {
       "model_id": "e81ca307829a466291df37e07136dea4",
       "version_major": 2,
       "version_minor": 0
      },
      "text/plain": [
       "Train epoch [2/3]:   0%|          | 0/3 [00:00<?, ?it/s]"
      ]
     },
     "metadata": {},
     "output_type": "display_data"
    },
    {
     "data": {
      "application/vnd.jupyter.widget-view+json": {
       "model_id": "8242e3f07c4c469aa9666b80eb58b132",
       "version_major": 2,
       "version_minor": 0
      },
      "text/plain": [
       "Train epoch [3/3]:   0%|          | 0/3 [00:00<?, ?it/s]"
      ]
     },
     "metadata": {},
     "output_type": "display_data"
    },
    {
     "data": {
      "application/vnd.jupyter.widget-view+json": {
       "model_id": "88fa9c6fa72e435dab84d572f9c04b29",
       "version_major": 2,
       "version_minor": 0
      },
      "text/plain": [
       "Episode [92/100]:   0%|          | 0/3 [00:00<?, ?it/s]"
      ]
     },
     "metadata": {},
     "output_type": "display_data"
    },
    {
     "data": {
      "application/vnd.jupyter.widget-view+json": {
       "model_id": "ffcc9f4631c543599e4780b8a453fec7",
       "version_major": 2,
       "version_minor": 0
      },
      "text/plain": [
       "Train epoch [1/3]:   0%|          | 0/3 [00:00<?, ?it/s]"
      ]
     },
     "metadata": {},
     "output_type": "display_data"
    },
    {
     "data": {
      "application/vnd.jupyter.widget-view+json": {
       "model_id": "4f5788bb86c2445a81e493ed3096b4e2",
       "version_major": 2,
       "version_minor": 0
      },
      "text/plain": [
       "Train epoch [2/3]:   0%|          | 0/3 [00:00<?, ?it/s]"
      ]
     },
     "metadata": {},
     "output_type": "display_data"
    },
    {
     "data": {
      "application/vnd.jupyter.widget-view+json": {
       "model_id": "28ee63b0c2da454e80cec6af1a852e5a",
       "version_major": 2,
       "version_minor": 0
      },
      "text/plain": [
       "Train epoch [3/3]:   0%|          | 0/3 [00:00<?, ?it/s]"
      ]
     },
     "metadata": {},
     "output_type": "display_data"
    },
    {
     "data": {
      "application/vnd.jupyter.widget-view+json": {
       "model_id": "2bcc37b46e524ef7a2683a562276aba8",
       "version_major": 2,
       "version_minor": 0
      },
      "text/plain": [
       "Episode [93/100]:   0%|          | 0/3 [00:00<?, ?it/s]"
      ]
     },
     "metadata": {},
     "output_type": "display_data"
    },
    {
     "data": {
      "application/vnd.jupyter.widget-view+json": {
       "model_id": "3fee8ee68603443e8d0acf092ac0e9b0",
       "version_major": 2,
       "version_minor": 0
      },
      "text/plain": [
       "Train epoch [1/3]:   0%|          | 0/3 [00:00<?, ?it/s]"
      ]
     },
     "metadata": {},
     "output_type": "display_data"
    },
    {
     "data": {
      "application/vnd.jupyter.widget-view+json": {
       "model_id": "73243fe85257411daaad03b7cd57e40d",
       "version_major": 2,
       "version_minor": 0
      },
      "text/plain": [
       "Train epoch [2/3]:   0%|          | 0/3 [00:00<?, ?it/s]"
      ]
     },
     "metadata": {},
     "output_type": "display_data"
    },
    {
     "data": {
      "application/vnd.jupyter.widget-view+json": {
       "model_id": "a62b7f7c2c344899ae989b80273bff54",
       "version_major": 2,
       "version_minor": 0
      },
      "text/plain": [
       "Train epoch [3/3]:   0%|          | 0/3 [00:00<?, ?it/s]"
      ]
     },
     "metadata": {},
     "output_type": "display_data"
    },
    {
     "data": {
      "application/vnd.jupyter.widget-view+json": {
       "model_id": "3c066acf3f554a7d9209b25e57c7a8e2",
       "version_major": 2,
       "version_minor": 0
      },
      "text/plain": [
       "Episode [94/100]:   0%|          | 0/3 [00:00<?, ?it/s]"
      ]
     },
     "metadata": {},
     "output_type": "display_data"
    },
    {
     "data": {
      "application/vnd.jupyter.widget-view+json": {
       "model_id": "4822c2175b434726903a099013f12148",
       "version_major": 2,
       "version_minor": 0
      },
      "text/plain": [
       "Train epoch [1/3]:   0%|          | 0/3 [00:00<?, ?it/s]"
      ]
     },
     "metadata": {},
     "output_type": "display_data"
    },
    {
     "data": {
      "application/vnd.jupyter.widget-view+json": {
       "model_id": "ae78dccdef2843cfae849403c93e4782",
       "version_major": 2,
       "version_minor": 0
      },
      "text/plain": [
       "Train epoch [2/3]:   0%|          | 0/3 [00:00<?, ?it/s]"
      ]
     },
     "metadata": {},
     "output_type": "display_data"
    },
    {
     "data": {
      "application/vnd.jupyter.widget-view+json": {
       "model_id": "8fc5913908ec4a1da5e38cadbbbf801a",
       "version_major": 2,
       "version_minor": 0
      },
      "text/plain": [
       "Train epoch [3/3]:   0%|          | 0/3 [00:00<?, ?it/s]"
      ]
     },
     "metadata": {},
     "output_type": "display_data"
    },
    {
     "data": {
      "application/vnd.jupyter.widget-view+json": {
       "model_id": "3fecf2ccac8545bc99e7fb8ded5a4588",
       "version_major": 2,
       "version_minor": 0
      },
      "text/plain": [
       "Episode [95/100]:   0%|          | 0/3 [00:00<?, ?it/s]"
      ]
     },
     "metadata": {},
     "output_type": "display_data"
    },
    {
     "data": {
      "application/vnd.jupyter.widget-view+json": {
       "model_id": "8d8445933b024b3a85c56de8982d2b3b",
       "version_major": 2,
       "version_minor": 0
      },
      "text/plain": [
       "Train epoch [1/3]:   0%|          | 0/3 [00:00<?, ?it/s]"
      ]
     },
     "metadata": {},
     "output_type": "display_data"
    },
    {
     "data": {
      "application/vnd.jupyter.widget-view+json": {
       "model_id": "d82693c1897b4e3cbe8985a2d0bec020",
       "version_major": 2,
       "version_minor": 0
      },
      "text/plain": [
       "Train epoch [2/3]:   0%|          | 0/3 [00:00<?, ?it/s]"
      ]
     },
     "metadata": {},
     "output_type": "display_data"
    },
    {
     "data": {
      "application/vnd.jupyter.widget-view+json": {
       "model_id": "01faf60bdd6d47febffc045711b9f268",
       "version_major": 2,
       "version_minor": 0
      },
      "text/plain": [
       "Train epoch [3/3]:   0%|          | 0/3 [00:00<?, ?it/s]"
      ]
     },
     "metadata": {},
     "output_type": "display_data"
    },
    {
     "data": {
      "application/vnd.jupyter.widget-view+json": {
       "model_id": "3b77588aa88d499c95cbf111716c7bf7",
       "version_major": 2,
       "version_minor": 0
      },
      "text/plain": [
       "Episode [96/100]:   0%|          | 0/3 [00:00<?, ?it/s]"
      ]
     },
     "metadata": {},
     "output_type": "display_data"
    },
    {
     "data": {
      "application/vnd.jupyter.widget-view+json": {
       "model_id": "cd2f1521d41f40b0a94f686c7521bde1",
       "version_major": 2,
       "version_minor": 0
      },
      "text/plain": [
       "Train epoch [1/3]:   0%|          | 0/3 [00:00<?, ?it/s]"
      ]
     },
     "metadata": {},
     "output_type": "display_data"
    },
    {
     "data": {
      "application/vnd.jupyter.widget-view+json": {
       "model_id": "a387a9d5cce143389169febb40fd64ac",
       "version_major": 2,
       "version_minor": 0
      },
      "text/plain": [
       "Train epoch [2/3]:   0%|          | 0/3 [00:00<?, ?it/s]"
      ]
     },
     "metadata": {},
     "output_type": "display_data"
    },
    {
     "data": {
      "application/vnd.jupyter.widget-view+json": {
       "model_id": "48190c785f4f4772accda0dd8503cfa1",
       "version_major": 2,
       "version_minor": 0
      },
      "text/plain": [
       "Train epoch [3/3]:   0%|          | 0/3 [00:00<?, ?it/s]"
      ]
     },
     "metadata": {},
     "output_type": "display_data"
    },
    {
     "data": {
      "application/vnd.jupyter.widget-view+json": {
       "model_id": "ff0c6c32cc3140fda2ef290b422094e4",
       "version_major": 2,
       "version_minor": 0
      },
      "text/plain": [
       "Episode [97/100]:   0%|          | 0/3 [00:00<?, ?it/s]"
      ]
     },
     "metadata": {},
     "output_type": "display_data"
    },
    {
     "data": {
      "application/vnd.jupyter.widget-view+json": {
       "model_id": "beca96b4981841b98d1af8548977daf8",
       "version_major": 2,
       "version_minor": 0
      },
      "text/plain": [
       "Train epoch [1/3]:   0%|          | 0/3 [00:00<?, ?it/s]"
      ]
     },
     "metadata": {},
     "output_type": "display_data"
    },
    {
     "data": {
      "application/vnd.jupyter.widget-view+json": {
       "model_id": "2e068478e0a34c93b8448af88a1a0100",
       "version_major": 2,
       "version_minor": 0
      },
      "text/plain": [
       "Train epoch [2/3]:   0%|          | 0/3 [00:00<?, ?it/s]"
      ]
     },
     "metadata": {},
     "output_type": "display_data"
    },
    {
     "data": {
      "application/vnd.jupyter.widget-view+json": {
       "model_id": "41aefd0f93a04267bd80bdd7c9e83447",
       "version_major": 2,
       "version_minor": 0
      },
      "text/plain": [
       "Train epoch [3/3]:   0%|          | 0/3 [00:00<?, ?it/s]"
      ]
     },
     "metadata": {},
     "output_type": "display_data"
    },
    {
     "data": {
      "application/vnd.jupyter.widget-view+json": {
       "model_id": "94f567f7fa0b4fbe9d0971b34640aa2f",
       "version_major": 2,
       "version_minor": 0
      },
      "text/plain": [
       "Episode [98/100]:   0%|          | 0/3 [00:00<?, ?it/s]"
      ]
     },
     "metadata": {},
     "output_type": "display_data"
    },
    {
     "data": {
      "application/vnd.jupyter.widget-view+json": {
       "model_id": "2ab54a66f8f94fbe8aa809d047ade64a",
       "version_major": 2,
       "version_minor": 0
      },
      "text/plain": [
       "Train epoch [1/3]:   0%|          | 0/3 [00:00<?, ?it/s]"
      ]
     },
     "metadata": {},
     "output_type": "display_data"
    },
    {
     "data": {
      "application/vnd.jupyter.widget-view+json": {
       "model_id": "a81327bdd1f34c55b7489a5f8ab18f0d",
       "version_major": 2,
       "version_minor": 0
      },
      "text/plain": [
       "Train epoch [2/3]:   0%|          | 0/3 [00:00<?, ?it/s]"
      ]
     },
     "metadata": {},
     "output_type": "display_data"
    },
    {
     "data": {
      "application/vnd.jupyter.widget-view+json": {
       "model_id": "6b27e9d9051c40ffa730f49e1184db85",
       "version_major": 2,
       "version_minor": 0
      },
      "text/plain": [
       "Train epoch [3/3]:   0%|          | 0/3 [00:00<?, ?it/s]"
      ]
     },
     "metadata": {},
     "output_type": "display_data"
    },
    {
     "data": {
      "application/vnd.jupyter.widget-view+json": {
       "model_id": "a691a6b26ab04441b36ceb7a9bc1755f",
       "version_major": 2,
       "version_minor": 0
      },
      "text/plain": [
       "Episode [99/100]:   0%|          | 0/3 [00:00<?, ?it/s]"
      ]
     },
     "metadata": {},
     "output_type": "display_data"
    },
    {
     "data": {
      "application/vnd.jupyter.widget-view+json": {
       "model_id": "fdfd7ccef6034a9e954a7d3f8b317e42",
       "version_major": 2,
       "version_minor": 0
      },
      "text/plain": [
       "Train epoch [1/3]:   0%|          | 0/3 [00:00<?, ?it/s]"
      ]
     },
     "metadata": {},
     "output_type": "display_data"
    },
    {
     "data": {
      "application/vnd.jupyter.widget-view+json": {
       "model_id": "792fd6fcea704befb8b361ea44cb3584",
       "version_major": 2,
       "version_minor": 0
      },
      "text/plain": [
       "Train epoch [2/3]:   0%|          | 0/3 [00:00<?, ?it/s]"
      ]
     },
     "metadata": {},
     "output_type": "display_data"
    },
    {
     "data": {
      "application/vnd.jupyter.widget-view+json": {
       "model_id": "7d7ae8b4c86346cfb3abde3c3adb39b2",
       "version_major": 2,
       "version_minor": 0
      },
      "text/plain": [
       "Train epoch [3/3]:   0%|          | 0/3 [00:00<?, ?it/s]"
      ]
     },
     "metadata": {},
     "output_type": "display_data"
    },
    {
     "data": {
      "application/vnd.jupyter.widget-view+json": {
       "model_id": "2be9405de5834b1bad4b4c41ad75baaa",
       "version_major": 2,
       "version_minor": 0
      },
      "text/plain": [
       "Episode [100/100]:   0%|          | 0/3 [00:00<?, ?it/s]"
      ]
     },
     "metadata": {},
     "output_type": "display_data"
    },
    {
     "data": {
      "application/vnd.jupyter.widget-view+json": {
       "model_id": "340cf7257e3b477791cc48d14f6cc32b",
       "version_major": 2,
       "version_minor": 0
      },
      "text/plain": [
       "Train epoch [1/3]:   0%|          | 0/3 [00:00<?, ?it/s]"
      ]
     },
     "metadata": {},
     "output_type": "display_data"
    },
    {
     "data": {
      "application/vnd.jupyter.widget-view+json": {
       "model_id": "835e464acd2e4e0183dde54cff016514",
       "version_major": 2,
       "version_minor": 0
      },
      "text/plain": [
       "Train epoch [2/3]:   0%|          | 0/3 [00:00<?, ?it/s]"
      ]
     },
     "metadata": {},
     "output_type": "display_data"
    },
    {
     "data": {
      "application/vnd.jupyter.widget-view+json": {
       "model_id": "aed77878bd16490e8e7864a068ab5983",
       "version_major": 2,
       "version_minor": 0
      },
      "text/plain": [
       "Train epoch [3/3]:   0%|          | 0/3 [00:00<?, ?it/s]"
      ]
     },
     "metadata": {},
     "output_type": "display_data"
    },
    {
     "data": {
      "text/html": [],
      "text/plain": [
       "<IPython.core.display.HTML object>"
      ]
     },
     "metadata": {},
     "output_type": "display_data"
    },
    {
     "data": {
      "text/html": [
       "<br>    <style><br>        .wandb-row {<br>            display: flex;<br>            flex-direction: row;<br>            flex-wrap: wrap;<br>            justify-content: flex-start;<br>            width: 100%;<br>        }<br>        .wandb-col {<br>            display: flex;<br>            flex-direction: column;<br>            flex-basis: 100%;<br>            flex: 1;<br>            padding: 10px;<br>        }<br>    </style><br><div class=\"wandb-row\"><div class=\"wandb-col\"><h3>Run history:</h3><br/><table class=\"wandb\"><tr><td>actor_loss</td><td>█▄▄▃▃▂▁▃▂▂▁▂▂▂▃▂▃▃▃▃▃▃▂▂▂▃▃▂▂▃▃▂▄▂▃▂▄▂▃▄</td></tr><tr><td>critic_loss</td><td>▅▁▄▃▂▁▂▂▂▅▃▂▂▂▂▂▄▂▁▂▂▃▁█▁▂▂▃▁▂▃▃▂▃▂▁▂▃▂▁</td></tr></table><br/></div><div class=\"wandb-col\"><h3>Run summary:</h3><br/><table class=\"wandb\"><tr><td>actor_loss</td><td>-0.03026</td></tr><tr><td>critic_loss</td><td>0.00362</td></tr></table><br/></div></div>"
      ],
      "text/plain": [
       "<IPython.core.display.HTML object>"
      ]
     },
     "metadata": {},
     "output_type": "display_data"
    },
    {
     "data": {
      "text/html": [
       " View run <strong style=\"color:#cdcd00\">ppo_100_episodes_3_epochs_v2.5</strong> at: <a href='https://wandb.ai/beomyongchoi-university-of-colorado-boulder/kochatgpt_tuning/runs/q6mmnu7d' target=\"_blank\">https://wandb.ai/beomyongchoi-university-of-colorado-boulder/kochatgpt_tuning/runs/q6mmnu7d</a><br> View project at: <a href='https://wandb.ai/beomyongchoi-university-of-colorado-boulder/kochatgpt_tuning' target=\"_blank\">https://wandb.ai/beomyongchoi-university-of-colorado-boulder/kochatgpt_tuning</a><br>Synced 5 W&B file(s), 0 media file(s), 0 artifact file(s) and 0 other file(s)"
      ],
      "text/plain": [
       "<IPython.core.display.HTML object>"
      ]
     },
     "metadata": {},
     "output_type": "display_data"
    },
    {
     "data": {
      "text/html": [
       "Find logs at: <code>./wandb/run-20250919_010711-q6mmnu7d/logs</code>"
      ],
      "text/plain": [
       "<IPython.core.display.HTML object>"
      ]
     },
     "metadata": {},
     "output_type": "display_data"
    }
   ],
   "source": [
    "# wandb 실행 초기화\n",
    "wandb.init(project=\"kochatgpt_tuning\", name=PPO_RUN_NAME, config={\n",
    "    \"actor_lr\": 5e-6,\n",
    "    \"critic_lr\": 5e-6,\n",
    "    \"episodes\": PPO_NUM_EPISODES\n",
    "})\n",
    "\n",
    "# 콜백 인스턴스 생성\n",
    "wandb_plot_callback = WandbPlottingCallback()\n",
    "\n",
    "# PPOTrainer 초기화 시 callbacks 추가\n",
    "trainer = PPOTrainer(\n",
    "    NaiveStrategy(),\n",
    "    actor,\n",
    "    critic,\n",
    "    reward_model,\n",
    "    initial_model,\n",
    "    actor_optim,\n",
    "    critic_optim,\n",
    "    max_epochs=PPO_MAX_EPOCHS, # PPO 내부 학습 에포크도 3으로 수정\n",
    "    train_batch_size=8,\n",
    "    tokenizer=tokenize_fn,\n",
    "    max_length=128,\n",
    "    do_sample=True,\n",
    "    temperature=1.0,\n",
    "    top_k=50,\n",
    "    kl_coef=0.5, # KL 페널티 계수 추가 \n",
    "    pad_token_id=tokenizer.pad_token_id,\n",
    "    eos_token_id=tokenizer.eos_token_id,\n",
    "    callbacks=[wandb_plot_callback]  # 콜백 추가\n",
    ")\n",
    "\n",
    "# PPO 학습 시작\n",
    "trainer.fit(list_prompt,\n",
    "            num_episodes=PPO_NUM_EPISODES,\n",
    "            max_timesteps=3,\n",
    "            update_timesteps=3)\n",
    "\n",
    "# wandb 실행 종료\n",
    "wandb.finish()\n",
    "\n",
    "# 최종 PPO 모델 저장\n",
    "actor.model.save_pretrained(PPO_MODEL_NAME)"
   ]
  },
  {
   "cell_type": "code",
   "execution_count": 27,
   "id": "e1ad6617",
   "metadata": {},
   "outputs": [
    {
     "data": {
      "image/png": "[encoded data removed]",
      "text/plain": [
       "<Figure size 1200x600 with 2 Axes>"
      ]
     },
     "metadata": {},
     "output_type": "display_data"
    }
   ],
   "source": [
    "import matplotlib.pyplot as plt\n",
    "\n",
    "# PPO 학습 과정에서 기록된 loss 값들을 가져와 그래프를 그립니다.\n",
    "actor_losses = wandb_plot_callback.actor_losses\n",
    "critic_losses = wandb_plot_callback.critic_losses\n",
    "\n",
    "plt.figure(figsize=(12, 6))\n",
    "\n",
    "plt.subplot(1, 2, 1)\n",
    "plt.plot(actor_losses, label='PPO Actor Loss')\n",
    "plt.title('PPO Actor Loss')\n",
    "plt.xlabel('Training Steps')\n",
    "plt.ylabel('Loss')\n",
    "plt.legend()\n",
    "\n",
    "plt.subplot(1, 2, 2)\n",
    "plt.plot(critic_losses, label='PPO Critic Loss', color='orange')\n",
    "plt.title('PPO Critic Critic Loss')\n",
    "plt.xlabel('Training Steps')\n",
    "plt.ylabel('Loss')\n",
    "plt.legend()\n",
    "\n",
    "plt.tight_layout()\n",
    "plt.show()"
   ]
  },
  {
   "cell_type": "markdown",
   "id": "dcb91305",
   "metadata": {},
   "source": [
    "#### 4.3.3. PPO 모델 성능 평가"
   ]
  },
  {
   "cell_type": "markdown",
   "id": "e0ef97e3",
   "metadata": {},
   "source": [
    "PPO 학습까지 완료된 최종 모델을 로드하여, 베이스라인 및 SFT 모델과 동일한 프롬프트에 대한 답변을 생성하고 비교합니다. RLHF의 모든 과정을 거친 후 모델의 답변이 얼마나 더 자연스럽고 유용하게 변화했는지 확인합니다."
   ]
  },
  {
   "cell_type": "code",
   "execution_count": 28,
   "id": "a5e1502a",
   "metadata": {},
   "outputs": [
    {
     "name": "stdout",
     "output_type": "stream",
     "text": [
      "--- Generating PPO Model Responses ---\n",
      "\n",
      "--- PPO Model Generation Results ---\n",
      "Prompt: 불고기용 고기 한우에요?\n",
      "Output: '저는 인공지능 언어모델로써 가격을 알 수 없습니다. 그러나 일반적으로 식당이나 시장에서 고기를 저렴하게 판매할 수 있습니다. 하지만 소스와 함께 보관 기간도 오래되기 때문에, 구매 전에 해당 가게의 정보를 확인하시면 좋은 정보 얻으실 수 있습니다.\n",
      "\n",
      "Prompt: 리처드 닉슨이 43대 부통령직을 수행한 년도는?\n",
      "Output: '리처드 닉슨은 46대 부통령직을 수행한 년도는 2004년입니다.\n",
      "\n",
      "Prompt: 시카고 오헤어 국제공항은 어디에 있어\n",
      "Output: '시카고 오헤어 국제공항은 미국의 뉴욕 주 시카고 지역에 위치해 있습니다.\n",
      "\n",
      "Prompt: 오늘 미세먼지 어때?\n",
      "Output: '제가 AI 모델로 자연어 처리를 담당하고 있기 때문에, 미세먼지 등 생활하시는 부분이 불편하거나 궁금하신 점이 있을 경우 언제든지 말씀해주세요. 혹시 다른 궁금점이 있으신다면 물어보세요.\n",
      "\n"
     ]
    }
   ],
   "source": [
    "# 최종 PPO 모델로 답변 생성 함수\n",
    "def generation(input_text, model, tokenizer):\n",
    "    input_ids = tokenizer.encode(input_text, return_tensors='pt').to(\n",
    "        torch.cuda.current_device())\n",
    "\n",
    "    outputs = model.model.generate(input_ids,\n",
    "                            max_length=250,\n",
    "                            do_sample=True,\n",
    "                            top_k=50,\n",
    "                            top_p=0.95,\n",
    "                            num_return_sequences=1)\n",
    "\n",
    "    output_text = tokenizer.batch_decode(outputs, skip_special_tokens=True)[0]\n",
    "    return output_text\n",
    "\n",
    "# 테스트용 프롬프트 리스트\n",
    "list_prompt = [\n",
    "    '불고기용 고기 한우에요?',\n",
    "    '리처드 닉슨이 43대 부통령직을 수행한 년도는?',\n",
    "    '시카고 오헤어 국제공항은 어디에 있어',\n",
    "    '오늘 미세먼지 어때?']\n",
    "\n",
    "# 프롬프트 형식 변환\n",
    "PROMPT_DICT = {\n",
    "    \"prompt_input\": (\n",
    "        \"### Instruction(명령어):\\n{prompt}\\n\\n### Response(응답):\"\n",
    "    )\n",
    "}\n",
    "list_formatted_prompt = [PROMPT_DICT['prompt_input'].format_map({'prompt': tmp}) for tmp in list_prompt]\n",
    "\n",
    "# 1. 먼저 답변을 생성\n",
    "print(\"--- Generating PPO Model Responses ---\")\n",
    "ppo_outputs = []\n",
    "for input_text in list_formatted_prompt:\n",
    "    output = generation(input_text, actor, tokenizer)\n",
    "    ppo_outputs.append(output)\n",
    "\n",
    "# 2. 생성된 결과를 깔끔하게 출력\n",
    "print(\"\\n--- PPO Model Generation Results ---\")\n",
    "for prompt, result_text in zip(list_prompt, ppo_outputs):\n",
    "    # 프롬프트 부분을 제거하고 순수 답변만 추출\n",
    "    formatted_prompt = PROMPT_DICT['prompt_input'].format_map({'prompt': prompt})\n",
    "    output_text = result_text.replace(formatted_prompt, \"\").strip()\n",
    "\n",
    "    print(f\"Prompt: {prompt}\")\n",
    "    print(f\"Output: {output_text}\\n\")"
   ]
  },
  {
   "cell_type": "markdown",
   "id": "6b28f233",
   "metadata": {},
   "source": [
    "## 종합 성능 비교"
   ]
  },
  {
   "cell_type": "markdown",
   "id": "05707602",
   "metadata": {},
   "source": [
    "### 5.1. 정량적 평가 (BLEU, ROUGE)\n",
    "지금까지의 정성 평가에 더해, 정량적인 지표로도 세 모델(Baseline, SFT, PPO)의 성능을 비교합니다.\n",
    "SFT 학습에 사용했던 데이터셋의 일부를 테스트셋으로 사용하여, 각 모델의 생성 결과가 기존의 정답(`completion`)과 얼마나 유사한지를 BLEU와 ROUGE 점수로 측정합니다."
   ]
  },
  {
   "cell_type": "code",
   "execution_count": 29,
   "id": "655756c7",
   "metadata": {},
   "outputs": [
    {
     "name": "stdout",
     "output_type": "stream",
     "text": [
      "Test dataset loaded: 100 samples\n",
      "Generating responses from each model...\n"
     ]
    },
    {
     "data": {
      "application/vnd.jupyter.widget-view+json": {
       "model_id": "96d1aa39ccba41f29e8c1026cce2a63d",
       "version_major": 2,
       "version_minor": 0
      },
      "text/plain": [
       "  0%|          | 0/100 [00:00<?, ?it/s]"
      ]
     },
     "metadata": {},
     "output_type": "display_data"
    },
    {
     "name": "stdout",
     "output_type": "stream",
     "text": [
      "Response generation complete.\n"
     ]
    }
   ],
   "source": [
    "# 1. 정량 평가에 필요한 라이브러리 임포트\n",
    "from tqdm.notebook import tqdm\n",
    "from nltk.translate.bleu_score import sentence_bleu, SmoothingFunction\n",
    "from rouge import Rouge\n",
    "\n",
    "# 2. 평가를 위한 데이터셋 준비 (SFT 데이터셋의 마지막 100개 사용)\n",
    "try:\n",
    "    with open(DATA_PATH_1_SFT, 'r', encoding='utf-8') as f:\n",
    "        dataset = json.load(f)\n",
    "        # 마지막 100개를 테스트셋으로 사용\n",
    "        test_data = dataset[-100:]\n",
    "        test_prompts = [item['prompt'] for item in test_data]\n",
    "        test_references = [item['completion'] for item in test_data]\n",
    "    print(f\"Test dataset loaded: {len(test_prompts)} samples\")\n",
    "except Exception as e:\n",
    "    print(f\"Error loading test data: {e}\")\n",
    "    test_prompts, test_references = [], []\n",
    "\n",
    "# 3. 각 모델의 답변 생성\n",
    "# SFT/PPO 모델에 맞는 프롬프트 형식으로 변환\n",
    "PROMPT_DICT = {\n",
    "    \"prompt_input\": (\n",
    "        \"### Instruction(명령어):\\n{prompt}\\n\\n### Response(응답):\"\n",
    "    )\n",
    "}\n",
    "formatted_prompts = [PROMPT_DICT['prompt_input'].format_map({'prompt' : p}) for p in test_prompts]\n",
    "\n",
    "# 각 모델별 답변을 저장할 리스트\n",
    "base_outputs = []\n",
    "sft_outputs = []\n",
    "ppo_outputs = []\n",
    "\n",
    "# 생성 파라미터 (일관된 비교를 위해 Beam Search 사용)\n",
    "generation_params = {\n",
    "    \"max_length\": 128,\n",
    "    \"num_beams\": 5,\n",
    "    \"no_repeat_ngram_size\": 2,\n",
    "    \"do_sample\": False,\n",
    "    \"early_stopping\": True\n",
    "}\n",
    "\n",
    "print(\"Generating responses from each model...\")\n",
    "# tqdm을 사용하여 진행 상황 표시\n",
    "for i in tqdm(range(len(test_prompts))):\n",
    "    # Baseline 모델 답변 생성\n",
    "    base_output = generate_text(base_model, base_tokenizer, test_prompts[i], generation_params)\n",
    "    base_outputs.append(base_output.replace(test_prompts[i], \"\").strip()) # 프롬프트 부분 제거\n",
    "\n",
    "    # SFT 모델 답변 생성\n",
    "    sft_output = generate_text(sft_model, sft_tokenizer, formatted_prompts[i], generation_params)\n",
    "    sft_outputs.append(sft_output.replace(formatted_prompts[i], \"\").strip())\n",
    "\n",
    "    # PPO 모델 답변 생성\n",
    "    ppo_output = generation(formatted_prompts[i], actor, tokenizer) # PPO용 generation 함수 사용\n",
    "    ppo_outputs.append(ppo_output.replace(formatted_prompts[i], \"\").strip())\n",
    "\n",
    "print(\"Response generation complete.\")"
   ]
  },
  {
   "cell_type": "markdown",
   "id": "eb860a8b",
   "metadata": {},
   "source": [
    "##### **정량 평가 점수 계산 및 비교**\n",
    "이제 생성된 답변들과 정답(`references`) 사이의 BLEU, ROUGE 점수를 계산하여 표로 비교합니다."
   ]
  },
  {
   "cell_type": "code",
   "execution_count": 30,
   "id": "5c4e6d4d",
   "metadata": {},
   "outputs": [
    {
     "name": "stdout",
     "output_type": "stream",
     "text": [
      "--- Quantitative Evaluation Results ---\n",
      "               Model  BLEU Score  ROUGE-L (F1)\n",
      "0  Baseline (KoGPT2)    0.001547      0.017356\n",
      "1      SFT (3-epoch)    0.012859      0.103715\n",
      "2      PPO (3-epoch)    0.018225      0.107560\n",
      "\n",
      "--- Example Comparison (Sample 0) ---\n",
      "Prompt: 리퀴드 피드백은 왜 만들어졌어\n",
      "Reference: '리퀴드 피드백은 사용자들의 의견과 피드백을 쉽게 수집하고 처리하기 위해 만들어졌습니다. 이를 통해 서비스나 제품의 품질을 향상시키고 사용자들의 만족도를 높이는 데에 도움이 됩니다. 또한, 리퀴드 피드백은 고객과의 소통을 강화하여 브랜드의 이미지를 개선하는 데에도 중요한 역할을 합니다.\n",
      "--------------------\n",
      "Baseline Output: 요?\"\n",
      "\"그런 건 아니에요.\"\n",
      "그녀는 고개를 끄덕였다.\n",
      "\"아뇨, 그건 그렇고.\"\n",
      "\"그래요, 그게 무슨 말씀이신지 모르겠어요. 저도 그 얘기를 들었거든요. 하지만 저는 그걸 믿지 않아요. 그래서 저를 믿게 된 거죠.\"\n",
      "그녀의 눈에서 눈물이 주르륵 흘러내렸다.\n",
      "\"어떻게 그런 일이 일어날 수 있죠? 정말 끔찍한 일이에요. 정말 죄송합니다, 선생님. 정말 미안해요. 선생님이 저한테 그런 말씀을 하실 줄은 몰랐\n",
      "SFT Output: '저는 인공지능 챗봇이기 때문에 리퀴드의 피드백을 만들 수 없습니다. 하지만 사용자들의 피드백이 무엇인지에 따라 달라질 수 있기 때문에, 해당 정보를 알려주시면 더 자세한 답변을 드릴 수 있을 것입니다.\n",
      "PPO Output: '리퀴드 피드백은 실제로 존재하는 비밀과 데이터가 생성되지 않은 상태로 생성된 것입니다. 그러나 이러한 피드백은 많은 것을 시사하는 것으로 잘 알려져 있습니다.\n"
     ]
    }
   ],
   "source": [
    "# 4. 점수 계산 함수\n",
    "def calculate_scores(references, candidates):\n",
    "    # BLEU 점수 계산\n",
    "    bleu_scores = []\n",
    "    smoothie = SmoothingFunction().method1\n",
    "    for ref, cand in zip(references, candidates):\n",
    "        ref_tokens = [ref.split()]\n",
    "        cand_tokens = cand.split()\n",
    "        # 후보 문장이 비어있는 경우 예외 처리\n",
    "        if not cand_tokens:\n",
    "            bleu_scores.append(0)\n",
    "            continue\n",
    "        bleu_score = sentence_bleu(ref_tokens, cand_tokens, smoothing_function=smoothie)\n",
    "        bleu_scores.append(bleu_score)\n",
    "    avg_bleu = (sum(bleu_scores) / len(bleu_scores)) if bleu_scores else 0\n",
    "\n",
    "    # ROUGE 점수 계산\n",
    "    rouge = Rouge()\n",
    "    # 후보 리스트가 비어있지 않을 때만 점수 계산\n",
    "    if candidates:\n",
    "        try:\n",
    "            scores = rouge.get_scores(candidates, references, avg=True)\n",
    "            rouge_l_f1 = scores['rouge-l']['f']\n",
    "        except ValueError:\n",
    "            rouge_l_f1 = 0.0 # 생성된 답변이 없는 경우\n",
    "    else:\n",
    "        rouge_l_f1 = 0.0\n",
    "\n",
    "    return avg_bleu, rouge_l_f1\n",
    "\n",
    "# 5. 각 모델별 점수 계산\n",
    "base_bleu, base_rouge_l = calculate_scores(test_references, base_outputs)\n",
    "sft_bleu, sft_rouge_l = calculate_scores(test_references, sft_outputs)\n",
    "ppo_bleu, ppo_rouge_l = calculate_scores(test_references, ppo_outputs)\n",
    "\n",
    "# 6. 결과 비교 테이블 생성\n",
    "scores_df = pd.DataFrame({\n",
    "    'Model': ['Baseline (KoGPT2)', 'SFT (3-epoch)', 'PPO (3-epoch)'],\n",
    "    'BLEU Score': [base_bleu, sft_bleu, ppo_bleu],\n",
    "    'ROUGE-L (F1)': [base_rouge_l, sft_rouge_l, ppo_rouge_l]\n",
    "})\n",
    "\n",
    "print(\"--- Quantitative Evaluation Results ---\")\n",
    "print(scores_df)\n",
    "\n",
    "# 결과 예시 중 하나 출력\n",
    "print(\"\\n--- Example Comparison (Sample 0) ---\")\n",
    "print(f\"Prompt: {test_prompts[0]}\")\n",
    "print(f\"Reference: {test_references[0]}\")\n",
    "print(\"-\" * 20)\n",
    "print(f\"Baseline Output: {base_outputs[0]}\")\n",
    "print(f\"SFT Output: {sft_outputs[0]}\")\n",
    "print(f\"PPO Output: {ppo_outputs[0]}\")"
   ]
  },
  {
   "cell_type": "markdown",
   "id": "5d215d1a",
   "metadata": {},
   "source": [
    "---"
   ]
  },
  {
   "cell_type": "markdown",
   "id": "2a3028b7",
   "metadata": {},
   "source": [
    "### WandB 리포트 생성"
   ]
  },
  {
   "cell_type": "code",
   "execution_count": 31,
   "id": "c34337ff",
   "metadata": {},
   "outputs": [
    {
     "data": {
      "text/html": [],
      "text/plain": [
       "<IPython.core.display.HTML object>"
      ]
     },
     "metadata": {},
     "output_type": "display_data"
    },
    {
     "data": {
      "text/html": [
       "Tracking run with wandb version 0.21.4"
      ],
      "text/plain": [
       "<IPython.core.display.HTML object>"
      ]
     },
     "metadata": {},
     "output_type": "display_data"
    },
    {
     "data": {
      "text/html": [
       "Run data is saved locally in <code>/home/jovyan/work/zxcv/wandb/run-20250919_020139-gmxwdk6h</code>"
      ],
      "text/plain": [
       "<IPython.core.display.HTML object>"
      ]
     },
     "metadata": {},
     "output_type": "display_data"
    },
    {
     "data": {
      "text/html": [
       "Syncing run <strong><a href='https://wandb.ai/beomyongchoi-university-of-colorado-boulder/kochatgpt_tuning/runs/gmxwdk6h' target=\"_blank\">evaluation_summary_3_epochs_v2.5</a></strong> to <a href='https://wandb.ai/beomyongchoi-university-of-colorado-boulder/kochatgpt_tuning' target=\"_blank\">Weights & Biases</a> (<a href='https://wandb.me/developer-guide' target=\"_blank\">docs</a>)<br>"
      ],
      "text/plain": [
       "<IPython.core.display.HTML object>"
      ]
     },
     "metadata": {},
     "output_type": "display_data"
    },
    {
     "data": {
      "text/html": [
       " View project at <a href='https://wandb.ai/beomyongchoi-university-of-colorado-boulder/kochatgpt_tuning' target=\"_blank\">https://wandb.ai/beomyongchoi-university-of-colorado-boulder/kochatgpt_tuning</a>"
      ],
      "text/plain": [
       "<IPython.core.display.HTML object>"
      ]
     },
     "metadata": {},
     "output_type": "display_data"
    },
    {
     "data": {
      "text/html": [
       " View run at <a href='https://wandb.ai/beomyongchoi-university-of-colorado-boulder/kochatgpt_tuning/runs/gmxwdk6h' target=\"_blank\">https://wandb.ai/beomyongchoi-university-of-colorado-boulder/kochatgpt_tuning/runs/gmxwdk6h</a>"
      ],
      "text/plain": [
       "<IPython.core.display.HTML object>"
      ]
     },
     "metadata": {},
     "output_type": "display_data"
    },
    {
     "data": {
      "text/html": [],
      "text/plain": [
       "<IPython.core.display.HTML object>"
      ]
     },
     "metadata": {},
     "output_type": "display_data"
    },
    {
     "data": {
      "text/html": [
       " View run <strong style=\"color:#cdcd00\">evaluation_summary_3_epochs_v2.5</strong> at: <a href='https://wandb.ai/beomyongchoi-university-of-colorado-boulder/kochatgpt_tuning/runs/gmxwdk6h' target=\"_blank\">https://wandb.ai/beomyongchoi-university-of-colorado-boulder/kochatgpt_tuning/runs/gmxwdk6h</a><br> View project at: <a href='https://wandb.ai/beomyongchoi-university-of-colorado-boulder/kochatgpt_tuning' target=\"_blank\">https://wandb.ai/beomyongchoi-university-of-colorado-boulder/kochatgpt_tuning</a><br>Synced 5 W&B file(s), 2 media file(s), 4 artifact file(s) and 0 other file(s)"
      ],
      "text/plain": [
       "<IPython.core.display.HTML object>"
      ]
     },
     "metadata": {},
     "output_type": "display_data"
    },
    {
     "data": {
      "text/html": [
       "Find logs at: <code>./wandb/run-20250919_020139-gmxwdk6h/logs</code>"
      ],
      "text/plain": [
       "<IPython.core.display.HTML object>"
      ]
     },
     "metadata": {},
     "output_type": "display_data"
    }
   ],
   "source": [
    "# 1. 모든 평가가 끝난 후, wandb에 최종 리포트를 기록하기 위한 run을 시작\n",
    "run = wandb.init(project=\"kochatgpt_tuning\", name=f\"evaluation_summary_3_epochs_{VERSION_NAME}\", job_type=\"evaluation\")\n",
    "\n",
    "# 2. 정성 평가 결과를 담을 wandb.Table 생성\n",
    "qualitative_data = []\n",
    "for i in range(len(test_prompts)):\n",
    "    qualitative_data.append([\n",
    "        test_prompts[i],\n",
    "        base_outputs[i],\n",
    "        sft_outputs[i],\n",
    "        ppo_outputs[i]\n",
    "    ])\n",
    "qualitative_table = wandb.Table(columns=[\"Prompt\", \"Baseline\", \"SFT\", \"PPO\"], data=qualitative_data)\n",
    "\n",
    "# 3. 정량/정성 평가 결과를 wandb에 로그\n",
    "wandb.log({\n",
    "    \"quantitative_scores\": scores_df, # pandas DataFrame은 자동으로 테이블로 변환됨\n",
    "    \"qualitative_comparison\": qualitative_table\n",
    "})\n",
    "\n",
    "# 4. 실행 종료\n",
    "wandb.finish()"
   ]
  }
 ],
 "metadata": {
  "kernelspec": {
   "display_name": "Python 3 (ipykernel)",
   "language": "python",
   "name": "python3"
  },
  "language_info": {
   "codemirror_mode": {
    "name": "ipython",
    "version": 3
   },
   "file_extension": ".py",
   "mimetype": "text/x-python",
   "name": "python",
   "nbconvert_exporter": "python",
   "pygments_lexer": "ipython3",
   "version": "3.12.11"
  }
 },
 "nbformat": 4,
 "nbformat_minor": 5
}
