{
 "cells": [
  {
   "cell_type": "markdown",
   "id": "9df5570a",
   "metadata": {
    "papermill": {
     "duration": 0.012407,
     "end_time": "2025-07-15T16:39:02.393910",
     "exception": false,
     "start_time": "2025-07-15T16:39:02.381503",
     "status": "completed"
    },
    "tags": []
   },
   "source": [
    "# [집값 맞추기](https://www.kaggle.com/c/2019-2nd-ml-month-with-kakr)"
   ]
  },
  {
   "cell_type": "code",
   "execution_count": 1,
   "id": "3bbe76d9",
   "metadata": {
    "_uuid": "38bfbd5ada16035c96bb21265c51de80361f17b4",
    "execution": {
     "iopub.execute_input": "2025-07-15T16:39:02.403701Z",
     "iopub.status.busy": "2025-07-15T16:39:02.403327Z",
     "iopub.status.idle": "2025-07-15T16:39:03.747186Z",
     "shell.execute_reply": "2025-07-15T16:39:03.746897Z"
    },
    "papermill": {
     "duration": 1.348833,
     "end_time": "2025-07-15T16:39:03.748066",
     "exception": false,
     "start_time": "2025-07-15T16:39:02.399233",
     "status": "completed"
    },
    "tags": []
   },
   "outputs": [],
   "source": [
    "import warnings\n",
    "warnings.filterwarnings(\"ignore\")\n",
    "\n",
    "import os\n",
    "from os.path import join\n",
    "\n",
    "import pandas as pd\n",
    "import numpy as np\n",
    "\n",
    "import missingno as msno\n",
    "\n",
    "from sklearn.preprocessing import RobustScaler\n",
    "from sklearn.ensemble import GradientBoostingRegressor\n",
    "from sklearn.model_selection import KFold, cross_val_score\n",
    "import xgboost as xgb\n",
    "import lightgbm as lgb\n",
    "\n",
    "import matplotlib.pyplot as plt\n",
    "import seaborn as sns"
   ]
  },
  {
   "cell_type": "code",
   "execution_count": 2,
   "id": "49c4bdfe",
   "metadata": {
    "execution": {
     "iopub.execute_input": "2025-07-15T16:39:03.752371Z",
     "iopub.status.busy": "2025-07-15T16:39:03.752160Z",
     "iopub.status.idle": "2025-07-15T16:39:03.774716Z",
     "shell.execute_reply": "2025-07-15T16:39:03.774455Z"
    },
    "papermill": {
     "duration": 0.025526,
     "end_time": "2025-07-15T16:39:03.775573",
     "exception": false,
     "start_time": "2025-07-15T16:39:03.750047",
     "status": "completed"
    },
    "tags": []
   },
   "outputs": [],
   "source": [
    "train_data_path = join('data', 'train.csv')\n",
    "test_data_path = join('data', 'test.csv')\n",
    "\n",
    "train = pd.read_csv(train_data_path)\n",
    "test = pd.read_csv(test_data_path)\n",
    "\n",
    "# sqft_living 기준으로 이상치 제거\n",
    "train = train[train['sqft_living'] < 13000]\n",
    "\n",
    "# 수치형 피처 로그 변환\n",
    "skew_columns = ['sqft_living', 'sqft_lot', 'sqft_above', 'sqft_basement', 'sqft_living15', 'sqft_lot15']\n",
    "for c in skew_columns:\n",
    "    train[c] = np.log1p(train[c].values)\n",
    "    test[c] = np.log1p(test[c].values)"
   ]
  },
  {
   "cell_type": "code",
   "execution_count": 3,
   "id": "0fca341a",
   "metadata": {
    "execution": {
     "iopub.execute_input": "2025-07-15T16:39:03.779742Z",
     "iopub.status.busy": "2025-07-15T16:39:03.779637Z",
     "iopub.status.idle": "2025-07-15T16:39:03.788399Z",
     "shell.execute_reply": "2025-07-15T16:39:03.788197Z"
    },
    "papermill": {
     "duration": 0.011514,
     "end_time": "2025-07-15T16:39:03.789022",
     "exception": false,
     "start_time": "2025-07-15T16:39:03.777508",
     "status": "completed"
    },
    "tags": []
   },
   "outputs": [
    {
     "data": {
      "text/html": [
       "<div>\n",
       "<style scoped>\n",
       "    .dataframe tbody tr th:only-of-type {\n",
       "        vertical-align: middle;\n",
       "    }\n",
       "\n",
       "    .dataframe tbody tr th {\n",
       "        vertical-align: top;\n",
       "    }\n",
       "\n",
       "    .dataframe thead th {\n",
       "        text-align: right;\n",
       "    }\n",
       "</style>\n",
       "<table border=\"1\" class=\"dataframe\">\n",
       "  <thead>\n",
       "    <tr style=\"text-align: right;\">\n",
       "      <th></th>\n",
       "      <th>id</th>\n",
       "      <th>date</th>\n",
       "      <th>price</th>\n",
       "      <th>bedrooms</th>\n",
       "      <th>bathrooms</th>\n",
       "      <th>sqft_living</th>\n",
       "      <th>sqft_lot</th>\n",
       "      <th>floors</th>\n",
       "      <th>waterfront</th>\n",
       "      <th>view</th>\n",
       "      <th>...</th>\n",
       "      <th>grade</th>\n",
       "      <th>sqft_above</th>\n",
       "      <th>sqft_basement</th>\n",
       "      <th>yr_built</th>\n",
       "      <th>yr_renovated</th>\n",
       "      <th>zipcode</th>\n",
       "      <th>lat</th>\n",
       "      <th>long</th>\n",
       "      <th>sqft_living15</th>\n",
       "      <th>sqft_lot15</th>\n",
       "    </tr>\n",
       "  </thead>\n",
       "  <tbody>\n",
       "    <tr>\n",
       "      <th>0</th>\n",
       "      <td>0</td>\n",
       "      <td>20141013T000000</td>\n",
       "      <td>221900.0</td>\n",
       "      <td>3</td>\n",
       "      <td>1.00</td>\n",
       "      <td>7.074117</td>\n",
       "      <td>8.639588</td>\n",
       "      <td>1.0</td>\n",
       "      <td>0</td>\n",
       "      <td>0</td>\n",
       "      <td>...</td>\n",
       "      <td>7</td>\n",
       "      <td>7.074117</td>\n",
       "      <td>0.0</td>\n",
       "      <td>1955</td>\n",
       "      <td>0</td>\n",
       "      <td>98178</td>\n",
       "      <td>47.5112</td>\n",
       "      <td>-122.257</td>\n",
       "      <td>7.201171</td>\n",
       "      <td>8.639588</td>\n",
       "    </tr>\n",
       "    <tr>\n",
       "      <th>1</th>\n",
       "      <td>1</td>\n",
       "      <td>20150225T000000</td>\n",
       "      <td>180000.0</td>\n",
       "      <td>2</td>\n",
       "      <td>1.00</td>\n",
       "      <td>6.647688</td>\n",
       "      <td>9.210440</td>\n",
       "      <td>1.0</td>\n",
       "      <td>0</td>\n",
       "      <td>0</td>\n",
       "      <td>...</td>\n",
       "      <td>6</td>\n",
       "      <td>6.647688</td>\n",
       "      <td>0.0</td>\n",
       "      <td>1933</td>\n",
       "      <td>0</td>\n",
       "      <td>98028</td>\n",
       "      <td>47.7379</td>\n",
       "      <td>-122.233</td>\n",
       "      <td>7.908755</td>\n",
       "      <td>8.995041</td>\n",
       "    </tr>\n",
       "    <tr>\n",
       "      <th>2</th>\n",
       "      <td>2</td>\n",
       "      <td>20150218T000000</td>\n",
       "      <td>510000.0</td>\n",
       "      <td>3</td>\n",
       "      <td>2.00</td>\n",
       "      <td>7.427144</td>\n",
       "      <td>8.997271</td>\n",
       "      <td>1.0</td>\n",
       "      <td>0</td>\n",
       "      <td>0</td>\n",
       "      <td>...</td>\n",
       "      <td>8</td>\n",
       "      <td>7.427144</td>\n",
       "      <td>0.0</td>\n",
       "      <td>1987</td>\n",
       "      <td>0</td>\n",
       "      <td>98074</td>\n",
       "      <td>47.6168</td>\n",
       "      <td>-122.045</td>\n",
       "      <td>7.496097</td>\n",
       "      <td>8.923191</td>\n",
       "    </tr>\n",
       "    <tr>\n",
       "      <th>3</th>\n",
       "      <td>3</td>\n",
       "      <td>20140627T000000</td>\n",
       "      <td>257500.0</td>\n",
       "      <td>3</td>\n",
       "      <td>2.25</td>\n",
       "      <td>7.447751</td>\n",
       "      <td>8.827615</td>\n",
       "      <td>2.0</td>\n",
       "      <td>0</td>\n",
       "      <td>0</td>\n",
       "      <td>...</td>\n",
       "      <td>7</td>\n",
       "      <td>7.447751</td>\n",
       "      <td>0.0</td>\n",
       "      <td>1995</td>\n",
       "      <td>0</td>\n",
       "      <td>98003</td>\n",
       "      <td>47.3097</td>\n",
       "      <td>-122.327</td>\n",
       "      <td>7.713785</td>\n",
       "      <td>8.827615</td>\n",
       "    </tr>\n",
       "    <tr>\n",
       "      <th>4</th>\n",
       "      <td>4</td>\n",
       "      <td>20150115T000000</td>\n",
       "      <td>291850.0</td>\n",
       "      <td>3</td>\n",
       "      <td>1.50</td>\n",
       "      <td>6.966967</td>\n",
       "      <td>9.181118</td>\n",
       "      <td>1.0</td>\n",
       "      <td>0</td>\n",
       "      <td>0</td>\n",
       "      <td>...</td>\n",
       "      <td>7</td>\n",
       "      <td>6.966967</td>\n",
       "      <td>0.0</td>\n",
       "      <td>1963</td>\n",
       "      <td>0</td>\n",
       "      <td>98198</td>\n",
       "      <td>47.4095</td>\n",
       "      <td>-122.315</td>\n",
       "      <td>7.409136</td>\n",
       "      <td>9.181118</td>\n",
       "    </tr>\n",
       "  </tbody>\n",
       "</table>\n",
       "<p>5 rows × 21 columns</p>\n",
       "</div>"
      ],
      "text/plain": [
       "   id             date     price  bedrooms  bathrooms  sqft_living  sqft_lot  \\\n",
       "0   0  20141013T000000  221900.0         3       1.00     7.074117  8.639588   \n",
       "1   1  20150225T000000  180000.0         2       1.00     6.647688  9.210440   \n",
       "2   2  20150218T000000  510000.0         3       2.00     7.427144  8.997271   \n",
       "3   3  20140627T000000  257500.0         3       2.25     7.447751  8.827615   \n",
       "4   4  20150115T000000  291850.0         3       1.50     6.966967  9.181118   \n",
       "\n",
       "   floors  waterfront  view  ...  grade  sqft_above  sqft_basement  yr_built  \\\n",
       "0     1.0           0     0  ...      7    7.074117            0.0      1955   \n",
       "1     1.0           0     0  ...      6    6.647688            0.0      1933   \n",
       "2     1.0           0     0  ...      8    7.427144            0.0      1987   \n",
       "3     2.0           0     0  ...      7    7.447751            0.0      1995   \n",
       "4     1.0           0     0  ...      7    6.966967            0.0      1963   \n",
       "\n",
       "   yr_renovated  zipcode      lat     long  sqft_living15  sqft_lot15  \n",
       "0             0    98178  47.5112 -122.257       7.201171    8.639588  \n",
       "1             0    98028  47.7379 -122.233       7.908755    8.995041  \n",
       "2             0    98074  47.6168 -122.045       7.496097    8.923191  \n",
       "3             0    98003  47.3097 -122.327       7.713785    8.827615  \n",
       "4             0    98198  47.4095 -122.315       7.409136    9.181118  \n",
       "\n",
       "[5 rows x 21 columns]"
      ]
     },
     "execution_count": 3,
     "metadata": {},
     "output_type": "execute_result"
    }
   ],
   "source": [
    "train.head()"
   ]
  },
  {
   "cell_type": "code",
   "execution_count": 4,
   "id": "565812ad",
   "metadata": {
    "execution": {
     "iopub.execute_input": "2025-07-15T16:39:03.793110Z",
     "iopub.status.busy": "2025-07-15T16:39:03.793018Z",
     "iopub.status.idle": "2025-07-15T16:39:03.810588Z",
     "shell.execute_reply": "2025-07-15T16:39:03.810351Z"
    },
    "papermill": {
     "duration": 0.02034,
     "end_time": "2025-07-15T16:39:03.811211",
     "exception": false,
     "start_time": "2025-07-15T16:39:03.790871",
     "status": "completed"
    },
    "tags": []
   },
   "outputs": [
    {
     "data": {
      "text/html": [
       "<div>\n",
       "<style scoped>\n",
       "    .dataframe tbody tr th:only-of-type {\n",
       "        vertical-align: middle;\n",
       "    }\n",
       "\n",
       "    .dataframe tbody tr th {\n",
       "        vertical-align: top;\n",
       "    }\n",
       "\n",
       "    .dataframe thead th {\n",
       "        text-align: right;\n",
       "    }\n",
       "</style>\n",
       "<table border=\"1\" class=\"dataframe\">\n",
       "  <thead>\n",
       "    <tr style=\"text-align: right;\">\n",
       "      <th></th>\n",
       "      <th>id</th>\n",
       "      <th>price</th>\n",
       "      <th>bedrooms</th>\n",
       "      <th>bathrooms</th>\n",
       "      <th>sqft_living</th>\n",
       "      <th>sqft_lot</th>\n",
       "      <th>floors</th>\n",
       "      <th>waterfront</th>\n",
       "      <th>view</th>\n",
       "      <th>condition</th>\n",
       "      <th>...</th>\n",
       "      <th>sqft_basement</th>\n",
       "      <th>yr_built</th>\n",
       "      <th>yr_renovated</th>\n",
       "      <th>zipcode</th>\n",
       "      <th>lat</th>\n",
       "      <th>long</th>\n",
       "      <th>sqft_living15</th>\n",
       "      <th>sqft_lot15</th>\n",
       "      <th>year</th>\n",
       "      <th>month</th>\n",
       "    </tr>\n",
       "  </thead>\n",
       "  <tbody>\n",
       "    <tr>\n",
       "      <th>0</th>\n",
       "      <td>0</td>\n",
       "      <td>221900.0</td>\n",
       "      <td>3</td>\n",
       "      <td>1.00</td>\n",
       "      <td>7.074117</td>\n",
       "      <td>8.639588</td>\n",
       "      <td>1.0</td>\n",
       "      <td>0</td>\n",
       "      <td>0</td>\n",
       "      <td>3</td>\n",
       "      <td>...</td>\n",
       "      <td>0.0</td>\n",
       "      <td>1955</td>\n",
       "      <td>0</td>\n",
       "      <td>98178</td>\n",
       "      <td>47.5112</td>\n",
       "      <td>-122.257</td>\n",
       "      <td>7.201171</td>\n",
       "      <td>8.639588</td>\n",
       "      <td>2014</td>\n",
       "      <td>10</td>\n",
       "    </tr>\n",
       "    <tr>\n",
       "      <th>1</th>\n",
       "      <td>1</td>\n",
       "      <td>180000.0</td>\n",
       "      <td>2</td>\n",
       "      <td>1.00</td>\n",
       "      <td>6.647688</td>\n",
       "      <td>9.210440</td>\n",
       "      <td>1.0</td>\n",
       "      <td>0</td>\n",
       "      <td>0</td>\n",
       "      <td>3</td>\n",
       "      <td>...</td>\n",
       "      <td>0.0</td>\n",
       "      <td>1933</td>\n",
       "      <td>0</td>\n",
       "      <td>98028</td>\n",
       "      <td>47.7379</td>\n",
       "      <td>-122.233</td>\n",
       "      <td>7.908755</td>\n",
       "      <td>8.995041</td>\n",
       "      <td>2015</td>\n",
       "      <td>2</td>\n",
       "    </tr>\n",
       "    <tr>\n",
       "      <th>2</th>\n",
       "      <td>2</td>\n",
       "      <td>510000.0</td>\n",
       "      <td>3</td>\n",
       "      <td>2.00</td>\n",
       "      <td>7.427144</td>\n",
       "      <td>8.997271</td>\n",
       "      <td>1.0</td>\n",
       "      <td>0</td>\n",
       "      <td>0</td>\n",
       "      <td>3</td>\n",
       "      <td>...</td>\n",
       "      <td>0.0</td>\n",
       "      <td>1987</td>\n",
       "      <td>0</td>\n",
       "      <td>98074</td>\n",
       "      <td>47.6168</td>\n",
       "      <td>-122.045</td>\n",
       "      <td>7.496097</td>\n",
       "      <td>8.923191</td>\n",
       "      <td>2015</td>\n",
       "      <td>2</td>\n",
       "    </tr>\n",
       "    <tr>\n",
       "      <th>3</th>\n",
       "      <td>3</td>\n",
       "      <td>257500.0</td>\n",
       "      <td>3</td>\n",
       "      <td>2.25</td>\n",
       "      <td>7.447751</td>\n",
       "      <td>8.827615</td>\n",
       "      <td>2.0</td>\n",
       "      <td>0</td>\n",
       "      <td>0</td>\n",
       "      <td>3</td>\n",
       "      <td>...</td>\n",
       "      <td>0.0</td>\n",
       "      <td>1995</td>\n",
       "      <td>0</td>\n",
       "      <td>98003</td>\n",
       "      <td>47.3097</td>\n",
       "      <td>-122.327</td>\n",
       "      <td>7.713785</td>\n",
       "      <td>8.827615</td>\n",
       "      <td>2014</td>\n",
       "      <td>6</td>\n",
       "    </tr>\n",
       "    <tr>\n",
       "      <th>4</th>\n",
       "      <td>4</td>\n",
       "      <td>291850.0</td>\n",
       "      <td>3</td>\n",
       "      <td>1.50</td>\n",
       "      <td>6.966967</td>\n",
       "      <td>9.181118</td>\n",
       "      <td>1.0</td>\n",
       "      <td>0</td>\n",
       "      <td>0</td>\n",
       "      <td>3</td>\n",
       "      <td>...</td>\n",
       "      <td>0.0</td>\n",
       "      <td>1963</td>\n",
       "      <td>0</td>\n",
       "      <td>98198</td>\n",
       "      <td>47.4095</td>\n",
       "      <td>-122.315</td>\n",
       "      <td>7.409136</td>\n",
       "      <td>9.181118</td>\n",
       "      <td>2015</td>\n",
       "      <td>1</td>\n",
       "    </tr>\n",
       "  </tbody>\n",
       "</table>\n",
       "<p>5 rows × 22 columns</p>\n",
       "</div>"
      ],
      "text/plain": [
       "   id     price  bedrooms  bathrooms  sqft_living  sqft_lot  floors  \\\n",
       "0   0  221900.0         3       1.00     7.074117  8.639588     1.0   \n",
       "1   1  180000.0         2       1.00     6.647688  9.210440     1.0   \n",
       "2   2  510000.0         3       2.00     7.427144  8.997271     1.0   \n",
       "3   3  257500.0         3       2.25     7.447751  8.827615     2.0   \n",
       "4   4  291850.0         3       1.50     6.966967  9.181118     1.0   \n",
       "\n",
       "   waterfront  view  condition  ...  sqft_basement  yr_built  yr_renovated  \\\n",
       "0           0     0          3  ...            0.0      1955             0   \n",
       "1           0     0          3  ...            0.0      1933             0   \n",
       "2           0     0          3  ...            0.0      1987             0   \n",
       "3           0     0          3  ...            0.0      1995             0   \n",
       "4           0     0          3  ...            0.0      1963             0   \n",
       "\n",
       "   zipcode      lat     long  sqft_living15  sqft_lot15  year  month  \n",
       "0    98178  47.5112 -122.257       7.201171    8.639588  2014     10  \n",
       "1    98028  47.7379 -122.233       7.908755    8.995041  2015      2  \n",
       "2    98074  47.6168 -122.045       7.496097    8.923191  2015      2  \n",
       "3    98003  47.3097 -122.327       7.713785    8.827615  2014      6  \n",
       "4    98198  47.4095 -122.315       7.409136    9.181118  2015      1  \n",
       "\n",
       "[5 rows x 22 columns]"
      ]
     },
     "execution_count": 4,
     "metadata": {},
     "output_type": "execute_result"
    }
   ],
   "source": [
    "train['year'] = train['date'].apply(lambda i: int(i[:4]))\n",
    "train['month'] = train['date'].apply(lambda i: int(i[4:6]))\n",
    "test['year'] = test['date'].apply(lambda i: int(i[:4]))\n",
    "test['month'] = test['date'].apply(lambda i: int(i[4:6]))\n",
    "del train['date']\n",
    "del test['date']\n",
    "train.head()"
   ]
  },
  {
   "cell_type": "code",
   "execution_count": 5,
   "id": "93b37f86",
   "metadata": {
    "execution": {
     "iopub.execute_input": "2025-07-15T16:39:03.815600Z",
     "iopub.status.busy": "2025-07-15T16:39:03.815490Z",
     "iopub.status.idle": "2025-07-15T16:39:04.036300Z",
     "shell.execute_reply": "2025-07-15T16:39:04.035855Z"
    },
    "papermill": {
     "duration": 0.257747,
     "end_time": "2025-07-15T16:39:04.071009",
     "exception": false,
     "start_time": "2025-07-15T16:39:03.813262",
     "status": "completed"
    },
    "tags": []
   },
   "outputs": [],
   "source": [
    "from sklearn.cluster import KMeans\n",
    "\n",
    "# 1. 지역별 통계 피처\n",
    "zipcode_stats = train.groupby('zipcode')['price'].agg(['mean', 'median', 'std']).reset_index()\n",
    "zipcode_stats.columns = ['zipcode', 'zip_price_mean', 'zip_price_median', 'zip_price_std']\n",
    "train = train.merge(zipcode_stats, on='zipcode', how='left')\n",
    "test = test.merge(zipcode_stats, on='zipcode', how='left')\n",
    "\n",
    "# 2. lat/long 클러스터링\n",
    "all_data = pd.concat([train, test], sort=False).reset_index(drop=True)\n",
    "kmeans = KMeans(n_clusters=10, random_state=42)\n",
    "all_data['latlong_cluster'] = kmeans.fit_predict(all_data[['lat', 'long']])\n",
    "train['latlong_cluster'] = all_data.loc[:len(train)-1, 'latlong_cluster'].values\n",
    "test['latlong_cluster'] = all_data.loc[len(train):, 'latlong_cluster'].values\n",
    "\n",
    "# 3. 원핫 인코딩\n",
    "train = pd.get_dummies(train, columns=['zipcode'])\n",
    "test = pd.get_dummies(test, columns=['zipcode'])\n",
    "\n",
    "train, test = train.align(test, join='left', axis=1, fill_value=0)\n",
    "train = train.fillna(0)\n",
    "test = test.fillna(0)"
   ]
  },
  {
   "cell_type": "code",
   "execution_count": 6,
   "id": "1f8a1ab5",
   "metadata": {
    "execution": {
     "iopub.execute_input": "2025-07-15T16:39:04.091872Z",
     "iopub.status.busy": "2025-07-15T16:39:04.091279Z",
     "iopub.status.idle": "2025-07-15T16:39:04.116079Z",
     "shell.execute_reply": "2025-07-15T16:39:04.114117Z"
    },
    "papermill": {
     "duration": 0.04932,
     "end_time": "2025-07-15T16:39:04.128769",
     "exception": false,
     "start_time": "2025-07-15T16:39:04.079449",
     "status": "completed"
    },
    "tags": []
   },
   "outputs": [
    {
     "name": "stdout",
     "output_type": "stream",
     "text": [
      "Index(['id', 'bedrooms', 'bathrooms', 'sqft_living', 'sqft_lot', 'floors',\n",
      "       'waterfront', 'view', 'condition', 'grade', 'sqft_above',\n",
      "       'sqft_basement', 'yr_built', 'yr_renovated', 'lat', 'long',\n",
      "       'sqft_living15', 'sqft_lot15', 'year', 'month', 'zip_price_mean',\n",
      "       'zip_price_median', 'zip_price_std', 'latlong_cluster', 'zipcode_98001',\n",
      "       'zipcode_98002', 'zipcode_98003', 'zipcode_98004', 'zipcode_98005',\n",
      "       'zipcode_98006', 'zipcode_98007', 'zipcode_98008', 'zipcode_98010',\n",
      "       'zipcode_98011', 'zipcode_98014', 'zipcode_98019', 'zipcode_98022',\n",
      "       'zipcode_98023', 'zipcode_98024', 'zipcode_98027', 'zipcode_98028',\n",
      "       'zipcode_98029', 'zipcode_98030', 'zipcode_98031', 'zipcode_98032',\n",
      "       'zipcode_98033', 'zipcode_98034', 'zipcode_98038', 'zipcode_98039',\n",
      "       'zipcode_98040', 'zipcode_98042', 'zipcode_98045', 'zipcode_98052',\n",
      "       'zipcode_98053', 'zipcode_98055', 'zipcode_98056', 'zipcode_98058',\n",
      "       'zipcode_98059', 'zipcode_98065', 'zipcode_98070', 'zipcode_98072',\n",
      "       'zipcode_98074', 'zipcode_98075', 'zipcode_98077', 'zipcode_98092',\n",
      "       'zipcode_98102', 'zipcode_98103', 'zipcode_98105', 'zipcode_98106',\n",
      "       'zipcode_98107', 'zipcode_98108', 'zipcode_98109', 'zipcode_98112',\n",
      "       'zipcode_98115', 'zipcode_98116', 'zipcode_98117', 'zipcode_98118',\n",
      "       'zipcode_98119', 'zipcode_98122', 'zipcode_98125', 'zipcode_98126',\n",
      "       'zipcode_98133', 'zipcode_98136', 'zipcode_98144', 'zipcode_98146',\n",
      "       'zipcode_98148', 'zipcode_98155', 'zipcode_98166', 'zipcode_98168',\n",
      "       'zipcode_98177', 'zipcode_98178', 'zipcode_98188', 'zipcode_98198',\n",
      "       'zipcode_98199'],\n",
      "      dtype='object')\n"
     ]
    }
   ],
   "source": [
    "y = train['price']\n",
    "del train['price']\n",
    "\n",
    "print(train.columns)"
   ]
  },
  {
   "cell_type": "code",
   "execution_count": 7,
   "id": "480f326e",
   "metadata": {
    "execution": {
     "iopub.execute_input": "2025-07-15T16:39:04.139466Z",
     "iopub.status.busy": "2025-07-15T16:39:04.139124Z",
     "iopub.status.idle": "2025-07-15T16:39:04.144042Z",
     "shell.execute_reply": "2025-07-15T16:39:04.143339Z"
    },
    "papermill": {
     "duration": 0.012162,
     "end_time": "2025-07-15T16:39:04.145775",
     "exception": false,
     "start_time": "2025-07-15T16:39:04.133613",
     "status": "completed"
    },
    "tags": []
   },
   "outputs": [
    {
     "name": "stdout",
     "output_type": "stream",
     "text": [
      "Index(['bedrooms', 'bathrooms', 'sqft_living', 'sqft_lot', 'floors',\n",
      "       'waterfront', 'view', 'condition', 'grade', 'sqft_above',\n",
      "       'sqft_basement', 'yr_built', 'yr_renovated', 'lat', 'long',\n",
      "       'sqft_living15', 'sqft_lot15', 'year', 'month', 'zip_price_mean',\n",
      "       'zip_price_median', 'zip_price_std', 'latlong_cluster', 'zipcode_98001',\n",
      "       'zipcode_98002', 'zipcode_98003', 'zipcode_98004', 'zipcode_98005',\n",
      "       'zipcode_98006', 'zipcode_98007', 'zipcode_98008', 'zipcode_98010',\n",
      "       'zipcode_98011', 'zipcode_98014', 'zipcode_98019', 'zipcode_98022',\n",
      "       'zipcode_98023', 'zipcode_98024', 'zipcode_98027', 'zipcode_98028',\n",
      "       'zipcode_98029', 'zipcode_98030', 'zipcode_98031', 'zipcode_98032',\n",
      "       'zipcode_98033', 'zipcode_98034', 'zipcode_98038', 'zipcode_98039',\n",
      "       'zipcode_98040', 'zipcode_98042', 'zipcode_98045', 'zipcode_98052',\n",
      "       'zipcode_98053', 'zipcode_98055', 'zipcode_98056', 'zipcode_98058',\n",
      "       'zipcode_98059', 'zipcode_98065', 'zipcode_98070', 'zipcode_98072',\n",
      "       'zipcode_98074', 'zipcode_98075', 'zipcode_98077', 'zipcode_98092',\n",
      "       'zipcode_98102', 'zipcode_98103', 'zipcode_98105', 'zipcode_98106',\n",
      "       'zipcode_98107', 'zipcode_98108', 'zipcode_98109', 'zipcode_98112',\n",
      "       'zipcode_98115', 'zipcode_98116', 'zipcode_98117', 'zipcode_98118',\n",
      "       'zipcode_98119', 'zipcode_98122', 'zipcode_98125', 'zipcode_98126',\n",
      "       'zipcode_98133', 'zipcode_98136', 'zipcode_98144', 'zipcode_98146',\n",
      "       'zipcode_98148', 'zipcode_98155', 'zipcode_98166', 'zipcode_98168',\n",
      "       'zipcode_98177', 'zipcode_98178', 'zipcode_98188', 'zipcode_98198',\n",
      "       'zipcode_98199'],\n",
      "      dtype='object')\n"
     ]
    }
   ],
   "source": [
    "del train['id']\n",
    "\n",
    "print(train.columns)"
   ]
  },
  {
   "cell_type": "code",
   "execution_count": 8,
   "id": "4a887d00",
   "metadata": {
    "execution": {
     "iopub.execute_input": "2025-07-15T16:39:04.156140Z",
     "iopub.status.busy": "2025-07-15T16:39:04.155880Z",
     "iopub.status.idle": "2025-07-15T16:39:04.160770Z",
     "shell.execute_reply": "2025-07-15T16:39:04.160091Z"
    },
    "papermill": {
     "duration": 0.011455,
     "end_time": "2025-07-15T16:39:04.162231",
     "exception": false,
     "start_time": "2025-07-15T16:39:04.150776",
     "status": "completed"
    },
    "tags": []
   },
   "outputs": [
    {
     "name": "stdout",
     "output_type": "stream",
     "text": [
      "Index(['price', 'bedrooms', 'bathrooms', 'sqft_living', 'sqft_lot', 'floors',\n",
      "       'waterfront', 'view', 'condition', 'grade', 'sqft_above',\n",
      "       'sqft_basement', 'yr_built', 'yr_renovated', 'lat', 'long',\n",
      "       'sqft_living15', 'sqft_lot15', 'year', 'month', 'zip_price_mean',\n",
      "       'zip_price_median', 'zip_price_std', 'latlong_cluster', 'zipcode_98001',\n",
      "       'zipcode_98002', 'zipcode_98003', 'zipcode_98004', 'zipcode_98005',\n",
      "       'zipcode_98006', 'zipcode_98007', 'zipcode_98008', 'zipcode_98010',\n",
      "       'zipcode_98011', 'zipcode_98014', 'zipcode_98019', 'zipcode_98022',\n",
      "       'zipcode_98023', 'zipcode_98024', 'zipcode_98027', 'zipcode_98028',\n",
      "       'zipcode_98029', 'zipcode_98030', 'zipcode_98031', 'zipcode_98032',\n",
      "       'zipcode_98033', 'zipcode_98034', 'zipcode_98038', 'zipcode_98039',\n",
      "       'zipcode_98040', 'zipcode_98042', 'zipcode_98045', 'zipcode_98052',\n",
      "       'zipcode_98053', 'zipcode_98055', 'zipcode_98056', 'zipcode_98058',\n",
      "       'zipcode_98059', 'zipcode_98065', 'zipcode_98070', 'zipcode_98072',\n",
      "       'zipcode_98074', 'zipcode_98075', 'zipcode_98077', 'zipcode_98092',\n",
      "       'zipcode_98102', 'zipcode_98103', 'zipcode_98105', 'zipcode_98106',\n",
      "       'zipcode_98107', 'zipcode_98108', 'zipcode_98109', 'zipcode_98112',\n",
      "       'zipcode_98115', 'zipcode_98116', 'zipcode_98117', 'zipcode_98118',\n",
      "       'zipcode_98119', 'zipcode_98122', 'zipcode_98125', 'zipcode_98126',\n",
      "       'zipcode_98133', 'zipcode_98136', 'zipcode_98144', 'zipcode_98146',\n",
      "       'zipcode_98148', 'zipcode_98155', 'zipcode_98166', 'zipcode_98168',\n",
      "       'zipcode_98177', 'zipcode_98178', 'zipcode_98188', 'zipcode_98198',\n",
      "       'zipcode_98199'],\n",
      "      dtype='object')\n"
     ]
    }
   ],
   "source": [
    "# test['year'] = test['date'].apply(lambda i: int(i[:4])) # 중복 코드 삭제\n",
    "# test['month'] = test['date'].apply(lambda i: int(i[4:6])) # 중복 코드 삭제\n",
    "# del test['date'] # 중복 코드 삭제\n",
    "\n",
    "del test['id']\n",
    "\n",
    "print(test.columns)"
   ]
  },
  {
   "cell_type": "code",
   "execution_count": 9,
   "id": "a475b693",
   "metadata": {
    "execution": {
     "iopub.execute_input": "2025-07-15T16:39:04.167945Z",
     "iopub.status.busy": "2025-07-15T16:39:04.167630Z",
     "iopub.status.idle": "2025-07-15T16:39:04.170880Z",
     "shell.execute_reply": "2025-07-15T16:39:04.170350Z"
    },
    "papermill": {
     "duration": 0.007323,
     "end_time": "2025-07-15T16:39:04.172000",
     "exception": false,
     "start_time": "2025-07-15T16:39:04.164677",
     "status": "completed"
    },
    "tags": []
   },
   "outputs": [],
   "source": [
    "y = np.log1p(y)"
   ]
  },
  {
   "cell_type": "code",
   "execution_count": 10,
   "id": "5eae1bfa",
   "metadata": {
    "execution": {
     "iopub.execute_input": "2025-07-15T16:39:04.177896Z",
     "iopub.status.busy": "2025-07-15T16:39:04.177596Z",
     "iopub.status.idle": "2025-07-15T16:39:04.418059Z",
     "shell.execute_reply": "2025-07-15T16:39:04.417452Z"
    },
    "papermill": {
     "duration": 0.250696,
     "end_time": "2025-07-15T16:39:04.425062",
     "exception": false,
     "start_time": "2025-07-15T16:39:04.174366",
     "status": "completed"
    },
    "tags": []
   },
   "outputs": [
    {
     "data": {
      "image/png": "[encoded data removed]",
      "text/plain": [
       "<Figure size 640x480 with 1 Axes>"
      ]
     },
     "metadata": {},
     "output_type": "display_data"
    }
   ],
   "source": [
    "sns.kdeplot(y)\n",
    "plt.show()"
   ]
  },
  {
   "cell_type": "markdown",
   "id": "753dad33",
   "metadata": {
    "papermill": {
     "duration": 0.002496,
     "end_time": "2025-07-15T16:39:04.433772",
     "exception": false,
     "start_time": "2025-07-15T16:39:04.431276",
     "status": "completed"
    },
    "tags": []
   },
   "source": [
    "- 피쳐 추가\n",
    "    - 건축 후 리노베이션까지 걸린 년수\n",
    "    - 방개수 대비 욕실\n",
    "    - 거주면적 대비 대지면적\n",
    "    - 건축된지 몇년 되었는지\n",
    "- 0으로 나눠져서 NaN이 나오는 케이스 있어서 추가 처리"
   ]
  },
  {
   "cell_type": "code",
   "execution_count": 11,
   "id": "4a074432",
   "metadata": {
    "execution": {
     "iopub.execute_input": "2025-07-15T16:39:04.450164Z",
     "iopub.status.busy": "2025-07-15T16:39:04.449648Z",
     "iopub.status.idle": "2025-07-15T16:39:04.475858Z",
     "shell.execute_reply": "2025-07-15T16:39:04.474869Z"
    },
    "papermill": {
     "duration": 0.038989,
     "end_time": "2025-07-15T16:39:04.477653",
     "exception": false,
     "start_time": "2025-07-15T16:39:04.438664",
     "status": "completed"
    },
    "tags": []
   },
   "outputs": [],
   "source": [
    "# 1. 건축 후 리노베이션까지 걸린 년수\n",
    "train['years_since_renovated'] = train['yr_renovated'] - train['yr_built']\n",
    "train['years_since_renovated'] = train['years_since_renovated'].apply(lambda x: x if x > 0 else 0)\n",
    "test['years_since_renovated'] = test['yr_renovated'] - test['yr_built']\n",
    "test['years_since_renovated'] = test['years_since_renovated'].apply(lambda x: x if x > 0 else 0)\n",
    "\n",
    "# 2. 방 개수 대비 욕실 개수\n",
    "train['bath_per_bed'] = train['bathrooms'] / train['bedrooms']\n",
    "test['bath_per_bed'] = test['bathrooms'] / test['bedrooms']\n",
    "\n",
    "# 0으로 나누는 경우 NaN을 0으로 대체\n",
    "train['bath_per_bed'] = train['bath_per_bed'].replace([np.inf, -np.inf, np.nan], 0)\n",
    "test['bath_per_bed'] = test['bath_per_bed'].replace([np.inf, -np.inf, np.nan], 0)\n",
    "\n",
    "# 3. 거주면적 대비 대지면적\n",
    "train['living_per_lot'] = train['sqft_living'] / train['sqft_lot']\n",
    "test['living_per_lot'] = test['sqft_living'] / test['sqft_lot']\n",
    "\n",
    "train['living_per_lot'] = train['living_per_lot'].replace([np.inf, -np.inf, np.nan], 0)\n",
    "test['living_per_lot'] = test['living_per_lot'].replace([np.inf, -np.inf, np.nan], 0)\n",
    "\n",
    "# 4. 건축된지 몇 년 되었는지\n",
    "train['age'] = 2025 - train['yr_built']\n",
    "test['age'] = 2025 - test['yr_built']\n",
    "\n",
    "# 5. 전체 면적\n",
    "train['total_sqft'] = train['sqft_living'] + train['sqft_basement']\n",
    "test['total_sqft'] = test['sqft_living'] + test['sqft_basement']\n",
    "\n",
    "# 6. 층당 면적\n",
    "train['sqft_per_floor'] = train['sqft_living'] / train['floors']\n",
    "test['sqft_per_floor'] = test['sqft_living'] / test['floors']\n",
    "train['sqft_per_floor'] = train['sqft_per_floor'].replace([np.inf, -np.inf, np.nan], 0)\n",
    "test['sqft_per_floor'] = test['sqft_per_floor'].replace([np.inf, -np.inf, np.nan], 0)\n",
    "\n",
    "# 7. 주요 피처 간 상호작용\n",
    "train['grade_sqft_living'] = train['grade'] * train['sqft_living']\n",
    "test['grade_sqft_living'] = test['grade'] * test['sqft_living']\n",
    "\n",
    "train['grade_age'] = train['grade'] * train['age']\n",
    "test['grade_age'] = test['grade'] * test['age']\n",
    "\n",
    "train['year_grade'] = train['year'] * train['grade']\n",
    "test['year_grade'] = test['year'] * test['grade']"
   ]
  },
  {
   "cell_type": "code",
   "execution_count": 12,
   "id": "67ddd91b",
   "metadata": {
    "execution": {
     "iopub.execute_input": "2025-07-15T16:39:04.485467Z",
     "iopub.status.busy": "2025-07-15T16:39:04.485256Z",
     "iopub.status.idle": "2025-07-15T16:39:04.491280Z",
     "shell.execute_reply": "2025-07-15T16:39:04.491021Z"
    },
    "papermill": {
     "duration": 0.010168,
     "end_time": "2025-07-15T16:39:04.492055",
     "exception": false,
     "start_time": "2025-07-15T16:39:04.481887",
     "status": "completed"
    },
    "tags": []
   },
   "outputs": [
    {
     "name": "stdout",
     "output_type": "stream",
     "text": [
      "<class 'pandas.core.frame.DataFrame'>\n",
      "RangeIndex: 15034 entries, 0 to 15033\n",
      "Columns: 102 entries, bedrooms to year_grade\n",
      "dtypes: bool(70), float64(18), int32(1), int64(13)\n",
      "memory usage: 4.6 MB\n"
     ]
    }
   ],
   "source": [
    "train.info()"
   ]
  },
  {
   "cell_type": "code",
   "execution_count": 13,
   "id": "3d0ec45e",
   "metadata": {
    "execution": {
     "iopub.execute_input": "2025-07-15T16:39:04.499160Z",
     "iopub.status.busy": "2025-07-15T16:39:04.498932Z",
     "iopub.status.idle": "2025-07-15T16:39:04.501935Z",
     "shell.execute_reply": "2025-07-15T16:39:04.501269Z"
    },
    "papermill": {
     "duration": 0.009481,
     "end_time": "2025-07-15T16:39:04.504513",
     "exception": false,
     "start_time": "2025-07-15T16:39:04.495032",
     "status": "completed"
    },
    "tags": []
   },
   "outputs": [],
   "source": [
    "from sklearn.model_selection import train_test_split\n",
    "from sklearn.metrics import mean_squared_error\n",
    "\n",
    "from xgboost import XGBRegressor\n",
    "from lightgbm import LGBMRegressor\n",
    "from sklearn.ensemble import GradientBoostingRegressor, RandomForestRegressor\n",
    "\n",
    "def rmse(y_test, y_pred):\n",
    "    return np.sqrt(mean_squared_error(np.expm1(y_test), np.expm1(y_pred)))"
   ]
  },
  {
   "cell_type": "code",
   "execution_count": 14,
   "id": "636c89cc",
   "metadata": {
    "execution": {
     "iopub.execute_input": "2025-07-15T16:39:04.511153Z",
     "iopub.status.busy": "2025-07-15T16:39:04.510745Z",
     "iopub.status.idle": "2025-07-15T16:39:04.517204Z",
     "shell.execute_reply": "2025-07-15T16:39:04.513197Z"
    },
    "papermill": {
     "duration": 0.011665,
     "end_time": "2025-07-15T16:39:04.518881",
     "exception": false,
     "start_time": "2025-07-15T16:39:04.507216",
     "status": "completed"
    },
    "tags": []
   },
   "outputs": [],
   "source": [
    "# def robust_scale(df):\n",
    "#     robustscaler = RobustScaler()\n",
    "#     robustscaler.fit(df)\n",
    "# \n",
    "#     df = robustscaler.transform(df) \n",
    "#     return df"
   ]
  },
  {
   "cell_type": "code",
   "execution_count": 15,
   "id": "b9e7f705",
   "metadata": {
    "execution": {
     "iopub.execute_input": "2025-07-15T16:39:04.525061Z",
     "iopub.status.busy": "2025-07-15T16:39:04.524801Z",
     "iopub.status.idle": "2025-07-15T16:39:04.532621Z",
     "shell.execute_reply": "2025-07-15T16:39:04.531955Z"
    },
    "papermill": {
     "duration": 0.012815,
     "end_time": "2025-07-15T16:39:04.534453",
     "exception": false,
     "start_time": "2025-07-15T16:39:04.521638",
     "status": "completed"
    },
    "tags": []
   },
   "outputs": [
    {
     "name": "stdout",
     "output_type": "stream",
     "text": [
      "train shape: (15034, 102)\n",
      "test shape: (6468, 103)\n",
      "df shape: (21502, 103)\n"
     ]
    }
   ],
   "source": [
    "df = pd.concat((train, test), axis=0)\n",
    "\n",
    "print('train shape:', train.shape)\n",
    "print('test shape:', test.shape)\n",
    "print('df shape:', df.shape)"
   ]
  },
  {
   "cell_type": "code",
   "execution_count": 16,
   "id": "4e0b11e7",
   "metadata": {
    "execution": {
     "iopub.execute_input": "2025-07-15T16:39:04.544881Z",
     "iopub.status.busy": "2025-07-15T16:39:04.544591Z",
     "iopub.status.idle": "2025-07-15T16:39:04.552417Z",
     "shell.execute_reply": "2025-07-15T16:39:04.548116Z"
    },
    "papermill": {
     "duration": 0.016607,
     "end_time": "2025-07-15T16:39:04.554874",
     "exception": false,
     "start_time": "2025-07-15T16:39:04.538267",
     "status": "completed"
    },
    "tags": []
   },
   "outputs": [],
   "source": [
    "# # robust cale로 스케일링\n",
    "# robust_scale(df)"
   ]
  },
  {
   "cell_type": "code",
   "execution_count": 17,
   "id": "e2129c12",
   "metadata": {
    "execution": {
     "iopub.execute_input": "2025-07-15T16:39:04.562174Z",
     "iopub.status.busy": "2025-07-15T16:39:04.561807Z",
     "iopub.status.idle": "2025-07-15T16:39:04.567223Z",
     "shell.execute_reply": "2025-07-15T16:39:04.566782Z"
    },
    "papermill": {
     "duration": 0.010649,
     "end_time": "2025-07-15T16:39:04.568335",
     "exception": false,
     "start_time": "2025-07-15T16:39:04.557686",
     "status": "completed"
    },
    "tags": []
   },
   "outputs": [],
   "source": [
    "from sklearn.ensemble import StackingRegressor\n",
    "from sklearn.linear_model import LinearRegression\n",
    "\n",
    "random_state=2025\n",
    "\n",
    "gboost = GradientBoostingRegressor(n_estimators=150, max_depth=3, learning_rate=0.1, random_state=random_state)\n",
    "xgboost = XGBRegressor(n_estimators=150, max_depth=5, learning_rate=0.1, random_state=random_state)\n",
    "lightgbm = lgb.LGBMRegressor(max_depth=7, n_estimators=200, learning_rate=0.05, random_state=random_state)\n",
    "\n",
    "estimators = [\n",
    "    ('gb', gboost),\n",
    "    ('xgb', xgboost),\n",
    "    ('lgbm', lightgbm)\n",
    "]\n",
    "\n",
    "stacking_model = StackingRegressor(\n",
    "    estimators=estimators,\n",
    "    final_estimator=LinearRegression(),\n",
    "    cv=5,\n",
    "    n_jobs=-1\n",
    ")"
   ]
  },
  {
   "cell_type": "code",
   "execution_count": 18,
   "id": "2e552847",
   "metadata": {
    "execution": {
     "iopub.execute_input": "2025-07-15T16:39:04.573813Z",
     "iopub.status.busy": "2025-07-15T16:39:04.573589Z",
     "iopub.status.idle": "2025-07-15T16:39:04.576253Z",
     "shell.execute_reply": "2025-07-15T16:39:04.575599Z"
    },
    "papermill": {
     "duration": 0.006638,
     "end_time": "2025-07-15T16:39:04.577433",
     "exception": false,
     "start_time": "2025-07-15T16:39:04.570795",
     "status": "completed"
    },
    "tags": []
   },
   "outputs": [],
   "source": [
    "def AveragingBlending(models, x, y, test):\n",
    "    for m in models : \n",
    "        m['model'].fit(x, y)\n",
    "    \n",
    "    predictions = np.column_stack([\n",
    "        m['model'].predict(test) for m in models\n",
    "    ])\n",
    "    return np.mean(predictions, axis=1)"
   ]
  },
  {
   "cell_type": "code",
   "execution_count": 19,
   "id": "162986ec",
   "metadata": {
    "execution": {
     "iopub.execute_input": "2025-07-15T16:39:04.584466Z",
     "iopub.status.busy": "2025-07-15T16:39:04.584304Z",
     "iopub.status.idle": "2025-07-15T16:39:20.746014Z",
     "shell.execute_reply": "2025-07-15T16:39:20.743792Z"
    },
    "papermill": {
     "duration": 16.169088,
     "end_time": "2025-07-15T16:39:20.749722",
     "exception": false,
     "start_time": "2025-07-15T16:39:04.580634",
     "status": "completed"
    },
    "tags": []
   },
   "outputs": [
    {
     "name": "stdout",
     "output_type": "stream",
     "text": [
      "--- Stacking Ensemble ---\n"
     ]
    },
    {
     "name": "stdout",
     "output_type": "stream",
     "text": [
      "[LightGBM] [Info] Auto-choosing row-wise multi-threading, the overhead of testing was 0.003084 seconds.\n",
      "You can set `force_row_wise=true` to remove the overhead.\n",
      "And if memory is not enough, you can set `force_col_wise=true`.\n",
      "[LightGBM] [Info] Total Bins 4169\n",
      "[LightGBM] [Info] Number of data points in the train set: 12027, number of used features: 102\n",
      "[LightGBM] [Info] Start training from score 13.051673\n",
      "[LightGBM] [Info] Auto-choosing row-wise multi-threading, the overhead of testing was 0.003229 seconds.\n",
      "You can set `force_row_wise=true` to remove the overhead.\n",
      "And if memory is not enough, you can set `force_col_wise=true`.\n",
      "[LightGBM] [Info] Total Bins 4140\n",
      "[LightGBM] [Info] Number of data points in the train set: 12028, number of used features: 102\n",
      "[LightGBM] [Info] Auto-choosing row-wise multi-threading, the overhead of testing was 0.002859 seconds.\n",
      "You can set `force_row_wise=true` to remove the overhead.\n",
      "And if memory is not enough, you can set `force_col_wise=true`.\n",
      "[LightGBM] [Info] Start training from score 13.035120\n",
      "[LightGBM] [Info] Auto-choosing row-wise multi-threading, the overhead of testing was 0.002957 seconds.\n",
      "You can set `force_row_wise=true` to remove the overhead.\n",
      "And if memory is not enough, you can set `force_col_wise=true`.\n",
      "[LightGBM] [Info] Total Bins 4137\n",
      "[LightGBM] [Info] Number of data points in the train set: 12027, number of used features: 102\n",
      "[LightGBM] [Info] Total Bins 4169\n",
      "[LightGBM] [Info] Number of data points in the train set: 12027, number of used features: 102\n",
      "[LightGBM] [Info] Start training from score 13.050055\n",
      "[LightGBM] [Info] Start training from score 13.052707\n",
      "[LightGBM] [Info] Auto-choosing row-wise multi-threading, the overhead of testing was 0.008464 seconds.\n",
      "You can set `force_row_wise=true` to remove the overhead.\n",
      "And if memory is not enough, you can set `force_col_wise=true`.\n",
      "[LightGBM] [Info] Total Bins 4174\n",
      "[LightGBM] [Info] Number of data points in the train set: 12027, number of used features: 102\n",
      "[LightGBM] [Info] Start training from score 13.050529\n"
     ]
    },
    {
     "name": "stdout",
     "output_type": "stream",
     "text": [
      "[LightGBM] [Warning] No further splits with positive gain, best gain: -inf\n",
      "[LightGBM] [Warning] No further splits with positive gain, best gain: -inf\n",
      "[LightGBM] [Warning] No further splits with positive gain, best gain: -inf\n",
      "[LightGBM] [Warning] No further splits with positive gain, best gain: -inf\n",
      "[LightGBM] [Warning] No further splits with positive gain, best gain: -inf\n",
      "[LightGBM] [Warning] No further splits with positive gain, best gain: -inf\n",
      "[LightGBM] [Warning] No further splits with positive gain, best gain: -inf\n",
      "[LightGBM] [Warning] No further splits with positive gain, best gain: -inf\n"
     ]
    },
    {
     "name": "stdout",
     "output_type": "stream",
     "text": [
      "[LightGBM] [Warning] No further splits with positive gain, best gain: -inf\n",
      "[LightGBM] [Warning] No further splits with positive gain, best gain: -inf\n",
      "[LightGBM] [Warning] No further splits with positive gain, best gain: -inf\n",
      "[LightGBM] [Warning] No further splits with positive gain, best gain: -inf\n",
      "[LightGBM] [Warning] No further splits with positive gain, best gain: -inf\n",
      "[LightGBM] [Warning] No further splits with positive gain, best gain: -inf\n",
      "[LightGBM] [Warning] No further splits with positive gain, best gain: -inf\n",
      "[LightGBM] [Warning] No further splits with positive gain, best gain: -inf\n",
      "[LightGBM] [Warning] No further splits with positive gain, best gain: -inf\n",
      "[LightGBM] [Warning] No further splits with positive gain, best gain: -inf\n",
      "[LightGBM] [Warning] No further splits with positive gain, best gain: -inf\n",
      "[LightGBM] [Warning] No further splits with positive gain, best gain: -inf\n",
      "[LightGBM] [Warning] No further splits with positive gain, best gain: -inf\n",
      "[LightGBM] [Warning] No further splits with positive gain, best gain: -inf\n",
      "[LightGBM] [Warning] No further splits with positive gain, best gain: -inf\n",
      "[LightGBM] [Warning] No further splits with positive gain, best gain: -inf\n",
      "[LightGBM] [Warning] No further splits with positive gain, best gain: -inf\n"
     ]
    },
    {
     "name": "stdout",
     "output_type": "stream",
     "text": [
      "[LightGBM] [Warning] No further splits with positive gain, best gain: -inf\n",
      "[LightGBM] [Warning] No further splits with positive gain, best gain: -inf\n",
      "[LightGBM] [Warning] No further splits with positive gain, best gain: -inf\n",
      "[LightGBM] [Warning] No further splits with positive gain, best gain: -inf\n",
      "[LightGBM] [Warning] No further splits with positive gain, best gain: -inf\n",
      "[LightGBM] [Warning] No further splits with positive gain, best gain: -inf\n",
      "[LightGBM] [Warning] No further splits with positive gain, best gain: -inf\n",
      "[LightGBM] [Warning] No further splits with positive gain, best gain: -inf\n",
      "[LightGBM] [Warning] No further splits with positive gain, best gain: -inf\n",
      "[LightGBM] [Warning] No further splits with positive gain, best gain: -inf\n",
      "[LightGBM] [Warning] No further splits with positive gain, best gain: -inf\n",
      "[LightGBM] [Warning] No further splits with positive gain, best gain: -inf\n",
      "[LightGBM] [Warning] No further splits with positive gain, best gain: -inf\n",
      "[LightGBM] [Warning] No further splits with positive gain, best gain: -inf\n",
      "[LightGBM] [Warning] No further splits with positive gain, best gain: -inf\n",
      "[LightGBM] [Warning] No further splits with positive gain, best gain: -inf\n",
      "[LightGBM] [Warning] No further splits with positive gain, best gain: -inf\n",
      "[LightGBM] [Warning] No further splits with positive gain, best gain: -inf\n"
     ]
    },
    {
     "name": "stdout",
     "output_type": "stream",
     "text": [
      "[LightGBM] [Warning] No further splits with positive gain, best gain: -inf\n",
      "[LightGBM] [Warning] No further splits with positive gain, best gain: -inf\n",
      "[LightGBM] [Warning] No further splits with positive gain, best gain: -inf\n",
      "[LightGBM] [Warning] No further splits with positive gain, best gain: -inf\n",
      "[LightGBM] [Warning] No further splits with positive gain, best gain: -inf\n",
      "[LightGBM] [Warning] No further splits with positive gain, best gain: -inf\n",
      "[LightGBM] [Warning] No further splits with positive gain, best gain: -inf\n",
      "[LightGBM] [Warning] No further splits with positive gain, best gain: -inf\n",
      "[LightGBM] [Warning] No further splits with positive gain, best gain: -inf\n",
      "[LightGBM] [Warning] No further splits with positive gain, best gain: -inf\n",
      "[LightGBM] [Warning] No further splits with positive gain, best gain: -inf\n",
      "[LightGBM] [Warning] No further splits with positive gain, best gain: -inf\n",
      "[LightGBM] [Warning] No further splits with positive gain, best gain: -inf\n",
      "[LightGBM] [Warning] No further splits with positive gain, best gain: -inf\n",
      "[LightGBM] [Warning] No further splits with positive gain, best gain: -inf\n",
      "[LightGBM] [Warning] No further splits with positive gain, best gain: -inf\n",
      "[LightGBM] [Warning] No further splits with positive gain, best gain: -inf\n",
      "[LightGBM] [Warning] No further splits with positive gain, best gain: -inf\n",
      "[LightGBM] [Warning] No further splits with positive gain, best gain: -inf\n",
      "[LightGBM] [Warning] No further splits with positive gain, best gain: -inf\n",
      "[LightGBM] [Warning] No further splits with positive gain, best gain: -inf\n",
      "[LightGBM] [Warning] No further splits with positive gain, best gain: -inf\n",
      "[LightGBM] [Warning] No further splits with positive gain, best gain: -inf\n",
      "[LightGBM] [Warning] No further splits with positive gain, best gain: -inf\n",
      "[LightGBM] [Warning] No further splits with positive gain, best gain: -inf\n",
      "[LightGBM] [Warning] No further splits with positive gain, best gain: -inf\n",
      "[LightGBM] [Warning] No further splits with positive gain, best gain: -inf\n"
     ]
    },
    {
     "name": "stdout",
     "output_type": "stream",
     "text": [
      "[LightGBM] [Warning] No further splits with positive gain, best gain: -inf\n",
      "[LightGBM] [Warning] No further splits with positive gain, best gain: -inf\n",
      "[LightGBM] [Warning] No further splits with positive gain, best gain: -inf\n",
      "[LightGBM] [Warning] No further splits with positive gain, best gain: -inf\n",
      "[LightGBM] [Warning] No further splits with positive gain, best gain: -inf\n",
      "[LightGBM] [Warning] No further splits with positive gain, best gain: -inf\n",
      "[LightGBM] [Warning] No further splits with positive gain, best gain: -inf\n",
      "[LightGBM] [Warning] No further splits with positive gain, best gain: -inf\n",
      "[LightGBM] [Warning] No further splits with positive gain, best gain: -inf\n",
      "[LightGBM] [Warning] No further splits with positive gain, best gain: -inf\n",
      "[LightGBM] [Warning] No further splits with positive gain, best gain: -inf\n",
      "[LightGBM] [Warning] No further splits with positive gain, best gain: -inf\n",
      "[LightGBM] [Warning] No further splits with positive gain, best gain: -inf\n",
      "[LightGBM] [Warning] No further splits with positive gain, best gain: -inf\n",
      "[LightGBM] [Warning] No further splits with positive gain, best gain: -inf\n",
      "[LightGBM] [Warning] No further splits with positive gain, best gain: -inf\n",
      "[LightGBM] [Warning] No further splits with positive gain, best gain: -inf\n",
      "[LightGBM] [Warning] No further splits with positive gain, best gain: -inf\n",
      "[LightGBM] [Warning] No further splits with positive gain, best gain: -inf\n",
      "[LightGBM] [Warning] No further splits with positive gain, best gain: -inf\n",
      "[LightGBM] [Warning] No further splits with positive gain, best gain: -inf\n"
     ]
    },
    {
     "name": "stdout",
     "output_type": "stream",
     "text": [
      "[LightGBM] [Warning] No further splits with positive gain, best gain: -inf\n",
      "[LightGBM] [Warning] No further splits with positive gain, best gain: -inf\n",
      "[LightGBM] [Warning] No further splits with positive gain, best gain: -inf\n",
      "[LightGBM] [Warning] No further splits with positive gain, best gain: -inf\n",
      "[LightGBM] [Warning] No further splits with positive gain, best gain: -inf\n",
      "[LightGBM] [Warning] No further splits with positive gain, best gain: -inf\n",
      "[LightGBM] [Warning] No further splits with positive gain, best gain: -inf\n",
      "[LightGBM] [Warning] No further splits with positive gain, best gain: -inf\n"
     ]
    }
   ],
   "source": [
    "print('--- Stacking Ensemble ---')\n",
    "if 'price' in test.columns:\n",
    "    test = test.drop('price', axis=1)\n",
    "\n",
    "stacking_model.fit(train, y)\n",
    "y_pred = stacking_model.predict(test)"
   ]
  },
  {
   "cell_type": "code",
   "execution_count": 20,
   "id": "485eee60",
   "metadata": {
    "execution": {
     "iopub.execute_input": "2025-07-15T16:39:20.784475Z",
     "iopub.status.busy": "2025-07-15T16:39:20.784145Z",
     "iopub.status.idle": "2025-07-15T16:39:20.788449Z",
     "shell.execute_reply": "2025-07-15T16:39:20.787640Z"
    },
    "papermill": {
     "duration": 0.034717,
     "end_time": "2025-07-15T16:39:20.790572",
     "exception": false,
     "start_time": "2025-07-15T16:39:20.755855",
     "status": "completed"
    },
    "tags": []
   },
   "outputs": [],
   "source": [
    "def save_submission(prediction, model_name):\n",
    "    prediction = np.expm1(prediction)\n",
    "    data_dir = 'data'\n",
    "    submission_path = join(data_dir, 'sample_submission.csv')\n",
    "    submission = pd.read_csv(submission_path)\n",
    "    submission['price'] = prediction\n",
    "    submission_csv_path = '{}/submission_{}.csv'.format('data', model_name)\n",
    "    submission.to_csv(submission_csv_path, index=False)\n",
    "    print('{} saved!'.format(submission_csv_path))"
   ]
  },
  {
   "cell_type": "code",
   "execution_count": 21,
   "id": "2f6b531b",
   "metadata": {
    "execution": {
     "iopub.execute_input": "2025-07-15T16:39:20.805237Z",
     "iopub.status.busy": "2025-07-15T16:39:20.804951Z",
     "iopub.status.idle": "2025-07-15T16:39:20.816620Z",
     "shell.execute_reply": "2025-07-15T16:39:20.816053Z"
    },
    "papermill": {
     "duration": 0.020819,
     "end_time": "2025-07-15T16:39:20.818029",
     "exception": false,
     "start_time": "2025-07-15T16:39:20.797210",
     "status": "completed"
    },
    "tags": []
   },
   "outputs": [
    {
     "name": "stdout",
     "output_type": "stream",
     "text": [
      "data/submission_ensemble.csv saved!\n"
     ]
    }
   ],
   "source": [
    "save_submission(y_pred, 'ensemble')"
   ]
  },
  {
   "cell_type": "markdown",
   "id": "161d50e0",
   "metadata": {},
   "source": [
    "### 오늘의 회고\n",
    "\n",
    "- ![kaggle_score](./data/kaggle_score.png)\n",
    "- 중간에 이상한데 꽂혀서 전처리 하다가 kaggle 점수가 높아진거 보고 잘한줄 착각...\n",
    "- 앙상블이랑, 하이퍼파라미터 값 찾는거에대한 학습에 의의를 둬야겠다.\n",
    "- 좀만 더하면 110000이하로 내려갈 것 같은데 계속 그 언저리에서 왔다리 갔다리 한다.\n",
    "- 오늘은 여기깢..."
   ]
  }
 ],
 "metadata": {
  "kaggle": {
   "accelerator": "none",
   "dataSources": [
    {
     "datasetId": 7870389,
     "sourceId": 12474491,
     "sourceType": "datasetVersion"
    }
   ],
   "dockerImageVersionId": 31089,
   "isGpuEnabled": false,
   "isInternetEnabled": true,
   "language": "python",
   "sourceType": "notebook"
  },
  "kernelspec": {
   "display_name": "Python 3",
   "language": "python",
   "name": "python3"
  },
  "language_info": {
   "codemirror_mode": {
    "name": "ipython",
    "version": 3
   },
   "file_extension": ".py",
   "mimetype": "text/x-python",
   "name": "python",
   "nbconvert_exporter": "python",
   "pygments_lexer": "ipython3",
   "version": "3.9.6"
  },
  "papermill": {
   "default_parameters": {},
   "duration": 22.055092,
   "end_time": "2025-07-15T16:39:23.454231",
   "environment_variables": {},
   "exception": null,
   "input_path": "/Users/bychoi/develop/aiffel_quest_rs/Exploration/Ex02/house-price-prediction-by-beomyongchoi.ipynb",
   "output_path": "/Users/bychoi/develop/aiffel_quest_rs/Exploration/Ex02/house-price-prediction-by-beomyongchoi-output.ipynb",
   "parameters": {},
   "start_time": "2025-07-15T16:39:01.399139",
   "version": "2.6.0"
  }
 },
 "nbformat": 4,
 "nbformat_minor": 5
}
