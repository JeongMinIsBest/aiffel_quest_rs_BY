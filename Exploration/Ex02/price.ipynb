{
 "cells": [
  {
   "cell_type": "markdown",
   "metadata": {},
   "source": [
    "# [집값 맞추기](https://www.kaggle.com/c/2019-2nd-ml-month-with-kakr)"
   ]
  },
  {
   "cell_type": "code",
   "execution_count": 1,
   "metadata": {
    "_uuid": "38bfbd5ada16035c96bb21265c51de80361f17b4",
    "trusted": true
   },
   "outputs": [],
   "source": [
    "import warnings\n",
    "warnings.filterwarnings(\"ignore\")\n",
    "\n",
    "import os\n",
    "from os.path import join\n",
    "\n",
    "import pandas as pd\n",
    "import numpy as np\n",
    "\n",
    "import missingno as msno\n",
    "\n",
    "from sklearn.preprocessing import RobustScaler\n",
    "from sklearn.ensemble import GradientBoostingRegressor\n",
    "from sklearn.model_selection import KFold, cross_val_score\n",
    "import xgboost as xgb\n",
    "import lightgbm as lgb\n",
    "\n",
    "import matplotlib.pyplot as plt\n",
    "import seaborn as sns"
   ]
  },
  {
   "cell_type": "code",
   "execution_count": 2,
   "metadata": {},
   "outputs": [],
   "source": [
    "train_data_path = join('./data', 'train.csv')\n",
    "test_data_path = join('./data', 'test.csv')\n",
    "\n",
    "train = pd.read_csv(train_data_path)\n",
    "test = pd.read_csv(test_data_path)"
   ]
  },
  {
   "cell_type": "code",
   "execution_count": 3,
   "metadata": {},
   "outputs": [
    {
     "data": {
      "text/html": [
       "<div>\n",
       "<style scoped>\n",
       "    .dataframe tbody tr th:only-of-type {\n",
       "        vertical-align: middle;\n",
       "    }\n",
       "\n",
       "    .dataframe tbody tr th {\n",
       "        vertical-align: top;\n",
       "    }\n",
       "\n",
       "    .dataframe thead th {\n",
       "        text-align: right;\n",
       "    }\n",
       "</style>\n",
       "<table border=\"1\" class=\"dataframe\">\n",
       "  <thead>\n",
       "    <tr style=\"text-align: right;\">\n",
       "      <th></th>\n",
       "      <th>id</th>\n",
       "      <th>date</th>\n",
       "      <th>price</th>\n",
       "      <th>bedrooms</th>\n",
       "      <th>bathrooms</th>\n",
       "      <th>sqft_living</th>\n",
       "      <th>sqft_lot</th>\n",
       "      <th>floors</th>\n",
       "      <th>waterfront</th>\n",
       "      <th>view</th>\n",
       "      <th>...</th>\n",
       "      <th>grade</th>\n",
       "      <th>sqft_above</th>\n",
       "      <th>sqft_basement</th>\n",
       "      <th>yr_built</th>\n",
       "      <th>yr_renovated</th>\n",
       "      <th>zipcode</th>\n",
       "      <th>lat</th>\n",
       "      <th>long</th>\n",
       "      <th>sqft_living15</th>\n",
       "      <th>sqft_lot15</th>\n",
       "    </tr>\n",
       "  </thead>\n",
       "  <tbody>\n",
       "    <tr>\n",
       "      <th>0</th>\n",
       "      <td>0</td>\n",
       "      <td>20141013T000000</td>\n",
       "      <td>221900.0</td>\n",
       "      <td>3</td>\n",
       "      <td>1.00</td>\n",
       "      <td>1180</td>\n",
       "      <td>5650</td>\n",
       "      <td>1.0</td>\n",
       "      <td>0</td>\n",
       "      <td>0</td>\n",
       "      <td>...</td>\n",
       "      <td>7</td>\n",
       "      <td>1180</td>\n",
       "      <td>0</td>\n",
       "      <td>1955</td>\n",
       "      <td>0</td>\n",
       "      <td>98178</td>\n",
       "      <td>47.5112</td>\n",
       "      <td>-122.257</td>\n",
       "      <td>1340</td>\n",
       "      <td>5650</td>\n",
       "    </tr>\n",
       "    <tr>\n",
       "      <th>1</th>\n",
       "      <td>1</td>\n",
       "      <td>20150225T000000</td>\n",
       "      <td>180000.0</td>\n",
       "      <td>2</td>\n",
       "      <td>1.00</td>\n",
       "      <td>770</td>\n",
       "      <td>10000</td>\n",
       "      <td>1.0</td>\n",
       "      <td>0</td>\n",
       "      <td>0</td>\n",
       "      <td>...</td>\n",
       "      <td>6</td>\n",
       "      <td>770</td>\n",
       "      <td>0</td>\n",
       "      <td>1933</td>\n",
       "      <td>0</td>\n",
       "      <td>98028</td>\n",
       "      <td>47.7379</td>\n",
       "      <td>-122.233</td>\n",
       "      <td>2720</td>\n",
       "      <td>8062</td>\n",
       "    </tr>\n",
       "    <tr>\n",
       "      <th>2</th>\n",
       "      <td>2</td>\n",
       "      <td>20150218T000000</td>\n",
       "      <td>510000.0</td>\n",
       "      <td>3</td>\n",
       "      <td>2.00</td>\n",
       "      <td>1680</td>\n",
       "      <td>8080</td>\n",
       "      <td>1.0</td>\n",
       "      <td>0</td>\n",
       "      <td>0</td>\n",
       "      <td>...</td>\n",
       "      <td>8</td>\n",
       "      <td>1680</td>\n",
       "      <td>0</td>\n",
       "      <td>1987</td>\n",
       "      <td>0</td>\n",
       "      <td>98074</td>\n",
       "      <td>47.6168</td>\n",
       "      <td>-122.045</td>\n",
       "      <td>1800</td>\n",
       "      <td>7503</td>\n",
       "    </tr>\n",
       "    <tr>\n",
       "      <th>3</th>\n",
       "      <td>3</td>\n",
       "      <td>20140627T000000</td>\n",
       "      <td>257500.0</td>\n",
       "      <td>3</td>\n",
       "      <td>2.25</td>\n",
       "      <td>1715</td>\n",
       "      <td>6819</td>\n",
       "      <td>2.0</td>\n",
       "      <td>0</td>\n",
       "      <td>0</td>\n",
       "      <td>...</td>\n",
       "      <td>7</td>\n",
       "      <td>1715</td>\n",
       "      <td>0</td>\n",
       "      <td>1995</td>\n",
       "      <td>0</td>\n",
       "      <td>98003</td>\n",
       "      <td>47.3097</td>\n",
       "      <td>-122.327</td>\n",
       "      <td>2238</td>\n",
       "      <td>6819</td>\n",
       "    </tr>\n",
       "    <tr>\n",
       "      <th>4</th>\n",
       "      <td>4</td>\n",
       "      <td>20150115T000000</td>\n",
       "      <td>291850.0</td>\n",
       "      <td>3</td>\n",
       "      <td>1.50</td>\n",
       "      <td>1060</td>\n",
       "      <td>9711</td>\n",
       "      <td>1.0</td>\n",
       "      <td>0</td>\n",
       "      <td>0</td>\n",
       "      <td>...</td>\n",
       "      <td>7</td>\n",
       "      <td>1060</td>\n",
       "      <td>0</td>\n",
       "      <td>1963</td>\n",
       "      <td>0</td>\n",
       "      <td>98198</td>\n",
       "      <td>47.4095</td>\n",
       "      <td>-122.315</td>\n",
       "      <td>1650</td>\n",
       "      <td>9711</td>\n",
       "    </tr>\n",
       "  </tbody>\n",
       "</table>\n",
       "<p>5 rows × 21 columns</p>\n",
       "</div>"
      ],
      "text/plain": [
       "   id             date     price  bedrooms  bathrooms  sqft_living  sqft_lot  \\\n",
       "0   0  20141013T000000  221900.0         3       1.00         1180      5650   \n",
       "1   1  20150225T000000  180000.0         2       1.00          770     10000   \n",
       "2   2  20150218T000000  510000.0         3       2.00         1680      8080   \n",
       "3   3  20140627T000000  257500.0         3       2.25         1715      6819   \n",
       "4   4  20150115T000000  291850.0         3       1.50         1060      9711   \n",
       "\n",
       "   floors  waterfront  view  ...  grade  sqft_above  sqft_basement  yr_built  \\\n",
       "0     1.0           0     0  ...      7        1180              0      1955   \n",
       "1     1.0           0     0  ...      6         770              0      1933   \n",
       "2     1.0           0     0  ...      8        1680              0      1987   \n",
       "3     2.0           0     0  ...      7        1715              0      1995   \n",
       "4     1.0           0     0  ...      7        1060              0      1963   \n",
       "\n",
       "   yr_renovated  zipcode      lat     long  sqft_living15  sqft_lot15  \n",
       "0             0    98178  47.5112 -122.257           1340        5650  \n",
       "1             0    98028  47.7379 -122.233           2720        8062  \n",
       "2             0    98074  47.6168 -122.045           1800        7503  \n",
       "3             0    98003  47.3097 -122.327           2238        6819  \n",
       "4             0    98198  47.4095 -122.315           1650        9711  \n",
       "\n",
       "[5 rows x 21 columns]"
      ]
     },
     "execution_count": 3,
     "metadata": {},
     "output_type": "execute_result"
    }
   ],
   "source": [
    "train.head()"
   ]
  },
  {
   "cell_type": "code",
   "execution_count": 4,
   "metadata": {},
   "outputs": [
    {
     "data": {
      "text/html": [
       "<div>\n",
       "<style scoped>\n",
       "    .dataframe tbody tr th:only-of-type {\n",
       "        vertical-align: middle;\n",
       "    }\n",
       "\n",
       "    .dataframe tbody tr th {\n",
       "        vertical-align: top;\n",
       "    }\n",
       "\n",
       "    .dataframe thead th {\n",
       "        text-align: right;\n",
       "    }\n",
       "</style>\n",
       "<table border=\"1\" class=\"dataframe\">\n",
       "  <thead>\n",
       "    <tr style=\"text-align: right;\">\n",
       "      <th></th>\n",
       "      <th>id</th>\n",
       "      <th>date</th>\n",
       "      <th>price</th>\n",
       "      <th>bedrooms</th>\n",
       "      <th>bathrooms</th>\n",
       "      <th>sqft_living</th>\n",
       "      <th>sqft_lot</th>\n",
       "      <th>floors</th>\n",
       "      <th>waterfront</th>\n",
       "      <th>view</th>\n",
       "      <th>...</th>\n",
       "      <th>grade</th>\n",
       "      <th>sqft_above</th>\n",
       "      <th>sqft_basement</th>\n",
       "      <th>yr_built</th>\n",
       "      <th>yr_renovated</th>\n",
       "      <th>zipcode</th>\n",
       "      <th>lat</th>\n",
       "      <th>long</th>\n",
       "      <th>sqft_living15</th>\n",
       "      <th>sqft_lot15</th>\n",
       "    </tr>\n",
       "  </thead>\n",
       "  <tbody>\n",
       "    <tr>\n",
       "      <th>0</th>\n",
       "      <td>0</td>\n",
       "      <td>201410</td>\n",
       "      <td>221900.0</td>\n",
       "      <td>3</td>\n",
       "      <td>1.00</td>\n",
       "      <td>1180</td>\n",
       "      <td>5650</td>\n",
       "      <td>1.0</td>\n",
       "      <td>0</td>\n",
       "      <td>0</td>\n",
       "      <td>...</td>\n",
       "      <td>7</td>\n",
       "      <td>1180</td>\n",
       "      <td>0</td>\n",
       "      <td>1955</td>\n",
       "      <td>0</td>\n",
       "      <td>98178</td>\n",
       "      <td>47.5112</td>\n",
       "      <td>-122.257</td>\n",
       "      <td>1340</td>\n",
       "      <td>5650</td>\n",
       "    </tr>\n",
       "    <tr>\n",
       "      <th>1</th>\n",
       "      <td>1</td>\n",
       "      <td>201502</td>\n",
       "      <td>180000.0</td>\n",
       "      <td>2</td>\n",
       "      <td>1.00</td>\n",
       "      <td>770</td>\n",
       "      <td>10000</td>\n",
       "      <td>1.0</td>\n",
       "      <td>0</td>\n",
       "      <td>0</td>\n",
       "      <td>...</td>\n",
       "      <td>6</td>\n",
       "      <td>770</td>\n",
       "      <td>0</td>\n",
       "      <td>1933</td>\n",
       "      <td>0</td>\n",
       "      <td>98028</td>\n",
       "      <td>47.7379</td>\n",
       "      <td>-122.233</td>\n",
       "      <td>2720</td>\n",
       "      <td>8062</td>\n",
       "    </tr>\n",
       "    <tr>\n",
       "      <th>2</th>\n",
       "      <td>2</td>\n",
       "      <td>201502</td>\n",
       "      <td>510000.0</td>\n",
       "      <td>3</td>\n",
       "      <td>2.00</td>\n",
       "      <td>1680</td>\n",
       "      <td>8080</td>\n",
       "      <td>1.0</td>\n",
       "      <td>0</td>\n",
       "      <td>0</td>\n",
       "      <td>...</td>\n",
       "      <td>8</td>\n",
       "      <td>1680</td>\n",
       "      <td>0</td>\n",
       "      <td>1987</td>\n",
       "      <td>0</td>\n",
       "      <td>98074</td>\n",
       "      <td>47.6168</td>\n",
       "      <td>-122.045</td>\n",
       "      <td>1800</td>\n",
       "      <td>7503</td>\n",
       "    </tr>\n",
       "    <tr>\n",
       "      <th>3</th>\n",
       "      <td>3</td>\n",
       "      <td>201406</td>\n",
       "      <td>257500.0</td>\n",
       "      <td>3</td>\n",
       "      <td>2.25</td>\n",
       "      <td>1715</td>\n",
       "      <td>6819</td>\n",
       "      <td>2.0</td>\n",
       "      <td>0</td>\n",
       "      <td>0</td>\n",
       "      <td>...</td>\n",
       "      <td>7</td>\n",
       "      <td>1715</td>\n",
       "      <td>0</td>\n",
       "      <td>1995</td>\n",
       "      <td>0</td>\n",
       "      <td>98003</td>\n",
       "      <td>47.3097</td>\n",
       "      <td>-122.327</td>\n",
       "      <td>2238</td>\n",
       "      <td>6819</td>\n",
       "    </tr>\n",
       "    <tr>\n",
       "      <th>4</th>\n",
       "      <td>4</td>\n",
       "      <td>201501</td>\n",
       "      <td>291850.0</td>\n",
       "      <td>3</td>\n",
       "      <td>1.50</td>\n",
       "      <td>1060</td>\n",
       "      <td>9711</td>\n",
       "      <td>1.0</td>\n",
       "      <td>0</td>\n",
       "      <td>0</td>\n",
       "      <td>...</td>\n",
       "      <td>7</td>\n",
       "      <td>1060</td>\n",
       "      <td>0</td>\n",
       "      <td>1963</td>\n",
       "      <td>0</td>\n",
       "      <td>98198</td>\n",
       "      <td>47.4095</td>\n",
       "      <td>-122.315</td>\n",
       "      <td>1650</td>\n",
       "      <td>9711</td>\n",
       "    </tr>\n",
       "  </tbody>\n",
       "</table>\n",
       "<p>5 rows × 21 columns</p>\n",
       "</div>"
      ],
      "text/plain": [
       "   id    date     price  bedrooms  bathrooms  sqft_living  sqft_lot  floors  \\\n",
       "0   0  201410  221900.0         3       1.00         1180      5650     1.0   \n",
       "1   1  201502  180000.0         2       1.00          770     10000     1.0   \n",
       "2   2  201502  510000.0         3       2.00         1680      8080     1.0   \n",
       "3   3  201406  257500.0         3       2.25         1715      6819     2.0   \n",
       "4   4  201501  291850.0         3       1.50         1060      9711     1.0   \n",
       "\n",
       "   waterfront  view  ...  grade  sqft_above  sqft_basement  yr_built  \\\n",
       "0           0     0  ...      7        1180              0      1955   \n",
       "1           0     0  ...      6         770              0      1933   \n",
       "2           0     0  ...      8        1680              0      1987   \n",
       "3           0     0  ...      7        1715              0      1995   \n",
       "4           0     0  ...      7        1060              0      1963   \n",
       "\n",
       "   yr_renovated  zipcode      lat     long  sqft_living15  sqft_lot15  \n",
       "0             0    98178  47.5112 -122.257           1340        5650  \n",
       "1             0    98028  47.7379 -122.233           2720        8062  \n",
       "2             0    98074  47.6168 -122.045           1800        7503  \n",
       "3             0    98003  47.3097 -122.327           2238        6819  \n",
       "4             0    98198  47.4095 -122.315           1650        9711  \n",
       "\n",
       "[5 rows x 21 columns]"
      ]
     },
     "execution_count": 4,
     "metadata": {},
     "output_type": "execute_result"
    }
   ],
   "source": [
    "train['date'] = train['date'].apply(lambda i: i[:6]).astype(int)\n",
    "train.head()"
   ]
  },
  {
   "cell_type": "markdown",
   "metadata": {},
   "source": [
    "- 집값 분포가 어떤지 확인"
   ]
  },
  {
   "cell_type": "code",
   "execution_count": 5,
   "metadata": {},
   "outputs": [
    {
     "data": {
      "image/png": "[encoded data removed]",
      "text/plain": [
       "<Figure size 640x480 with 1 Axes>"
      ]
     },
     "metadata": {},
     "output_type": "display_data"
    }
   ],
   "source": [
    "import matplotlib.pyplot as plt\n",
    "import seaborn as sns\n",
    "\n",
    "sns.boxplot(train['price'])\n",
    "plt.show()"
   ]
  },
  {
   "cell_type": "code",
   "execution_count": 6,
   "metadata": {},
   "outputs": [],
   "source": [
    "Q1 = train['price'].quantile(0.25)\n",
    "Q3 = train['price'].quantile(0.75)\n",
    "IQR = Q3 - Q1\n",
    "lower_bound = Q1 - 1.5 * IQR\n",
    "upper_bound = Q3 + 1.5 * IQR\n",
    "\n",
    "# 극단적으로 높은 집값 없애기\n",
    "train = train[(train['price'] >= lower_bound) & (train['price'] <= upper_bound)]"
   ]
  },
  {
   "cell_type": "code",
   "execution_count": 7,
   "metadata": {},
   "outputs": [
    {
     "name": "stdout",
     "output_type": "stream",
     "text": [
      "Index(['id', 'date', 'bedrooms', 'bathrooms', 'sqft_living', 'sqft_lot',\n",
      "       'floors', 'waterfront', 'view', 'condition', 'grade', 'sqft_above',\n",
      "       'sqft_basement', 'yr_built', 'yr_renovated', 'zipcode', 'lat', 'long',\n",
      "       'sqft_living15', 'sqft_lot15'],\n",
      "      dtype='object')\n"
     ]
    }
   ],
   "source": [
    "y = train['price']\n",
    "del train['price']\n",
    "\n",
    "print(train.columns)"
   ]
  },
  {
   "cell_type": "code",
   "execution_count": 8,
   "metadata": {},
   "outputs": [
    {
     "name": "stdout",
     "output_type": "stream",
     "text": [
      "Index(['date', 'bedrooms', 'bathrooms', 'sqft_living', 'sqft_lot', 'floors',\n",
      "       'waterfront', 'view', 'condition', 'grade', 'sqft_above',\n",
      "       'sqft_basement', 'yr_built', 'yr_renovated', 'zipcode', 'lat', 'long',\n",
      "       'sqft_living15', 'sqft_lot15'],\n",
      "      dtype='object')\n"
     ]
    }
   ],
   "source": [
    "del train['id']\n",
    "\n",
    "print(train.columns)"
   ]
  },
  {
   "cell_type": "code",
   "execution_count": 9,
   "metadata": {},
   "outputs": [
    {
     "name": "stdout",
     "output_type": "stream",
     "text": [
      "Index(['date', 'bedrooms', 'bathrooms', 'sqft_living', 'sqft_lot', 'floors',\n",
      "       'waterfront', 'view', 'condition', 'grade', 'sqft_above',\n",
      "       'sqft_basement', 'yr_built', 'yr_renovated', 'zipcode', 'lat', 'long',\n",
      "       'sqft_living15', 'sqft_lot15'],\n",
      "      dtype='object')\n"
     ]
    }
   ],
   "source": [
    "test['date'] = test['date'].apply(lambda i: i[:6]).astype(int)\n",
    "\n",
    "del test['id']\n",
    "\n",
    "print(test.columns)"
   ]
  },
  {
   "cell_type": "code",
   "execution_count": 10,
   "metadata": {},
   "outputs": [],
   "source": [
    "y = np.log1p(y)"
   ]
  },
  {
   "cell_type": "code",
   "execution_count": 11,
   "metadata": {},
   "outputs": [
    {
     "data": {
      "image/png": "[encoded data removed]",
      "text/plain": [
       "<Figure size 640x480 with 1 Axes>"
      ]
     },
     "metadata": {},
     "output_type": "display_data"
    }
   ],
   "source": [
    "sns.kdeplot(y)\n",
    "plt.show()"
   ]
  },
  {
   "cell_type": "markdown",
   "metadata": {},
   "source": [
    "- 피쳐 추가\n",
    "    - 건축 후 리노베이션까지 걸린 년수\n",
    "    - 방개수 대비 욕실\n",
    "    - 거주면적 대비 대지면적\n",
    "    - 건축된지 몇년 되었는지\n",
    "- 0으로 나눠져서 NaN이 나오는 케이스 있어서 추가 처리"
   ]
  },
  {
   "cell_type": "code",
   "execution_count": 12,
   "metadata": {},
   "outputs": [],
   "source": [
    "# 1. 건축 후 리노베이션까지 걸린 년수\n",
    "train['years_since_renovated'] = train['yr_renovated'] - train['yr_built']\n",
    "train['years_since_renovated'] = train['years_since_renovated'].apply(lambda x: x if x > 0 else 0)\n",
    "test['years_since_renovated'] = test['yr_renovated'] - test['yr_built']\n",
    "test['years_since_renovated'] = test['years_since_renovated'].apply(lambda x: x if x > 0 else 0)\n",
    "\n",
    "# 2. 방 개수 대비 욕실 개수\n",
    "train['bath_per_bed'] = train['bathrooms'] / train['bedrooms']\n",
    "test['bath_per_bed'] = test['bathrooms'] / test['bedrooms']\n",
    "\n",
    "# 0으로 나누는 경우 NaN을 0으로 대체\n",
    "train['bath_per_bed'] = train['bath_per_bed'].replace([np.inf, -np.inf, np.nan], 0)\n",
    "test['bath_per_bed'] = test['bath_per_bed'].replace([np.inf, -np.inf, np.nan], 0)\n",
    "\n",
    "# 3. 거주면적 대비 대지면적\n",
    "train['living_per_lot'] = train['sqft_living'] / train['sqft_lot']\n",
    "test['living_per_lot'] = test['sqft_living'] / test['sqft_lot']\n",
    "\n",
    "train['living_per_lot'] = train['living_per_lot'].replace([np.inf, -np.inf, np.nan], 0)\n",
    "test['living_per_lot'] = test['living_per_lot'].replace([np.inf, -np.inf, np.nan], 0)\n",
    "\n",
    "# 4. 건축된지 몇 년 되었는지\n",
    "train['age'] = 2025 - train['yr_built']\n",
    "test['age'] = 2025 - test['yr_built']"
   ]
  },
  {
   "cell_type": "code",
   "execution_count": 13,
   "metadata": {},
   "outputs": [],
   "source": [
    "# zip코드가 숫자지만 범주형 데이터로 보는게 맞을 것 같아서 원핫 인코딩\n",
    "# test 데이터도 맞춰줌\n",
    "train = pd.get_dummies(train, columns=['zipcode'])\n",
    "test = pd.get_dummies(test, columns=['zipcode'])\n",
    "\n",
    "train, test = train.align(test, join='left', axis=1, fill_value=0)\n",
    "train = train.fillna(0)\n",
    "test = test.fillna(0)"
   ]
  },
  {
   "cell_type": "code",
   "execution_count": 14,
   "metadata": {},
   "outputs": [
    {
     "name": "stdout",
     "output_type": "stream",
     "text": [
      "date           0\n",
      "bedrooms       0\n",
      "bathrooms      0\n",
      "sqft_living    0\n",
      "sqft_lot       0\n",
      "floors         0\n",
      "waterfront     0\n",
      "view           0\n",
      "condition      0\n",
      "grade          0\n",
      "dtype: int64\n",
      "date           0\n",
      "bedrooms       0\n",
      "bathrooms      0\n",
      "sqft_living    0\n",
      "sqft_lot       0\n",
      "floors         0\n",
      "waterfront     0\n",
      "view           0\n",
      "condition      0\n",
      "grade          0\n",
      "dtype: int64\n"
     ]
    }
   ],
   "source": [
    "print(train.isnull().sum().sort_values(ascending=False).head(10))\n",
    "print(test.isnull().sum().sort_values(ascending=False).head(10))"
   ]
  },
  {
   "cell_type": "code",
   "execution_count": 15,
   "metadata": {},
   "outputs": [
    {
     "name": "stdout",
     "output_type": "stream",
     "text": [
      "<class 'pandas.core.frame.DataFrame'>\n",
      "Index: 14238 entries, 0 to 15034\n",
      "Data columns (total 92 columns):\n",
      " #   Column                 Non-Null Count  Dtype  \n",
      "---  ------                 --------------  -----  \n",
      " 0   date                   14238 non-null  int64  \n",
      " 1   bedrooms               14238 non-null  int64  \n",
      " 2   bathrooms              14238 non-null  float64\n",
      " 3   sqft_living            14238 non-null  int64  \n",
      " 4   sqft_lot               14238 non-null  int64  \n",
      " 5   floors                 14238 non-null  float64\n",
      " 6   waterfront             14238 non-null  int64  \n",
      " 7   view                   14238 non-null  int64  \n",
      " 8   condition              14238 non-null  int64  \n",
      " 9   grade                  14238 non-null  int64  \n",
      " 10  sqft_above             14238 non-null  int64  \n",
      " 11  sqft_basement          14238 non-null  int64  \n",
      " 12  yr_built               14238 non-null  int64  \n",
      " 13  yr_renovated           14238 non-null  int64  \n",
      " 14  lat                    14238 non-null  float64\n",
      " 15  long                   14238 non-null  float64\n",
      " 16  sqft_living15          14238 non-null  int64  \n",
      " 17  sqft_lot15             14238 non-null  int64  \n",
      " 18  years_since_renovated  14238 non-null  int64  \n",
      " 19  bath_per_bed           14238 non-null  float64\n",
      " 20  living_per_lot         14238 non-null  float64\n",
      " 21  age                    14238 non-null  int64  \n",
      " 22  zipcode_98001          14238 non-null  bool   \n",
      " 23  zipcode_98002          14238 non-null  bool   \n",
      " 24  zipcode_98003          14238 non-null  bool   \n",
      " 25  zipcode_98004          14238 non-null  bool   \n",
      " 26  zipcode_98005          14238 non-null  bool   \n",
      " 27  zipcode_98006          14238 non-null  bool   \n",
      " 28  zipcode_98007          14238 non-null  bool   \n",
      " 29  zipcode_98008          14238 non-null  bool   \n",
      " 30  zipcode_98010          14238 non-null  bool   \n",
      " 31  zipcode_98011          14238 non-null  bool   \n",
      " 32  zipcode_98014          14238 non-null  bool   \n",
      " 33  zipcode_98019          14238 non-null  bool   \n",
      " 34  zipcode_98022          14238 non-null  bool   \n",
      " 35  zipcode_98023          14238 non-null  bool   \n",
      " 36  zipcode_98024          14238 non-null  bool   \n",
      " 37  zipcode_98027          14238 non-null  bool   \n",
      " 38  zipcode_98028          14238 non-null  bool   \n",
      " 39  zipcode_98029          14238 non-null  bool   \n",
      " 40  zipcode_98030          14238 non-null  bool   \n",
      " 41  zipcode_98031          14238 non-null  bool   \n",
      " 42  zipcode_98032          14238 non-null  bool   \n",
      " 43  zipcode_98033          14238 non-null  bool   \n",
      " 44  zipcode_98034          14238 non-null  bool   \n",
      " 45  zipcode_98038          14238 non-null  bool   \n",
      " 46  zipcode_98039          14238 non-null  bool   \n",
      " 47  zipcode_98040          14238 non-null  bool   \n",
      " 48  zipcode_98042          14238 non-null  bool   \n",
      " 49  zipcode_98045          14238 non-null  bool   \n",
      " 50  zipcode_98052          14238 non-null  bool   \n",
      " 51  zipcode_98053          14238 non-null  bool   \n",
      " 52  zipcode_98055          14238 non-null  bool   \n",
      " 53  zipcode_98056          14238 non-null  bool   \n",
      " 54  zipcode_98058          14238 non-null  bool   \n",
      " 55  zipcode_98059          14238 non-null  bool   \n",
      " 56  zipcode_98065          14238 non-null  bool   \n",
      " 57  zipcode_98070          14238 non-null  bool   \n",
      " 58  zipcode_98072          14238 non-null  bool   \n",
      " 59  zipcode_98074          14238 non-null  bool   \n",
      " 60  zipcode_98075          14238 non-null  bool   \n",
      " 61  zipcode_98077          14238 non-null  bool   \n",
      " 62  zipcode_98092          14238 non-null  bool   \n",
      " 63  zipcode_98102          14238 non-null  bool   \n",
      " 64  zipcode_98103          14238 non-null  bool   \n",
      " 65  zipcode_98105          14238 non-null  bool   \n",
      " 66  zipcode_98106          14238 non-null  bool   \n",
      " 67  zipcode_98107          14238 non-null  bool   \n",
      " 68  zipcode_98108          14238 non-null  bool   \n",
      " 69  zipcode_98109          14238 non-null  bool   \n",
      " 70  zipcode_98112          14238 non-null  bool   \n",
      " 71  zipcode_98115          14238 non-null  bool   \n",
      " 72  zipcode_98116          14238 non-null  bool   \n",
      " 73  zipcode_98117          14238 non-null  bool   \n",
      " 74  zipcode_98118          14238 non-null  bool   \n",
      " 75  zipcode_98119          14238 non-null  bool   \n",
      " 76  zipcode_98122          14238 non-null  bool   \n",
      " 77  zipcode_98125          14238 non-null  bool   \n",
      " 78  zipcode_98126          14238 non-null  bool   \n",
      " 79  zipcode_98133          14238 non-null  bool   \n",
      " 80  zipcode_98136          14238 non-null  bool   \n",
      " 81  zipcode_98144          14238 non-null  bool   \n",
      " 82  zipcode_98146          14238 non-null  bool   \n",
      " 83  zipcode_98148          14238 non-null  bool   \n",
      " 84  zipcode_98155          14238 non-null  bool   \n",
      " 85  zipcode_98166          14238 non-null  bool   \n",
      " 86  zipcode_98168          14238 non-null  bool   \n",
      " 87  zipcode_98177          14238 non-null  bool   \n",
      " 88  zipcode_98178          14238 non-null  bool   \n",
      " 89  zipcode_98188          14238 non-null  bool   \n",
      " 90  zipcode_98198          14238 non-null  bool   \n",
      " 91  zipcode_98199          14238 non-null  bool   \n",
      "dtypes: bool(70), float64(6), int64(16)\n",
      "memory usage: 3.4 MB\n"
     ]
    }
   ],
   "source": [
    "train.info()"
   ]
  },
  {
   "cell_type": "code",
   "execution_count": 16,
   "metadata": {},
   "outputs": [],
   "source": [
    "from sklearn.model_selection import train_test_split\n",
    "from sklearn.metrics import mean_squared_error\n",
    "\n",
    "from xgboost import XGBRegressor\n",
    "from lightgbm import LGBMRegressor\n",
    "from sklearn.ensemble import GradientBoostingRegressor, RandomForestRegressor\n",
    "\n",
    "def rmse(y_test, y_pred):\n",
    "    return np.sqrt(mean_squared_error(np.expm1(y_test), np.expm1(y_pred)))"
   ]
  },
  {
   "cell_type": "code",
   "execution_count": 17,
   "metadata": {},
   "outputs": [],
   "source": [
    "def robust_scale(df):\n",
    "    robustscaler = RobustScaler()\n",
    "    robustscaler.fit(df)\n",
    "\n",
    "    df = robustscaler.transform(df) \n",
    "    return df"
   ]
  },
  {
   "cell_type": "code",
   "execution_count": 18,
   "metadata": {},
   "outputs": [
    {
     "name": "stdout",
     "output_type": "stream",
     "text": [
      "train shape: (14238, 92)\n",
      "test shape: (6468, 92)\n",
      "df shape: (20706, 92)\n"
     ]
    }
   ],
   "source": [
    "df = pd.concat((train, test), axis=0)\n",
    "\n",
    "print('train shape:', train.shape)\n",
    "print('test shape:', test.shape)\n",
    "print('df shape:', df.shape)"
   ]
  },
  {
   "cell_type": "code",
   "execution_count": 19,
   "metadata": {},
   "outputs": [
    {
     "data": {
      "text/plain": [
       "array([[ 0.        ,  0.        , -1.25      , ...,  0.        ,\n",
       "         0.        ,  0.        ],\n",
       "       [ 0.96842105, -1.        , -1.25      , ...,  0.        ,\n",
       "         0.        ,  0.        ],\n",
       "       [ 0.96842105,  0.        , -0.25      , ...,  0.        ,\n",
       "         0.        ,  0.        ],\n",
       "       ...,\n",
       "       [ 0.96842105,  0.        ,  0.25      , ...,  0.        ,\n",
       "         0.        ,  0.        ],\n",
       "       [-0.04210526, -1.        , -1.5       , ...,  0.        ,\n",
       "         0.        ,  0.        ],\n",
       "       [ 0.95789474,  0.        ,  0.25      , ...,  0.        ,\n",
       "         0.        ,  0.        ]], shape=(20706, 92))"
      ]
     },
     "execution_count": 19,
     "metadata": {},
     "output_type": "execute_result"
    }
   ],
   "source": [
    "# robust cale로 스케일링\n",
    "robust_scale(df)"
   ]
  },
  {
   "cell_type": "code",
   "execution_count": 20,
   "metadata": {},
   "outputs": [],
   "source": [
    "# random_state 2025로 고정\n",
    "random_state=2025\n",
    "\n",
    "gboost = GradientBoostingRegressor(random_state=random_state)\n",
    "xgboost = XGBRegressor(random_state=random_state)\n",
    "lightgbm = LGBMRegressor(random_state=random_state)\n",
    "rdforest = RandomForestRegressor(random_state=random_state)\n",
    "\n",
    "models = [gboost, xgboost, lightgbm, rdforest]"
   ]
  },
  {
   "cell_type": "code",
   "execution_count": null,
   "metadata": {},
   "outputs": [
    {
     "name": "stdout",
     "output_type": "stream",
     "text": [
      "[LightGBM] [Info] Auto-choosing col-wise multi-threading, the overhead of testing was 0.001397 seconds.\n",
      "You can set `force_col_wise=true` to remove the overhead.\n",
      "[LightGBM] [Info] Total Bins 2847\n",
      "[LightGBM] [Info] Number of data points in the train set: 11390, number of used features: 91\n",
      "[LightGBM] [Info] Start training from score 12.975149\n",
      "[LightGBM] [Info] Auto-choosing col-wise multi-threading, the overhead of testing was 0.001058 seconds.\n",
      "You can set `force_col_wise=true` to remove the overhead.\n",
      "[LightGBM] [Info] Total Bins 2815\n",
      "[LightGBM] [Info] Number of data points in the train set: 9112, number of used features: 91\n",
      "[LightGBM] [Info] Start training from score 12.974668\n",
      "[LightGBM] [Info] Auto-choosing col-wise multi-threading, the overhead of testing was 0.003094 seconds.\n",
      "You can set `force_col_wise=true` to remove the overhead.\n",
      "[LightGBM] [Info] Total Bins 2821\n",
      "[LightGBM] [Info] Number of data points in the train set: 9112, number of used features: 91\n",
      "[LightGBM] [Info] Start training from score 12.977490\n",
      "[LightGBM] [Info] Auto-choosing row-wise multi-threading, the overhead of testing was 0.003592 seconds.\n",
      "You can set `force_row_wise=true` to remove the overhead.\n",
      "And if memory is not enough, you can set `force_col_wise=true`.\n",
      "[LightGBM] [Info] Total Bins 2825\n",
      "[LightGBM] [Info] Number of data points in the train set: 9112, number of used features: 91\n",
      "[LightGBM] [Info] Start training from score 12.976762\n",
      "[LightGBM] [Info] Auto-choosing col-wise multi-threading, the overhead of testing was 0.002516 seconds.\n",
      "You can set `force_col_wise=true` to remove the overhead.\n",
      "[LightGBM] [Info] Total Bins 2822\n",
      "[LightGBM] [Info] Number of data points in the train set: 9112, number of used features: 91\n",
      "[LightGBM] [Info] Start training from score 12.974707\n",
      "[LightGBM] [Info] Auto-choosing col-wise multi-threading, the overhead of testing was 0.002071 seconds.\n",
      "You can set `force_col_wise=true` to remove the overhead.\n",
      "[LightGBM] [Info] Total Bins 2824\n",
      "[LightGBM] [Info] Number of data points in the train set: 9112, number of used features: 91\n",
      "[LightGBM] [Info] Start training from score 12.972116\n",
      "rmse: 73381.80924467753\n"
     ]
    }
   ],
   "source": [
    "from sklearn.ensemble import StackingRegressor\n",
    "\n",
    "# 시도해볼 방법에 나온 스태킹 사용해보기\n",
    "def get_stacking_model():\n",
    "    X_train, X_test, y_train, y_test = train_test_split(train, y, random_state=random_state, test_size=0.2)\n",
    "\n",
    "    gboost = GradientBoostingRegressor(random_state=random_state)\n",
    "    xgboost = XGBRegressor(random_state=random_state)\n",
    "    lightgbm = LGBMRegressor(random_state=random_state)\n",
    "    rdforest = RandomForestRegressor(random_state=random_state)\n",
    "\n",
    "    stack_models = [\n",
    "        ('gb', gboost),\n",
    "        ('xgb', xgboost),\n",
    "        ('lgbm', lightgbm),\n",
    "        ('rf', rdforest)\n",
    "    ]\n",
    "    \n",
    "    stack_reg = StackingRegressor(stack_models, final_estimator=gboost)\n",
    "    stack_reg.fit(X_train, y_train)\n",
    "    \n",
    "    y_pred = stack_reg.predict(X_test)\n",
    "    print(f'rmse: {rmse(y_pred, y_test)}')\n",
    "    \n",
    "    return stack_reg\n",
    "\n",
    "model = get_stacking_model()"
   ]
  },
  {
   "cell_type": "code",
   "execution_count": 22,
   "metadata": {},
   "outputs": [],
   "source": [
    "\"\"\"\n",
    "1. `test`에 대해 예측합니다.\n",
    "2. 예측값을 `np.expm1`으로 변환하고, `submission_model_name_RMSE_100000.csv` 형태의 `csv` 파일을 저장합니다.\n",
    "\"\"\"\n",
    "\n",
    "# 코드 작성\n",
    "def save_submission(model, test, model_name, rmsle=None):\n",
    "    prediction = model.predict(test)\n",
    "    prediction = np.expm1(prediction)\n",
    "    data_dir = './data'\n",
    "    submission_path = join(data_dir, 'sample_submission.csv')\n",
    "    submission = pd.read_csv(submission_path)\n",
    "    submission['price'] = prediction\n",
    "    submission_csv_path = '{}/submission_{}_RMSE_{}.csv'.format(data_dir, model_name, rmsle)\n",
    "    submission.to_csv(submission_csv_path, index=False)\n",
    "    print('{} saved!'.format(submission_csv_path))"
   ]
  },
  {
   "cell_type": "code",
   "execution_count": null,
   "metadata": {},
   "outputs": [
    {
     "name": "stdout",
     "output_type": "stream",
     "text": [
      "./data/submission_StackingRegressor_RMSE_73381.80924467753.csv saved!\n"
     ]
    }
   ],
   "source": [
    "save_submission(model, test, 'StackingRegressor', '73381.80924467753')"
   ]
  },
  {
   "cell_type": "markdown",
   "metadata": {},
   "source": [
    "### 오늘의 회고\n",
    "\n",
    "- 어제랑 다르게 난이도가 너무나 오른 것 아닌가\n",
    "- 감도 못잡겠다.\n",
    "- 왜 baseline이 더 높은 점수가 나오는 것인가\n",
    "- lgbm regressor 값을 바꿔도 유의미한 결과는 없어서 어려웠고 전처리로 다시 돌아가봄\n",
    "- 가격중에 아웃라이어를 없앴더니 점수가 확 올랐는데 이게 잘한건지는 사실 모르겠음\n",
    "- 피처들도 여러개 생성해봄, 할 수 있는 건 해봤는데 오늘건 좀 파악하기가 어려웠다."
   ]
  }
 ],
 "metadata": {
  "kaggle": {
   "accelerator": "gpu",
   "dataSources": [
    {
     "databundleVersionId": 337513,
     "sourceId": 13385,
     "sourceType": "competition"
    }
   ],
   "dockerImageVersionId": 22189,
   "isGpuEnabled": true,
   "isInternetEnabled": false,
   "language": "python",
   "sourceType": "notebook"
  },
  "kernelspec": {
   "display_name": "Python 3",
   "language": "python",
   "name": "python3"
  },
  "language_info": {
   "codemirror_mode": {
    "name": "ipython",
    "version": 3
   },
   "file_extension": ".py",
   "mimetype": "text/x-python",
   "name": "python",
   "nbconvert_exporter": "python",
   "pygments_lexer": "ipython3",
   "version": "3.11.9"
  }
 },
 "nbformat": 4,
 "nbformat_minor": 4
}
