{
 "cells": [
  {
   "cell_type": "markdown",
   "id": "7316a8fb",
   "metadata": {},
   "source": [
    "## 뉴스기사 요약해보기"
   ]
  },
  {
   "cell_type": "code",
   "execution_count": 1,
   "id": "ec094db9",
   "metadata": {},
   "outputs": [],
   "source": [
    "# 라이브러리 임포트\n",
    "import urllib.request\n",
    "import pandas as pd\n",
    "import numpy as np\n",
    "import re\n",
    "import matplotlib.pyplot as plt\n",
    "from collections import Counter\n",
    "\n",
    "import nltk\n",
    "from nltk.corpus import stopwords\n",
    "from bs4 import BeautifulSoup\n",
    "\n",
    "import torch\n",
    "import torch.nn as nn\n",
    "import torch.optim as optim\n",
    "import torch.nn.functional as F\n",
    "from torch.utils.data import TensorDataset, DataLoader\n",
    "from torch.nn.utils.rnn import pad_sequence"
   ]
  },
  {
   "cell_type": "code",
   "execution_count": 2,
   "id": "b0d764fb",
   "metadata": {},
   "outputs": [
    {
     "name": "stdout",
     "output_type": "stream",
     "text": [
      "전체 샘플수 : 98401\n"
     ]
    },
    {
     "data": {
      "text/html": [
       "<div>\n",
       "<style scoped>\n",
       "    .dataframe tbody tr th:only-of-type {\n",
       "        vertical-align: middle;\n",
       "    }\n",
       "\n",
       "    .dataframe tbody tr th {\n",
       "        vertical-align: top;\n",
       "    }\n",
       "\n",
       "    .dataframe thead th {\n",
       "        text-align: right;\n",
       "    }\n",
       "</style>\n",
       "<table border=\"1\" class=\"dataframe\">\n",
       "  <thead>\n",
       "    <tr style=\"text-align: right;\">\n",
       "      <th></th>\n",
       "      <th>headlines</th>\n",
       "      <th>text</th>\n",
       "    </tr>\n",
       "  </thead>\n",
       "  <tbody>\n",
       "    <tr>\n",
       "      <th>597</th>\n",
       "      <td>UK newspaper to pay Melania Trump 'substantial...</td>\n",
       "      <td>British newspaper The Telegraph has apologised...</td>\n",
       "    </tr>\n",
       "    <tr>\n",
       "      <th>18272</th>\n",
       "      <td>Ranbir was the first person to tell me I'm a t...</td>\n",
       "      <td>Deepika Padukone has said that Ranbir Kapoor w...</td>\n",
       "    </tr>\n",
       "    <tr>\n",
       "      <th>89498</th>\n",
       "      <td>Sharapova's wildcards driven by media coverage...</td>\n",
       "      <td>World number one Andy Murray has claimed that ...</td>\n",
       "    </tr>\n",
       "    <tr>\n",
       "      <th>82961</th>\n",
       "      <td>Bharti Singh joins cast of The Kapil Sharma Show</td>\n",
       "      <td>Comedian Bharti Singh has confirmed that she w...</td>\n",
       "    </tr>\n",
       "    <tr>\n",
       "      <th>22094</th>\n",
       "      <td>Why was Hyderabad chosen by IKEA for its first...</td>\n",
       "      <td>After Swedish furniture giant IKEA received FD...</td>\n",
       "    </tr>\n",
       "    <tr>\n",
       "      <th>76615</th>\n",
       "      <td>Jadeja posts Bollywood dialogue in apparent re...</td>\n",
       "      <td>All-rounder Ravindra Jadeja, who received one ...</td>\n",
       "    </tr>\n",
       "    <tr>\n",
       "      <th>38351</th>\n",
       "      <td>Robocop named 'Singham' installed in Puducherry</td>\n",
       "      <td>Puducherry LG Kiran Bedi has inaugurated a tou...</td>\n",
       "    </tr>\n",
       "    <tr>\n",
       "      <th>91603</th>\n",
       "      <td>3 killed as jetty collapses due to high tide i...</td>\n",
       "      <td>At least three people were killed and several ...</td>\n",
       "    </tr>\n",
       "    <tr>\n",
       "      <th>81867</th>\n",
       "      <td>Boko Haram kidnaps 40 women, slaughters villag...</td>\n",
       "      <td>Nigeria-based terror group Boko Haram has abdu...</td>\n",
       "    </tr>\n",
       "    <tr>\n",
       "      <th>48340</th>\n",
       "      <td>Election Commission demands right to deregiste...</td>\n",
       "      <td>The Election Commission of India (ECI) has fil...</td>\n",
       "    </tr>\n",
       "    <tr>\n",
       "      <th>35595</th>\n",
       "      <td>Oscar-winning director MiloÃÂ¡ Forman passes ...</td>\n",
       "      <td>MiloÃÂ¡ Forman, known for directing the Oscar...</td>\n",
       "    </tr>\n",
       "    <tr>\n",
       "      <th>26181</th>\n",
       "      <td>India won NatWest final exactly 28 yrs after I...</td>\n",
       "      <td>India won the NatWest Trophy by beating Englan...</td>\n",
       "    </tr>\n",
       "    <tr>\n",
       "      <th>13118</th>\n",
       "      <td>Digital wallets stopped from using Aadhaar aut...</td>\n",
       "      <td>Aadhaar-issuing authority UIDAI has asked digi...</td>\n",
       "    </tr>\n",
       "    <tr>\n",
       "      <th>87576</th>\n",
       "      <td>Deutsche Bank asked to give documents on Trump...</td>\n",
       "      <td>Democratic lawmakers have asked Deutsche Bank ...</td>\n",
       "    </tr>\n",
       "    <tr>\n",
       "      <th>1102</th>\n",
       "      <td>Couple defends Rafale deal in wedding card, PM...</td>\n",
       "      <td>Prime Minister Narendra Modi wrote a letter to...</td>\n",
       "    </tr>\n",
       "  </tbody>\n",
       "</table>\n",
       "</div>"
      ],
      "text/plain": [
       "                                               headlines  \\\n",
       "597    UK newspaper to pay Melania Trump 'substantial...   \n",
       "18272  Ranbir was the first person to tell me I'm a t...   \n",
       "89498  Sharapova's wildcards driven by media coverage...   \n",
       "82961   Bharti Singh joins cast of The Kapil Sharma Show   \n",
       "22094  Why was Hyderabad chosen by IKEA for its first...   \n",
       "76615  Jadeja posts Bollywood dialogue in apparent re...   \n",
       "38351    Robocop named 'Singham' installed in Puducherry   \n",
       "91603  3 killed as jetty collapses due to high tide i...   \n",
       "81867  Boko Haram kidnaps 40 women, slaughters villag...   \n",
       "48340  Election Commission demands right to deregiste...   \n",
       "35595  Oscar-winning director MiloÃ\n",
       "Â¡ Forman passes ...   \n",
       "26181  India won NatWest final exactly 28 yrs after I...   \n",
       "13118  Digital wallets stopped from using Aadhaar aut...   \n",
       "87576  Deutsche Bank asked to give documents on Trump...   \n",
       "1102   Couple defends Rafale deal in wedding card, PM...   \n",
       "\n",
       "                                                    text  \n",
       "597    British newspaper The Telegraph has apologised...  \n",
       "18272  Deepika Padukone has said that Ranbir Kapoor w...  \n",
       "89498  World number one Andy Murray has claimed that ...  \n",
       "82961  Comedian Bharti Singh has confirmed that she w...  \n",
       "22094  After Swedish furniture giant IKEA received FD...  \n",
       "76615  All-rounder Ravindra Jadeja, who received one ...  \n",
       "38351  Puducherry LG Kiran Bedi has inaugurated a tou...  \n",
       "91603  At least three people were killed and several ...  \n",
       "81867  Nigeria-based terror group Boko Haram has abdu...  \n",
       "48340  The Election Commission of India (ECI) has fil...  \n",
       "35595  MiloÃ\n",
       "Â¡ Forman, known for directing the Oscar...  \n",
       "26181  India won the NatWest Trophy by beating Englan...  \n",
       "13118  Aadhaar-issuing authority UIDAI has asked digi...  \n",
       "87576  Democratic lawmakers have asked Deutsche Bank ...  \n",
       "1102   Prime Minister Narendra Modi wrote a letter to...  "
      ]
     },
     "execution_count": 2,
     "metadata": {},
     "output_type": "execute_result"
    }
   ],
   "source": [
    "# 데이터 로드\n",
    "# urllib.request.urlretrieve(\"https://raw.githubusercontent.com/sunnysai12345/News_Summary/master/news_summary_more.csv\", filename=\"data/news_summary_more.csv\")\n",
    "data = pd.read_csv('data/news_summary_more.csv', encoding='iso-8859-1')\n",
    "print('전체 샘플수 :', (len(data)))\n",
    "data.sample(15)"
   ]
  },
  {
   "cell_type": "markdown",
   "id": "f8e6d272",
   "metadata": {},
   "source": [
    "#### 데이터 전처리"
   ]
  },
  {
   "cell_type": "code",
   "execution_count": 3,
   "metadata": {},
   "outputs": [
    {
     "name": "stdout",
     "output_type": "stream",
     "text": [
      "전체 샘플수 (중복 제거 후): 98360\n",
      "전체 샘플수 (결측치 제거 후): 98360\n"
     ]
    }
   ],
   "source": [
    "# 중복 및 결측치 제거\n",
    "data.drop_duplicates(subset = ['text'], inplace=True)\n",
    "print('전체 샘플수 (중복 제거 후):', (len(data)))\n",
    "data.dropna(axis=0, inplace=True)\n",
    "print('전체 샘플수 (결측치 제거 후):', (len(data)))"
   ]
  },
  {
   "cell_type": "code",
   "execution_count": 4,
   "id": "9e4774e9",
   "metadata": {},
   "outputs": [
    {
     "name": "stderr",
     "output_type": "stream",
     "text": [
      "[nltk_data] Downloading package stopwords to\n",
      "[nltk_data]     /Users/bychoi/nltk_data...\n",
      "[nltk_data]   Package stopwords is already up-to-date!\n"
     ]
    }
   ],
   "source": [
    "# 텍스트 정규화를 위한 사전\n",
    "contractions = {\"ain't\": \"is not\", \"aren't\": \"are not\",\"can't\": \"cannot\", \"'cause\": \"because\", \"could've\": \"could have\", \"couldn't\": \"could not\",\n",
    "                           \"didn't\": \"did not\",  \"doesn't\": \"does not\", \"don't\": \"do not\", \"hadn't\": \"had not\", \"hasn't\": \"has not\", \"haven't\": \"have not\",\n",
    "                           \"he'd\": \"he would\",\"he'll\": \"he will\", \"he's\": \"he is\", \"how'd\": \"how did\", \"how'd'y\": \"how do you\", \"how'll\": \"how will\", \"how's\": \"how is\",\n",
    "                           \"I'd\": \"I would\", \"I'd've\": \"I would have\", \"I'll\": \"I will\", \"I'll've\": \"I will have\",\"I'm\": \"I am\", \"I've\": \"I have\", \"i'd\": \"i would\",\n",
    "                           \"i'd've\": \"i would have\", \"i'll\": \"i will\",  \"i'll've\": \"i will have\",\"i'm\": \"i am\", \"i've\": \"i have\", \"isn't\": \"is not\", \"it'd\": \"it would\",\n",
    "                           \"it'd've\": \"it would have\", \"it'll\": \"it will\", \"it'll've\": \"it will have\",\"it's\": \"it is\", \"let's\": \"let us\", \"ma'am\": \"madam\",\n",
    "                           \"mayn't\": \"may not\", \"might've\": \"might have\",\"mightn't\": \"might not\",\"mightn't've\": \"might not have\", \"must've\": \"must have\",\n",
    "                           \"mustn't\": \"must not\", \"mustn't've\": \"must not have\", \"needn't\": \"need not\", \"needn't've\": \"need not have\",\"o'clock\": \"of the clock\",\n",
    "                           \"oughtn't\": \"ought not\", \"oughtn't've\": \"ought not have\", \"shan't\": \"shall not\", \"sha'n't\": \"shall not\", \"shan't've\": \"shall not have\",\n",
    "                           \"she'd\": \"she would\", \"she'd've\": \"she would have\", \"she'll\": \"she will\", \"she'll've\": \"she will have\", \"she's\": \"she is\",\n",
    "                           \"should've\": \"should have\", \"shouldn't\": \"should not\", \"shouldn't've\": \"should not have\", \"so've\": \"so have\",\"so's\": \"so as\",\n",
    "                           \"this's\": \"this is\",\"that'd\": \"that would\", \"that'd've\": \"that would have\", \"that's\": \"that is\", \"there'd\": \"there would\",\n",
    "                           \"there'd've\": \"there would have\", \"there's\": \"there is\", \"here's\": \"here is\",\"they'd\": \"they would\", \"they'd've\": \"they would have\",\n",
    "                           \"they'll\": \"they will\", \"they'll've\": \"they will have\", \"they're\": \"they are\", \"they've\": \"they have\", \"to've\": \"to have\",\n",
    "                           \"wasn't\": \"was not\", \"we'd\": \"we would\", \"we'd've\": \"we would have\", \"we'll\": \"we will\", \"we'll've\": \"we will have\", \"we're\": \"we are\",\n",
    "                           \"we've\": \"we have\", \"weren't\": \"were not\", \"what'll\": \"what will\", \"what'll've\": \"what will have\", \"what're\": \"what are\",\n",
    "                           \"what's\": \"what is\", \"what've\": \"what have\", \"when's\": \"when is\", \"when've\": \"when have\", \"where'd\": \"where did\", \"where's\": \"where is\",\n",
    "                           \"where've\": \"where have\", \"who'll\": \"who will\", \"who'll've\": \"who will have\", \"who's\": \"who is\", \"who've\": \"who have\",\n",
    "                           \"why's\": \"why is\", \"why've\": \"why have\", \"will've\": \"will have\", \"won't\": \"will not\", \"won't've\": \"will not have\",\n",
    "                           \"would've\": \"would have\", \"wouldn't\": \"would not\", \"wouldn't've\": \"would not have\", \"y'all\": \"you all\",\n",
    "                           \"y'all'd\": \"you all would\",\"y'all'd've\": \"you all would have\",\"y'all're\": \"you all are\",\"y'all've\": \"you all have\",\n",
    "                           \"you'd\": \"you would\", \"you'd've\": \"you would have\", \"you'll\": \"you will\", \"you'll've\": \"you will have\",\n",
    "                           \"you're\": \"you are\", \"you've\": \"you have\"}\n",
    "# NLTK의 불용어\n",
    "nltk.download('stopwords')\n",
    "stop_words = set(stopwords.words('english'))\n",
    "\n",
    "# 데이터 전처리 함수\n",
    "def preprocess_sentence(sentence, remove_stopwords=True):\n",
    "    sentence = sentence.lower()\n",
    "    sentence = BeautifulSoup(sentence, \"lxml\").text\n",
    "    sentence = re.sub(r'\\\\([^)]*\\\\)', '', sentence)\n",
    "    sentence = re.sub('\\\\\"', '', sentence)\n",
    "    sentence = ' '.join([contractions[t] if t in contractions else t for t in sentence.split(\" \")])\n",
    "    sentence = re.sub(r\"'s\\\\b\", \"\", sentence)\n",
    "    sentence = re.sub(\"[^a-zA-Z]\", \" \", sentence)\n",
    "    if remove_stopwords:\n",
    "        tokens = ' '.join(word for word in sentence.split() if not word in stop_words if len(word) > 1)\n",
    "    else:\n",
    "        tokens = ' '.join(word for word in sentence.split() if len(word) > 1)\n",
    "    return tokens\n",
    "\n",
    "# 전처리 적용\n",
    "clean_text = [preprocess_sentence(s) for s in data['text']]\n",
    "clean_headlines = [preprocess_sentence(s, False) for s in data['headlines']]\n",
    "data['text'] = clean_text\n",
    "data['headlines'] = clean_headlines\n",
    "data.replace('', np.nan, inplace=True)\n",
    "data.dropna(axis=0, inplace=True)"
   ]
  },
  {
   "cell_type": "code",
   "execution_count": 5,
   "id": "0d7b857b",
   "metadata": {},
   "outputs": [
    {
     "name": "stdout",
     "output_type": "stream",
     "text": [
      "텍스트의 최소 길이 : 1\n",
      "텍스트의 최대 길이 : 60\n",
      "텍스트의 평균 길이 : 35.28\n",
      "헤드라인의 최소 길이 : 1\n",
      "헤드라인의 최대 길이 : 16\n",
      "헤드라인의 평균 길이 : 9.30\n"
     ]
    },
    {
     "data": {
      "image/png": "[encoded data removed]",
      "text/plain": [
       "<Figure size 1200x500 with 2 Axes>"
      ]
     },
     "metadata": {},
     "output_type": "display_data"
    },
    {
     "data": {
      "image/png": "[encoded data removed]",
      "text/plain": [
       "<Figure size 1200x500 with 2 Axes>"
      ]
     },
     "metadata": {},
     "output_type": "display_data"
    }
   ],
   "source": [
    "text_len = [len(s.split()) for s in data['text']]\n",
    "headlines_len = [len(s.split()) for s in data['headlines']]\n",
    "\n",
    "print('텍스트의 최소 길이 : {}'.format(np.min(text_len)))\n",
    "print('텍스트의 최대 길이 : {}'.format(np.max(text_len)))\n",
    "print('텍스트의 평균 길이 : {:.2f}'.format(np.mean(text_len)))\n",
    "print('헤드라인의 최소 길이 : {}'.format(np.min(headlines_len)))\n",
    "print('헤드라인의 최대 길이 : {}'.format(np.max(headlines_len)))\n",
    "print('헤드라인의 평균 길이 : {:.2f}'.format(np.mean(headlines_len)))\n",
    "\n",
    "# 박스 플롯\n",
    "plt.figure(figsize=(12, 5))\n",
    "plt.subplot(1, 2, 1)\n",
    "plt.boxplot(headlines_len)\n",
    "plt.title('Headlines')\n",
    "plt.subplot(1, 2, 2)\n",
    "plt.boxplot(text_len)\n",
    "plt.title('Text')\n",
    "plt.tight_layout()\n",
    "plt.show()\n",
    "\n",
    "# 히스토그램\n",
    "plt.figure(figsize=(12, 5))\n",
    "plt.subplot(1, 2, 1)\n",
    "plt.title('Headlines')\n",
    "plt.hist(headlines_len, bins=40)\n",
    "plt.xlabel('length of samples')\n",
    "plt.ylabel('number of samples')\n",
    "\n",
    "plt.subplot(1, 2, 2)\n",
    "plt.title('Text')\n",
    "plt.hist(text_len, bins=40)\n",
    "plt.xlabel('length of samples')\n",
    "plt.ylabel('number of samples')\n",
    "plt.show()\n"
   ]
  },
  {
   "cell_type": "code",
   "execution_count": 6,
   "id": "1b2bb1b4",
   "metadata": {},
   "outputs": [
    {
     "name": "stdout",
     "output_type": "stream",
     "text": [
      "훈련 데이터의 개수 : 58842\n",
      "테스트 데이터의 개수 : 14710\n"
     ]
    }
   ],
   "source": [
    "# 길이 분포 확인 및 길이 제한\n",
    "text_max_len = 40\n",
    "headlines_max_len = 10\n",
    "\n",
    "data = data[data['text'].apply(lambda x: len(x.split()) <= text_max_len)]\n",
    "data = data[data['headlines'].apply(lambda x: len(x.split()) <= headlines_max_len)]\n",
    "\n",
    "# 디코더 입력을 위해 시작 토큰과 종료 토큰 추가\n",
    "data['decoder_input'] = data['headlines'].apply(lambda x : 'sostoken '+ x)\n",
    "data['decoder_target'] = data['headlines'].apply(lambda x : x + ' eostoken')\n",
    "\n",
    "# numpy array로 변환\n",
    "encoder_input = np.array(data['text'])\n",
    "decoder_input = np.array(data['decoder_input'])\n",
    "decoder_target = np.array(data['decoder_target'])\n",
    "\n",
    "# 훈련 데이터와 테스트 데이터 분리\n",
    "np.random.seed(42)  # 재현성을 위해 시드 설정\n",
    "indices = np.arange(encoder_input.shape[0])\n",
    "np.random.shuffle(indices)\n",
    "encoder_input = encoder_input[indices]\n",
    "decoder_input = decoder_input[indices]\n",
    "decoder_target = decoder_target[indices]\n",
    "\n",
    "n_of_val = int(len(encoder_input)*0.2)\n",
    "encoder_input_train = encoder_input[:-n_of_val]\n",
    "decoder_input_train = decoder_input[:-n_of_val]\n",
    "decoder_target_train = decoder_target[:-n_of_val]\n",
    "\n",
    "encoder_input_test = encoder_input[-n_of_val:]\n",
    "decoder_input_test = decoder_input[-n_of_val:]\n",
    "decoder_target_test = decoder_target[-n_of_val:]\n",
    "\n",
    "print('훈련 데이터의 개수 :', len(encoder_input_train))\n",
    "print('테스트 데이터의 개수 :', len(encoder_input_test))"
   ]
  },
  {
   "cell_type": "code",
   "execution_count": 7,
   "id": "0761aa66",
   "metadata": {},
   "outputs": [
    {
     "name": "stdout",
     "output_type": "stream",
     "text": [
      "원문 단어 집합의 크기 : 39694\n",
      "요약 단어 집합의 크기 : 27222\n"
     ]
    }
   ],
   "source": [
    "# 단어 집합 생성 함수\n",
    "def build_vocab(texts, threshold=2):\n",
    "    word_counter = Counter()\n",
    "    for text in texts:\n",
    "        word_counter.update(text.split())\n",
    "\n",
    "    vocab = {\"<PAD>\": 0, \"<UNK>\": 1, \"sostoken\": 2, \"eostoken\": 3}\n",
    "    for word, count in word_counter.items():\n",
    "        if count >= threshold:\n",
    "            vocab[word] = len(vocab)\n",
    "    return vocab\n",
    "\n",
    "src_vocab = build_vocab(encoder_input_train)\n",
    "tar_vocab = build_vocab(np.concatenate([decoder_input_train, decoder_target_train]))\n",
    "src_vocab_size = len(src_vocab)\n",
    "tar_vocab_size = len(tar_vocab)\n",
    "\n",
    "print('원문 단어 집합의 크기 :', src_vocab_size)\n",
    "print('요약 단어 집합의 크기 :', tar_vocab_size)\n",
    "\n",
    "# 텍스트를 시퀀스로 변환하는 함수\n",
    "def text_to_sequence(texts, vocab):\n",
    "    return [[vocab.get(word, vocab[\"<UNK>\"]) for word in text.split()] for text in texts]\n",
    "\n",
    "encoder_input_train = text_to_sequence(encoder_input_train, src_vocab)\n",
    "decoder_input_train = text_to_sequence(decoder_input_train, tar_vocab)\n",
    "decoder_target_train = text_to_sequence(decoder_target_train, tar_vocab)\n",
    "encoder_input_test = text_to_sequence(encoder_input_test, src_vocab)\n",
    "decoder_input_test = text_to_sequence(decoder_input_test, tar_vocab)\n",
    "decoder_target_test = text_to_sequence(decoder_target_test, tar_vocab)\n",
    "\n"
   ]
  },
  {
   "cell_type": "code",
   "execution_count": 8,
   "id": "5154918f",
   "metadata": {},
   "outputs": [
    {
     "name": "stdout",
     "output_type": "stream",
     "text": [
      "패딩 후 훈련 데이터 크기: torch.Size([58842, 40])\n",
      "패딩 후 테스트 데이터 크기: torch.Size([14710, 40])\n"
     ]
    }
   ],
   "source": [
    "# 훈련 데이터 패딩\n",
    "encoder_input_train = pad_sequence([torch.tensor(seq) for seq in encoder_input_train], batch_first=True, padding_value=src_vocab[\"<PAD>\"])\n",
    "decoder_input_train = pad_sequence([torch.tensor(seq) for seq in decoder_input_train], batch_first=True, padding_value=tar_vocab[\"<PAD>\"])\n",
    "decoder_target_train = pad_sequence([torch.tensor(seq) for seq in decoder_target_train], batch_first=True, padding_value=tar_vocab[\"<PAD>\"])\n",
    "\n",
    "# 테스트 데이터 패딩\n",
    "encoder_input_test = pad_sequence([torch.tensor(seq) for seq in encoder_input_test], batch_first=True, padding_value=src_vocab[\"<PAD>\"])\n",
    "decoder_target_test = pad_sequence([torch.tensor(seq) for seq in decoder_target_test], batch_first=True, padding_value=tar_vocab[\"<PAD>\"])\n",
    "\n",
    "print('패딩 후 훈련 데이터 크기:', encoder_input_train.shape)\n",
    "print('패딩 후 테스트 데이터 크기:', encoder_input_test.shape)\n"
   ]
  },
  {
   "cell_type": "markdown",
   "id": "a9060673",
   "metadata": {},
   "source": [
    "#### 어텐션 메커니즘 사용하기"
   ]
  },
  {
   "cell_type": "code",
   "execution_count": 9,
   "id": "2a53bcd3",
   "metadata": {},
   "outputs": [
    {
     "name": "stdout",
     "output_type": "stream",
     "text": [
      "Using device: mps\n"
     ]
    }
   ],
   "source": [
    "device = torch.device(\"mps\" if torch.mps.is_available() else \"cpu\")\n",
    "print(f\"Using device: {device}\")"
   ]
  },
  {
   "cell_type": "code",
   "execution_count": 10,
   "id": "cf920062",
   "metadata": {},
   "outputs": [],
   "source": [
    "# 인코더\n",
    "class Encoder(nn.Module):\n",
    "    def __init__(self, vocab_size, embedding_dim, hidden_size, num_layers, dropout):\n",
    "        super(Encoder, self).__init__()\n",
    "        # 단어를 벡터로 변환하는 임베딩 레이어, padding_idx를 넣어 패딩 토큰을 무시\n",
    "        self.embedding = nn.Embedding(vocab_size, embedding_dim, padding_idx=src_vocab[\"<PAD>\"])\n",
    "        # LSTM 레이어, bidirectional=True로 설정하여 양방향 LSTM 사용\n",
    "        self.lstm = nn.LSTM(embedding_dim, hidden_size, num_layers, dropout=dropout, batch_first=True, bidirectional=True)\n",
    "        # 양방향 LSTM의 정방향/역방향 hidden state를 합치기 위한 선형 레이어\n",
    "        self.fc_hidden = nn.Linear(hidden_size * 2, hidden_size)\n",
    "        self.fc_cell = nn.Linear(hidden_size * 2, hidden_size)\n",
    "\n",
    "    def forward(self, x):\n",
    "        # 입력 -> 임베딩 -> LSTM\n",
    "        embedded = self.embedding(x)\n",
    "        outputs, (hidden, cell) = self.lstm(embedded)\n",
    "        # 양방향 LSTM의 정방향/역방향 hidden state를 합치고 linear 레이어 통과\n",
    "        hidden = self.fc_hidden(torch.cat((hidden[0:self.lstm.num_layers], hidden[self.lstm.num_layers:self.lstm.num_layers*2]), dim=2))\n",
    "        cell = self.fc_cell(torch.cat((cell[0:self.lstm.num_layers], cell[self.lstm.num_layers:self.lstm.num_layers*2]), dim=2))\n",
    "        return outputs, hidden, cell\n"
   ]
  },
  {
   "cell_type": "code",
   "execution_count": 11,
   "id": "87668bb4",
   "metadata": {},
   "outputs": [],
   "source": [
    "# 어텐션 메커니즘\n",
    "class Attention(nn.Module):\n",
    "    def __init__(self, hidden_size):\n",
    "        super(Attention, self).__init__()\n",
    "        self.attn = nn.Linear(hidden_size * 3, hidden_size) # hidden_size * 3: hidden state + encoder outputs\n",
    "        self.v = nn.Linear(hidden_size, 1, bias=False)\n",
    "\n",
    "    def forward(self, hidden, encoder_outputs):\n",
    "        # hidden : 현재 디코더의 hidden state\n",
    "        # encoder_outputs : 인코더의 모든 hidden state\n",
    "        src_len = encoder_outputs.shape[1]\n",
    "        hidden = hidden.unsqueeze(1).repeat(1, src_len, 1)\n",
    "        \n",
    "        # 현재 디코더의 hidden state와 인코더의 모든 hidden state를 합쳐서 어텐션 점수 계산\n",
    "        energy = torch.tanh(self.attn(torch.cat((hidden, encoder_outputs), dim=2)))\n",
    "        \n",
    "        # 어텐션 점수 계산\n",
    "        attention = self.v(energy).squeeze(2)\n",
    "        \n",
    "        # 어텐션 점수를 소프트맥스 함수로 정규화\n",
    "        return F.softmax(attention, dim=1)\n"
   ]
  },
  {
   "cell_type": "code",
   "execution_count": 12,
   "id": "a447dc98",
   "metadata": {},
   "outputs": [],
   "source": [
    "# 디코더 \n",
    "class Decoder(nn.Module):\n",
    "    def __init__(self, vocab_size, embedding_dim, hidden_size, num_layers, dropout):\n",
    "        super(Decoder, self).__init__()\n",
    "        self.attention = Attention(hidden_size)\n",
    "        self.embedding = nn.Embedding(vocab_size, embedding_dim, padding_idx=tar_vocab[\"<PAD>\"])\n",
    "        # LSTM 레이어, 입력 크기는 hidden_size * 2 + embedding_dim\n",
    "        self.lstm = nn.LSTM(hidden_size * 2 + embedding_dim, hidden_size, num_layers, dropout=dropout, batch_first=True)\n",
    "        self.out = nn.Linear(hidden_size, vocab_size) # 최종 출력 레이어\n",
    "\n",
    "    def forward(self, input, hidden, cell, encoder_outputs):\n",
    "        input = input.unsqueeze(1)\n",
    "        embedded = self.embedding(input)\n",
    "        \n",
    "        # 어텐션 가중치와 컨텍스트 벡터 계산\n",
    "        a = self.attention(hidden[-1], encoder_outputs).unsqueeze(1)\n",
    "        weighted = torch.bmm(a, encoder_outputs)\n",
    "        \n",
    "        # 어텐션 컨텍스트 벡터와 임베딩 벡터를 합쳐서 입력 생성\n",
    "        rnn_input = torch.cat((embedded, weighted), dim=2)\n",
    "        output, (hidden, cell) = self.lstm(rnn_input, (hidden, cell))\n",
    "        \n",
    "        # 출력 레이어를 통과하여 최종 예측값 생성\n",
    "        prediction = self.out(output.squeeze(1))\n",
    "        return prediction, hidden, cell"
   ]
  },
  {
   "cell_type": "code",
   "execution_count": 13,
   "id": "686ba888",
   "metadata": {},
   "outputs": [],
   "source": [
    "# seq2seq 모델\n",
    "class Seq2Seq(nn.Module):\n",
    "    def __init__(self, encoder, decoder, device):\n",
    "        super().__init__()\n",
    "        self.encoder = encoder\n",
    "        self.decoder = decoder\n",
    "        self.device = device\n",
    "\n",
    "    def forward(self, src, trg, teacher_forcing_ratio=0.5):\n",
    "        batch_size, trg_len = trg.shape\n",
    "        trg_vocab_size = self.decoder.out.out_features\n",
    "        outputs = torch.zeros(batch_size, trg_len, trg_vocab_size).to(self.device)\n",
    "        \n",
    "        # 인코더 실행\n",
    "        encoder_outputs, hidden, cell = self.encoder(src)\n",
    "        \n",
    "        # 디코더의 첫 입력은 <sos> 토큰\n",
    "        input = trg[:, 0]\n",
    "        \n",
    "        # 요약 문장의 길이만큼 반복해 단어 생성\n",
    "        for t in range(1, trg_len):\n",
    "            output, hidden, cell = self.decoder(input, hidden, cell, encoder_outputs)\n",
    "            outputs[:, t] = output\n",
    "            \n",
    "            # teacher forcing: 다음 입력으로 실제 타겟 단어를 사용해 학습 안정화\n",
    "            teacher_force = torch.rand(1).item() < teacher_forcing_ratio\n",
    "            top1 = output.argmax(1) # 가장 높은 확률을 가진 단어 선택\n",
    "            input = trg[:, t] if teacher_force else top1 # 실제 타겟 단어를 사용하거나 예측된 단어를 사용\n",
    "        return outputs"
   ]
  },
  {
   "cell_type": "code",
   "execution_count": 14,
   "id": "8733d85c",
   "metadata": {},
   "outputs": [
    {
     "name": "stdout",
     "output_type": "stream",
     "text": [
      "Epoch: 01 | Train Loss: 7.238 | Val. Loss: 7.102\n",
      "Epoch: 02 | Train Loss: 7.033 | Val. Loss: 7.088\n",
      "Epoch: 03 | Train Loss: 6.971 | Val. Loss: 7.082\n",
      "Epoch: 04 | Train Loss: 6.862 | Val. Loss: 6.971\n",
      "Epoch: 05 | Train Loss: 6.665 | Val. Loss: 6.806\n",
      "Epoch: 06 | Train Loss: 6.443 | Val. Loss: 6.655\n",
      "Epoch: 07 | Train Loss: 6.228 | Val. Loss: 6.536\n",
      "Epoch: 08 | Train Loss: 6.044 | Val. Loss: 6.442\n",
      "Epoch: 09 | Train Loss: 5.874 | Val. Loss: 6.364\n",
      "Epoch: 10 | Train Loss: 5.721 | Val. Loss: 6.310\n",
      "Epoch: 11 | Train Loss: 5.579 | Val. Loss: 6.272\n",
      "Epoch: 12 | Train Loss: 5.451 | Val. Loss: 6.247\n",
      "Epoch: 13 | Train Loss: 5.318 | Val. Loss: 6.233\n",
      "Epoch: 14 | Train Loss: 5.198 | Val. Loss: 6.220\n",
      "Epoch: 15 | Train Loss: 5.086 | Val. Loss: 6.216\n",
      "Epoch: 16 | Train Loss: 4.968 | Val. Loss: 6.219\n",
      "Epoch: 17 | Train Loss: 4.860 | Val. Loss: 6.222\n",
      "Early stopping at epoch 18\n"
     ]
    }
   ],
   "source": [
    "# 하이퍼파라미터 설정\n",
    "embedding_dim = 128\n",
    "hidden_size = 256\n",
    "num_layers = 2\n",
    "dropout = 0.3\n",
    "\n",
    "encoder = Encoder(src_vocab_size, embedding_dim, hidden_size, num_layers, dropout).to(device)\n",
    "decoder = Decoder(tar_vocab_size, embedding_dim, hidden_size, num_layers, dropout).to(device)\n",
    "model = Seq2Seq(encoder, decoder, device).to(device)\n",
    "\n",
    "optimizer = optim.Adam(model.parameters(), lr=0.0005)\n",
    "criterion = nn.CrossEntropyLoss(ignore_index=tar_vocab[\"<PAD>\"])\n",
    "\n",
    "# train 함수\n",
    "def train(model, iterator, optimizer, criterion, clip):\n",
    "    model.train()\n",
    "    epoch_loss = 0\n",
    "    for _, (src, trg) in enumerate(iterator):\n",
    "        src, trg = src.to(device), trg.to(device)\n",
    "        optimizer.zero_grad()\n",
    "        output = model(src, trg)\n",
    "        output_dim = output.shape[-1]\n",
    "        output = output[:, 1:].reshape(-1, output_dim)\n",
    "        trg = trg[:, 1:].reshape(-1)\n",
    "        loss = criterion(output, trg)\n",
    "        loss.backward()\n",
    "        torch.nn.utils.clip_grad_norm_(model.parameters(), clip)\n",
    "        optimizer.step()\n",
    "        epoch_loss += loss.item()\n",
    "    return epoch_loss / len(iterator)\n",
    "\n",
    "# evaluate 함수\n",
    "def evaluate(model, iterator, criterion):\n",
    "    model.eval()\n",
    "    epoch_loss = 0\n",
    "    with torch.no_grad():\n",
    "        for _, (src, trg) in enumerate(iterator):\n",
    "            src, trg = src.to(device), trg.to(device)\n",
    "            output = model(src, trg, 0) # teacher forcing 비활성화\n",
    "            output_dim = output.shape[-1]\n",
    "            output = output[:, 1:].reshape(-1, output_dim)\n",
    "            trg = trg[:, 1:].reshape(-1)\n",
    "            loss = criterion(output, trg)\n",
    "            epoch_loss += loss.item()\n",
    "    return epoch_loss / len(iterator)\n",
    "\n",
    "# DataLoader 생성\n",
    "train_dataset = TensorDataset(encoder_input_train, decoder_target_train)\n",
    "test_dataset = TensorDataset(encoder_input_test, decoder_target_test)\n",
    "train_loader = DataLoader(train_dataset, batch_size=128, shuffle=True)\n",
    "test_loader = DataLoader(test_dataset, batch_size=128)\n",
    "\n",
    "# 학습 시작\n",
    "N_EPOCHS = 30\n",
    "CLIP = 1\n",
    "PATIENCE = 3 # 조기 종료를 위한 patience 설정\n",
    "\n",
    "early_stopping_counter = 0\n",
    "best_valid_loss = float('inf')\n",
    "\n",
    "train_losses = []\n",
    "valid_losses = []\n",
    "\n",
    "for epoch in range(N_EPOCHS):\n",
    "    train_loss = train(model, train_loader, optimizer, criterion, CLIP)\n",
    "    valid_loss = evaluate(model, test_loader, criterion)\n",
    "\n",
    "    train_losses.append(train_loss)\n",
    "    valid_losses.append(valid_loss)\n",
    "\n",
    "    if valid_loss < best_valid_loss:\n",
    "        best_valid_loss = valid_loss\n",
    "        torch.save(model.state_dict(), 'best-model.pt')\n",
    "        early_stopping_counter = 0\n",
    "    else:\n",
    "        early_stopping_counter += 1\n",
    "        if early_stopping_counter >= PATIENCE:\n",
    "            print(f'Early stopping at epoch {epoch+1}')\n",
    "            break\n",
    "\n",
    "    print(f'Epoch: {epoch+1:02} | Train Loss: {train_loss:.3f} | Val. Loss: {valid_loss:.3f}')"
   ]
  },
  {
   "cell_type": "markdown",
   "id": "a3a88e60",
   "metadata": {},
   "source": [
    "#### 결과 확인"
   ]
  },
  {
   "cell_type": "code",
   "execution_count": 15,
   "id": "dc32ed44",
   "metadata": {},
   "outputs": [
    {
     "data": {
      "image/png": "[encoded data removed]",
      "text/plain": [
       "<Figure size 1000x600 with 1 Axes>"
      ]
     },
     "metadata": {},
     "output_type": "display_data"
    }
   ],
   "source": [
    "# Loss 그래프 시각화\n",
    "plt.figure(figsize=(10, 6))\n",
    "plt.plot(train_losses, label='Train Loss')\n",
    "plt.plot(valid_losses, label='Validation Loss')\n",
    "plt.xlabel(\"Epoch\")\n",
    "plt.ylabel(\"Loss\")\n",
    "plt.legend()\n",
    "plt.title(\"Training & Validation Loss\")\n",
    "plt.show()"
   ]
  },
  {
   "cell_type": "code",
   "execution_count": null,
   "id": "397c0788",
   "metadata": {},
   "outputs": [
    {
     "name": "stderr",
     "output_type": "stream",
     "text": [
      "/var/folders/14/wm3n_r1s01jfgw6n8j7pr4740000gn/T/ipykernel_71525/2112316361.py:2: FutureWarning: You are using `torch.load` with `weights_only=False` (the current default value), which uses the default pickle module implicitly. It is possible to construct malicious pickle data which will execute arbitrary code during unpickling (See https://github.com/pytorch/pytorch/blob/main/SECURITY.md#untrusted-models for more details). In a future release, the default value for `weights_only` will be flipped to `True`. This limits the functions that could be executed during unpickling. Arbitrary objects will no longer be allowed to be loaded via this mode unless they are explicitly allowlisted by the user via `torch.serialization.add_safe_globals`. We recommend you start setting `weights_only=True` for any use case where you don't have full control of the loaded file. Please open an issue on GitHub for any issues related to this experimental feature.\n",
      "  model.load_state_dict(torch.load('best-model.pt'))\n"
     ]
    },
    {
     "name": "stdout",
     "output_type": "stream",
     "text": [
      "Source: credit rating agency moody affirmed pakistan rating downgraded outlook stable negative ahead general elections country agency cited factors including heightened external vulnerability risk low foreign exchange reserves changing outlook moody said decision <UNK> rating reflected country potential robust growth\n",
      "Target: moody downgrades pak ratings to negative ahead of polls\n",
      "Predicted: releases new new of amid elections in\n",
      "\n",
      "Source: soviet officer <UNK> <UNK> prevented possible nuclear war us soviet union cold war died aged <UNK> monitoring radar showed us launched nukes russia however <UNK> decided retaliate doubting radar reading later revealed false\n",
      "Target: soviet officer who averted nuclear war with us dies aged\n",
      "Predicted: claims us of us of us attack\n",
      "\n",
      "Source: spicejet saturday cancelled flight ticket shiv sena mp ravindra gaikwad barred several airlines flying assaulted air india staffer last month per reports gaikwad made booking pune ahmedabad flight april earlier air india indigo also cancelled gaikwad booking following assault case\n",
      "Target: spicejet cancels shiv sena mp gaikwad flight ticket\n",
      "Predicted: fined to for for for in in\n",
      "\n",
      "Source: buffaloes believed chased lions drowned river botswana buffaloes drowned <UNK> <UNK> river along border botswana namibia local lodge owner said buffaloes got stuck bank side river high following panicked <UNK>\n",
      "Target: buffaloes drown fleeing lions in botswana\n",
      "Predicted: of the to to to in in\n",
      "\n",
      "Source: joint venture three companies bam <UNK> <UNK> working london <UNK> projects fined combined million crore three failures one incident led construction worker death tonne wet concrete poured onto another worker struck excavator suffered fractures right leg\n",
      "Target: uk firms fined cr as wet concrete caused worker death\n",
      "Predicted: to to to of crore in cr\n",
      "\n",
      "Source: south africa supreme court appeal sca friday upheld high court ruling reinstate corruption charges filed president jacob zuma became president charges zuma relate crore government arms deal struck state prosecutors set aside charges\n",
      "Target: south africa sc reinstates corruption charges against prez\n",
      "Predicted: court to to against sc over sc\n",
      "\n",
      "Source: speaking pakistan general elections congress leader shashi tharoor said pakistan tehreek insaf pti leader imran khan expected win necessarily turbulent weather indo pak relations last year also hearing military wants change see imran khan <UNK> potential added\n",
      "Target: imran khan win will not affect indo pak relations tharoor\n",
      "Predicted: will be be in in leader leader\n",
      "\n",
      "Source: niti aayog ceo amitabh kant said india economic growth needs reflected human development index <UNK> country ranks nations urged industry associations contribute development district level transformation backward districts poor middle status help demand generation added\n",
      "Target: economic growth needs to reflect on <UNK> niti aayog ceo\n",
      "Predicted: to to gst gst gst niti aayog\n",
      "\n",
      "Source: sixteen year old shooter saurabh chaudhary recently bagged gold asian games broke junior world record win air pistol junior men event issf world championship saurabh shot total score better previous junior world record score set june year\n",
      "Target: yr old asiad champ saurabh breaks own shooting world record\n",
      "Predicted: wins baby player for world in gold\n",
      "\n",
      "Source: year saw shuttler kidambi srikanth become first indian win four superseries titles calendar year indian men women hockey teams secured asia cup titles indian women ice hockey team registered first ever international victory indian men football team lose single match\n",
      "Target: what were india top achievements in sports in\n",
      "Predicted: becomes st team to to for women\n",
      "\n"
     ]
    }
   ],
   "source": [
    "# 가장 성능이 좋았던 모델을 불러오기\n",
    "model.load_state_dict(torch.load('best-model.pt'))\n",
    "model = model.to(device)\n",
    "\n",
    "# 단어 <-> 인덱스 변환 사전 생성\n",
    "src_index_to_word = {idx: word for word, idx in src_vocab.items()}\n",
    "tar_index_to_word = {idx: word for word, idx in tar_vocab.items()}\n",
    "\n",
    "# 추론 함수\n",
    "def summarize(model, src_tensor, max_len=8):\n",
    "    model.eval()\n",
    "    if src_tensor.dim() == 1:\n",
    "        src_tensor = src_tensor.unsqueeze(0)\n",
    "\n",
    "    with torch.no_grad():\n",
    "        encoder_outputs, hidden, cell = model.encoder(src_tensor.to(device))\n",
    "\n",
    "    trg_indexes = [tar_vocab['sostoken']]\n",
    "\n",
    "    for i in range(max_len):\n",
    "        trg_tensor = torch.LongTensor([trg_indexes[-1]]).to(device)\n",
    "        with torch.no_grad():\n",
    "            output, hidden, cell = model.decoder(trg_tensor, hidden, cell, encoder_outputs)\n",
    "\n",
    "        pred_token = output.argmax(1).item()\n",
    "        trg_indexes.append(pred_token)\n",
    "\n",
    "        if pred_token == tar_vocab['eostoken']:\n",
    "            break\n",
    "\n",
    "    trg_tokens = [tar_index_to_word.get(i, \"<UNK>\") for i in trg_indexes]\n",
    "    return \" \".join(trg_tokens[1:-1])\n",
    "\n",
    "# 테스트 데이터로 결과 확인\n",
    "for i in range(10):\n",
    "    # i번째 테스트 데이터 텐서를 가져옴\n",
    "    src_tensor = encoder_input_test[i]\n",
    "    trg_tensor = decoder_target_test[i]\n",
    "\n",
    "    # 출력용 텍스트로 변환 ( .item()을 사용하여 텐서에서 숫자를 추출 )\n",
    "    src_text = \" \".join([src_index_to_word.get(idx.item(), \"<UNK>\") for idx in src_tensor if idx.item()\n",
    "!= src_vocab[\"<PAD>\"]])\n",
    "    trg_text = \" \".join([tar_index_to_word.get(idx.item(), \"<UNK>\") for idx in trg_tensor if idx.item()\n",
    "not in [tar_vocab[\"<PAD>\"], tar_vocab[\"sostoken\"], tar_vocab[\"eostoken\"]]])\n",
    "\n",
    "    # 모델로 요약 예측\n",
    "    predicted_summary = summarize(model, src_tensor)\n",
    "\n",
    "    print(f\"Source: {src_text}\")\n",
    "    print(f\"Target: {trg_text}\")\n",
    "    print(f\"Predicted: {predicted_summary}\\n\")"
   ]
  },
  {
   "cell_type": "markdown",
   "id": "54dce881",
   "metadata": {},
   "source": [
    "### pretrain모델로 한번 해보기"
   ]
  },
  {
   "cell_type": "code",
   "execution_count": 17,
   "id": "15c83994",
   "metadata": {},
   "outputs": [
    {
     "name": "stderr",
     "output_type": "stream",
     "text": [
      "/Users/bychoi/miniforge3/envs/my-pytorch/lib/python3.12/site-packages/tqdm/auto.py:21: TqdmWarning: IProgress not found. Please update jupyter and ipywidgets. See https://ipywidgets.readthedocs.io/en/stable/user_install.html\n",
      "  from .autonotebook import tqdm as notebook_tqdm\n",
      "Map: 100%|██████████| 73552/73552 [00:03<00:00, 21948.70 examples/s]\n"
     ]
    }
   ],
   "source": [
    "from datasets import Dataset\n",
    "from transformers import AutoTokenizer, AutoModelForSeq2SeqLM, DataCollatorForSeq2Seq, Seq2SeqTrainingArguments, Seq2SeqTrainer\n",
    "\n",
    "# 모델을 선택합니다. 't5-small'은 작고 빠르게 테스트해보기 좋은 모델입니다.\n",
    "MODEL_NAME = \"t5-small\"\n",
    "tokenizer = AutoTokenizer.from_pretrained(MODEL_NAME)\n",
    "model = AutoModelForSeq2SeqLM.from_pretrained(MODEL_NAME)\n",
    "\n",
    "# Hugging Face의 Dataset 형식으로 변환\n",
    "# (이전에 만들어둔 data DataFrame을 사용합니다)\n",
    "raw_dataset = Dataset.from_pandas(data)\n",
    "\n",
    "# T5 모델은 입력에 \"summarize: \" 라는 prefix를 붙여주는 것이 좋습니다.\n",
    "prefix = \"summarize: \"\n",
    "def preprocess_function(examples):\n",
    "    inputs = [prefix + doc for doc in examples[\"text\"]]\n",
    "    model_inputs = tokenizer(inputs, max_length=text_max_len, truncation=True)\n",
    "\n",
    "    # 요약(headlines)을 토큰화합니다.\n",
    "    labels = tokenizer(text_target=examples[\"headlines\"], max_length=headlines_max_len, truncation=True)\n",
    "    model_inputs[\"labels\"] = labels[\"input_ids\"]\n",
    "    return model_inputs\n",
    "\n",
    "tokenized_dataset = raw_dataset.map(preprocess_function, batched=True)"
   ]
  },
  {
   "cell_type": "code",
   "execution_count": null,
   "id": "25160170",
   "metadata": {},
   "outputs": [
    {
     "name": "stderr",
     "output_type": "stream",
     "text": [
      "/var/folders/14/wm3n_r1s01jfgw6n8j7pr4740000gn/T/ipykernel_71525/3708450204.py:26: FutureWarning: `tokenizer` is deprecated and will be removed in version 5.0.0 for `Seq2SeqTrainer.__init__`. Use `processing_class` instead.\n",
      "  trainer = Seq2SeqTrainer(\n"
     ]
    },
    {
     "data": {
      "text/html": [
       "\n",
       "    <div>\n",
       "      \n",
       "      <progress value='11034' max='11034' style='width:300px; height:20px; vertical-align: middle;'></progress>\n",
       "      [11034/11034 51:39, Epoch 3/3]\n",
       "    </div>\n",
       "    <table border=\"1\" class=\"dataframe\">\n",
       "  <thead>\n",
       " <tr style=\"text-align: left;\">\n",
       "      <th>Epoch</th>\n",
       "      <th>Training Loss</th>\n",
       "      <th>Validation Loss</th>\n",
       "    </tr>\n",
       "  </thead>\n",
       "  <tbody>\n",
       "    <tr>\n",
       "      <td>1</td>\n",
       "      <td>2.582600</td>\n",
       "      <td>2.079279</td>\n",
       "    </tr>\n",
       "    <tr>\n",
       "      <td>2</td>\n",
       "      <td>2.258800</td>\n",
       "      <td>1.984322</td>\n",
       "    </tr>\n",
       "    <tr>\n",
       "      <td>3</td>\n",
       "      <td>2.183200</td>\n",
       "      <td>1.945511</td>\n",
       "    </tr>\n",
       "  </tbody>\n",
       "</table><p>"
      ],
      "text/plain": [
       "<IPython.core.display.HTML object>"
      ]
     },
     "metadata": {},
     "output_type": "display_data"
    },
    {
     "data": {
      "text/plain": [
       "TrainOutput(global_step=11034, training_loss=2.341527244978589, metrics={'train_runtime': 3100.3968, 'train_samples_per_second': 56.936, 'train_steps_per_second': 3.559, 'total_flos': 1866479751659520.0, 'train_loss': 2.341527244978589, 'epoch': 3.0})"
      ]
     },
     "execution_count": 18,
     "metadata": {},
     "output_type": "execute_result"
    }
   ],
   "source": [
    "training_args = Seq2SeqTrainingArguments(\n",
    "    output_dir=\"./results\",\n",
    "    eval_strategy=\"epoch\",\n",
    "    logging_strategy=\"epoch\",\n",
    "    save_strategy=\"epoch\",\n",
    "    learning_rate=2e-5,\n",
    "    per_device_train_batch_size=16,\n",
    "    per_device_eval_batch_size=16,\n",
    "    weight_decay=0.01,\n",
    "    save_total_limit=3,\n",
    "    num_train_epochs=3,\n",
    "    predict_with_generate=True,\n",
    ")\n",
    "\n",
    "# 데이터를 훈련/테스트용으로 다시 분리\n",
    "train_test_split = tokenized_dataset.train_test_split(test_size=0.2)\n",
    "train_dataset = train_test_split['train']\n",
    "eval_dataset = train_test_split['test']\n",
    "\n",
    "# 데이터 모델 묶기\n",
    "data_collator = DataCollatorForSeq2Seq(tokenizer=tokenizer, model=model)\n",
    "\n",
    "trainer = Seq2SeqTrainer(\n",
    "    model=model,\n",
    "    args=training_args,\n",
    "    train_dataset=train_dataset,\n",
    "    eval_dataset=eval_dataset,\n",
    "    tokenizer=tokenizer,\n",
    "    data_collator=data_collator,\n",
    ")\n",
    "\n",
    "# 학습 시작!\n",
    "trainer.train()"
   ]
  },
  {
   "cell_type": "code",
   "execution_count": 19,
   "id": "475050fa",
   "metadata": {},
   "outputs": [
    {
     "name": "stdout",
     "output_type": "stream",
     "text": [
      "Source: japan based researchers discovered new species hermit crab shelters solitary corals drags around seafloor researchers describe crabs move shell shell find good fit corals hermit crabs live grow creating stable symbiotic relationship\n",
      "Target: new found crab species carries its own coral home\n",
      "Predicted: new species of hermit crab shelters coral\n",
      "\n",
      "Source: filmmaker vikram bhatt known bold films often horror genre said selling sex bollywood dead said horrex genre movies elements horror sex exist anymore sex horrex data providers killed sex market porn accessible added bhatt\n",
      "Target: selling sex in bollywood is dead filmmaker vikram bhatt\n",
      "Predicted: vikram bhatt known for\n",
      "\n",
      "Source: india first food truck park launched july mumbai shut thursday brihanmumbai municipal corporation official said west ward given permission company run park meanwhile bombay food truck company founder royston misquietta said issue sorted soon adding reopen soon\n",
      "Target: india st food truck park shut down within week\n",
      "Predicted: india first food truck park shuts down in mum\n",
      "\n",
      "Source: union minister bjp leader vijay goel sunday rode bullock cart delhi chandni chowk protest rising prices fuel demanded aap government reduce fuel prices capital appalling aap joined states gross injustice delhiites tweeted\n",
      "Target: minister rides bullock cart in chandni chowk over fuel price\n",
      "Predicted: bjp leader rodes bullock\n",
      "\n",
      "Source: us appeals court renewed case alleging china alibaba group holdings defrauded shareholders initial public offering ipo lawsuit claims firm concealed regulatory warning counterfeiters received chinese government ipo earlier us appeals court ruled favour alibaba dismiss claims\n",
      "Target: alibaba faces renewed lawsuit over ipo\n",
      "Predicted: china alibaba defrauded shareholders\n",
      "\n"
     ]
    }
   ],
   "source": [
    "# 테스트 데이터 샘플로 결과 확인\n",
    "for i in range(5):\n",
    "    original_text = eval_dataset[i]['text']\n",
    "    real_summary = eval_dataset[i]['headlines']\n",
    "\n",
    "    # 모델 입력 생성\n",
    "    inputs = tokenizer(prefix + original_text, return_tensors=\"pt\").to(device)\n",
    "\n",
    "    # 요약 생성\n",
    "    summary_ids = model.generate(inputs[\"input_ids\"])\n",
    "    predicted_summary = tokenizer.batch_decode(summary_ids, skip_special_tokens=True)[0]\n",
    "\n",
    "    # 결과 출력\n",
    "    print(f\"Source: {original_text}\")\n",
    "    print(f\"Target: {real_summary}\")\n",
    "    print(f\"Predicted: {predicted_summary}\\n\")"
   ]
  },
  {
   "cell_type": "code",
   "execution_count": 27,
   "id": "a7f6e10d",
   "metadata": {},
   "outputs": [
    {
     "name": "stdout",
     "output_type": "stream",
     "text": [
      "Source: Saurav Kant, an alumnus of upGrad and IIIT-B's PG Program in Machine learning and Artificial Intelligence, was a Sr Systems Engineer at Infosys with almost 5 years of work experience. The program and upGrad's 360-degree career support helped him transition to a Data Scientist at Tech Mahindra with 90% salary hike. upGrad's Online Power Learning has powered 3 lakh+ careers.\n",
      "Target: upGrad learner switches to career in ML & Al with 90% salary hike\n",
      "Predicted: upGrad's Online Power Learning has powered 3 lakh+ careers.\n",
      "\n",
      "Source: Kunal Shah's credit card bill payment platform, CRED, gave users a chance to win free food from Swiggy for one year. Pranav Kaushik, a Delhi techie, bagged this reward after spending 2000 CRED coins. Users get one CRED coin per rupee of bill paid, which can be used to avail rewards from brands like Ixigo, BookMyShow, UberEats, Cult.Fit and more.\n",
      "Target: Delhi techie wins free food from Swiggy for one year on CRED\n",
      "Predicted: Users get one CRED coin per rupee of bill paid, which can be used to avail rewards from brands like Ixigo, BookMyShow, UberEats, Cult.Fit and more.\n",
      "\n",
      "Source: New Zealand defeated India by 8 wickets in the fourth ODI at Hamilton on Thursday to win their first match of the five-match ODI series. India lost an international match under Rohit Sharma's captaincy after 12 consecutive victories dating back to March 2018. The match witnessed India getting all out for 92, their seventh lowest total in ODI cricket history.\n",
      "Target: New Zealand end Rohit Sharma-led India's 12-match winning streak\n",
      "Predicted: The match witnessed India getting all out for 92, their seventh lowest total in ODI cricket history.\n",
      "\n",
      "Source: With Aegon Life iTerm Insurance plan, customers can enjoy tax benefits on your premiums paid and save up to Ã¢ÂÂ¹46,800^ on taxes. The plan provides life cover up to the age of 100 years. Also, customers have options to insure against Critical Illnesses, Disability and Accidental Death Benefit Rider with a life cover up to the age of 80 years.\n",
      "Target: Aegon life iTerm insurance plan helps customers save tax\n",
      "Predicted: Also, customers have options to insure against Critical Illnesses, Disability and Accidental Death Benefit Rider with a life cover up to the age of 80 years.\n",
      "\n",
      "Source: Speaking about the sexual harassment allegations against Rajkumar Hirani, Sonam Kapoor said, \"I've known Hirani for many years...What if it's not true, the [#MeToo] movement will get derailed.\" \"In the #MeToo movement, I always believe a woman. But in this case, we need to reserve our judgment,\" she added. Hirani has been accused by an assistant who worked in 'Sanju'.\n",
      "Target: Have known Hirani for yrs, what if MeToo claims are not true: Sonam\n",
      "Predicted: Speaking about the sexual harassment allegations against Rajkumar Hirani, Sonam Kapoor said, \"I've known Hirani for many years...What if it's not true, the [#MeToo] movement will get derailed.\" \"In the #MeToo movement, I always believe a woman.\n",
      "\n"
     ]
    }
   ],
   "source": [
    "# summa 라이브러리를 사용한 요약\n",
    "from summa.summarizer import summarize\n",
    "\n",
    "# 기존에 데이터로 하니까 요약이 안되서 데이터셋 다시 불러옴.\n",
    "original_data = pd.read_csv('data/news_summary_more.csv', encoding='iso-8859-1')\n",
    "original_data.dropna(inplace=True) # 결측치만 제거\n",
    "\n",
    "for i in range(5):\n",
    "    original_text = original_data['text'].iloc[i]\n",
    "    real_summary = original_data['headlines'].iloc[i]\n",
    "\n",
    "    predicted_summary = summarize(original_text, ratio=0.5)  # 요약 비율을 10%로 설정\n",
    "    \n",
    "    # 결과 출력\n",
    "    print(f\"Source: {original_text}\")\n",
    "    print(f\"Target: {real_summary}\")\n",
    "    print(f\"Predicted: {predicted_summary}\\n\")"
   ]
  },
  {
   "cell_type": "markdown",
   "id": "3fa42cf2",
   "metadata": {},
   "source": [
    "#### 오늘의 회고\n",
    "- 데이터 전처리는 확실히 시간이 좀 걸리긴하는 일이지만 잘해야되는 것 같다. 대충하고 양도 안보고 했더니 한 에폭당 시간이 너무 오래걸리고, 결과도 좋지 않아서 시간만 버렸다.\n",
    "- 결과를 더 올려보고 싶었는데 시간이 좀 부족했던 것 같다. 한번 학습해보는데 1시간 걸려서, 원래 그런 것인가..\n",
    "- 그렇게 해도 그렇게 썩 결과가 좋진 않아서 gpt의 도움을 받아 프리트레인 모델들은 성능이 어느정도일지 한번 실험해봤다. 확실히 다르긴 다르다.\n",
    "- summa를 쓴 추출적 요약은 문장구분을 잘 못하는지 전처리된 데이터로는 summary를 전혀 하지 못했고, 원본 데이터로 가져와도 여전히 못하는 데이터가 있었다.\n",
    "- ratio나 words를 조정하면 되긴하는데 확실히 그래도 내가 한것보단 당장은 더 나아보이긴 하지만 ratio를 늘린건 거의 그냥 복붙같은 느낌이라 얘도 실효성은 없어보인다."
   ]
  }
 ],
 "metadata": {
  "kernelspec": {
   "display_name": "my-pytorch",
   "language": "python",
   "name": "python3"
  },
  "language_info": {
   "codemirror_mode": {
    "name": "ipython",
    "version": 3
   },
   "file_extension": ".py",
   "mimetype": "text/x-python",
   "name": "python",
   "nbconvert_exporter": "python",
   "pygments_lexer": "ipython3",
   "version": "3.12.11"
  }
 },
 "nbformat": 4,
 "nbformat_minor": 5
}
