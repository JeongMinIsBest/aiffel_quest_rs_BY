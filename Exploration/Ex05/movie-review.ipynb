{
 "cells": [
  {
   "cell_type": "markdown",
   "metadata": {},
   "source": [
    "### 1. 데이터 준비 및 확인\n",
    "IMDB 영화 리뷰 데이터셋을 로드하고, 훈련 데이터와 테스트 데이터의 개수를 확인합니다."
   ]
  },
  {
   "cell_type": "code",
   "execution_count": 1,
   "id": "18a0f4ba",
   "metadata": {},
   "outputs": [
    {
     "name": "stdout",
     "output_type": "stream",
     "text": [
      "훈련 샘플 개수: 25000, 테스트 개수: 25000\n"
     ]
    }
   ],
   "source": [
    "import numpy as np\n",
    "import torch\n",
    "\n",
    "data_dir = 'data/'\n",
    "\n",
    "# lms에 데이터 안보여서 다운받은 파일로 대체 \n",
    "imdb_data = np.load(data_dir + 'imdb.npz', allow_pickle=True)\n",
    "x_train, y_train = imdb_data['x_train'], imdb_data['y_train']\n",
    "x_test, y_test = imdb_data['x_test'], imdb_data['y_test']\n",
    "print(f\"훈련 샘플 개수: {len(x_train)}, 테스트 개수: {len(x_test)}\")"
   ]
  },
  {
   "cell_type": "markdown",
   "metadata": {},
   "source": [
    "### 2. 데이터 변환 함수 정의\n",
    "숫자로 인코딩된 문장을 다시 텍스트로, 또는 텍스트를 인코딩된 문장으로 변환하는 헬퍼 함수를 정의합니다."
   ]
  },
  {
   "cell_type": "code",
   "execution_count": 2,
   "id": "d38869e2",
   "metadata": {},
   "outputs": [],
   "source": [
    "def get_encoded_sentence(sentence, word_to_index):\n",
    "    return [word_to_index['<BOS>']]+[word_to_index[word] if word in word_to_index else word_to_index['<UNK>'] for word in sentence.split()]\n",
    "\n",
    "def get_decoded_sentence(encoded_sentence, index_to_word):\n",
    "    return ' '.join(index_to_word[index] if index in index_to_word else '<UNK>' for index in encoded_sentence[1:])  #[1:]를 통해 <BOS>를 제외\n"
   ]
  },
  {
   "cell_type": "markdown",
   "metadata": {},
   "source": [
    "### 3. 데이터 샘플 확인\n",
    "첫 번째 훈련용 리뷰 데이터(숫자 인덱스), 라벨, 그리고 각 리뷰의 길이를 확인하여 데이터의 형태를 파악합니다."
   ]
  },
  {
   "cell_type": "code",
   "execution_count": 3,
   "id": "91c05273",
   "metadata": {},
   "outputs": [
    {
     "name": "stdout",
     "output_type": "stream",
     "text": [
      "[23022, 309, 6, 3, 1069, 209, 9, 2175, 30, 1, 169, 55, 14, 46, 82, 5869, 41, 393, 110, 138, 14, 5359, 58, 4477, 150, 8, 1, 5032, 5948, 482, 69, 5, 261, 12, 23022, 73935, 2003, 6, 73, 2436, 5, 632, 71, 6, 5359, 1, 25279, 5, 2004, 10471, 1, 5941, 1534, 34, 67, 64, 205, 140, 65, 1232, 63526, 21145, 1, 49265, 4, 1, 223, 901, 29, 3024, 69, 4, 1, 5863, 10, 694, 2, 65, 1534, 51, 10, 216, 1, 387, 8, 60, 3, 1472, 3724, 802, 5, 3521, 177, 1, 393, 10, 1238, 14030, 30, 309, 3, 353, 344, 2989, 143, 130, 5, 7804, 28, 4, 126, 5359, 1472, 2375, 5, 23022, 309, 10, 532, 12, 108, 1470, 4, 58, 556, 101, 12, 23022, 309, 6, 227, 4187, 48, 3, 2237, 12, 9, 215]\n",
      "라벨:  1\n",
      "1번째 리뷰 문장 길이:  138\n",
      "2번째 리뷰 문장 길이:  433\n"
     ]
    }
   ],
   "source": [
    "print(x_train[0])  # 1번째 리뷰데이터\n",
    "print('라벨: ', y_train[0])  # 1번째 리뷰데이터의 라벨\n",
    "print('1번째 리뷰 문장 길이: ', len(x_train[0]))\n",
    "print('2번째 리뷰 문장 길이: ', len(x_train[1]))"
   ]
  },
  {
   "cell_type": "markdown",
   "metadata": {},
   "source": [
    "### 4. 단어 사전(Vocabulary) 로드\n",
    "단어와 인덱스 정보를 담고 있는 `imdb_word_index.json` 파일을 로드하여, 단어를 인덱스로 또는 인덱스를 단어로 변환할 수 있는 딕셔너리를 생성합니다."
   ]
  },
  {
   "cell_type": "code",
   "execution_count": 4,
   "id": "9958da90",
   "metadata": {},
   "outputs": [
    {
     "name": "stdout",
     "output_type": "stream",
     "text": [
      "the\n",
      "1\n"
     ]
    }
   ],
   "source": [
    "# 데이터셋 없어서 다운받은 imdb_word_index.json 파일을 읽어옴\n",
    "word_to_index = open(data_dir + 'imdb_word_index.json', 'r', encoding='utf-8').read()\n",
    "word_to_index = eval(word_to_index)  # JSON 문자열을 딕셔너리로 변환\n",
    "\n",
    "index_to_word = {index:word for word, index in word_to_index.items()}\n",
    "print(index_to_word[1])     # 'the' 가 출력됩니다.\n",
    "print(word_to_index['the'])  # 1 이 출력됩니다."
   ]
  },
  {
   "cell_type": "markdown",
   "metadata": {},
   "source": [
    "### 5. 인덱스 보정 및 특수 토큰 추가\n",
    "IMDB 데이터셋의 인덱스는 실제 단어 인덱스에서 3만큼 밀려 있으므로 이를 보정합니다. 또한, 문장의 시작, 끝, 사전에 없는 단어 등을 표시하기 위한 특수 토큰(`<PAD>`, `<BOS>`, `<UNK>`, `<UNUSED>`)을 단어 사전에 추가합니다."
   ]
  },
  {
   "cell_type": "code",
   "execution_count": 5,
   "id": "4cb3e22e",
   "metadata": {},
   "outputs": [
    {
     "name": "stdout",
     "output_type": "stream",
     "text": [
      "<BOS>\n",
      "4\n",
      "the\n",
      "himself a <UNUSED> considering without is luke be <BOS> find very this out also newman her face seen why this moreover time dub now to <BOS> unpredictable sorely guess had and although it unapologetic classed'' behavior a well source and hero were a moreover <BOS> periodic and captured capshaw <BOS> 1950 proves by see only own go story likes clubfoot columbus <BOS> excerpted the <BOS> family write he mob had the <BOS> lasting br knows <UNK> story proves what br come <BOS> let to even <UNUSED> trailer progress editing and pleased cast <BOS> face br surprisingly speakeasy be himself <UNUSED> try home topic through end and boo have the ever moreover trailer relatively and unapologetic himself br self it films include the time killed any it unapologetic himself a bit goodness if <UNUSED> assume it is must\n"
     ]
    }
   ],
   "source": [
    "#실제 인코딩 인덱스는 제공된 word_to_index에서 index 기준으로 3씩 뒤로 밀려 있습니다.\n",
    "word_to_index = {k:(v+3) for k,v in word_to_index.items()}\n",
    "\n",
    "# 처음 몇 개 인덱스는 사전에 정의되어 있습니다.\n",
    "word_to_index[\"<PAD>\"] = 0\n",
    "word_to_index[\"<BOS>\"] = 1\n",
    "word_to_index[\"<UNK>\"] = 2  # unknown\n",
    "word_to_index[\"<UNUSED>\"] = 3\n",
    "\n",
    "index_to_word = {index:word for word, index in word_to_index.items()}\n",
    "\n",
    "print(index_to_word[1])     # '<BOS>' 가 출력됩니다.\n",
    "print(word_to_index['the'])  # 4 이 출력됩니다.\n",
    "print(index_to_word[4])     # 'the' 가 출력됩니다.\n",
    "\n",
    "# 보정 후 x_train[0] 데이터\n",
    "print(get_decoded_sentence(x_train[0], index_to_word))"
   ]
  },
  {
   "cell_type": "markdown",
   "metadata": {},
   "source": [
    "### 6. 데이터 길이 통계 분석 및 패딩 길이 결정\n",
    "전체 리뷰 데이터의 길이 분포(평균, 최대, 표준편차)를 분석하여, 모델에 입력할 문장의 최대 길이(`maxlen`)를 결정합니다. 너무 긴 문장은 잘라내고, 짧은 문장은 채워넣기(패딩) 위함입니다."
   ]
  },
  {
   "cell_type": "code",
   "execution_count": 6,
   "id": "61874729",
   "metadata": {},
   "outputs": [
    {
     "name": "stdout",
     "output_type": "stream",
     "text": [
      "문장길이 평균 :  233.75892\n",
      "문장길이 최대 :  2493\n",
      "문장길이 표준편차 :  172.91149458735703\n",
      "pad_sequences maxlen :  579\n",
      "전체 문장의 0.94536%가 maxlen 설정값 이내에 포함됩니다. \n"
     ]
    }
   ],
   "source": [
    "total_data_text = list(x_train) + list(x_test)\n",
    "# 텍스트데이터 문장길이의 리스트를 생성한 후\n",
    "num_tokens = [len(tokens) for tokens in total_data_text]\n",
    "num_tokens = np.array(num_tokens)\n",
    "# 문장길이의 평균값, 최대값, 표준편차를 계산해 본다.\n",
    "print('문장길이 평균 : ', np.mean(num_tokens))\n",
    "print('문장길이 최대 : ', np.max(num_tokens))\n",
    "print('문장길이 표준편차 : ', np.std(num_tokens))\n",
    "\n",
    "# 예를들어, 최대 길이를 (평균 + 2*표준편차)로 한다면,\n",
    "max_tokens = np.mean(num_tokens) + 2 * np.std(num_tokens)\n",
    "maxlen = int(max_tokens)\n",
    "print('pad_sequences maxlen : ', maxlen)\n",
    "print(f'전체 문장의 {np.sum(num_tokens < max_tokens) / len(num_tokens)}%가 maxlen 설정값 이내에 포함됩니다. ')"
   ]
  },
  {
   "cell_type": "markdown",
   "metadata": {},
   "source": [
    "### 7. 데이터 패딩 및 텐서 변환\n",
    "결정된 `maxlen`에 맞춰 모든 문장의 길이를 통일하는 패딩(padding) 작업을 수행하고, 데이터를 PyTorch 모델이 사용할 수 있는 텐서(Tensor) 형태로 변환합니다."
   ]
  },
  {
   "cell_type": "code",
   "execution_count": 7,
   "id": "f231f54e",
   "metadata": {},
   "outputs": [
    {
     "name": "stdout",
     "output_type": "stream",
     "text": [
      "torch.Size([25000, 579])\n"
     ]
    }
   ],
   "source": [
    "def pad_sequences(data, maxlen):\n",
    "    padded_data = []\n",
    "    for sentence in data:\n",
    "        if len(sentence) < maxlen:\n",
    "            sentence = sentence + [0] * (maxlen - len(sentence))\n",
    "        else:\n",
    "            sentence = sentence[:maxlen]\n",
    "        padded_data.append(sentence)\n",
    "    return np.array(padded_data)\n",
    "\n",
    "x_train_padded = pad_sequences(x_train, maxlen)\n",
    "x_test_padded = pad_sequences(x_test, maxlen)\n",
    "\n",
    "x_train_tensor = torch.tensor(x_train_padded, dtype=torch.long)\n",
    "x_test_tensor = torch.tensor(x_test_padded, dtype=torch.long)\n",
    "\n",
    "print(x_train_tensor.shape)"
   ]
  },
  {
   "cell_type": "markdown",
   "metadata": {},
   "source": [
    "### 8. LSTM 기반 감성 분석 모델 설계\n",
    "PyTorch를 사용하여 LSTM(Long Short-Term Memory) 기반의 딥러닝 모델을 설계합니다. 이 모델은 임베딩 레이어, LSTM 레이어, 그리고 두 개의 완전 연결(FC) 레이어로 구성됩니다."
   ]
  },
  {
   "cell_type": "code",
   "execution_count": 8,
   "id": "9fe2684b",
   "metadata": {},
   "outputs": [
    {
     "name": "stdout",
     "output_type": "stream",
     "text": [
      "SentimentModel(\n",
      "  (embedding): Embedding(10000, 16)\n",
      "  (lstm): LSTM(16, 8, batch_first=True)\n",
      "  (fc1): Linear(in_features=8, out_features=8, bias=True)\n",
      "  (fc2): Linear(in_features=8, out_features=1, bias=True)\n",
      ")\n"
     ]
    }
   ],
   "source": [
    "import torch.nn as nn\n",
    "import torch.nn.functional as F\n",
    "\n",
    "vocab_size = 10000    # 어휘 사전의 크기입니다(10,000개의 단어)\n",
    "word_vector_dim = 16  # 워드 벡터의 차원 수 (변경 가능한 하이퍼파라미터)\n",
    "\n",
    "# model 설계 - 딥러닝 모델 코드를 직접 작성해 주세요.\n",
    "class SentimentModel(nn.Module):\n",
    "    def __init__(self, vocab_size, word_vector_dim):\n",
    "        super(SentimentModel, self).__init__()\n",
    "        self.embedding = nn.Embedding(vocab_size, word_vector_dim)\n",
    "        self.lstm = nn.LSTM(word_vector_dim, 8, batch_first=True)\n",
    "        self.fc1 = nn.Linear(8, 8)\n",
    "        self.fc2 = nn.Linear(8, 1)\n",
    "\n",
    "    def forward(self, x):\n",
    "        x = self.embedding(x)\n",
    "        x, (hn, cn) = self.lstm(x)\n",
    "        x = x[:, -1, :]\n",
    "        x = F.relu(self.fc1(x))\n",
    "        x = torch.sigmoid(self.fc2(x))\n",
    "        return x\n",
    "\n",
    "model = SentimentModel(vocab_size, word_vector_dim)\n",
    "print(model)"
   ]
  },
  {
   "cell_type": "markdown",
   "id": "2e586ff3",
   "metadata": {},
   "source": [
    "### 9. 훈련/검증 데이터셋 분리\n",
    "훈련 데이터 중 10,000건을 검증(validation) 데이터로 분리하여 모델 학습 중 성능을 평가하는 데 사용합니다."
   ]
  },
  {
   "cell_type": "code",
   "execution_count": 9,
   "id": "625432c0",
   "metadata": {},
   "outputs": [
    {
     "name": "stdout",
     "output_type": "stream",
     "text": [
      "torch.Size([15000, 579])\n",
      "(15000,)\n"
     ]
    }
   ],
   "source": [
    "# validation set 10000건 분리\n",
    "x_val = x_train_tensor[:10000]\n",
    "y_val = y_train[:10000]\n",
    "\n",
    "# validation set을 제외한 나머지 15000건\n",
    "partial_x_train = x_train_tensor[10000:]\n",
    "partial_y_train = y_train[10000:]\n",
    "\n",
    "print(partial_x_train.shape)\n",
    "print(partial_y_train.shape)"
   ]
  },
  {
   "cell_type": "markdown",
   "id": "1826f6d3",
   "metadata": {},
   "source": [
    "### 10. 모델 훈련 및 검증 (MPS 가속 적용)\n",
    "모델의 옵티마이저와 손실 함수를 정의하고, 훈련 루프를 실행합니다. Apple Silicon GPU(MPS)를 사용하여 훈련을 가속합니다. 각 에폭마다 훈련 및 검증 손실과 정확도를 출력하여 학습 과정을 모니터링합니다."
   ]
  },
  {
   "cell_type": "code",
   "execution_count": 10,
   "id": "a2dec539",
   "metadata": {},
   "outputs": [
    {
     "name": "stdout",
     "output_type": "stream",
     "text": [
      "Using device: mps\n",
      "Epoch 1/5 - Train Loss: 0.6082, Train Accuracy: 0.8333 - Validation Loss: 0.8702, Validation Accuracy: 0.0000\n",
      "Epoch 2/5 - Train Loss: 0.5860, Train Accuracy: 0.8333 - Validation Loss: 0.9298, Validation Accuracy: 0.0000\n",
      "Epoch 3/5 - Train Loss: 0.5570, Train Accuracy: 0.8333 - Validation Loss: 1.0326, Validation Accuracy: 0.0000\n",
      "Epoch 4/5 - Train Loss: 0.5203, Train Accuracy: 0.8333 - Validation Loss: 1.1757, Validation Accuracy: 0.0000\n",
      "Epoch 5/5 - Train Loss: 0.4899, Train Accuracy: 0.8333 - Validation Loss: 1.3425, Validation Accuracy: 0.0000\n"
     ]
    }
   ],
   "source": [
    "import torch.optim as optim\n",
    "from torch.utils.data import DataLoader, TensorDataset\n",
    "\n",
    "# MPS 장치 설정\n",
    "if torch.backends.mps.is_available():\n",
    "    device = torch.device(\"mps\")\n",
    "else:\n",
    "    device = torch.device(\"cpu\")\n",
    "print(f\"Using device: {device}\")\n",
    "\n",
    "model.to(device)\n",
    "\n",
    "optimizer = optim.Adam(model.parameters())\n",
    "loss_fn = torch.nn.BCELoss()\n",
    "\n",
    "# Replace out-of-vocab indices with <UNK> (2)\n",
    "def replace_oov_indices(arr, vocab_size, unk_idx=2):\n",
    "    arr = np.where(arr >= vocab_size, unk_idx, arr)\n",
    "    return arr\n",
    "\n",
    "partial_x_train_oov = replace_oov_indices(partial_x_train.numpy(), vocab_size)\n",
    "x_val_oov = replace_oov_indices(x_val.numpy(), vocab_size)\n",
    "\n",
    "partial_x_train_tensor = torch.tensor(partial_x_train_oov, dtype=torch.long)\n",
    "partial_y_train_tensor = torch.tensor(partial_y_train, dtype=torch.float)\n",
    "\n",
    "x_val_tensor = torch.tensor(x_val_oov, dtype=torch.long)\n",
    "y_val_tensor = torch.tensor(y_val, dtype=torch.float)\n",
    "\n",
    "train_dataset = TensorDataset(partial_x_train_tensor, partial_y_train_tensor)\n",
    "val_dataset = TensorDataset(x_val_tensor, y_val_tensor)\n",
    "\n",
    "train_loader = DataLoader(train_dataset, batch_size=512, shuffle=True)\n",
    "val_loader = DataLoader(val_dataset, batch_size=512, shuffle=False)\n",
    "\n",
    "epochs = 10   # 몇 epoch를 훈련하면 좋을지 결과를 보면서 바꾸어 봅시다.\n",
    "train_losses = []\n",
    "val_losses = []\n",
    "train_accs = []\n",
    "val_accs = []\n",
    "\n",
    "for epoch in range(epochs):\n",
    "    model.train()\n",
    "    running_loss = 0.0\n",
    "    correct = 0\n",
    "    total = 0\n",
    "\n",
    "    for inputs, labels in train_loader:\n",
    "        inputs, labels = inputs.to(device), labels.to(device)\n",
    "\n",
    "        optimizer.zero_grad()\n",
    "\n",
    "        outputs = model(inputs)\n",
    "        loss = loss_fn(outputs.squeeze(), labels)\n",
    "        loss.backward()\n",
    "        optimizer.step()\n",
    "\n",
    "        running_loss += loss.item()\n",
    "\n",
    "        predicted = (outputs.squeeze() > 0.5).float()\n",
    "        correct += (predicted == labels).sum().item()\n",
    "        total += labels.size(0)\n",
    "\n",
    "    train_losses.append(running_loss / len(train_loader))\n",
    "    train_accs.append(correct / total)\n",
    "\n",
    "    model.eval()\n",
    "    val_loss = 0.0\n",
    "    val_correct = 0\n",
    "    val_total = 0\n",
    "\n",
    "    with torch.no_grad():\n",
    "        for inputs, labels in val_loader:\n",
    "            inputs, labels = inputs.to(device), labels.to(device)\n",
    "\n",
    "            outputs = model(inputs)\n",
    "            loss = loss_fn(outputs.squeeze(), labels)\n",
    "\n",
    "            val_loss += loss.item()\n",
    "            predicted = (outputs.squeeze() > 0.5).float()\n",
    "            val_correct += (predicted == labels).sum().item()\n",
    "            val_total += labels.size(0)\n",
    "\n",
    "    val_losses.append(val_loss / len(val_loader))\n",
    "    val_accs.append(val_correct / val_total)\n",
    "\n",
    "    print(f\"Epoch {epoch+1}/{epochs} - \"\n",
    "          f\"Train Loss: {train_losses[-1]:.4f}, Train Accuracy: {train_accs[-1]:.4f} - \"\n",
    "          f\"Validation Loss: {val_losses[-1]:.4f}, Validation Accuracy: {val_accs[-1]:.4f}\")"
   ]
  },
  {
   "cell_type": "markdown",
   "id": "ee703829",
   "metadata": {},
   "source": [
    "### 11. 테스트셋으로 모델 최종 평가\n",
    "학습이 완료된 모델을 사용하여, 한 번도 보지 않은 테스트 데이터셋으로 최종 성능(손실 및 정확도)을 평가합니다."
   ]
  },
  {
   "cell_type": "code",
   "execution_count": 11,
   "id": "c785a28e",
   "metadata": {},
   "outputs": [
    {
     "name": "stdout",
     "output_type": "stream",
     "text": [
      "Test Loss: 0.8217, Test Accuracy: 0.5000\n"
     ]
    }
   ],
   "source": [
    "test_dataset = TensorDataset(x_test_tensor, torch.tensor(y_test, dtype=torch.float32))\n",
    "test_loader = DataLoader(test_dataset, batch_size=512, shuffle=False)\n",
    "\n",
    "model.eval()\n",
    "test_loss = 0.0\n",
    "test_correct = 0\n",
    "test_total = 0\n",
    "\n",
    "with torch.no_grad():\n",
    "    for inputs, labels in test_loader:\n",
    "        inputs, labels = inputs.to(device), labels.to(device)\n",
    "\n",
    "        # Replace out-of-vocab indices with <UNK> (2) before passing to model\n",
    "        inputs = torch.where(inputs >= vocab_size, torch.tensor(2, dtype=inputs.dtype, device=device), inputs)\n",
    "        outputs = model(inputs)\n",
    "        loss = loss_fn(outputs.squeeze(), labels)\n",
    "\n",
    "        test_loss += loss.item()\n",
    "        predicted = (outputs.squeeze() > 0.5).float()\n",
    "        test_correct += (predicted == labels).sum().item()\n",
    "        test_total += labels.size(0)\n",
    "\n",
    "print(f\"Test Loss: {test_loss / len(test_loader):.4f}, Test Accuracy: {test_correct / test_total:.4f}\")"
   ]
  },
  {
   "cell_type": "markdown",
   "id": "1a60c2cf",
   "metadata": {},
   "source": [
    "### 12. 훈련 과정 시각화 (손실)\n",
    "Matplotlib을 사용하여 에폭별 훈련 손실(Training Loss)과 검증 손실(Validation Loss)의 변화를 그래프로 시각화합니다. 이를 통해 모델의 과적합 여부를 확인할 수 있습니다."
   ]
  },
  {
   "cell_type": "code",
   "execution_count": 12,
   "id": "580e8e03",
   "metadata": {},
   "outputs": [
    {
     "data": {
      "image/png": "[encoded data removed]",
      "text/plain": [
       "<Figure size 640x480 with 1 Axes>"
      ]
     },
     "metadata": {},
     "output_type": "display_data"
    }
   ],
   "source": [
    "import matplotlib.pyplot as plt\n",
    "\n",
    "epochs_range = range(1, epochs + 1)\n",
    "\n",
    "# \"bo\"는 \"파란색 점\"입니다\n",
    "plt.plot(epochs_range, train_losses, 'bo', label='Training loss')\n",
    "# b는 \"파란 실선\"입니다\n",
    "plt.plot(epochs_range, val_losses, 'b', label='Validation loss')\n",
    "plt.title('Training and Validation Loss')\n",
    "plt.xlabel('Epochs')\n",
    "plt.ylabel('Loss')\n",
    "plt.legend()\n",
    "plt.show()"
   ]
  },
  {
   "cell_type": "markdown",
   "id": "687e3da6",
   "metadata": {},
   "source": [
    "### 13. 훈련 과정 시각화 (정확도)\n",
    "에폭별 훈련 정확도(Training Accuracy)와 검증 정확도(Validation Accuracy)의 변화를 그래프로 시각화하여, 모델이 얼마나 잘 학습되고 있는지 확인합니다."
   ]
  },
  {
   "cell_type": "code",
   "execution_count": 13,
   "id": "5140bde9",
   "metadata": {},
   "outputs": [
    {
     "data": {
      "image/png": "[encoded data removed]",
      "text/plain": [
       "<Figure size 640x480 with 1 Axes>"
      ]
     },
     "metadata": {},
     "output_type": "display_data"
    }
   ],
   "source": [
    "plt.clf()   # 그림을 초기화합니다\n",
    "\n",
    "plt.plot(epochs_range, train_accs, 'bo', label='Training accuracy')\n",
    "plt.plot(epochs_range, val_accs, 'b', label='Validation accuracy')\n",
    "plt.title('Training and Validation Accuracy')\n",
    "plt.xlabel('Epochs')\n",
    "plt.ylabel('Accuracy')\n",
    "plt.legend()\n",
    "plt.show()"
   ]
  },
  {
   "cell_type": "markdown",
   "id": "51c67f48",
   "metadata": {},
   "source": [
    "### 14. 사전 훈련된 Word2Vec 임베딩 활용\n",
    "모델의 성능을 높이기 위해, Google News 데이터셋으로 미리 훈련된 Word2Vec 모델을 로드합니다. 이 모델은 단어를 의미적으로 유사한 벡터로 변환하는 능력을 가지고 있습니다."
   ]
  },
  {
   "cell_type": "code",
   "execution_count": 14,
   "id": "876d5963",
   "metadata": {},
   "outputs": [
    {
     "data": {
      "text/plain": [
       "array([ 1.07421875e-01, -2.01171875e-01,  1.23046875e-01,  2.11914062e-01,\n",
       "       -9.13085938e-02,  2.16796875e-01, -1.31835938e-01,  8.30078125e-02,\n",
       "        2.02148438e-01,  4.78515625e-02,  3.66210938e-02, -2.45361328e-02,\n",
       "        2.39257812e-02, -1.60156250e-01, -2.61230469e-02,  9.71679688e-02,\n",
       "       -6.34765625e-02,  1.84570312e-01,  1.70898438e-01, -1.63085938e-01,\n",
       "       -1.09375000e-01,  1.49414062e-01, -4.65393066e-04,  9.61914062e-02,\n",
       "        1.68945312e-01,  2.60925293e-03,  8.93554688e-02,  6.49414062e-02,\n",
       "        3.56445312e-02, -6.93359375e-02, -1.46484375e-01, -1.21093750e-01,\n",
       "       -2.27539062e-01,  2.45361328e-02, -1.24511719e-01, -3.18359375e-01,\n",
       "       -2.20703125e-01,  1.30859375e-01,  3.66210938e-02, -3.63769531e-02,\n",
       "       -1.13281250e-01,  1.95312500e-01,  9.76562500e-02,  1.26953125e-01,\n",
       "        6.59179688e-02,  6.93359375e-02,  1.02539062e-02,  1.75781250e-01,\n",
       "       -1.68945312e-01,  1.21307373e-03, -2.98828125e-01, -1.15234375e-01,\n",
       "        5.66406250e-02, -1.77734375e-01, -2.08984375e-01,  1.76757812e-01,\n",
       "        2.38037109e-02, -2.57812500e-01, -4.46777344e-02,  1.88476562e-01,\n",
       "        5.51757812e-02,  5.02929688e-02, -1.06933594e-01,  1.89453125e-01,\n",
       "       -1.16210938e-01,  8.49609375e-02, -1.71875000e-01,  2.45117188e-01,\n",
       "       -1.73828125e-01, -8.30078125e-03,  4.56542969e-02, -1.61132812e-02,\n",
       "        1.86523438e-01, -6.05468750e-02, -4.17480469e-02,  1.82617188e-01,\n",
       "        2.20703125e-01, -1.22558594e-01, -2.55126953e-02, -3.08593750e-01,\n",
       "        9.13085938e-02,  1.60156250e-01,  1.70898438e-01,  1.19628906e-01,\n",
       "        7.08007812e-02, -2.64892578e-02, -3.08837891e-02,  4.06250000e-01,\n",
       "       -1.01562500e-01,  5.71289062e-02, -7.26318359e-03, -9.17968750e-02,\n",
       "       -1.50390625e-01, -2.55859375e-01,  2.16796875e-01, -3.63769531e-02,\n",
       "        2.24609375e-01,  8.00781250e-02,  1.56250000e-01,  5.27343750e-02,\n",
       "        1.50390625e-01, -1.14746094e-01, -8.64257812e-02,  1.19140625e-01,\n",
       "       -7.17773438e-02,  2.73437500e-01, -1.64062500e-01,  7.29370117e-03,\n",
       "        4.21875000e-01, -1.12792969e-01, -1.35742188e-01, -1.31835938e-01,\n",
       "       -1.37695312e-01, -7.66601562e-02,  6.25000000e-02,  4.98046875e-02,\n",
       "       -1.91406250e-01, -6.03027344e-02,  2.27539062e-01,  5.88378906e-02,\n",
       "       -3.24218750e-01,  5.41992188e-02, -1.35742188e-01,  8.17871094e-03,\n",
       "       -5.24902344e-02, -1.74713135e-03, -9.81445312e-02, -2.86865234e-02,\n",
       "        3.61328125e-02,  2.15820312e-01,  5.98144531e-02, -3.08593750e-01,\n",
       "       -2.27539062e-01,  2.61718750e-01,  9.86328125e-02, -5.07812500e-02,\n",
       "        1.78222656e-02,  1.31835938e-01, -5.35156250e-01, -1.81640625e-01,\n",
       "        1.38671875e-01, -3.10546875e-01, -9.71679688e-02,  1.31835938e-01,\n",
       "       -1.16210938e-01,  7.03125000e-02,  2.85156250e-01,  3.51562500e-02,\n",
       "       -1.01562500e-01, -3.75976562e-02,  1.41601562e-01,  1.42578125e-01,\n",
       "       -5.68847656e-02,  2.65625000e-01, -2.09960938e-01,  9.64355469e-03,\n",
       "       -6.68945312e-02, -4.83398438e-02, -6.10351562e-02,  2.45117188e-01,\n",
       "       -9.66796875e-02,  1.78222656e-02, -1.27929688e-01, -4.78515625e-02,\n",
       "       -7.26318359e-03,  1.79687500e-01,  2.78320312e-02, -2.10937500e-01,\n",
       "       -1.43554688e-01, -1.27929688e-01,  1.73339844e-02, -3.60107422e-03,\n",
       "       -2.04101562e-01,  3.63159180e-03, -1.19628906e-01, -6.15234375e-02,\n",
       "        5.93261719e-02, -3.23486328e-03, -1.70898438e-01, -3.14941406e-02,\n",
       "       -8.88671875e-02, -2.89062500e-01,  3.44238281e-02, -1.87500000e-01,\n",
       "        2.94921875e-01,  1.58203125e-01, -1.19628906e-01,  7.61718750e-02,\n",
       "        6.39648438e-02, -4.68750000e-02, -6.83593750e-02,  1.21459961e-02,\n",
       "       -1.44531250e-01,  4.54101562e-02,  3.68652344e-02,  3.88671875e-01,\n",
       "        1.45507812e-01, -2.55859375e-01, -4.46777344e-02, -1.33789062e-01,\n",
       "       -1.38671875e-01,  6.59179688e-02,  1.37695312e-01,  1.14746094e-01,\n",
       "        2.03125000e-01, -4.78515625e-02,  1.80664062e-02, -8.54492188e-02,\n",
       "       -2.48046875e-01, -3.39843750e-01, -2.83203125e-02,  1.05468750e-01,\n",
       "       -2.14843750e-01, -8.74023438e-02,  7.12890625e-02,  1.87500000e-01,\n",
       "       -1.12304688e-01,  2.73437500e-01, -3.26171875e-01, -1.77734375e-01,\n",
       "       -4.24804688e-02, -2.69531250e-01,  6.64062500e-02, -6.88476562e-02,\n",
       "       -1.99218750e-01, -7.03125000e-02, -2.43164062e-01, -3.66210938e-02,\n",
       "       -7.37304688e-02, -1.77734375e-01,  9.17968750e-02, -1.25000000e-01,\n",
       "       -1.65039062e-01, -3.57421875e-01, -2.85156250e-01, -1.66992188e-01,\n",
       "        1.97265625e-01, -1.53320312e-01,  2.31933594e-02,  2.06054688e-01,\n",
       "        1.80664062e-01, -2.74658203e-02, -1.92382812e-01, -9.61914062e-02,\n",
       "       -1.06811523e-02, -4.73632812e-02,  6.54296875e-02, -1.25732422e-02,\n",
       "        1.78222656e-02, -8.00781250e-02, -2.59765625e-01,  9.37500000e-02,\n",
       "       -7.81250000e-02,  4.68750000e-02, -2.22167969e-02,  1.86767578e-02,\n",
       "        3.11279297e-02,  1.04980469e-02, -1.69921875e-01,  2.58789062e-02,\n",
       "       -3.41796875e-02, -1.44042969e-02, -5.46875000e-02, -8.78906250e-02,\n",
       "        1.96838379e-03,  2.23632812e-01, -1.36718750e-01,  1.75781250e-01,\n",
       "       -1.63085938e-01,  1.87500000e-01,  3.44238281e-02, -5.63964844e-02,\n",
       "       -2.27689743e-05,  4.27246094e-02,  5.81054688e-02, -1.07910156e-01,\n",
       "       -3.88183594e-02, -2.69531250e-01,  3.34472656e-02,  9.81445312e-02,\n",
       "        5.63964844e-02,  2.23632812e-01, -5.49316406e-02,  1.46484375e-01,\n",
       "        5.93261719e-02, -2.19726562e-01,  6.39648438e-02,  1.66015625e-02,\n",
       "        4.56542969e-02,  3.26171875e-01, -3.80859375e-01,  1.70898438e-01,\n",
       "        5.66406250e-02, -1.04492188e-01,  1.38671875e-01, -1.57226562e-01,\n",
       "        3.23486328e-03, -4.80957031e-02, -2.48046875e-01, -6.20117188e-02],\n",
       "      dtype=float32)"
      ]
     },
     "execution_count": 14,
     "metadata": {},
     "output_type": "execute_result"
    }
   ],
   "source": [
    "from gensim.models import KeyedVectors\n",
    "\n",
    "word2vec_path = data_dir + 'GoogleNews-vectors-negative300.bin.gz'\n",
    "word2vec = KeyedVectors.load_word2vec_format(word2vec_path, binary=True, limit=1000000)\n",
    "vector = word2vec['computer']\n",
    "vector     # 무려 300dim의 워드 벡터입니다."
   ]
  },
  {
   "cell_type": "markdown",
   "id": "e5fd6a73",
   "metadata": {},
   "source": [
    "### 15. Word2Vec 유사도 테스트\n",
    "로드한 Word2Vec 모델을 사용하여 \"love\"와 가장 유사한 단어들을 확인해 봅니다."
   ]
  },
  {
   "cell_type": "code",
   "execution_count": 15,
   "id": "a528a8dc",
   "metadata": {},
   "outputs": [
    {
     "data": {
      "text/plain": [
       "[('loved', 0.6907791495323181),\n",
       " ('adore', 0.6816874146461487),\n",
       " ('loves', 0.6618633270263672),\n",
       " ('passion', 0.6100709438323975),\n",
       " ('hate', 0.6003956198692322),\n",
       " ('loving', 0.5886634588241577),\n",
       " ('affection', 0.5664337873458862),\n",
       " ('undying_love', 0.5547305345535278),\n",
       " ('absolutely_adore', 0.5536840558052063),\n",
       " ('adores', 0.5440906882286072)]"
      ]
     },
     "execution_count": 15,
     "metadata": {},
     "output_type": "execute_result"
    }
   ],
   "source": [
    "# 메모리를 다소 많이 소비하는 작업이니 유의해 주세요.\n",
    "word2vec.similar_by_word(\"love\")"
   ]
  },
  {
   "cell_type": "markdown",
   "id": "c448b3b8",
   "metadata": {},
   "source": [
    "### 16. Word2Vec 임베딩 행렬 생성\n",
    "우리의 단어 사전을 기준으로, 사전 훈련된 Word2Vec 벡터들을 복사하여 임베딩 행렬을 생성합니다. 이 행렬은 새로운 모델의 임베딩 레이어 가중치로 사용됩니다."
   ]
  },
  {
   "cell_type": "code",
   "execution_count": 16,
   "id": "1391de40",
   "metadata": {},
   "outputs": [],
   "source": [
    "vocab_size = 10000    # 어휘 사전의 크기입니다(10,000개의 단어)\n",
    "word_vector_dim = 300  # 워드 벡터의 차원수\n",
    "embedding_matrix = np.random.rand(vocab_size, word_vector_dim)\n",
    "\n",
    "# embedding_matrix에 Word2Vec 워드 벡터를 단어 하나씩마다 차례차례 카피한다.\n",
    "for i in range(4,vocab_size):\n",
    "    if index_to_word[i] in word2vec:\n",
    "        embedding_matrix[i] = word2vec[index_to_word[i]]"
   ]
  },
  {
   "cell_type": "code",
   "execution_count": 17,
   "id": "4d46f65f",
   "metadata": {},
   "outputs": [
    {
     "name": "stdout",
     "output_type": "stream",
     "text": [
      "Using device: mps\n",
      "Epoch 1/20 - Train Loss: 0.4672, Train Accuracy: 0.8333 - Validation Loss: 1.4885, Validation Accuracy: 0.0000\n",
      "Epoch 2/20 - Train Loss: 0.4567, Train Accuracy: 0.8333 - Validation Loss: 1.6272, Validation Accuracy: 0.0000\n",
      "Epoch 3/20 - Train Loss: 0.4530, Train Accuracy: 0.8333 - Validation Loss: 1.7351, Validation Accuracy: 0.0000\n",
      "Epoch 4/20 - Train Loss: 0.4511, Train Accuracy: 0.8333 - Validation Loss: 1.7735, Validation Accuracy: 0.0000\n",
      "Epoch 5/20 - Train Loss: 0.4497, Train Accuracy: 0.8333 - Validation Loss: 1.7813, Validation Accuracy: 0.0000\n",
      "Epoch 6/20 - Train Loss: 0.4512, Train Accuracy: 0.8333 - Validation Loss: 1.7813, Validation Accuracy: 0.0000\n",
      "Epoch 7/20 - Train Loss: 0.4488, Train Accuracy: 0.8333 - Validation Loss: 1.7815, Validation Accuracy: 0.0000\n",
      "Epoch 8/20 - Train Loss: 0.4476, Train Accuracy: 0.8333 - Validation Loss: 1.7929, Validation Accuracy: 0.0000\n",
      "Epoch 9/20 - Train Loss: 0.4470, Train Accuracy: 0.8333 - Validation Loss: 1.7871, Validation Accuracy: 0.0000\n",
      "Epoch 10/20 - Train Loss: 0.4469, Train Accuracy: 0.8333 - Validation Loss: 1.7993, Validation Accuracy: 0.0000\n",
      "Epoch 11/20 - Train Loss: 0.4470, Train Accuracy: 0.8333 - Validation Loss: 1.7824, Validation Accuracy: 0.0000\n",
      "Epoch 12/20 - Train Loss: 0.4485, Train Accuracy: 0.8333 - Validation Loss: 1.8089, Validation Accuracy: 0.0000\n",
      "Epoch 13/20 - Train Loss: 0.4478, Train Accuracy: 0.8333 - Validation Loss: 1.8029, Validation Accuracy: 0.0000\n",
      "Epoch 14/20 - Train Loss: 0.4434, Train Accuracy: 0.8333 - Validation Loss: 1.8156, Validation Accuracy: 0.0000\n",
      "Epoch 15/20 - Train Loss: 0.4451, Train Accuracy: 0.8333 - Validation Loss: 1.8099, Validation Accuracy: 0.0000\n",
      "Epoch 16/20 - Train Loss: 0.4425, Train Accuracy: 0.8333 - Validation Loss: 1.8094, Validation Accuracy: 0.0000\n",
      "Epoch 17/20 - Train Loss: 0.4399, Train Accuracy: 0.8333 - Validation Loss: 1.8166, Validation Accuracy: 0.0000\n",
      "Epoch 18/20 - Train Loss: 0.4412, Train Accuracy: 0.8333 - Validation Loss: 1.8286, Validation Accuracy: 0.0000\n",
      "Epoch 19/20 - Train Loss: 0.4390, Train Accuracy: 0.8333 - Validation Loss: 1.8376, Validation Accuracy: 0.0000\n",
      "Epoch 20/20 - Train Loss: 0.4384, Train Accuracy: 0.8333 - Validation Loss: 1.8457, Validation Accuracy: 0.0000\n"
     ]
    }
   ],
   "source": [
    "import torch.optim as optim\n",
    "from torch.utils.data import DataLoader, TensorDataset\n",
    "\n",
    "# MPS 장치 설정\n",
    "if torch.backends.mps.is_available():\n",
    "    device = torch.device(\"mps\")\n",
    "else:\n",
    "    device = torch.device(\"cpu\")\n",
    "print(f\"Using device: {device}\")\n",
    "\n",
    "model.to(device)\n",
    "\n",
    "optimizer = optim.Adam(model.parameters())\n",
    "loss_fn = torch.nn.BCELoss()\n",
    "\n",
    "# Replace out-of-vocab indices with <UNK> (2)\n",
    "def replace_oov_indices(arr, vocab_size, unk_idx=2):\n",
    "    arr = np.where(arr >= vocab_size, unk_idx, arr)\n",
    "    return arr\n",
    "\n",
    "partial_x_train_oov = replace_oov_indices(partial_x_train.numpy(), vocab_size)\n",
    "x_val_oov = replace_oov_indices(x_val.numpy(), vocab_size)\n",
    "\n",
    "partial_x_train_tensor = torch.tensor(partial_x_train_oov, dtype=torch.long)\n",
    "partial_y_train_tensor = torch.tensor(partial_y_train, dtype=torch.float)\n",
    "\n",
    "x_val_tensor = torch.tensor(x_val_oov, dtype=torch.long)\n",
    "y_val_tensor = torch.tensor(y_val, dtype=torch.float)\n",
    "\n",
    "train_dataset = TensorDataset(partial_x_train_tensor, partial_y_train_tensor)\n",
    "val_dataset = TensorDataset(x_val_tensor, y_val_tensor)\n",
    "\n",
    "train_loader = DataLoader(train_dataset, batch_size=512, shuffle=True)\n",
    "val_loader = DataLoader(val_dataset, batch_size=512, shuffle=False)\n",
    "\n",
    "epochs = 20   # 몇 epoch를 훈련하면 좋을지 결과를 보면서 바꾸어 봅시다.\n",
    "train_losses = []\n",
    "val_losses = []\n",
    "train_accs = []\n",
    "val_accs = []\n",
    "\n",
    "for epoch in range(epochs):\n",
    "    model.train()\n",
    "    running_loss = 0.0\n",
    "    correct = 0\n",
    "    total = 0\n",
    "\n",
    "    for inputs, labels in train_loader:\n",
    "        inputs, labels = inputs.to(device), labels.to(device)\n",
    "\n",
    "        optimizer.zero_grad()\n",
    "\n",
    "        outputs = model(inputs)\n",
    "        loss = loss_fn(outputs.squeeze(), labels)\n",
    "        loss.backward()\n",
    "        optimizer.step()\n",
    "\n",
    "        running_loss += loss.item()\n",
    "\n",
    "        predicted = (outputs.squeeze() > 0.5).float()\n",
    "        correct += (predicted == labels).sum().item()\n",
    "        total += labels.size(0)\n",
    "\n",
    "    train_losses.append(running_loss / len(train_loader))\n",
    "    train_accs.append(correct / total)\n",
    "\n",
    "    model.eval()\n",
    "    val_loss = 0.0\n",
    "    val_correct = 0\n",
    "    val_total = 0\n",
    "\n",
    "    with torch.no_grad():\n",
    "        for inputs, labels in val_loader:\n",
    "            inputs, labels = inputs.to(device), labels.to(device)\n",
    "\n",
    "            outputs = model(inputs)\n",
    "            loss = loss_fn(outputs.squeeze(), labels)\n",
    "\n",
    "            val_loss += loss.item()\n",
    "            predicted = (outputs.squeeze() > 0.5).float()\n",
    "            val_correct += (predicted == labels).sum().item()\n",
    "            val_total += labels.size(0)\n",
    "\n",
    "    val_losses.append(val_loss / len(val_loader))\n",
    "    val_accs.append(val_correct / val_total)\n",
    "\n",
    "    print(f\"Epoch {epoch+1}/{epochs} - \"\n",
    "          f\"Train Loss: {train_losses[-1]:.4f}, Train Accuracy: {train_accs[-1]:.4f} - \"\n",
    "          f\"Validation Loss: {val_losses[-1]:.4f}, Validation Accuracy: {val_accs[-1]:.4f}\")"
   ]
  },
  {
   "cell_type": "code",
   "execution_count": 20,
   "id": "6692082b",
   "metadata": {},
   "outputs": [
    {
     "name": "stdout",
     "output_type": "stream",
     "text": [
      "Test Loss: 1.0180, Test Accuracy: 0.5000\n"
     ]
    }
   ],
   "source": [
    "# 테스트셋을 통한 모델 평가\n",
    "model.eval()\n",
    "test_loss = 0.0\n",
    "test_correct = 0\n",
    "test_total = 0\n",
    "\n",
    "# 이미 x_test_tensor와 y_test는 이전 셀에서 정의되어 있습니다.\n",
    "test_dataset = TensorDataset(x_test_tensor, torch.tensor(y_test, dtype=torch.float))\n",
    "test_loader = DataLoader(test_dataset, batch_size=512, shuffle=False)\n",
    "\n",
    "with torch.no_grad():\n",
    "    for inputs, labels in test_loader:\n",
    "        inputs, labels = inputs.to(device), labels.to(device)\n",
    "        outputs = model(inputs)\n",
    "        loss = loss_fn(outputs.squeeze(), labels)\n",
    "\n",
    "        test_loss += loss.item()\n",
    "        predicted = (outputs.squeeze() > 0.5).float()\n",
    "        test_correct += (predicted == labels).sum().item()\n",
    "        test_total += labels.size(0)\n",
    "\n",
    "print(f\"Test Loss: {test_loss / len(test_loader):.4f}, Test Accuracy: {test_correct / test_total:.4f}\")"
   ]
  },
  {
   "cell_type": "markdown",
   "id": "cbb9ba3c",
   "metadata": {},
   "source": [
    "### 17. 1D-CNN 기반 새로운 모델 설계\n",
    "1D Convolutional Neural Network(CNN)를 기반으로 한 새로운 감성 분석 모델을 설계합니다. 이 모델은 Word2Vec으로 초기화된 임베딩 레이어를 사용하며, 두 개의 Conv1D 레이어와 두 개의 FC 레이어로 구성됩니다."
   ]
  },
  {
   "cell_type": "code",
   "execution_count": 21,
   "id": "22d9ea8d",
   "metadata": {},
   "outputs": [
    {
     "name": "stdout",
     "output_type": "stream",
     "text": [
      "SentimentModelCNN(\n",
      "  (embedding): Embedding(10000, 300)\n",
      "  (conv1): Conv1d(300, 16, kernel_size=(7,), stride=(1,))\n",
      "  (pool): MaxPool1d(kernel_size=5, stride=5, padding=0, dilation=1, ceil_mode=False)\n",
      "  (conv2): Conv1d(16, 16, kernel_size=(7,), stride=(1,))\n",
      "  (global_max_pool): AdaptiveMaxPool1d(output_size=1)\n",
      "  (fc1): Linear(in_features=16, out_features=8, bias=True)\n",
      "  (fc2): Linear(in_features=8, out_features=1, bias=True)\n",
      ")\n"
     ]
    }
   ],
   "source": [
    "class SentimentModelCNN(nn.Module):\n",
    "    def __init__(self, vocab_size, word_vector_dim, embedding_matrix, maxlen):\n",
    "        super(SentimentModelCNN, self).__init__()\n",
    "        self.embedding = nn.Embedding(vocab_size, word_vector_dim)    # 카피한 임베딩을 여기서 활용\n",
    "        self.embedding.weight = nn.Parameter(torch.tensor(embedding_matrix, dtype=torch.float32))\n",
    "        self.embedding.weight.requires_grad = True\n",
    "        self.conv1 = nn.Conv1d(in_channels=word_vector_dim, out_channels=16, kernel_size=7)\n",
    "        self.pool = nn.MaxPool1d(kernel_size=5)\n",
    "        self.conv2 = nn.Conv1d(in_channels=16, out_channels=16, kernel_size=7)\n",
    "        self.global_max_pool = nn.AdaptiveMaxPool1d(1)\n",
    "        self.fc1 = nn.Linear(16, 8)\n",
    "        self.fc2 = nn.Linear(8, 1)\n",
    "\n",
    "    def forward(self, x):\n",
    "        x = self.embedding(x)\n",
    "        x = x.permute(0, 2, 1)\n",
    "        x = F.relu(self.conv1(x))\n",
    "        x = self.pool(x)\n",
    "        x = F.relu(self.conv2(x))\n",
    "        x = self.global_max_pool(x).squeeze(2)\n",
    "        x = F.relu(self.fc1(x))\n",
    "        x = torch.sigmoid(self.fc2(x))\n",
    "        return x\n",
    "\n",
    "model_cnn = SentimentModelCNN(vocab_size, word_vector_dim, embedding_matrix, maxlen)\n",
    "print(model_cnn)"
   ]
  },
  {
   "cell_type": "markdown",
   "id": "b06826e6",
   "metadata": {},
   "source": [
    "### 18. 1D-CNN 모델 훈련 및 검증 (MPS 가속 적용)\n",
    "새로운 1D-CNN 모델의 훈련을 시작합니다. 이전과 동일하게 MPS 가속을 적용하여 효율적으로 학습을 진행합니다."
   ]
  },
  {
   "cell_type": "code",
   "execution_count": 22,
   "id": "3be6299b",
   "metadata": {},
   "outputs": [
    {
     "name": "stdout",
     "output_type": "stream",
     "text": [
      "Epoch 1/10 - Train Loss: 0.4854, Train Accuracy: 0.8333 - Validation Loss: 1.6254, Validation Accuracy: 0.0000\n",
      "Epoch 2/10 - Train Loss: 0.4493, Train Accuracy: 0.8333 - Validation Loss: 1.7178, Validation Accuracy: 0.0000\n",
      "Epoch 3/10 - Train Loss: 0.4509, Train Accuracy: 0.8333 - Validation Loss: 1.8050, Validation Accuracy: 0.0000\n",
      "Epoch 4/10 - Train Loss: 0.4448, Train Accuracy: 0.8333 - Validation Loss: 1.7783, Validation Accuracy: 0.0000\n",
      "Epoch 5/10 - Train Loss: 0.4393, Train Accuracy: 0.8333 - Validation Loss: 1.7569, Validation Accuracy: 0.0000\n",
      "Epoch 6/10 - Train Loss: 0.4027, Train Accuracy: 0.8333 - Validation Loss: 1.5387, Validation Accuracy: 0.0158\n",
      "Epoch 7/10 - Train Loss: 0.3280, Train Accuracy: 0.8574 - Validation Loss: 1.4813, Validation Accuracy: 0.1974\n",
      "Epoch 8/10 - Train Loss: 0.2640, Train Accuracy: 0.8902 - Validation Loss: 1.5889, Validation Accuracy: 0.2523\n",
      "Epoch 9/10 - Train Loss: 0.2057, Train Accuracy: 0.9190 - Validation Loss: 1.4268, Validation Accuracy: 0.3876\n",
      "Epoch 10/10 - Train Loss: 0.1685, Train Accuracy: 0.9375 - Validation Loss: 1.3726, Validation Accuracy: 0.4685\n"
     ]
    }
   ],
   "source": [
    "import torch.optim as optim\n",
    "from torch.utils.data import DataLoader, TensorDataset\n",
    "\n",
    "model_cnn.to(device) # 모델을 MPS 장치로 이동\n",
    "\n",
    "optimizer = optim.Adam(model_cnn.parameters(), lr=0.001)\n",
    "loss_fn = torch.nn.BCELoss()\n",
    "\n",
    "# 학습의 진행\n",
    "epochs = 10    # 몇 epoch를 훈련하면 좋을지 결과를 보면서 바꾸어 봅시다.\n",
    "train_losses_cnn = []\n",
    "val_losses_cnn = []\n",
    "train_accs_cnn = []\n",
    "val_accs_cnn = []\n",
    "\n",
    "for epoch in range(epochs):\n",
    "    model_cnn.train()\n",
    "    running_loss = 0.0\n",
    "    correct = 0\n",
    "    total = 0\n",
    "\n",
    "    for inputs, labels in train_loader:\n",
    "        inputs, labels = inputs.to(device), labels.to(device) # 데이터도 MPS 장치로 이동\n",
    "        optimizer.zero_grad()\n",
    "\n",
    "        # 입력 데이터의 인덱스가 vocab_size(10000) 이상이면 <UNK>(2)로 치환\n",
    "        inputs = torch.where(inputs >= vocab_size, torch.tensor(2, dtype=inputs.dtype, device=device), inputs)\n",
    "        outputs = model_cnn(inputs)\n",
    "        loss = loss_fn(outputs.squeeze(), labels)\n",
    "        loss.backward()\n",
    "        optimizer.step()\n",
    "\n",
    "        running_loss += loss.item()\n",
    "        predicted = (outputs.squeeze() > 0.5).float()\n",
    "        correct += (predicted == labels).sum().item()\n",
    "        total += labels.size(0)\n",
    "\n",
    "    train_losses_cnn.append(running_loss / len(train_loader))\n",
    "    train_accs_cnn.append(correct / total)\n",
    "\n",
    "    model_cnn.eval()\n",
    "    val_loss = 0.0\n",
    "    val_correct = 0\n",
    "    val_total = 0\n",
    "\n",
    "    with torch.no_grad():\n",
    "        for inputs, labels in val_loader:\n",
    "            inputs, labels = inputs.to(device), labels.to(device) # 데이터도 MPS 장치로 이동\n",
    "            outputs = model_cnn(inputs)\n",
    "            loss = loss_fn(outputs.squeeze(), labels)\n",
    "\n",
    "            val_loss += loss.item()\n",
    "            predicted = (outputs.squeeze() > 0.5).float()\n",
    "            val_correct += (predicted == labels).sum().item()\n",
    "            val_total += labels.size(0)\n",
    "\n",
    "    val_losses_cnn.append(val_loss / len(val_loader))\n",
    "    val_accs_cnn.append(val_correct / val_total)\n",
    "\n",
    "    print(f\"Epoch {epoch+1}/{epochs} - \"\n",
    "          f\"Train Loss: {train_losses_cnn[-1]:.4f}, Train Accuracy: {train_accs_cnn[-1]:.4f} - \"\n",
    "          f\"Validation Loss: {val_losses_cnn[-1]:.4f}, Validation Accuracy: {val_accs_cnn[-1]:.4f}\")"
   ]
  },
  {
   "cell_type": "markdown",
   "id": "6f12c5ea",
   "metadata": {},
   "source": [
    "### 19. 1D-CNN 모델 최종 평가\n",
    "학습된 1D-CNN 모델의 최종 성능을 테스트셋으로 평가합니다."
   ]
  },
  {
   "cell_type": "code",
   "execution_count": 23,
   "id": "4c44d67c",
   "metadata": {},
   "outputs": [
    {
     "name": "stdout",
     "output_type": "stream",
     "text": [
      "Test Loss: 0.8621, Test Accuracy: 0.6810\n"
     ]
    }
   ],
   "source": [
    "# 테스트셋을 통한 모델 평가\n",
    "model_cnn.eval()\n",
    "test_loss = 0.0\n",
    "test_correct = 0\n",
    "test_total = 0\n",
    "\n",
    "test_loader = DataLoader(test_dataset, batch_size=512, shuffle=False)\n",
    "\n",
    "with torch.no_grad():\n",
    "    for inputs, labels in test_loader:\n",
    "        inputs, labels = inputs.to(device), labels.to(device) # 데이터도 MPS 장치로 이동\n",
    "        outputs = model_cnn(inputs)\n",
    "        loss = loss_fn(outputs.squeeze(), labels)\n",
    "\n",
    "        test_loss += loss.item()\n",
    "        predicted = (outputs.squeeze() > 0.5).float()\n",
    "        test_correct += (predicted == labels).sum().item()\n",
    "        test_total += labels.size(0)\n",
    "\n",
    "print(f\"Test Loss: {test_loss / len(test_loader):.4f}, Test Accuracy: {test_correct / test_total:.4f}\")"
   ]
  }
 ],
 "metadata": {
  "kernelspec": {
   "display_name": "movie-review",
   "language": "python",
   "name": "python3"
  },
  "language_info": {
   "codemirror_mode": {
    "name": "ipython",
    "version": 3
   },
   "file_extension": ".py",
   "mimetype": "text/x-python",
   "name": "python",
   "nbconvert_exporter": "python",
   "pygments_lexer": "ipython3",
   "version": "3.12.11"
  }
 },
 "nbformat": 4,
 "nbformat_minor": 5
}
