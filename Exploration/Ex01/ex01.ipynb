{
 "cells": [
  {
   "cell_type": "code",
   "execution_count": null,
   "id": "7d456351",
   "metadata": {},
   "outputs": [],
   "source": [
    "print('hello exploration 01!')"
   ]
  }
 ],
 "metadata": {
  "language_info": {
   "name": "python"
  }
 },
 "nbformat": 4,
 "nbformat_minor": 5
}
